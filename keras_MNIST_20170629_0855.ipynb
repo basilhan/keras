{
 "cells": [
  {
   "cell_type": "code",
   "execution_count": 1,
   "metadata": {
    "collapsed": false
   },
   "outputs": [
    {
     "name": "stderr",
     "output_type": "stream",
     "text": [
      "Using TensorFlow backend.\n"
     ]
    }
   ],
   "source": [
    "import numpy as np\n",
    "import matplotlib.pyplot as plt\n",
    "import time\n",
    "from keras.datasets import mnist\n",
    "from keras.models import Sequential\n",
    "from keras.layers.core import Dense, Dropout, Activation\n",
    "from keras.layers.normalization import BatchNormalization\n",
    "from keras.optimizers import SGD, Adam, Adamax, RMSprop, Adagrad, Adadelta, Nadam\n",
    "from keras.utils import np_utils\n",
    "from tensorflow import set_random_seed"
   ]
  },
  {
   "cell_type": "code",
   "execution_count": 2,
   "metadata": {
    "collapsed": false
   },
   "outputs": [],
   "source": [
    "np.random.seed(2015)\n",
    "set_random_seed(2015)"
   ]
  },
  {
   "cell_type": "code",
   "execution_count": 3,
   "metadata": {
    "collapsed": false
   },
   "outputs": [],
   "source": [
    "# Load data\n",
    "(X_train, y_train), (X_test, y_test) = mnist.load_data()"
   ]
  },
  {
   "cell_type": "code",
   "execution_count": 4,
   "metadata": {
    "collapsed": false
   },
   "outputs": [
    {
     "name": "stdout",
     "output_type": "stream",
     "text": [
      "60000 training samples\n",
      "10000 testing samples\n"
     ]
    }
   ],
   "source": [
    "# Preprocessing\n",
    "X_train = X_train.reshape(60000, 784)\n",
    "X_test  = X_test.reshape(10000, 784)\n",
    "X_train = X_train.astype(\"float32\")\n",
    "X_test  = X_test.astype(\"float32\")\n",
    "X_train /= 255\n",
    "X_test  /= 255\n",
    "print(X_train.shape[0], \"training samples\")\n",
    "print(X_test.shape[0], \"testing samples\")"
   ]
  },
  {
   "cell_type": "code",
   "execution_count": 5,
   "metadata": {
    "collapsed": true
   },
   "outputs": [],
   "source": [
    "# Convert labels to one-hot encoding\n",
    "# e.g. 1 -> array([ 0.,  1.,  0.,  0.,  0.,  0.,  0.,  0.,  0.,  0.])\n",
    "y_train = np_utils.to_categorical(y_train, 10)\n",
    "y_test = np_utils.to_categorical(y_test, 10)"
   ]
  },
  {
   "cell_type": "markdown",
   "metadata": {},
   "source": [
    "The argument *input_dim* is equivalent to *input_shape* ([reference](https://keras.io/getting-started/sequential-model-guide/))."
   ]
  },
  {
   "cell_type": "code",
   "execution_count": 6,
   "metadata": {
    "collapsed": false
   },
   "outputs": [],
   "source": [
    "# Define the model\n",
    "model = Sequential([\n",
    "        Dense(128, input_dim=784), Activation(\"relu\"), Dropout(0.27),\n",
    "        Dense(128), Activation(\"relu\"), Dropout(0.27),\n",
    "        Dense(10), Activation(\"softmax\")\n",
    "    ])"
   ]
  },
  {
   "cell_type": "code",
   "execution_count": 7,
   "metadata": {
    "collapsed": false
   },
   "outputs": [
    {
     "name": "stdout",
     "output_type": "stream",
     "text": [
      "_________________________________________________________________\n",
      "Layer (type)                 Output Shape              Param #   \n",
      "=================================================================\n",
      "dense_1 (Dense)              (None, 128)               100480    \n",
      "_________________________________________________________________\n",
      "activation_1 (Activation)    (None, 128)               0         \n",
      "_________________________________________________________________\n",
      "dropout_1 (Dropout)          (None, 128)               0         \n",
      "_________________________________________________________________\n",
      "dense_2 (Dense)              (None, 128)               16512     \n",
      "_________________________________________________________________\n",
      "activation_2 (Activation)    (None, 128)               0         \n",
      "_________________________________________________________________\n",
      "dropout_2 (Dropout)          (None, 128)               0         \n",
      "_________________________________________________________________\n",
      "dense_3 (Dense)              (None, 10)                1290      \n",
      "_________________________________________________________________\n",
      "activation_3 (Activation)    (None, 10)                0         \n",
      "=================================================================\n",
      "Total params: 118,282\n",
      "Trainable params: 118,282\n",
      "Non-trainable params: 0\n",
      "_________________________________________________________________\n"
     ]
    }
   ],
   "source": [
    "model.summary()"
   ]
  },
  {
   "cell_type": "code",
   "execution_count": 8,
   "metadata": {
    "collapsed": false
   },
   "outputs": [],
   "source": [
    "model.compile(loss=\"categorical_crossentropy\",\n",
    "              optimizer=SGD(),\n",
    "              metrics=[\"accuracy\"])"
   ]
  },
  {
   "cell_type": "code",
   "execution_count": 9,
   "metadata": {
    "collapsed": false
   },
   "outputs": [
    {
     "name": "stdout",
     "output_type": "stream",
     "text": [
      "Train on 48000 samples, validate on 12000 samples\n",
      "Epoch 1/200\n",
      "48000/48000 [==============================] - 2s - loss: 1.7082 - acc: 0.4586 - val_loss: 0.9177 - val_acc: 0.8232\n",
      "Epoch 2/200\n",
      "48000/48000 [==============================] - 2s - loss: 0.8951 - acc: 0.7261 - val_loss: 0.5255 - val_acc: 0.8708\n",
      "Epoch 3/200\n",
      "48000/48000 [==============================] - 2s - loss: 0.6692 - acc: 0.7949 - val_loss: 0.4182 - val_acc: 0.8887\n",
      "Epoch 4/200\n",
      "48000/48000 [==============================] - 2s - loss: 0.5738 - acc: 0.8260 - val_loss: 0.3669 - val_acc: 0.8971\n",
      "Epoch 5/200\n",
      "48000/48000 [==============================] - 2s - loss: 0.5104 - acc: 0.8456 - val_loss: 0.3356 - val_acc: 0.9068\n",
      "Epoch 6/200\n",
      "48000/48000 [==============================] - 2s - loss: 0.4706 - acc: 0.8583 - val_loss: 0.3121 - val_acc: 0.9121\n",
      "Epoch 7/200\n",
      "48000/48000 [==============================] - 2s - loss: 0.4408 - acc: 0.8680 - val_loss: 0.2957 - val_acc: 0.9152\n",
      "Epoch 8/200\n",
      "48000/48000 [==============================] - 2s - loss: 0.4142 - acc: 0.8777 - val_loss: 0.2798 - val_acc: 0.9181\n",
      "Epoch 9/200\n",
      "48000/48000 [==============================] - 2s - loss: 0.3980 - acc: 0.8810 - val_loss: 0.2684 - val_acc: 0.9225\n",
      "Epoch 10/200\n",
      "48000/48000 [==============================] - 2s - loss: 0.3804 - acc: 0.8873 - val_loss: 0.2587 - val_acc: 0.9251\n",
      "Epoch 11/200\n",
      "48000/48000 [==============================] - 2s - loss: 0.3640 - acc: 0.8926 - val_loss: 0.2487 - val_acc: 0.9282\n",
      "Epoch 12/200\n",
      "48000/48000 [==============================] - 2s - loss: 0.3520 - acc: 0.8962 - val_loss: 0.2393 - val_acc: 0.9301\n",
      "Epoch 13/200\n",
      "48000/48000 [==============================] - 2s - loss: 0.3371 - acc: 0.9005 - val_loss: 0.2309 - val_acc: 0.9337\n",
      "Epoch 14/200\n",
      "48000/48000 [==============================] - 2s - loss: 0.3273 - acc: 0.9028 - val_loss: 0.2251 - val_acc: 0.9348\n",
      "Epoch 15/200\n",
      "48000/48000 [==============================] - 2s - loss: 0.3165 - acc: 0.9076 - val_loss: 0.2173 - val_acc: 0.9369\n",
      "Epoch 16/200\n",
      "48000/48000 [==============================] - 2s - loss: 0.3076 - acc: 0.9104 - val_loss: 0.2120 - val_acc: 0.9376\n",
      "Epoch 17/200\n",
      "48000/48000 [==============================] - 2s - loss: 0.2987 - acc: 0.9105 - val_loss: 0.2058 - val_acc: 0.9408\n",
      "Epoch 18/200\n",
      "48000/48000 [==============================] - 2s - loss: 0.2891 - acc: 0.9163 - val_loss: 0.2008 - val_acc: 0.9414\n",
      "Epoch 19/200\n",
      "48000/48000 [==============================] - 2s - loss: 0.2870 - acc: 0.9165 - val_loss: 0.1961 - val_acc: 0.9428\n",
      "Epoch 20/200\n",
      "48000/48000 [==============================] - 2s - loss: 0.2765 - acc: 0.9200 - val_loss: 0.1919 - val_acc: 0.9442\n",
      "Epoch 21/200\n",
      "48000/48000 [==============================] - 2s - loss: 0.2696 - acc: 0.9198 - val_loss: 0.1873 - val_acc: 0.9463\n",
      "Epoch 22/200\n",
      "48000/48000 [==============================] - 2s - loss: 0.2637 - acc: 0.9217 - val_loss: 0.1840 - val_acc: 0.9464\n",
      "Epoch 23/200\n",
      "48000/48000 [==============================] - 2s - loss: 0.2569 - acc: 0.9229 - val_loss: 0.1797 - val_acc: 0.9484\n",
      "Epoch 24/200\n",
      "48000/48000 [==============================] - 2s - loss: 0.2538 - acc: 0.9257 - val_loss: 0.1759 - val_acc: 0.9499\n",
      "Epoch 25/200\n",
      "48000/48000 [==============================] - 2s - loss: 0.2465 - acc: 0.9279 - val_loss: 0.1730 - val_acc: 0.9503\n",
      "Epoch 26/200\n",
      "48000/48000 [==============================] - 2s - loss: 0.2460 - acc: 0.9285 - val_loss: 0.1700 - val_acc: 0.9505\n",
      "Epoch 27/200\n",
      "48000/48000 [==============================] - 2s - loss: 0.2360 - acc: 0.9306 - val_loss: 0.1662 - val_acc: 0.9518\n",
      "Epoch 28/200\n",
      "48000/48000 [==============================] - 2s - loss: 0.2344 - acc: 0.9313 - val_loss: 0.1638 - val_acc: 0.9521\n",
      "Epoch 29/200\n",
      "48000/48000 [==============================] - 2s - loss: 0.2340 - acc: 0.9318 - val_loss: 0.1615 - val_acc: 0.9529\n",
      "Epoch 30/200\n",
      "48000/48000 [==============================] - 2s - loss: 0.2268 - acc: 0.9337 - val_loss: 0.1589 - val_acc: 0.9536\n",
      "Epoch 31/200\n",
      "48000/48000 [==============================] - 2s - loss: 0.2203 - acc: 0.9353 - val_loss: 0.1563 - val_acc: 0.9541\n",
      "Epoch 32/200\n",
      "48000/48000 [==============================] - 2s - loss: 0.2173 - acc: 0.9347 - val_loss: 0.1539 - val_acc: 0.9554\n",
      "Epoch 33/200\n",
      "48000/48000 [==============================] - 2s - loss: 0.2157 - acc: 0.9368 - val_loss: 0.1515 - val_acc: 0.9563\n",
      "Epoch 34/200\n",
      "48000/48000 [==============================] - 2s - loss: 0.2081 - acc: 0.9389 - val_loss: 0.1488 - val_acc: 0.9569\n",
      "Epoch 35/200\n",
      "48000/48000 [==============================] - 2s - loss: 0.2076 - acc: 0.9372 - val_loss: 0.1478 - val_acc: 0.9566\n",
      "Epoch 36/200\n",
      "48000/48000 [==============================] - 2s - loss: 0.2049 - acc: 0.9396 - val_loss: 0.1455 - val_acc: 0.9573\n",
      "Epoch 37/200\n",
      "48000/48000 [==============================] - 2s - loss: 0.2044 - acc: 0.9392 - val_loss: 0.1441 - val_acc: 0.9580\n",
      "Epoch 38/200\n",
      "48000/48000 [==============================] - 2s - loss: 0.2000 - acc: 0.9399 - val_loss: 0.1422 - val_acc: 0.9588\n",
      "Epoch 39/200\n",
      "48000/48000 [==============================] - 2s - loss: 0.1949 - acc: 0.9425 - val_loss: 0.1406 - val_acc: 0.9592\n",
      "Epoch 40/200\n",
      "48000/48000 [==============================] - 2s - loss: 0.1944 - acc: 0.9427 - val_loss: 0.1382 - val_acc: 0.9604\n",
      "Epoch 41/200\n",
      "48000/48000 [==============================] - 2s - loss: 0.1904 - acc: 0.9427 - val_loss: 0.1371 - val_acc: 0.9607\n",
      "Epoch 42/200\n",
      "48000/48000 [==============================] - 2s - loss: 0.1897 - acc: 0.9441 - val_loss: 0.1351 - val_acc: 0.9610\n",
      "Epoch 43/200\n",
      "48000/48000 [==============================] - 2s - loss: 0.1874 - acc: 0.9433 - val_loss: 0.1329 - val_acc: 0.9621\n",
      "Epoch 44/200\n",
      "48000/48000 [==============================] - 2s - loss: 0.1849 - acc: 0.9458 - val_loss: 0.1325 - val_acc: 0.9621\n",
      "Epoch 45/200\n",
      "48000/48000 [==============================] - 2s - loss: 0.1805 - acc: 0.9462 - val_loss: 0.1309 - val_acc: 0.9619\n",
      "Epoch 46/200\n",
      "48000/48000 [==============================] - 2s - loss: 0.1789 - acc: 0.9467 - val_loss: 0.1294 - val_acc: 0.9623\n",
      "Epoch 47/200\n",
      "48000/48000 [==============================] - 2s - loss: 0.1771 - acc: 0.9483 - val_loss: 0.1286 - val_acc: 0.9627\n",
      "Epoch 48/200\n",
      "48000/48000 [==============================] - 2s - loss: 0.1738 - acc: 0.9497 - val_loss: 0.1277 - val_acc: 0.9627\n",
      "Epoch 49/200\n",
      "48000/48000 [==============================] - 2s - loss: 0.1756 - acc: 0.9479 - val_loss: 0.1261 - val_acc: 0.9630\n",
      "Epoch 50/200\n",
      "48000/48000 [==============================] - 2s - loss: 0.1698 - acc: 0.9498 - val_loss: 0.1246 - val_acc: 0.9638\n",
      "Epoch 51/200\n",
      "48000/48000 [==============================] - 2s - loss: 0.1669 - acc: 0.9502 - val_loss: 0.1238 - val_acc: 0.9637\n",
      "Epoch 52/200\n",
      "48000/48000 [==============================] - 2s - loss: 0.1685 - acc: 0.9504 - val_loss: 0.1222 - val_acc: 0.9640\n",
      "Epoch 53/200\n",
      "48000/48000 [==============================] - 2s - loss: 0.1651 - acc: 0.9506 - val_loss: 0.1213 - val_acc: 0.9645\n",
      "Epoch 54/200\n",
      "48000/48000 [==============================] - 2s - loss: 0.1626 - acc: 0.9524 - val_loss: 0.1203 - val_acc: 0.9644\n",
      "Epoch 55/200\n",
      "48000/48000 [==============================] - 2s - loss: 0.1627 - acc: 0.9516 - val_loss: 0.1189 - val_acc: 0.9646\n",
      "Epoch 56/200\n",
      "48000/48000 [==============================] - 2s - loss: 0.1644 - acc: 0.9514 - val_loss: 0.1180 - val_acc: 0.9651\n",
      "Epoch 57/200\n",
      "48000/48000 [==============================] - 2s - loss: 0.1597 - acc: 0.9531 - val_loss: 0.1176 - val_acc: 0.9649\n",
      "Epoch 58/200\n",
      "48000/48000 [==============================] - 2s - loss: 0.1571 - acc: 0.9534 - val_loss: 0.1172 - val_acc: 0.9652\n",
      "Epoch 59/200\n",
      "48000/48000 [==============================] - 2s - loss: 0.1543 - acc: 0.9546 - val_loss: 0.1157 - val_acc: 0.9653\n",
      "Epoch 60/200\n",
      "48000/48000 [==============================] - 2s - loss: 0.1540 - acc: 0.9541 - val_loss: 0.1147 - val_acc: 0.9668\n",
      "Epoch 61/200\n",
      "48000/48000 [==============================] - 2s - loss: 0.1546 - acc: 0.9550 - val_loss: 0.1142 - val_acc: 0.9661\n",
      "Epoch 62/200\n",
      "48000/48000 [==============================] - 2s - loss: 0.1514 - acc: 0.9562 - val_loss: 0.1134 - val_acc: 0.9666\n",
      "Epoch 63/200\n",
      "48000/48000 [==============================] - 2s - loss: 0.1508 - acc: 0.9551 - val_loss: 0.1128 - val_acc: 0.9666\n",
      "Epoch 64/200\n",
      "48000/48000 [==============================] - 2s - loss: 0.1463 - acc: 0.9563 - val_loss: 0.1124 - val_acc: 0.9668\n",
      "Epoch 65/200\n",
      "48000/48000 [==============================] - 2s - loss: 0.1458 - acc: 0.9567 - val_loss: 0.1113 - val_acc: 0.9672\n",
      "Epoch 66/200\n",
      "48000/48000 [==============================] - 2s - loss: 0.1482 - acc: 0.9554 - val_loss: 0.1106 - val_acc: 0.9673\n",
      "Epoch 67/200\n",
      "48000/48000 [==============================] - 2s - loss: 0.1437 - acc: 0.9577 - val_loss: 0.1094 - val_acc: 0.9673\n",
      "Epoch 68/200\n",
      "48000/48000 [==============================] - 2s - loss: 0.1439 - acc: 0.9570 - val_loss: 0.1088 - val_acc: 0.9682\n",
      "Epoch 69/200\n",
      "48000/48000 [==============================] - 2s - loss: 0.1439 - acc: 0.9569 - val_loss: 0.1081 - val_acc: 0.9684\n",
      "Epoch 70/200\n",
      "48000/48000 [==============================] - 2s - loss: 0.1416 - acc: 0.9580 - val_loss: 0.1076 - val_acc: 0.9688\n",
      "Epoch 71/200\n",
      "48000/48000 [==============================] - 2s - loss: 0.1372 - acc: 0.9583 - val_loss: 0.1073 - val_acc: 0.9682\n",
      "Epoch 72/200\n",
      "48000/48000 [==============================] - 2s - loss: 0.1373 - acc: 0.9600 - val_loss: 0.1067 - val_acc: 0.9684\n",
      "Epoch 73/200\n",
      "48000/48000 [==============================] - 2s - loss: 0.1397 - acc: 0.9580 - val_loss: 0.1058 - val_acc: 0.9689\n",
      "Epoch 74/200\n",
      "48000/48000 [==============================] - 2s - loss: 0.1363 - acc: 0.9581 - val_loss: 0.1056 - val_acc: 0.9690\n",
      "Epoch 75/200\n",
      "48000/48000 [==============================] - 2s - loss: 0.1356 - acc: 0.9599 - val_loss: 0.1052 - val_acc: 0.9685\n",
      "Epoch 76/200\n",
      "48000/48000 [==============================] - 2s - loss: 0.1352 - acc: 0.9598 - val_loss: 0.1048 - val_acc: 0.9694\n",
      "Epoch 77/200\n",
      "48000/48000 [==============================] - 2s - loss: 0.1309 - acc: 0.9602 - val_loss: 0.1045 - val_acc: 0.9697\n",
      "Epoch 78/200\n",
      "48000/48000 [==============================] - 2s - loss: 0.1299 - acc: 0.9615 - val_loss: 0.1028 - val_acc: 0.9698\n",
      "Epoch 79/200\n",
      "48000/48000 [==============================] - 2s - loss: 0.1316 - acc: 0.9608 - val_loss: 0.1027 - val_acc: 0.9701\n",
      "Epoch 80/200\n",
      "48000/48000 [==============================] - 2s - loss: 0.1308 - acc: 0.9609 - val_loss: 0.1017 - val_acc: 0.9699\n",
      "Epoch 81/200\n",
      "48000/48000 [==============================] - 2s - loss: 0.1288 - acc: 0.9616 - val_loss: 0.1017 - val_acc: 0.9700\n",
      "Epoch 82/200\n",
      "48000/48000 [==============================] - 2s - loss: 0.1285 - acc: 0.9618 - val_loss: 0.1009 - val_acc: 0.9702\n",
      "Epoch 83/200\n",
      "48000/48000 [==============================] - 2s - loss: 0.1264 - acc: 0.9625 - val_loss: 0.1008 - val_acc: 0.9702\n",
      "Epoch 84/200\n",
      "48000/48000 [==============================] - 2s - loss: 0.1238 - acc: 0.9638 - val_loss: 0.1002 - val_acc: 0.9707\n",
      "Epoch 85/200\n",
      "48000/48000 [==============================] - 2s - loss: 0.1248 - acc: 0.9629 - val_loss: 0.0999 - val_acc: 0.9702\n",
      "Epoch 86/200\n",
      "48000/48000 [==============================] - 2s - loss: 0.1235 - acc: 0.9626 - val_loss: 0.0993 - val_acc: 0.9701\n",
      "Epoch 87/200\n",
      "48000/48000 [==============================] - 2s - loss: 0.1236 - acc: 0.9633 - val_loss: 0.0992 - val_acc: 0.9705\n",
      "Epoch 88/200\n",
      "48000/48000 [==============================] - 2s - loss: 0.1233 - acc: 0.9631 - val_loss: 0.0982 - val_acc: 0.9706\n",
      "Epoch 89/200\n",
      "48000/48000 [==============================] - 2s - loss: 0.1204 - acc: 0.9651 - val_loss: 0.0982 - val_acc: 0.9708\n",
      "Epoch 90/200\n",
      "48000/48000 [==============================] - 2s - loss: 0.1191 - acc: 0.9647 - val_loss: 0.0975 - val_acc: 0.9708\n",
      "Epoch 91/200\n",
      "48000/48000 [==============================] - 2s - loss: 0.1212 - acc: 0.9644 - val_loss: 0.0974 - val_acc: 0.9712\n",
      "Epoch 92/200\n",
      "48000/48000 [==============================] - 2s - loss: 0.1199 - acc: 0.9644 - val_loss: 0.0968 - val_acc: 0.9713\n",
      "Epoch 93/200\n",
      "48000/48000 [==============================] - 2s - loss: 0.1156 - acc: 0.9649 - val_loss: 0.0968 - val_acc: 0.9713\n",
      "Epoch 94/200\n",
      "48000/48000 [==============================] - 2s - loss: 0.1168 - acc: 0.9650 - val_loss: 0.0959 - val_acc: 0.9710\n",
      "Epoch 95/200\n",
      "48000/48000 [==============================] - 2s - loss: 0.1171 - acc: 0.9649 - val_loss: 0.0959 - val_acc: 0.9711\n",
      "Epoch 96/200\n",
      "48000/48000 [==============================] - 2s - loss: 0.1166 - acc: 0.9652 - val_loss: 0.0956 - val_acc: 0.9709\n",
      "Epoch 97/200\n",
      "48000/48000 [==============================] - 2s - loss: 0.1158 - acc: 0.9650 - val_loss: 0.0948 - val_acc: 0.9717\n",
      "Epoch 98/200\n",
      "48000/48000 [==============================] - 2s - loss: 0.1141 - acc: 0.9659 - val_loss: 0.0942 - val_acc: 0.9713\n",
      "Epoch 99/200\n",
      "48000/48000 [==============================] - 2s - loss: 0.1127 - acc: 0.9663 - val_loss: 0.0944 - val_acc: 0.9716\n",
      "Epoch 100/200\n",
      "48000/48000 [==============================] - 2s - loss: 0.1124 - acc: 0.9658 - val_loss: 0.0938 - val_acc: 0.9722\n",
      "Epoch 101/200\n",
      "48000/48000 [==============================] - 2s - loss: 0.1133 - acc: 0.9663 - val_loss: 0.0932 - val_acc: 0.9714\n",
      "Epoch 102/200\n",
      "48000/48000 [==============================] - 2s - loss: 0.1083 - acc: 0.9673 - val_loss: 0.0930 - val_acc: 0.9715\n",
      "Epoch 103/200\n",
      "48000/48000 [==============================] - 2s - loss: 0.1096 - acc: 0.9670 - val_loss: 0.0934 - val_acc: 0.9711\n",
      "Epoch 104/200\n",
      "48000/48000 [==============================] - 2s - loss: 0.1104 - acc: 0.9672 - val_loss: 0.0927 - val_acc: 0.9715\n",
      "Epoch 105/200\n",
      "48000/48000 [==============================] - 2s - loss: 0.1111 - acc: 0.9666 - val_loss: 0.0923 - val_acc: 0.9719\n",
      "Epoch 106/200\n",
      "48000/48000 [==============================] - 2s - loss: 0.1070 - acc: 0.9677 - val_loss: 0.0921 - val_acc: 0.9720\n",
      "Epoch 107/200\n",
      "48000/48000 [==============================] - 2s - loss: 0.1066 - acc: 0.9688 - val_loss: 0.0919 - val_acc: 0.9718\n",
      "Epoch 108/200\n",
      "48000/48000 [==============================] - 2s - loss: 0.1085 - acc: 0.9671 - val_loss: 0.0919 - val_acc: 0.9718\n",
      "Epoch 109/200\n",
      "48000/48000 [==============================] - 2s - loss: 0.1054 - acc: 0.9680 - val_loss: 0.0913 - val_acc: 0.9723\n",
      "Epoch 110/200\n",
      "48000/48000 [==============================] - 2s - loss: 0.1063 - acc: 0.9684 - val_loss: 0.0906 - val_acc: 0.9728\n",
      "Epoch 111/200\n",
      "48000/48000 [==============================] - 2s - loss: 0.1042 - acc: 0.9690 - val_loss: 0.0914 - val_acc: 0.9720\n",
      "Epoch 112/200\n",
      "48000/48000 [==============================] - 2s - loss: 0.1052 - acc: 0.9685 - val_loss: 0.0910 - val_acc: 0.9729\n",
      "Epoch 113/200\n",
      "48000/48000 [==============================] - 2s - loss: 0.1040 - acc: 0.9680 - val_loss: 0.0908 - val_acc: 0.9722\n",
      "Epoch 114/200\n",
      "48000/48000 [==============================] - 2s - loss: 0.1028 - acc: 0.9692 - val_loss: 0.0899 - val_acc: 0.9728\n",
      "Epoch 115/200\n",
      "48000/48000 [==============================] - 2s - loss: 0.1007 - acc: 0.9698 - val_loss: 0.0900 - val_acc: 0.9728\n",
      "Epoch 116/200\n",
      "48000/48000 [==============================] - 2s - loss: 0.0999 - acc: 0.9705 - val_loss: 0.0894 - val_acc: 0.9734\n",
      "Epoch 117/200\n",
      "48000/48000 [==============================] - 2s - loss: 0.1023 - acc: 0.9687 - val_loss: 0.0889 - val_acc: 0.9738\n",
      "Epoch 118/200\n",
      "48000/48000 [==============================] - 2s - loss: 0.1015 - acc: 0.9695 - val_loss: 0.0892 - val_acc: 0.9732\n",
      "Epoch 119/200\n",
      "48000/48000 [==============================] - 2s - loss: 0.1019 - acc: 0.9696 - val_loss: 0.0900 - val_acc: 0.9728\n",
      "Epoch 120/200\n",
      "48000/48000 [==============================] - 2s - loss: 0.0987 - acc: 0.9701 - val_loss: 0.0891 - val_acc: 0.9733\n",
      "Epoch 121/200\n",
      "48000/48000 [==============================] - 2s - loss: 0.0964 - acc: 0.9711 - val_loss: 0.0886 - val_acc: 0.9732\n",
      "Epoch 122/200\n",
      "48000/48000 [==============================] - 2s - loss: 0.0963 - acc: 0.9709 - val_loss: 0.0888 - val_acc: 0.9732\n",
      "Epoch 123/200\n",
      "48000/48000 [==============================] - 2s - loss: 0.0971 - acc: 0.9712 - val_loss: 0.0884 - val_acc: 0.9734\n",
      "Epoch 124/200\n",
      "48000/48000 [==============================] - 2s - loss: 0.0972 - acc: 0.9706 - val_loss: 0.0886 - val_acc: 0.9731\n",
      "Epoch 125/200\n",
      "48000/48000 [==============================] - 2s - loss: 0.0964 - acc: 0.9711 - val_loss: 0.0883 - val_acc: 0.9733\n",
      "Epoch 126/200\n",
      "48000/48000 [==============================] - 2s - loss: 0.0970 - acc: 0.9701 - val_loss: 0.0876 - val_acc: 0.9734\n",
      "Epoch 127/200\n",
      "48000/48000 [==============================] - 2s - loss: 0.0964 - acc: 0.9714 - val_loss: 0.0873 - val_acc: 0.9737\n",
      "Epoch 128/200\n",
      "48000/48000 [==============================] - 2s - loss: 0.0962 - acc: 0.9709 - val_loss: 0.0872 - val_acc: 0.9733\n",
      "Epoch 129/200\n",
      "48000/48000 [==============================] - 2s - loss: 0.0972 - acc: 0.9706 - val_loss: 0.0873 - val_acc: 0.9738\n",
      "Epoch 130/200\n",
      "48000/48000 [==============================] - 2s - loss: 0.0957 - acc: 0.9702 - val_loss: 0.0866 - val_acc: 0.9733\n",
      "Epoch 131/200\n",
      "48000/48000 [==============================] - 2s - loss: 0.0933 - acc: 0.9716 - val_loss: 0.0870 - val_acc: 0.9737\n",
      "Epoch 132/200\n",
      "48000/48000 [==============================] - 2s - loss: 0.0930 - acc: 0.9719 - val_loss: 0.0863 - val_acc: 0.9738\n",
      "Epoch 133/200\n",
      "48000/48000 [==============================] - 2s - loss: 0.0929 - acc: 0.9712 - val_loss: 0.0864 - val_acc: 0.9736\n",
      "Epoch 134/200\n",
      "48000/48000 [==============================] - 2s - loss: 0.0925 - acc: 0.9727 - val_loss: 0.0861 - val_acc: 0.9738\n",
      "Epoch 135/200\n",
      "48000/48000 [==============================] - 2s - loss: 0.0925 - acc: 0.9721 - val_loss: 0.0864 - val_acc: 0.9740\n",
      "Epoch 136/200\n",
      "48000/48000 [==============================] - 2s - loss: 0.0923 - acc: 0.9716 - val_loss: 0.0859 - val_acc: 0.9738\n",
      "Epoch 137/200\n",
      "48000/48000 [==============================] - 2s - loss: 0.0896 - acc: 0.9723 - val_loss: 0.0860 - val_acc: 0.9740\n",
      "Epoch 138/200\n",
      "48000/48000 [==============================] - 2s - loss: 0.0904 - acc: 0.9722 - val_loss: 0.0860 - val_acc: 0.9743\n",
      "Epoch 139/200\n",
      "48000/48000 [==============================] - 2s - loss: 0.0902 - acc: 0.9724 - val_loss: 0.0858 - val_acc: 0.9741\n",
      "Epoch 140/200\n",
      "48000/48000 [==============================] - 2s - loss: 0.0905 - acc: 0.9721 - val_loss: 0.0853 - val_acc: 0.9742\n",
      "Epoch 141/200\n",
      "48000/48000 [==============================] - 2s - loss: 0.0895 - acc: 0.9723 - val_loss: 0.0852 - val_acc: 0.9748\n",
      "Epoch 142/200\n",
      "48000/48000 [==============================] - 2s - loss: 0.0901 - acc: 0.9728 - val_loss: 0.0848 - val_acc: 0.9746\n",
      "Epoch 143/200\n",
      "48000/48000 [==============================] - 2s - loss: 0.0875 - acc: 0.9737 - val_loss: 0.0848 - val_acc: 0.9745\n",
      "Epoch 144/200\n",
      "48000/48000 [==============================] - 2s - loss: 0.0878 - acc: 0.9731 - val_loss: 0.0848 - val_acc: 0.9744\n",
      "Epoch 145/200\n",
      "48000/48000 [==============================] - 2s - loss: 0.0869 - acc: 0.9734 - val_loss: 0.0851 - val_acc: 0.9744\n",
      "Epoch 146/200\n",
      "48000/48000 [==============================] - 2s - loss: 0.0870 - acc: 0.9735 - val_loss: 0.0844 - val_acc: 0.9749\n",
      "Epoch 147/200\n",
      "48000/48000 [==============================] - 2s - loss: 0.0856 - acc: 0.9747 - val_loss: 0.0838 - val_acc: 0.9753\n",
      "Epoch 148/200\n",
      "48000/48000 [==============================] - 2s - loss: 0.0845 - acc: 0.9745 - val_loss: 0.0838 - val_acc: 0.9754\n",
      "Epoch 149/200\n",
      "48000/48000 [==============================] - 2s - loss: 0.0851 - acc: 0.9738 - val_loss: 0.0845 - val_acc: 0.9750\n",
      "Epoch 150/200\n",
      "48000/48000 [==============================] - 2s - loss: 0.0865 - acc: 0.9732 - val_loss: 0.0846 - val_acc: 0.9754\n",
      "Epoch 151/200\n",
      "48000/48000 [==============================] - 2s - loss: 0.0853 - acc: 0.9736 - val_loss: 0.0840 - val_acc: 0.9749\n",
      "Epoch 152/200\n",
      "48000/48000 [==============================] - 2s - loss: 0.0825 - acc: 0.9749 - val_loss: 0.0835 - val_acc: 0.9753\n",
      "Epoch 153/200\n",
      "48000/48000 [==============================] - 2s - loss: 0.0845 - acc: 0.9745 - val_loss: 0.0839 - val_acc: 0.9748\n",
      "Epoch 154/200\n",
      "48000/48000 [==============================] - 2s - loss: 0.0833 - acc: 0.9744 - val_loss: 0.0839 - val_acc: 0.9754\n",
      "Epoch 155/200\n",
      "48000/48000 [==============================] - 2s - loss: 0.0831 - acc: 0.9742 - val_loss: 0.0838 - val_acc: 0.9755\n",
      "Epoch 156/200\n",
      "48000/48000 [==============================] - 2s - loss: 0.0858 - acc: 0.9738 - val_loss: 0.0837 - val_acc: 0.9751\n",
      "Epoch 157/200\n",
      "48000/48000 [==============================] - 2s - loss: 0.0837 - acc: 0.9743 - val_loss: 0.0833 - val_acc: 0.9751\n",
      "Epoch 158/200\n",
      "48000/48000 [==============================] - 2s - loss: 0.0836 - acc: 0.9746 - val_loss: 0.0829 - val_acc: 0.9750\n",
      "Epoch 159/200\n",
      "48000/48000 [==============================] - 2s - loss: 0.0826 - acc: 0.9746 - val_loss: 0.0831 - val_acc: 0.9754\n",
      "Epoch 160/200\n",
      "48000/48000 [==============================] - 2s - loss: 0.0815 - acc: 0.9750 - val_loss: 0.0830 - val_acc: 0.9754\n",
      "Epoch 161/200\n",
      "48000/48000 [==============================] - 2s - loss: 0.0793 - acc: 0.9749 - val_loss: 0.0826 - val_acc: 0.9758\n",
      "Epoch 162/200\n",
      "48000/48000 [==============================] - 2s - loss: 0.0792 - acc: 0.9758 - val_loss: 0.0825 - val_acc: 0.9753\n",
      "Epoch 163/200\n",
      "48000/48000 [==============================] - 2s - loss: 0.0809 - acc: 0.9749 - val_loss: 0.0827 - val_acc: 0.9753\n",
      "Epoch 164/200\n",
      "48000/48000 [==============================] - 2s - loss: 0.0809 - acc: 0.9749 - val_loss: 0.0826 - val_acc: 0.9755\n",
      "Epoch 165/200\n",
      "48000/48000 [==============================] - 2s - loss: 0.0792 - acc: 0.9752 - val_loss: 0.0832 - val_acc: 0.9755\n",
      "Epoch 166/200\n",
      "48000/48000 [==============================] - 2s - loss: 0.0810 - acc: 0.9751 - val_loss: 0.0823 - val_acc: 0.9757\n",
      "Epoch 167/200\n",
      "48000/48000 [==============================] - 2s - loss: 0.0791 - acc: 0.9756 - val_loss: 0.0820 - val_acc: 0.9753\n",
      "Epoch 168/200\n",
      "48000/48000 [==============================] - 2s - loss: 0.0763 - acc: 0.9771 - val_loss: 0.0825 - val_acc: 0.9761\n",
      "Epoch 169/200\n",
      "48000/48000 [==============================] - 2s - loss: 0.0782 - acc: 0.9758 - val_loss: 0.0820 - val_acc: 0.9758\n",
      "Epoch 170/200\n",
      "48000/48000 [==============================] - 2s - loss: 0.0779 - acc: 0.9758 - val_loss: 0.0813 - val_acc: 0.9758\n",
      "Epoch 171/200\n",
      "48000/48000 [==============================] - 2s - loss: 0.0776 - acc: 0.9757 - val_loss: 0.0815 - val_acc: 0.9761\n",
      "Epoch 172/200\n",
      "48000/48000 [==============================] - 2s - loss: 0.0769 - acc: 0.9757 - val_loss: 0.0812 - val_acc: 0.9763\n",
      "Epoch 173/200\n",
      "48000/48000 [==============================] - 2s - loss: 0.0777 - acc: 0.9763 - val_loss: 0.0812 - val_acc: 0.9764\n",
      "Epoch 174/200\n",
      "48000/48000 [==============================] - 2s - loss: 0.0790 - acc: 0.9759 - val_loss: 0.0809 - val_acc: 0.9767\n",
      "Epoch 175/200\n",
      "48000/48000 [==============================] - 2s - loss: 0.0770 - acc: 0.9764 - val_loss: 0.0813 - val_acc: 0.9765\n",
      "Epoch 176/200\n",
      "48000/48000 [==============================] - 2s - loss: 0.0762 - acc: 0.9762 - val_loss: 0.0811 - val_acc: 0.9763\n",
      "Epoch 177/200\n",
      "48000/48000 [==============================] - 2s - loss: 0.0747 - acc: 0.9771 - val_loss: 0.0816 - val_acc: 0.9767\n",
      "Epoch 178/200\n",
      "48000/48000 [==============================] - 2s - loss: 0.0756 - acc: 0.9764 - val_loss: 0.0805 - val_acc: 0.9760\n",
      "Epoch 179/200\n",
      "48000/48000 [==============================] - 2s - loss: 0.0759 - acc: 0.9768 - val_loss: 0.0809 - val_acc: 0.9759\n",
      "Epoch 180/200\n",
      "48000/48000 [==============================] - 2s - loss: 0.0744 - acc: 0.9772 - val_loss: 0.0814 - val_acc: 0.9768\n",
      "Epoch 181/200\n",
      "48000/48000 [==============================] - 2s - loss: 0.0751 - acc: 0.9770 - val_loss: 0.0806 - val_acc: 0.9768\n",
      "Epoch 182/200\n",
      "48000/48000 [==============================] - 2s - loss: 0.0739 - acc: 0.9774 - val_loss: 0.0806 - val_acc: 0.9762\n",
      "Epoch 183/200\n",
      "48000/48000 [==============================] - 2s - loss: 0.0753 - acc: 0.9766 - val_loss: 0.0809 - val_acc: 0.9772\n",
      "Epoch 184/200\n",
      "48000/48000 [==============================] - 2s - loss: 0.0724 - acc: 0.9775 - val_loss: 0.0803 - val_acc: 0.9767\n",
      "Epoch 185/200\n",
      "48000/48000 [==============================] - 2s - loss: 0.0736 - acc: 0.9770 - val_loss: 0.0810 - val_acc: 0.9771\n",
      "Epoch 186/200\n",
      "48000/48000 [==============================] - 2s - loss: 0.0725 - acc: 0.9773 - val_loss: 0.0802 - val_acc: 0.9768\n",
      "Epoch 187/200\n",
      "48000/48000 [==============================] - 2s - loss: 0.0715 - acc: 0.9776 - val_loss: 0.0810 - val_acc: 0.9769\n",
      "Epoch 188/200\n",
      "48000/48000 [==============================] - 2s - loss: 0.0726 - acc: 0.9774 - val_loss: 0.0801 - val_acc: 0.9769\n",
      "Epoch 189/200\n",
      "48000/48000 [==============================] - 2s - loss: 0.0729 - acc: 0.9773 - val_loss: 0.0806 - val_acc: 0.9768\n",
      "Epoch 190/200\n",
      "48000/48000 [==============================] - 2s - loss: 0.0708 - acc: 0.9774 - val_loss: 0.0799 - val_acc: 0.9773\n",
      "Epoch 191/200\n",
      "48000/48000 [==============================] - 2s - loss: 0.0704 - acc: 0.9782 - val_loss: 0.0800 - val_acc: 0.9773\n",
      "Epoch 192/200\n",
      "48000/48000 [==============================] - 2s - loss: 0.0707 - acc: 0.9778 - val_loss: 0.0804 - val_acc: 0.9768\n",
      "Epoch 193/200\n",
      "48000/48000 [==============================] - 2s - loss: 0.0743 - acc: 0.9764 - val_loss: 0.0797 - val_acc: 0.9775\n",
      "Epoch 194/200\n",
      "48000/48000 [==============================] - 2s - loss: 0.0722 - acc: 0.9773 - val_loss: 0.0801 - val_acc: 0.9773\n",
      "Epoch 195/200\n",
      "48000/48000 [==============================] - 2s - loss: 0.0703 - acc: 0.9782 - val_loss: 0.0805 - val_acc: 0.9768\n",
      "Epoch 196/200\n",
      "48000/48000 [==============================] - 2s - loss: 0.0699 - acc: 0.9784 - val_loss: 0.0800 - val_acc: 0.9775\n",
      "Epoch 197/200\n",
      "48000/48000 [==============================] - 2s - loss: 0.0711 - acc: 0.9780 - val_loss: 0.0800 - val_acc: 0.9772\n",
      "Epoch 198/200\n",
      "48000/48000 [==============================] - 2s - loss: 0.0688 - acc: 0.9787 - val_loss: 0.0800 - val_acc: 0.9779\n",
      "Epoch 199/200\n",
      "48000/48000 [==============================] - 2s - loss: 0.0695 - acc: 0.9779 - val_loss: 0.0796 - val_acc: 0.9773\n",
      "Epoch 200/200\n",
      "48000/48000 [==============================] - 2s - loss: 0.0683 - acc: 0.9791 - val_loss: 0.0796 - val_acc: 0.9772\n"
     ]
    }
   ],
   "source": [
    "time_start = time.clock()\n",
    "history = model.fit(X_train, y_train,\n",
    "                    batch_size=128,\n",
    "                    epochs=200,\n",
    "                    verbose=1,\n",
    "                    validation_split=0.2)\n",
    "time_end = time.clock()"
   ]
  },
  {
   "cell_type": "code",
   "execution_count": 10,
   "metadata": {
    "collapsed": false
   },
   "outputs": [
    {
     "name": "stdout",
     "output_type": "stream",
     "text": [
      "Time to train\n",
      "Time elapsed in seconds : 468\n",
      "Time elapsed in minutes : 7.8\n",
      "Time elapsed in hours   : 0.1\n"
     ]
    }
   ],
   "source": [
    "duration = time_end - time_start\n",
    "print(\"Time to train\")\n",
    "print(\"Time elapsed in seconds : %.0f\" % duration)\n",
    "print(\"Time elapsed in minutes : %.1f\" % (duration/60))\n",
    "print(\"Time elapsed in hours   : %.1f\" % (duration/3600))"
   ]
  },
  {
   "cell_type": "code",
   "execution_count": 11,
   "metadata": {
    "collapsed": false
   },
   "outputs": [
    {
     "name": "stdout",
     "output_type": "stream",
     "text": [
      " 9568/10000 [===========================>..] - ETA: 0s\n",
      "Test score: 0.074753990545\n",
      "Test accuracy: 0.9784\n"
     ]
    }
   ],
   "source": [
    "score = model.evaluate(X_test, y_test,\n",
    "                       verbose=1)\n",
    "print(\"\")\n",
    "print(\"Test score:\", score[0])\n",
    "print(\"Test accuracy:\", score[1])"
   ]
  },
  {
   "cell_type": "code",
   "execution_count": 12,
   "metadata": {
    "collapsed": false
   },
   "outputs": [
    {
     "name": "stdout",
     "output_type": "stream",
     "text": [
      "dict_keys(['loss', 'acc', 'val_loss', 'val_acc'])\n"
     ]
    }
   ],
   "source": [
    "# list all data in history\n",
    "print(history.history.keys())"
   ]
  },
  {
   "cell_type": "code",
   "execution_count": 13,
   "metadata": {
    "collapsed": false
   },
   "outputs": [
    {
     "data": {
      "image/png": "[encoded data removed]",
      "text/plain": [
       "<matplotlib.figure.Figure at 0x23933172470>"
      ]
     },
     "metadata": {},
     "output_type": "display_data"
    }
   ],
   "source": [
    "# Accuracy\n",
    "plt.plot(history.history[\"acc\"])\n",
    "plt.plot(history.history[\"val_acc\"])\n",
    "plt.title(\"model accuracy\")\n",
    "plt.ylabel(\"accuracy\")\n",
    "plt.xlabel(\"epoch\")\n",
    "plt.legend([\"train\", \"test\"], loc=\"lower left\")\n",
    "plt.show()"
   ]
  },
  {
   "cell_type": "code",
   "execution_count": 14,
   "metadata": {
    "collapsed": false
   },
   "outputs": [
    {
     "data": {
      "image/png": "[encoded data removed]",
      "text/plain": [
       "<matplotlib.figure.Figure at 0x239332b8630>"
      ]
     },
     "metadata": {},
     "output_type": "display_data"
    }
   ],
   "source": [
    "# Loss\n",
    "plt.plot(history.history[\"loss\"])\n",
    "plt.plot(history.history[\"val_loss\"])\n",
    "plt.title(\"model loss\")\n",
    "plt.ylabel(\"loss\")\n",
    "plt.xlabel(\"epoch\")\n",
    "plt.legend([\"train\", \"test\"], loc=\"upper left\")\n",
    "plt.show()"
   ]
  }
 ],
 "metadata": {
  "anaconda-cloud": {},
  "kernelspec": {
   "display_name": "Python [default]",
   "language": "python",
   "name": "python3"
  },
  "language_info": {
   "codemirror_mode": {
    "name": "ipython",
    "version": 3
   },
   "file_extension": ".py",
   "mimetype": "text/x-python",
   "name": "python",
   "nbconvert_exporter": "python",
   "pygments_lexer": "ipython3",
   "version": "3.5.2"
  }
 },
 "nbformat": 4,
 "nbformat_minor": 1
}
