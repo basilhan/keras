{
 "cells": [
  {
   "cell_type": "code",
   "execution_count": 1,
   "metadata": {
    "collapsed": false
   },
   "outputs": [
    {
     "name": "stderr",
     "output_type": "stream",
     "text": [
      "Using TensorFlow backend.\n"
     ]
    }
   ],
   "source": [
    "import numpy as np\n",
    "import matplotlib.pyplot as plt\n",
    "import time\n",
    "from keras.datasets import mnist\n",
    "from keras.models import Sequential\n",
    "from keras.layers.core import Dense, Dropout, Activation\n",
    "from keras.optimizers import SGD, Adam, RMSprop\n",
    "from keras.utils import np_utils\n",
    "from tensorflow import set_random_seed"
   ]
  },
  {
   "cell_type": "code",
   "execution_count": 2,
   "metadata": {
    "collapsed": false
   },
   "outputs": [],
   "source": [
    "np.random.seed(2015)\n",
    "set_random_seed(2015)"
   ]
  },
  {
   "cell_type": "code",
   "execution_count": 3,
   "metadata": {
    "collapsed": false
   },
   "outputs": [],
   "source": [
    "# Load data\n",
    "(X_train, y_train), (X_test, y_test) = mnist.load_data()"
   ]
  },
  {
   "cell_type": "code",
   "execution_count": 4,
   "metadata": {
    "collapsed": false
   },
   "outputs": [
    {
     "name": "stdout",
     "output_type": "stream",
     "text": [
      "60000 training samples\n",
      "10000 testing samples\n"
     ]
    }
   ],
   "source": [
    "# Preprocessing\n",
    "X_train = X_train.reshape(60000, 784)\n",
    "X_test  = X_test.reshape(10000, 784)\n",
    "X_train = X_train.astype(\"float32\")\n",
    "X_test  = X_test.astype(\"float32\")\n",
    "X_train /= 255\n",
    "X_test  /= 255\n",
    "print(X_train.shape[0], \"training samples\")\n",
    "print(X_test.shape[0], \"testing samples\")"
   ]
  },
  {
   "cell_type": "code",
   "execution_count": 5,
   "metadata": {
    "collapsed": true
   },
   "outputs": [],
   "source": [
    "# Convert labels to one-hot coding\n",
    "# e.g. 1 -> array([ 0.,  1.,  0.,  0.,  0.,  0.,  0.,  0.,  0.,  0.])\n",
    "y_train = np_utils.to_categorical(y_train, 10)\n",
    "y_test = np_utils.to_categorical(y_test, 10)"
   ]
  },
  {
   "cell_type": "markdown",
   "metadata": {},
   "source": [
    "The argument *input_dim* is equivalent to *input_shape* ([reference](https://keras.io/getting-started/sequential-model-guide/))."
   ]
  },
  {
   "cell_type": "code",
   "execution_count": 6,
   "metadata": {
    "collapsed": false
   },
   "outputs": [],
   "source": [
    "# Define the model\n",
    "model = Sequential([\n",
    "        Dense(128, input_dim=784), Activation(\"relu\"), Dropout(0.3),\n",
    "        Dense(128), Activation(\"relu\"), Dropout(0.3),\n",
    "        Dense(10), Activation(\"softmax\")\n",
    "    ])"
   ]
  },
  {
   "cell_type": "code",
   "execution_count": 7,
   "metadata": {
    "collapsed": false
   },
   "outputs": [
    {
     "name": "stdout",
     "output_type": "stream",
     "text": [
      "_________________________________________________________________\n",
      "Layer (type)                 Output Shape              Param #   \n",
      "=================================================================\n",
      "dense_1 (Dense)              (None, 128)               100480    \n",
      "_________________________________________________________________\n",
      "activation_1 (Activation)    (None, 128)               0         \n",
      "_________________________________________________________________\n",
      "dropout_1 (Dropout)          (None, 128)               0         \n",
      "_________________________________________________________________\n",
      "dense_2 (Dense)              (None, 128)               16512     \n",
      "_________________________________________________________________\n",
      "activation_2 (Activation)    (None, 128)               0         \n",
      "_________________________________________________________________\n",
      "dropout_2 (Dropout)          (None, 128)               0         \n",
      "_________________________________________________________________\n",
      "dense_3 (Dense)              (None, 10)                1290      \n",
      "_________________________________________________________________\n",
      "activation_3 (Activation)    (None, 10)                0         \n",
      "=================================================================\n",
      "Total params: 118,282\n",
      "Trainable params: 118,282\n",
      "Non-trainable params: 0\n",
      "_________________________________________________________________\n"
     ]
    }
   ],
   "source": [
    "model.summary()"
   ]
  },
  {
   "cell_type": "code",
   "execution_count": 8,
   "metadata": {
    "collapsed": true
   },
   "outputs": [],
   "source": [
    "model.compile(loss=\"categorical_crossentropy\",\n",
    "              optimizer=SGD(lr=0.001),\n",
    "              metrics=[\"accuracy\"])"
   ]
  },
  {
   "cell_type": "code",
   "execution_count": 9,
   "metadata": {
    "collapsed": false
   },
   "outputs": [
    {
     "name": "stdout",
     "output_type": "stream",
     "text": [
      "Train on 48000 samples, validate on 12000 samples\n",
      "Epoch 1/200\n",
      "48000/48000 [==============================] - 2s - loss: 2.3022 - acc: 0.1239 - val_loss: 2.1880 - val_acc: 0.2480\n",
      "Epoch 2/200\n",
      "48000/48000 [==============================] - 2s - loss: 2.1672 - acc: 0.2265 - val_loss: 2.0565 - val_acc: 0.4807\n",
      "Epoch 3/200\n",
      "48000/48000 [==============================] - 2s - loss: 2.0423 - acc: 0.3344 - val_loss: 1.9112 - val_acc: 0.5839\n",
      "Epoch 4/200\n",
      "48000/48000 [==============================] - 2s - loss: 1.9113 - acc: 0.4175 - val_loss: 1.7519 - val_acc: 0.6512\n",
      "Epoch 5/200\n",
      "48000/48000 [==============================] - 2s - loss: 1.7747 - acc: 0.4712 - val_loss: 1.5876 - val_acc: 0.7012\n",
      "Epoch 6/200\n",
      "48000/48000 [==============================] - 2s - loss: 1.6406 - acc: 0.5162 - val_loss: 1.4273 - val_acc: 0.7416\n",
      "Epoch 7/200\n",
      "48000/48000 [==============================] - 2s - loss: 1.5124 - acc: 0.5522 - val_loss: 1.2788 - val_acc: 0.7689\n",
      "Epoch 8/200\n",
      "48000/48000 [==============================] - 2s - loss: 1.3939 - acc: 0.5872 - val_loss: 1.1467 - val_acc: 0.7908\n",
      "Epoch 9/200\n",
      "48000/48000 [==============================] - 2s - loss: 1.2953 - acc: 0.6123 - val_loss: 1.0336 - val_acc: 0.8090\n",
      "Epoch 10/200\n",
      "48000/48000 [==============================] - 2s - loss: 1.2121 - acc: 0.6328 - val_loss: 0.9399 - val_acc: 0.8210\n",
      "Epoch 11/200\n",
      "48000/48000 [==============================] - 2s - loss: 1.1350 - acc: 0.6574 - val_loss: 0.8617 - val_acc: 0.8309\n",
      "Epoch 12/200\n",
      "48000/48000 [==============================] - 2s - loss: 1.0740 - acc: 0.6697 - val_loss: 0.7976 - val_acc: 0.8380\n",
      "Epoch 13/200\n",
      "48000/48000 [==============================] - 2s - loss: 1.0196 - acc: 0.6843 - val_loss: 0.7443 - val_acc: 0.8438\n",
      "Epoch 14/200\n",
      "48000/48000 [==============================] - 2s - loss: 0.9739 - acc: 0.6975 - val_loss: 0.7000 - val_acc: 0.8480\n",
      "Epoch 15/200\n",
      "48000/48000 [==============================] - 2s - loss: 0.9288 - acc: 0.7132 - val_loss: 0.6616 - val_acc: 0.8520\n",
      "Epoch 16/200\n",
      "48000/48000 [==============================] - 2s - loss: 0.8921 - acc: 0.7241 - val_loss: 0.6292 - val_acc: 0.8552\n",
      "Epoch 17/200\n",
      "48000/48000 [==============================] - 2s - loss: 0.8659 - acc: 0.7318 - val_loss: 0.6019 - val_acc: 0.8588\n",
      "Epoch 18/200\n",
      "48000/48000 [==============================] - 2s - loss: 0.8314 - acc: 0.7434 - val_loss: 0.5777 - val_acc: 0.8624\n",
      "Epoch 19/200\n",
      "48000/48000 [==============================] - 2s - loss: 0.8071 - acc: 0.7518 - val_loss: 0.5560 - val_acc: 0.8679\n",
      "Epoch 20/200\n",
      "48000/48000 [==============================] - 2s - loss: 0.7866 - acc: 0.7558 - val_loss: 0.5378 - val_acc: 0.8709\n",
      "Epoch 21/200\n",
      "48000/48000 [==============================] - 2s - loss: 0.7643 - acc: 0.7655 - val_loss: 0.5208 - val_acc: 0.8726\n",
      "Epoch 22/200\n",
      "48000/48000 [==============================] - 2s - loss: 0.7458 - acc: 0.7719 - val_loss: 0.5064 - val_acc: 0.8748\n",
      "Epoch 23/200\n",
      "48000/48000 [==============================] - 2s - loss: 0.7308 - acc: 0.7737 - val_loss: 0.4929 - val_acc: 0.8769\n",
      "Epoch 24/200\n",
      "48000/48000 [==============================] - 2s - loss: 0.7168 - acc: 0.7790 - val_loss: 0.4804 - val_acc: 0.8796\n",
      "Epoch 25/200\n",
      "48000/48000 [==============================] - 2s - loss: 0.6986 - acc: 0.7861 - val_loss: 0.4693 - val_acc: 0.8808\n",
      "Epoch 26/200\n",
      "48000/48000 [==============================] - 2s - loss: 0.6842 - acc: 0.7913 - val_loss: 0.4589 - val_acc: 0.8825\n",
      "Epoch 27/200\n",
      "48000/48000 [==============================] - 2s - loss: 0.6723 - acc: 0.7934 - val_loss: 0.4493 - val_acc: 0.8839\n",
      "Epoch 28/200\n",
      "48000/48000 [==============================] - 2s - loss: 0.6620 - acc: 0.7990 - val_loss: 0.4410 - val_acc: 0.8850\n",
      "Epoch 29/200\n",
      "48000/48000 [==============================] - 2s - loss: 0.6488 - acc: 0.8014 - val_loss: 0.4328 - val_acc: 0.8865\n",
      "Epoch 30/200\n",
      "48000/48000 [==============================] - 2s - loss: 0.6384 - acc: 0.8053 - val_loss: 0.4253 - val_acc: 0.8883\n",
      "Epoch 31/200\n",
      "48000/48000 [==============================] - 2s - loss: 0.6251 - acc: 0.8101 - val_loss: 0.4180 - val_acc: 0.8899\n",
      "Epoch 32/200\n",
      "48000/48000 [==============================] - 2s - loss: 0.6158 - acc: 0.8131 - val_loss: 0.4111 - val_acc: 0.8905\n",
      "Epoch 33/200\n",
      "48000/48000 [==============================] - 2s - loss: 0.6113 - acc: 0.8122 - val_loss: 0.4052 - val_acc: 0.8912\n",
      "Epoch 34/200\n",
      "48000/48000 [==============================] - 2s - loss: 0.5964 - acc: 0.8173 - val_loss: 0.3991 - val_acc: 0.8920\n",
      "Epoch 35/200\n",
      "48000/48000 [==============================] - 2s - loss: 0.5928 - acc: 0.8189 - val_loss: 0.3940 - val_acc: 0.8929\n",
      "Epoch 36/200\n",
      "48000/48000 [==============================] - 2s - loss: 0.5824 - acc: 0.8239 - val_loss: 0.3890 - val_acc: 0.8936\n",
      "Epoch 37/200\n",
      "48000/48000 [==============================] - 2s - loss: 0.5809 - acc: 0.8255 - val_loss: 0.3844 - val_acc: 0.8943\n",
      "Epoch 38/200\n",
      "48000/48000 [==============================] - 2s - loss: 0.5714 - acc: 0.8283 - val_loss: 0.3798 - val_acc: 0.8958\n",
      "Epoch 39/200\n",
      "48000/48000 [==============================] - 2s - loss: 0.5649 - acc: 0.8285 - val_loss: 0.3753 - val_acc: 0.8960\n",
      "Epoch 40/200\n",
      "48000/48000 [==============================] - 2s - loss: 0.5609 - acc: 0.8312 - val_loss: 0.3710 - val_acc: 0.8974\n",
      "Epoch 41/200\n",
      "48000/48000 [==============================] - 2s - loss: 0.5534 - acc: 0.8324 - val_loss: 0.3672 - val_acc: 0.8980\n",
      "Epoch 42/200\n",
      "48000/48000 [==============================] - 2s - loss: 0.5487 - acc: 0.8359 - val_loss: 0.3636 - val_acc: 0.8990\n",
      "Epoch 43/200\n",
      "48000/48000 [==============================] - 2s - loss: 0.5439 - acc: 0.8354 - val_loss: 0.3601 - val_acc: 0.8995\n",
      "Epoch 44/200\n",
      "48000/48000 [==============================] - 2s - loss: 0.5381 - acc: 0.8384 - val_loss: 0.3565 - val_acc: 0.9002\n",
      "Epoch 45/200\n",
      "48000/48000 [==============================] - 2s - loss: 0.5297 - acc: 0.8414 - val_loss: 0.3529 - val_acc: 0.9016\n",
      "Epoch 46/200\n",
      "48000/48000 [==============================] - 2s - loss: 0.5270 - acc: 0.8413 - val_loss: 0.3502 - val_acc: 0.9023\n",
      "Epoch 47/200\n",
      "48000/48000 [==============================] - 2s - loss: 0.5214 - acc: 0.8436 - val_loss: 0.3470 - val_acc: 0.9032\n",
      "Epoch 48/200\n",
      "48000/48000 [==============================] - 2s - loss: 0.5160 - acc: 0.8464 - val_loss: 0.3440 - val_acc: 0.9037\n",
      "Epoch 49/200\n",
      "48000/48000 [==============================] - 2s - loss: 0.5143 - acc: 0.8461 - val_loss: 0.3410 - val_acc: 0.9045\n",
      "Epoch 50/200\n",
      "48000/48000 [==============================] - 2s - loss: 0.5049 - acc: 0.8480 - val_loss: 0.3382 - val_acc: 0.9047\n",
      "Epoch 51/200\n",
      "48000/48000 [==============================] - 2s - loss: 0.5024 - acc: 0.8501 - val_loss: 0.3356 - val_acc: 0.9058\n",
      "Epoch 52/200\n",
      "48000/48000 [==============================] - 2s - loss: 0.5026 - acc: 0.8497 - val_loss: 0.3330 - val_acc: 0.9066\n",
      "Epoch 53/200\n",
      "48000/48000 [==============================] - 2s - loss: 0.4947 - acc: 0.8525 - val_loss: 0.3305 - val_acc: 0.9076\n",
      "Epoch 54/200\n",
      "48000/48000 [==============================] - 2s - loss: 0.4872 - acc: 0.8541 - val_loss: 0.3280 - val_acc: 0.9077\n",
      "Epoch 55/200\n",
      "48000/48000 [==============================] - 2s - loss: 0.4878 - acc: 0.8539 - val_loss: 0.3257 - val_acc: 0.9087\n",
      "Epoch 56/200\n",
      "48000/48000 [==============================] - 2s - loss: 0.4871 - acc: 0.8545 - val_loss: 0.3236 - val_acc: 0.9091\n",
      "Epoch 57/200\n",
      "48000/48000 [==============================] - 2s - loss: 0.4827 - acc: 0.8564 - val_loss: 0.3215 - val_acc: 0.9097\n",
      "Epoch 58/200\n",
      "48000/48000 [==============================] - 2s - loss: 0.4763 - acc: 0.8579 - val_loss: 0.3191 - val_acc: 0.9106\n",
      "Epoch 59/200\n",
      "48000/48000 [==============================] - 2s - loss: 0.4749 - acc: 0.8582 - val_loss: 0.3170 - val_acc: 0.9107\n",
      "Epoch 60/200\n",
      "48000/48000 [==============================] - 2s - loss: 0.4724 - acc: 0.8582 - val_loss: 0.3149 - val_acc: 0.9109\n",
      "Epoch 61/200\n",
      "48000/48000 [==============================] - 2s - loss: 0.4692 - acc: 0.8603 - val_loss: 0.3129 - val_acc: 0.9114\n",
      "Epoch 62/200\n",
      "48000/48000 [==============================] - 2s - loss: 0.4679 - acc: 0.8598 - val_loss: 0.3112 - val_acc: 0.9119\n",
      "Epoch 63/200\n",
      "48000/48000 [==============================] - 2s - loss: 0.4632 - acc: 0.8616 - val_loss: 0.3093 - val_acc: 0.9116\n",
      "Epoch 64/200\n",
      "48000/48000 [==============================] - 2s - loss: 0.4589 - acc: 0.8630 - val_loss: 0.3074 - val_acc: 0.9119\n",
      "Epoch 65/200\n",
      "48000/48000 [==============================] - 2s - loss: 0.4572 - acc: 0.8634 - val_loss: 0.3054 - val_acc: 0.9129\n",
      "Epoch 66/200\n",
      "48000/48000 [==============================] - 2s - loss: 0.4549 - acc: 0.8642 - val_loss: 0.3036 - val_acc: 0.9133\n",
      "Epoch 67/200\n",
      "48000/48000 [==============================] - 2s - loss: 0.4531 - acc: 0.8648 - val_loss: 0.3020 - val_acc: 0.9141\n",
      "Epoch 68/200\n",
      "48000/48000 [==============================] - 2s - loss: 0.4496 - acc: 0.8661 - val_loss: 0.3003 - val_acc: 0.9141\n",
      "Epoch 69/200\n",
      "48000/48000 [==============================] - 2s - loss: 0.4472 - acc: 0.8686 - val_loss: 0.2987 - val_acc: 0.9140\n",
      "Epoch 70/200\n",
      "48000/48000 [==============================] - 2s - loss: 0.4428 - acc: 0.8687 - val_loss: 0.2971 - val_acc: 0.9146\n",
      "Epoch 71/200\n",
      "48000/48000 [==============================] - 2s - loss: 0.4375 - acc: 0.8698 - val_loss: 0.2956 - val_acc: 0.9149\n",
      "Epoch 72/200\n",
      "48000/48000 [==============================] - 2s - loss: 0.4361 - acc: 0.8702 - val_loss: 0.2940 - val_acc: 0.9153\n",
      "Epoch 73/200\n",
      "48000/48000 [==============================] - 2s - loss: 0.4342 - acc: 0.8702 - val_loss: 0.2924 - val_acc: 0.9157\n",
      "Epoch 74/200\n",
      "48000/48000 [==============================] - 2s - loss: 0.4351 - acc: 0.8696 - val_loss: 0.2910 - val_acc: 0.9162\n",
      "Epoch 75/200\n",
      "48000/48000 [==============================] - 2s - loss: 0.4328 - acc: 0.8722 - val_loss: 0.2895 - val_acc: 0.9164\n",
      "Epoch 76/200\n",
      "48000/48000 [==============================] - 2s - loss: 0.4302 - acc: 0.8724 - val_loss: 0.2881 - val_acc: 0.9168\n",
      "Epoch 77/200\n",
      "48000/48000 [==============================] - 2s - loss: 0.4228 - acc: 0.8755 - val_loss: 0.2866 - val_acc: 0.9169\n",
      "Epoch 78/200\n",
      "48000/48000 [==============================] - 2s - loss: 0.4212 - acc: 0.8745 - val_loss: 0.2850 - val_acc: 0.9175\n",
      "Epoch 79/200\n",
      "48000/48000 [==============================] - 2s - loss: 0.4228 - acc: 0.8740 - val_loss: 0.2838 - val_acc: 0.9174\n",
      "Epoch 80/200\n",
      "48000/48000 [==============================] - 2s - loss: 0.4199 - acc: 0.8757 - val_loss: 0.2823 - val_acc: 0.9178\n",
      "Epoch 81/200\n",
      "48000/48000 [==============================] - 2s - loss: 0.4163 - acc: 0.8776 - val_loss: 0.2811 - val_acc: 0.9186\n",
      "Epoch 82/200\n",
      "48000/48000 [==============================] - 2s - loss: 0.4136 - acc: 0.8784 - val_loss: 0.2797 - val_acc: 0.9182\n",
      "Epoch 83/200\n",
      "48000/48000 [==============================] - 2s - loss: 0.4131 - acc: 0.8776 - val_loss: 0.2784 - val_acc: 0.9192\n",
      "Epoch 84/200\n",
      "48000/48000 [==============================] - 2s - loss: 0.4096 - acc: 0.8793 - val_loss: 0.2772 - val_acc: 0.9195\n",
      "Epoch 85/200\n",
      "48000/48000 [==============================] - 2s - loss: 0.4073 - acc: 0.8807 - val_loss: 0.2758 - val_acc: 0.9195\n",
      "Epoch 86/200\n",
      "48000/48000 [==============================] - 2s - loss: 0.4062 - acc: 0.8792 - val_loss: 0.2747 - val_acc: 0.9199\n",
      "Epoch 87/200\n",
      "48000/48000 [==============================] - 2s - loss: 0.4042 - acc: 0.8810 - val_loss: 0.2736 - val_acc: 0.9203\n",
      "Epoch 88/200\n",
      "48000/48000 [==============================] - 2s - loss: 0.4034 - acc: 0.8807 - val_loss: 0.2723 - val_acc: 0.9206\n",
      "Epoch 89/200\n",
      "48000/48000 [==============================] - 2s - loss: 0.4027 - acc: 0.8806 - val_loss: 0.2710 - val_acc: 0.9207\n",
      "Epoch 90/200\n",
      "48000/48000 [==============================] - 2s - loss: 0.3989 - acc: 0.8814 - val_loss: 0.2699 - val_acc: 0.9210\n",
      "Epoch 91/200\n",
      "48000/48000 [==============================] - 2s - loss: 0.4012 - acc: 0.8816 - val_loss: 0.2689 - val_acc: 0.9207\n",
      "Epoch 92/200\n",
      "48000/48000 [==============================] - 2s - loss: 0.3966 - acc: 0.8820 - val_loss: 0.2678 - val_acc: 0.9213\n",
      "Epoch 93/200\n",
      "48000/48000 [==============================] - 2s - loss: 0.3936 - acc: 0.8832 - val_loss: 0.2668 - val_acc: 0.9217\n",
      "Epoch 94/200\n",
      "48000/48000 [==============================] - 2s - loss: 0.3925 - acc: 0.8837 - val_loss: 0.2653 - val_acc: 0.9222\n",
      "Epoch 95/200\n",
      "48000/48000 [==============================] - 2s - loss: 0.3958 - acc: 0.8827 - val_loss: 0.2644 - val_acc: 0.9223\n",
      "Epoch 96/200\n",
      "48000/48000 [==============================] - 2s - loss: 0.3886 - acc: 0.8857 - val_loss: 0.2633 - val_acc: 0.9228\n",
      "Epoch 97/200\n",
      "48000/48000 [==============================] - 2s - loss: 0.3872 - acc: 0.8856 - val_loss: 0.2620 - val_acc: 0.9234\n",
      "Epoch 98/200\n",
      "48000/48000 [==============================] - 2s - loss: 0.3875 - acc: 0.8847 - val_loss: 0.2610 - val_acc: 0.9236\n",
      "Epoch 99/200\n",
      "48000/48000 [==============================] - 2s - loss: 0.3839 - acc: 0.8867 - val_loss: 0.2601 - val_acc: 0.9239\n",
      "Epoch 100/200\n",
      "48000/48000 [==============================] - 2s - loss: 0.3843 - acc: 0.8855 - val_loss: 0.2589 - val_acc: 0.9247\n",
      "Epoch 101/200\n",
      "48000/48000 [==============================] - 2s - loss: 0.3821 - acc: 0.8890 - val_loss: 0.2581 - val_acc: 0.9247\n",
      "Epoch 102/200\n",
      "48000/48000 [==============================] - 2s - loss: 0.3768 - acc: 0.8878 - val_loss: 0.2571 - val_acc: 0.9252\n",
      "Epoch 103/200\n",
      "48000/48000 [==============================] - 2s - loss: 0.3781 - acc: 0.8894 - val_loss: 0.2562 - val_acc: 0.9248\n",
      "Epoch 104/200\n",
      "48000/48000 [==============================] - 2s - loss: 0.3760 - acc: 0.8884 - val_loss: 0.2553 - val_acc: 0.9252\n",
      "Epoch 105/200\n",
      "48000/48000 [==============================] - 2s - loss: 0.3729 - acc: 0.8902 - val_loss: 0.2541 - val_acc: 0.9258\n",
      "Epoch 106/200\n",
      "48000/48000 [==============================] - 2s - loss: 0.3719 - acc: 0.8889 - val_loss: 0.2531 - val_acc: 0.9262\n",
      "Epoch 107/200\n",
      "48000/48000 [==============================] - 2s - loss: 0.3708 - acc: 0.8907 - val_loss: 0.2521 - val_acc: 0.9262\n",
      "Epoch 108/200\n",
      "48000/48000 [==============================] - 2s - loss: 0.3722 - acc: 0.8918 - val_loss: 0.2512 - val_acc: 0.9265\n",
      "Epoch 109/200\n",
      "48000/48000 [==============================] - 2s - loss: 0.3681 - acc: 0.8907 - val_loss: 0.2502 - val_acc: 0.9269\n",
      "Epoch 110/200\n",
      "48000/48000 [==============================] - 2s - loss: 0.3690 - acc: 0.8905 - val_loss: 0.2492 - val_acc: 0.9277\n",
      "Epoch 111/200\n",
      "48000/48000 [==============================] - 2s - loss: 0.3640 - acc: 0.8938 - val_loss: 0.2482 - val_acc: 0.9275\n",
      "Epoch 112/200\n",
      "48000/48000 [==============================] - 2s - loss: 0.3664 - acc: 0.8902 - val_loss: 0.2474 - val_acc: 0.9280\n",
      "Epoch 113/200\n",
      "48000/48000 [==============================] - 2s - loss: 0.3653 - acc: 0.8926 - val_loss: 0.2467 - val_acc: 0.9281\n",
      "Epoch 114/200\n",
      "48000/48000 [==============================] - 2s - loss: 0.3632 - acc: 0.8941 - val_loss: 0.2456 - val_acc: 0.9283\n",
      "Epoch 115/200\n",
      "48000/48000 [==============================] - 2s - loss: 0.3592 - acc: 0.8948 - val_loss: 0.2446 - val_acc: 0.9286\n",
      "Epoch 116/200\n",
      "48000/48000 [==============================] - 2s - loss: 0.3592 - acc: 0.8938 - val_loss: 0.2438 - val_acc: 0.9287\n",
      "Epoch 117/200\n",
      "48000/48000 [==============================] - 2s - loss: 0.3623 - acc: 0.8941 - val_loss: 0.2430 - val_acc: 0.9293\n",
      "Epoch 118/200\n",
      "48000/48000 [==============================] - 2s - loss: 0.3573 - acc: 0.8940 - val_loss: 0.2422 - val_acc: 0.9294\n",
      "Epoch 119/200\n",
      "48000/48000 [==============================] - 2s - loss: 0.3579 - acc: 0.8944 - val_loss: 0.2414 - val_acc: 0.9294\n",
      "Epoch 120/200\n",
      "48000/48000 [==============================] - 2s - loss: 0.3545 - acc: 0.8965 - val_loss: 0.2407 - val_acc: 0.9297\n",
      "Epoch 121/200\n",
      "48000/48000 [==============================] - 2s - loss: 0.3551 - acc: 0.8958 - val_loss: 0.2399 - val_acc: 0.9297\n",
      "Epoch 122/200\n",
      "48000/48000 [==============================] - 2s - loss: 0.3509 - acc: 0.8972 - val_loss: 0.2392 - val_acc: 0.9302\n",
      "Epoch 123/200\n",
      "48000/48000 [==============================] - 2s - loss: 0.3496 - acc: 0.8972 - val_loss: 0.2383 - val_acc: 0.9303\n",
      "Epoch 124/200\n",
      "48000/48000 [==============================] - 2s - loss: 0.3505 - acc: 0.8958 - val_loss: 0.2375 - val_acc: 0.9312\n",
      "Epoch 125/200\n",
      "48000/48000 [==============================] - 2s - loss: 0.3491 - acc: 0.8969 - val_loss: 0.2367 - val_acc: 0.9313\n",
      "Epoch 126/200\n",
      "48000/48000 [==============================] - 2s - loss: 0.3487 - acc: 0.8971 - val_loss: 0.2359 - val_acc: 0.9315\n",
      "Epoch 127/200\n",
      "48000/48000 [==============================] - 2s - loss: 0.3460 - acc: 0.8980 - val_loss: 0.2350 - val_acc: 0.9315\n",
      "Epoch 128/200\n",
      "48000/48000 [==============================] - 2s - loss: 0.3450 - acc: 0.8984 - val_loss: 0.2343 - val_acc: 0.9316\n",
      "Epoch 129/200\n",
      "48000/48000 [==============================] - 2s - loss: 0.3465 - acc: 0.8974 - val_loss: 0.2336 - val_acc: 0.9320\n",
      "Epoch 130/200\n",
      "48000/48000 [==============================] - 2s - loss: 0.3445 - acc: 0.8989 - val_loss: 0.2329 - val_acc: 0.9325\n",
      "Epoch 131/200\n",
      "48000/48000 [==============================] - 2s - loss: 0.3455 - acc: 0.8984 - val_loss: 0.2321 - val_acc: 0.9328\n",
      "Epoch 132/200\n",
      "48000/48000 [==============================] - 2s - loss: 0.3378 - acc: 0.9011 - val_loss: 0.2314 - val_acc: 0.9329\n",
      "Epoch 133/200\n",
      "48000/48000 [==============================] - 2s - loss: 0.3414 - acc: 0.9003 - val_loss: 0.2307 - val_acc: 0.9327\n",
      "Epoch 134/200\n",
      "48000/48000 [==============================] - 2s - loss: 0.3403 - acc: 0.9006 - val_loss: 0.2300 - val_acc: 0.9333\n",
      "Epoch 135/200\n",
      "48000/48000 [==============================] - 2s - loss: 0.3359 - acc: 0.9023 - val_loss: 0.2291 - val_acc: 0.9337\n",
      "Epoch 136/200\n",
      "48000/48000 [==============================] - 2s - loss: 0.3362 - acc: 0.8995 - val_loss: 0.2284 - val_acc: 0.9344\n",
      "Epoch 137/200\n",
      "48000/48000 [==============================] - 2s - loss: 0.3337 - acc: 0.9031 - val_loss: 0.2275 - val_acc: 0.9336\n",
      "Epoch 138/200\n",
      "48000/48000 [==============================] - 2s - loss: 0.3308 - acc: 0.9025 - val_loss: 0.2269 - val_acc: 0.9342\n",
      "Epoch 139/200\n",
      "48000/48000 [==============================] - 2s - loss: 0.3325 - acc: 0.9013 - val_loss: 0.2263 - val_acc: 0.9344\n",
      "Epoch 140/200\n",
      "48000/48000 [==============================] - 2s - loss: 0.3315 - acc: 0.9032 - val_loss: 0.2256 - val_acc: 0.9349\n",
      "Epoch 141/200\n",
      "48000/48000 [==============================] - 2s - loss: 0.3329 - acc: 0.9028 - val_loss: 0.2249 - val_acc: 0.9348\n",
      "Epoch 142/200\n",
      "48000/48000 [==============================] - 2s - loss: 0.3305 - acc: 0.9025 - val_loss: 0.2242 - val_acc: 0.9350\n",
      "Epoch 143/200\n",
      "48000/48000 [==============================] - 2s - loss: 0.3294 - acc: 0.9023 - val_loss: 0.2236 - val_acc: 0.9347\n",
      "Epoch 144/200\n",
      "48000/48000 [==============================] - 2s - loss: 0.3243 - acc: 0.9048 - val_loss: 0.2230 - val_acc: 0.9350\n",
      "Epoch 145/200\n",
      "48000/48000 [==============================] - 2s - loss: 0.3264 - acc: 0.9036 - val_loss: 0.2221 - val_acc: 0.9353\n",
      "Epoch 146/200\n",
      "48000/48000 [==============================] - 2s - loss: 0.3247 - acc: 0.9051 - val_loss: 0.2215 - val_acc: 0.9356\n",
      "Epoch 147/200\n",
      "48000/48000 [==============================] - 2s - loss: 0.3243 - acc: 0.9030 - val_loss: 0.2210 - val_acc: 0.9359\n",
      "Epoch 148/200\n",
      "48000/48000 [==============================] - 2s - loss: 0.3239 - acc: 0.9056 - val_loss: 0.2203 - val_acc: 0.9359\n",
      "Epoch 149/200\n",
      "48000/48000 [==============================] - 2s - loss: 0.3198 - acc: 0.9061 - val_loss: 0.2195 - val_acc: 0.9358\n",
      "Epoch 150/200\n",
      "48000/48000 [==============================] - 2s - loss: 0.3202 - acc: 0.9057 - val_loss: 0.2189 - val_acc: 0.9359\n",
      "Epoch 151/200\n",
      "48000/48000 [==============================] - 2s - loss: 0.3204 - acc: 0.9058 - val_loss: 0.2183 - val_acc: 0.9363\n",
      "Epoch 152/200\n",
      "48000/48000 [==============================] - 2s - loss: 0.3183 - acc: 0.9061 - val_loss: 0.2175 - val_acc: 0.9364\n",
      "Epoch 153/200\n",
      "48000/48000 [==============================] - 2s - loss: 0.3158 - acc: 0.9069 - val_loss: 0.2169 - val_acc: 0.9366\n",
      "Epoch 154/200\n",
      "48000/48000 [==============================] - 2s - loss: 0.3169 - acc: 0.9069 - val_loss: 0.2163 - val_acc: 0.9366\n",
      "Epoch 155/200\n",
      "48000/48000 [==============================] - 2s - loss: 0.3184 - acc: 0.9067 - val_loss: 0.2158 - val_acc: 0.9367\n",
      "Epoch 156/200\n",
      "48000/48000 [==============================] - 2s - loss: 0.3173 - acc: 0.9067 - val_loss: 0.2153 - val_acc: 0.9367\n",
      "Epoch 157/200\n",
      "48000/48000 [==============================] - 2s - loss: 0.3153 - acc: 0.9075 - val_loss: 0.2147 - val_acc: 0.9369\n",
      "Epoch 158/200\n",
      "48000/48000 [==============================] - 2s - loss: 0.3162 - acc: 0.9066 - val_loss: 0.2138 - val_acc: 0.9373\n",
      "Epoch 159/200\n",
      "48000/48000 [==============================] - 2s - loss: 0.3133 - acc: 0.9076 - val_loss: 0.2133 - val_acc: 0.9369\n",
      "Epoch 160/200\n",
      "48000/48000 [==============================] - 2s - loss: 0.3094 - acc: 0.9075 - val_loss: 0.2127 - val_acc: 0.9373\n",
      "Epoch 161/200\n",
      "48000/48000 [==============================] - 2s - loss: 0.3115 - acc: 0.9080 - val_loss: 0.2122 - val_acc: 0.9374\n",
      "Epoch 162/200\n",
      "48000/48000 [==============================] - 2s - loss: 0.3103 - acc: 0.9076 - val_loss: 0.2115 - val_acc: 0.9371\n",
      "Epoch 163/200\n",
      "48000/48000 [==============================] - 2s - loss: 0.3085 - acc: 0.9091 - val_loss: 0.2111 - val_acc: 0.9377\n",
      "Epoch 164/200\n",
      "48000/48000 [==============================] - 2s - loss: 0.3093 - acc: 0.9089 - val_loss: 0.2105 - val_acc: 0.9381\n",
      "Epoch 165/200\n",
      "48000/48000 [==============================] - 2s - loss: 0.3088 - acc: 0.9082 - val_loss: 0.2100 - val_acc: 0.9381\n",
      "Epoch 166/200\n",
      "48000/48000 [==============================] - 2s - loss: 0.3075 - acc: 0.9108 - val_loss: 0.2092 - val_acc: 0.9388\n",
      "Epoch 167/200\n",
      "48000/48000 [==============================] - 2s - loss: 0.3041 - acc: 0.9112 - val_loss: 0.2086 - val_acc: 0.9392\n",
      "Epoch 168/200\n",
      "48000/48000 [==============================] - 2s - loss: 0.3053 - acc: 0.9098 - val_loss: 0.2081 - val_acc: 0.9393\n",
      "Epoch 169/200\n",
      "48000/48000 [==============================] - 2s - loss: 0.3061 - acc: 0.9097 - val_loss: 0.2076 - val_acc: 0.9396\n",
      "Epoch 170/200\n",
      "48000/48000 [==============================] - 2s - loss: 0.3021 - acc: 0.9106 - val_loss: 0.2071 - val_acc: 0.9396\n",
      "Epoch 171/200\n",
      "48000/48000 [==============================] - 2s - loss: 0.3025 - acc: 0.9111 - val_loss: 0.2065 - val_acc: 0.9401\n",
      "Epoch 172/200\n",
      "48000/48000 [==============================] - 2s - loss: 0.3030 - acc: 0.9108 - val_loss: 0.2060 - val_acc: 0.9399\n",
      "Epoch 173/200\n",
      "48000/48000 [==============================] - 2s - loss: 0.3032 - acc: 0.9104 - val_loss: 0.2055 - val_acc: 0.9403\n",
      "Epoch 174/200\n",
      "48000/48000 [==============================] - 2s - loss: 0.3024 - acc: 0.9105 - val_loss: 0.2050 - val_acc: 0.9408\n",
      "Epoch 175/200\n",
      "48000/48000 [==============================] - 2s - loss: 0.3014 - acc: 0.9094 - val_loss: 0.2045 - val_acc: 0.9409\n",
      "Epoch 176/200\n",
      "48000/48000 [==============================] - 2s - loss: 0.2964 - acc: 0.9129 - val_loss: 0.2040 - val_acc: 0.9409\n",
      "Epoch 177/200\n",
      "48000/48000 [==============================] - 2s - loss: 0.2976 - acc: 0.9129 - val_loss: 0.2035 - val_acc: 0.9413\n",
      "Epoch 178/200\n",
      "48000/48000 [==============================] - 2s - loss: 0.3011 - acc: 0.9112 - val_loss: 0.2031 - val_acc: 0.9412\n",
      "Epoch 179/200\n",
      "48000/48000 [==============================] - 2s - loss: 0.2972 - acc: 0.9127 - val_loss: 0.2025 - val_acc: 0.9416\n",
      "Epoch 180/200\n",
      "48000/48000 [==============================] - 2s - loss: 0.2952 - acc: 0.9129 - val_loss: 0.2020 - val_acc: 0.9416\n",
      "Epoch 181/200\n",
      "48000/48000 [==============================] - 2s - loss: 0.2964 - acc: 0.9126 - val_loss: 0.2015 - val_acc: 0.9417\n",
      "Epoch 182/200\n",
      "48000/48000 [==============================] - 2s - loss: 0.2956 - acc: 0.9136 - val_loss: 0.2010 - val_acc: 0.9417\n",
      "Epoch 183/200\n",
      "48000/48000 [==============================] - 2s - loss: 0.2927 - acc: 0.9141 - val_loss: 0.2004 - val_acc: 0.9422\n",
      "Epoch 184/200\n",
      "48000/48000 [==============================] - 2s - loss: 0.2933 - acc: 0.9139 - val_loss: 0.1999 - val_acc: 0.9423\n",
      "Epoch 185/200\n",
      "48000/48000 [==============================] - 2s - loss: 0.2938 - acc: 0.9139 - val_loss: 0.1994 - val_acc: 0.9426\n",
      "Epoch 186/200\n",
      "48000/48000 [==============================] - 2s - loss: 0.2954 - acc: 0.9124 - val_loss: 0.1989 - val_acc: 0.9426\n",
      "Epoch 187/200\n",
      "48000/48000 [==============================] - 2s - loss: 0.2913 - acc: 0.9139 - val_loss: 0.1986 - val_acc: 0.9423\n",
      "Epoch 188/200\n",
      "48000/48000 [==============================] - 2s - loss: 0.2908 - acc: 0.9125 - val_loss: 0.1979 - val_acc: 0.9430\n",
      "Epoch 189/200\n",
      "48000/48000 [==============================] - 2s - loss: 0.2907 - acc: 0.9136 - val_loss: 0.1975 - val_acc: 0.9431\n",
      "Epoch 190/200\n",
      "48000/48000 [==============================] - 2s - loss: 0.2893 - acc: 0.9142 - val_loss: 0.1970 - val_acc: 0.9432\n",
      "Epoch 191/200\n",
      "48000/48000 [==============================] - 2s - loss: 0.2867 - acc: 0.9146 - val_loss: 0.1965 - val_acc: 0.9433\n",
      "Epoch 192/200\n",
      "48000/48000 [==============================] - 2s - loss: 0.2902 - acc: 0.9138 - val_loss: 0.1961 - val_acc: 0.9439\n",
      "Epoch 193/200\n",
      "48000/48000 [==============================] - 2s - loss: 0.2885 - acc: 0.9156 - val_loss: 0.1956 - val_acc: 0.9436\n",
      "Epoch 194/200\n",
      "48000/48000 [==============================] - 2s - loss: 0.2856 - acc: 0.9167 - val_loss: 0.1952 - val_acc: 0.9436\n",
      "Epoch 195/200\n",
      "48000/48000 [==============================] - 2s - loss: 0.2868 - acc: 0.9159 - val_loss: 0.1947 - val_acc: 0.9437\n",
      "Epoch 196/200\n",
      "48000/48000 [==============================] - 2s - loss: 0.2866 - acc: 0.9167 - val_loss: 0.1942 - val_acc: 0.9441\n",
      "Epoch 197/200\n",
      "48000/48000 [==============================] - 2s - loss: 0.2854 - acc: 0.9163 - val_loss: 0.1938 - val_acc: 0.9442\n",
      "Epoch 198/200\n",
      "48000/48000 [==============================] - 2s - loss: 0.2841 - acc: 0.9150 - val_loss: 0.1933 - val_acc: 0.9443\n",
      "Epoch 199/200\n",
      "48000/48000 [==============================] - 2s - loss: 0.2837 - acc: 0.9161 - val_loss: 0.1929 - val_acc: 0.9445\n",
      "Epoch 200/200\n",
      "48000/48000 [==============================] - 2s - loss: 0.2822 - acc: 0.9179 - val_loss: 0.1926 - val_acc: 0.9446\n"
     ]
    }
   ],
   "source": [
    "time_start = time.clock()\n",
    "history = model.fit(X_train, y_train,\n",
    "                    batch_size=128,\n",
    "                    epochs=200,\n",
    "                    verbose=1,\n",
    "                    validation_split=0.2)\n",
    "time_end = time.clock()"
   ]
  },
  {
   "cell_type": "code",
   "execution_count": 10,
   "metadata": {
    "collapsed": true
   },
   "outputs": [],
   "source": [
    "time_end = time.clock()"
   ]
  },
  {
   "cell_type": "code",
   "execution_count": 11,
   "metadata": {
    "collapsed": false
   },
   "outputs": [
    {
     "name": "stdout",
     "output_type": "stream",
     "text": [
      "Time to train\n",
      "Time elapsed in seconds : 433\n",
      "Time elapsed in minutes : 7.2\n",
      "Time elapsed in hours   : 0.1\n"
     ]
    }
   ],
   "source": [
    "duration = time_end - time_start\n",
    "print(\"Time to train\")\n",
    "print(\"Time elapsed in seconds : %.0f\" % duration)\n",
    "print(\"Time elapsed in minutes : %.1f\" % (duration/60))\n",
    "print(\"Time elapsed in hours   : %.1f\" % (duration/3600))"
   ]
  },
  {
   "cell_type": "code",
   "execution_count": 12,
   "metadata": {
    "collapsed": false
   },
   "outputs": [
    {
     "name": "stdout",
     "output_type": "stream",
     "text": [
      " 9120/10000 [==========================>...] - ETA: 0s\n",
      "Test score: 0.192051835673\n",
      "Test accuracy: 0.9429\n"
     ]
    }
   ],
   "source": [
    "score = model.evaluate(X_test, y_test,\n",
    "                       verbose=1)\n",
    "print(\"\")\n",
    "print(\"Test score:\", score[0])\n",
    "print(\"Test accuracy:\", score[1])"
   ]
  },
  {
   "cell_type": "code",
   "execution_count": 13,
   "metadata": {
    "collapsed": false
   },
   "outputs": [
    {
     "name": "stdout",
     "output_type": "stream",
     "text": [
      "dict_keys(['acc', 'loss', 'val_acc', 'val_loss'])\n"
     ]
    }
   ],
   "source": [
    "# list all data in history\n",
    "print(history.history.keys())"
   ]
  },
  {
   "cell_type": "code",
   "execution_count": 14,
   "metadata": {
    "collapsed": false
   },
   "outputs": [
    {
     "data": {
      "image/png": "[encoded data removed]",
      "text/plain": [
       "<matplotlib.figure.Figure at 0x23e9391e550>"
      ]
     },
     "metadata": {},
     "output_type": "display_data"
    }
   ],
   "source": [
    "# Accuracy\n",
    "plt.plot(history.history[\"acc\"])\n",
    "plt.plot(history.history[\"val_acc\"])\n",
    "plt.title(\"model accuracy\")\n",
    "plt.ylabel(\"accuracy\")\n",
    "plt.xlabel(\"epoch\")\n",
    "plt.legend([\"train\", \"test\"], loc=\"lower left\")\n",
    "plt.show()"
   ]
  },
  {
   "cell_type": "code",
   "execution_count": 15,
   "metadata": {
    "collapsed": false
   },
   "outputs": [
    {
     "data": {
      "image/png": "[encoded data removed]",
      "text/plain": [
       "<matplotlib.figure.Figure at 0x23e93afb0b8>"
      ]
     },
     "metadata": {},
     "output_type": "display_data"
    }
   ],
   "source": [
    "# Loss\n",
    "plt.plot(history.history[\"loss\"])\n",
    "plt.plot(history.history[\"val_loss\"])\n",
    "plt.title(\"model loss\")\n",
    "plt.ylabel(\"loss\")\n",
    "plt.xlabel(\"epoch\")\n",
    "plt.legend([\"train\", \"test\"], loc=\"upper left\")\n",
    "plt.show()"
   ]
  }
 ],
 "metadata": {
  "anaconda-cloud": {},
  "kernelspec": {
   "display_name": "Python [default]",
   "language": "python",
   "name": "python3"
  },
  "language_info": {
   "codemirror_mode": {
    "name": "ipython",
    "version": 3
   },
   "file_extension": ".py",
   "mimetype": "text/x-python",
   "name": "python",
   "nbconvert_exporter": "python",
   "pygments_lexer": "ipython3",
   "version": "3.5.2"
  }
 },
 "nbformat": 4,
 "nbformat_minor": 1
}
