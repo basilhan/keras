{
 "cells": [
  {
   "cell_type": "code",
   "execution_count": 1,
   "metadata": {
    "collapsed": false
   },
   "outputs": [
    {
     "name": "stderr",
     "output_type": "stream",
     "text": [
      "Using TensorFlow backend.\n"
     ]
    }
   ],
   "source": [
    "import numpy as np\n",
    "import matplotlib.pyplot as plt\n",
    "import time\n",
    "from keras.datasets import mnist\n",
    "from keras.models import Sequential\n",
    "from keras.layers.core import Dense, Dropout, Activation\n",
    "from keras.optimizers import SGD, Adam, RMSprop, Adagrad, Adadelta\n",
    "from keras.utils import np_utils\n",
    "from tensorflow import set_random_seed"
   ]
  },
  {
   "cell_type": "code",
   "execution_count": 2,
   "metadata": {
    "collapsed": false
   },
   "outputs": [],
   "source": [
    "np.random.seed(2015)\n",
    "set_random_seed(2015)"
   ]
  },
  {
   "cell_type": "code",
   "execution_count": 3,
   "metadata": {
    "collapsed": false
   },
   "outputs": [],
   "source": [
    "# Load data\n",
    "(X_train, y_train), (X_test, y_test) = mnist.load_data()"
   ]
  },
  {
   "cell_type": "code",
   "execution_count": 4,
   "metadata": {
    "collapsed": false
   },
   "outputs": [
    {
     "name": "stdout",
     "output_type": "stream",
     "text": [
      "60000 training samples\n",
      "10000 testing samples\n"
     ]
    }
   ],
   "source": [
    "# Preprocessing\n",
    "X_train = X_train.reshape(60000, 784)\n",
    "X_test  = X_test.reshape(10000, 784)\n",
    "X_train = X_train.astype(\"float32\")\n",
    "X_test  = X_test.astype(\"float32\")\n",
    "X_train /= 255\n",
    "X_test  /= 255\n",
    "print(X_train.shape[0], \"training samples\")\n",
    "print(X_test.shape[0], \"testing samples\")"
   ]
  },
  {
   "cell_type": "code",
   "execution_count": 5,
   "metadata": {
    "collapsed": true
   },
   "outputs": [],
   "source": [
    "# Convert labels to one-hot encoding\n",
    "# e.g. 1 -> array([ 0.,  1.,  0.,  0.,  0.,  0.,  0.,  0.,  0.,  0.])\n",
    "y_train = np_utils.to_categorical(y_train, 10)\n",
    "y_test = np_utils.to_categorical(y_test, 10)"
   ]
  },
  {
   "cell_type": "markdown",
   "metadata": {},
   "source": [
    "The argument *input_dim* is equivalent to *input_shape* ([reference](https://keras.io/getting-started/sequential-model-guide/))."
   ]
  },
  {
   "cell_type": "code",
   "execution_count": 6,
   "metadata": {
    "collapsed": false
   },
   "outputs": [],
   "source": [
    "# Define the model\n",
    "model = Sequential([\n",
    "        Dense(128, input_dim=784), Activation(\"relu\"), Dropout(0.3),\n",
    "        Dense(128), Activation(\"relu\"), Dropout(0.3),\n",
    "        Dense(10), Activation(\"softmax\")\n",
    "    ])"
   ]
  },
  {
   "cell_type": "code",
   "execution_count": 7,
   "metadata": {
    "collapsed": false
   },
   "outputs": [
    {
     "name": "stdout",
     "output_type": "stream",
     "text": [
      "_________________________________________________________________\n",
      "Layer (type)                 Output Shape              Param #   \n",
      "=================================================================\n",
      "dense_1 (Dense)              (None, 128)               100480    \n",
      "_________________________________________________________________\n",
      "activation_1 (Activation)    (None, 128)               0         \n",
      "_________________________________________________________________\n",
      "dropout_1 (Dropout)          (None, 128)               0         \n",
      "_________________________________________________________________\n",
      "dense_2 (Dense)              (None, 128)               16512     \n",
      "_________________________________________________________________\n",
      "activation_2 (Activation)    (None, 128)               0         \n",
      "_________________________________________________________________\n",
      "dropout_2 (Dropout)          (None, 128)               0         \n",
      "_________________________________________________________________\n",
      "dense_3 (Dense)              (None, 10)                1290      \n",
      "_________________________________________________________________\n",
      "activation_3 (Activation)    (None, 10)                0         \n",
      "=================================================================\n",
      "Total params: 118,282\n",
      "Trainable params: 118,282\n",
      "Non-trainable params: 0\n",
      "_________________________________________________________________\n"
     ]
    }
   ],
   "source": [
    "model.summary()"
   ]
  },
  {
   "cell_type": "code",
   "execution_count": 8,
   "metadata": {
    "collapsed": false
   },
   "outputs": [],
   "source": [
    "model.compile(loss=\"categorical_crossentropy\",\n",
    "              optimizer=Adam(),\n",
    "              metrics=[\"accuracy\"])"
   ]
  },
  {
   "cell_type": "code",
   "execution_count": 9,
   "metadata": {
    "collapsed": false
   },
   "outputs": [
    {
     "name": "stdout",
     "output_type": "stream",
     "text": [
      "Train on 48000 samples, validate on 12000 samples\n",
      "Epoch 1/200\n",
      "48000/48000 [==============================] - 2s - loss: 0.5159 - acc: 0.8408 - val_loss: 0.1827 - val_acc: 0.9464\n",
      "Epoch 2/200\n",
      "48000/48000 [==============================] - 2s - loss: 0.2284 - acc: 0.9316 - val_loss: 0.1358 - val_acc: 0.9593\n",
      "Epoch 3/200\n",
      "48000/48000 [==============================] - 2s - loss: 0.1775 - acc: 0.9469 - val_loss: 0.1190 - val_acc: 0.9648\n",
      "Epoch 4/200\n",
      "48000/48000 [==============================] - 2s - loss: 0.1497 - acc: 0.9548 - val_loss: 0.1050 - val_acc: 0.9682\n",
      "Epoch 5/200\n",
      "48000/48000 [==============================] - 2s - loss: 0.1292 - acc: 0.9602 - val_loss: 0.0984 - val_acc: 0.9713\n",
      "Epoch 6/200\n",
      "48000/48000 [==============================] - 2s - loss: 0.1183 - acc: 0.9641 - val_loss: 0.0919 - val_acc: 0.9724\n",
      "Epoch 7/200\n",
      "48000/48000 [==============================] - 2s - loss: 0.1083 - acc: 0.9667 - val_loss: 0.0949 - val_acc: 0.9727\n",
      "Epoch 8/200\n",
      "48000/48000 [==============================] - 2s - loss: 0.1003 - acc: 0.9692 - val_loss: 0.0878 - val_acc: 0.9742\n",
      "Epoch 9/200\n",
      "48000/48000 [==============================] - 2s - loss: 0.0903 - acc: 0.9712 - val_loss: 0.0854 - val_acc: 0.9752\n",
      "Epoch 10/200\n",
      "48000/48000 [==============================] - 2s - loss: 0.0829 - acc: 0.9730 - val_loss: 0.0810 - val_acc: 0.9757\n",
      "Epoch 11/200\n",
      "48000/48000 [==============================] - 2s - loss: 0.0828 - acc: 0.9738 - val_loss: 0.0834 - val_acc: 0.9767\n",
      "Epoch 12/200\n",
      "48000/48000 [==============================] - 2s - loss: 0.0744 - acc: 0.9758 - val_loss: 0.0802 - val_acc: 0.9778\n",
      "Epoch 13/200\n",
      "48000/48000 [==============================] - 2s - loss: 0.0732 - acc: 0.9764 - val_loss: 0.0821 - val_acc: 0.9777\n",
      "Epoch 14/200\n",
      "48000/48000 [==============================] - 2s - loss: 0.0675 - acc: 0.9784 - val_loss: 0.0811 - val_acc: 0.9774\n",
      "Epoch 15/200\n",
      "48000/48000 [==============================] - 2s - loss: 0.0634 - acc: 0.9792 - val_loss: 0.0847 - val_acc: 0.9763\n",
      "Epoch 16/200\n",
      "48000/48000 [==============================] - 2s - loss: 0.0618 - acc: 0.9797 - val_loss: 0.0844 - val_acc: 0.9775\n",
      "Epoch 17/200\n",
      "48000/48000 [==============================] - 2s - loss: 0.0592 - acc: 0.9812 - val_loss: 0.0803 - val_acc: 0.9787\n",
      "Epoch 18/200\n",
      "48000/48000 [==============================] - 2s - loss: 0.0565 - acc: 0.9823 - val_loss: 0.0815 - val_acc: 0.9774\n",
      "Epoch 19/200\n",
      "48000/48000 [==============================] - 2s - loss: 0.0537 - acc: 0.9824 - val_loss: 0.0788 - val_acc: 0.9787\n",
      "Epoch 20/200\n",
      "48000/48000 [==============================] - 2s - loss: 0.0549 - acc: 0.9822 - val_loss: 0.0818 - val_acc: 0.9777\n",
      "Epoch 21/200\n",
      "48000/48000 [==============================] - 2s - loss: 0.0515 - acc: 0.9831 - val_loss: 0.0842 - val_acc: 0.9783\n",
      "Epoch 22/200\n",
      "48000/48000 [==============================] - 2s - loss: 0.0499 - acc: 0.9838 - val_loss: 0.0856 - val_acc: 0.9776\n",
      "Epoch 23/200\n",
      "48000/48000 [==============================] - 2s - loss: 0.0491 - acc: 0.9836 - val_loss: 0.0819 - val_acc: 0.9790\n",
      "Epoch 24/200\n",
      "48000/48000 [==============================] - 2s - loss: 0.0475 - acc: 0.9842 - val_loss: 0.0814 - val_acc: 0.9788\n",
      "Epoch 25/200\n",
      "48000/48000 [==============================] - 2s - loss: 0.0465 - acc: 0.9846 - val_loss: 0.0841 - val_acc: 0.9788\n",
      "Epoch 26/200\n",
      "48000/48000 [==============================] - 2s - loss: 0.0486 - acc: 0.9847 - val_loss: 0.0820 - val_acc: 0.9802\n",
      "Epoch 27/200\n",
      "48000/48000 [==============================] - 2s - loss: 0.0478 - acc: 0.9851 - val_loss: 0.0859 - val_acc: 0.9773\n",
      "Epoch 28/200\n",
      "48000/48000 [==============================] - 2s - loss: 0.0456 - acc: 0.9841 - val_loss: 0.0872 - val_acc: 0.9778\n",
      "Epoch 29/200\n",
      "48000/48000 [==============================] - 2s - loss: 0.0402 - acc: 0.9869 - val_loss: 0.0844 - val_acc: 0.9797\n",
      "Epoch 30/200\n",
      "48000/48000 [==============================] - 2s - loss: 0.0416 - acc: 0.9856 - val_loss: 0.0860 - val_acc: 0.9798\n",
      "Epoch 31/200\n",
      "48000/48000 [==============================] - 2s - loss: 0.0405 - acc: 0.9873 - val_loss: 0.0828 - val_acc: 0.9793\n",
      "Epoch 32/200\n",
      "48000/48000 [==============================] - 2s - loss: 0.0396 - acc: 0.9867 - val_loss: 0.0864 - val_acc: 0.9786\n",
      "Epoch 33/200\n",
      "48000/48000 [==============================] - 2s - loss: 0.0384 - acc: 0.9874 - val_loss: 0.0875 - val_acc: 0.9777\n",
      "Epoch 34/200\n",
      "48000/48000 [==============================] - 2s - loss: 0.0397 - acc: 0.9869 - val_loss: 0.0868 - val_acc: 0.9797\n",
      "Epoch 35/200\n",
      "48000/48000 [==============================] - 2s - loss: 0.0374 - acc: 0.9874 - val_loss: 0.0828 - val_acc: 0.9785\n",
      "Epoch 36/200\n",
      "48000/48000 [==============================] - 2s - loss: 0.0376 - acc: 0.9873 - val_loss: 0.0906 - val_acc: 0.9782\n",
      "Epoch 37/200\n",
      "48000/48000 [==============================] - 2s - loss: 0.0382 - acc: 0.9874 - val_loss: 0.0957 - val_acc: 0.9782\n",
      "Epoch 38/200\n",
      "48000/48000 [==============================] - 2s - loss: 0.0383 - acc: 0.9878 - val_loss: 0.0886 - val_acc: 0.9791\n",
      "Epoch 39/200\n",
      "48000/48000 [==============================] - 2s - loss: 0.0377 - acc: 0.9875 - val_loss: 0.0901 - val_acc: 0.9792\n",
      "Epoch 40/200\n",
      "48000/48000 [==============================] - 2s - loss: 0.0361 - acc: 0.9875 - val_loss: 0.0897 - val_acc: 0.9796\n",
      "Epoch 41/200\n",
      "48000/48000 [==============================] - 2s - loss: 0.0351 - acc: 0.9884 - val_loss: 0.0900 - val_acc: 0.9794\n",
      "Epoch 42/200\n",
      "48000/48000 [==============================] - 2s - loss: 0.0337 - acc: 0.9887 - val_loss: 0.0958 - val_acc: 0.9784\n",
      "Epoch 43/200\n",
      "48000/48000 [==============================] - 2s - loss: 0.0342 - acc: 0.9881 - val_loss: 0.0887 - val_acc: 0.9804\n",
      "Epoch 44/200\n",
      "48000/48000 [==============================] - 2s - loss: 0.0340 - acc: 0.9888 - val_loss: 0.0908 - val_acc: 0.9792\n",
      "Epoch 45/200\n",
      "48000/48000 [==============================] - 2s - loss: 0.0336 - acc: 0.9890 - val_loss: 0.0907 - val_acc: 0.9793\n",
      "Epoch 46/200\n",
      "48000/48000 [==============================] - 2s - loss: 0.0319 - acc: 0.9896 - val_loss: 0.0908 - val_acc: 0.9795\n",
      "Epoch 47/200\n",
      "48000/48000 [==============================] - 2s - loss: 0.0332 - acc: 0.9889 - val_loss: 0.0948 - val_acc: 0.9802\n",
      "Epoch 48/200\n",
      "48000/48000 [==============================] - 2s - loss: 0.0332 - acc: 0.9892 - val_loss: 0.0887 - val_acc: 0.9792\n",
      "Epoch 49/200\n",
      "48000/48000 [==============================] - 2s - loss: 0.0307 - acc: 0.9899 - val_loss: 0.0843 - val_acc: 0.9807\n",
      "Epoch 50/200\n",
      "48000/48000 [==============================] - 2s - loss: 0.0312 - acc: 0.9896 - val_loss: 0.0891 - val_acc: 0.9801\n",
      "Epoch 51/200\n",
      "48000/48000 [==============================] - 2s - loss: 0.0294 - acc: 0.9905 - val_loss: 0.0887 - val_acc: 0.9812\n",
      "Epoch 52/200\n",
      "48000/48000 [==============================] - 2s - loss: 0.0312 - acc: 0.9897 - val_loss: 0.0894 - val_acc: 0.9798\n",
      "Epoch 53/200\n",
      "48000/48000 [==============================] - 2s - loss: 0.0295 - acc: 0.9902 - val_loss: 0.0996 - val_acc: 0.9778\n",
      "Epoch 54/200\n",
      "48000/48000 [==============================] - 2s - loss: 0.0282 - acc: 0.9908 - val_loss: 0.0964 - val_acc: 0.9796\n",
      "Epoch 55/200\n",
      "48000/48000 [==============================] - 2s - loss: 0.0301 - acc: 0.9899 - val_loss: 0.0921 - val_acc: 0.9798\n",
      "Epoch 56/200\n",
      "48000/48000 [==============================] - 2s - loss: 0.0284 - acc: 0.9901 - val_loss: 0.0930 - val_acc: 0.9789\n",
      "Epoch 57/200\n",
      "48000/48000 [==============================] - 2s - loss: 0.0322 - acc: 0.9895 - val_loss: 0.0960 - val_acc: 0.9788\n",
      "Epoch 58/200\n",
      "48000/48000 [==============================] - 2s - loss: 0.0298 - acc: 0.9902 - val_loss: 0.1005 - val_acc: 0.9793\n",
      "Epoch 59/200\n",
      "48000/48000 [==============================] - 2s - loss: 0.0295 - acc: 0.9902 - val_loss: 0.0949 - val_acc: 0.9798\n",
      "Epoch 60/200\n",
      "48000/48000 [==============================] - 2s - loss: 0.0286 - acc: 0.9908 - val_loss: 0.0932 - val_acc: 0.9792\n",
      "Epoch 61/200\n",
      "48000/48000 [==============================] - 2s - loss: 0.0298 - acc: 0.9904 - val_loss: 0.0992 - val_acc: 0.9790\n",
      "Epoch 62/200\n",
      "48000/48000 [==============================] - 2s - loss: 0.0266 - acc: 0.9907 - val_loss: 0.1011 - val_acc: 0.9790\n",
      "Epoch 63/200\n",
      "48000/48000 [==============================] - 2s - loss: 0.0276 - acc: 0.9907 - val_loss: 0.1023 - val_acc: 0.9787\n",
      "Epoch 64/200\n",
      "48000/48000 [==============================] - 2s - loss: 0.0279 - acc: 0.9908 - val_loss: 0.0975 - val_acc: 0.9805\n",
      "Epoch 65/200\n",
      "48000/48000 [==============================] - 2s - loss: 0.0254 - acc: 0.9916 - val_loss: 0.0971 - val_acc: 0.9797\n",
      "Epoch 66/200\n",
      "48000/48000 [==============================] - 2s - loss: 0.0271 - acc: 0.9908 - val_loss: 0.0982 - val_acc: 0.9791\n",
      "Epoch 67/200\n",
      "48000/48000 [==============================] - 2s - loss: 0.0260 - acc: 0.9912 - val_loss: 0.1019 - val_acc: 0.9797\n",
      "Epoch 68/200\n",
      "48000/48000 [==============================] - 2s - loss: 0.0270 - acc: 0.9913 - val_loss: 0.1014 - val_acc: 0.9787\n",
      "Epoch 69/200\n",
      "48000/48000 [==============================] - 2s - loss: 0.0292 - acc: 0.9907 - val_loss: 0.1010 - val_acc: 0.9798\n",
      "Epoch 70/200\n",
      "48000/48000 [==============================] - 2s - loss: 0.0251 - acc: 0.9915 - val_loss: 0.1021 - val_acc: 0.9799\n",
      "Epoch 71/200\n",
      "48000/48000 [==============================] - 2s - loss: 0.0269 - acc: 0.9907 - val_loss: 0.1007 - val_acc: 0.9788\n",
      "Epoch 72/200\n",
      "48000/48000 [==============================] - 2s - loss: 0.0261 - acc: 0.9915 - val_loss: 0.1040 - val_acc: 0.9795\n",
      "Epoch 73/200\n",
      "48000/48000 [==============================] - 2s - loss: 0.0280 - acc: 0.9906 - val_loss: 0.1024 - val_acc: 0.9784\n",
      "Epoch 74/200\n",
      "48000/48000 [==============================] - 2s - loss: 0.0272 - acc: 0.9911 - val_loss: 0.1025 - val_acc: 0.9788\n",
      "Epoch 75/200\n",
      "48000/48000 [==============================] - 2s - loss: 0.0237 - acc: 0.9922 - val_loss: 0.0963 - val_acc: 0.9799\n",
      "Epoch 76/200\n",
      "48000/48000 [==============================] - 2s - loss: 0.0273 - acc: 0.9911 - val_loss: 0.1010 - val_acc: 0.9784\n",
      "Epoch 77/200\n",
      "48000/48000 [==============================] - 2s - loss: 0.0274 - acc: 0.9914 - val_loss: 0.1003 - val_acc: 0.9802\n",
      "Epoch 78/200\n",
      "48000/48000 [==============================] - 2s - loss: 0.0271 - acc: 0.9911 - val_loss: 0.1046 - val_acc: 0.9788\n",
      "Epoch 79/200\n",
      "48000/48000 [==============================] - 2s - loss: 0.0256 - acc: 0.9916 - val_loss: 0.0987 - val_acc: 0.9786\n",
      "Epoch 80/200\n",
      "48000/48000 [==============================] - 2s - loss: 0.0233 - acc: 0.9923 - val_loss: 0.1020 - val_acc: 0.9797\n",
      "Epoch 81/200\n",
      "48000/48000 [==============================] - 2s - loss: 0.0260 - acc: 0.9920 - val_loss: 0.1029 - val_acc: 0.9789\n",
      "Epoch 82/200\n",
      "48000/48000 [==============================] - 2s - loss: 0.0262 - acc: 0.9913 - val_loss: 0.0979 - val_acc: 0.9783\n",
      "Epoch 83/200\n",
      "48000/48000 [==============================] - 2s - loss: 0.0241 - acc: 0.9920 - val_loss: 0.0971 - val_acc: 0.9806\n",
      "Epoch 84/200\n",
      "48000/48000 [==============================] - 2s - loss: 0.0254 - acc: 0.9914 - val_loss: 0.1013 - val_acc: 0.9801\n",
      "Epoch 85/200\n",
      "48000/48000 [==============================] - 2s - loss: 0.0229 - acc: 0.9923 - val_loss: 0.1044 - val_acc: 0.9803\n",
      "Epoch 86/200\n",
      "48000/48000 [==============================] - 2s - loss: 0.0250 - acc: 0.9918 - val_loss: 0.0991 - val_acc: 0.9792\n",
      "Epoch 87/200\n",
      "48000/48000 [==============================] - 2s - loss: 0.0240 - acc: 0.9922 - val_loss: 0.1041 - val_acc: 0.9801\n",
      "Epoch 88/200\n",
      "48000/48000 [==============================] - 2s - loss: 0.0219 - acc: 0.9926 - val_loss: 0.1043 - val_acc: 0.9787\n",
      "Epoch 89/200\n",
      "48000/48000 [==============================] - 2s - loss: 0.0242 - acc: 0.9927 - val_loss: 0.1103 - val_acc: 0.9783\n",
      "Epoch 90/200\n",
      "48000/48000 [==============================] - 2s - loss: 0.0231 - acc: 0.9928 - val_loss: 0.1027 - val_acc: 0.9797\n",
      "Epoch 91/200\n",
      "48000/48000 [==============================] - 2s - loss: 0.0254 - acc: 0.9914 - val_loss: 0.1022 - val_acc: 0.9797\n",
      "Epoch 92/200\n",
      "48000/48000 [==============================] - 2s - loss: 0.0250 - acc: 0.9918 - val_loss: 0.1026 - val_acc: 0.9787\n",
      "Epoch 93/200\n",
      "48000/48000 [==============================] - 2s - loss: 0.0232 - acc: 0.9919 - val_loss: 0.1107 - val_acc: 0.9791\n",
      "Epoch 94/200\n",
      "48000/48000 [==============================] - 2s - loss: 0.0227 - acc: 0.9926 - val_loss: 0.1034 - val_acc: 0.9793\n",
      "Epoch 95/200\n",
      "48000/48000 [==============================] - 2s - loss: 0.0215 - acc: 0.9927 - val_loss: 0.1082 - val_acc: 0.9788\n",
      "Epoch 96/200\n",
      "48000/48000 [==============================] - 2s - loss: 0.0233 - acc: 0.9922 - val_loss: 0.1054 - val_acc: 0.9797\n",
      "Epoch 97/200\n",
      "48000/48000 [==============================] - 2s - loss: 0.0236 - acc: 0.9928 - val_loss: 0.1083 - val_acc: 0.9789\n",
      "Epoch 98/200\n",
      "48000/48000 [==============================] - 2s - loss: 0.0228 - acc: 0.9924 - val_loss: 0.1106 - val_acc: 0.9782\n",
      "Epoch 99/200\n",
      "48000/48000 [==============================] - 2s - loss: 0.0215 - acc: 0.9929 - val_loss: 0.1032 - val_acc: 0.9800\n",
      "Epoch 100/200\n",
      "48000/48000 [==============================] - 2s - loss: 0.0247 - acc: 0.9921 - val_loss: 0.1056 - val_acc: 0.9790\n",
      "Epoch 101/200\n",
      "48000/48000 [==============================] - 2s - loss: 0.0227 - acc: 0.9921 - val_loss: 0.1094 - val_acc: 0.9786\n",
      "Epoch 102/200\n",
      "48000/48000 [==============================] - 2s - loss: 0.0221 - acc: 0.9926 - val_loss: 0.1024 - val_acc: 0.9802\n",
      "Epoch 103/200\n",
      "48000/48000 [==============================] - 2s - loss: 0.0229 - acc: 0.9929 - val_loss: 0.1071 - val_acc: 0.9789\n",
      "Epoch 104/200\n",
      "48000/48000 [==============================] - 2s - loss: 0.0218 - acc: 0.9932 - val_loss: 0.0996 - val_acc: 0.9805\n",
      "Epoch 105/200\n",
      "48000/48000 [==============================] - 2s - loss: 0.0214 - acc: 0.9927 - val_loss: 0.1096 - val_acc: 0.9794\n",
      "Epoch 106/200\n",
      "48000/48000 [==============================] - 2s - loss: 0.0232 - acc: 0.9923 - val_loss: 0.1052 - val_acc: 0.9798\n",
      "Epoch 107/200\n",
      "48000/48000 [==============================] - 2s - loss: 0.0222 - acc: 0.9925 - val_loss: 0.1092 - val_acc: 0.9785\n",
      "Epoch 108/200\n",
      "48000/48000 [==============================] - 2s - loss: 0.0230 - acc: 0.9924 - val_loss: 0.1059 - val_acc: 0.9791\n",
      "Epoch 109/200\n",
      "48000/48000 [==============================] - 2s - loss: 0.0211 - acc: 0.9932 - val_loss: 0.1060 - val_acc: 0.9791\n",
      "Epoch 110/200\n",
      "48000/48000 [==============================] - 2s - loss: 0.0212 - acc: 0.9930 - val_loss: 0.1153 - val_acc: 0.9794\n",
      "Epoch 111/200\n",
      "48000/48000 [==============================] - 2s - loss: 0.0201 - acc: 0.9931 - val_loss: 0.1192 - val_acc: 0.9785\n",
      "Epoch 112/200\n",
      "48000/48000 [==============================] - 2s - loss: 0.0215 - acc: 0.9931 - val_loss: 0.1129 - val_acc: 0.9778\n",
      "Epoch 113/200\n",
      "48000/48000 [==============================] - 2s - loss: 0.0235 - acc: 0.9924 - val_loss: 0.1186 - val_acc: 0.9779\n",
      "Epoch 114/200\n",
      "48000/48000 [==============================] - 2s - loss: 0.0233 - acc: 0.9929 - val_loss: 0.1106 - val_acc: 0.9784\n",
      "Epoch 115/200\n",
      "48000/48000 [==============================] - 2s - loss: 0.0230 - acc: 0.9923 - val_loss: 0.1086 - val_acc: 0.9788\n",
      "Epoch 116/200\n",
      "48000/48000 [==============================] - 2s - loss: 0.0217 - acc: 0.9937 - val_loss: 0.1080 - val_acc: 0.9788\n",
      "Epoch 117/200\n",
      "48000/48000 [==============================] - 2s - loss: 0.0218 - acc: 0.9929 - val_loss: 0.1094 - val_acc: 0.9802\n",
      "Epoch 118/200\n",
      "48000/48000 [==============================] - 2s - loss: 0.0194 - acc: 0.9940 - val_loss: 0.1071 - val_acc: 0.9792\n",
      "Epoch 119/200\n",
      "48000/48000 [==============================] - 2s - loss: 0.0218 - acc: 0.9930 - val_loss: 0.1213 - val_acc: 0.9773\n",
      "Epoch 120/200\n",
      "48000/48000 [==============================] - 2s - loss: 0.0217 - acc: 0.9929 - val_loss: 0.1117 - val_acc: 0.9794\n",
      "Epoch 121/200\n",
      "48000/48000 [==============================] - 2s - loss: 0.0187 - acc: 0.9939 - val_loss: 0.1172 - val_acc: 0.9778\n",
      "Epoch 122/200\n",
      "48000/48000 [==============================] - 2s - loss: 0.0211 - acc: 0.9934 - val_loss: 0.1106 - val_acc: 0.9793\n",
      "Epoch 123/200\n",
      "48000/48000 [==============================] - 2s - loss: 0.0196 - acc: 0.9937 - val_loss: 0.1119 - val_acc: 0.9797\n",
      "Epoch 124/200\n",
      "48000/48000 [==============================] - 2s - loss: 0.0201 - acc: 0.9932 - val_loss: 0.1131 - val_acc: 0.9790\n",
      "Epoch 125/200\n",
      "48000/48000 [==============================] - 2s - loss: 0.0214 - acc: 0.9931 - val_loss: 0.1139 - val_acc: 0.9793\n",
      "Epoch 126/200\n",
      "48000/48000 [==============================] - 2s - loss: 0.0191 - acc: 0.9939 - val_loss: 0.1086 - val_acc: 0.9791\n",
      "Epoch 127/200\n",
      "48000/48000 [==============================] - 2s - loss: 0.0198 - acc: 0.9931 - val_loss: 0.1106 - val_acc: 0.9802\n",
      "Epoch 128/200\n",
      "48000/48000 [==============================] - 2s - loss: 0.0215 - acc: 0.9934 - val_loss: 0.1201 - val_acc: 0.9774\n",
      "Epoch 129/200\n",
      "48000/48000 [==============================] - 2s - loss: 0.0215 - acc: 0.9932 - val_loss: 0.1136 - val_acc: 0.9778\n",
      "Epoch 130/200\n",
      "48000/48000 [==============================] - 2s - loss: 0.0197 - acc: 0.9932 - val_loss: 0.1153 - val_acc: 0.9788\n",
      "Epoch 131/200\n",
      "48000/48000 [==============================] - 2s - loss: 0.0210 - acc: 0.9938 - val_loss: 0.1115 - val_acc: 0.9790\n",
      "Epoch 132/200\n",
      "48000/48000 [==============================] - 2s - loss: 0.0194 - acc: 0.9939 - val_loss: 0.1095 - val_acc: 0.9787\n",
      "Epoch 133/200\n",
      "48000/48000 [==============================] - 2s - loss: 0.0223 - acc: 0.9928 - val_loss: 0.1105 - val_acc: 0.9789\n",
      "Epoch 134/200\n",
      "48000/48000 [==============================] - 2s - loss: 0.0197 - acc: 0.9937 - val_loss: 0.1176 - val_acc: 0.9787\n",
      "Epoch 135/200\n",
      "48000/48000 [==============================] - 2s - loss: 0.0195 - acc: 0.9932 - val_loss: 0.1234 - val_acc: 0.9775\n",
      "Epoch 136/200\n",
      "48000/48000 [==============================] - 2s - loss: 0.0208 - acc: 0.9934 - val_loss: 0.1175 - val_acc: 0.9785\n",
      "Epoch 137/200\n",
      "48000/48000 [==============================] - 2s - loss: 0.0193 - acc: 0.9936 - val_loss: 0.1119 - val_acc: 0.9782\n",
      "Epoch 138/200\n",
      "48000/48000 [==============================] - 2s - loss: 0.0207 - acc: 0.9935 - val_loss: 0.1127 - val_acc: 0.9783\n",
      "Epoch 139/200\n",
      "48000/48000 [==============================] - 2s - loss: 0.0190 - acc: 0.9939 - val_loss: 0.1140 - val_acc: 0.9799\n",
      "Epoch 140/200\n",
      "48000/48000 [==============================] - 2s - loss: 0.0144 - acc: 0.9954 - val_loss: 0.1159 - val_acc: 0.9793\n",
      "Epoch 141/200\n",
      "48000/48000 [==============================] - 2s - loss: 0.0220 - acc: 0.9934 - val_loss: 0.1125 - val_acc: 0.9794\n",
      "Epoch 142/200\n",
      "48000/48000 [==============================] - 2s - loss: 0.0196 - acc: 0.9933 - val_loss: 0.1139 - val_acc: 0.9794\n",
      "Epoch 143/200\n",
      "48000/48000 [==============================] - 2s - loss: 0.0191 - acc: 0.9936 - val_loss: 0.1127 - val_acc: 0.9798\n",
      "Epoch 144/200\n",
      "48000/48000 [==============================] - 2s - loss: 0.0190 - acc: 0.9941 - val_loss: 0.1166 - val_acc: 0.9789\n",
      "Epoch 145/200\n",
      "48000/48000 [==============================] - 2s - loss: 0.0196 - acc: 0.9936 - val_loss: 0.1267 - val_acc: 0.9779\n",
      "Epoch 146/200\n",
      "48000/48000 [==============================] - 2s - loss: 0.0197 - acc: 0.9936 - val_loss: 0.1226 - val_acc: 0.9790\n",
      "Epoch 147/200\n",
      "48000/48000 [==============================] - 2s - loss: 0.0181 - acc: 0.9941 - val_loss: 0.1269 - val_acc: 0.9784\n",
      "Epoch 148/200\n",
      "48000/48000 [==============================] - 2s - loss: 0.0196 - acc: 0.9940 - val_loss: 0.1191 - val_acc: 0.9792\n",
      "Epoch 149/200\n",
      "48000/48000 [==============================] - 2s - loss: 0.0182 - acc: 0.9945 - val_loss: 0.1172 - val_acc: 0.9792\n",
      "Epoch 150/200\n",
      "48000/48000 [==============================] - 2s - loss: 0.0202 - acc: 0.9937 - val_loss: 0.1148 - val_acc: 0.9788\n",
      "Epoch 151/200\n",
      "48000/48000 [==============================] - 2s - loss: 0.0183 - acc: 0.9939 - val_loss: 0.1233 - val_acc: 0.9773\n",
      "Epoch 152/200\n",
      "48000/48000 [==============================] - 2s - loss: 0.0195 - acc: 0.9936 - val_loss: 0.1243 - val_acc: 0.9783\n",
      "Epoch 153/200\n",
      "48000/48000 [==============================] - 2s - loss: 0.0187 - acc: 0.9938 - val_loss: 0.1302 - val_acc: 0.9778\n",
      "Epoch 154/200\n",
      "48000/48000 [==============================] - 2s - loss: 0.0197 - acc: 0.9941 - val_loss: 0.1192 - val_acc: 0.9785\n",
      "Epoch 155/200\n",
      "48000/48000 [==============================] - 2s - loss: 0.0170 - acc: 0.9943 - val_loss: 0.1237 - val_acc: 0.9796\n",
      "Epoch 156/200\n",
      "48000/48000 [==============================] - 2s - loss: 0.0179 - acc: 0.9942 - val_loss: 0.1153 - val_acc: 0.9798\n",
      "Epoch 157/200\n",
      "48000/48000 [==============================] - 2s - loss: 0.0191 - acc: 0.9940 - val_loss: 0.1207 - val_acc: 0.9787\n",
      "Epoch 158/200\n",
      "48000/48000 [==============================] - 2s - loss: 0.0206 - acc: 0.9934 - val_loss: 0.1140 - val_acc: 0.9793\n",
      "Epoch 159/200\n",
      "48000/48000 [==============================] - 2s - loss: 0.0170 - acc: 0.9947 - val_loss: 0.1209 - val_acc: 0.9786\n",
      "Epoch 160/200\n",
      "48000/48000 [==============================] - 2s - loss: 0.0186 - acc: 0.9943 - val_loss: 0.1193 - val_acc: 0.9792\n",
      "Epoch 161/200\n",
      "48000/48000 [==============================] - 2s - loss: 0.0209 - acc: 0.9936 - val_loss: 0.1206 - val_acc: 0.9780\n",
      "Epoch 162/200\n",
      "48000/48000 [==============================] - 2s - loss: 0.0202 - acc: 0.9935 - val_loss: 0.1169 - val_acc: 0.9782\n",
      "Epoch 163/200\n",
      "48000/48000 [==============================] - 2s - loss: 0.0189 - acc: 0.9941 - val_loss: 0.1156 - val_acc: 0.9789\n",
      "Epoch 164/200\n",
      "48000/48000 [==============================] - 2s - loss: 0.0193 - acc: 0.9941 - val_loss: 0.1201 - val_acc: 0.9781\n",
      "Epoch 165/200\n",
      "48000/48000 [==============================] - 2s - loss: 0.0180 - acc: 0.9939 - val_loss: 0.1193 - val_acc: 0.9782\n",
      "Epoch 166/200\n",
      "48000/48000 [==============================] - 2s - loss: 0.0158 - acc: 0.9950 - val_loss: 0.1174 - val_acc: 0.9792\n",
      "Epoch 167/200\n",
      "48000/48000 [==============================] - 2s - loss: 0.0173 - acc: 0.9942 - val_loss: 0.1137 - val_acc: 0.9786\n",
      "Epoch 168/200\n",
      "48000/48000 [==============================] - 2s - loss: 0.0212 - acc: 0.9935 - val_loss: 0.1147 - val_acc: 0.9787\n",
      "Epoch 169/200\n",
      "48000/48000 [==============================] - 2s - loss: 0.0189 - acc: 0.9940 - val_loss: 0.1109 - val_acc: 0.9798\n",
      "Epoch 170/200\n",
      "48000/48000 [==============================] - 2s - loss: 0.0172 - acc: 0.9944 - val_loss: 0.1169 - val_acc: 0.9794\n",
      "Epoch 171/200\n",
      "48000/48000 [==============================] - 2s - loss: 0.0175 - acc: 0.9942 - val_loss: 0.1117 - val_acc: 0.9795\n",
      "Epoch 172/200\n",
      "48000/48000 [==============================] - 2s - loss: 0.0198 - acc: 0.9938 - val_loss: 0.1183 - val_acc: 0.9785\n",
      "Epoch 173/200\n",
      "48000/48000 [==============================] - 2s - loss: 0.0202 - acc: 0.9934 - val_loss: 0.1148 - val_acc: 0.9793\n",
      "Epoch 174/200\n",
      "48000/48000 [==============================] - 2s - loss: 0.0188 - acc: 0.9939 - val_loss: 0.1210 - val_acc: 0.9800\n",
      "Epoch 175/200\n",
      "48000/48000 [==============================] - 2s - loss: 0.0171 - acc: 0.9944 - val_loss: 0.1217 - val_acc: 0.9791\n",
      "Epoch 176/200\n",
      "48000/48000 [==============================] - 2s - loss: 0.0175 - acc: 0.9943 - val_loss: 0.1168 - val_acc: 0.9804\n",
      "Epoch 177/200\n",
      "48000/48000 [==============================] - 2s - loss: 0.0161 - acc: 0.9948 - val_loss: 0.1123 - val_acc: 0.9805\n",
      "Epoch 178/200\n",
      "48000/48000 [==============================] - 2s - loss: 0.0167 - acc: 0.9946 - val_loss: 0.1144 - val_acc: 0.9799\n",
      "Epoch 179/200\n",
      "48000/48000 [==============================] - 2s - loss: 0.0176 - acc: 0.9940 - val_loss: 0.1198 - val_acc: 0.9802\n",
      "Epoch 180/200\n",
      "48000/48000 [==============================] - 2s - loss: 0.0177 - acc: 0.9943 - val_loss: 0.1248 - val_acc: 0.9788\n",
      "Epoch 181/200\n",
      "48000/48000 [==============================] - 2s - loss: 0.0176 - acc: 0.9943 - val_loss: 0.1178 - val_acc: 0.9793\n",
      "Epoch 182/200\n",
      "48000/48000 [==============================] - 2s - loss: 0.0166 - acc: 0.9950 - val_loss: 0.1193 - val_acc: 0.9790\n",
      "Epoch 183/200\n",
      "48000/48000 [==============================] - 2s - loss: 0.0165 - acc: 0.9948 - val_loss: 0.1168 - val_acc: 0.9791\n",
      "Epoch 184/200\n",
      "48000/48000 [==============================] - 2s - loss: 0.0178 - acc: 0.9940 - val_loss: 0.1210 - val_acc: 0.9789\n",
      "Epoch 185/200\n",
      "48000/48000 [==============================] - 2s - loss: 0.0199 - acc: 0.9941 - val_loss: 0.1193 - val_acc: 0.9790\n",
      "Epoch 186/200\n",
      "48000/48000 [==============================] - 2s - loss: 0.0178 - acc: 0.9945 - val_loss: 0.1232 - val_acc: 0.9787\n",
      "Epoch 187/200\n",
      "48000/48000 [==============================] - 2s - loss: 0.0175 - acc: 0.9948 - val_loss: 0.1248 - val_acc: 0.9790\n",
      "Epoch 188/200\n",
      "48000/48000 [==============================] - 2s - loss: 0.0183 - acc: 0.9944 - val_loss: 0.1194 - val_acc: 0.9801\n",
      "Epoch 189/200\n",
      "48000/48000 [==============================] - 2s - loss: 0.0179 - acc: 0.9942 - val_loss: 0.1159 - val_acc: 0.9803\n",
      "Epoch 190/200\n",
      "48000/48000 [==============================] - 2s - loss: 0.0151 - acc: 0.9951 - val_loss: 0.1209 - val_acc: 0.9796\n",
      "Epoch 191/200\n",
      "48000/48000 [==============================] - 2s - loss: 0.0149 - acc: 0.9950 - val_loss: 0.1230 - val_acc: 0.9786\n",
      "Epoch 192/200\n",
      "48000/48000 [==============================] - 2s - loss: 0.0179 - acc: 0.9943 - val_loss: 0.1192 - val_acc: 0.9784\n",
      "Epoch 193/200\n",
      "48000/48000 [==============================] - 2s - loss: 0.0157 - acc: 0.9947 - val_loss: 0.1226 - val_acc: 0.9797\n",
      "Epoch 194/200\n",
      "48000/48000 [==============================] - 2s - loss: 0.0154 - acc: 0.9952 - val_loss: 0.1229 - val_acc: 0.9793\n",
      "Epoch 195/200\n",
      "48000/48000 [==============================] - 2s - loss: 0.0180 - acc: 0.9941 - val_loss: 0.1231 - val_acc: 0.9787\n",
      "Epoch 196/200\n",
      "48000/48000 [==============================] - 2s - loss: 0.0167 - acc: 0.9947 - val_loss: 0.1268 - val_acc: 0.9796\n",
      "Epoch 197/200\n",
      "48000/48000 [==============================] - 2s - loss: 0.0180 - acc: 0.9945 - val_loss: 0.1206 - val_acc: 0.9788\n",
      "Epoch 198/200\n",
      "48000/48000 [==============================] - 2s - loss: 0.0174 - acc: 0.9943 - val_loss: 0.1184 - val_acc: 0.9788\n",
      "Epoch 199/200\n",
      "48000/48000 [==============================] - 2s - loss: 0.0172 - acc: 0.9946 - val_loss: 0.1133 - val_acc: 0.9797\n",
      "Epoch 200/200\n",
      "48000/48000 [==============================] - 2s - loss: 0.0169 - acc: 0.9949 - val_loss: 0.1141 - val_acc: 0.9799\n"
     ]
    }
   ],
   "source": [
    "time_start = time.clock()\n",
    "history = model.fit(X_train, y_train,\n",
    "                    batch_size=128,\n",
    "                    epochs=200,\n",
    "                    verbose=1,\n",
    "                    validation_split=0.2)\n",
    "time_end = time.clock()"
   ]
  },
  {
   "cell_type": "code",
   "execution_count": 10,
   "metadata": {
    "collapsed": true
   },
   "outputs": [],
   "source": [
    "time_end = time.clock()"
   ]
  },
  {
   "cell_type": "code",
   "execution_count": 11,
   "metadata": {
    "collapsed": false
   },
   "outputs": [
    {
     "name": "stdout",
     "output_type": "stream",
     "text": [
      "Time to train\n",
      "Time elapsed in seconds : 475\n",
      "Time elapsed in minutes : 7.9\n",
      "Time elapsed in hours   : 0.1\n"
     ]
    }
   ],
   "source": [
    "duration = time_end - time_start\n",
    "print(\"Time to train\")\n",
    "print(\"Time elapsed in seconds : %.0f\" % duration)\n",
    "print(\"Time elapsed in minutes : %.1f\" % (duration/60))\n",
    "print(\"Time elapsed in hours   : %.1f\" % (duration/3600))"
   ]
  },
  {
   "cell_type": "code",
   "execution_count": 12,
   "metadata": {
    "collapsed": false
   },
   "outputs": [
    {
     "name": "stdout",
     "output_type": "stream",
     "text": [
      " 9472/10000 [===========================>..] - ETA: 0s\n",
      "Test score: 0.119951071415\n",
      "Test accuracy: 0.9804\n"
     ]
    }
   ],
   "source": [
    "score = model.evaluate(X_test, y_test,\n",
    "                       verbose=1)\n",
    "print(\"\")\n",
    "print(\"Test score:\", score[0])\n",
    "print(\"Test accuracy:\", score[1])"
   ]
  },
  {
   "cell_type": "code",
   "execution_count": 13,
   "metadata": {
    "collapsed": false
   },
   "outputs": [
    {
     "name": "stdout",
     "output_type": "stream",
     "text": [
      "dict_keys(['val_loss', 'val_acc', 'loss', 'acc'])\n"
     ]
    }
   ],
   "source": [
    "# list all data in history\n",
    "print(history.history.keys())"
   ]
  },
  {
   "cell_type": "code",
   "execution_count": 14,
   "metadata": {
    "collapsed": false
   },
   "outputs": [
    {
     "data": {
      "image/png": "[encoded data removed]",
      "text/plain": [
       "<matplotlib.figure.Figure at 0x2386b243a20>"
      ]
     },
     "metadata": {},
     "output_type": "display_data"
    }
   ],
   "source": [
    "# Accuracy\n",
    "plt.plot(history.history[\"acc\"])\n",
    "plt.plot(history.history[\"val_acc\"])\n",
    "plt.title(\"model accuracy\")\n",
    "plt.ylabel(\"accuracy\")\n",
    "plt.xlabel(\"epoch\")\n",
    "plt.legend([\"train\", \"test\"], loc=\"lower left\")\n",
    "plt.show()"
   ]
  },
  {
   "cell_type": "code",
   "execution_count": 15,
   "metadata": {
    "collapsed": false
   },
   "outputs": [
    {
     "data": {
      "image/png": "[encoded data removed]",
      "text/plain": [
       "<matplotlib.figure.Figure at 0x2386b418ef0>"
      ]
     },
     "metadata": {},
     "output_type": "display_data"
    }
   ],
   "source": [
    "# Loss\n",
    "plt.plot(history.history[\"loss\"])\n",
    "plt.plot(history.history[\"val_loss\"])\n",
    "plt.title(\"model loss\")\n",
    "plt.ylabel(\"loss\")\n",
    "plt.xlabel(\"epoch\")\n",
    "plt.legend([\"train\", \"test\"], loc=\"upper left\")\n",
    "plt.show()"
   ]
  }
 ],
 "metadata": {
  "anaconda-cloud": {},
  "kernelspec": {
   "display_name": "Python [default]",
   "language": "python",
   "name": "python3"
  },
  "language_info": {
   "codemirror_mode": {
    "name": "ipython",
    "version": 3
   },
   "file_extension": ".py",
   "mimetype": "text/x-python",
   "name": "python",
   "nbconvert_exporter": "python",
   "pygments_lexer": "ipython3",
   "version": "3.5.2"
  }
 },
 "nbformat": 4,
 "nbformat_minor": 1
}
