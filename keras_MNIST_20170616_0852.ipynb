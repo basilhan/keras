{
 "cells": [
  {
   "cell_type": "code",
   "execution_count": 1,
   "metadata": {
    "collapsed": false
   },
   "outputs": [
    {
     "name": "stderr",
     "output_type": "stream",
     "text": [
      "Using TensorFlow backend.\n"
     ]
    }
   ],
   "source": [
    "import numpy as np\n",
    "import matplotlib.pyplot as plt\n",
    "import time\n",
    "from keras.datasets import mnist\n",
    "from keras.models import Sequential\n",
    "from keras.layers.core import Dense, Dropout, Activation\n",
    "from keras.optimizers import SGD, Adam, RMSprop\n",
    "from keras.utils import np_utils\n",
    "from tensorflow import set_random_seed"
   ]
  },
  {
   "cell_type": "code",
   "execution_count": 2,
   "metadata": {
    "collapsed": false
   },
   "outputs": [],
   "source": [
    "np.random.seed(2015)\n",
    "set_random_seed(2015)"
   ]
  },
  {
   "cell_type": "code",
   "execution_count": 3,
   "metadata": {
    "collapsed": false
   },
   "outputs": [],
   "source": [
    "# Load data\n",
    "(X_train, y_train), (X_test, y_test) = mnist.load_data()"
   ]
  },
  {
   "cell_type": "code",
   "execution_count": 4,
   "metadata": {
    "collapsed": false
   },
   "outputs": [
    {
     "name": "stdout",
     "output_type": "stream",
     "text": [
      "60000 training samples\n",
      "10000 testing samples\n"
     ]
    }
   ],
   "source": [
    "# Preprocessing\n",
    "X_train = X_train.reshape(60000, 784)\n",
    "X_test  = X_test.reshape(10000, 784)\n",
    "X_train = X_train.astype(\"float32\")\n",
    "X_test  = X_test.astype(\"float32\")\n",
    "X_train /= 255\n",
    "X_test  /= 255\n",
    "print(X_train.shape[0], \"training samples\")\n",
    "print(X_test.shape[0], \"testing samples\")"
   ]
  },
  {
   "cell_type": "code",
   "execution_count": 5,
   "metadata": {
    "collapsed": true
   },
   "outputs": [],
   "source": [
    "# Convert labels to one-hot coding\n",
    "# e.g. 1 -> array([ 0.,  1.,  0.,  0.,  0.,  0.,  0.,  0.,  0.,  0.])\n",
    "y_train = np_utils.to_categorical(y_train, 10)\n",
    "y_test = np_utils.to_categorical(y_test, 10)"
   ]
  },
  {
   "cell_type": "markdown",
   "metadata": {},
   "source": [
    "The argument *input_dim* is equivalent to *input_shape* ([reference](https://keras.io/getting-started/sequential-model-guide/))."
   ]
  },
  {
   "cell_type": "code",
   "execution_count": 6,
   "metadata": {
    "collapsed": false
   },
   "outputs": [],
   "source": [
    "# Define the model\n",
    "model = Sequential([\n",
    "        Dense(128, input_dim=784), Activation(\"relu\"), Dropout(0.3),\n",
    "        Dense(128), Activation(\"relu\"), Dropout(0.3),\n",
    "        Dense(10), Activation(\"softmax\")\n",
    "    ])"
   ]
  },
  {
   "cell_type": "code",
   "execution_count": 7,
   "metadata": {
    "collapsed": false
   },
   "outputs": [
    {
     "name": "stdout",
     "output_type": "stream",
     "text": [
      "_________________________________________________________________\n",
      "Layer (type)                 Output Shape              Param #   \n",
      "=================================================================\n",
      "dense_1 (Dense)              (None, 128)               100480    \n",
      "_________________________________________________________________\n",
      "activation_1 (Activation)    (None, 128)               0         \n",
      "_________________________________________________________________\n",
      "dropout_1 (Dropout)          (None, 128)               0         \n",
      "_________________________________________________________________\n",
      "dense_2 (Dense)              (None, 128)               16512     \n",
      "_________________________________________________________________\n",
      "activation_2 (Activation)    (None, 128)               0         \n",
      "_________________________________________________________________\n",
      "dropout_2 (Dropout)          (None, 128)               0         \n",
      "_________________________________________________________________\n",
      "dense_3 (Dense)              (None, 10)                1290      \n",
      "_________________________________________________________________\n",
      "activation_3 (Activation)    (None, 10)                0         \n",
      "=================================================================\n",
      "Total params: 118,282\n",
      "Trainable params: 118,282\n",
      "Non-trainable params: 0\n",
      "_________________________________________________________________\n"
     ]
    }
   ],
   "source": [
    "model.summary()"
   ]
  },
  {
   "cell_type": "code",
   "execution_count": 8,
   "metadata": {
    "collapsed": false
   },
   "outputs": [],
   "source": [
    "model.compile(loss=\"categorical_crossentropy\",\n",
    "              optimizer=RMSprop(),\n",
    "              metrics=[\"accuracy\"])"
   ]
  },
  {
   "cell_type": "code",
   "execution_count": 9,
   "metadata": {
    "collapsed": false
   },
   "outputs": [
    {
     "name": "stdout",
     "output_type": "stream",
     "text": [
      "Train on 48000 samples, validate on 12000 samples\n",
      "Epoch 1/200\n",
      "48000/48000 [==============================] - 2s - loss: 0.4750 - acc: 0.8548 - val_loss: 0.1790 - val_acc: 0.9473\n",
      "Epoch 2/200\n",
      "48000/48000 [==============================] - 2s - loss: 0.2264 - acc: 0.9324 - val_loss: 0.1387 - val_acc: 0.9584\n",
      "Epoch 3/200\n",
      "48000/48000 [==============================] - 2s - loss: 0.1751 - acc: 0.9480 - val_loss: 0.1194 - val_acc: 0.9663\n",
      "Epoch 4/200\n",
      "48000/48000 [==============================] - 2s - loss: 0.1494 - acc: 0.9559 - val_loss: 0.1096 - val_acc: 0.9697\n",
      "Epoch 5/200\n",
      "48000/48000 [==============================] - 2s - loss: 0.1313 - acc: 0.9609 - val_loss: 0.1028 - val_acc: 0.9718\n",
      "Epoch 6/200\n",
      "48000/48000 [==============================] - 3s - loss: 0.1195 - acc: 0.9640 - val_loss: 0.1040 - val_acc: 0.9717\n",
      "Epoch 7/200\n",
      "48000/48000 [==============================] - 2s - loss: 0.1148 - acc: 0.9661 - val_loss: 0.1042 - val_acc: 0.9732\n",
      "Epoch 8/200\n",
      "48000/48000 [==============================] - 2s - loss: 0.1053 - acc: 0.9693 - val_loss: 0.0960 - val_acc: 0.9747\n",
      "Epoch 9/200\n",
      "48000/48000 [==============================] - 2s - loss: 0.0981 - acc: 0.9712 - val_loss: 0.0997 - val_acc: 0.9737\n",
      "Epoch 10/200\n",
      "48000/48000 [==============================] - 2s - loss: 0.0950 - acc: 0.9722 - val_loss: 0.0956 - val_acc: 0.9754\n",
      "Epoch 11/200\n",
      "48000/48000 [==============================] - 2s - loss: 0.0913 - acc: 0.9731 - val_loss: 0.1008 - val_acc: 0.9752\n",
      "Epoch 12/200\n",
      "48000/48000 [==============================] - 2s - loss: 0.0869 - acc: 0.9742 - val_loss: 0.0957 - val_acc: 0.9777\n",
      "Epoch 13/200\n",
      "48000/48000 [==============================] - 2s - loss: 0.0842 - acc: 0.9749 - val_loss: 0.1024 - val_acc: 0.9752\n",
      "Epoch 14/200\n",
      "48000/48000 [==============================] - 2s - loss: 0.0793 - acc: 0.9759 - val_loss: 0.0987 - val_acc: 0.9768\n",
      "Epoch 15/200\n",
      "48000/48000 [==============================] - 2s - loss: 0.0778 - acc: 0.9771 - val_loss: 0.0994 - val_acc: 0.9772\n",
      "Epoch 16/200\n",
      "48000/48000 [==============================] - 2s - loss: 0.0762 - acc: 0.9780 - val_loss: 0.1044 - val_acc: 0.9765\n",
      "Epoch 17/200\n",
      "48000/48000 [==============================] - 2s - loss: 0.0731 - acc: 0.9781 - val_loss: 0.1045 - val_acc: 0.9779\n",
      "Epoch 18/200\n",
      "48000/48000 [==============================] - 2s - loss: 0.0685 - acc: 0.9800 - val_loss: 0.0993 - val_acc: 0.9785\n",
      "Epoch 19/200\n",
      "48000/48000 [==============================] - 2s - loss: 0.0704 - acc: 0.9791 - val_loss: 0.1047 - val_acc: 0.9763\n",
      "Epoch 20/200\n",
      "48000/48000 [==============================] - 2s - loss: 0.0702 - acc: 0.9797 - val_loss: 0.1098 - val_acc: 0.9749\n",
      "Epoch 21/200\n",
      "48000/48000 [==============================] - 2s - loss: 0.0685 - acc: 0.9792 - val_loss: 0.1131 - val_acc: 0.9770\n",
      "Epoch 22/200\n",
      "48000/48000 [==============================] - 2s - loss: 0.0672 - acc: 0.9796 - val_loss: 0.1101 - val_acc: 0.9772\n",
      "Epoch 23/200\n",
      "48000/48000 [==============================] - 2s - loss: 0.0641 - acc: 0.9817 - val_loss: 0.1118 - val_acc: 0.9773\n",
      "Epoch 24/200\n",
      "48000/48000 [==============================] - 2s - loss: 0.0643 - acc: 0.9817 - val_loss: 0.1041 - val_acc: 0.9791\n",
      "Epoch 25/200\n",
      "48000/48000 [==============================] - 2s - loss: 0.0633 - acc: 0.9815 - val_loss: 0.1064 - val_acc: 0.9780\n",
      "Epoch 26/200\n",
      "48000/48000 [==============================] - 2s - loss: 0.0631 - acc: 0.9816 - val_loss: 0.1173 - val_acc: 0.9769\n",
      "Epoch 27/200\n",
      "48000/48000 [==============================] - 2s - loss: 0.0631 - acc: 0.9827 - val_loss: 0.1128 - val_acc: 0.9778\n",
      "Epoch 28/200\n",
      "48000/48000 [==============================] - 2s - loss: 0.0621 - acc: 0.9823 - val_loss: 0.1242 - val_acc: 0.9768\n",
      "Epoch 29/200\n",
      "48000/48000 [==============================] - 2s - loss: 0.0631 - acc: 0.9821 - val_loss: 0.1111 - val_acc: 0.9785\n",
      "Epoch 30/200\n",
      "48000/48000 [==============================] - 2s - loss: 0.0581 - acc: 0.9832 - val_loss: 0.1083 - val_acc: 0.9797\n",
      "Epoch 31/200\n",
      "48000/48000 [==============================] - 2s - loss: 0.0575 - acc: 0.9837 - val_loss: 0.1093 - val_acc: 0.9783\n",
      "Epoch 32/200\n",
      "48000/48000 [==============================] - 2s - loss: 0.0600 - acc: 0.9832 - val_loss: 0.1125 - val_acc: 0.9782\n",
      "Epoch 33/200\n",
      "48000/48000 [==============================] - 2s - loss: 0.0576 - acc: 0.9845 - val_loss: 0.1213 - val_acc: 0.9778\n",
      "Epoch 34/200\n",
      "48000/48000 [==============================] - 2s - loss: 0.0579 - acc: 0.9850 - val_loss: 0.1185 - val_acc: 0.9768\n",
      "Epoch 35/200\n",
      "48000/48000 [==============================] - 2s - loss: 0.0564 - acc: 0.9840 - val_loss: 0.1167 - val_acc: 0.9780\n",
      "Epoch 36/200\n",
      "48000/48000 [==============================] - 2s - loss: 0.0560 - acc: 0.9837 - val_loss: 0.1266 - val_acc: 0.9762\n",
      "Epoch 37/200\n",
      "48000/48000 [==============================] - 2s - loss: 0.0579 - acc: 0.9840 - val_loss: 0.1270 - val_acc: 0.9779\n",
      "Epoch 38/200\n",
      "48000/48000 [==============================] - 2s - loss: 0.0554 - acc: 0.9847 - val_loss: 0.1188 - val_acc: 0.9793\n",
      "Epoch 39/200\n",
      "48000/48000 [==============================] - 2s - loss: 0.0572 - acc: 0.9845 - val_loss: 0.1176 - val_acc: 0.9788\n",
      "Epoch 40/200\n",
      "48000/48000 [==============================] - 2s - loss: 0.0526 - acc: 0.9842 - val_loss: 0.1276 - val_acc: 0.9782\n",
      "Epoch 41/200\n",
      "48000/48000 [==============================] - 2s - loss: 0.0557 - acc: 0.9850 - val_loss: 0.1225 - val_acc: 0.9783\n",
      "Epoch 42/200\n",
      "48000/48000 [==============================] - 2s - loss: 0.0527 - acc: 0.9858 - val_loss: 0.1223 - val_acc: 0.9785\n",
      "Epoch 43/200\n",
      "48000/48000 [==============================] - 2s - loss: 0.0567 - acc: 0.9850 - val_loss: 0.1236 - val_acc: 0.9781\n",
      "Epoch 44/200\n",
      "48000/48000 [==============================] - 2s - loss: 0.0552 - acc: 0.9854 - val_loss: 0.1259 - val_acc: 0.9777\n",
      "Epoch 45/200\n",
      "48000/48000 [==============================] - 2s - loss: 0.0570 - acc: 0.9853 - val_loss: 0.1271 - val_acc: 0.9779\n",
      "Epoch 46/200\n",
      "48000/48000 [==============================] - 2s - loss: 0.0545 - acc: 0.9858 - val_loss: 0.1301 - val_acc: 0.9779\n",
      "Epoch 47/200\n",
      "48000/48000 [==============================] - 2s - loss: 0.0520 - acc: 0.9867 - val_loss: 0.1267 - val_acc: 0.9774\n",
      "Epoch 48/200\n",
      "48000/48000 [==============================] - 2s - loss: 0.0560 - acc: 0.9850 - val_loss: 0.1259 - val_acc: 0.9778\n",
      "Epoch 49/200\n",
      "48000/48000 [==============================] - 2s - loss: 0.0567 - acc: 0.9853 - val_loss: 0.1307 - val_acc: 0.9777\n",
      "Epoch 50/200\n",
      "48000/48000 [==============================] - 2s - loss: 0.0513 - acc: 0.9862 - val_loss: 0.1269 - val_acc: 0.9772\n",
      "Epoch 51/200\n",
      "48000/48000 [==============================] - 2s - loss: 0.0487 - acc: 0.9866 - val_loss: 0.1368 - val_acc: 0.9779\n",
      "Epoch 52/200\n",
      "48000/48000 [==============================] - 2s - loss: 0.0548 - acc: 0.9860 - val_loss: 0.1303 - val_acc: 0.9787\n",
      "Epoch 53/200\n",
      "48000/48000 [==============================] - 2s - loss: 0.0517 - acc: 0.9866 - val_loss: 0.1354 - val_acc: 0.9776\n",
      "Epoch 54/200\n",
      "48000/48000 [==============================] - 2s - loss: 0.0544 - acc: 0.9862 - val_loss: 0.1296 - val_acc: 0.9785\n",
      "Epoch 55/200\n",
      "48000/48000 [==============================] - 2s - loss: 0.0543 - acc: 0.9864 - val_loss: 0.1331 - val_acc: 0.9780\n",
      "Epoch 56/200\n",
      "48000/48000 [==============================] - 2s - loss: 0.0525 - acc: 0.9861 - val_loss: 0.1279 - val_acc: 0.9786\n",
      "Epoch 57/200\n",
      "48000/48000 [==============================] - 2s - loss: 0.0540 - acc: 0.9865 - val_loss: 0.1298 - val_acc: 0.9792\n",
      "Epoch 58/200\n",
      "48000/48000 [==============================] - 2s - loss: 0.0502 - acc: 0.9870 - val_loss: 0.1306 - val_acc: 0.9776\n",
      "Epoch 59/200\n",
      "48000/48000 [==============================] - 2s - loss: 0.0506 - acc: 0.9873 - val_loss: 0.1351 - val_acc: 0.9789\n",
      "Epoch 60/200\n",
      "48000/48000 [==============================] - 2s - loss: 0.0534 - acc: 0.9866 - val_loss: 0.1401 - val_acc: 0.9783\n",
      "Epoch 61/200\n",
      "48000/48000 [==============================] - 2s - loss: 0.0539 - acc: 0.9864 - val_loss: 0.1422 - val_acc: 0.9786\n",
      "Epoch 62/200\n",
      "48000/48000 [==============================] - 2s - loss: 0.0526 - acc: 0.9869 - val_loss: 0.1364 - val_acc: 0.9787\n",
      "Epoch 63/200\n",
      "48000/48000 [==============================] - 2s - loss: 0.0510 - acc: 0.9868 - val_loss: 0.1391 - val_acc: 0.9777\n",
      "Epoch 64/200\n",
      "48000/48000 [==============================] - 2s - loss: 0.0572 - acc: 0.9867 - val_loss: 0.1367 - val_acc: 0.9779\n",
      "Epoch 65/200\n",
      "48000/48000 [==============================] - 2s - loss: 0.0518 - acc: 0.9874 - val_loss: 0.1390 - val_acc: 0.9784\n",
      "Epoch 66/200\n",
      "48000/48000 [==============================] - 2s - loss: 0.0520 - acc: 0.9874 - val_loss: 0.1375 - val_acc: 0.9783\n",
      "Epoch 67/200\n",
      "48000/48000 [==============================] - 2s - loss: 0.0507 - acc: 0.9878 - val_loss: 0.1414 - val_acc: 0.9797\n",
      "Epoch 68/200\n",
      "48000/48000 [==============================] - 2s - loss: 0.0555 - acc: 0.9866 - val_loss: 0.1459 - val_acc: 0.9782\n",
      "Epoch 69/200\n",
      "48000/48000 [==============================] - 2s - loss: 0.0524 - acc: 0.9870 - val_loss: 0.1391 - val_acc: 0.9785\n",
      "Epoch 70/200\n",
      "48000/48000 [==============================] - 2s - loss: 0.0510 - acc: 0.9879 - val_loss: 0.1405 - val_acc: 0.9794\n",
      "Epoch 71/200\n",
      "48000/48000 [==============================] - 2s - loss: 0.0474 - acc: 0.9880 - val_loss: 0.1479 - val_acc: 0.9775\n",
      "Epoch 72/200\n",
      "48000/48000 [==============================] - 2s - loss: 0.0530 - acc: 0.9879 - val_loss: 0.1461 - val_acc: 0.9772\n",
      "Epoch 73/200\n",
      "48000/48000 [==============================] - 2s - loss: 0.0569 - acc: 0.9868 - val_loss: 0.1470 - val_acc: 0.9777\n",
      "Epoch 74/200\n",
      "48000/48000 [==============================] - 2s - loss: 0.0550 - acc: 0.9865 - val_loss: 0.1458 - val_acc: 0.9776\n",
      "Epoch 75/200\n",
      "48000/48000 [==============================] - 2s - loss: 0.0515 - acc: 0.9879 - val_loss: 0.1476 - val_acc: 0.9777\n",
      "Epoch 76/200\n",
      "48000/48000 [==============================] - 2s - loss: 0.0527 - acc: 0.9880 - val_loss: 0.1529 - val_acc: 0.9780\n",
      "Epoch 77/200\n",
      "48000/48000 [==============================] - 2s - loss: 0.0529 - acc: 0.9877 - val_loss: 0.1495 - val_acc: 0.9788\n",
      "Epoch 78/200\n",
      "48000/48000 [==============================] - 2s - loss: 0.0569 - acc: 0.9874 - val_loss: 0.1443 - val_acc: 0.9781\n",
      "Epoch 79/200\n",
      "48000/48000 [==============================] - 2s - loss: 0.0490 - acc: 0.9882 - val_loss: 0.1528 - val_acc: 0.9788\n",
      "Epoch 80/200\n",
      "48000/48000 [==============================] - 2s - loss: 0.0499 - acc: 0.9879 - val_loss: 0.1465 - val_acc: 0.9788\n",
      "Epoch 81/200\n",
      "48000/48000 [==============================] - 2s - loss: 0.0506 - acc: 0.9877 - val_loss: 0.1461 - val_acc: 0.9786\n",
      "Epoch 82/200\n",
      "48000/48000 [==============================] - 2s - loss: 0.0508 - acc: 0.9880 - val_loss: 0.1481 - val_acc: 0.9794\n",
      "Epoch 83/200\n",
      "48000/48000 [==============================] - 2s - loss: 0.0536 - acc: 0.9872 - val_loss: 0.1475 - val_acc: 0.9784\n",
      "Epoch 84/200\n",
      "48000/48000 [==============================] - 2s - loss: 0.0535 - acc: 0.9881 - val_loss: 0.1452 - val_acc: 0.9783\n",
      "Epoch 85/200\n",
      "48000/48000 [==============================] - 2s - loss: 0.0528 - acc: 0.9874 - val_loss: 0.1526 - val_acc: 0.9776\n",
      "Epoch 86/200\n",
      "48000/48000 [==============================] - 2s - loss: 0.0546 - acc: 0.9878 - val_loss: 0.1411 - val_acc: 0.9797\n",
      "Epoch 87/200\n",
      "48000/48000 [==============================] - 2s - loss: 0.0524 - acc: 0.9873 - val_loss: 0.1520 - val_acc: 0.9792\n",
      "Epoch 88/200\n",
      "48000/48000 [==============================] - 2s - loss: 0.0548 - acc: 0.9878 - val_loss: 0.1573 - val_acc: 0.9773\n",
      "Epoch 89/200\n",
      "48000/48000 [==============================] - 2s - loss: 0.0517 - acc: 0.9880 - val_loss: 0.1542 - val_acc: 0.9761\n",
      "Epoch 90/200\n",
      "48000/48000 [==============================] - 2s - loss: 0.0532 - acc: 0.9882 - val_loss: 0.1493 - val_acc: 0.9792\n",
      "Epoch 91/200\n",
      "48000/48000 [==============================] - 2s - loss: 0.0502 - acc: 0.9882 - val_loss: 0.1448 - val_acc: 0.9785\n",
      "Epoch 92/200\n",
      "48000/48000 [==============================] - 2s - loss: 0.0548 - acc: 0.9873 - val_loss: 0.1556 - val_acc: 0.9786\n",
      "Epoch 93/200\n",
      "48000/48000 [==============================] - 2s - loss: 0.0478 - acc: 0.9884 - val_loss: 0.1585 - val_acc: 0.9777\n",
      "Epoch 94/200\n",
      "48000/48000 [==============================] - 2s - loss: 0.0524 - acc: 0.9884 - val_loss: 0.1630 - val_acc: 0.9773\n",
      "Epoch 95/200\n",
      "48000/48000 [==============================] - 2s - loss: 0.0566 - acc: 0.9878 - val_loss: 0.1466 - val_acc: 0.9790\n",
      "Epoch 96/200\n",
      "48000/48000 [==============================] - 2s - loss: 0.0502 - acc: 0.9886 - val_loss: 0.1584 - val_acc: 0.9795\n",
      "Epoch 97/200\n",
      "48000/48000 [==============================] - 2s - loss: 0.0537 - acc: 0.9882 - val_loss: 0.1565 - val_acc: 0.9776\n",
      "Epoch 98/200\n",
      "48000/48000 [==============================] - 2s - loss: 0.0518 - acc: 0.9885 - val_loss: 0.1579 - val_acc: 0.9771\n",
      "Epoch 99/200\n",
      "48000/48000 [==============================] - 2s - loss: 0.0526 - acc: 0.9884 - val_loss: 0.1527 - val_acc: 0.9779\n",
      "Epoch 100/200\n",
      "48000/48000 [==============================] - 2s - loss: 0.0520 - acc: 0.9887 - val_loss: 0.1428 - val_acc: 0.9796\n",
      "Epoch 101/200\n",
      "48000/48000 [==============================] - 2s - loss: 0.0494 - acc: 0.9878 - val_loss: 0.1596 - val_acc: 0.9789\n",
      "Epoch 102/200\n",
      "48000/48000 [==============================] - 2s - loss: 0.0543 - acc: 0.9880 - val_loss: 0.1568 - val_acc: 0.9781\n",
      "Epoch 103/200\n",
      "48000/48000 [==============================] - 2s - loss: 0.0492 - acc: 0.9883 - val_loss: 0.1622 - val_acc: 0.9774\n",
      "Epoch 104/200\n",
      "48000/48000 [==============================] - 2s - loss: 0.0502 - acc: 0.9884 - val_loss: 0.1589 - val_acc: 0.9775\n",
      "Epoch 105/200\n",
      "48000/48000 [==============================] - 2s - loss: 0.0501 - acc: 0.9886 - val_loss: 0.1626 - val_acc: 0.9772\n",
      "Epoch 106/200\n",
      "48000/48000 [==============================] - 2s - loss: 0.0552 - acc: 0.9877 - val_loss: 0.1580 - val_acc: 0.9782\n",
      "Epoch 107/200\n",
      "48000/48000 [==============================] - 2s - loss: 0.0524 - acc: 0.9881 - val_loss: 0.1586 - val_acc: 0.9777\n",
      "Epoch 108/200\n",
      "48000/48000 [==============================] - 2s - loss: 0.0557 - acc: 0.9883 - val_loss: 0.1590 - val_acc: 0.9772\n",
      "Epoch 109/200\n",
      "48000/48000 [==============================] - 2s - loss: 0.0513 - acc: 0.9882 - val_loss: 0.1547 - val_acc: 0.9785\n",
      "Epoch 110/200\n",
      "48000/48000 [==============================] - 2s - loss: 0.0531 - acc: 0.9879 - val_loss: 0.1547 - val_acc: 0.9773\n",
      "Epoch 111/200\n",
      "48000/48000 [==============================] - 2s - loss: 0.0531 - acc: 0.9879 - val_loss: 0.1559 - val_acc: 0.9788\n",
      "Epoch 112/200\n",
      "48000/48000 [==============================] - 2s - loss: 0.0558 - acc: 0.9883 - val_loss: 0.1544 - val_acc: 0.9775\n",
      "Epoch 113/200\n",
      "48000/48000 [==============================] - 2s - loss: 0.0501 - acc: 0.9889 - val_loss: 0.1539 - val_acc: 0.9784\n",
      "Epoch 114/200\n",
      "48000/48000 [==============================] - 2s - loss: 0.0487 - acc: 0.9890 - val_loss: 0.1589 - val_acc: 0.9784\n",
      "Epoch 115/200\n",
      "48000/48000 [==============================] - 2s - loss: 0.0533 - acc: 0.9882 - val_loss: 0.1687 - val_acc: 0.9765\n",
      "Epoch 116/200\n",
      "48000/48000 [==============================] - 2s - loss: 0.0498 - acc: 0.9889 - val_loss: 0.1673 - val_acc: 0.9766\n",
      "Epoch 117/200\n",
      "48000/48000 [==============================] - 2s - loss: 0.0524 - acc: 0.9887 - val_loss: 0.1679 - val_acc: 0.9767\n",
      "Epoch 118/200\n",
      "48000/48000 [==============================] - 2s - loss: 0.0561 - acc: 0.9885 - val_loss: 0.1617 - val_acc: 0.9772\n",
      "Epoch 119/200\n",
      "48000/48000 [==============================] - 2s - loss: 0.0503 - acc: 0.9889 - val_loss: 0.1624 - val_acc: 0.9791\n",
      "Epoch 120/200\n",
      "48000/48000 [==============================] - 2s - loss: 0.0485 - acc: 0.9892 - val_loss: 0.1613 - val_acc: 0.9783\n",
      "Epoch 121/200\n",
      "48000/48000 [==============================] - 2s - loss: 0.0512 - acc: 0.9890 - val_loss: 0.1599 - val_acc: 0.9783\n",
      "Epoch 122/200\n",
      "48000/48000 [==============================] - 2s - loss: 0.0523 - acc: 0.9888 - val_loss: 0.1570 - val_acc: 0.9776\n",
      "Epoch 123/200\n",
      "48000/48000 [==============================] - 2s - loss: 0.0551 - acc: 0.9888 - val_loss: 0.1685 - val_acc: 0.9778\n",
      "Epoch 124/200\n",
      "48000/48000 [==============================] - 2s - loss: 0.0520 - acc: 0.9891 - val_loss: 0.1634 - val_acc: 0.9781\n",
      "Epoch 125/200\n",
      "48000/48000 [==============================] - 2s - loss: 0.0552 - acc: 0.9884 - val_loss: 0.1609 - val_acc: 0.9772\n",
      "Epoch 126/200\n",
      "48000/48000 [==============================] - 2s - loss: 0.0490 - acc: 0.9892 - val_loss: 0.1565 - val_acc: 0.9778\n",
      "Epoch 127/200\n",
      "48000/48000 [==============================] - 2s - loss: 0.0491 - acc: 0.9894 - val_loss: 0.1621 - val_acc: 0.9785\n",
      "Epoch 128/200\n",
      "48000/48000 [==============================] - 2s - loss: 0.0554 - acc: 0.9889 - val_loss: 0.1701 - val_acc: 0.9783\n",
      "Epoch 129/200\n",
      "48000/48000 [==============================] - 2s - loss: 0.0535 - acc: 0.9889 - val_loss: 0.1673 - val_acc: 0.9767\n",
      "Epoch 130/200\n",
      "48000/48000 [==============================] - 2s - loss: 0.0545 - acc: 0.9882 - val_loss: 0.1626 - val_acc: 0.9774\n",
      "Epoch 131/200\n",
      "48000/48000 [==============================] - 2s - loss: 0.0537 - acc: 0.9890 - val_loss: 0.1763 - val_acc: 0.9759\n",
      "Epoch 132/200\n",
      "48000/48000 [==============================] - 2s - loss: 0.0554 - acc: 0.9881 - val_loss: 0.1634 - val_acc: 0.9781\n",
      "Epoch 133/200\n",
      "48000/48000 [==============================] - 2s - loss: 0.0565 - acc: 0.9885 - val_loss: 0.1690 - val_acc: 0.9776\n",
      "Epoch 134/200\n",
      "48000/48000 [==============================] - 2s - loss: 0.0489 - acc: 0.9895 - val_loss: 0.1706 - val_acc: 0.9775\n",
      "Epoch 135/200\n",
      "48000/48000 [==============================] - 2s - loss: 0.0597 - acc: 0.9882 - val_loss: 0.1662 - val_acc: 0.9778\n",
      "Epoch 136/200\n",
      "48000/48000 [==============================] - 2s - loss: 0.0570 - acc: 0.9879 - val_loss: 0.1713 - val_acc: 0.9781\n",
      "Epoch 137/200\n",
      "48000/48000 [==============================] - 2s - loss: 0.0556 - acc: 0.9885 - val_loss: 0.1706 - val_acc: 0.9774\n",
      "Epoch 138/200\n",
      "48000/48000 [==============================] - 2s - loss: 0.0535 - acc: 0.9892 - val_loss: 0.1724 - val_acc: 0.9770\n",
      "Epoch 139/200\n",
      "48000/48000 [==============================] - 2s - loss: 0.0533 - acc: 0.9891 - val_loss: 0.1715 - val_acc: 0.9777\n",
      "Epoch 140/200\n",
      "48000/48000 [==============================] - 2s - loss: 0.0538 - acc: 0.9892 - val_loss: 0.1673 - val_acc: 0.9776\n",
      "Epoch 141/200\n",
      "48000/48000 [==============================] - 2s - loss: 0.0512 - acc: 0.9895 - val_loss: 0.1757 - val_acc: 0.9777\n",
      "Epoch 142/200\n",
      "48000/48000 [==============================] - 2s - loss: 0.0528 - acc: 0.9899 - val_loss: 0.1651 - val_acc: 0.9781\n",
      "Epoch 143/200\n",
      "48000/48000 [==============================] - 3s - loss: 0.0560 - acc: 0.9889 - val_loss: 0.1653 - val_acc: 0.9782\n",
      "Epoch 144/200\n",
      "48000/48000 [==============================] - 2s - loss: 0.0521 - acc: 0.9891 - val_loss: 0.1695 - val_acc: 0.9770\n",
      "Epoch 145/200\n",
      "48000/48000 [==============================] - 2s - loss: 0.0545 - acc: 0.9891 - val_loss: 0.1696 - val_acc: 0.9777\n",
      "Epoch 146/200\n",
      "48000/48000 [==============================] - 2s - loss: 0.0521 - acc: 0.9895 - val_loss: 0.1669 - val_acc: 0.9780\n",
      "Epoch 147/200\n",
      "48000/48000 [==============================] - 2s - loss: 0.0516 - acc: 0.9892 - val_loss: 0.1726 - val_acc: 0.9772\n",
      "Epoch 148/200\n",
      "48000/48000 [==============================] - 2s - loss: 0.0558 - acc: 0.9889 - val_loss: 0.1762 - val_acc: 0.9773\n",
      "Epoch 149/200\n",
      "48000/48000 [==============================] - 2s - loss: 0.0579 - acc: 0.9890 - val_loss: 0.1694 - val_acc: 0.9789\n",
      "Epoch 150/200\n",
      "48000/48000 [==============================] - 2s - loss: 0.0499 - acc: 0.9889 - val_loss: 0.1798 - val_acc: 0.9761\n",
      "Epoch 151/200\n",
      "48000/48000 [==============================] - 2s - loss: 0.0502 - acc: 0.9895 - val_loss: 0.1741 - val_acc: 0.9772\n",
      "Epoch 152/200\n",
      "48000/48000 [==============================] - 2s - loss: 0.0500 - acc: 0.9898 - val_loss: 0.1803 - val_acc: 0.9772\n",
      "Epoch 153/200\n",
      "48000/48000 [==============================] - 2s - loss: 0.0539 - acc: 0.9893 - val_loss: 0.1709 - val_acc: 0.9779\n",
      "Epoch 154/200\n",
      "48000/48000 [==============================] - 2s - loss: 0.0557 - acc: 0.9892 - val_loss: 0.1737 - val_acc: 0.9785\n",
      "Epoch 155/200\n",
      "48000/48000 [==============================] - 2s - loss: 0.0499 - acc: 0.9897 - val_loss: 0.1704 - val_acc: 0.9796\n",
      "Epoch 156/200\n",
      "48000/48000 [==============================] - 2s - loss: 0.0582 - acc: 0.9886 - val_loss: 0.1651 - val_acc: 0.9787\n",
      "Epoch 157/200\n",
      "48000/48000 [==============================] - 2s - loss: 0.0522 - acc: 0.9892 - val_loss: 0.1781 - val_acc: 0.9775\n",
      "Epoch 158/200\n",
      "48000/48000 [==============================] - 2s - loss: 0.0555 - acc: 0.9893 - val_loss: 0.1692 - val_acc: 0.9788\n",
      "Epoch 159/200\n",
      "48000/48000 [==============================] - 3s - loss: 0.0553 - acc: 0.9890 - val_loss: 0.1700 - val_acc: 0.9772\n",
      "Epoch 160/200\n",
      "48000/48000 [==============================] - 2s - loss: 0.0545 - acc: 0.9893 - val_loss: 0.1688 - val_acc: 0.9787\n",
      "Epoch 161/200\n",
      "48000/48000 [==============================] - 3s - loss: 0.0584 - acc: 0.9885 - val_loss: 0.1728 - val_acc: 0.9779\n",
      "Epoch 162/200\n",
      "48000/48000 [==============================] - 2s - loss: 0.0520 - acc: 0.9900 - val_loss: 0.1780 - val_acc: 0.9778\n",
      "Epoch 163/200\n",
      "48000/48000 [==============================] - 3s - loss: 0.0571 - acc: 0.9893 - val_loss: 0.1780 - val_acc: 0.9773\n",
      "Epoch 164/200\n",
      "48000/48000 [==============================] - 2s - loss: 0.0525 - acc: 0.9895 - val_loss: 0.1770 - val_acc: 0.9773\n",
      "Epoch 165/200\n",
      "48000/48000 [==============================] - 2s - loss: 0.0521 - acc: 0.9893 - val_loss: 0.1719 - val_acc: 0.9783\n",
      "Epoch 166/200\n",
      "48000/48000 [==============================] - 2s - loss: 0.0495 - acc: 0.9901 - val_loss: 0.1777 - val_acc: 0.9769\n",
      "Epoch 167/200\n",
      "48000/48000 [==============================] - 2s - loss: 0.0542 - acc: 0.9890 - val_loss: 0.1749 - val_acc: 0.9781\n",
      "Epoch 168/200\n",
      "48000/48000 [==============================] - 2s - loss: 0.0569 - acc: 0.9888 - val_loss: 0.1581 - val_acc: 0.9790\n",
      "Epoch 169/200\n",
      "48000/48000 [==============================] - 2s - loss: 0.0535 - acc: 0.9897 - val_loss: 0.1724 - val_acc: 0.9786\n",
      "Epoch 170/200\n",
      "48000/48000 [==============================] - 2s - loss: 0.0564 - acc: 0.9897 - val_loss: 0.1782 - val_acc: 0.9774\n",
      "Epoch 171/200\n",
      "48000/48000 [==============================] - 2s - loss: 0.0517 - acc: 0.9901 - val_loss: 0.1802 - val_acc: 0.9772\n",
      "Epoch 172/200\n",
      "48000/48000 [==============================] - 2s - loss: 0.0543 - acc: 0.9896 - val_loss: 0.1736 - val_acc: 0.9781\n",
      "Epoch 173/200\n",
      "48000/48000 [==============================] - 2s - loss: 0.0575 - acc: 0.9888 - val_loss: 0.1773 - val_acc: 0.9765\n",
      "Epoch 174/200\n",
      "48000/48000 [==============================] - 2s - loss: 0.0552 - acc: 0.9896 - val_loss: 0.1708 - val_acc: 0.9783\n",
      "Epoch 175/200\n",
      "48000/48000 [==============================] - 2s - loss: 0.0553 - acc: 0.9895 - val_loss: 0.1776 - val_acc: 0.9779\n",
      "Epoch 176/200\n",
      "48000/48000 [==============================] - 2s - loss: 0.0553 - acc: 0.9900 - val_loss: 0.1723 - val_acc: 0.9776\n",
      "Epoch 177/200\n",
      "48000/48000 [==============================] - 2s - loss: 0.0517 - acc: 0.9894 - val_loss: 0.1765 - val_acc: 0.9777\n",
      "Epoch 178/200\n",
      "48000/48000 [==============================] - 2s - loss: 0.0572 - acc: 0.9888 - val_loss: 0.1813 - val_acc: 0.9767\n",
      "Epoch 179/200\n",
      "48000/48000 [==============================] - 2s - loss: 0.0502 - acc: 0.9893 - val_loss: 0.1768 - val_acc: 0.9768\n",
      "Epoch 180/200\n",
      "48000/48000 [==============================] - 2s - loss: 0.0511 - acc: 0.9897 - val_loss: 0.1703 - val_acc: 0.9784\n",
      "Epoch 181/200\n",
      "48000/48000 [==============================] - 2s - loss: 0.0602 - acc: 0.9884 - val_loss: 0.1765 - val_acc: 0.9770\n",
      "Epoch 182/200\n",
      "48000/48000 [==============================] - 2s - loss: 0.0528 - acc: 0.9891 - val_loss: 0.1844 - val_acc: 0.9767\n",
      "Epoch 183/200\n",
      "48000/48000 [==============================] - 2s - loss: 0.0543 - acc: 0.9896 - val_loss: 0.1870 - val_acc: 0.9775\n",
      "Epoch 184/200\n",
      "48000/48000 [==============================] - 2s - loss: 0.0510 - acc: 0.9904 - val_loss: 0.1833 - val_acc: 0.9784\n",
      "Epoch 185/200\n",
      "48000/48000 [==============================] - 2s - loss: 0.0526 - acc: 0.9898 - val_loss: 0.1893 - val_acc: 0.9773\n",
      "Epoch 186/200\n",
      "48000/48000 [==============================] - 2s - loss: 0.0509 - acc: 0.9900 - val_loss: 0.1779 - val_acc: 0.9783\n",
      "Epoch 187/200\n",
      "48000/48000 [==============================] - 2s - loss: 0.0507 - acc: 0.9899 - val_loss: 0.1895 - val_acc: 0.9783\n",
      "Epoch 188/200\n",
      "48000/48000 [==============================] - 2s - loss: 0.0566 - acc: 0.9893 - val_loss: 0.1937 - val_acc: 0.9763\n",
      "Epoch 189/200\n",
      "48000/48000 [==============================] - 2s - loss: 0.0558 - acc: 0.9890 - val_loss: 0.1824 - val_acc: 0.9787\n",
      "Epoch 190/200\n",
      "48000/48000 [==============================] - 2s - loss: 0.0526 - acc: 0.9904 - val_loss: 0.1924 - val_acc: 0.9777\n",
      "Epoch 191/200\n",
      "48000/48000 [==============================] - 2s - loss: 0.0537 - acc: 0.9889 - val_loss: 0.1903 - val_acc: 0.9767\n",
      "Epoch 192/200\n",
      "48000/48000 [==============================] - 2s - loss: 0.0570 - acc: 0.9895 - val_loss: 0.1991 - val_acc: 0.9770\n",
      "Epoch 193/200\n",
      "48000/48000 [==============================] - 2s - loss: 0.0553 - acc: 0.9900 - val_loss: 0.1864 - val_acc: 0.9774\n",
      "Epoch 194/200\n",
      "48000/48000 [==============================] - 2s - loss: 0.0515 - acc: 0.9901 - val_loss: 0.1855 - val_acc: 0.9777\n",
      "Epoch 195/200\n",
      "48000/48000 [==============================] - 2s - loss: 0.0556 - acc: 0.9893 - val_loss: 0.1821 - val_acc: 0.9789\n",
      "Epoch 196/200\n",
      "48000/48000 [==============================] - 2s - loss: 0.0526 - acc: 0.9898 - val_loss: 0.1909 - val_acc: 0.9780\n",
      "Epoch 197/200\n",
      "48000/48000 [==============================] - 2s - loss: 0.0522 - acc: 0.9903 - val_loss: 0.1753 - val_acc: 0.9782\n",
      "Epoch 198/200\n",
      "48000/48000 [==============================] - 2s - loss: 0.0499 - acc: 0.9898 - val_loss: 0.1834 - val_acc: 0.9791\n",
      "Epoch 199/200\n",
      "48000/48000 [==============================] - 2s - loss: 0.0523 - acc: 0.9900 - val_loss: 0.1903 - val_acc: 0.9780\n",
      "Epoch 200/200\n",
      "48000/48000 [==============================] - 2s - loss: 0.0541 - acc: 0.9903 - val_loss: 0.1771 - val_acc: 0.9783\n"
     ]
    }
   ],
   "source": [
    "time_start = time.clock()\n",
    "history = model.fit(X_train, y_train,\n",
    "                    batch_size=128,\n",
    "                    epochs=200,\n",
    "                    verbose=1,\n",
    "                    validation_split=0.2)\n",
    "time_end = time.clock()"
   ]
  },
  {
   "cell_type": "code",
   "execution_count": 10,
   "metadata": {
    "collapsed": true
   },
   "outputs": [],
   "source": [
    "time_end = time.clock()"
   ]
  },
  {
   "cell_type": "code",
   "execution_count": 11,
   "metadata": {
    "collapsed": false
   },
   "outputs": [
    {
     "name": "stdout",
     "output_type": "stream",
     "text": [
      "Time to train\n",
      "Time elapsed in seconds : 502\n",
      "Time elapsed in minutes : 8.4\n",
      "Time elapsed in hours   : 0.1\n"
     ]
    }
   ],
   "source": [
    "duration = time_end - time_start\n",
    "print(\"Time to train\")\n",
    "print(\"Time elapsed in seconds : %.0f\" % duration)\n",
    "print(\"Time elapsed in minutes : %.1f\" % (duration/60))\n",
    "print(\"Time elapsed in hours   : %.1f\" % (duration/3600))"
   ]
  },
  {
   "cell_type": "code",
   "execution_count": 12,
   "metadata": {
    "collapsed": false
   },
   "outputs": [
    {
     "name": "stdout",
     "output_type": "stream",
     "text": [
      " 9120/10000 [==========================>...] - ETA: 0s\n",
      "Test score: 0.176882478703\n",
      "Test accuracy: 0.9777\n"
     ]
    }
   ],
   "source": [
    "score = model.evaluate(X_test, y_test,\n",
    "                       verbose=1)\n",
    "print(\"\")\n",
    "print(\"Test score:\", score[0])\n",
    "print(\"Test accuracy:\", score[1])"
   ]
  },
  {
   "cell_type": "code",
   "execution_count": 13,
   "metadata": {
    "collapsed": false
   },
   "outputs": [
    {
     "name": "stdout",
     "output_type": "stream",
     "text": [
      "dict_keys(['val_loss', 'loss', 'acc', 'val_acc'])\n"
     ]
    }
   ],
   "source": [
    "# list all data in history\n",
    "print(history.history.keys())"
   ]
  },
  {
   "cell_type": "code",
   "execution_count": 14,
   "metadata": {
    "collapsed": false
   },
   "outputs": [
    {
     "data": {
      "image/png": "[encoded data removed]",
      "text/plain": [
       "<matplotlib.figure.Figure at 0x246368866d8>"
      ]
     },
     "metadata": {},
     "output_type": "display_data"
    }
   ],
   "source": [
    "# Accuracy\n",
    "plt.plot(history.history[\"acc\"])\n",
    "plt.plot(history.history[\"val_acc\"])\n",
    "plt.title(\"model accuracy\")\n",
    "plt.ylabel(\"accuracy\")\n",
    "plt.xlabel(\"epoch\")\n",
    "plt.legend([\"train\", \"test\"], loc=\"lower left\")\n",
    "plt.show()"
   ]
  },
  {
   "cell_type": "code",
   "execution_count": 15,
   "metadata": {
    "collapsed": false
   },
   "outputs": [
    {
     "data": {
      "image/png": "[encoded data removed]",
      "text/plain": [
       "<matplotlib.figure.Figure at 0x24636a7f7f0>"
      ]
     },
     "metadata": {},
     "output_type": "display_data"
    }
   ],
   "source": [
    "# Loss\n",
    "plt.plot(history.history[\"loss\"])\n",
    "plt.plot(history.history[\"val_loss\"])\n",
    "plt.title(\"model loss\")\n",
    "plt.ylabel(\"loss\")\n",
    "plt.xlabel(\"epoch\")\n",
    "plt.legend([\"train\", \"test\"], loc=\"upper left\")\n",
    "plt.show()"
   ]
  }
 ],
 "metadata": {
  "anaconda-cloud": {},
  "kernelspec": {
   "display_name": "Python [default]",
   "language": "python",
   "name": "python3"
  },
  "language_info": {
   "codemirror_mode": {
    "name": "ipython",
    "version": 3
   },
   "file_extension": ".py",
   "mimetype": "text/x-python",
   "name": "python",
   "nbconvert_exporter": "python",
   "pygments_lexer": "ipython3",
   "version": "3.5.2"
  }
 },
 "nbformat": 4,
 "nbformat_minor": 1
}
