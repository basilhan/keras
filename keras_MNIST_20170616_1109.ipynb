{
 "cells": [
  {
   "cell_type": "code",
   "execution_count": 1,
   "metadata": {
    "collapsed": false
   },
   "outputs": [
    {
     "name": "stderr",
     "output_type": "stream",
     "text": [
      "Using TensorFlow backend.\n"
     ]
    }
   ],
   "source": [
    "import numpy as np\n",
    "import matplotlib.pyplot as plt\n",
    "import time\n",
    "from keras.datasets import mnist\n",
    "from keras.models import Sequential\n",
    "from keras.layers.core import Dense, Dropout, Activation\n",
    "from keras.optimizers import SGD, Adam, Adamax, RMSprop, Adagrad, Adadelta, Nadam\n",
    "from keras.utils import np_utils\n",
    "from tensorflow import set_random_seed"
   ]
  },
  {
   "cell_type": "code",
   "execution_count": 2,
   "metadata": {
    "collapsed": false
   },
   "outputs": [],
   "source": [
    "np.random.seed(2015)\n",
    "set_random_seed(2015)"
   ]
  },
  {
   "cell_type": "code",
   "execution_count": 3,
   "metadata": {
    "collapsed": false
   },
   "outputs": [],
   "source": [
    "# Load data\n",
    "(X_train, y_train), (X_test, y_test) = mnist.load_data()"
   ]
  },
  {
   "cell_type": "code",
   "execution_count": 4,
   "metadata": {
    "collapsed": false
   },
   "outputs": [
    {
     "name": "stdout",
     "output_type": "stream",
     "text": [
      "60000 training samples\n",
      "10000 testing samples\n"
     ]
    }
   ],
   "source": [
    "# Preprocessing\n",
    "X_train = X_train.reshape(60000, 784)\n",
    "X_test  = X_test.reshape(10000, 784)\n",
    "X_train = X_train.astype(\"float32\")\n",
    "X_test  = X_test.astype(\"float32\")\n",
    "X_train /= 255\n",
    "X_test  /= 255\n",
    "print(X_train.shape[0], \"training samples\")\n",
    "print(X_test.shape[0], \"testing samples\")"
   ]
  },
  {
   "cell_type": "code",
   "execution_count": 5,
   "metadata": {
    "collapsed": true
   },
   "outputs": [],
   "source": [
    "# Convert labels to one-hot encoding\n",
    "# e.g. 1 -> array([ 0.,  1.,  0.,  0.,  0.,  0.,  0.,  0.,  0.,  0.])\n",
    "y_train = np_utils.to_categorical(y_train, 10)\n",
    "y_test = np_utils.to_categorical(y_test, 10)"
   ]
  },
  {
   "cell_type": "markdown",
   "metadata": {},
   "source": [
    "The argument *input_dim* is equivalent to *input_shape* ([reference](https://keras.io/getting-started/sequential-model-guide/))."
   ]
  },
  {
   "cell_type": "code",
   "execution_count": 6,
   "metadata": {
    "collapsed": false
   },
   "outputs": [],
   "source": [
    "# Define the model\n",
    "model = Sequential([\n",
    "        Dense(128, input_dim=784), Activation(\"relu\"), Dropout(0.3),\n",
    "        Dense(128), Activation(\"relu\"), Dropout(0.3),\n",
    "        Dense(10), Activation(\"softmax\")\n",
    "    ])"
   ]
  },
  {
   "cell_type": "code",
   "execution_count": 7,
   "metadata": {
    "collapsed": false
   },
   "outputs": [
    {
     "name": "stdout",
     "output_type": "stream",
     "text": [
      "_________________________________________________________________\n",
      "Layer (type)                 Output Shape              Param #   \n",
      "=================================================================\n",
      "dense_1 (Dense)              (None, 128)               100480    \n",
      "_________________________________________________________________\n",
      "activation_1 (Activation)    (None, 128)               0         \n",
      "_________________________________________________________________\n",
      "dropout_1 (Dropout)          (None, 128)               0         \n",
      "_________________________________________________________________\n",
      "dense_2 (Dense)              (None, 128)               16512     \n",
      "_________________________________________________________________\n",
      "activation_2 (Activation)    (None, 128)               0         \n",
      "_________________________________________________________________\n",
      "dropout_2 (Dropout)          (None, 128)               0         \n",
      "_________________________________________________________________\n",
      "dense_3 (Dense)              (None, 10)                1290      \n",
      "_________________________________________________________________\n",
      "activation_3 (Activation)    (None, 10)                0         \n",
      "=================================================================\n",
      "Total params: 118,282\n",
      "Trainable params: 118,282\n",
      "Non-trainable params: 0\n",
      "_________________________________________________________________\n"
     ]
    }
   ],
   "source": [
    "model.summary()"
   ]
  },
  {
   "cell_type": "code",
   "execution_count": 8,
   "metadata": {
    "collapsed": false
   },
   "outputs": [],
   "source": [
    "model.compile(loss=\"categorical_crossentropy\",\n",
    "              optimizer=SGD(lr=1),\n",
    "              metrics=[\"accuracy\"])"
   ]
  },
  {
   "cell_type": "code",
   "execution_count": 9,
   "metadata": {
    "collapsed": false
   },
   "outputs": [
    {
     "name": "stdout",
     "output_type": "stream",
     "text": [
      "Train on 48000 samples, validate on 12000 samples\n",
      "Epoch 1/200\n",
      "48000/48000 [==============================] - 2s - loss: 0.6349 - acc: 0.8029 - val_loss: 0.1935 - val_acc: 0.9449\n",
      "Epoch 2/200\n",
      "48000/48000 [==============================] - 2s - loss: 0.2939 - acc: 0.9129 - val_loss: 0.1613 - val_acc: 0.9524\n",
      "Epoch 3/200\n",
      "48000/48000 [==============================] - 2s - loss: 0.2476 - acc: 0.9257 - val_loss: 0.1510 - val_acc: 0.9561\n",
      "Epoch 4/200\n",
      "48000/48000 [==============================] - 2s - loss: 0.2182 - acc: 0.9360 - val_loss: 0.1369 - val_acc: 0.9607\n",
      "Epoch 5/200\n",
      "48000/48000 [==============================] - 2s - loss: 0.2002 - acc: 0.9407 - val_loss: 0.1257 - val_acc: 0.9634\n",
      "Epoch 6/200\n",
      "48000/48000 [==============================] - 2s - loss: 0.1827 - acc: 0.9453 - val_loss: 0.1261 - val_acc: 0.9621\n",
      "Epoch 7/200\n",
      "48000/48000 [==============================] - 2s - loss: 0.1761 - acc: 0.9480 - val_loss: 0.1227 - val_acc: 0.9643\n",
      "Epoch 8/200\n",
      "48000/48000 [==============================] - 2s - loss: 0.1660 - acc: 0.9505 - val_loss: 0.1134 - val_acc: 0.9669\n",
      "Epoch 9/200\n",
      "48000/48000 [==============================] - 2s - loss: 0.1601 - acc: 0.9519 - val_loss: 0.1082 - val_acc: 0.9687\n",
      "Epoch 10/200\n",
      "48000/48000 [==============================] - 2s - loss: 0.1514 - acc: 0.9549 - val_loss: 0.1137 - val_acc: 0.9678\n",
      "Epoch 11/200\n",
      "48000/48000 [==============================] - 2s - loss: 0.1477 - acc: 0.9554 - val_loss: 0.1060 - val_acc: 0.9693\n",
      "Epoch 12/200\n",
      "48000/48000 [==============================] - 2s - loss: 0.1408 - acc: 0.9583 - val_loss: 0.0996 - val_acc: 0.9724\n",
      "Epoch 13/200\n",
      "48000/48000 [==============================] - 2s - loss: 0.1372 - acc: 0.9589 - val_loss: 0.0992 - val_acc: 0.9714\n",
      "Epoch 14/200\n",
      "48000/48000 [==============================] - 2s - loss: 0.1317 - acc: 0.9609 - val_loss: 0.1065 - val_acc: 0.9686\n",
      "Epoch 15/200\n",
      "48000/48000 [==============================] - 2s - loss: 0.1282 - acc: 0.9622 - val_loss: 0.0995 - val_acc: 0.9723\n",
      "Epoch 16/200\n",
      "48000/48000 [==============================] - 2s - loss: 0.1244 - acc: 0.9628 - val_loss: 0.1002 - val_acc: 0.9703\n",
      "Epoch 17/200\n",
      "48000/48000 [==============================] - 2s - loss: 0.1271 - acc: 0.9622 - val_loss: 0.1029 - val_acc: 0.9713\n",
      "Epoch 18/200\n",
      "48000/48000 [==============================] - 2s - loss: 0.1172 - acc: 0.9647 - val_loss: 0.0972 - val_acc: 0.9716\n",
      "Epoch 19/200\n",
      "48000/48000 [==============================] - 2s - loss: 0.1211 - acc: 0.9634 - val_loss: 0.0985 - val_acc: 0.9719\n",
      "Epoch 20/200\n",
      "48000/48000 [==============================] - 2s - loss: 0.1169 - acc: 0.9649 - val_loss: 0.1025 - val_acc: 0.9730\n",
      "Epoch 21/200\n",
      "48000/48000 [==============================] - 2s - loss: 0.1172 - acc: 0.9654 - val_loss: 0.0950 - val_acc: 0.9727\n",
      "Epoch 22/200\n",
      "48000/48000 [==============================] - 2s - loss: 0.1120 - acc: 0.9668 - val_loss: 0.1156 - val_acc: 0.9684\n",
      "Epoch 23/200\n",
      "48000/48000 [==============================] - 2s - loss: 0.1109 - acc: 0.9669 - val_loss: 0.1050 - val_acc: 0.9707\n",
      "Epoch 24/200\n",
      "48000/48000 [==============================] - 2s - loss: 0.1103 - acc: 0.9674 - val_loss: 0.0988 - val_acc: 0.9728\n",
      "Epoch 25/200\n",
      "48000/48000 [==============================] - 2s - loss: 0.1088 - acc: 0.9670 - val_loss: 0.0973 - val_acc: 0.9725\n",
      "Epoch 26/200\n",
      "48000/48000 [==============================] - 2s - loss: 0.1097 - acc: 0.9670 - val_loss: 0.1006 - val_acc: 0.9724\n",
      "Epoch 27/200\n",
      "48000/48000 [==============================] - 2s - loss: 0.1055 - acc: 0.9688 - val_loss: 0.0945 - val_acc: 0.9742\n",
      "Epoch 28/200\n",
      "48000/48000 [==============================] - 2s - loss: 0.1067 - acc: 0.9678 - val_loss: 0.1010 - val_acc: 0.9736\n",
      "Epoch 29/200\n",
      "48000/48000 [==============================] - 2s - loss: 0.1038 - acc: 0.9685 - val_loss: 0.0988 - val_acc: 0.9736\n",
      "Epoch 30/200\n",
      "48000/48000 [==============================] - 2s - loss: 0.1036 - acc: 0.9686 - val_loss: 0.0950 - val_acc: 0.9753\n",
      "Epoch 31/200\n",
      "48000/48000 [==============================] - 2s - loss: 0.1003 - acc: 0.9701 - val_loss: 0.1000 - val_acc: 0.9736\n",
      "Epoch 32/200\n",
      "48000/48000 [==============================] - 2s - loss: 0.1038 - acc: 0.9688 - val_loss: 0.1032 - val_acc: 0.9745\n",
      "Epoch 33/200\n",
      "48000/48000 [==============================] - 2s - loss: 0.1021 - acc: 0.9692 - val_loss: 0.0969 - val_acc: 0.9740\n",
      "Epoch 34/200\n",
      "48000/48000 [==============================] - 2s - loss: 0.1012 - acc: 0.9694 - val_loss: 0.0962 - val_acc: 0.9742\n",
      "Epoch 35/200\n",
      "48000/48000 [==============================] - 2s - loss: 0.0958 - acc: 0.9714 - val_loss: 0.1040 - val_acc: 0.9720\n",
      "Epoch 36/200\n",
      "48000/48000 [==============================] - 2s - loss: 0.0979 - acc: 0.9694 - val_loss: 0.0939 - val_acc: 0.9751\n",
      "Epoch 37/200\n",
      "48000/48000 [==============================] - 2s - loss: 0.0974 - acc: 0.9704 - val_loss: 0.1099 - val_acc: 0.9718\n",
      "Epoch 38/200\n",
      "48000/48000 [==============================] - 2s - loss: 0.0972 - acc: 0.9715 - val_loss: 0.1008 - val_acc: 0.9730\n",
      "Epoch 39/200\n",
      "48000/48000 [==============================] - 2s - loss: 0.0925 - acc: 0.9730 - val_loss: 0.0957 - val_acc: 0.9743\n",
      "Epoch 40/200\n",
      "48000/48000 [==============================] - 2s - loss: 0.0951 - acc: 0.9718 - val_loss: 0.1068 - val_acc: 0.9717\n",
      "Epoch 41/200\n",
      "48000/48000 [==============================] - 2s - loss: 0.0937 - acc: 0.9720 - val_loss: 0.0995 - val_acc: 0.9741\n",
      "Epoch 42/200\n",
      "48000/48000 [==============================] - 2s - loss: 0.0914 - acc: 0.9729 - val_loss: 0.1002 - val_acc: 0.9738\n",
      "Epoch 43/200\n",
      "48000/48000 [==============================] - 2s - loss: 0.0901 - acc: 0.9737 - val_loss: 0.0997 - val_acc: 0.9744\n",
      "Epoch 44/200\n",
      "48000/48000 [==============================] - 2s - loss: 0.0917 - acc: 0.9727 - val_loss: 0.0977 - val_acc: 0.9742\n",
      "Epoch 45/200\n",
      "48000/48000 [==============================] - 2s - loss: 0.0942 - acc: 0.9724 - val_loss: 0.0892 - val_acc: 0.9769\n",
      "Epoch 46/200\n",
      "48000/48000 [==============================] - 2s - loss: 0.0856 - acc: 0.9746 - val_loss: 0.0944 - val_acc: 0.9766\n",
      "Epoch 47/200\n",
      "48000/48000 [==============================] - 2s - loss: 0.0878 - acc: 0.9737 - val_loss: 0.1006 - val_acc: 0.9728\n",
      "Epoch 48/200\n",
      "48000/48000 [==============================] - 2s - loss: 0.0870 - acc: 0.9740 - val_loss: 0.0988 - val_acc: 0.9747\n",
      "Epoch 49/200\n",
      "48000/48000 [==============================] - 2s - loss: 0.0845 - acc: 0.9750 - val_loss: 0.1039 - val_acc: 0.9733\n",
      "Epoch 50/200\n",
      "48000/48000 [==============================] - 2s - loss: 0.0869 - acc: 0.9748 - val_loss: 0.0982 - val_acc: 0.9739\n",
      "Epoch 51/200\n",
      "48000/48000 [==============================] - 2s - loss: 0.0820 - acc: 0.9755 - val_loss: 0.1057 - val_acc: 0.9722\n",
      "Epoch 52/200\n",
      "48000/48000 [==============================] - 2s - loss: 0.0861 - acc: 0.9737 - val_loss: 0.0987 - val_acc: 0.9732\n",
      "Epoch 53/200\n",
      "48000/48000 [==============================] - 2s - loss: 0.0856 - acc: 0.9745 - val_loss: 0.1023 - val_acc: 0.9741\n",
      "Epoch 54/200\n",
      "48000/48000 [==============================] - 2s - loss: 0.0816 - acc: 0.9754 - val_loss: 0.0973 - val_acc: 0.9748\n",
      "Epoch 55/200\n",
      "48000/48000 [==============================] - 2s - loss: 0.0819 - acc: 0.9759 - val_loss: 0.0974 - val_acc: 0.9759\n",
      "Epoch 56/200\n",
      "48000/48000 [==============================] - 2s - loss: 0.0847 - acc: 0.9750 - val_loss: 0.1011 - val_acc: 0.9743\n",
      "Epoch 57/200\n",
      "48000/48000 [==============================] - 2s - loss: 0.0827 - acc: 0.9756 - val_loss: 0.1056 - val_acc: 0.9731\n",
      "Epoch 58/200\n",
      "48000/48000 [==============================] - 2s - loss: 0.0842 - acc: 0.9741 - val_loss: 0.1014 - val_acc: 0.9738\n",
      "Epoch 59/200\n",
      "48000/48000 [==============================] - 2s - loss: 0.0812 - acc: 0.9756 - val_loss: 0.0958 - val_acc: 0.9766\n",
      "Epoch 60/200\n",
      "48000/48000 [==============================] - 2s - loss: 0.0833 - acc: 0.9759 - val_loss: 0.1016 - val_acc: 0.9736\n",
      "Epoch 61/200\n",
      "48000/48000 [==============================] - 2s - loss: 0.0798 - acc: 0.9761 - val_loss: 0.0981 - val_acc: 0.9748\n",
      "Epoch 62/200\n",
      "48000/48000 [==============================] - 2s - loss: 0.0786 - acc: 0.9761 - val_loss: 0.1038 - val_acc: 0.9727\n",
      "Epoch 63/200\n",
      "48000/48000 [==============================] - 2s - loss: 0.0782 - acc: 0.9765 - val_loss: 0.1025 - val_acc: 0.9755\n",
      "Epoch 64/200\n",
      "48000/48000 [==============================] - 2s - loss: 0.0805 - acc: 0.9762 - val_loss: 0.1022 - val_acc: 0.9743\n",
      "Epoch 65/200\n",
      "48000/48000 [==============================] - 2s - loss: 0.0785 - acc: 0.9765 - val_loss: 0.1020 - val_acc: 0.9752\n",
      "Epoch 66/200\n",
      "48000/48000 [==============================] - 2s - loss: 0.0773 - acc: 0.9767 - val_loss: 0.1078 - val_acc: 0.9722\n",
      "Epoch 67/200\n",
      "48000/48000 [==============================] - 2s - loss: 0.0798 - acc: 0.9765 - val_loss: 0.0932 - val_acc: 0.9767\n",
      "Epoch 68/200\n",
      "48000/48000 [==============================] - 2s - loss: 0.0773 - acc: 0.9763 - val_loss: 0.1019 - val_acc: 0.9756\n",
      "Epoch 69/200\n",
      "48000/48000 [==============================] - 2s - loss: 0.0733 - acc: 0.9789 - val_loss: 0.0978 - val_acc: 0.9756\n",
      "Epoch 70/200\n",
      "48000/48000 [==============================] - 2s - loss: 0.0789 - acc: 0.9768 - val_loss: 0.0971 - val_acc: 0.9762\n",
      "Epoch 71/200\n",
      "48000/48000 [==============================] - 2s - loss: 0.0751 - acc: 0.9775 - val_loss: 0.1019 - val_acc: 0.9760\n",
      "Epoch 72/200\n",
      "48000/48000 [==============================] - 2s - loss: 0.0776 - acc: 0.9768 - val_loss: 0.1077 - val_acc: 0.9731\n",
      "Epoch 73/200\n",
      "48000/48000 [==============================] - 3s - loss: 0.0749 - acc: 0.9781 - val_loss: 0.0978 - val_acc: 0.9750\n",
      "Epoch 74/200\n",
      "48000/48000 [==============================] - 2s - loss: 0.0750 - acc: 0.9785 - val_loss: 0.1097 - val_acc: 0.9736\n",
      "Epoch 75/200\n",
      "48000/48000 [==============================] - 2s - loss: 0.0763 - acc: 0.9775 - val_loss: 0.1006 - val_acc: 0.9737\n",
      "Epoch 76/200\n",
      "48000/48000 [==============================] - 3s - loss: 0.0757 - acc: 0.9777 - val_loss: 0.1016 - val_acc: 0.9761\n",
      "Epoch 77/200\n",
      "48000/48000 [==============================] - 2s - loss: 0.0743 - acc: 0.9790 - val_loss: 0.0989 - val_acc: 0.9760\n",
      "Epoch 78/200\n",
      "48000/48000 [==============================] - 2s - loss: 0.0731 - acc: 0.9788 - val_loss: 0.1016 - val_acc: 0.9748\n",
      "Epoch 79/200\n",
      "48000/48000 [==============================] - 2s - loss: 0.0784 - acc: 0.9777 - val_loss: 0.1022 - val_acc: 0.9743\n",
      "Epoch 80/200\n",
      "48000/48000 [==============================] - 2s - loss: 0.0711 - acc: 0.9791 - val_loss: 0.1139 - val_acc: 0.9732\n",
      "Epoch 81/200\n",
      "48000/48000 [==============================] - 2s - loss: 0.0735 - acc: 0.9791 - val_loss: 0.1056 - val_acc: 0.9731\n",
      "Epoch 82/200\n",
      "48000/48000 [==============================] - 2s - loss: 0.0684 - acc: 0.9799 - val_loss: 0.1070 - val_acc: 0.9742\n",
      "Epoch 83/200\n",
      "48000/48000 [==============================] - 2s - loss: 0.0679 - acc: 0.9791 - val_loss: 0.1055 - val_acc: 0.9745\n",
      "Epoch 84/200\n",
      "48000/48000 [==============================] - 2s - loss: 0.0740 - acc: 0.9781 - val_loss: 0.1049 - val_acc: 0.9730\n",
      "Epoch 85/200\n",
      "48000/48000 [==============================] - 2s - loss: 0.0704 - acc: 0.9792 - val_loss: 0.1088 - val_acc: 0.9756\n",
      "Epoch 86/200\n",
      "48000/48000 [==============================] - 2s - loss: 0.0652 - acc: 0.9804 - val_loss: 0.1029 - val_acc: 0.9741\n",
      "Epoch 87/200\n",
      "48000/48000 [==============================] - 2s - loss: 0.0712 - acc: 0.9794 - val_loss: 0.1106 - val_acc: 0.9747\n",
      "Epoch 88/200\n",
      "48000/48000 [==============================] - 2s - loss: 0.0706 - acc: 0.9791 - val_loss: 0.1092 - val_acc: 0.9732\n",
      "Epoch 89/200\n",
      "48000/48000 [==============================] - 2s - loss: 0.0753 - acc: 0.9782 - val_loss: 0.1050 - val_acc: 0.9758\n",
      "Epoch 90/200\n",
      "48000/48000 [==============================] - 2s - loss: 0.0700 - acc: 0.9787 - val_loss: 0.1028 - val_acc: 0.9759\n",
      "Epoch 91/200\n",
      "48000/48000 [==============================] - 2s - loss: 0.0715 - acc: 0.9787 - val_loss: 0.1082 - val_acc: 0.9734\n",
      "Epoch 92/200\n",
      "48000/48000 [==============================] - 2s - loss: 0.0703 - acc: 0.9789 - val_loss: 0.1087 - val_acc: 0.9737\n",
      "Epoch 93/200\n",
      "48000/48000 [==============================] - 2s - loss: 0.0676 - acc: 0.9802 - val_loss: 0.1052 - val_acc: 0.9756\n",
      "Epoch 94/200\n",
      "48000/48000 [==============================] - 2s - loss: 0.0651 - acc: 0.9808 - val_loss: 0.1114 - val_acc: 0.9737\n",
      "Epoch 95/200\n",
      "48000/48000 [==============================] - 3s - loss: 0.0697 - acc: 0.9800 - val_loss: 0.1012 - val_acc: 0.9744\n",
      "Epoch 96/200\n",
      "48000/48000 [==============================] - 3s - loss: 0.0702 - acc: 0.9798 - val_loss: 0.1133 - val_acc: 0.9732\n",
      "Epoch 97/200\n",
      "48000/48000 [==============================] - 2s - loss: 0.0687 - acc: 0.9800 - val_loss: 0.1037 - val_acc: 0.9755\n",
      "Epoch 98/200\n",
      "48000/48000 [==============================] - 3s - loss: 0.0717 - acc: 0.9791 - val_loss: 0.1078 - val_acc: 0.9745\n",
      "Epoch 99/200\n",
      "48000/48000 [==============================] - 3s - loss: 0.0681 - acc: 0.9806 - val_loss: 0.1075 - val_acc: 0.9750\n",
      "Epoch 100/200\n",
      "48000/48000 [==============================] - 3s - loss: 0.0677 - acc: 0.9805 - val_loss: 0.1022 - val_acc: 0.9754\n",
      "Epoch 101/200\n",
      "48000/48000 [==============================] - 2s - loss: 0.0689 - acc: 0.9800 - val_loss: 0.1041 - val_acc: 0.9749\n",
      "Epoch 102/200\n",
      "48000/48000 [==============================] - 2s - loss: 0.0661 - acc: 0.9811 - val_loss: 0.0989 - val_acc: 0.9753\n",
      "Epoch 103/200\n",
      "48000/48000 [==============================] - 2s - loss: 0.0643 - acc: 0.9816 - val_loss: 0.1164 - val_acc: 0.9737\n",
      "Epoch 104/200\n",
      "48000/48000 [==============================] - 2s - loss: 0.0691 - acc: 0.9807 - val_loss: 0.1143 - val_acc: 0.9733\n",
      "Epoch 105/200\n",
      "48000/48000 [==============================] - 2s - loss: 0.0636 - acc: 0.9816 - val_loss: 0.1119 - val_acc: 0.9755\n",
      "Epoch 106/200\n",
      "48000/48000 [==============================] - 2s - loss: 0.0640 - acc: 0.9818 - val_loss: 0.1101 - val_acc: 0.9742\n",
      "Epoch 107/200\n",
      "48000/48000 [==============================] - 2s - loss: 0.0673 - acc: 0.9804 - val_loss: 0.1126 - val_acc: 0.9758\n",
      "Epoch 108/200\n",
      "48000/48000 [==============================] - 2s - loss: 0.0659 - acc: 0.9808 - val_loss: 0.1061 - val_acc: 0.9760\n",
      "Epoch 109/200\n",
      "48000/48000 [==============================] - 2s - loss: 0.0659 - acc: 0.9809 - val_loss: 0.1102 - val_acc: 0.9757\n",
      "Epoch 110/200\n",
      "48000/48000 [==============================] - 2s - loss: 0.0690 - acc: 0.9809 - val_loss: 0.1059 - val_acc: 0.9775\n",
      "Epoch 111/200\n",
      "48000/48000 [==============================] - 2s - loss: 0.0664 - acc: 0.9806 - val_loss: 0.1090 - val_acc: 0.9763\n",
      "Epoch 112/200\n",
      "48000/48000 [==============================] - 2s - loss: 0.0633 - acc: 0.9813 - val_loss: 0.1163 - val_acc: 0.9749\n",
      "Epoch 113/200\n",
      "48000/48000 [==============================] - 2s - loss: 0.0671 - acc: 0.9807 - val_loss: 0.1085 - val_acc: 0.9743\n",
      "Epoch 114/200\n",
      "48000/48000 [==============================] - 2s - loss: 0.0607 - acc: 0.9818 - val_loss: 0.1167 - val_acc: 0.9736\n",
      "Epoch 115/200\n",
      "48000/48000 [==============================] - 2s - loss: 0.0595 - acc: 0.9828 - val_loss: 0.1099 - val_acc: 0.9752\n",
      "Epoch 116/200\n",
      "48000/48000 [==============================] - 2s - loss: 0.0662 - acc: 0.9811 - val_loss: 0.1132 - val_acc: 0.9725\n",
      "Epoch 117/200\n",
      "48000/48000 [==============================] - 2s - loss: 0.0650 - acc: 0.9809 - val_loss: 0.1116 - val_acc: 0.9754\n",
      "Epoch 118/200\n",
      "48000/48000 [==============================] - 2s - loss: 0.0589 - acc: 0.9828 - val_loss: 0.1153 - val_acc: 0.9739\n",
      "Epoch 119/200\n",
      "48000/48000 [==============================] - 2s - loss: 0.0636 - acc: 0.9816 - val_loss: 0.1202 - val_acc: 0.9737\n",
      "Epoch 120/200\n",
      "48000/48000 [==============================] - 2s - loss: 0.0624 - acc: 0.9828 - val_loss: 0.1192 - val_acc: 0.9739\n",
      "Epoch 121/200\n",
      "48000/48000 [==============================] - 2s - loss: 0.0637 - acc: 0.9826 - val_loss: 0.1143 - val_acc: 0.9754\n",
      "Epoch 122/200\n",
      "48000/48000 [==============================] - 2s - loss: 0.0687 - acc: 0.9804 - val_loss: 0.1085 - val_acc: 0.9759\n",
      "Epoch 123/200\n",
      "48000/48000 [==============================] - 2s - loss: 0.0612 - acc: 0.9821 - val_loss: 0.1217 - val_acc: 0.9729\n",
      "Epoch 124/200\n",
      "48000/48000 [==============================] - 2s - loss: 0.0612 - acc: 0.9823 - val_loss: 0.1127 - val_acc: 0.9744\n",
      "Epoch 125/200\n",
      "48000/48000 [==============================] - 2s - loss: 0.0599 - acc: 0.9824 - val_loss: 0.1135 - val_acc: 0.9749\n",
      "Epoch 126/200\n",
      "48000/48000 [==============================] - 2s - loss: 0.0608 - acc: 0.9826 - val_loss: 0.1139 - val_acc: 0.9751\n",
      "Epoch 127/200\n",
      "48000/48000 [==============================] - 2s - loss: 0.0627 - acc: 0.9821 - val_loss: 0.1141 - val_acc: 0.9749\n",
      "Epoch 128/200\n",
      "48000/48000 [==============================] - 2s - loss: 0.0655 - acc: 0.9818 - val_loss: 0.1090 - val_acc: 0.9768\n",
      "Epoch 129/200\n",
      "48000/48000 [==============================] - 2s - loss: 0.0616 - acc: 0.9832 - val_loss: 0.1113 - val_acc: 0.9753\n",
      "Epoch 130/200\n",
      "48000/48000 [==============================] - 2s - loss: 0.0618 - acc: 0.9824 - val_loss: 0.1113 - val_acc: 0.9747\n",
      "Epoch 131/200\n",
      "48000/48000 [==============================] - 2s - loss: 0.0597 - acc: 0.9820 - val_loss: 0.1164 - val_acc: 0.9745\n",
      "Epoch 132/200\n",
      "48000/48000 [==============================] - 2s - loss: 0.0633 - acc: 0.9819 - val_loss: 0.1156 - val_acc: 0.9741\n",
      "Epoch 133/200\n",
      "48000/48000 [==============================] - 2s - loss: 0.0601 - acc: 0.9828 - val_loss: 0.1096 - val_acc: 0.9759\n",
      "Epoch 134/200\n",
      "48000/48000 [==============================] - 2s - loss: 0.0620 - acc: 0.9820 - val_loss: 0.1082 - val_acc: 0.9758\n",
      "Epoch 135/200\n",
      "48000/48000 [==============================] - 2s - loss: 0.0626 - acc: 0.9824 - val_loss: 0.1140 - val_acc: 0.9752\n",
      "Epoch 136/200\n",
      "48000/48000 [==============================] - 2s - loss: 0.0597 - acc: 0.9826 - val_loss: 0.1243 - val_acc: 0.9735\n",
      "Epoch 137/200\n",
      "48000/48000 [==============================] - 2s - loss: 0.0583 - acc: 0.9833 - val_loss: 0.1155 - val_acc: 0.9749\n",
      "Epoch 138/200\n",
      "48000/48000 [==============================] - 2s - loss: 0.0584 - acc: 0.9832 - val_loss: 0.1157 - val_acc: 0.9735\n",
      "Epoch 139/200\n",
      "48000/48000 [==============================] - 3s - loss: 0.0615 - acc: 0.9831 - val_loss: 0.1137 - val_acc: 0.9739\n",
      "Epoch 140/200\n",
      "48000/48000 [==============================] - 2s - loss: 0.0622 - acc: 0.9818 - val_loss: 0.1150 - val_acc: 0.9751\n",
      "Epoch 141/200\n",
      "48000/48000 [==============================] - 2s - loss: 0.0624 - acc: 0.9824 - val_loss: 0.1214 - val_acc: 0.9725\n",
      "Epoch 142/200\n",
      "48000/48000 [==============================] - 2s - loss: 0.0625 - acc: 0.9824 - val_loss: 0.1063 - val_acc: 0.9752\n",
      "Epoch 143/200\n",
      "48000/48000 [==============================] - 2s - loss: 0.0626 - acc: 0.9828 - val_loss: 0.1181 - val_acc: 0.9748\n",
      "Epoch 144/200\n",
      "48000/48000 [==============================] - 2s - loss: 0.0605 - acc: 0.9832 - val_loss: 0.1101 - val_acc: 0.9753\n",
      "Epoch 145/200\n",
      "48000/48000 [==============================] - 2s - loss: 0.0563 - acc: 0.9843 - val_loss: 0.1153 - val_acc: 0.9757\n",
      "Epoch 146/200\n",
      "48000/48000 [==============================] - 2s - loss: 0.0581 - acc: 0.9838 - val_loss: 0.1162 - val_acc: 0.9741\n",
      "Epoch 147/200\n",
      "48000/48000 [==============================] - 2s - loss: 0.0624 - acc: 0.9819 - val_loss: 0.1150 - val_acc: 0.9744\n",
      "Epoch 148/200\n",
      "48000/48000 [==============================] - 2s - loss: 0.0580 - acc: 0.9831 - val_loss: 0.1135 - val_acc: 0.9765\n",
      "Epoch 149/200\n",
      "48000/48000 [==============================] - 2s - loss: 0.0611 - acc: 0.9829 - val_loss: 0.1136 - val_acc: 0.9749\n",
      "Epoch 150/200\n",
      "48000/48000 [==============================] - 2s - loss: 0.0590 - acc: 0.9830 - val_loss: 0.1135 - val_acc: 0.9744\n",
      "Epoch 151/200\n",
      "48000/48000 [==============================] - 2s - loss: 0.0589 - acc: 0.9830 - val_loss: 0.1147 - val_acc: 0.9754\n",
      "Epoch 152/200\n",
      "48000/48000 [==============================] - 3s - loss: 0.0651 - acc: 0.9821 - val_loss: 0.1126 - val_acc: 0.9748\n",
      "Epoch 153/200\n",
      "48000/48000 [==============================] - 3s - loss: 0.0571 - acc: 0.9840 - val_loss: 0.1176 - val_acc: 0.9750\n",
      "Epoch 154/200\n",
      "48000/48000 [==============================] - 2s - loss: 0.0583 - acc: 0.9836 - val_loss: 0.1091 - val_acc: 0.9749\n",
      "Epoch 155/200\n",
      "48000/48000 [==============================] - 2s - loss: 0.0575 - acc: 0.9835 - val_loss: 0.1240 - val_acc: 0.9742\n",
      "Epoch 156/200\n",
      "48000/48000 [==============================] - 2s - loss: 0.0593 - acc: 0.9839 - val_loss: 0.1125 - val_acc: 0.9748\n",
      "Epoch 157/200\n",
      "48000/48000 [==============================] - 2s - loss: 0.0548 - acc: 0.9842 - val_loss: 0.1220 - val_acc: 0.9740\n",
      "Epoch 158/200\n",
      "48000/48000 [==============================] - 2s - loss: 0.0543 - acc: 0.9843 - val_loss: 0.1239 - val_acc: 0.9744\n",
      "Epoch 159/200\n",
      "48000/48000 [==============================] - 2s - loss: 0.0541 - acc: 0.9841 - val_loss: 0.1127 - val_acc: 0.9753\n",
      "Epoch 160/200\n",
      "48000/48000 [==============================] - 2s - loss: 0.0610 - acc: 0.9827 - val_loss: 0.1177 - val_acc: 0.9749\n",
      "Epoch 161/200\n",
      "48000/48000 [==============================] - 2s - loss: 0.0580 - acc: 0.9838 - val_loss: 0.1132 - val_acc: 0.9753\n",
      "Epoch 162/200\n",
      "48000/48000 [==============================] - 2s - loss: 0.0590 - acc: 0.9838 - val_loss: 0.1094 - val_acc: 0.9776\n",
      "Epoch 163/200\n",
      "48000/48000 [==============================] - 2s - loss: 0.0589 - acc: 0.9842 - val_loss: 0.1192 - val_acc: 0.9739\n",
      "Epoch 164/200\n",
      "48000/48000 [==============================] - 2s - loss: 0.0572 - acc: 0.9832 - val_loss: 0.1137 - val_acc: 0.9759\n",
      "Epoch 165/200\n",
      "48000/48000 [==============================] - 2s - loss: 0.0555 - acc: 0.9842 - val_loss: 0.1129 - val_acc: 0.9767\n",
      "Epoch 166/200\n",
      "48000/48000 [==============================] - 2s - loss: 0.0543 - acc: 0.9845 - val_loss: 0.1116 - val_acc: 0.9755\n",
      "Epoch 167/200\n",
      "48000/48000 [==============================] - 2s - loss: 0.0616 - acc: 0.9830 - val_loss: 0.1114 - val_acc: 0.9739\n",
      "Epoch 168/200\n",
      "48000/48000 [==============================] - 2s - loss: 0.0581 - acc: 0.9835 - val_loss: 0.1146 - val_acc: 0.9739\n",
      "Epoch 169/200\n",
      "48000/48000 [==============================] - 2s - loss: 0.0572 - acc: 0.9836 - val_loss: 0.1132 - val_acc: 0.9753\n",
      "Epoch 170/200\n",
      "48000/48000 [==============================] - 2s - loss: 0.0549 - acc: 0.9846 - val_loss: 0.1247 - val_acc: 0.9727\n",
      "Epoch 171/200\n",
      "48000/48000 [==============================] - 2s - loss: 0.0601 - acc: 0.9830 - val_loss: 0.1224 - val_acc: 0.9731\n",
      "Epoch 172/200\n",
      "48000/48000 [==============================] - 2s - loss: 0.0557 - acc: 0.9845 - val_loss: 0.1164 - val_acc: 0.9752\n",
      "Epoch 173/200\n",
      "48000/48000 [==============================] - 2s - loss: 0.0561 - acc: 0.9841 - val_loss: 0.1149 - val_acc: 0.9750\n",
      "Epoch 174/200\n",
      "48000/48000 [==============================] - 2s - loss: 0.0613 - acc: 0.9829 - val_loss: 0.1134 - val_acc: 0.9758\n",
      "Epoch 175/200\n",
      "48000/48000 [==============================] - 2s - loss: 0.0521 - acc: 0.9849 - val_loss: 0.1170 - val_acc: 0.9748\n",
      "Epoch 176/200\n",
      "48000/48000 [==============================] - 2s - loss: 0.0543 - acc: 0.9850 - val_loss: 0.1139 - val_acc: 0.9767\n",
      "Epoch 177/200\n",
      "48000/48000 [==============================] - 2s - loss: 0.0593 - acc: 0.9832 - val_loss: 0.1183 - val_acc: 0.9744\n",
      "Epoch 178/200\n",
      "48000/48000 [==============================] - 2s - loss: 0.0550 - acc: 0.9836 - val_loss: 0.1232 - val_acc: 0.9732\n",
      "Epoch 179/200\n",
      "48000/48000 [==============================] - 2s - loss: 0.0599 - acc: 0.9827 - val_loss: 0.1190 - val_acc: 0.9738\n",
      "Epoch 180/200\n",
      "48000/48000 [==============================] - 2s - loss: 0.0544 - acc: 0.9839 - val_loss: 0.1224 - val_acc: 0.9755\n",
      "Epoch 181/200\n",
      "48000/48000 [==============================] - 2s - loss: 0.0544 - acc: 0.9850 - val_loss: 0.1287 - val_acc: 0.9723\n",
      "Epoch 182/200\n",
      "48000/48000 [==============================] - 2s - loss: 0.0580 - acc: 0.9844 - val_loss: 0.1116 - val_acc: 0.9759\n",
      "Epoch 183/200\n",
      "48000/48000 [==============================] - 2s - loss: 0.0563 - acc: 0.9843 - val_loss: 0.1188 - val_acc: 0.9748\n",
      "Epoch 184/200\n",
      "48000/48000 [==============================] - 2s - loss: 0.0530 - acc: 0.9854 - val_loss: 0.1210 - val_acc: 0.9746\n",
      "Epoch 185/200\n",
      "48000/48000 [==============================] - 2s - loss: 0.0565 - acc: 0.9841 - val_loss: 0.1161 - val_acc: 0.9744\n",
      "Epoch 186/200\n",
      "48000/48000 [==============================] - 2s - loss: 0.0511 - acc: 0.9853 - val_loss: 0.1138 - val_acc: 0.9762\n",
      "Epoch 187/200\n",
      "48000/48000 [==============================] - 2s - loss: 0.0555 - acc: 0.9848 - val_loss: 0.1169 - val_acc: 0.9757\n",
      "Epoch 188/200\n",
      "48000/48000 [==============================] - 2s - loss: 0.0553 - acc: 0.9844 - val_loss: 0.1149 - val_acc: 0.9751\n",
      "Epoch 189/200\n",
      "48000/48000 [==============================] - 2s - loss: 0.0549 - acc: 0.9842 - val_loss: 0.1088 - val_acc: 0.9755\n",
      "Epoch 190/200\n",
      "48000/48000 [==============================] - 2s - loss: 0.0552 - acc: 0.9844 - val_loss: 0.1110 - val_acc: 0.9760\n",
      "Epoch 191/200\n",
      "48000/48000 [==============================] - 2s - loss: 0.0516 - acc: 0.9858 - val_loss: 0.1171 - val_acc: 0.9745\n",
      "Epoch 192/200\n",
      "48000/48000 [==============================] - 2s - loss: 0.0557 - acc: 0.9850 - val_loss: 0.1121 - val_acc: 0.9758\n",
      "Epoch 193/200\n",
      "48000/48000 [==============================] - 2s - loss: 0.0533 - acc: 0.9854 - val_loss: 0.1122 - val_acc: 0.9762\n",
      "Epoch 194/200\n",
      "48000/48000 [==============================] - 2s - loss: 0.0519 - acc: 0.9862 - val_loss: 0.1236 - val_acc: 0.9744\n",
      "Epoch 195/200\n",
      "48000/48000 [==============================] - 3s - loss: 0.0558 - acc: 0.9843 - val_loss: 0.1220 - val_acc: 0.9742\n",
      "Epoch 196/200\n",
      "48000/48000 [==============================] - 3s - loss: 0.0505 - acc: 0.9861 - val_loss: 0.1163 - val_acc: 0.9756\n",
      "Epoch 197/200\n",
      "48000/48000 [==============================] - 2s - loss: 0.0530 - acc: 0.9855 - val_loss: 0.1197 - val_acc: 0.9743\n",
      "Epoch 198/200\n",
      "48000/48000 [==============================] - 2s - loss: 0.0539 - acc: 0.9852 - val_loss: 0.1215 - val_acc: 0.9739\n",
      "Epoch 199/200\n",
      "48000/48000 [==============================] - 2s - loss: 0.0545 - acc: 0.9849 - val_loss: 0.1173 - val_acc: 0.9749\n",
      "Epoch 200/200\n",
      "48000/48000 [==============================] - 2s - loss: 0.0545 - acc: 0.9847 - val_loss: 0.1181 - val_acc: 0.9745\n"
     ]
    }
   ],
   "source": [
    "time_start = time.clock()\n",
    "history = model.fit(X_train, y_train,\n",
    "                    batch_size=128,\n",
    "                    epochs=200,\n",
    "                    verbose=1,\n",
    "                    validation_split=0.2)\n",
    "time_end = time.clock()"
   ]
  },
  {
   "cell_type": "code",
   "execution_count": 10,
   "metadata": {
    "collapsed": true
   },
   "outputs": [],
   "source": [
    "time_end = time.clock()"
   ]
  },
  {
   "cell_type": "code",
   "execution_count": 11,
   "metadata": {
    "collapsed": false
   },
   "outputs": [
    {
     "name": "stdout",
     "output_type": "stream",
     "text": [
      "Time to train\n",
      "Time elapsed in seconds : 494\n",
      "Time elapsed in minutes : 8.2\n",
      "Time elapsed in hours   : 0.1\n"
     ]
    }
   ],
   "source": [
    "duration = time_end - time_start\n",
    "print(\"Time to train\")\n",
    "print(\"Time elapsed in seconds : %.0f\" % duration)\n",
    "print(\"Time elapsed in minutes : %.1f\" % (duration/60))\n",
    "print(\"Time elapsed in hours   : %.1f\" % (duration/3600))"
   ]
  },
  {
   "cell_type": "code",
   "execution_count": 12,
   "metadata": {
    "collapsed": false
   },
   "outputs": [
    {
     "name": "stdout",
     "output_type": "stream",
     "text": [
      " 9920/10000 [============================>.] - ETA: 0s\n",
      "Test score: 0.131261064247\n",
      "Test accuracy: 0.9737\n"
     ]
    }
   ],
   "source": [
    "score = model.evaluate(X_test, y_test,\n",
    "                       verbose=1)\n",
    "print(\"\")\n",
    "print(\"Test score:\", score[0])\n",
    "print(\"Test accuracy:\", score[1])"
   ]
  },
  {
   "cell_type": "code",
   "execution_count": 13,
   "metadata": {
    "collapsed": false
   },
   "outputs": [
    {
     "name": "stdout",
     "output_type": "stream",
     "text": [
      "dict_keys(['val_acc', 'loss', 'acc', 'val_loss'])\n"
     ]
    }
   ],
   "source": [
    "# list all data in history\n",
    "print(history.history.keys())"
   ]
  },
  {
   "cell_type": "code",
   "execution_count": 14,
   "metadata": {
    "collapsed": false
   },
   "outputs": [
    {
     "data": {
      "image/png": "[encoded data removed]",
      "text/plain": [
       "<matplotlib.figure.Figure at 0x1754b8624e0>"
      ]
     },
     "metadata": {},
     "output_type": "display_data"
    }
   ],
   "source": [
    "# Accuracy\n",
    "plt.plot(history.history[\"acc\"])\n",
    "plt.plot(history.history[\"val_acc\"])\n",
    "plt.title(\"model accuracy\")\n",
    "plt.ylabel(\"accuracy\")\n",
    "plt.xlabel(\"epoch\")\n",
    "plt.legend([\"train\", \"test\"], loc=\"lower left\")\n",
    "plt.show()"
   ]
  },
  {
   "cell_type": "code",
   "execution_count": 15,
   "metadata": {
    "collapsed": false
   },
   "outputs": [
    {
     "data": {
      "image/png": "[encoded data removed]",
      "text/plain": [
       "<matplotlib.figure.Figure at 0x1754b8d2320>"
      ]
     },
     "metadata": {},
     "output_type": "display_data"
    }
   ],
   "source": [
    "# Loss\n",
    "plt.plot(history.history[\"loss\"])\n",
    "plt.plot(history.history[\"val_loss\"])\n",
    "plt.title(\"model loss\")\n",
    "plt.ylabel(\"loss\")\n",
    "plt.xlabel(\"epoch\")\n",
    "plt.legend([\"train\", \"test\"], loc=\"upper left\")\n",
    "plt.show()"
   ]
  }
 ],
 "metadata": {
  "anaconda-cloud": {},
  "kernelspec": {
   "display_name": "Python [default]",
   "language": "python",
   "name": "python3"
  },
  "language_info": {
   "codemirror_mode": {
    "name": "ipython",
    "version": 3
   },
   "file_extension": ".py",
   "mimetype": "text/x-python",
   "name": "python",
   "nbconvert_exporter": "python",
   "pygments_lexer": "ipython3",
   "version": "3.5.2"
  }
 },
 "nbformat": 4,
 "nbformat_minor": 1
}
