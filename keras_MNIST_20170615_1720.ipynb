{
 "cells": [
  {
   "cell_type": "code",
   "execution_count": 1,
   "metadata": {
    "collapsed": false
   },
   "outputs": [
    {
     "name": "stderr",
     "output_type": "stream",
     "text": [
      "Using TensorFlow backend.\n"
     ]
    }
   ],
   "source": [
    "import numpy as np\n",
    "import matplotlib.pyplot as plt\n",
    "import time\n",
    "from keras.datasets import mnist\n",
    "from keras.models import Sequential\n",
    "from keras.layers.core import Dense, Dropout, Activation\n",
    "from keras.optimizers import SGD, Adam, RMSprop\n",
    "from keras.utils import np_utils\n",
    "from tensorflow import set_random_seed"
   ]
  },
  {
   "cell_type": "code",
   "execution_count": 2,
   "metadata": {
    "collapsed": false
   },
   "outputs": [],
   "source": [
    "np.random.seed(2015)\n",
    "set_random_seed(2015)"
   ]
  },
  {
   "cell_type": "code",
   "execution_count": 3,
   "metadata": {
    "collapsed": false
   },
   "outputs": [],
   "source": [
    "# Load data\n",
    "(X_train, y_train), (X_test, y_test) = mnist.load_data()"
   ]
  },
  {
   "cell_type": "code",
   "execution_count": 4,
   "metadata": {
    "collapsed": false
   },
   "outputs": [
    {
     "name": "stdout",
     "output_type": "stream",
     "text": [
      "60000 training samples\n",
      "10000 testing samples\n"
     ]
    }
   ],
   "source": [
    "# Preprocessing\n",
    "X_train = X_train.reshape(60000, 784)\n",
    "X_test  = X_test.reshape(10000, 784)\n",
    "X_train = X_train.astype(\"float32\")\n",
    "X_test  = X_test.astype(\"float32\")\n",
    "X_train /= 255\n",
    "X_test  /= 255\n",
    "print(X_train.shape[0], \"training samples\")\n",
    "print(X_test.shape[0], \"testing samples\")"
   ]
  },
  {
   "cell_type": "code",
   "execution_count": 5,
   "metadata": {
    "collapsed": true
   },
   "outputs": [],
   "source": [
    "# Convert labels to one-hot coding\n",
    "# e.g. 1 -> array([ 0.,  1.,  0.,  0.,  0.,  0.,  0.,  0.,  0.,  0.])\n",
    "y_train = np_utils.to_categorical(y_train, 10)\n",
    "y_test = np_utils.to_categorical(y_test, 10)"
   ]
  },
  {
   "cell_type": "markdown",
   "metadata": {},
   "source": [
    "The argument *input_dim* is equivalent to *input_shape* ([reference](https://keras.io/getting-started/sequential-model-guide/))."
   ]
  },
  {
   "cell_type": "code",
   "execution_count": 6,
   "metadata": {
    "collapsed": false
   },
   "outputs": [],
   "source": [
    "# Define the model\n",
    "model = Sequential([\n",
    "        Dense(128, input_dim=784), Activation(\"relu\"), Dropout(0.3),\n",
    "        Dense(128), Activation(\"relu\"), Dropout(0.3),\n",
    "        Dense(10), Activation(\"softmax\")\n",
    "    ])"
   ]
  },
  {
   "cell_type": "code",
   "execution_count": 7,
   "metadata": {
    "collapsed": false
   },
   "outputs": [
    {
     "name": "stdout",
     "output_type": "stream",
     "text": [
      "_________________________________________________________________\n",
      "Layer (type)                 Output Shape              Param #   \n",
      "=================================================================\n",
      "dense_1 (Dense)              (None, 128)               100480    \n",
      "_________________________________________________________________\n",
      "activation_1 (Activation)    (None, 128)               0         \n",
      "_________________________________________________________________\n",
      "dropout_1 (Dropout)          (None, 128)               0         \n",
      "_________________________________________________________________\n",
      "dense_2 (Dense)              (None, 128)               16512     \n",
      "_________________________________________________________________\n",
      "activation_2 (Activation)    (None, 128)               0         \n",
      "_________________________________________________________________\n",
      "dropout_2 (Dropout)          (None, 128)               0         \n",
      "_________________________________________________________________\n",
      "dense_3 (Dense)              (None, 10)                1290      \n",
      "_________________________________________________________________\n",
      "activation_3 (Activation)    (None, 10)                0         \n",
      "=================================================================\n",
      "Total params: 118,282\n",
      "Trainable params: 118,282\n",
      "Non-trainable params: 0\n",
      "_________________________________________________________________\n"
     ]
    }
   ],
   "source": [
    "model.summary()"
   ]
  },
  {
   "cell_type": "code",
   "execution_count": 8,
   "metadata": {
    "collapsed": true
   },
   "outputs": [],
   "source": [
    "model.compile(loss=\"categorical_crossentropy\",\n",
    "              optimizer=SGD(momentum=0.8),\n",
    "              metrics=[\"accuracy\"])"
   ]
  },
  {
   "cell_type": "code",
   "execution_count": 9,
   "metadata": {
    "collapsed": false
   },
   "outputs": [
    {
     "name": "stdout",
     "output_type": "stream",
     "text": [
      "Train on 48000 samples, validate on 12000 samples\n",
      "Epoch 1/200\n",
      "48000/48000 [==============================] - 2s - loss: 0.9482 - acc: 0.6976 - val_loss: 0.3476 - val_acc: 0.9047\n",
      "Epoch 2/200\n",
      "48000/48000 [==============================] - 2s - loss: 0.4460 - acc: 0.8683 - val_loss: 0.2621 - val_acc: 0.9234\n",
      "Epoch 3/200\n",
      "48000/48000 [==============================] - 2s - loss: 0.3613 - acc: 0.8920 - val_loss: 0.2259 - val_acc: 0.9338\n",
      "Epoch 4/200\n",
      "48000/48000 [==============================] - 2s - loss: 0.3147 - acc: 0.9077 - val_loss: 0.1993 - val_acc: 0.9419\n",
      "Epoch 5/200\n",
      "48000/48000 [==============================] - 2s - loss: 0.2744 - acc: 0.9195 - val_loss: 0.1801 - val_acc: 0.9472\n",
      "Epoch 6/200\n",
      "48000/48000 [==============================] - 2s - loss: 0.2532 - acc: 0.9250 - val_loss: 0.1657 - val_acc: 0.9519\n",
      "Epoch 7/200\n",
      "48000/48000 [==============================] - 2s - loss: 0.2352 - acc: 0.9304 - val_loss: 0.1568 - val_acc: 0.9543\n",
      "Epoch 8/200\n",
      "48000/48000 [==============================] - 2s - loss: 0.2181 - acc: 0.9361 - val_loss: 0.1433 - val_acc: 0.9583\n",
      "Epoch 9/200\n",
      "48000/48000 [==============================] - 2s - loss: 0.2050 - acc: 0.9397 - val_loss: 0.1376 - val_acc: 0.9606\n",
      "Epoch 10/200\n",
      "48000/48000 [==============================] - 2s - loss: 0.1918 - acc: 0.9432 - val_loss: 0.1297 - val_acc: 0.9625\n",
      "Epoch 11/200\n",
      "48000/48000 [==============================] - 2s - loss: 0.1849 - acc: 0.9456 - val_loss: 0.1259 - val_acc: 0.9628\n",
      "Epoch 12/200\n",
      "48000/48000 [==============================] - 2s - loss: 0.1751 - acc: 0.9481 - val_loss: 0.1177 - val_acc: 0.9657\n",
      "Epoch 13/200\n",
      "48000/48000 [==============================] - 2s - loss: 0.1655 - acc: 0.9510 - val_loss: 0.1141 - val_acc: 0.9664\n",
      "Epoch 14/200\n",
      "48000/48000 [==============================] - 2s - loss: 0.1592 - acc: 0.9525 - val_loss: 0.1126 - val_acc: 0.9672\n",
      "Epoch 15/200\n",
      "48000/48000 [==============================] - 2s - loss: 0.1524 - acc: 0.9552 - val_loss: 0.1069 - val_acc: 0.9688\n",
      "Epoch 16/200\n",
      "48000/48000 [==============================] - 2s - loss: 0.1488 - acc: 0.9549 - val_loss: 0.1058 - val_acc: 0.9683\n",
      "Epoch 17/200\n",
      "48000/48000 [==============================] - 2s - loss: 0.1416 - acc: 0.9571 - val_loss: 0.1021 - val_acc: 0.9699\n",
      "Epoch 18/200\n",
      "48000/48000 [==============================] - 2s - loss: 0.1366 - acc: 0.9595 - val_loss: 0.0995 - val_acc: 0.9703\n",
      "Epoch 19/200\n",
      "48000/48000 [==============================] - 2s - loss: 0.1354 - acc: 0.9595 - val_loss: 0.0974 - val_acc: 0.9715\n",
      "Epoch 20/200\n",
      "48000/48000 [==============================] - 2s - loss: 0.1280 - acc: 0.9611 - val_loss: 0.0978 - val_acc: 0.9713\n",
      "Epoch 21/200\n",
      "48000/48000 [==============================] - 2s - loss: 0.1240 - acc: 0.9622 - val_loss: 0.0950 - val_acc: 0.9724\n",
      "Epoch 22/200\n",
      "48000/48000 [==============================] - 2s - loss: 0.1211 - acc: 0.9625 - val_loss: 0.0943 - val_acc: 0.9725\n",
      "Epoch 23/200\n",
      "48000/48000 [==============================] - 2s - loss: 0.1174 - acc: 0.9646 - val_loss: 0.0917 - val_acc: 0.9728\n",
      "Epoch 24/200\n",
      "48000/48000 [==============================] - 2s - loss: 0.1165 - acc: 0.9650 - val_loss: 0.0899 - val_acc: 0.9744\n",
      "Epoch 25/200\n",
      "48000/48000 [==============================] - 2s - loss: 0.1119 - acc: 0.9664 - val_loss: 0.0895 - val_acc: 0.9729\n",
      "Epoch 26/200\n",
      "48000/48000 [==============================] - 2s - loss: 0.1131 - acc: 0.9652 - val_loss: 0.0890 - val_acc: 0.9738\n",
      "Epoch 27/200\n",
      "48000/48000 [==============================] - 2s - loss: 0.1082 - acc: 0.9678 - val_loss: 0.0877 - val_acc: 0.9745\n",
      "Epoch 28/200\n",
      "48000/48000 [==============================] - 2s - loss: 0.1062 - acc: 0.9668 - val_loss: 0.0874 - val_acc: 0.9741\n",
      "Epoch 29/200\n",
      "48000/48000 [==============================] - 2s - loss: 0.1036 - acc: 0.9682 - val_loss: 0.0871 - val_acc: 0.9752\n",
      "Epoch 30/200\n",
      "48000/48000 [==============================] - 2s - loss: 0.1011 - acc: 0.9692 - val_loss: 0.0862 - val_acc: 0.9748\n",
      "Epoch 31/200\n",
      "48000/48000 [==============================] - 2s - loss: 0.0958 - acc: 0.9703 - val_loss: 0.0852 - val_acc: 0.9754\n",
      "Epoch 32/200\n",
      "48000/48000 [==============================] - 2s - loss: 0.0935 - acc: 0.9709 - val_loss: 0.0836 - val_acc: 0.9758\n",
      "Epoch 33/200\n",
      "48000/48000 [==============================] - 2s - loss: 0.0944 - acc: 0.9703 - val_loss: 0.0820 - val_acc: 0.9758\n",
      "Epoch 34/200\n",
      "48000/48000 [==============================] - 2s - loss: 0.0913 - acc: 0.9714 - val_loss: 0.0824 - val_acc: 0.9763\n",
      "Epoch 35/200\n",
      "48000/48000 [==============================] - 2s - loss: 0.0906 - acc: 0.9728 - val_loss: 0.0825 - val_acc: 0.9757\n",
      "Epoch 36/200\n",
      "48000/48000 [==============================] - 2s - loss: 0.0908 - acc: 0.9722 - val_loss: 0.0811 - val_acc: 0.9759\n",
      "Epoch 37/200\n",
      "48000/48000 [==============================] - 2s - loss: 0.0882 - acc: 0.9732 - val_loss: 0.0827 - val_acc: 0.9753\n",
      "Epoch 38/200\n",
      "48000/48000 [==============================] - 2s - loss: 0.0873 - acc: 0.9731 - val_loss: 0.0815 - val_acc: 0.9773\n",
      "Epoch 39/200\n",
      "48000/48000 [==============================] - 2s - loss: 0.0847 - acc: 0.9738 - val_loss: 0.0814 - val_acc: 0.9768\n",
      "Epoch 40/200\n",
      "48000/48000 [==============================] - 2s - loss: 0.0831 - acc: 0.9741 - val_loss: 0.0799 - val_acc: 0.9772\n",
      "Epoch 41/200\n",
      "48000/48000 [==============================] - 2s - loss: 0.0806 - acc: 0.9746 - val_loss: 0.0813 - val_acc: 0.9782\n",
      "Epoch 42/200\n",
      "48000/48000 [==============================] - 2s - loss: 0.0782 - acc: 0.9759 - val_loss: 0.0792 - val_acc: 0.9776\n",
      "Epoch 43/200\n",
      "48000/48000 [==============================] - 2s - loss: 0.0793 - acc: 0.9749 - val_loss: 0.0787 - val_acc: 0.9779\n",
      "Epoch 44/200\n",
      "48000/48000 [==============================] - 2s - loss: 0.0782 - acc: 0.9751 - val_loss: 0.0784 - val_acc: 0.9781\n",
      "Epoch 45/200\n",
      "48000/48000 [==============================] - 2s - loss: 0.0744 - acc: 0.9766 - val_loss: 0.0785 - val_acc: 0.9778\n",
      "Epoch 46/200\n",
      "48000/48000 [==============================] - 2s - loss: 0.0749 - acc: 0.9760 - val_loss: 0.0776 - val_acc: 0.9781\n",
      "Epoch 47/200\n",
      "48000/48000 [==============================] - 2s - loss: 0.0729 - acc: 0.9776 - val_loss: 0.0790 - val_acc: 0.9778\n",
      "Epoch 48/200\n",
      "48000/48000 [==============================] - 2s - loss: 0.0738 - acc: 0.9769 - val_loss: 0.0788 - val_acc: 0.9779\n",
      "Epoch 49/200\n",
      "48000/48000 [==============================] - 2s - loss: 0.0731 - acc: 0.9771 - val_loss: 0.0788 - val_acc: 0.9775\n",
      "Epoch 50/200\n",
      "48000/48000 [==============================] - 2s - loss: 0.0697 - acc: 0.9778 - val_loss: 0.0774 - val_acc: 0.9788\n",
      "Epoch 51/200\n",
      "48000/48000 [==============================] - 2s - loss: 0.0688 - acc: 0.9791 - val_loss: 0.0782 - val_acc: 0.9785\n",
      "Epoch 52/200\n",
      "48000/48000 [==============================] - 2s - loss: 0.0681 - acc: 0.9782 - val_loss: 0.0782 - val_acc: 0.9778\n",
      "Epoch 53/200\n",
      "48000/48000 [==============================] - 2s - loss: 0.0670 - acc: 0.9784 - val_loss: 0.0788 - val_acc: 0.9783\n",
      "Epoch 54/200\n",
      "48000/48000 [==============================] - 2s - loss: 0.0644 - acc: 0.9801 - val_loss: 0.0780 - val_acc: 0.9778\n",
      "Epoch 55/200\n",
      "48000/48000 [==============================] - 2s - loss: 0.0672 - acc: 0.9791 - val_loss: 0.0777 - val_acc: 0.9784\n",
      "Epoch 56/200\n",
      "48000/48000 [==============================] - 2s - loss: 0.0673 - acc: 0.9793 - val_loss: 0.0769 - val_acc: 0.9790\n",
      "Epoch 57/200\n",
      "48000/48000 [==============================] - 2s - loss: 0.0643 - acc: 0.9802 - val_loss: 0.0776 - val_acc: 0.9790\n",
      "Epoch 58/200\n",
      "48000/48000 [==============================] - 2s - loss: 0.0647 - acc: 0.9790 - val_loss: 0.0778 - val_acc: 0.9787\n",
      "Epoch 59/200\n",
      "48000/48000 [==============================] - 2s - loss: 0.0618 - acc: 0.9797 - val_loss: 0.0786 - val_acc: 0.9787\n",
      "Epoch 60/200\n",
      "48000/48000 [==============================] - 2s - loss: 0.0621 - acc: 0.9798 - val_loss: 0.0770 - val_acc: 0.9785\n",
      "Epoch 61/200\n",
      "48000/48000 [==============================] - 2s - loss: 0.0618 - acc: 0.9803 - val_loss: 0.0778 - val_acc: 0.9779\n",
      "Epoch 62/200\n",
      "48000/48000 [==============================] - 2s - loss: 0.0593 - acc: 0.9817 - val_loss: 0.0772 - val_acc: 0.9784\n",
      "Epoch 63/200\n",
      "48000/48000 [==============================] - 2s - loss: 0.0601 - acc: 0.9806 - val_loss: 0.0771 - val_acc: 0.9786\n",
      "Epoch 64/200\n",
      "48000/48000 [==============================] - 2s - loss: 0.0579 - acc: 0.9817 - val_loss: 0.0774 - val_acc: 0.9787\n",
      "Epoch 65/200\n",
      "48000/48000 [==============================] - 2s - loss: 0.0573 - acc: 0.9811 - val_loss: 0.0761 - val_acc: 0.9788\n",
      "Epoch 66/200\n",
      "48000/48000 [==============================] - 2s - loss: 0.0575 - acc: 0.9814 - val_loss: 0.0751 - val_acc: 0.9791\n",
      "Epoch 67/200\n",
      "48000/48000 [==============================] - 2s - loss: 0.0572 - acc: 0.9820 - val_loss: 0.0768 - val_acc: 0.9784\n",
      "Epoch 68/200\n",
      "48000/48000 [==============================] - 2s - loss: 0.0539 - acc: 0.9829 - val_loss: 0.0766 - val_acc: 0.9786\n",
      "Epoch 69/200\n",
      "48000/48000 [==============================] - 2s - loss: 0.0553 - acc: 0.9815 - val_loss: 0.0765 - val_acc: 0.9795\n",
      "Epoch 70/200\n",
      "48000/48000 [==============================] - 2s - loss: 0.0550 - acc: 0.9822 - val_loss: 0.0766 - val_acc: 0.9788\n",
      "Epoch 71/200\n",
      "48000/48000 [==============================] - 2s - loss: 0.0541 - acc: 0.9822 - val_loss: 0.0787 - val_acc: 0.9798\n",
      "Epoch 72/200\n",
      "48000/48000 [==============================] - 2s - loss: 0.0541 - acc: 0.9827 - val_loss: 0.0765 - val_acc: 0.9798\n",
      "Epoch 73/200\n",
      "48000/48000 [==============================] - 2s - loss: 0.0538 - acc: 0.9831 - val_loss: 0.0769 - val_acc: 0.9800\n",
      "Epoch 74/200\n",
      "48000/48000 [==============================] - 2s - loss: 0.0529 - acc: 0.9828 - val_loss: 0.0770 - val_acc: 0.9788\n",
      "Epoch 75/200\n",
      "48000/48000 [==============================] - 2s - loss: 0.0520 - acc: 0.9833 - val_loss: 0.0771 - val_acc: 0.9797\n",
      "Epoch 76/200\n",
      "48000/48000 [==============================] - 2s - loss: 0.0534 - acc: 0.9836 - val_loss: 0.0768 - val_acc: 0.9786\n",
      "Epoch 77/200\n",
      "48000/48000 [==============================] - 2s - loss: 0.0484 - acc: 0.9840 - val_loss: 0.0781 - val_acc: 0.9788\n",
      "Epoch 78/200\n",
      "48000/48000 [==============================] - 2s - loss: 0.0478 - acc: 0.9845 - val_loss: 0.0760 - val_acc: 0.9791\n",
      "Epoch 79/200\n",
      "48000/48000 [==============================] - 2s - loss: 0.0496 - acc: 0.9840 - val_loss: 0.0766 - val_acc: 0.9798\n",
      "Epoch 80/200\n",
      "48000/48000 [==============================] - 2s - loss: 0.0508 - acc: 0.9838 - val_loss: 0.0760 - val_acc: 0.9788\n",
      "Epoch 81/200\n",
      "48000/48000 [==============================] - 2s - loss: 0.0485 - acc: 0.9842 - val_loss: 0.0774 - val_acc: 0.9791\n",
      "Epoch 82/200\n",
      "48000/48000 [==============================] - 2s - loss: 0.0494 - acc: 0.9834 - val_loss: 0.0768 - val_acc: 0.9795\n",
      "Epoch 83/200\n",
      "48000/48000 [==============================] - 2s - loss: 0.0473 - acc: 0.9845 - val_loss: 0.0776 - val_acc: 0.9788\n",
      "Epoch 84/200\n",
      "48000/48000 [==============================] - 2s - loss: 0.0461 - acc: 0.9848 - val_loss: 0.0782 - val_acc: 0.9803\n",
      "Epoch 85/200\n",
      "48000/48000 [==============================] - 2s - loss: 0.0470 - acc: 0.9847 - val_loss: 0.0774 - val_acc: 0.9794\n",
      "Epoch 86/200\n",
      "48000/48000 [==============================] - 3s - loss: 0.0452 - acc: 0.9855 - val_loss: 0.0792 - val_acc: 0.9783\n",
      "Epoch 87/200\n",
      "48000/48000 [==============================] - 2s - loss: 0.0469 - acc: 0.9846 - val_loss: 0.0773 - val_acc: 0.9795\n",
      "Epoch 88/200\n",
      "48000/48000 [==============================] - 2s - loss: 0.0470 - acc: 0.9847 - val_loss: 0.0785 - val_acc: 0.9793\n",
      "Epoch 89/200\n",
      "48000/48000 [==============================] - 2s - loss: 0.0436 - acc: 0.9858 - val_loss: 0.0794 - val_acc: 0.9793\n",
      "Epoch 90/200\n",
      "48000/48000 [==============================] - 2s - loss: 0.0430 - acc: 0.9859 - val_loss: 0.0779 - val_acc: 0.9802\n",
      "Epoch 91/200\n",
      "48000/48000 [==============================] - 2s - loss: 0.0460 - acc: 0.9849 - val_loss: 0.0777 - val_acc: 0.9800\n",
      "Epoch 92/200\n",
      "48000/48000 [==============================] - 2s - loss: 0.0455 - acc: 0.9851 - val_loss: 0.0778 - val_acc: 0.9787\n",
      "Epoch 93/200\n",
      "48000/48000 [==============================] - 2s - loss: 0.0432 - acc: 0.9857 - val_loss: 0.0776 - val_acc: 0.9793\n",
      "Epoch 94/200\n",
      "48000/48000 [==============================] - 2s - loss: 0.0431 - acc: 0.9858 - val_loss: 0.0771 - val_acc: 0.9796\n",
      "Epoch 95/200\n",
      "48000/48000 [==============================] - 2s - loss: 0.0424 - acc: 0.9864 - val_loss: 0.0772 - val_acc: 0.9793\n",
      "Epoch 96/200\n",
      "48000/48000 [==============================] - 2s - loss: 0.0426 - acc: 0.9861 - val_loss: 0.0780 - val_acc: 0.9801\n",
      "Epoch 97/200\n",
      "48000/48000 [==============================] - 2s - loss: 0.0422 - acc: 0.9861 - val_loss: 0.0773 - val_acc: 0.9801\n",
      "Epoch 98/200\n",
      "48000/48000 [==============================] - 2s - loss: 0.0435 - acc: 0.9856 - val_loss: 0.0779 - val_acc: 0.9795\n",
      "Epoch 99/200\n",
      "48000/48000 [==============================] - 2s - loss: 0.0402 - acc: 0.9866 - val_loss: 0.0780 - val_acc: 0.9796\n",
      "Epoch 100/200\n",
      "48000/48000 [==============================] - 2s - loss: 0.0431 - acc: 0.9865 - val_loss: 0.0784 - val_acc: 0.9797\n",
      "Epoch 101/200\n",
      "48000/48000 [==============================] - 2s - loss: 0.0410 - acc: 0.9866 - val_loss: 0.0799 - val_acc: 0.9785\n",
      "Epoch 102/200\n",
      "48000/48000 [==============================] - 2s - loss: 0.0402 - acc: 0.9867 - val_loss: 0.0778 - val_acc: 0.9807\n",
      "Epoch 103/200\n",
      "48000/48000 [==============================] - 2s - loss: 0.0417 - acc: 0.9867 - val_loss: 0.0787 - val_acc: 0.9795\n",
      "Epoch 104/200\n",
      "48000/48000 [==============================] - 2s - loss: 0.0407 - acc: 0.9865 - val_loss: 0.0802 - val_acc: 0.9789\n",
      "Epoch 105/200\n",
      "48000/48000 [==============================] - 2s - loss: 0.0399 - acc: 0.9866 - val_loss: 0.0787 - val_acc: 0.9802\n",
      "Epoch 106/200\n",
      "48000/48000 [==============================] - 2s - loss: 0.0389 - acc: 0.9876 - val_loss: 0.0799 - val_acc: 0.9791\n",
      "Epoch 107/200\n",
      "48000/48000 [==============================] - 2s - loss: 0.0402 - acc: 0.9868 - val_loss: 0.0790 - val_acc: 0.9790\n",
      "Epoch 108/200\n",
      "48000/48000 [==============================] - 2s - loss: 0.0402 - acc: 0.9865 - val_loss: 0.0786 - val_acc: 0.9796\n",
      "Epoch 109/200\n",
      "48000/48000 [==============================] - 2s - loss: 0.0375 - acc: 0.9877 - val_loss: 0.0808 - val_acc: 0.9783\n",
      "Epoch 110/200\n",
      "48000/48000 [==============================] - 2s - loss: 0.0375 - acc: 0.9883 - val_loss: 0.0794 - val_acc: 0.9792\n",
      "Epoch 111/200\n",
      "48000/48000 [==============================] - 2s - loss: 0.0379 - acc: 0.9876 - val_loss: 0.0773 - val_acc: 0.9797\n",
      "Epoch 112/200\n",
      "48000/48000 [==============================] - 2s - loss: 0.0372 - acc: 0.9884 - val_loss: 0.0797 - val_acc: 0.9782\n",
      "Epoch 113/200\n",
      "48000/48000 [==============================] - 2s - loss: 0.0376 - acc: 0.9875 - val_loss: 0.0807 - val_acc: 0.9788\n",
      "Epoch 114/200\n",
      "48000/48000 [==============================] - 2s - loss: 0.0367 - acc: 0.9885 - val_loss: 0.0776 - val_acc: 0.9795\n",
      "Epoch 115/200\n",
      "48000/48000 [==============================] - 2s - loss: 0.0359 - acc: 0.9883 - val_loss: 0.0792 - val_acc: 0.9796\n",
      "Epoch 116/200\n",
      "48000/48000 [==============================] - 2s - loss: 0.0339 - acc: 0.9885 - val_loss: 0.0799 - val_acc: 0.9792\n",
      "Epoch 117/200\n",
      "48000/48000 [==============================] - 2s - loss: 0.0360 - acc: 0.9882 - val_loss: 0.0799 - val_acc: 0.9803\n",
      "Epoch 118/200\n",
      "48000/48000 [==============================] - 2s - loss: 0.0357 - acc: 0.9883 - val_loss: 0.0796 - val_acc: 0.9796\n",
      "Epoch 119/200\n",
      "48000/48000 [==============================] - 2s - loss: 0.0361 - acc: 0.9882 - val_loss: 0.0792 - val_acc: 0.9797\n",
      "Epoch 120/200\n",
      "48000/48000 [==============================] - 2s - loss: 0.0351 - acc: 0.9881 - val_loss: 0.0802 - val_acc: 0.9803\n",
      "Epoch 121/200\n",
      "48000/48000 [==============================] - 2s - loss: 0.0328 - acc: 0.9895 - val_loss: 0.0787 - val_acc: 0.9798\n",
      "Epoch 122/200\n",
      "48000/48000 [==============================] - 2s - loss: 0.0333 - acc: 0.9883 - val_loss: 0.0790 - val_acc: 0.9795\n",
      "Epoch 123/200\n",
      "48000/48000 [==============================] - 2s - loss: 0.0330 - acc: 0.9888 - val_loss: 0.0802 - val_acc: 0.9798\n",
      "Epoch 124/200\n",
      "48000/48000 [==============================] - 2s - loss: 0.0353 - acc: 0.9884 - val_loss: 0.0803 - val_acc: 0.9796\n",
      "Epoch 125/200\n",
      "48000/48000 [==============================] - 2s - loss: 0.0337 - acc: 0.9891 - val_loss: 0.0806 - val_acc: 0.9802\n",
      "Epoch 126/200\n",
      "48000/48000 [==============================] - 2s - loss: 0.0339 - acc: 0.9887 - val_loss: 0.0806 - val_acc: 0.9792\n",
      "Epoch 127/200\n",
      "48000/48000 [==============================] - 2s - loss: 0.0342 - acc: 0.9885 - val_loss: 0.0803 - val_acc: 0.9800\n",
      "Epoch 128/200\n",
      "48000/48000 [==============================] - 2s - loss: 0.0358 - acc: 0.9881 - val_loss: 0.0814 - val_acc: 0.9798\n",
      "Epoch 129/200\n",
      "48000/48000 [==============================] - 2s - loss: 0.0349 - acc: 0.9886 - val_loss: 0.0795 - val_acc: 0.9798\n",
      "Epoch 130/200\n",
      "48000/48000 [==============================] - 2s - loss: 0.0354 - acc: 0.9880 - val_loss: 0.0794 - val_acc: 0.9799\n",
      "Epoch 131/200\n",
      "48000/48000 [==============================] - 2s - loss: 0.0339 - acc: 0.9889 - val_loss: 0.0800 - val_acc: 0.9798\n",
      "Epoch 132/200\n",
      "48000/48000 [==============================] - 2s - loss: 0.0334 - acc: 0.9892 - val_loss: 0.0800 - val_acc: 0.9799\n",
      "Epoch 133/200\n",
      "48000/48000 [==============================] - 2s - loss: 0.0342 - acc: 0.9886 - val_loss: 0.0774 - val_acc: 0.9810\n",
      "Epoch 134/200\n",
      "48000/48000 [==============================] - 2s - loss: 0.0336 - acc: 0.9888 - val_loss: 0.0796 - val_acc: 0.9802\n",
      "Epoch 135/200\n",
      "48000/48000 [==============================] - 2s - loss: 0.0317 - acc: 0.9895 - val_loss: 0.0809 - val_acc: 0.9797\n",
      "Epoch 136/200\n",
      "48000/48000 [==============================] - 2s - loss: 0.0325 - acc: 0.9895 - val_loss: 0.0791 - val_acc: 0.9805\n",
      "Epoch 137/200\n",
      "48000/48000 [==============================] - 2s - loss: 0.0295 - acc: 0.9901 - val_loss: 0.0806 - val_acc: 0.9801\n",
      "Epoch 138/200\n",
      "48000/48000 [==============================] - 2s - loss: 0.0312 - acc: 0.9900 - val_loss: 0.0795 - val_acc: 0.9809\n",
      "Epoch 139/200\n",
      "48000/48000 [==============================] - 2s - loss: 0.0314 - acc: 0.9896 - val_loss: 0.0821 - val_acc: 0.9793\n",
      "Epoch 140/200\n",
      "48000/48000 [==============================] - 2s - loss: 0.0302 - acc: 0.9898 - val_loss: 0.0789 - val_acc: 0.9803\n",
      "Epoch 141/200\n",
      "48000/48000 [==============================] - 2s - loss: 0.0308 - acc: 0.9896 - val_loss: 0.0802 - val_acc: 0.9806\n",
      "Epoch 142/200\n",
      "48000/48000 [==============================] - 2s - loss: 0.0308 - acc: 0.9897 - val_loss: 0.0804 - val_acc: 0.9806\n",
      "Epoch 143/200\n",
      "48000/48000 [==============================] - 2s - loss: 0.0315 - acc: 0.9894 - val_loss: 0.0799 - val_acc: 0.9801\n",
      "Epoch 144/200\n",
      "48000/48000 [==============================] - 2s - loss: 0.0295 - acc: 0.9906 - val_loss: 0.0800 - val_acc: 0.9802\n",
      "Epoch 145/200\n",
      "48000/48000 [==============================] - 2s - loss: 0.0305 - acc: 0.9898 - val_loss: 0.0810 - val_acc: 0.9802\n",
      "Epoch 146/200\n",
      "48000/48000 [==============================] - 2s - loss: 0.0294 - acc: 0.9904 - val_loss: 0.0813 - val_acc: 0.9801\n",
      "Epoch 147/200\n",
      "48000/48000 [==============================] - 2s - loss: 0.0300 - acc: 0.9898 - val_loss: 0.0797 - val_acc: 0.9800\n",
      "Epoch 148/200\n",
      "48000/48000 [==============================] - 2s - loss: 0.0287 - acc: 0.9904 - val_loss: 0.0811 - val_acc: 0.9802\n",
      "Epoch 149/200\n",
      "48000/48000 [==============================] - 2s - loss: 0.0309 - acc: 0.9899 - val_loss: 0.0803 - val_acc: 0.9798\n",
      "Epoch 150/200\n",
      "48000/48000 [==============================] - 2s - loss: 0.0296 - acc: 0.9900 - val_loss: 0.0813 - val_acc: 0.9792\n",
      "Epoch 151/200\n",
      "48000/48000 [==============================] - 2s - loss: 0.0285 - acc: 0.9905 - val_loss: 0.0807 - val_acc: 0.9803\n",
      "Epoch 152/200\n",
      "48000/48000 [==============================] - 2s - loss: 0.0281 - acc: 0.9907 - val_loss: 0.0796 - val_acc: 0.9807\n",
      "Epoch 153/200\n",
      "48000/48000 [==============================] - 2s - loss: 0.0277 - acc: 0.9906 - val_loss: 0.0821 - val_acc: 0.9800\n",
      "Epoch 154/200\n",
      "48000/48000 [==============================] - 2s - loss: 0.0292 - acc: 0.9897 - val_loss: 0.0832 - val_acc: 0.9797\n",
      "Epoch 155/200\n",
      "48000/48000 [==============================] - 2s - loss: 0.0296 - acc: 0.9900 - val_loss: 0.0809 - val_acc: 0.9805\n",
      "Epoch 156/200\n",
      "48000/48000 [==============================] - 2s - loss: 0.0303 - acc: 0.9897 - val_loss: 0.0815 - val_acc: 0.9805\n",
      "Epoch 157/200\n",
      "48000/48000 [==============================] - 2s - loss: 0.0290 - acc: 0.9907 - val_loss: 0.0808 - val_acc: 0.9801\n",
      "Epoch 158/200\n",
      "48000/48000 [==============================] - 2s - loss: 0.0298 - acc: 0.9903 - val_loss: 0.0813 - val_acc: 0.9801\n",
      "Epoch 159/200\n",
      "48000/48000 [==============================] - 2s - loss: 0.0286 - acc: 0.9907 - val_loss: 0.0819 - val_acc: 0.9802\n",
      "Epoch 160/200\n",
      "48000/48000 [==============================] - 2s - loss: 0.0273 - acc: 0.9910 - val_loss: 0.0815 - val_acc: 0.9801\n",
      "Epoch 161/200\n",
      "48000/48000 [==============================] - 2s - loss: 0.0270 - acc: 0.9910 - val_loss: 0.0847 - val_acc: 0.9798\n",
      "Epoch 162/200\n",
      "48000/48000 [==============================] - 2s - loss: 0.0274 - acc: 0.9911 - val_loss: 0.0827 - val_acc: 0.9795\n",
      "Epoch 163/200\n",
      "48000/48000 [==============================] - 2s - loss: 0.0275 - acc: 0.9909 - val_loss: 0.0836 - val_acc: 0.9800\n",
      "Epoch 164/200\n",
      "48000/48000 [==============================] - 2s - loss: 0.0289 - acc: 0.9906 - val_loss: 0.0837 - val_acc: 0.9798\n",
      "Epoch 165/200\n",
      "48000/48000 [==============================] - 2s - loss: 0.0258 - acc: 0.9912 - val_loss: 0.0841 - val_acc: 0.9796\n",
      "Epoch 166/200\n",
      "48000/48000 [==============================] - 2s - loss: 0.0271 - acc: 0.9908 - val_loss: 0.0841 - val_acc: 0.9802\n",
      "Epoch 167/200\n",
      "48000/48000 [==============================] - 2s - loss: 0.0277 - acc: 0.9907 - val_loss: 0.0826 - val_acc: 0.9807\n",
      "Epoch 168/200\n",
      "48000/48000 [==============================] - 2s - loss: 0.0248 - acc: 0.9920 - val_loss: 0.0855 - val_acc: 0.9800\n",
      "Epoch 169/200\n",
      "48000/48000 [==============================] - 2s - loss: 0.0272 - acc: 0.9909 - val_loss: 0.0836 - val_acc: 0.9797\n",
      "Epoch 170/200\n",
      "48000/48000 [==============================] - 2s - loss: 0.0258 - acc: 0.9919 - val_loss: 0.0834 - val_acc: 0.9798\n",
      "Epoch 171/200\n",
      "48000/48000 [==============================] - 2s - loss: 0.0264 - acc: 0.9916 - val_loss: 0.0836 - val_acc: 0.9788\n",
      "Epoch 172/200\n",
      "48000/48000 [==============================] - 2s - loss: 0.0274 - acc: 0.9911 - val_loss: 0.0823 - val_acc: 0.9797\n",
      "Epoch 173/200\n",
      "48000/48000 [==============================] - 2s - loss: 0.0276 - acc: 0.9906 - val_loss: 0.0829 - val_acc: 0.9795\n",
      "Epoch 174/200\n",
      "48000/48000 [==============================] - 2s - loss: 0.0276 - acc: 0.9912 - val_loss: 0.0820 - val_acc: 0.9798\n",
      "Epoch 175/200\n",
      "48000/48000 [==============================] - 2s - loss: 0.0255 - acc: 0.9916 - val_loss: 0.0825 - val_acc: 0.9805\n",
      "Epoch 176/200\n",
      "48000/48000 [==============================] - 2s - loss: 0.0268 - acc: 0.9910 - val_loss: 0.0826 - val_acc: 0.9798\n",
      "Epoch 177/200\n",
      "48000/48000 [==============================] - 2s - loss: 0.0259 - acc: 0.9914 - val_loss: 0.0828 - val_acc: 0.9797\n",
      "Epoch 178/200\n",
      "48000/48000 [==============================] - 2s - loss: 0.0247 - acc: 0.9919 - val_loss: 0.0824 - val_acc: 0.9799\n",
      "Epoch 179/200\n",
      "48000/48000 [==============================] - 2s - loss: 0.0258 - acc: 0.9918 - val_loss: 0.0833 - val_acc: 0.9800\n",
      "Epoch 180/200\n",
      "48000/48000 [==============================] - 2s - loss: 0.0250 - acc: 0.9915 - val_loss: 0.0864 - val_acc: 0.9791\n",
      "Epoch 181/200\n",
      "48000/48000 [==============================] - 2s - loss: 0.0247 - acc: 0.9921 - val_loss: 0.0838 - val_acc: 0.9795\n",
      "Epoch 182/200\n",
      "48000/48000 [==============================] - 2s - loss: 0.0254 - acc: 0.9912 - val_loss: 0.0843 - val_acc: 0.9801\n",
      "Epoch 183/200\n",
      "48000/48000 [==============================] - 2s - loss: 0.0270 - acc: 0.9910 - val_loss: 0.0822 - val_acc: 0.9808\n",
      "Epoch 184/200\n",
      "48000/48000 [==============================] - 2s - loss: 0.0250 - acc: 0.9918 - val_loss: 0.0832 - val_acc: 0.9802\n",
      "Epoch 185/200\n",
      "48000/48000 [==============================] - 3s - loss: 0.0259 - acc: 0.9916 - val_loss: 0.0847 - val_acc: 0.9803\n",
      "Epoch 186/200\n",
      "48000/48000 [==============================] - 3s - loss: 0.0236 - acc: 0.9925 - val_loss: 0.0836 - val_acc: 0.9794\n",
      "Epoch 187/200\n",
      "48000/48000 [==============================] - 2s - loss: 0.0242 - acc: 0.9914 - val_loss: 0.0855 - val_acc: 0.9798\n",
      "Epoch 188/200\n",
      "48000/48000 [==============================] - 2s - loss: 0.0252 - acc: 0.9917 - val_loss: 0.0867 - val_acc: 0.9797\n",
      "Epoch 189/200\n",
      "48000/48000 [==============================] - 2s - loss: 0.0252 - acc: 0.9916 - val_loss: 0.0855 - val_acc: 0.9793\n",
      "Epoch 190/200\n",
      "48000/48000 [==============================] - 2s - loss: 0.0228 - acc: 0.9924 - val_loss: 0.0867 - val_acc: 0.9783\n",
      "Epoch 191/200\n",
      "48000/48000 [==============================] - 2s - loss: 0.0247 - acc: 0.9917 - val_loss: 0.0848 - val_acc: 0.9791\n",
      "Epoch 192/200\n",
      "48000/48000 [==============================] - 2s - loss: 0.0221 - acc: 0.9930 - val_loss: 0.0853 - val_acc: 0.9794\n",
      "Epoch 193/200\n",
      "48000/48000 [==============================] - 2s - loss: 0.0247 - acc: 0.9918 - val_loss: 0.0843 - val_acc: 0.9804\n",
      "Epoch 194/200\n",
      "48000/48000 [==============================] - 2s - loss: 0.0248 - acc: 0.9917 - val_loss: 0.0845 - val_acc: 0.9806\n",
      "Epoch 195/200\n",
      "48000/48000 [==============================] - 2s - loss: 0.0234 - acc: 0.9920 - val_loss: 0.0847 - val_acc: 0.9807\n",
      "Epoch 196/200\n",
      "48000/48000 [==============================] - 2s - loss: 0.0232 - acc: 0.9924 - val_loss: 0.0859 - val_acc: 0.9800\n",
      "Epoch 197/200\n",
      "48000/48000 [==============================] - 2s - loss: 0.0252 - acc: 0.9919 - val_loss: 0.0860 - val_acc: 0.9800\n",
      "Epoch 198/200\n",
      "48000/48000 [==============================] - 2s - loss: 0.0229 - acc: 0.9924 - val_loss: 0.0850 - val_acc: 0.9802\n",
      "Epoch 199/200\n",
      "48000/48000 [==============================] - 2s - loss: 0.0241 - acc: 0.9919 - val_loss: 0.0865 - val_acc: 0.9800\n",
      "Epoch 200/200\n",
      "48000/48000 [==============================] - 2s - loss: 0.0222 - acc: 0.9929 - val_loss: 0.0859 - val_acc: 0.9807\n"
     ]
    }
   ],
   "source": [
    "time_start = time.clock()\n",
    "history = model.fit(X_train, y_train,\n",
    "                    batch_size=128,\n",
    "                    epochs=200,\n",
    "                    verbose=1,\n",
    "                    validation_split=0.2)\n",
    "time_end = time.clock()"
   ]
  },
  {
   "cell_type": "code",
   "execution_count": 10,
   "metadata": {
    "collapsed": true
   },
   "outputs": [],
   "source": [
    "time_end = time.clock()"
   ]
  },
  {
   "cell_type": "code",
   "execution_count": 11,
   "metadata": {
    "collapsed": false
   },
   "outputs": [
    {
     "name": "stdout",
     "output_type": "stream",
     "text": [
      "Time to train\n",
      "Time elapsed in seconds : 479\n",
      "Time elapsed in minutes : 8.0\n",
      "Time elapsed in hours   : 0.1\n"
     ]
    }
   ],
   "source": [
    "duration = time_end - time_start\n",
    "print(\"Time to train\")\n",
    "print(\"Time elapsed in seconds : %.0f\" % duration)\n",
    "print(\"Time elapsed in minutes : %.1f\" % (duration/60))\n",
    "print(\"Time elapsed in hours   : %.1f\" % (duration/3600))"
   ]
  },
  {
   "cell_type": "code",
   "execution_count": 12,
   "metadata": {
    "collapsed": false
   },
   "outputs": [
    {
     "name": "stdout",
     "output_type": "stream",
     "text": [
      " 9056/10000 [==========================>...] - ETA: 0s\n",
      "Test score: 0.0863832397087\n",
      "Test accuracy: 0.9788\n"
     ]
    }
   ],
   "source": [
    "score = model.evaluate(X_test, y_test,\n",
    "                       verbose=1)\n",
    "print(\"\")\n",
    "print(\"Test score:\", score[0])\n",
    "print(\"Test accuracy:\", score[1])"
   ]
  },
  {
   "cell_type": "code",
   "execution_count": 13,
   "metadata": {
    "collapsed": false
   },
   "outputs": [
    {
     "name": "stdout",
     "output_type": "stream",
     "text": [
      "dict_keys(['loss', 'val_acc', 'acc', 'val_loss'])\n"
     ]
    }
   ],
   "source": [
    "# list all data in history\n",
    "print(history.history.keys())"
   ]
  },
  {
   "cell_type": "code",
   "execution_count": 14,
   "metadata": {
    "collapsed": false
   },
   "outputs": [
    {
     "data": {
      "image/png": "[encoded data removed]",
      "text/plain": [
       "<matplotlib.figure.Figure at 0x27e82c605c0>"
      ]
     },
     "metadata": {},
     "output_type": "display_data"
    }
   ],
   "source": [
    "# Accuracy\n",
    "plt.plot(history.history[\"acc\"])\n",
    "plt.plot(history.history[\"val_acc\"])\n",
    "plt.title(\"model accuracy\")\n",
    "plt.ylabel(\"accuracy\")\n",
    "plt.xlabel(\"epoch\")\n",
    "plt.legend([\"train\", \"test\"], loc=\"lower left\")\n",
    "plt.show()"
   ]
  },
  {
   "cell_type": "code",
   "execution_count": 15,
   "metadata": {
    "collapsed": false
   },
   "outputs": [
    {
     "data": {
      "image/png": "[encoded data removed]",
      "text/plain": [
       "<matplotlib.figure.Figure at 0x27e82d03ef0>"
      ]
     },
     "metadata": {},
     "output_type": "display_data"
    }
   ],
   "source": [
    "# Loss\n",
    "plt.plot(history.history[\"loss\"])\n",
    "plt.plot(history.history[\"val_loss\"])\n",
    "plt.title(\"model loss\")\n",
    "plt.ylabel(\"loss\")\n",
    "plt.xlabel(\"epoch\")\n",
    "plt.legend([\"train\", \"test\"], loc=\"upper left\")\n",
    "plt.show()"
   ]
  }
 ],
 "metadata": {
  "anaconda-cloud": {},
  "kernelspec": {
   "display_name": "Python [default]",
   "language": "python",
   "name": "python3"
  },
  "language_info": {
   "codemirror_mode": {
    "name": "ipython",
    "version": 3
   },
   "file_extension": ".py",
   "mimetype": "text/x-python",
   "name": "python",
   "nbconvert_exporter": "python",
   "pygments_lexer": "ipython3",
   "version": "3.5.2"
  }
 },
 "nbformat": 4,
 "nbformat_minor": 1
}
