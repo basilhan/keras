{
 "cells": [
  {
   "cell_type": "code",
   "execution_count": 1,
   "metadata": {
    "collapsed": false
   },
   "outputs": [
    {
     "name": "stderr",
     "output_type": "stream",
     "text": [
      "Using TensorFlow backend.\n"
     ]
    }
   ],
   "source": [
    "import numpy as np\n",
    "import matplotlib.pyplot as plt\n",
    "import time\n",
    "from keras.datasets import mnist\n",
    "from keras.models import Sequential\n",
    "from keras.layers.core import Dense, Dropout, Activation\n",
    "from keras.layers.normalization import BatchNormalization\n",
    "from keras.optimizers import SGD, Adam, Adamax, RMSprop, Adagrad, Adadelta, Nadam\n",
    "from keras.utils import np_utils\n",
    "from tensorflow import set_random_seed"
   ]
  },
  {
   "cell_type": "code",
   "execution_count": 2,
   "metadata": {
    "collapsed": false
   },
   "outputs": [],
   "source": [
    "np.random.seed(2015)\n",
    "set_random_seed(2015)"
   ]
  },
  {
   "cell_type": "code",
   "execution_count": 3,
   "metadata": {
    "collapsed": false
   },
   "outputs": [],
   "source": [
    "# Load data\n",
    "(X_train, y_train), (X_test, y_test) = mnist.load_data()"
   ]
  },
  {
   "cell_type": "code",
   "execution_count": 4,
   "metadata": {
    "collapsed": false
   },
   "outputs": [
    {
     "name": "stdout",
     "output_type": "stream",
     "text": [
      "60000 training samples\n",
      "10000 testing samples\n"
     ]
    }
   ],
   "source": [
    "# Preprocessing\n",
    "X_train = X_train.reshape(60000, 784)\n",
    "X_test  = X_test.reshape(10000, 784)\n",
    "X_train = X_train.astype(\"float32\")\n",
    "X_test  = X_test.astype(\"float32\")\n",
    "X_train /= 255\n",
    "X_test  /= 255\n",
    "print(X_train.shape[0], \"training samples\")\n",
    "print(X_test.shape[0], \"testing samples\")"
   ]
  },
  {
   "cell_type": "code",
   "execution_count": 5,
   "metadata": {
    "collapsed": true
   },
   "outputs": [],
   "source": [
    "# Convert labels to one-hot encoding\n",
    "# e.g. 1 -> array([ 0.,  1.,  0.,  0.,  0.,  0.,  0.,  0.,  0.,  0.])\n",
    "y_train = np_utils.to_categorical(y_train, 10)\n",
    "y_test = np_utils.to_categorical(y_test, 10)"
   ]
  },
  {
   "cell_type": "markdown",
   "metadata": {},
   "source": [
    "The argument *input_dim* is equivalent to *input_shape* ([reference](https://keras.io/getting-started/sequential-model-guide/))."
   ]
  },
  {
   "cell_type": "code",
   "execution_count": 6,
   "metadata": {
    "collapsed": false
   },
   "outputs": [],
   "source": [
    "# Define the model\n",
    "model = Sequential([\n",
    "        Dense(128, input_dim=784), Activation(\"relu\"), Dropout(0.35),\n",
    "        Dense(128), Activation(\"relu\"), Dropout(0.35),\n",
    "        Dense(10), Activation(\"softmax\")\n",
    "    ])"
   ]
  },
  {
   "cell_type": "code",
   "execution_count": 7,
   "metadata": {
    "collapsed": false
   },
   "outputs": [
    {
     "name": "stdout",
     "output_type": "stream",
     "text": [
      "_________________________________________________________________\n",
      "Layer (type)                 Output Shape              Param #   \n",
      "=================================================================\n",
      "dense_1 (Dense)              (None, 128)               100480    \n",
      "_________________________________________________________________\n",
      "activation_1 (Activation)    (None, 128)               0         \n",
      "_________________________________________________________________\n",
      "dropout_1 (Dropout)          (None, 128)               0         \n",
      "_________________________________________________________________\n",
      "dense_2 (Dense)              (None, 128)               16512     \n",
      "_________________________________________________________________\n",
      "activation_2 (Activation)    (None, 128)               0         \n",
      "_________________________________________________________________\n",
      "dropout_2 (Dropout)          (None, 128)               0         \n",
      "_________________________________________________________________\n",
      "dense_3 (Dense)              (None, 10)                1290      \n",
      "_________________________________________________________________\n",
      "activation_3 (Activation)    (None, 10)                0         \n",
      "=================================================================\n",
      "Total params: 118,282\n",
      "Trainable params: 118,282\n",
      "Non-trainable params: 0\n",
      "_________________________________________________________________\n"
     ]
    }
   ],
   "source": [
    "model.summary()"
   ]
  },
  {
   "cell_type": "code",
   "execution_count": 8,
   "metadata": {
    "collapsed": false
   },
   "outputs": [],
   "source": [
    "model.compile(loss=\"categorical_crossentropy\",\n",
    "              optimizer=SGD(),\n",
    "              metrics=[\"accuracy\"])"
   ]
  },
  {
   "cell_type": "code",
   "execution_count": 9,
   "metadata": {
    "collapsed": false
   },
   "outputs": [
    {
     "name": "stdout",
     "output_type": "stream",
     "text": [
      "Train on 48000 samples, validate on 12000 samples\n",
      "Epoch 1/200\n",
      "48000/48000 [==============================] - 2s - loss: 1.7833 - acc: 0.4121 - val_loss: 1.0073 - val_acc: 0.8063\n",
      "Epoch 2/200\n",
      "48000/48000 [==============================] - 2s - loss: 1.0065 - acc: 0.6828 - val_loss: 0.5700 - val_acc: 0.8636\n",
      "Epoch 3/200\n",
      "48000/48000 [==============================] - 2s - loss: 0.7542 - acc: 0.7626 - val_loss: 0.4457 - val_acc: 0.8845\n",
      "Epoch 4/200\n",
      "48000/48000 [==============================] - 2s - loss: 0.6436 - acc: 0.8026 - val_loss: 0.3855 - val_acc: 0.8946\n",
      "Epoch 5/200\n",
      "48000/48000 [==============================] - 2s - loss: 0.5707 - acc: 0.8260 - val_loss: 0.3507 - val_acc: 0.9042\n",
      "Epoch 6/200\n",
      "48000/48000 [==============================] - 2s - loss: 0.5220 - acc: 0.8431 - val_loss: 0.3240 - val_acc: 0.9092\n",
      "Epoch 7/200\n",
      "48000/48000 [==============================] - 2s - loss: 0.4892 - acc: 0.8527 - val_loss: 0.3066 - val_acc: 0.9121\n",
      "Epoch 8/200\n",
      "48000/48000 [==============================] - 2s - loss: 0.4598 - acc: 0.8630 - val_loss: 0.2895 - val_acc: 0.9163\n",
      "Epoch 9/200\n",
      "48000/48000 [==============================] - 2s - loss: 0.4413 - acc: 0.8684 - val_loss: 0.2770 - val_acc: 0.9205\n",
      "Epoch 10/200\n",
      "48000/48000 [==============================] - 2s - loss: 0.4198 - acc: 0.8746 - val_loss: 0.2669 - val_acc: 0.9223\n",
      "Epoch 11/200\n",
      "48000/48000 [==============================] - 2s - loss: 0.4005 - acc: 0.8820 - val_loss: 0.2562 - val_acc: 0.9252\n",
      "Epoch 12/200\n",
      "48000/48000 [==============================] - 2s - loss: 0.3887 - acc: 0.8858 - val_loss: 0.2466 - val_acc: 0.9278\n",
      "Epoch 13/200\n",
      "48000/48000 [==============================] - 2s - loss: 0.3735 - acc: 0.8908 - val_loss: 0.2380 - val_acc: 0.9307\n",
      "Epoch 14/200\n",
      "48000/48000 [==============================] - 2s - loss: 0.3634 - acc: 0.8921 - val_loss: 0.2321 - val_acc: 0.9324\n",
      "Epoch 15/200\n",
      "48000/48000 [==============================] - 2s - loss: 0.3517 - acc: 0.8960 - val_loss: 0.2244 - val_acc: 0.9348\n",
      "Epoch 16/200\n",
      "48000/48000 [==============================] - 2s - loss: 0.3415 - acc: 0.8998 - val_loss: 0.2193 - val_acc: 0.9352\n",
      "Epoch 17/200\n",
      "48000/48000 [==============================] - 2s - loss: 0.3320 - acc: 0.9010 - val_loss: 0.2127 - val_acc: 0.9378\n",
      "Epoch 18/200\n",
      "48000/48000 [==============================] - 2s - loss: 0.3206 - acc: 0.9072 - val_loss: 0.2077 - val_acc: 0.9386\n",
      "Epoch 19/200\n",
      "48000/48000 [==============================] - 2s - loss: 0.3179 - acc: 0.9074 - val_loss: 0.2024 - val_acc: 0.9413\n",
      "Epoch 20/200\n",
      "48000/48000 [==============================] - 2s - loss: 0.3061 - acc: 0.9102 - val_loss: 0.1986 - val_acc: 0.9423\n",
      "Epoch 21/200\n",
      "48000/48000 [==============================] - 2s - loss: 0.3029 - acc: 0.9113 - val_loss: 0.1946 - val_acc: 0.9429\n",
      "Epoch 22/200\n",
      "48000/48000 [==============================] - 2s - loss: 0.2938 - acc: 0.9140 - val_loss: 0.1903 - val_acc: 0.9444\n",
      "Epoch 23/200\n",
      "48000/48000 [==============================] - 2s - loss: 0.2901 - acc: 0.9154 - val_loss: 0.1862 - val_acc: 0.9450\n",
      "Epoch 24/200\n",
      "48000/48000 [==============================] - 2s - loss: 0.2844 - acc: 0.9166 - val_loss: 0.1827 - val_acc: 0.9472\n",
      "Epoch 25/200\n",
      "48000/48000 [==============================] - 2s - loss: 0.2760 - acc: 0.9204 - val_loss: 0.1793 - val_acc: 0.9488\n",
      "Epoch 26/200\n",
      "48000/48000 [==============================] - 2s - loss: 0.2756 - acc: 0.9189 - val_loss: 0.1768 - val_acc: 0.9490\n",
      "Epoch 27/200\n",
      "48000/48000 [==============================] - 2s - loss: 0.2669 - acc: 0.9206 - val_loss: 0.1727 - val_acc: 0.9503\n",
      "Epoch 28/200\n",
      "48000/48000 [==============================] - 2s - loss: 0.2629 - acc: 0.9232 - val_loss: 0.1700 - val_acc: 0.9512\n",
      "Epoch 29/200\n",
      "48000/48000 [==============================] - 2s - loss: 0.2623 - acc: 0.9240 - val_loss: 0.1675 - val_acc: 0.9514\n",
      "Epoch 30/200\n",
      "48000/48000 [==============================] - 2s - loss: 0.2570 - acc: 0.9246 - val_loss: 0.1652 - val_acc: 0.9527\n",
      "Epoch 31/200\n",
      "48000/48000 [==============================] - 2s - loss: 0.2466 - acc: 0.9277 - val_loss: 0.1624 - val_acc: 0.9536\n",
      "Epoch 32/200\n",
      "48000/48000 [==============================] - 2s - loss: 0.2440 - acc: 0.9282 - val_loss: 0.1598 - val_acc: 0.9538\n",
      "Epoch 33/200\n",
      "48000/48000 [==============================] - 2s - loss: 0.2426 - acc: 0.9277 - val_loss: 0.1573 - val_acc: 0.9543\n",
      "Epoch 34/200\n",
      "48000/48000 [==============================] - 2s - loss: 0.2353 - acc: 0.9304 - val_loss: 0.1548 - val_acc: 0.9561\n",
      "Epoch 35/200\n",
      "48000/48000 [==============================] - 2s - loss: 0.2350 - acc: 0.9301 - val_loss: 0.1538 - val_acc: 0.9557\n",
      "Epoch 36/200\n",
      "48000/48000 [==============================] - 2s - loss: 0.2301 - acc: 0.9314 - val_loss: 0.1514 - val_acc: 0.9557\n",
      "Epoch 37/200\n",
      "48000/48000 [==============================] - 2s - loss: 0.2335 - acc: 0.9303 - val_loss: 0.1502 - val_acc: 0.9565\n",
      "Epoch 38/200\n",
      "48000/48000 [==============================] - 2s - loss: 0.2274 - acc: 0.9335 - val_loss: 0.1473 - val_acc: 0.9576\n",
      "Epoch 39/200\n",
      "48000/48000 [==============================] - 2s - loss: 0.2228 - acc: 0.9354 - val_loss: 0.1458 - val_acc: 0.9580\n",
      "Epoch 40/200\n",
      "48000/48000 [==============================] - 2s - loss: 0.2204 - acc: 0.9359 - val_loss: 0.1441 - val_acc: 0.9588\n",
      "Epoch 41/200\n",
      "48000/48000 [==============================] - 2s - loss: 0.2176 - acc: 0.9361 - val_loss: 0.1429 - val_acc: 0.9587\n",
      "Epoch 42/200\n",
      "48000/48000 [==============================] - 2s - loss: 0.2151 - acc: 0.9370 - val_loss: 0.1406 - val_acc: 0.9598\n",
      "Epoch 43/200\n",
      "48000/48000 [==============================] - 2s - loss: 0.2126 - acc: 0.9367 - val_loss: 0.1387 - val_acc: 0.9603\n",
      "Epoch 44/200\n",
      "48000/48000 [==============================] - 2s - loss: 0.2118 - acc: 0.9384 - val_loss: 0.1375 - val_acc: 0.9607\n",
      "Epoch 45/200\n",
      "48000/48000 [==============================] - 2s - loss: 0.2056 - acc: 0.9392 - val_loss: 0.1360 - val_acc: 0.9616\n",
      "Epoch 46/200\n",
      "48000/48000 [==============================] - 2s - loss: 0.2054 - acc: 0.9398 - val_loss: 0.1345 - val_acc: 0.9618\n",
      "Epoch 47/200\n",
      "48000/48000 [==============================] - 2s - loss: 0.1999 - acc: 0.9409 - val_loss: 0.1341 - val_acc: 0.9613\n",
      "Epoch 48/200\n",
      "48000/48000 [==============================] - 2s - loss: 0.2006 - acc: 0.9416 - val_loss: 0.1329 - val_acc: 0.9615\n",
      "Epoch 49/200\n",
      "48000/48000 [==============================] - 2s - loss: 0.2004 - acc: 0.9415 - val_loss: 0.1316 - val_acc: 0.9631\n",
      "Epoch 50/200\n",
      "48000/48000 [==============================] - 2s - loss: 0.1943 - acc: 0.9429 - val_loss: 0.1295 - val_acc: 0.9627\n",
      "Epoch 51/200\n",
      "48000/48000 [==============================] - 2s - loss: 0.1936 - acc: 0.9436 - val_loss: 0.1286 - val_acc: 0.9632\n",
      "Epoch 52/200\n",
      "48000/48000 [==============================] - 2s - loss: 0.1937 - acc: 0.9429 - val_loss: 0.1271 - val_acc: 0.9639\n",
      "Epoch 53/200\n",
      "48000/48000 [==============================] - 2s - loss: 0.1914 - acc: 0.9436 - val_loss: 0.1265 - val_acc: 0.9640\n",
      "Epoch 54/200\n",
      "48000/48000 [==============================] - 2s - loss: 0.1857 - acc: 0.9455 - val_loss: 0.1256 - val_acc: 0.9640\n",
      "Epoch 55/200\n",
      "48000/48000 [==============================] - 2s - loss: 0.1898 - acc: 0.9446 - val_loss: 0.1244 - val_acc: 0.9645\n",
      "Epoch 56/200\n",
      "48000/48000 [==============================] - 2s - loss: 0.1876 - acc: 0.9448 - val_loss: 0.1234 - val_acc: 0.9647\n",
      "Epoch 57/200\n",
      "48000/48000 [==============================] - 2s - loss: 0.1844 - acc: 0.9469 - val_loss: 0.1228 - val_acc: 0.9652\n",
      "Epoch 58/200\n",
      "48000/48000 [==============================] - 2s - loss: 0.1814 - acc: 0.9464 - val_loss: 0.1221 - val_acc: 0.9647\n",
      "Epoch 59/200\n",
      "48000/48000 [==============================] - 2s - loss: 0.1774 - acc: 0.9471 - val_loss: 0.1207 - val_acc: 0.9649\n",
      "Epoch 60/200\n",
      "48000/48000 [==============================] - 2s - loss: 0.1801 - acc: 0.9470 - val_loss: 0.1201 - val_acc: 0.9663\n",
      "Epoch 61/200\n",
      "48000/48000 [==============================] - 2s - loss: 0.1784 - acc: 0.9476 - val_loss: 0.1192 - val_acc: 0.9658\n",
      "Epoch 62/200\n",
      "48000/48000 [==============================] - 2s - loss: 0.1755 - acc: 0.9484 - val_loss: 0.1185 - val_acc: 0.9658\n",
      "Epoch 63/200\n",
      "48000/48000 [==============================] - 2s - loss: 0.1740 - acc: 0.9495 - val_loss: 0.1174 - val_acc: 0.9664\n",
      "Epoch 64/200\n",
      "48000/48000 [==============================] - 2s - loss: 0.1701 - acc: 0.9490 - val_loss: 0.1172 - val_acc: 0.9656\n",
      "Epoch 65/200\n",
      "48000/48000 [==============================] - 2s - loss: 0.1699 - acc: 0.9501 - val_loss: 0.1161 - val_acc: 0.9658\n",
      "Epoch 66/200\n",
      "48000/48000 [==============================] - 2s - loss: 0.1721 - acc: 0.9484 - val_loss: 0.1150 - val_acc: 0.9670\n",
      "Epoch 67/200\n",
      "48000/48000 [==============================] - 2s - loss: 0.1677 - acc: 0.9505 - val_loss: 0.1143 - val_acc: 0.9674\n",
      "Epoch 68/200\n",
      "48000/48000 [==============================] - 2s - loss: 0.1680 - acc: 0.9505 - val_loss: 0.1136 - val_acc: 0.9669\n",
      "Epoch 69/200\n",
      "48000/48000 [==============================] - 2s - loss: 0.1669 - acc: 0.9517 - val_loss: 0.1129 - val_acc: 0.9677\n",
      "Epoch 70/200\n",
      "48000/48000 [==============================] - 2s - loss: 0.1653 - acc: 0.9505 - val_loss: 0.1122 - val_acc: 0.9675\n",
      "Epoch 71/200\n",
      "48000/48000 [==============================] - 2s - loss: 0.1609 - acc: 0.9518 - val_loss: 0.1119 - val_acc: 0.9676\n",
      "Epoch 72/200\n",
      "48000/48000 [==============================] - 2s - loss: 0.1611 - acc: 0.9530 - val_loss: 0.1113 - val_acc: 0.9673\n",
      "Epoch 73/200\n",
      "48000/48000 [==============================] - 2s - loss: 0.1628 - acc: 0.9517 - val_loss: 0.1105 - val_acc: 0.9681\n",
      "Epoch 74/200\n",
      "48000/48000 [==============================] - 2s - loss: 0.1586 - acc: 0.9520 - val_loss: 0.1102 - val_acc: 0.9680\n",
      "Epoch 75/200\n",
      "48000/48000 [==============================] - 2s - loss: 0.1567 - acc: 0.9533 - val_loss: 0.1093 - val_acc: 0.9681\n",
      "Epoch 76/200\n",
      "48000/48000 [==============================] - 2s - loss: 0.1584 - acc: 0.9540 - val_loss: 0.1094 - val_acc: 0.9680\n",
      "Epoch 77/200\n",
      "48000/48000 [==============================] - 2s - loss: 0.1532 - acc: 0.9543 - val_loss: 0.1090 - val_acc: 0.9688\n",
      "Epoch 78/200\n",
      "48000/48000 [==============================] - 2s - loss: 0.1504 - acc: 0.9554 - val_loss: 0.1069 - val_acc: 0.9691\n",
      "Epoch 79/200\n",
      "48000/48000 [==============================] - 2s - loss: 0.1524 - acc: 0.9546 - val_loss: 0.1068 - val_acc: 0.9696\n",
      "Epoch 80/200\n",
      "48000/48000 [==============================] - 2s - loss: 0.1520 - acc: 0.9555 - val_loss: 0.1057 - val_acc: 0.9693\n",
      "Epoch 81/200\n",
      "48000/48000 [==============================] - 2s - loss: 0.1526 - acc: 0.9549 - val_loss: 0.1059 - val_acc: 0.9691\n",
      "Epoch 82/200\n",
      "48000/48000 [==============================] - 2s - loss: 0.1518 - acc: 0.9550 - val_loss: 0.1052 - val_acc: 0.9688\n",
      "Epoch 83/200\n",
      "48000/48000 [==============================] - 2s - loss: 0.1490 - acc: 0.9556 - val_loss: 0.1050 - val_acc: 0.9692\n",
      "Epoch 84/200\n",
      "48000/48000 [==============================] - 2s - loss: 0.1467 - acc: 0.9555 - val_loss: 0.1049 - val_acc: 0.9695\n",
      "Epoch 85/200\n",
      "48000/48000 [==============================] - 2s - loss: 0.1467 - acc: 0.9565 - val_loss: 0.1041 - val_acc: 0.9700\n",
      "Epoch 86/200\n",
      "48000/48000 [==============================] - 2s - loss: 0.1454 - acc: 0.9561 - val_loss: 0.1040 - val_acc: 0.9692\n",
      "Epoch 87/200\n",
      "48000/48000 [==============================] - 2s - loss: 0.1440 - acc: 0.9578 - val_loss: 0.1035 - val_acc: 0.9699\n",
      "Epoch 88/200\n",
      "48000/48000 [==============================] - 2s - loss: 0.1452 - acc: 0.9570 - val_loss: 0.1028 - val_acc: 0.9698\n",
      "Epoch 89/200\n",
      "48000/48000 [==============================] - 2s - loss: 0.1418 - acc: 0.9586 - val_loss: 0.1026 - val_acc: 0.9698\n",
      "Epoch 90/200\n",
      "48000/48000 [==============================] - 2s - loss: 0.1406 - acc: 0.9585 - val_loss: 0.1017 - val_acc: 0.9700\n",
      "Epoch 91/200\n",
      "48000/48000 [==============================] - 2s - loss: 0.1421 - acc: 0.9576 - val_loss: 0.1015 - val_acc: 0.9703\n",
      "Epoch 92/200\n",
      "48000/48000 [==============================] - 2s - loss: 0.1423 - acc: 0.9584 - val_loss: 0.1007 - val_acc: 0.9708\n",
      "Epoch 93/200\n",
      "48000/48000 [==============================] - 2s - loss: 0.1372 - acc: 0.9589 - val_loss: 0.1007 - val_acc: 0.9703\n",
      "Epoch 94/200\n",
      "48000/48000 [==============================] - 2s - loss: 0.1388 - acc: 0.9590 - val_loss: 0.1000 - val_acc: 0.9708\n",
      "Epoch 95/200\n",
      "48000/48000 [==============================] - 2s - loss: 0.1404 - acc: 0.9586 - val_loss: 0.0996 - val_acc: 0.9708\n",
      "Epoch 96/200\n",
      "48000/48000 [==============================] - 2s - loss: 0.1373 - acc: 0.9584 - val_loss: 0.0997 - val_acc: 0.9713\n",
      "Epoch 97/200\n",
      "48000/48000 [==============================] - 2s - loss: 0.1383 - acc: 0.9585 - val_loss: 0.0991 - val_acc: 0.9711\n",
      "Epoch 98/200\n",
      "48000/48000 [==============================] - 2s - loss: 0.1355 - acc: 0.9597 - val_loss: 0.0988 - val_acc: 0.9716\n",
      "Epoch 99/200\n",
      "48000/48000 [==============================] - 2s - loss: 0.1327 - acc: 0.9605 - val_loss: 0.0985 - val_acc: 0.9721\n",
      "Epoch 100/200\n",
      "48000/48000 [==============================] - 2s - loss: 0.1354 - acc: 0.9591 - val_loss: 0.0977 - val_acc: 0.9714\n",
      "Epoch 101/200\n",
      "48000/48000 [==============================] - 2s - loss: 0.1353 - acc: 0.9606 - val_loss: 0.0976 - val_acc: 0.9719\n",
      "Epoch 102/200\n",
      "48000/48000 [==============================] - 2s - loss: 0.1300 - acc: 0.9608 - val_loss: 0.0969 - val_acc: 0.9718\n",
      "Epoch 103/200\n",
      "48000/48000 [==============================] - 2s - loss: 0.1299 - acc: 0.9609 - val_loss: 0.0973 - val_acc: 0.9715\n",
      "Epoch 104/200\n",
      "48000/48000 [==============================] - 2s - loss: 0.1308 - acc: 0.9613 - val_loss: 0.0967 - val_acc: 0.9718\n",
      "Epoch 105/200\n",
      "48000/48000 [==============================] - 2s - loss: 0.1308 - acc: 0.9613 - val_loss: 0.0967 - val_acc: 0.9723\n",
      "Epoch 106/200\n",
      "48000/48000 [==============================] - 2s - loss: 0.1281 - acc: 0.9616 - val_loss: 0.0964 - val_acc: 0.9719\n",
      "Epoch 107/200\n",
      "48000/48000 [==============================] - 2s - loss: 0.1274 - acc: 0.9624 - val_loss: 0.0961 - val_acc: 0.9725\n",
      "Epoch 108/200\n",
      "48000/48000 [==============================] - 2s - loss: 0.1300 - acc: 0.9607 - val_loss: 0.0955 - val_acc: 0.9719\n",
      "Epoch 109/200\n",
      "48000/48000 [==============================] - 2s - loss: 0.1270 - acc: 0.9622 - val_loss: 0.0951 - val_acc: 0.9721\n",
      "Epoch 110/200\n",
      "48000/48000 [==============================] - 2s - loss: 0.1292 - acc: 0.9615 - val_loss: 0.0950 - val_acc: 0.9725\n",
      "Epoch 111/200\n",
      "48000/48000 [==============================] - 2s - loss: 0.1248 - acc: 0.9622 - val_loss: 0.0951 - val_acc: 0.9722\n",
      "Epoch 112/200\n",
      "48000/48000 [==============================] - 2s - loss: 0.1253 - acc: 0.9621 - val_loss: 0.0952 - val_acc: 0.9726\n",
      "Epoch 113/200\n",
      "48000/48000 [==============================] - 2s - loss: 0.1253 - acc: 0.9626 - val_loss: 0.0950 - val_acc: 0.9716\n",
      "Epoch 114/200\n",
      "48000/48000 [==============================] - 2s - loss: 0.1219 - acc: 0.9629 - val_loss: 0.0942 - val_acc: 0.9723\n",
      "Epoch 115/200\n",
      "48000/48000 [==============================] - 2s - loss: 0.1222 - acc: 0.9633 - val_loss: 0.0938 - val_acc: 0.9736\n",
      "Epoch 116/200\n",
      "48000/48000 [==============================] - 2s - loss: 0.1209 - acc: 0.9635 - val_loss: 0.0938 - val_acc: 0.9725\n",
      "Epoch 117/200\n",
      "48000/48000 [==============================] - 2s - loss: 0.1222 - acc: 0.9631 - val_loss: 0.0932 - val_acc: 0.9733\n",
      "Epoch 118/200\n",
      "48000/48000 [==============================] - 2s - loss: 0.1217 - acc: 0.9630 - val_loss: 0.0931 - val_acc: 0.9728\n",
      "Epoch 119/200\n",
      "48000/48000 [==============================] - 2s - loss: 0.1241 - acc: 0.9631 - val_loss: 0.0936 - val_acc: 0.9728\n",
      "Epoch 120/200\n",
      "48000/48000 [==============================] - 2s - loss: 0.1202 - acc: 0.9638 - val_loss: 0.0926 - val_acc: 0.9730\n",
      "Epoch 121/200\n",
      "48000/48000 [==============================] - 2s - loss: 0.1190 - acc: 0.9646 - val_loss: 0.0925 - val_acc: 0.9733\n",
      "Epoch 122/200\n",
      "48000/48000 [==============================] - 2s - loss: 0.1168 - acc: 0.9654 - val_loss: 0.0924 - val_acc: 0.9736\n",
      "Epoch 123/200\n",
      "48000/48000 [==============================] - 2s - loss: 0.1176 - acc: 0.9647 - val_loss: 0.0923 - val_acc: 0.9738\n",
      "Epoch 124/200\n",
      "48000/48000 [==============================] - 2s - loss: 0.1182 - acc: 0.9640 - val_loss: 0.0922 - val_acc: 0.9735\n",
      "Epoch 125/200\n",
      "48000/48000 [==============================] - 2s - loss: 0.1177 - acc: 0.9643 - val_loss: 0.0919 - val_acc: 0.9739\n",
      "Epoch 126/200\n",
      "48000/48000 [==============================] - 2s - loss: 0.1170 - acc: 0.9647 - val_loss: 0.0918 - val_acc: 0.9735\n",
      "Epoch 127/200\n",
      "48000/48000 [==============================] - 2s - loss: 0.1181 - acc: 0.9643 - val_loss: 0.0914 - val_acc: 0.9734\n",
      "Epoch 128/200\n",
      "48000/48000 [==============================] - 2s - loss: 0.1184 - acc: 0.9642 - val_loss: 0.0913 - val_acc: 0.9736\n",
      "Epoch 129/200\n",
      "48000/48000 [==============================] - 2s - loss: 0.1160 - acc: 0.9656 - val_loss: 0.0913 - val_acc: 0.9739\n",
      "Epoch 130/200\n",
      "48000/48000 [==============================] - 2s - loss: 0.1148 - acc: 0.9655 - val_loss: 0.0903 - val_acc: 0.9738\n",
      "Epoch 131/200\n",
      "48000/48000 [==============================] - 2s - loss: 0.1141 - acc: 0.9644 - val_loss: 0.0906 - val_acc: 0.9743\n",
      "Epoch 132/200\n",
      "48000/48000 [==============================] - 2s - loss: 0.1128 - acc: 0.9661 - val_loss: 0.0904 - val_acc: 0.9733\n",
      "Epoch 133/200\n",
      "48000/48000 [==============================] - 2s - loss: 0.1142 - acc: 0.9657 - val_loss: 0.0900 - val_acc: 0.9741\n",
      "Epoch 134/200\n",
      "48000/48000 [==============================] - 2s - loss: 0.1126 - acc: 0.9665 - val_loss: 0.0897 - val_acc: 0.9742\n",
      "Epoch 135/200\n",
      "48000/48000 [==============================] - 2s - loss: 0.1126 - acc: 0.9666 - val_loss: 0.0903 - val_acc: 0.9742\n",
      "Epoch 136/200\n",
      "48000/48000 [==============================] - 2s - loss: 0.1114 - acc: 0.9660 - val_loss: 0.0900 - val_acc: 0.9738\n",
      "Epoch 137/200\n",
      "48000/48000 [==============================] - 2s - loss: 0.1088 - acc: 0.9672 - val_loss: 0.0898 - val_acc: 0.9741\n",
      "Epoch 138/200\n",
      "48000/48000 [==============================] - 2s - loss: 0.1088 - acc: 0.9669 - val_loss: 0.0893 - val_acc: 0.9741\n",
      "Epoch 139/200\n",
      "48000/48000 [==============================] - 2s - loss: 0.1100 - acc: 0.9663 - val_loss: 0.0891 - val_acc: 0.9741\n",
      "Epoch 140/200\n",
      "48000/48000 [==============================] - 2s - loss: 0.1079 - acc: 0.9674 - val_loss: 0.0893 - val_acc: 0.9737\n",
      "Epoch 141/200\n",
      "48000/48000 [==============================] - 2s - loss: 0.1097 - acc: 0.9665 - val_loss: 0.0891 - val_acc: 0.9741\n",
      "Epoch 142/200\n",
      "48000/48000 [==============================] - 2s - loss: 0.1088 - acc: 0.9679 - val_loss: 0.0887 - val_acc: 0.9742\n",
      "Epoch 143/200\n",
      "48000/48000 [==============================] - 2s - loss: 0.1076 - acc: 0.9672 - val_loss: 0.0884 - val_acc: 0.9741\n",
      "Epoch 144/200\n",
      "48000/48000 [==============================] - 2s - loss: 0.1079 - acc: 0.9669 - val_loss: 0.0883 - val_acc: 0.9742\n",
      "Epoch 145/200\n",
      "48000/48000 [==============================] - 2s - loss: 0.1062 - acc: 0.9684 - val_loss: 0.0889 - val_acc: 0.9745\n",
      "Epoch 146/200\n",
      "48000/48000 [==============================] - 2s - loss: 0.1073 - acc: 0.9685 - val_loss: 0.0882 - val_acc: 0.9743\n",
      "Epoch 147/200\n",
      "48000/48000 [==============================] - 2s - loss: 0.1050 - acc: 0.9690 - val_loss: 0.0876 - val_acc: 0.9743\n",
      "Epoch 148/200\n",
      "48000/48000 [==============================] - 2s - loss: 0.1041 - acc: 0.9684 - val_loss: 0.0875 - val_acc: 0.9749\n",
      "Epoch 149/200\n",
      "48000/48000 [==============================] - 2s - loss: 0.1043 - acc: 0.9685 - val_loss: 0.0877 - val_acc: 0.9749\n",
      "Epoch 150/200\n",
      "48000/48000 [==============================] - 2s - loss: 0.1051 - acc: 0.9677 - val_loss: 0.0878 - val_acc: 0.9743\n",
      "Epoch 151/200\n",
      "48000/48000 [==============================] - 2s - loss: 0.1049 - acc: 0.9683 - val_loss: 0.0873 - val_acc: 0.9749\n",
      "Epoch 152/200\n",
      "48000/48000 [==============================] - 2s - loss: 0.1026 - acc: 0.9688 - val_loss: 0.0869 - val_acc: 0.9748\n",
      "Epoch 153/200\n",
      "48000/48000 [==============================] - 2s - loss: 0.1033 - acc: 0.9682 - val_loss: 0.0872 - val_acc: 0.9748\n",
      "Epoch 154/200\n",
      "48000/48000 [==============================] - 2s - loss: 0.1030 - acc: 0.9692 - val_loss: 0.0875 - val_acc: 0.9742\n",
      "Epoch 155/200\n",
      "48000/48000 [==============================] - 2s - loss: 0.1047 - acc: 0.9686 - val_loss: 0.0874 - val_acc: 0.9750\n",
      "Epoch 156/200\n",
      "48000/48000 [==============================] - 2s - loss: 0.1047 - acc: 0.9682 - val_loss: 0.0878 - val_acc: 0.9746\n",
      "Epoch 157/200\n",
      "48000/48000 [==============================] - 2s - loss: 0.1030 - acc: 0.9686 - val_loss: 0.0877 - val_acc: 0.9744\n",
      "Epoch 158/200\n",
      "48000/48000 [==============================] - 2s - loss: 0.1028 - acc: 0.9692 - val_loss: 0.0868 - val_acc: 0.9741\n",
      "Epoch 159/200\n",
      "48000/48000 [==============================] - 2s - loss: 0.1018 - acc: 0.9690 - val_loss: 0.0867 - val_acc: 0.9741\n",
      "Epoch 160/200\n",
      "48000/48000 [==============================] - 2s - loss: 0.0999 - acc: 0.9689 - val_loss: 0.0864 - val_acc: 0.9744\n",
      "Epoch 161/200\n",
      "48000/48000 [==============================] - 2s - loss: 0.0981 - acc: 0.9699 - val_loss: 0.0865 - val_acc: 0.9746\n",
      "Epoch 162/200\n",
      "48000/48000 [==============================] - 2s - loss: 0.0983 - acc: 0.9697 - val_loss: 0.0865 - val_acc: 0.9748\n",
      "Epoch 163/200\n",
      "48000/48000 [==============================] - 2s - loss: 0.1010 - acc: 0.9690 - val_loss: 0.0870 - val_acc: 0.9747\n",
      "Epoch 164/200\n",
      "48000/48000 [==============================] - 2s - loss: 0.0994 - acc: 0.9689 - val_loss: 0.0863 - val_acc: 0.9746\n",
      "Epoch 165/200\n",
      "48000/48000 [==============================] - 2s - loss: 0.0981 - acc: 0.9701 - val_loss: 0.0870 - val_acc: 0.9748\n",
      "Epoch 166/200\n",
      "48000/48000 [==============================] - 2s - loss: 0.0998 - acc: 0.9699 - val_loss: 0.0861 - val_acc: 0.9751\n",
      "Epoch 167/200\n",
      "48000/48000 [==============================] - 2s - loss: 0.0975 - acc: 0.9698 - val_loss: 0.0852 - val_acc: 0.9748\n",
      "Epoch 168/200\n",
      "48000/48000 [==============================] - 2s - loss: 0.0941 - acc: 0.9709 - val_loss: 0.0864 - val_acc: 0.9751\n",
      "Epoch 169/200\n",
      "48000/48000 [==============================] - 2s - loss: 0.0964 - acc: 0.9697 - val_loss: 0.0852 - val_acc: 0.9751\n",
      "Epoch 170/200\n",
      "48000/48000 [==============================] - 2s - loss: 0.0961 - acc: 0.9707 - val_loss: 0.0854 - val_acc: 0.9749\n",
      "Epoch 171/200\n",
      "48000/48000 [==============================] - 2s - loss: 0.0966 - acc: 0.9707 - val_loss: 0.0848 - val_acc: 0.9754\n",
      "Epoch 172/200\n",
      "48000/48000 [==============================] - 2s - loss: 0.0954 - acc: 0.9707 - val_loss: 0.0848 - val_acc: 0.9750\n",
      "Epoch 173/200\n",
      "48000/48000 [==============================] - 2s - loss: 0.0967 - acc: 0.9705 - val_loss: 0.0851 - val_acc: 0.9753\n",
      "Epoch 174/200\n",
      "48000/48000 [==============================] - 2s - loss: 0.0974 - acc: 0.9710 - val_loss: 0.0847 - val_acc: 0.9754\n",
      "Epoch 175/200\n",
      "48000/48000 [==============================] - 2s - loss: 0.0934 - acc: 0.9709 - val_loss: 0.0846 - val_acc: 0.9757\n",
      "Epoch 176/200\n",
      "48000/48000 [==============================] - 2s - loss: 0.0946 - acc: 0.9710 - val_loss: 0.0849 - val_acc: 0.9753\n",
      "Epoch 177/200\n",
      "48000/48000 [==============================] - 2s - loss: 0.0919 - acc: 0.9718 - val_loss: 0.0851 - val_acc: 0.9755\n",
      "Epoch 178/200\n",
      "48000/48000 [==============================] - 2s - loss: 0.0930 - acc: 0.9713 - val_loss: 0.0844 - val_acc: 0.9750\n",
      "Epoch 179/200\n",
      "48000/48000 [==============================] - 2s - loss: 0.0945 - acc: 0.9708 - val_loss: 0.0843 - val_acc: 0.9754\n",
      "Epoch 180/200\n",
      "48000/48000 [==============================] - 2s - loss: 0.0912 - acc: 0.9722 - val_loss: 0.0850 - val_acc: 0.9759\n",
      "Epoch 181/200\n",
      "48000/48000 [==============================] - 2s - loss: 0.0929 - acc: 0.9718 - val_loss: 0.0844 - val_acc: 0.9752\n",
      "Epoch 182/200\n",
      "48000/48000 [==============================] - 2s - loss: 0.0913 - acc: 0.9718 - val_loss: 0.0844 - val_acc: 0.9760\n",
      "Epoch 183/200\n",
      "48000/48000 [==============================] - 2s - loss: 0.0930 - acc: 0.9715 - val_loss: 0.0842 - val_acc: 0.9761\n",
      "Epoch 184/200\n",
      "48000/48000 [==============================] - 2s - loss: 0.0908 - acc: 0.9717 - val_loss: 0.0838 - val_acc: 0.9758\n",
      "Epoch 185/200\n",
      "48000/48000 [==============================] - 2s - loss: 0.0918 - acc: 0.9721 - val_loss: 0.0843 - val_acc: 0.9758\n",
      "Epoch 186/200\n",
      "48000/48000 [==============================] - 2s - loss: 0.0915 - acc: 0.9715 - val_loss: 0.0839 - val_acc: 0.9750\n",
      "Epoch 187/200\n",
      "48000/48000 [==============================] - 2s - loss: 0.0901 - acc: 0.9728 - val_loss: 0.0846 - val_acc: 0.9760\n",
      "Epoch 188/200\n",
      "48000/48000 [==============================] - 2s - loss: 0.0901 - acc: 0.9722 - val_loss: 0.0833 - val_acc: 0.9760\n",
      "Epoch 189/200\n",
      "48000/48000 [==============================] - 2s - loss: 0.0900 - acc: 0.9726 - val_loss: 0.0840 - val_acc: 0.9757\n",
      "Epoch 190/200\n",
      "48000/48000 [==============================] - 2s - loss: 0.0878 - acc: 0.9728 - val_loss: 0.0833 - val_acc: 0.9759\n",
      "Epoch 191/200\n",
      "48000/48000 [==============================] - 2s - loss: 0.0886 - acc: 0.9736 - val_loss: 0.0833 - val_acc: 0.9761\n",
      "Epoch 192/200\n",
      "48000/48000 [==============================] - 2s - loss: 0.0894 - acc: 0.9724 - val_loss: 0.0834 - val_acc: 0.9756\n",
      "Epoch 193/200\n",
      "48000/48000 [==============================] - 2s - loss: 0.0903 - acc: 0.9724 - val_loss: 0.0830 - val_acc: 0.9754\n",
      "Epoch 194/200\n",
      "48000/48000 [==============================] - 2s - loss: 0.0905 - acc: 0.9722 - val_loss: 0.0833 - val_acc: 0.9754\n",
      "Epoch 195/200\n",
      "48000/48000 [==============================] - 2s - loss: 0.0882 - acc: 0.9729 - val_loss: 0.0830 - val_acc: 0.9754\n",
      "Epoch 196/200\n",
      "48000/48000 [==============================] - 2s - loss: 0.0887 - acc: 0.9724 - val_loss: 0.0833 - val_acc: 0.9758\n",
      "Epoch 197/200\n",
      "48000/48000 [==============================] - 2s - loss: 0.0883 - acc: 0.9719 - val_loss: 0.0835 - val_acc: 0.9760\n",
      "Epoch 198/200\n",
      "48000/48000 [==============================] - 2s - loss: 0.0883 - acc: 0.9729 - val_loss: 0.0831 - val_acc: 0.9753\n",
      "Epoch 199/200\n",
      "48000/48000 [==============================] - 2s - loss: 0.0871 - acc: 0.9735 - val_loss: 0.0832 - val_acc: 0.9759\n",
      "Epoch 200/200\n",
      "48000/48000 [==============================] - 2s - loss: 0.0850 - acc: 0.9732 - val_loss: 0.0833 - val_acc: 0.9764\n"
     ]
    }
   ],
   "source": [
    "time_start = time.clock()\n",
    "history = model.fit(X_train, y_train,\n",
    "                    batch_size=128,\n",
    "                    epochs=200,\n",
    "                    verbose=1,\n",
    "                    validation_split=0.2)\n",
    "time_end = time.clock()"
   ]
  },
  {
   "cell_type": "code",
   "execution_count": 10,
   "metadata": {
    "collapsed": false
   },
   "outputs": [
    {
     "name": "stdout",
     "output_type": "stream",
     "text": [
      "Time to train\n",
      "Time elapsed in seconds : 449\n",
      "Time elapsed in minutes : 7.5\n",
      "Time elapsed in hours   : 0.1\n"
     ]
    }
   ],
   "source": [
    "duration = time_end - time_start\n",
    "print(\"Time to train\")\n",
    "print(\"Time elapsed in seconds : %.0f\" % duration)\n",
    "print(\"Time elapsed in minutes : %.1f\" % (duration/60))\n",
    "print(\"Time elapsed in hours   : %.1f\" % (duration/3600))"
   ]
  },
  {
   "cell_type": "code",
   "execution_count": 11,
   "metadata": {
    "collapsed": false
   },
   "outputs": [
    {
     "name": "stdout",
     "output_type": "stream",
     "text": [
      " 8928/10000 [=========================>....] - ETA: 0s\n",
      "Test score: 0.0816938069577\n",
      "Test accuracy: 0.9768\n"
     ]
    }
   ],
   "source": [
    "score = model.evaluate(X_test, y_test,\n",
    "                       verbose=1)\n",
    "print(\"\")\n",
    "print(\"Test score:\", score[0])\n",
    "print(\"Test accuracy:\", score[1])"
   ]
  },
  {
   "cell_type": "code",
   "execution_count": 12,
   "metadata": {
    "collapsed": false
   },
   "outputs": [
    {
     "name": "stdout",
     "output_type": "stream",
     "text": [
      "dict_keys(['val_loss', 'loss', 'val_acc', 'acc'])\n"
     ]
    }
   ],
   "source": [
    "# list all data in history\n",
    "print(history.history.keys())"
   ]
  },
  {
   "cell_type": "code",
   "execution_count": 13,
   "metadata": {
    "collapsed": false
   },
   "outputs": [
    {
     "data": {
      "image/png": "[encoded data removed]",
      "text/plain": [
       "<matplotlib.figure.Figure at 0x1c77bad1710>"
      ]
     },
     "metadata": {},
     "output_type": "display_data"
    }
   ],
   "source": [
    "# Accuracy\n",
    "plt.plot(history.history[\"acc\"])\n",
    "plt.plot(history.history[\"val_acc\"])\n",
    "plt.title(\"model accuracy\")\n",
    "plt.ylabel(\"accuracy\")\n",
    "plt.xlabel(\"epoch\")\n",
    "plt.legend([\"train\", \"test\"], loc=\"lower left\")\n",
    "plt.show()"
   ]
  },
  {
   "cell_type": "code",
   "execution_count": 14,
   "metadata": {
    "collapsed": false
   },
   "outputs": [
    {
     "data": {
      "image/png": "[encoded data removed]",
      "text/plain": [
       "<matplotlib.figure.Figure at 0x1c77bc04b00>"
      ]
     },
     "metadata": {},
     "output_type": "display_data"
    }
   ],
   "source": [
    "# Loss\n",
    "plt.plot(history.history[\"loss\"])\n",
    "plt.plot(history.history[\"val_loss\"])\n",
    "plt.title(\"model loss\")\n",
    "plt.ylabel(\"loss\")\n",
    "plt.xlabel(\"epoch\")\n",
    "plt.legend([\"train\", \"test\"], loc=\"upper left\")\n",
    "plt.show()"
   ]
  }
 ],
 "metadata": {
  "anaconda-cloud": {},
  "kernelspec": {
   "display_name": "Python [default]",
   "language": "python",
   "name": "python3"
  },
  "language_info": {
   "codemirror_mode": {
    "name": "ipython",
    "version": 3
   },
   "file_extension": ".py",
   "mimetype": "text/x-python",
   "name": "python",
   "nbconvert_exporter": "python",
   "pygments_lexer": "ipython3",
   "version": "3.5.2"
  }
 },
 "nbformat": 4,
 "nbformat_minor": 1
}
