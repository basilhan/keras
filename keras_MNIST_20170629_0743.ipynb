{
 "cells": [
  {
   "cell_type": "code",
   "execution_count": 1,
   "metadata": {
    "collapsed": false
   },
   "outputs": [
    {
     "name": "stderr",
     "output_type": "stream",
     "text": [
      "Using TensorFlow backend.\n"
     ]
    }
   ],
   "source": [
    "import numpy as np\n",
    "import matplotlib.pyplot as plt\n",
    "import time\n",
    "from keras.datasets import mnist\n",
    "from keras.models import Sequential\n",
    "from keras.layers.core import Dense, Dropout, Activation\n",
    "from keras.layers.normalization import BatchNormalization\n",
    "from keras.optimizers import SGD, Adam, Adamax, RMSprop, Adagrad, Adadelta, Nadam\n",
    "from keras.utils import np_utils\n",
    "from tensorflow import set_random_seed"
   ]
  },
  {
   "cell_type": "code",
   "execution_count": 2,
   "metadata": {
    "collapsed": false
   },
   "outputs": [],
   "source": [
    "np.random.seed(2015)\n",
    "set_random_seed(2015)"
   ]
  },
  {
   "cell_type": "code",
   "execution_count": 3,
   "metadata": {
    "collapsed": false
   },
   "outputs": [],
   "source": [
    "# Load data\n",
    "(X_train, y_train), (X_test, y_test) = mnist.load_data()"
   ]
  },
  {
   "cell_type": "code",
   "execution_count": 4,
   "metadata": {
    "collapsed": false
   },
   "outputs": [
    {
     "name": "stdout",
     "output_type": "stream",
     "text": [
      "60000 training samples\n",
      "10000 testing samples\n"
     ]
    }
   ],
   "source": [
    "# Preprocessing\n",
    "X_train = X_train.reshape(60000, 784)\n",
    "X_test  = X_test.reshape(10000, 784)\n",
    "X_train = X_train.astype(\"float32\")\n",
    "X_test  = X_test.astype(\"float32\")\n",
    "X_train /= 255\n",
    "X_test  /= 255\n",
    "print(X_train.shape[0], \"training samples\")\n",
    "print(X_test.shape[0], \"testing samples\")"
   ]
  },
  {
   "cell_type": "code",
   "execution_count": 5,
   "metadata": {
    "collapsed": true
   },
   "outputs": [],
   "source": [
    "# Convert labels to one-hot encoding\n",
    "# e.g. 1 -> array([ 0.,  1.,  0.,  0.,  0.,  0.,  0.,  0.,  0.,  0.])\n",
    "y_train = np_utils.to_categorical(y_train, 10)\n",
    "y_test = np_utils.to_categorical(y_test, 10)"
   ]
  },
  {
   "cell_type": "markdown",
   "metadata": {},
   "source": [
    "The argument *input_dim* is equivalent to *input_shape* ([reference](https://keras.io/getting-started/sequential-model-guide/))."
   ]
  },
  {
   "cell_type": "code",
   "execution_count": 6,
   "metadata": {
    "collapsed": false
   },
   "outputs": [],
   "source": [
    "# Define the model\n",
    "model = Sequential([\n",
    "        Dense(128, input_dim=784), Activation(\"relu\"), Dropout(0.18),\n",
    "        Dense(128), Activation(\"relu\"), Dropout(0.18),\n",
    "        Dense(10), Activation(\"softmax\")\n",
    "    ])"
   ]
  },
  {
   "cell_type": "code",
   "execution_count": 7,
   "metadata": {
    "collapsed": false
   },
   "outputs": [
    {
     "name": "stdout",
     "output_type": "stream",
     "text": [
      "_________________________________________________________________\n",
      "Layer (type)                 Output Shape              Param #   \n",
      "=================================================================\n",
      "dense_1 (Dense)              (None, 128)               100480    \n",
      "_________________________________________________________________\n",
      "activation_1 (Activation)    (None, 128)               0         \n",
      "_________________________________________________________________\n",
      "dropout_1 (Dropout)          (None, 128)               0         \n",
      "_________________________________________________________________\n",
      "dense_2 (Dense)              (None, 128)               16512     \n",
      "_________________________________________________________________\n",
      "activation_2 (Activation)    (None, 128)               0         \n",
      "_________________________________________________________________\n",
      "dropout_2 (Dropout)          (None, 128)               0         \n",
      "_________________________________________________________________\n",
      "dense_3 (Dense)              (None, 10)                1290      \n",
      "_________________________________________________________________\n",
      "activation_3 (Activation)    (None, 10)                0         \n",
      "=================================================================\n",
      "Total params: 118,282\n",
      "Trainable params: 118,282\n",
      "Non-trainable params: 0\n",
      "_________________________________________________________________\n"
     ]
    }
   ],
   "source": [
    "model.summary()"
   ]
  },
  {
   "cell_type": "code",
   "execution_count": 8,
   "metadata": {
    "collapsed": false
   },
   "outputs": [],
   "source": [
    "model.compile(loss=\"categorical_crossentropy\",\n",
    "              optimizer=SGD(),\n",
    "              metrics=[\"accuracy\"])"
   ]
  },
  {
   "cell_type": "code",
   "execution_count": 9,
   "metadata": {
    "collapsed": false
   },
   "outputs": [
    {
     "name": "stdout",
     "output_type": "stream",
     "text": [
      "Train on 48000 samples, validate on 12000 samples\n",
      "Epoch 1/200\n",
      "48000/48000 [==============================] - 2s - loss: 1.6240 - acc: 0.5149 - val_loss: 0.8382 - val_acc: 0.8323\n",
      "Epoch 2/200\n",
      "48000/48000 [==============================] - 2s - loss: 0.7845 - acc: 0.7704 - val_loss: 0.4898 - val_acc: 0.8777\n",
      "Epoch 3/200\n",
      "48000/48000 [==============================] - 2s - loss: 0.5906 - acc: 0.8240 - val_loss: 0.3973 - val_acc: 0.8924\n",
      "Epoch 4/200\n",
      "48000/48000 [==============================] - 2s - loss: 0.5066 - acc: 0.8494 - val_loss: 0.3522 - val_acc: 0.9018\n",
      "Epoch 5/200\n",
      "48000/48000 [==============================] - 2s - loss: 0.4573 - acc: 0.8647 - val_loss: 0.3247 - val_acc: 0.9093\n",
      "Epoch 6/200\n",
      "48000/48000 [==============================] - 2s - loss: 0.4236 - acc: 0.8744 - val_loss: 0.3035 - val_acc: 0.9135\n",
      "Epoch 7/200\n",
      "48000/48000 [==============================] - 2s - loss: 0.3967 - acc: 0.8824 - val_loss: 0.2871 - val_acc: 0.9167\n",
      "Epoch 8/200\n",
      "48000/48000 [==============================] - 2s - loss: 0.3756 - acc: 0.8902 - val_loss: 0.2731 - val_acc: 0.9209\n",
      "Epoch 9/200\n",
      "48000/48000 [==============================] - 2s - loss: 0.3571 - acc: 0.8941 - val_loss: 0.2620 - val_acc: 0.9243\n",
      "Epoch 10/200\n",
      "48000/48000 [==============================] - 2s - loss: 0.3432 - acc: 0.8991 - val_loss: 0.2526 - val_acc: 0.9275\n",
      "Epoch 11/200\n",
      "48000/48000 [==============================] - 2s - loss: 0.3280 - acc: 0.9040 - val_loss: 0.2429 - val_acc: 0.9306\n",
      "Epoch 12/200\n",
      "48000/48000 [==============================] - 2s - loss: 0.3176 - acc: 0.9070 - val_loss: 0.2338 - val_acc: 0.9327\n",
      "Epoch 13/200\n",
      "48000/48000 [==============================] - 2s - loss: 0.3062 - acc: 0.9104 - val_loss: 0.2259 - val_acc: 0.9349\n",
      "Epoch 14/200\n",
      "48000/48000 [==============================] - 2s - loss: 0.2952 - acc: 0.9130 - val_loss: 0.2197 - val_acc: 0.9361\n",
      "Epoch 15/200\n",
      "48000/48000 [==============================] - 2s - loss: 0.2846 - acc: 0.9158 - val_loss: 0.2127 - val_acc: 0.9383\n",
      "Epoch 16/200\n",
      "48000/48000 [==============================] - 2s - loss: 0.2778 - acc: 0.9186 - val_loss: 0.2068 - val_acc: 0.9392\n",
      "Epoch 17/200\n",
      "48000/48000 [==============================] - 2s - loss: 0.2668 - acc: 0.9212 - val_loss: 0.2010 - val_acc: 0.9417\n",
      "Epoch 18/200\n",
      "48000/48000 [==============================] - 2s - loss: 0.2577 - acc: 0.9242 - val_loss: 0.1957 - val_acc: 0.9434\n",
      "Epoch 19/200\n",
      "48000/48000 [==============================] - 2s - loss: 0.2557 - acc: 0.9257 - val_loss: 0.1908 - val_acc: 0.9447\n",
      "Epoch 20/200\n",
      "48000/48000 [==============================] - 2s - loss: 0.2463 - acc: 0.9274 - val_loss: 0.1869 - val_acc: 0.9458\n",
      "Epoch 21/200\n",
      "48000/48000 [==============================] - 2s - loss: 0.2407 - acc: 0.9289 - val_loss: 0.1819 - val_acc: 0.9478\n",
      "Epoch 22/200\n",
      "48000/48000 [==============================] - 2s - loss: 0.2378 - acc: 0.9299 - val_loss: 0.1787 - val_acc: 0.9480\n",
      "Epoch 23/200\n",
      "48000/48000 [==============================] - 2s - loss: 0.2283 - acc: 0.9325 - val_loss: 0.1746 - val_acc: 0.9488\n",
      "Epoch 24/200\n",
      "48000/48000 [==============================] - 2s - loss: 0.2260 - acc: 0.9341 - val_loss: 0.1714 - val_acc: 0.9506\n",
      "Epoch 25/200\n",
      "48000/48000 [==============================] - 2s - loss: 0.2185 - acc: 0.9350 - val_loss: 0.1679 - val_acc: 0.9519\n",
      "Epoch 26/200\n",
      "48000/48000 [==============================] - 2s - loss: 0.2177 - acc: 0.9371 - val_loss: 0.1649 - val_acc: 0.9520\n",
      "Epoch 27/200\n",
      "48000/48000 [==============================] - 2s - loss: 0.2085 - acc: 0.9389 - val_loss: 0.1614 - val_acc: 0.9533\n",
      "Epoch 28/200\n",
      "48000/48000 [==============================] - 2s - loss: 0.2061 - acc: 0.9394 - val_loss: 0.1586 - val_acc: 0.9533\n",
      "Epoch 29/200\n",
      "48000/48000 [==============================] - 2s - loss: 0.2051 - acc: 0.9390 - val_loss: 0.1564 - val_acc: 0.9546\n",
      "Epoch 30/200\n",
      "48000/48000 [==============================] - 2s - loss: 0.1986 - acc: 0.9417 - val_loss: 0.1538 - val_acc: 0.9547\n",
      "Epoch 31/200\n",
      "48000/48000 [==============================] - 2s - loss: 0.1962 - acc: 0.9421 - val_loss: 0.1517 - val_acc: 0.9564\n",
      "Epoch 32/200\n",
      "48000/48000 [==============================] - 2s - loss: 0.1911 - acc: 0.9436 - val_loss: 0.1491 - val_acc: 0.9565\n",
      "Epoch 33/200\n",
      "48000/48000 [==============================] - 2s - loss: 0.1873 - acc: 0.9446 - val_loss: 0.1463 - val_acc: 0.9573\n",
      "Epoch 34/200\n",
      "48000/48000 [==============================] - 2s - loss: 0.1816 - acc: 0.9463 - val_loss: 0.1440 - val_acc: 0.9584\n",
      "Epoch 35/200\n",
      "48000/48000 [==============================] - 2s - loss: 0.1822 - acc: 0.9463 - val_loss: 0.1432 - val_acc: 0.9583\n",
      "Epoch 36/200\n",
      "48000/48000 [==============================] - 2s - loss: 0.1777 - acc: 0.9479 - val_loss: 0.1404 - val_acc: 0.9591\n",
      "Epoch 37/200\n",
      "48000/48000 [==============================] - 2s - loss: 0.1781 - acc: 0.9472 - val_loss: 0.1393 - val_acc: 0.9593\n",
      "Epoch 38/200\n",
      "48000/48000 [==============================] - 2s - loss: 0.1719 - acc: 0.9503 - val_loss: 0.1377 - val_acc: 0.9597\n",
      "Epoch 39/200\n",
      "48000/48000 [==============================] - 2s - loss: 0.1695 - acc: 0.9501 - val_loss: 0.1359 - val_acc: 0.9603\n",
      "Epoch 40/200\n",
      "48000/48000 [==============================] - 2s - loss: 0.1697 - acc: 0.9499 - val_loss: 0.1335 - val_acc: 0.9612\n",
      "Epoch 41/200\n",
      "48000/48000 [==============================] - 2s - loss: 0.1645 - acc: 0.9506 - val_loss: 0.1324 - val_acc: 0.9614\n",
      "Epoch 42/200\n",
      "48000/48000 [==============================] - 2s - loss: 0.1657 - acc: 0.9505 - val_loss: 0.1308 - val_acc: 0.9617\n",
      "Epoch 43/200\n",
      "48000/48000 [==============================] - 2s - loss: 0.1610 - acc: 0.9511 - val_loss: 0.1288 - val_acc: 0.9623\n",
      "Epoch 44/200\n",
      "48000/48000 [==============================] - 2s - loss: 0.1599 - acc: 0.9528 - val_loss: 0.1285 - val_acc: 0.9623\n",
      "Epoch 45/200\n",
      "48000/48000 [==============================] - 2s - loss: 0.1577 - acc: 0.9527 - val_loss: 0.1266 - val_acc: 0.9622\n",
      "Epoch 46/200\n",
      "48000/48000 [==============================] - 2s - loss: 0.1540 - acc: 0.9547 - val_loss: 0.1253 - val_acc: 0.9628\n",
      "Epoch 47/200\n",
      "48000/48000 [==============================] - 2s - loss: 0.1539 - acc: 0.9548 - val_loss: 0.1249 - val_acc: 0.9627\n",
      "Epoch 48/200\n",
      "48000/48000 [==============================] - 2s - loss: 0.1496 - acc: 0.9558 - val_loss: 0.1237 - val_acc: 0.9632\n",
      "Epoch 49/200\n",
      "48000/48000 [==============================] - 2s - loss: 0.1509 - acc: 0.9556 - val_loss: 0.1223 - val_acc: 0.9636\n",
      "Epoch 50/200\n",
      "48000/48000 [==============================] - 2s - loss: 0.1478 - acc: 0.9564 - val_loss: 0.1210 - val_acc: 0.9642\n",
      "Epoch 51/200\n",
      "48000/48000 [==============================] - 2s - loss: 0.1440 - acc: 0.9571 - val_loss: 0.1204 - val_acc: 0.9640\n",
      "Epoch 52/200\n",
      "48000/48000 [==============================] - 2s - loss: 0.1445 - acc: 0.9572 - val_loss: 0.1191 - val_acc: 0.9645\n",
      "Epoch 53/200\n",
      "48000/48000 [==============================] - 2s - loss: 0.1420 - acc: 0.9585 - val_loss: 0.1179 - val_acc: 0.9648\n",
      "Epoch 54/200\n",
      "48000/48000 [==============================] - 2s - loss: 0.1398 - acc: 0.9583 - val_loss: 0.1173 - val_acc: 0.9649\n",
      "Epoch 55/200\n",
      "48000/48000 [==============================] - 2s - loss: 0.1391 - acc: 0.9585 - val_loss: 0.1155 - val_acc: 0.9656\n",
      "Epoch 56/200\n",
      "48000/48000 [==============================] - 2s - loss: 0.1393 - acc: 0.9583 - val_loss: 0.1145 - val_acc: 0.9667\n",
      "Epoch 57/200\n",
      "48000/48000 [==============================] - 2s - loss: 0.1358 - acc: 0.9598 - val_loss: 0.1143 - val_acc: 0.9665\n",
      "Epoch 58/200\n",
      "48000/48000 [==============================] - 2s - loss: 0.1346 - acc: 0.9597 - val_loss: 0.1134 - val_acc: 0.9661\n",
      "Epoch 59/200\n",
      "48000/48000 [==============================] - 2s - loss: 0.1334 - acc: 0.9601 - val_loss: 0.1125 - val_acc: 0.9669\n",
      "Epoch 60/200\n",
      "48000/48000 [==============================] - 2s - loss: 0.1302 - acc: 0.9615 - val_loss: 0.1114 - val_acc: 0.9671\n",
      "Epoch 61/200\n",
      "48000/48000 [==============================] - 2s - loss: 0.1319 - acc: 0.9610 - val_loss: 0.1110 - val_acc: 0.9664\n",
      "Epoch 62/200\n",
      "48000/48000 [==============================] - 2s - loss: 0.1288 - acc: 0.9617 - val_loss: 0.1104 - val_acc: 0.9670\n",
      "Epoch 63/200\n",
      "48000/48000 [==============================] - 2s - loss: 0.1284 - acc: 0.9622 - val_loss: 0.1097 - val_acc: 0.9679\n",
      "Epoch 64/200\n",
      "48000/48000 [==============================] - 2s - loss: 0.1238 - acc: 0.9635 - val_loss: 0.1091 - val_acc: 0.9679\n",
      "Epoch 65/200\n",
      "48000/48000 [==============================] - 2s - loss: 0.1236 - acc: 0.9632 - val_loss: 0.1083 - val_acc: 0.9688\n",
      "Epoch 66/200\n",
      "48000/48000 [==============================] - 2s - loss: 0.1256 - acc: 0.9622 - val_loss: 0.1071 - val_acc: 0.9686\n",
      "Epoch 67/200\n",
      "48000/48000 [==============================] - 2s - loss: 0.1230 - acc: 0.9633 - val_loss: 0.1065 - val_acc: 0.9691\n",
      "Epoch 68/200\n",
      "48000/48000 [==============================] - 2s - loss: 0.1216 - acc: 0.9638 - val_loss: 0.1060 - val_acc: 0.9688\n",
      "Epoch 69/200\n",
      "48000/48000 [==============================] - 2s - loss: 0.1208 - acc: 0.9631 - val_loss: 0.1056 - val_acc: 0.9691\n",
      "Epoch 70/200\n",
      "48000/48000 [==============================] - 2s - loss: 0.1183 - acc: 0.9655 - val_loss: 0.1052 - val_acc: 0.9698\n",
      "Epoch 71/200\n",
      "48000/48000 [==============================] - 2s - loss: 0.1166 - acc: 0.9649 - val_loss: 0.1048 - val_acc: 0.9695\n",
      "Epoch 72/200\n",
      "48000/48000 [==============================] - 2s - loss: 0.1155 - acc: 0.9660 - val_loss: 0.1040 - val_acc: 0.9693\n",
      "Epoch 73/200\n",
      "48000/48000 [==============================] - 2s - loss: 0.1166 - acc: 0.9656 - val_loss: 0.1033 - val_acc: 0.9699\n",
      "Epoch 74/200\n",
      "48000/48000 [==============================] - 2s - loss: 0.1149 - acc: 0.9649 - val_loss: 0.1029 - val_acc: 0.9701\n",
      "Epoch 75/200\n",
      "48000/48000 [==============================] - 2s - loss: 0.1143 - acc: 0.9662 - val_loss: 0.1026 - val_acc: 0.9706\n",
      "Epoch 76/200\n",
      "48000/48000 [==============================] - 2s - loss: 0.1136 - acc: 0.9664 - val_loss: 0.1021 - val_acc: 0.9702\n",
      "Epoch 77/200\n",
      "48000/48000 [==============================] - 2s - loss: 0.1096 - acc: 0.9663 - val_loss: 0.1014 - val_acc: 0.9703\n",
      "Epoch 78/200\n",
      "48000/48000 [==============================] - 2s - loss: 0.1089 - acc: 0.9676 - val_loss: 0.1004 - val_acc: 0.9708\n",
      "Epoch 79/200\n",
      "48000/48000 [==============================] - 2s - loss: 0.1105 - acc: 0.9668 - val_loss: 0.0999 - val_acc: 0.9705\n",
      "Epoch 80/200\n",
      "48000/48000 [==============================] - 2s - loss: 0.1104 - acc: 0.9681 - val_loss: 0.0994 - val_acc: 0.9709\n",
      "Epoch 81/200\n",
      "48000/48000 [==============================] - 2s - loss: 0.1091 - acc: 0.9679 - val_loss: 0.0994 - val_acc: 0.9714\n",
      "Epoch 82/200\n",
      "48000/48000 [==============================] - 2s - loss: 0.1074 - acc: 0.9679 - val_loss: 0.0985 - val_acc: 0.9711\n",
      "Epoch 83/200\n",
      "48000/48000 [==============================] - 2s - loss: 0.1059 - acc: 0.9682 - val_loss: 0.0982 - val_acc: 0.9707\n",
      "Epoch 84/200\n",
      "48000/48000 [==============================] - 2s - loss: 0.1040 - acc: 0.9687 - val_loss: 0.0976 - val_acc: 0.9713\n",
      "Epoch 85/200\n",
      "48000/48000 [==============================] - 2s - loss: 0.1043 - acc: 0.9686 - val_loss: 0.0972 - val_acc: 0.9713\n",
      "Epoch 86/200\n",
      "48000/48000 [==============================] - 2s - loss: 0.1038 - acc: 0.9684 - val_loss: 0.0971 - val_acc: 0.9713\n",
      "Epoch 87/200\n",
      "48000/48000 [==============================] - 2s - loss: 0.1019 - acc: 0.9692 - val_loss: 0.0967 - val_acc: 0.9724\n",
      "Epoch 88/200\n",
      "48000/48000 [==============================] - 2s - loss: 0.1027 - acc: 0.9694 - val_loss: 0.0963 - val_acc: 0.9720\n",
      "Epoch 89/200\n",
      "48000/48000 [==============================] - 2s - loss: 0.1002 - acc: 0.9704 - val_loss: 0.0962 - val_acc: 0.9721\n",
      "Epoch 90/200\n",
      "48000/48000 [==============================] - 2s - loss: 0.0987 - acc: 0.9709 - val_loss: 0.0956 - val_acc: 0.9723\n",
      "Epoch 91/200\n",
      "48000/48000 [==============================] - 2s - loss: 0.1000 - acc: 0.9702 - val_loss: 0.0952 - val_acc: 0.9724\n",
      "Epoch 92/200\n",
      "48000/48000 [==============================] - 2s - loss: 0.1004 - acc: 0.9695 - val_loss: 0.0945 - val_acc: 0.9726\n",
      "Epoch 93/200\n",
      "48000/48000 [==============================] - 2s - loss: 0.0947 - acc: 0.9718 - val_loss: 0.0945 - val_acc: 0.9725\n",
      "Epoch 94/200\n",
      "48000/48000 [==============================] - 2s - loss: 0.0976 - acc: 0.9710 - val_loss: 0.0939 - val_acc: 0.9728\n",
      "Epoch 95/200\n",
      "48000/48000 [==============================] - 2s - loss: 0.0972 - acc: 0.9710 - val_loss: 0.0937 - val_acc: 0.9727\n",
      "Epoch 96/200\n",
      "48000/48000 [==============================] - 2s - loss: 0.0973 - acc: 0.9705 - val_loss: 0.0932 - val_acc: 0.9729\n",
      "Epoch 97/200\n",
      "48000/48000 [==============================] - 2s - loss: 0.0944 - acc: 0.9721 - val_loss: 0.0928 - val_acc: 0.9727\n",
      "Epoch 98/200\n",
      "48000/48000 [==============================] - 2s - loss: 0.0940 - acc: 0.9714 - val_loss: 0.0920 - val_acc: 0.9730\n",
      "Epoch 99/200\n",
      "48000/48000 [==============================] - 2s - loss: 0.0930 - acc: 0.9717 - val_loss: 0.0919 - val_acc: 0.9731\n",
      "Epoch 100/200\n",
      "48000/48000 [==============================] - 2s - loss: 0.0911 - acc: 0.9729 - val_loss: 0.0914 - val_acc: 0.9731\n",
      "Epoch 101/200\n",
      "48000/48000 [==============================] - 2s - loss: 0.0939 - acc: 0.9724 - val_loss: 0.0918 - val_acc: 0.9733\n",
      "Epoch 102/200\n",
      "48000/48000 [==============================] - 2s - loss: 0.0892 - acc: 0.9741 - val_loss: 0.0912 - val_acc: 0.9730\n",
      "Epoch 103/200\n",
      "48000/48000 [==============================] - 2s - loss: 0.0904 - acc: 0.9732 - val_loss: 0.0917 - val_acc: 0.9728\n",
      "Epoch 104/200\n",
      "48000/48000 [==============================] - 2s - loss: 0.0905 - acc: 0.9729 - val_loss: 0.0908 - val_acc: 0.9732\n",
      "Epoch 105/200\n",
      "48000/48000 [==============================] - 2s - loss: 0.0921 - acc: 0.9724 - val_loss: 0.0906 - val_acc: 0.9729\n",
      "Epoch 106/200\n",
      "48000/48000 [==============================] - 2s - loss: 0.0877 - acc: 0.9731 - val_loss: 0.0898 - val_acc: 0.9734\n",
      "Epoch 107/200\n",
      "48000/48000 [==============================] - 2s - loss: 0.0878 - acc: 0.9734 - val_loss: 0.0902 - val_acc: 0.9733\n",
      "Epoch 108/200\n",
      "48000/48000 [==============================] - 2s - loss: 0.0870 - acc: 0.9735 - val_loss: 0.0899 - val_acc: 0.9735\n",
      "Epoch 109/200\n",
      "48000/48000 [==============================] - 2s - loss: 0.0869 - acc: 0.9740 - val_loss: 0.0893 - val_acc: 0.9735\n",
      "Epoch 110/200\n",
      "48000/48000 [==============================] - 2s - loss: 0.0853 - acc: 0.9746 - val_loss: 0.0889 - val_acc: 0.9738\n",
      "Epoch 111/200\n",
      "48000/48000 [==============================] - 2s - loss: 0.0849 - acc: 0.9744 - val_loss: 0.0891 - val_acc: 0.9734\n",
      "Epoch 112/200\n",
      "48000/48000 [==============================] - 2s - loss: 0.0851 - acc: 0.9744 - val_loss: 0.0888 - val_acc: 0.9739\n",
      "Epoch 113/200\n",
      "48000/48000 [==============================] - 2s - loss: 0.0857 - acc: 0.9733 - val_loss: 0.0887 - val_acc: 0.9733\n",
      "Epoch 114/200\n",
      "48000/48000 [==============================] - 2s - loss: 0.0835 - acc: 0.9746 - val_loss: 0.0881 - val_acc: 0.9738\n",
      "Epoch 115/200\n",
      "48000/48000 [==============================] - 2s - loss: 0.0835 - acc: 0.9747 - val_loss: 0.0883 - val_acc: 0.9738\n",
      "Epoch 116/200\n",
      "48000/48000 [==============================] - 2s - loss: 0.0830 - acc: 0.9749 - val_loss: 0.0877 - val_acc: 0.9742\n",
      "Epoch 117/200\n",
      "48000/48000 [==============================] - 2s - loss: 0.0823 - acc: 0.9752 - val_loss: 0.0875 - val_acc: 0.9739\n",
      "Epoch 118/200\n",
      "48000/48000 [==============================] - 2s - loss: 0.0826 - acc: 0.9760 - val_loss: 0.0877 - val_acc: 0.9741\n",
      "Epoch 119/200\n",
      "48000/48000 [==============================] - 2s - loss: 0.0814 - acc: 0.9753 - val_loss: 0.0876 - val_acc: 0.9743\n",
      "Epoch 120/200\n",
      "48000/48000 [==============================] - 2s - loss: 0.0800 - acc: 0.9750 - val_loss: 0.0872 - val_acc: 0.9742\n",
      "Epoch 121/200\n",
      "48000/48000 [==============================] - 2s - loss: 0.0774 - acc: 0.9767 - val_loss: 0.0868 - val_acc: 0.9741\n",
      "Epoch 122/200\n",
      "48000/48000 [==============================] - 2s - loss: 0.0772 - acc: 0.9770 - val_loss: 0.0868 - val_acc: 0.9744\n",
      "Epoch 123/200\n",
      "48000/48000 [==============================] - 2s - loss: 0.0798 - acc: 0.9761 - val_loss: 0.0863 - val_acc: 0.9743\n",
      "Epoch 124/200\n",
      "48000/48000 [==============================] - 2s - loss: 0.0779 - acc: 0.9766 - val_loss: 0.0866 - val_acc: 0.9743\n",
      "Epoch 125/200\n",
      "48000/48000 [==============================] - 2s - loss: 0.0775 - acc: 0.9761 - val_loss: 0.0864 - val_acc: 0.9746\n",
      "Epoch 126/200\n",
      "48000/48000 [==============================] - 2s - loss: 0.0787 - acc: 0.9759 - val_loss: 0.0857 - val_acc: 0.9750\n",
      "Epoch 127/200\n",
      "48000/48000 [==============================] - 2s - loss: 0.0768 - acc: 0.9767 - val_loss: 0.0855 - val_acc: 0.9747\n",
      "Epoch 128/200\n",
      "48000/48000 [==============================] - 2s - loss: 0.0762 - acc: 0.9769 - val_loss: 0.0856 - val_acc: 0.9742\n",
      "Epoch 129/200\n",
      "48000/48000 [==============================] - 2s - loss: 0.0770 - acc: 0.9768 - val_loss: 0.0856 - val_acc: 0.9741\n",
      "Epoch 130/200\n",
      "48000/48000 [==============================] - 2s - loss: 0.0752 - acc: 0.9771 - val_loss: 0.0850 - val_acc: 0.9745\n",
      "Epoch 131/200\n",
      "48000/48000 [==============================] - 2s - loss: 0.0746 - acc: 0.9771 - val_loss: 0.0848 - val_acc: 0.9749\n",
      "Epoch 132/200\n",
      "48000/48000 [==============================] - 2s - loss: 0.0751 - acc: 0.9773 - val_loss: 0.0843 - val_acc: 0.9752\n",
      "Epoch 133/200\n",
      "48000/48000 [==============================] - 2s - loss: 0.0745 - acc: 0.9773 - val_loss: 0.0847 - val_acc: 0.9747\n",
      "Epoch 134/200\n",
      "48000/48000 [==============================] - 2s - loss: 0.0738 - acc: 0.9774 - val_loss: 0.0843 - val_acc: 0.9751\n",
      "Epoch 135/200\n",
      "48000/48000 [==============================] - 2s - loss: 0.0751 - acc: 0.9770 - val_loss: 0.0840 - val_acc: 0.9748\n",
      "Epoch 136/200\n",
      "48000/48000 [==============================] - 2s - loss: 0.0739 - acc: 0.9775 - val_loss: 0.0837 - val_acc: 0.9748\n",
      "Epoch 137/200\n",
      "48000/48000 [==============================] - 2s - loss: 0.0709 - acc: 0.9788 - val_loss: 0.0838 - val_acc: 0.9753\n",
      "Epoch 138/200\n",
      "48000/48000 [==============================] - 2s - loss: 0.0716 - acc: 0.9782 - val_loss: 0.0837 - val_acc: 0.9758\n",
      "Epoch 139/200\n",
      "48000/48000 [==============================] - 2s - loss: 0.0713 - acc: 0.9784 - val_loss: 0.0838 - val_acc: 0.9752\n",
      "Epoch 140/200\n",
      "48000/48000 [==============================] - 2s - loss: 0.0717 - acc: 0.9778 - val_loss: 0.0833 - val_acc: 0.9755\n",
      "Epoch 141/200\n",
      "48000/48000 [==============================] - 2s - loss: 0.0699 - acc: 0.9793 - val_loss: 0.0833 - val_acc: 0.9754\n",
      "Epoch 142/200\n",
      "48000/48000 [==============================] - 2s - loss: 0.0708 - acc: 0.9785 - val_loss: 0.0832 - val_acc: 0.9758\n",
      "Epoch 143/200\n",
      "48000/48000 [==============================] - 2s - loss: 0.0688 - acc: 0.9799 - val_loss: 0.0830 - val_acc: 0.9757\n",
      "Epoch 144/200\n",
      "48000/48000 [==============================] - 2s - loss: 0.0708 - acc: 0.9783 - val_loss: 0.0828 - val_acc: 0.9757\n",
      "Epoch 145/200\n",
      "48000/48000 [==============================] - 2s - loss: 0.0688 - acc: 0.9786 - val_loss: 0.0831 - val_acc: 0.9757\n",
      "Epoch 146/200\n",
      "48000/48000 [==============================] - 2s - loss: 0.0691 - acc: 0.9791 - val_loss: 0.0832 - val_acc: 0.9758\n",
      "Epoch 147/200\n",
      "48000/48000 [==============================] - 2s - loss: 0.0666 - acc: 0.9801 - val_loss: 0.0823 - val_acc: 0.9764\n",
      "Epoch 148/200\n",
      "48000/48000 [==============================] - 2s - loss: 0.0664 - acc: 0.9801 - val_loss: 0.0824 - val_acc: 0.9765\n",
      "Epoch 149/200\n",
      "48000/48000 [==============================] - 2s - loss: 0.0668 - acc: 0.9795 - val_loss: 0.0828 - val_acc: 0.9763\n",
      "Epoch 150/200\n",
      "48000/48000 [==============================] - 2s - loss: 0.0667 - acc: 0.9798 - val_loss: 0.0828 - val_acc: 0.9760\n",
      "Epoch 151/200\n",
      "48000/48000 [==============================] - 2s - loss: 0.0677 - acc: 0.9784 - val_loss: 0.0821 - val_acc: 0.9761\n",
      "Epoch 152/200\n",
      "48000/48000 [==============================] - 2s - loss: 0.0648 - acc: 0.9806 - val_loss: 0.0819 - val_acc: 0.9758\n",
      "Epoch 153/200\n",
      "48000/48000 [==============================] - 2s - loss: 0.0657 - acc: 0.9803 - val_loss: 0.0822 - val_acc: 0.9759\n",
      "Epoch 154/200\n",
      "48000/48000 [==============================] - 2s - loss: 0.0654 - acc: 0.9806 - val_loss: 0.0821 - val_acc: 0.9764\n",
      "Epoch 155/200\n",
      "48000/48000 [==============================] - 2s - loss: 0.0649 - acc: 0.9801 - val_loss: 0.0822 - val_acc: 0.9763\n",
      "Epoch 156/200\n",
      "48000/48000 [==============================] - 2s - loss: 0.0661 - acc: 0.9801 - val_loss: 0.0823 - val_acc: 0.9757\n",
      "Epoch 157/200\n",
      "48000/48000 [==============================] - 2s - loss: 0.0646 - acc: 0.9805 - val_loss: 0.0818 - val_acc: 0.9758\n",
      "Epoch 158/200\n",
      "48000/48000 [==============================] - 2s - loss: 0.0655 - acc: 0.9806 - val_loss: 0.0815 - val_acc: 0.9755\n",
      "Epoch 159/200\n",
      "48000/48000 [==============================] - 2s - loss: 0.0634 - acc: 0.9808 - val_loss: 0.0811 - val_acc: 0.9763\n",
      "Epoch 160/200\n",
      "48000/48000 [==============================] - 2s - loss: 0.0631 - acc: 0.9807 - val_loss: 0.0814 - val_acc: 0.9761\n",
      "Epoch 161/200\n",
      "48000/48000 [==============================] - 2s - loss: 0.0615 - acc: 0.9810 - val_loss: 0.0814 - val_acc: 0.9765\n",
      "Epoch 162/200\n",
      "48000/48000 [==============================] - 2s - loss: 0.0631 - acc: 0.9808 - val_loss: 0.0809 - val_acc: 0.9762\n",
      "Epoch 163/200\n",
      "48000/48000 [==============================] - 2s - loss: 0.0623 - acc: 0.9808 - val_loss: 0.0811 - val_acc: 0.9767\n",
      "Epoch 164/200\n",
      "48000/48000 [==============================] - 2s - loss: 0.0626 - acc: 0.9804 - val_loss: 0.0809 - val_acc: 0.9763\n",
      "Epoch 165/200\n",
      "48000/48000 [==============================] - 2s - loss: 0.0615 - acc: 0.9814 - val_loss: 0.0811 - val_acc: 0.9763\n",
      "Epoch 166/200\n",
      "48000/48000 [==============================] - 2s - loss: 0.0626 - acc: 0.9809 - val_loss: 0.0810 - val_acc: 0.9768\n",
      "Epoch 167/200\n",
      "48000/48000 [==============================] - 2s - loss: 0.0613 - acc: 0.9815 - val_loss: 0.0803 - val_acc: 0.9764\n",
      "Epoch 168/200\n",
      "48000/48000 [==============================] - 2s - loss: 0.0599 - acc: 0.9810 - val_loss: 0.0811 - val_acc: 0.9767\n",
      "Epoch 169/200\n",
      "48000/48000 [==============================] - 2s - loss: 0.0613 - acc: 0.9807 - val_loss: 0.0807 - val_acc: 0.9765\n",
      "Epoch 170/200\n",
      "48000/48000 [==============================] - 2s - loss: 0.0603 - acc: 0.9821 - val_loss: 0.0798 - val_acc: 0.9766\n",
      "Epoch 171/200\n",
      "48000/48000 [==============================] - 2s - loss: 0.0605 - acc: 0.9818 - val_loss: 0.0807 - val_acc: 0.9769\n",
      "Epoch 172/200\n",
      "48000/48000 [==============================] - 2s - loss: 0.0593 - acc: 0.9816 - val_loss: 0.0802 - val_acc: 0.9768\n",
      "Epoch 173/200\n",
      "48000/48000 [==============================] - 2s - loss: 0.0588 - acc: 0.9821 - val_loss: 0.0799 - val_acc: 0.9768\n",
      "Epoch 174/200\n",
      "48000/48000 [==============================] - 2s - loss: 0.0601 - acc: 0.9820 - val_loss: 0.0798 - val_acc: 0.9774\n",
      "Epoch 175/200\n",
      "48000/48000 [==============================] - 2s - loss: 0.0586 - acc: 0.9815 - val_loss: 0.0801 - val_acc: 0.9770\n",
      "Epoch 176/200\n",
      "48000/48000 [==============================] - 2s - loss: 0.0577 - acc: 0.9825 - val_loss: 0.0798 - val_acc: 0.9772\n",
      "Epoch 177/200\n",
      "48000/48000 [==============================] - 2s - loss: 0.0578 - acc: 0.9822 - val_loss: 0.0804 - val_acc: 0.9770\n",
      "Epoch 178/200\n",
      "48000/48000 [==============================] - 2s - loss: 0.0580 - acc: 0.9824 - val_loss: 0.0799 - val_acc: 0.9766\n",
      "Epoch 179/200\n",
      "48000/48000 [==============================] - 2s - loss: 0.0577 - acc: 0.9821 - val_loss: 0.0799 - val_acc: 0.9768\n",
      "Epoch 180/200\n",
      "48000/48000 [==============================] - 2s - loss: 0.0574 - acc: 0.9829 - val_loss: 0.0798 - val_acc: 0.9768\n",
      "Epoch 181/200\n",
      "48000/48000 [==============================] - 2s - loss: 0.0578 - acc: 0.9818 - val_loss: 0.0794 - val_acc: 0.9768\n",
      "Epoch 182/200\n",
      "48000/48000 [==============================] - 2s - loss: 0.0565 - acc: 0.9817 - val_loss: 0.0795 - val_acc: 0.9769\n",
      "Epoch 183/200\n",
      "48000/48000 [==============================] - 2s - loss: 0.0566 - acc: 0.9821 - val_loss: 0.0795 - val_acc: 0.9771\n",
      "Epoch 184/200\n",
      "48000/48000 [==============================] - 2s - loss: 0.0557 - acc: 0.9821 - val_loss: 0.0788 - val_acc: 0.9770\n",
      "Epoch 185/200\n",
      "48000/48000 [==============================] - 2s - loss: 0.0568 - acc: 0.9823 - val_loss: 0.0794 - val_acc: 0.9772\n",
      "Epoch 186/200\n",
      "48000/48000 [==============================] - 2s - loss: 0.0560 - acc: 0.9824 - val_loss: 0.0791 - val_acc: 0.9773\n",
      "Epoch 187/200\n",
      "48000/48000 [==============================] - 2s - loss: 0.0553 - acc: 0.9826 - val_loss: 0.0799 - val_acc: 0.9769\n",
      "Epoch 188/200\n",
      "48000/48000 [==============================] - 2s - loss: 0.0548 - acc: 0.9828 - val_loss: 0.0790 - val_acc: 0.9769\n",
      "Epoch 189/200\n",
      "48000/48000 [==============================] - 2s - loss: 0.0557 - acc: 0.9827 - val_loss: 0.0798 - val_acc: 0.9773\n",
      "Epoch 190/200\n",
      "48000/48000 [==============================] - 2s - loss: 0.0543 - acc: 0.9835 - val_loss: 0.0790 - val_acc: 0.9770\n",
      "Epoch 191/200\n",
      "48000/48000 [==============================] - 2s - loss: 0.0553 - acc: 0.9831 - val_loss: 0.0788 - val_acc: 0.9769\n",
      "Epoch 192/200\n",
      "48000/48000 [==============================] - 2s - loss: 0.0538 - acc: 0.9834 - val_loss: 0.0794 - val_acc: 0.9771\n",
      "Epoch 193/200\n",
      "48000/48000 [==============================] - 2s - loss: 0.0562 - acc: 0.9821 - val_loss: 0.0786 - val_acc: 0.9768\n",
      "Epoch 194/200\n",
      "48000/48000 [==============================] - 2s - loss: 0.0545 - acc: 0.9829 - val_loss: 0.0789 - val_acc: 0.9771\n",
      "Epoch 195/200\n",
      "48000/48000 [==============================] - 2s - loss: 0.0535 - acc: 0.9836 - val_loss: 0.0792 - val_acc: 0.9767\n",
      "Epoch 196/200\n",
      "48000/48000 [==============================] - 2s - loss: 0.0532 - acc: 0.9837 - val_loss: 0.0791 - val_acc: 0.9772\n",
      "Epoch 197/200\n",
      "48000/48000 [==============================] - 2s - loss: 0.0535 - acc: 0.9832 - val_loss: 0.0788 - val_acc: 0.9769\n",
      "Epoch 198/200\n",
      "48000/48000 [==============================] - 2s - loss: 0.0521 - acc: 0.9838 - val_loss: 0.0786 - val_acc: 0.9777\n",
      "Epoch 199/200\n",
      "48000/48000 [==============================] - 2s - loss: 0.0522 - acc: 0.9838 - val_loss: 0.0787 - val_acc: 0.9776\n",
      "Epoch 200/200\n",
      "48000/48000 [==============================] - 2s - loss: 0.0522 - acc: 0.9838 - val_loss: 0.0786 - val_acc: 0.9778\n"
     ]
    }
   ],
   "source": [
    "time_start = time.clock()\n",
    "history = model.fit(X_train, y_train,\n",
    "                    batch_size=128,\n",
    "                    epochs=200,\n",
    "                    verbose=1,\n",
    "                    validation_split=0.2)\n",
    "time_end = time.clock()"
   ]
  },
  {
   "cell_type": "code",
   "execution_count": 10,
   "metadata": {
    "collapsed": false
   },
   "outputs": [
    {
     "name": "stdout",
     "output_type": "stream",
     "text": [
      "Time to train\n",
      "Time elapsed in seconds : 447\n",
      "Time elapsed in minutes : 7.4\n",
      "Time elapsed in hours   : 0.1\n"
     ]
    }
   ],
   "source": [
    "duration = time_end - time_start\n",
    "print(\"Time to train\")\n",
    "print(\"Time elapsed in seconds : %.0f\" % duration)\n",
    "print(\"Time elapsed in minutes : %.1f\" % (duration/60))\n",
    "print(\"Time elapsed in hours   : %.1f\" % (duration/3600))"
   ]
  },
  {
   "cell_type": "code",
   "execution_count": 11,
   "metadata": {
    "collapsed": false
   },
   "outputs": [
    {
     "name": "stdout",
     "output_type": "stream",
     "text": [
      " 8768/10000 [=========================>....] - ETA: 0s\n",
      "Test score: 0.0708483415683\n",
      "Test accuracy: 0.9788\n"
     ]
    }
   ],
   "source": [
    "score = model.evaluate(X_test, y_test,\n",
    "                       verbose=1)\n",
    "print(\"\")\n",
    "print(\"Test score:\", score[0])\n",
    "print(\"Test accuracy:\", score[1])"
   ]
  },
  {
   "cell_type": "code",
   "execution_count": 12,
   "metadata": {
    "collapsed": false
   },
   "outputs": [
    {
     "name": "stdout",
     "output_type": "stream",
     "text": [
      "dict_keys(['acc', 'val_acc', 'loss', 'val_loss'])\n"
     ]
    }
   ],
   "source": [
    "# list all data in history\n",
    "print(history.history.keys())"
   ]
  },
  {
   "cell_type": "code",
   "execution_count": 13,
   "metadata": {
    "collapsed": false
   },
   "outputs": [
    {
     "data": {
      "image/png": "[encoded data removed]",
      "text/plain": [
       "<matplotlib.figure.Figure at 0x1cf4b241668>"
      ]
     },
     "metadata": {},
     "output_type": "display_data"
    }
   ],
   "source": [
    "# Accuracy\n",
    "plt.plot(history.history[\"acc\"])\n",
    "plt.plot(history.history[\"val_acc\"])\n",
    "plt.title(\"model accuracy\")\n",
    "plt.ylabel(\"accuracy\")\n",
    "plt.xlabel(\"epoch\")\n",
    "plt.legend([\"train\", \"test\"], loc=\"lower left\")\n",
    "plt.show()"
   ]
  },
  {
   "cell_type": "code",
   "execution_count": 14,
   "metadata": {
    "collapsed": false
   },
   "outputs": [
    {
     "data": {
      "image/png": "[encoded data removed]",
      "text/plain": [
       "<matplotlib.figure.Figure at 0x1cf4b476748>"
      ]
     },
     "metadata": {},
     "output_type": "display_data"
    }
   ],
   "source": [
    "# Loss\n",
    "plt.plot(history.history[\"loss\"])\n",
    "plt.plot(history.history[\"val_loss\"])\n",
    "plt.title(\"model loss\")\n",
    "plt.ylabel(\"loss\")\n",
    "plt.xlabel(\"epoch\")\n",
    "plt.legend([\"train\", \"test\"], loc=\"upper left\")\n",
    "plt.show()"
   ]
  }
 ],
 "metadata": {
  "anaconda-cloud": {},
  "kernelspec": {
   "display_name": "Python [default]",
   "language": "python",
   "name": "python3"
  },
  "language_info": {
   "codemirror_mode": {
    "name": "ipython",
    "version": 3
   },
   "file_extension": ".py",
   "mimetype": "text/x-python",
   "name": "python",
   "nbconvert_exporter": "python",
   "pygments_lexer": "ipython3",
   "version": "3.5.2"
  }
 },
 "nbformat": 4,
 "nbformat_minor": 1
}
