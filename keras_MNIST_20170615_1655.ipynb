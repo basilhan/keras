{
 "cells": [
  {
   "cell_type": "code",
   "execution_count": 1,
   "metadata": {
    "collapsed": false
   },
   "outputs": [
    {
     "name": "stderr",
     "output_type": "stream",
     "text": [
      "Using TensorFlow backend.\n"
     ]
    }
   ],
   "source": [
    "import numpy as np\n",
    "import matplotlib.pyplot as plt\n",
    "import time\n",
    "from keras.datasets import mnist\n",
    "from keras.models import Sequential\n",
    "from keras.layers.core import Dense, Dropout, Activation\n",
    "from keras.optimizers import SGD, Adam, RMSprop\n",
    "from keras.utils import np_utils\n",
    "from tensorflow import set_random_seed"
   ]
  },
  {
   "cell_type": "code",
   "execution_count": 2,
   "metadata": {
    "collapsed": false
   },
   "outputs": [],
   "source": [
    "np.random.seed(2015)\n",
    "set_random_seed(2015)"
   ]
  },
  {
   "cell_type": "code",
   "execution_count": 3,
   "metadata": {
    "collapsed": false
   },
   "outputs": [],
   "source": [
    "# Load data\n",
    "(X_train, y_train), (X_test, y_test) = mnist.load_data()"
   ]
  },
  {
   "cell_type": "code",
   "execution_count": 4,
   "metadata": {
    "collapsed": false
   },
   "outputs": [
    {
     "name": "stdout",
     "output_type": "stream",
     "text": [
      "60000 training samples\n",
      "10000 testing samples\n"
     ]
    }
   ],
   "source": [
    "# Preprocessing\n",
    "X_train = X_train.reshape(60000, 784)\n",
    "X_test  = X_test.reshape(10000, 784)\n",
    "X_train = X_train.astype(\"float32\")\n",
    "X_test  = X_test.astype(\"float32\")\n",
    "X_train /= 255\n",
    "X_test  /= 255\n",
    "print(X_train.shape[0], \"training samples\")\n",
    "print(X_test.shape[0], \"testing samples\")"
   ]
  },
  {
   "cell_type": "code",
   "execution_count": 5,
   "metadata": {
    "collapsed": true
   },
   "outputs": [],
   "source": [
    "# Convert labels to one-hot coding\n",
    "# e.g. 1 -> array([ 0.,  1.,  0.,  0.,  0.,  0.,  0.,  0.,  0.,  0.])\n",
    "y_train = np_utils.to_categorical(y_train, 10)\n",
    "y_test = np_utils.to_categorical(y_test, 10)"
   ]
  },
  {
   "cell_type": "markdown",
   "metadata": {},
   "source": [
    "The argument *input_dim* is equivalent to *input_shape* ([reference](https://keras.io/getting-started/sequential-model-guide/))."
   ]
  },
  {
   "cell_type": "code",
   "execution_count": 6,
   "metadata": {
    "collapsed": false
   },
   "outputs": [],
   "source": [
    "# Define the model\n",
    "model = Sequential([\n",
    "        Dense(128, input_dim=784), Activation(\"relu\"), Dropout(0.3),\n",
    "        Dense(128), Activation(\"relu\"), Dropout(0.3),\n",
    "        Dense(10), Activation(\"softmax\")\n",
    "    ])"
   ]
  },
  {
   "cell_type": "code",
   "execution_count": 7,
   "metadata": {
    "collapsed": false
   },
   "outputs": [
    {
     "name": "stdout",
     "output_type": "stream",
     "text": [
      "_________________________________________________________________\n",
      "Layer (type)                 Output Shape              Param #   \n",
      "=================================================================\n",
      "dense_1 (Dense)              (None, 128)               100480    \n",
      "_________________________________________________________________\n",
      "activation_1 (Activation)    (None, 128)               0         \n",
      "_________________________________________________________________\n",
      "dropout_1 (Dropout)          (None, 128)               0         \n",
      "_________________________________________________________________\n",
      "dense_2 (Dense)              (None, 128)               16512     \n",
      "_________________________________________________________________\n",
      "activation_2 (Activation)    (None, 128)               0         \n",
      "_________________________________________________________________\n",
      "dropout_2 (Dropout)          (None, 128)               0         \n",
      "_________________________________________________________________\n",
      "dense_3 (Dense)              (None, 10)                1290      \n",
      "_________________________________________________________________\n",
      "activation_3 (Activation)    (None, 10)                0         \n",
      "=================================================================\n",
      "Total params: 118,282\n",
      "Trainable params: 118,282\n",
      "Non-trainable params: 0\n",
      "_________________________________________________________________\n"
     ]
    }
   ],
   "source": [
    "model.summary()"
   ]
  },
  {
   "cell_type": "code",
   "execution_count": 8,
   "metadata": {
    "collapsed": true
   },
   "outputs": [],
   "source": [
    "model.compile(loss=\"categorical_crossentropy\",\n",
    "              optimizer=SGD(),\n",
    "              metrics=[\"accuracy\"])"
   ]
  },
  {
   "cell_type": "code",
   "execution_count": 9,
   "metadata": {
    "collapsed": false
   },
   "outputs": [
    {
     "name": "stdout",
     "output_type": "stream",
     "text": [
      "Train on 48000 samples, validate on 12000 samples\n",
      "Epoch 1/200\n",
      "48000/48000 [==============================] - 3s - loss: 1.7362 - acc: 0.4413 - val_loss: 0.9496 - val_acc: 0.8172\n",
      "Epoch 2/200\n",
      "48000/48000 [==============================] - 3s - loss: 0.9365 - acc: 0.7098 - val_loss: 0.5411 - val_acc: 0.8687\n",
      "Epoch 3/200\n",
      "48000/48000 [==============================] - 2s - loss: 0.6992 - acc: 0.7844 - val_loss: 0.4281 - val_acc: 0.8871\n",
      "Epoch 4/200\n",
      "48000/48000 [==============================] - 2s - loss: 0.5976 - acc: 0.8182 - val_loss: 0.3733 - val_acc: 0.8969\n",
      "Epoch 5/200\n",
      "48000/48000 [==============================] - 2s - loss: 0.5313 - acc: 0.8394 - val_loss: 0.3407 - val_acc: 0.9058\n",
      "Epoch 6/200\n",
      "48000/48000 [==============================] - 2s - loss: 0.4880 - acc: 0.8542 - val_loss: 0.3161 - val_acc: 0.9116\n",
      "Epoch 7/200\n",
      "48000/48000 [==============================] - 2s - loss: 0.4582 - acc: 0.8627 - val_loss: 0.2990 - val_acc: 0.9141\n",
      "Epoch 8/200\n",
      "48000/48000 [==============================] - 2s - loss: 0.4290 - acc: 0.8734 - val_loss: 0.2830 - val_acc: 0.9176\n",
      "Epoch 9/200\n",
      "48000/48000 [==============================] - 2s - loss: 0.4124 - acc: 0.8756 - val_loss: 0.2711 - val_acc: 0.9216\n",
      "Epoch 10/200\n",
      "48000/48000 [==============================] - 2s - loss: 0.3933 - acc: 0.8838 - val_loss: 0.2612 - val_acc: 0.9244\n",
      "Epoch 11/200\n",
      "48000/48000 [==============================] - 2s - loss: 0.3760 - acc: 0.8907 - val_loss: 0.2511 - val_acc: 0.9267\n",
      "Epoch 12/200\n",
      "48000/48000 [==============================] - 2s - loss: 0.3658 - acc: 0.8921 - val_loss: 0.2417 - val_acc: 0.9296\n",
      "Epoch 13/200\n",
      "48000/48000 [==============================] - 2s - loss: 0.3496 - acc: 0.8967 - val_loss: 0.2331 - val_acc: 0.9332\n",
      "Epoch 14/200\n",
      "48000/48000 [==============================] - 2s - loss: 0.3412 - acc: 0.9001 - val_loss: 0.2275 - val_acc: 0.9342\n",
      "Epoch 15/200\n",
      "48000/48000 [==============================] - 2s - loss: 0.3279 - acc: 0.9032 - val_loss: 0.2194 - val_acc: 0.9364\n",
      "Epoch 16/200\n",
      "48000/48000 [==============================] - 2s - loss: 0.3183 - acc: 0.9079 - val_loss: 0.2144 - val_acc: 0.9370\n",
      "Epoch 17/200\n",
      "48000/48000 [==============================] - 2s - loss: 0.3106 - acc: 0.9083 - val_loss: 0.2080 - val_acc: 0.9404\n",
      "Epoch 18/200\n",
      "48000/48000 [==============================] - 2s - loss: 0.2998 - acc: 0.9124 - val_loss: 0.2031 - val_acc: 0.9402\n",
      "Epoch 19/200\n",
      "48000/48000 [==============================] - 2s - loss: 0.2973 - acc: 0.9141 - val_loss: 0.1981 - val_acc: 0.9427\n",
      "Epoch 20/200\n",
      "48000/48000 [==============================] - 2s - loss: 0.2866 - acc: 0.9156 - val_loss: 0.1941 - val_acc: 0.9434\n",
      "Epoch 21/200\n",
      "48000/48000 [==============================] - 2s - loss: 0.2801 - acc: 0.9172 - val_loss: 0.1894 - val_acc: 0.9451\n",
      "Epoch 22/200\n",
      "48000/48000 [==============================] - 2s - loss: 0.2740 - acc: 0.9193 - val_loss: 0.1860 - val_acc: 0.9458\n",
      "Epoch 23/200\n",
      "48000/48000 [==============================] - 2s - loss: 0.2686 - acc: 0.9209 - val_loss: 0.1816 - val_acc: 0.9474\n",
      "Epoch 24/200\n",
      "48000/48000 [==============================] - 2s - loss: 0.2649 - acc: 0.9226 - val_loss: 0.1779 - val_acc: 0.9488\n",
      "Epoch 25/200\n",
      "48000/48000 [==============================] - 2s - loss: 0.2573 - acc: 0.9240 - val_loss: 0.1751 - val_acc: 0.9497\n",
      "Epoch 26/200\n",
      "48000/48000 [==============================] - 2s - loss: 0.2567 - acc: 0.9254 - val_loss: 0.1721 - val_acc: 0.9501\n",
      "Epoch 27/200\n",
      "48000/48000 [==============================] - 2s - loss: 0.2474 - acc: 0.9263 - val_loss: 0.1683 - val_acc: 0.9517\n",
      "Epoch 28/200\n",
      "48000/48000 [==============================] - 2s - loss: 0.2446 - acc: 0.9279 - val_loss: 0.1658 - val_acc: 0.9513\n",
      "Epoch 29/200\n",
      "48000/48000 [==============================] - 2s - loss: 0.2436 - acc: 0.9287 - val_loss: 0.1636 - val_acc: 0.9524\n",
      "Epoch 30/200\n",
      "48000/48000 [==============================] - 2s - loss: 0.2366 - acc: 0.9315 - val_loss: 0.1608 - val_acc: 0.9535\n",
      "Epoch 31/200\n",
      "48000/48000 [==============================] - 2s - loss: 0.2291 - acc: 0.9323 - val_loss: 0.1583 - val_acc: 0.9539\n",
      "Epoch 32/200\n",
      "48000/48000 [==============================] - 2s - loss: 0.2260 - acc: 0.9327 - val_loss: 0.1557 - val_acc: 0.9548\n",
      "Epoch 33/200\n",
      "48000/48000 [==============================] - 2s - loss: 0.2252 - acc: 0.9331 - val_loss: 0.1531 - val_acc: 0.9558\n",
      "Epoch 34/200\n",
      "48000/48000 [==============================] - 2s - loss: 0.2176 - acc: 0.9363 - val_loss: 0.1503 - val_acc: 0.9565\n",
      "Epoch 35/200\n",
      "48000/48000 [==============================] - 2s - loss: 0.2176 - acc: 0.9343 - val_loss: 0.1495 - val_acc: 0.9565\n",
      "Epoch 36/200\n",
      "48000/48000 [==============================] - 2s - loss: 0.2141 - acc: 0.9374 - val_loss: 0.1473 - val_acc: 0.9567\n",
      "Epoch 37/200\n",
      "48000/48000 [==============================] - 2s - loss: 0.2146 - acc: 0.9356 - val_loss: 0.1460 - val_acc: 0.9569\n",
      "Epoch 38/200\n",
      "48000/48000 [==============================] - 2s - loss: 0.2098 - acc: 0.9379 - val_loss: 0.1439 - val_acc: 0.9582\n",
      "Epoch 39/200\n",
      "48000/48000 [==============================] - 2s - loss: 0.2044 - acc: 0.9394 - val_loss: 0.1425 - val_acc: 0.9585\n",
      "Epoch 40/200\n",
      "48000/48000 [==============================] - 2s - loss: 0.2036 - acc: 0.9400 - val_loss: 0.1401 - val_acc: 0.9598\n",
      "Epoch 41/200\n",
      "48000/48000 [==============================] - 2s - loss: 0.2002 - acc: 0.9397 - val_loss: 0.1389 - val_acc: 0.9597\n",
      "Epoch 42/200\n",
      "48000/48000 [==============================] - 2s - loss: 0.1981 - acc: 0.9412 - val_loss: 0.1367 - val_acc: 0.9603\n",
      "Epoch 43/200\n",
      "48000/48000 [==============================] - 2s - loss: 0.1968 - acc: 0.9400 - val_loss: 0.1346 - val_acc: 0.9611\n",
      "Epoch 44/200\n",
      "48000/48000 [==============================] - 2s - loss: 0.1951 - acc: 0.9435 - val_loss: 0.1341 - val_acc: 0.9612\n",
      "Epoch 45/200\n",
      "48000/48000 [==============================] - 2s - loss: 0.1889 - acc: 0.9445 - val_loss: 0.1322 - val_acc: 0.9617\n",
      "Epoch 46/200\n",
      "48000/48000 [==============================] - 2s - loss: 0.1889 - acc: 0.9436 - val_loss: 0.1306 - val_acc: 0.9623\n",
      "Epoch 47/200\n",
      "48000/48000 [==============================] - 2s - loss: 0.1844 - acc: 0.9459 - val_loss: 0.1301 - val_acc: 0.9616\n",
      "Epoch 48/200\n",
      "48000/48000 [==============================] - 2s - loss: 0.1836 - acc: 0.9459 - val_loss: 0.1290 - val_acc: 0.9624\n",
      "Epoch 49/200\n",
      "48000/48000 [==============================] - 2s - loss: 0.1844 - acc: 0.9461 - val_loss: 0.1277 - val_acc: 0.9632\n",
      "Epoch 50/200\n",
      "48000/48000 [==============================] - 2s - loss: 0.1786 - acc: 0.9471 - val_loss: 0.1258 - val_acc: 0.9632\n",
      "Epoch 51/200\n",
      "48000/48000 [==============================] - 2s - loss: 0.1766 - acc: 0.9478 - val_loss: 0.1249 - val_acc: 0.9637\n",
      "Epoch 52/200\n",
      "48000/48000 [==============================] - 2s - loss: 0.1774 - acc: 0.9472 - val_loss: 0.1233 - val_acc: 0.9641\n",
      "Epoch 53/200\n",
      "48000/48000 [==============================] - 2s - loss: 0.1736 - acc: 0.9479 - val_loss: 0.1227 - val_acc: 0.9648\n",
      "Epoch 54/200\n",
      "48000/48000 [==============================] - 2s - loss: 0.1699 - acc: 0.9499 - val_loss: 0.1217 - val_acc: 0.9644\n",
      "Epoch 55/200\n",
      "48000/48000 [==============================] - 2s - loss: 0.1727 - acc: 0.9482 - val_loss: 0.1201 - val_acc: 0.9647\n",
      "Epoch 56/200\n",
      "48000/48000 [==============================] - 2s - loss: 0.1718 - acc: 0.9489 - val_loss: 0.1194 - val_acc: 0.9649\n",
      "Epoch 57/200\n",
      "48000/48000 [==============================] - 2s - loss: 0.1684 - acc: 0.9504 - val_loss: 0.1188 - val_acc: 0.9651\n",
      "Epoch 58/200\n",
      "48000/48000 [==============================] - 2s - loss: 0.1665 - acc: 0.9502 - val_loss: 0.1183 - val_acc: 0.9652\n",
      "Epoch 59/200\n",
      "48000/48000 [==============================] - 2s - loss: 0.1620 - acc: 0.9519 - val_loss: 0.1169 - val_acc: 0.9655\n",
      "Epoch 60/200\n",
      "48000/48000 [==============================] - 2s - loss: 0.1629 - acc: 0.9523 - val_loss: 0.1158 - val_acc: 0.9666\n",
      "Epoch 61/200\n",
      "48000/48000 [==============================] - 2s - loss: 0.1632 - acc: 0.9521 - val_loss: 0.1155 - val_acc: 0.9663\n",
      "Epoch 62/200\n",
      "48000/48000 [==============================] - 2s - loss: 0.1596 - acc: 0.9538 - val_loss: 0.1146 - val_acc: 0.9663\n",
      "Epoch 63/200\n",
      "48000/48000 [==============================] - 2s - loss: 0.1590 - acc: 0.9533 - val_loss: 0.1138 - val_acc: 0.9668\n",
      "Epoch 64/200\n",
      "48000/48000 [==============================] - 2s - loss: 0.1556 - acc: 0.9537 - val_loss: 0.1135 - val_acc: 0.9664\n",
      "Epoch 65/200\n",
      "48000/48000 [==============================] - 2s - loss: 0.1548 - acc: 0.9540 - val_loss: 0.1125 - val_acc: 0.9669\n",
      "Epoch 66/200\n",
      "48000/48000 [==============================] - 2s - loss: 0.1566 - acc: 0.9530 - val_loss: 0.1115 - val_acc: 0.9674\n",
      "Epoch 67/200\n",
      "48000/48000 [==============================] - 2s - loss: 0.1528 - acc: 0.9556 - val_loss: 0.1107 - val_acc: 0.9679\n",
      "Epoch 68/200\n",
      "48000/48000 [==============================] - 2s - loss: 0.1522 - acc: 0.9549 - val_loss: 0.1100 - val_acc: 0.9678\n",
      "Epoch 69/200\n",
      "48000/48000 [==============================] - 2s - loss: 0.1521 - acc: 0.9552 - val_loss: 0.1093 - val_acc: 0.9689\n",
      "Epoch 70/200\n",
      "48000/48000 [==============================] - 2s - loss: 0.1498 - acc: 0.9558 - val_loss: 0.1087 - val_acc: 0.9684\n",
      "Epoch 71/200\n",
      "48000/48000 [==============================] - 2s - loss: 0.1454 - acc: 0.9561 - val_loss: 0.1083 - val_acc: 0.9683\n",
      "Epoch 72/200\n",
      "48000/48000 [==============================] - 2s - loss: 0.1450 - acc: 0.9574 - val_loss: 0.1076 - val_acc: 0.9687\n",
      "Epoch 73/200\n",
      "48000/48000 [==============================] - 2s - loss: 0.1472 - acc: 0.9559 - val_loss: 0.1067 - val_acc: 0.9689\n",
      "Epoch 74/200\n",
      "48000/48000 [==============================] - 2s - loss: 0.1447 - acc: 0.9561 - val_loss: 0.1065 - val_acc: 0.9689\n",
      "Epoch 75/200\n",
      "48000/48000 [==============================] - 2s - loss: 0.1424 - acc: 0.9579 - val_loss: 0.1058 - val_acc: 0.9691\n",
      "Epoch 76/200\n",
      "48000/48000 [==============================] - 2s - loss: 0.1445 - acc: 0.9581 - val_loss: 0.1057 - val_acc: 0.9687\n",
      "Epoch 77/200\n",
      "48000/48000 [==============================] - 2s - loss: 0.1384 - acc: 0.9585 - val_loss: 0.1056 - val_acc: 0.9693\n",
      "Epoch 78/200\n",
      "48000/48000 [==============================] - 2s - loss: 0.1372 - acc: 0.9595 - val_loss: 0.1039 - val_acc: 0.9698\n",
      "Epoch 79/200\n",
      "48000/48000 [==============================] - 2s - loss: 0.1382 - acc: 0.9591 - val_loss: 0.1038 - val_acc: 0.9700\n",
      "Epoch 80/200\n",
      "48000/48000 [==============================] - 2s - loss: 0.1392 - acc: 0.9583 - val_loss: 0.1026 - val_acc: 0.9701\n",
      "Epoch 81/200\n",
      "48000/48000 [==============================] - 2s - loss: 0.1372 - acc: 0.9590 - val_loss: 0.1027 - val_acc: 0.9701\n",
      "Epoch 82/200\n",
      "48000/48000 [==============================] - 2s - loss: 0.1357 - acc: 0.9594 - val_loss: 0.1019 - val_acc: 0.9699\n",
      "Epoch 83/200\n",
      "48000/48000 [==============================] - 2s - loss: 0.1337 - acc: 0.9600 - val_loss: 0.1016 - val_acc: 0.9704\n",
      "Epoch 84/200\n",
      "48000/48000 [==============================] - 2s - loss: 0.1314 - acc: 0.9615 - val_loss: 0.1015 - val_acc: 0.9708\n",
      "Epoch 85/200\n",
      "48000/48000 [==============================] - 2s - loss: 0.1329 - acc: 0.9603 - val_loss: 0.1010 - val_acc: 0.9708\n",
      "Epoch 86/200\n",
      "48000/48000 [==============================] - 2s - loss: 0.1309 - acc: 0.9604 - val_loss: 0.1005 - val_acc: 0.9701\n",
      "Epoch 87/200\n",
      "48000/48000 [==============================] - 2s - loss: 0.1306 - acc: 0.9616 - val_loss: 0.1002 - val_acc: 0.9708\n",
      "Epoch 88/200\n",
      "48000/48000 [==============================] - 2s - loss: 0.1312 - acc: 0.9609 - val_loss: 0.0993 - val_acc: 0.9709\n",
      "Epoch 89/200\n",
      "48000/48000 [==============================] - 2s - loss: 0.1281 - acc: 0.9626 - val_loss: 0.0992 - val_acc: 0.9705\n",
      "Epoch 90/200\n",
      "48000/48000 [==============================] - 2s - loss: 0.1274 - acc: 0.9617 - val_loss: 0.0985 - val_acc: 0.9708\n",
      "Epoch 91/200\n",
      "48000/48000 [==============================] - 2s - loss: 0.1289 - acc: 0.9617 - val_loss: 0.0983 - val_acc: 0.9713\n",
      "Epoch 92/200\n",
      "48000/48000 [==============================] - 2s - loss: 0.1276 - acc: 0.9623 - val_loss: 0.0976 - val_acc: 0.9715\n",
      "Epoch 93/200\n",
      "48000/48000 [==============================] - 2s - loss: 0.1239 - acc: 0.9629 - val_loss: 0.0975 - val_acc: 0.9716\n",
      "Epoch 94/200\n",
      "48000/48000 [==============================] - 2s - loss: 0.1244 - acc: 0.9635 - val_loss: 0.0968 - val_acc: 0.9713\n",
      "Epoch 95/200\n",
      "48000/48000 [==============================] - 2s - loss: 0.1253 - acc: 0.9628 - val_loss: 0.0967 - val_acc: 0.9713\n",
      "Epoch 96/200\n",
      "48000/48000 [==============================] - 2s - loss: 0.1243 - acc: 0.9625 - val_loss: 0.0964 - val_acc: 0.9708\n",
      "Epoch 97/200\n",
      "48000/48000 [==============================] - 2s - loss: 0.1229 - acc: 0.9641 - val_loss: 0.0961 - val_acc: 0.9718\n",
      "Epoch 98/200\n",
      "48000/48000 [==============================] - 2s - loss: 0.1223 - acc: 0.9639 - val_loss: 0.0952 - val_acc: 0.9715\n",
      "Epoch 99/200\n",
      "48000/48000 [==============================] - 2s - loss: 0.1201 - acc: 0.9638 - val_loss: 0.0957 - val_acc: 0.9713\n",
      "Epoch 100/200\n",
      "48000/48000 [==============================] - 2s - loss: 0.1201 - acc: 0.9635 - val_loss: 0.0947 - val_acc: 0.9722\n",
      "Epoch 101/200\n",
      "48000/48000 [==============================] - 2s - loss: 0.1207 - acc: 0.9651 - val_loss: 0.0944 - val_acc: 0.9722\n",
      "Epoch 102/200\n",
      "48000/48000 [==============================] - 2s - loss: 0.1156 - acc: 0.9652 - val_loss: 0.0941 - val_acc: 0.9719\n",
      "Epoch 103/200\n",
      "48000/48000 [==============================] - 2s - loss: 0.1166 - acc: 0.9651 - val_loss: 0.0945 - val_acc: 0.9718\n",
      "Epoch 104/200\n",
      "48000/48000 [==============================] - 2s - loss: 0.1186 - acc: 0.9646 - val_loss: 0.0936 - val_acc: 0.9723\n",
      "Epoch 105/200\n",
      "48000/48000 [==============================] - 2s - loss: 0.1180 - acc: 0.9644 - val_loss: 0.0935 - val_acc: 0.9725\n",
      "Epoch 106/200\n",
      "48000/48000 [==============================] - 2s - loss: 0.1146 - acc: 0.9653 - val_loss: 0.0930 - val_acc: 0.9725\n",
      "Epoch 107/200\n",
      "48000/48000 [==============================] - 2s - loss: 0.1140 - acc: 0.9656 - val_loss: 0.0927 - val_acc: 0.9723\n",
      "Epoch 108/200\n",
      "48000/48000 [==============================] - 2s - loss: 0.1173 - acc: 0.9648 - val_loss: 0.0925 - val_acc: 0.9727\n",
      "Epoch 109/200\n",
      "48000/48000 [==============================] - 2s - loss: 0.1133 - acc: 0.9661 - val_loss: 0.0924 - val_acc: 0.9725\n",
      "Epoch 110/200\n",
      "48000/48000 [==============================] - 2s - loss: 0.1136 - acc: 0.9660 - val_loss: 0.0917 - val_acc: 0.9733\n",
      "Epoch 111/200\n",
      "48000/48000 [==============================] - 2s - loss: 0.1121 - acc: 0.9656 - val_loss: 0.0925 - val_acc: 0.9725\n",
      "Epoch 112/200\n",
      "48000/48000 [==============================] - 2s - loss: 0.1123 - acc: 0.9668 - val_loss: 0.0918 - val_acc: 0.9733\n",
      "Epoch 113/200\n",
      "48000/48000 [==============================] - 2s - loss: 0.1113 - acc: 0.9662 - val_loss: 0.0917 - val_acc: 0.9730\n",
      "Epoch 114/200\n",
      "48000/48000 [==============================] - 2s - loss: 0.1095 - acc: 0.9668 - val_loss: 0.0908 - val_acc: 0.9736\n",
      "Epoch 115/200\n",
      "48000/48000 [==============================] - 2s - loss: 0.1083 - acc: 0.9669 - val_loss: 0.0908 - val_acc: 0.9733\n",
      "Epoch 116/200\n",
      "48000/48000 [==============================] - 2s - loss: 0.1063 - acc: 0.9685 - val_loss: 0.0905 - val_acc: 0.9734\n",
      "Epoch 117/200\n",
      "48000/48000 [==============================] - 2s - loss: 0.1097 - acc: 0.9665 - val_loss: 0.0899 - val_acc: 0.9742\n",
      "Epoch 118/200\n",
      "48000/48000 [==============================] - 2s - loss: 0.1084 - acc: 0.9678 - val_loss: 0.0901 - val_acc: 0.9739\n",
      "Epoch 119/200\n",
      "48000/48000 [==============================] - 2s - loss: 0.1097 - acc: 0.9673 - val_loss: 0.0909 - val_acc: 0.9734\n",
      "Epoch 120/200\n",
      "48000/48000 [==============================] - 2s - loss: 0.1069 - acc: 0.9678 - val_loss: 0.0900 - val_acc: 0.9738\n",
      "Epoch 121/200\n",
      "48000/48000 [==============================] - 2s - loss: 0.1040 - acc: 0.9687 - val_loss: 0.0895 - val_acc: 0.9737\n",
      "Epoch 122/200\n",
      "48000/48000 [==============================] - 2s - loss: 0.1039 - acc: 0.9685 - val_loss: 0.0894 - val_acc: 0.9743\n",
      "Epoch 123/200\n",
      "48000/48000 [==============================] - 2s - loss: 0.1035 - acc: 0.9696 - val_loss: 0.0891 - val_acc: 0.9738\n",
      "Epoch 124/200\n",
      "48000/48000 [==============================] - 2s - loss: 0.1057 - acc: 0.9677 - val_loss: 0.0892 - val_acc: 0.9739\n",
      "Epoch 125/200\n",
      "48000/48000 [==============================] - 2s - loss: 0.1033 - acc: 0.9692 - val_loss: 0.0894 - val_acc: 0.9739\n",
      "Epoch 126/200\n",
      "48000/48000 [==============================] - 2s - loss: 0.1038 - acc: 0.9689 - val_loss: 0.0886 - val_acc: 0.9739\n",
      "Epoch 127/200\n",
      "48000/48000 [==============================] - 2s - loss: 0.1039 - acc: 0.9693 - val_loss: 0.0884 - val_acc: 0.9745\n",
      "Epoch 128/200\n",
      "48000/48000 [==============================] - 2s - loss: 0.1041 - acc: 0.9680 - val_loss: 0.0881 - val_acc: 0.9743\n",
      "Epoch 129/200\n",
      "48000/48000 [==============================] - 2s - loss: 0.1041 - acc: 0.9685 - val_loss: 0.0885 - val_acc: 0.9743\n",
      "Epoch 130/200\n",
      "48000/48000 [==============================] - 2s - loss: 0.1024 - acc: 0.9688 - val_loss: 0.0874 - val_acc: 0.9741\n",
      "Epoch 131/200\n",
      "48000/48000 [==============================] - 2s - loss: 0.1001 - acc: 0.9684 - val_loss: 0.0876 - val_acc: 0.9749\n",
      "Epoch 132/200\n",
      "48000/48000 [==============================] - 2s - loss: 0.1003 - acc: 0.9699 - val_loss: 0.0872 - val_acc: 0.9744\n",
      "Epoch 133/200\n",
      "48000/48000 [==============================] - 2s - loss: 0.1009 - acc: 0.9693 - val_loss: 0.0871 - val_acc: 0.9748\n",
      "Epoch 134/200\n",
      "48000/48000 [==============================] - 2s - loss: 0.0999 - acc: 0.9703 - val_loss: 0.0867 - val_acc: 0.9750\n",
      "Epoch 135/200\n",
      "48000/48000 [==============================] - 2s - loss: 0.0982 - acc: 0.9708 - val_loss: 0.0870 - val_acc: 0.9745\n",
      "Epoch 136/200\n",
      "48000/48000 [==============================] - 2s - loss: 0.0985 - acc: 0.9699 - val_loss: 0.0866 - val_acc: 0.9743\n",
      "Epoch 137/200\n",
      "48000/48000 [==============================] - 2s - loss: 0.0960 - acc: 0.9712 - val_loss: 0.0866 - val_acc: 0.9748\n",
      "Epoch 138/200\n",
      "48000/48000 [==============================] - 2s - loss: 0.0963 - acc: 0.9709 - val_loss: 0.0866 - val_acc: 0.9744\n",
      "Epoch 139/200\n",
      "48000/48000 [==============================] - 2s - loss: 0.0970 - acc: 0.9706 - val_loss: 0.0863 - val_acc: 0.9749\n",
      "Epoch 140/200\n",
      "48000/48000 [==============================] - 2s - loss: 0.0966 - acc: 0.9705 - val_loss: 0.0862 - val_acc: 0.9752\n",
      "Epoch 141/200\n",
      "48000/48000 [==============================] - 2s - loss: 0.0962 - acc: 0.9711 - val_loss: 0.0858 - val_acc: 0.9753\n",
      "Epoch 142/200\n",
      "48000/48000 [==============================] - 2s - loss: 0.0965 - acc: 0.9709 - val_loss: 0.0853 - val_acc: 0.9751\n",
      "Epoch 143/200\n",
      "48000/48000 [==============================] - 2s - loss: 0.0951 - acc: 0.9707 - val_loss: 0.0855 - val_acc: 0.9751\n",
      "Epoch 144/200\n",
      "48000/48000 [==============================] - 2s - loss: 0.0945 - acc: 0.9713 - val_loss: 0.0855 - val_acc: 0.9753\n",
      "Epoch 145/200\n",
      "48000/48000 [==============================] - 2s - loss: 0.0939 - acc: 0.9712 - val_loss: 0.0857 - val_acc: 0.9752\n",
      "Epoch 146/200\n",
      "48000/48000 [==============================] - 2s - loss: 0.0943 - acc: 0.9713 - val_loss: 0.0850 - val_acc: 0.9753\n",
      "Epoch 147/200\n",
      "48000/48000 [==============================] - 2s - loss: 0.0920 - acc: 0.9728 - val_loss: 0.0845 - val_acc: 0.9754\n",
      "Epoch 148/200\n",
      "48000/48000 [==============================] - 2s - loss: 0.0910 - acc: 0.9722 - val_loss: 0.0843 - val_acc: 0.9753\n",
      "Epoch 149/200\n",
      "48000/48000 [==============================] - 2s - loss: 0.0915 - acc: 0.9717 - val_loss: 0.0848 - val_acc: 0.9756\n",
      "Epoch 150/200\n",
      "48000/48000 [==============================] - 2s - loss: 0.0931 - acc: 0.9714 - val_loss: 0.0847 - val_acc: 0.9755\n",
      "Epoch 151/200\n",
      "48000/48000 [==============================] - 2s - loss: 0.0919 - acc: 0.9728 - val_loss: 0.0844 - val_acc: 0.9758\n",
      "Epoch 152/200\n",
      "48000/48000 [==============================] - 2s - loss: 0.0892 - acc: 0.9730 - val_loss: 0.0842 - val_acc: 0.9760\n",
      "Epoch 153/200\n",
      "48000/48000 [==============================] - 2s - loss: 0.0906 - acc: 0.9724 - val_loss: 0.0843 - val_acc: 0.9754\n",
      "Epoch 154/200\n",
      "48000/48000 [==============================] - 2s - loss: 0.0901 - acc: 0.9729 - val_loss: 0.0847 - val_acc: 0.9753\n",
      "Epoch 155/200\n",
      "48000/48000 [==============================] - 2s - loss: 0.0909 - acc: 0.9721 - val_loss: 0.0842 - val_acc: 0.9754\n",
      "Epoch 156/200\n",
      "48000/48000 [==============================] - 2s - loss: 0.0931 - acc: 0.9716 - val_loss: 0.0843 - val_acc: 0.9756\n",
      "Epoch 157/200\n",
      "48000/48000 [==============================] - 2s - loss: 0.0901 - acc: 0.9725 - val_loss: 0.0843 - val_acc: 0.9760\n",
      "Epoch 158/200\n",
      "48000/48000 [==============================] - 2s - loss: 0.0901 - acc: 0.9733 - val_loss: 0.0838 - val_acc: 0.9760\n",
      "Epoch 159/200\n",
      "48000/48000 [==============================] - 2s - loss: 0.0901 - acc: 0.9726 - val_loss: 0.0836 - val_acc: 0.9763\n",
      "Epoch 160/200\n",
      "48000/48000 [==============================] - 2s - loss: 0.0887 - acc: 0.9722 - val_loss: 0.0833 - val_acc: 0.9767\n",
      "Epoch 161/200\n",
      "48000/48000 [==============================] - 2s - loss: 0.0870 - acc: 0.9734 - val_loss: 0.0830 - val_acc: 0.9764\n",
      "Epoch 162/200\n",
      "48000/48000 [==============================] - 2s - loss: 0.0855 - acc: 0.9740 - val_loss: 0.0834 - val_acc: 0.9759\n",
      "Epoch 163/200\n",
      "48000/48000 [==============================] - 2s - loss: 0.0872 - acc: 0.9731 - val_loss: 0.0836 - val_acc: 0.9762\n",
      "Epoch 164/200\n",
      "48000/48000 [==============================] - 2s - loss: 0.0875 - acc: 0.9735 - val_loss: 0.0832 - val_acc: 0.9761\n",
      "Epoch 165/200\n",
      "48000/48000 [==============================] - 2s - loss: 0.0856 - acc: 0.9735 - val_loss: 0.0839 - val_acc: 0.9761\n",
      "Epoch 166/200\n",
      "48000/48000 [==============================] - 2s - loss: 0.0877 - acc: 0.9728 - val_loss: 0.0829 - val_acc: 0.9762\n",
      "Epoch 167/200\n",
      "48000/48000 [==============================] - 2s - loss: 0.0858 - acc: 0.9732 - val_loss: 0.0827 - val_acc: 0.9765\n",
      "Epoch 168/200\n",
      "48000/48000 [==============================] - 2s - loss: 0.0819 - acc: 0.9746 - val_loss: 0.0832 - val_acc: 0.9763\n",
      "Epoch 169/200\n",
      "48000/48000 [==============================] - 2s - loss: 0.0840 - acc: 0.9737 - val_loss: 0.0824 - val_acc: 0.9760\n",
      "Epoch 170/200\n",
      "48000/48000 [==============================] - 2s - loss: 0.0838 - acc: 0.9741 - val_loss: 0.0825 - val_acc: 0.9758\n",
      "Epoch 171/200\n",
      "48000/48000 [==============================] - 2s - loss: 0.0842 - acc: 0.9738 - val_loss: 0.0821 - val_acc: 0.9759\n",
      "Epoch 172/200\n",
      "48000/48000 [==============================] - 2s - loss: 0.0841 - acc: 0.9739 - val_loss: 0.0822 - val_acc: 0.9765\n",
      "Epoch 173/200\n",
      "48000/48000 [==============================] - 2s - loss: 0.0842 - acc: 0.9739 - val_loss: 0.0821 - val_acc: 0.9765\n",
      "Epoch 174/200\n",
      "48000/48000 [==============================] - 2s - loss: 0.0853 - acc: 0.9744 - val_loss: 0.0817 - val_acc: 0.9764\n",
      "Epoch 175/200\n",
      "48000/48000 [==============================] - 2s - loss: 0.0831 - acc: 0.9747 - val_loss: 0.0819 - val_acc: 0.9763\n",
      "Epoch 176/200\n",
      "48000/48000 [==============================] - 2s - loss: 0.0817 - acc: 0.9742 - val_loss: 0.0821 - val_acc: 0.9765\n",
      "Epoch 177/200\n",
      "48000/48000 [==============================] - 2s - loss: 0.0813 - acc: 0.9747 - val_loss: 0.0822 - val_acc: 0.9763\n",
      "Epoch 178/200\n",
      "48000/48000 [==============================] - 2s - loss: 0.0817 - acc: 0.9749 - val_loss: 0.0815 - val_acc: 0.9767\n",
      "Epoch 179/200\n",
      "48000/48000 [==============================] - 2s - loss: 0.0824 - acc: 0.9745 - val_loss: 0.0817 - val_acc: 0.9765\n",
      "Epoch 180/200\n",
      "48000/48000 [==============================] - 2s - loss: 0.0797 - acc: 0.9753 - val_loss: 0.0823 - val_acc: 0.9766\n",
      "Epoch 181/200\n",
      "48000/48000 [==============================] - 2s - loss: 0.0816 - acc: 0.9749 - val_loss: 0.0817 - val_acc: 0.9769\n",
      "Epoch 182/200\n",
      "48000/48000 [==============================] - 2s - loss: 0.0801 - acc: 0.9751 - val_loss: 0.0813 - val_acc: 0.9771\n",
      "Epoch 183/200\n",
      "48000/48000 [==============================] - 2s - loss: 0.0813 - acc: 0.9749 - val_loss: 0.0813 - val_acc: 0.9770\n",
      "Epoch 184/200\n",
      "48000/48000 [==============================] - 2s - loss: 0.0788 - acc: 0.9756 - val_loss: 0.0809 - val_acc: 0.9768\n",
      "Epoch 185/200\n",
      "48000/48000 [==============================] - 2s - loss: 0.0798 - acc: 0.9748 - val_loss: 0.0815 - val_acc: 0.9770\n",
      "Epoch 186/200\n",
      "48000/48000 [==============================] - 2s - loss: 0.0799 - acc: 0.9753 - val_loss: 0.0807 - val_acc: 0.9774\n",
      "Epoch 187/200\n",
      "48000/48000 [==============================] - 2s - loss: 0.0785 - acc: 0.9754 - val_loss: 0.0815 - val_acc: 0.9769\n",
      "Epoch 188/200\n",
      "48000/48000 [==============================] - 2s - loss: 0.0787 - acc: 0.9759 - val_loss: 0.0809 - val_acc: 0.9771\n",
      "Epoch 189/200\n",
      "48000/48000 [==============================] - 2s - loss: 0.0788 - acc: 0.9754 - val_loss: 0.0809 - val_acc: 0.9769\n",
      "Epoch 190/200\n",
      "48000/48000 [==============================] - 2s - loss: 0.0766 - acc: 0.9760 - val_loss: 0.0804 - val_acc: 0.9778\n",
      "Epoch 191/200\n",
      "48000/48000 [==============================] - 2s - loss: 0.0767 - acc: 0.9763 - val_loss: 0.0804 - val_acc: 0.9773\n",
      "Epoch 192/200\n",
      "48000/48000 [==============================] - 2s - loss: 0.0768 - acc: 0.9757 - val_loss: 0.0809 - val_acc: 0.9772\n",
      "Epoch 193/200\n",
      "48000/48000 [==============================] - 2s - loss: 0.0792 - acc: 0.9751 - val_loss: 0.0798 - val_acc: 0.9776\n",
      "Epoch 194/200\n",
      "48000/48000 [==============================] - 2s - loss: 0.0792 - acc: 0.9748 - val_loss: 0.0806 - val_acc: 0.9774\n",
      "Epoch 195/200\n",
      "48000/48000 [==============================] - 2s - loss: 0.0764 - acc: 0.9766 - val_loss: 0.0808 - val_acc: 0.9771\n",
      "Epoch 196/200\n",
      "48000/48000 [==============================] - 2s - loss: 0.0772 - acc: 0.9756 - val_loss: 0.0805 - val_acc: 0.9773\n",
      "Epoch 197/200\n",
      "48000/48000 [==============================] - 2s - loss: 0.0777 - acc: 0.9756 - val_loss: 0.0804 - val_acc: 0.9774\n",
      "Epoch 198/200\n",
      "48000/48000 [==============================] - 2s - loss: 0.0755 - acc: 0.9764 - val_loss: 0.0805 - val_acc: 0.9777\n",
      "Epoch 199/200\n",
      "48000/48000 [==============================] - 2s - loss: 0.0751 - acc: 0.9768 - val_loss: 0.0802 - val_acc: 0.9774\n",
      "Epoch 200/200\n",
      "48000/48000 [==============================] - 2s - loss: 0.0748 - acc: 0.9767 - val_loss: 0.0802 - val_acc: 0.9773\n"
     ]
    }
   ],
   "source": [
    "time_start = time.clock()\n",
    "history = model.fit(X_train, y_train,\n",
    "                    batch_size=128,\n",
    "                    epochs=200,\n",
    "                    verbose=1,\n",
    "                    validation_split=0.2)\n",
    "time_end = time.clock()"
   ]
  },
  {
   "cell_type": "code",
   "execution_count": 10,
   "metadata": {
    "collapsed": true
   },
   "outputs": [],
   "source": [
    "time_end = time.clock()"
   ]
  },
  {
   "cell_type": "code",
   "execution_count": 11,
   "metadata": {
    "collapsed": false
   },
   "outputs": [
    {
     "name": "stdout",
     "output_type": "stream",
     "text": [
      "Time to train\n",
      "Time elapsed in seconds : 465\n",
      "Time elapsed in minutes : 7.8\n",
      "Time elapsed in hours   : 0.1\n"
     ]
    }
   ],
   "source": [
    "duration = time_end - time_start\n",
    "print(\"Time to train\")\n",
    "print(\"Time elapsed in seconds : %.0f\" % duration)\n",
    "print(\"Time elapsed in minutes : %.1f\" % (duration/60))\n",
    "print(\"Time elapsed in hours   : %.1f\" % (duration/3600))"
   ]
  },
  {
   "cell_type": "code",
   "execution_count": 12,
   "metadata": {
    "collapsed": false
   },
   "outputs": [
    {
     "name": "stdout",
     "output_type": "stream",
     "text": [
      " 9376/10000 [===========================>..] - ETA: 0s\n",
      "Test score: 0.0776975949256\n",
      "Test accuracy: 0.9776\n"
     ]
    }
   ],
   "source": [
    "score = model.evaluate(X_test, y_test,\n",
    "                       verbose=1)\n",
    "print(\"\")\n",
    "print(\"Test score:\", score[0])\n",
    "print(\"Test accuracy:\", score[1])"
   ]
  },
  {
   "cell_type": "code",
   "execution_count": 13,
   "metadata": {
    "collapsed": false
   },
   "outputs": [
    {
     "name": "stdout",
     "output_type": "stream",
     "text": [
      "dict_keys(['val_acc', 'val_loss', 'acc', 'loss'])\n"
     ]
    }
   ],
   "source": [
    "# list all data in history\n",
    "print(history.history.keys())"
   ]
  },
  {
   "cell_type": "code",
   "execution_count": 14,
   "metadata": {
    "collapsed": false
   },
   "outputs": [
    {
     "data": {
      "image/png": "[encoded data removed]",
      "text/plain": [
       "<matplotlib.figure.Figure at 0x1c32f6e05c0>"
      ]
     },
     "metadata": {},
     "output_type": "display_data"
    }
   ],
   "source": [
    "# Accuracy\n",
    "plt.plot(history.history[\"acc\"])\n",
    "plt.plot(history.history[\"val_acc\"])\n",
    "plt.title(\"model accuracy\")\n",
    "plt.ylabel(\"accuracy\")\n",
    "plt.xlabel(\"epoch\")\n",
    "plt.legend([\"train\", \"test\"], loc=\"lower left\")\n",
    "plt.show()"
   ]
  },
  {
   "cell_type": "code",
   "execution_count": 15,
   "metadata": {
    "collapsed": false
   },
   "outputs": [
    {
     "data": {
      "image/png": "[encoded data removed]",
      "text/plain": [
       "<matplotlib.figure.Figure at 0x1c32f82a668>"
      ]
     },
     "metadata": {},
     "output_type": "display_data"
    }
   ],
   "source": [
    "# Loss\n",
    "plt.plot(history.history[\"loss\"])\n",
    "plt.plot(history.history[\"val_loss\"])\n",
    "plt.title(\"model loss\")\n",
    "plt.ylabel(\"loss\")\n",
    "plt.xlabel(\"epoch\")\n",
    "plt.legend([\"train\", \"test\"], loc=\"upper left\")\n",
    "plt.show()"
   ]
  }
 ],
 "metadata": {
  "anaconda-cloud": {},
  "kernelspec": {
   "display_name": "Python [default]",
   "language": "python",
   "name": "python3"
  },
  "language_info": {
   "codemirror_mode": {
    "name": "ipython",
    "version": 3
   },
   "file_extension": ".py",
   "mimetype": "text/x-python",
   "name": "python",
   "nbconvert_exporter": "python",
   "pygments_lexer": "ipython3",
   "version": "3.5.2"
  }
 },
 "nbformat": 4,
 "nbformat_minor": 1
}
