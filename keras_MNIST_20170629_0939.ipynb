{
 "cells": [
  {
   "cell_type": "code",
   "execution_count": 1,
   "metadata": {
    "collapsed": false
   },
   "outputs": [
    {
     "name": "stderr",
     "output_type": "stream",
     "text": [
      "Using TensorFlow backend.\n"
     ]
    }
   ],
   "source": [
    "import numpy as np\n",
    "import matplotlib.pyplot as plt\n",
    "import time\n",
    "from keras.datasets import mnist\n",
    "from keras.models import Sequential\n",
    "from keras.layers.core import Dense, Dropout, Activation\n",
    "from keras.layers.normalization import BatchNormalization\n",
    "from keras.optimizers import SGD, Adam, Adamax, RMSprop, Adagrad, Adadelta, Nadam\n",
    "from keras.utils import np_utils\n",
    "from tensorflow import set_random_seed"
   ]
  },
  {
   "cell_type": "code",
   "execution_count": 2,
   "metadata": {
    "collapsed": false
   },
   "outputs": [],
   "source": [
    "np.random.seed(2015)\n",
    "set_random_seed(2015)"
   ]
  },
  {
   "cell_type": "code",
   "execution_count": 3,
   "metadata": {
    "collapsed": false
   },
   "outputs": [],
   "source": [
    "# Load data\n",
    "(X_train, y_train), (X_test, y_test) = mnist.load_data()"
   ]
  },
  {
   "cell_type": "code",
   "execution_count": 4,
   "metadata": {
    "collapsed": false
   },
   "outputs": [
    {
     "name": "stdout",
     "output_type": "stream",
     "text": [
      "60000 training samples\n",
      "10000 testing samples\n"
     ]
    }
   ],
   "source": [
    "# Preprocessing\n",
    "X_train = X_train.reshape(60000, 784)\n",
    "X_test  = X_test.reshape(10000, 784)\n",
    "X_train = X_train.astype(\"float32\")\n",
    "X_test  = X_test.astype(\"float32\")\n",
    "X_train /= 255\n",
    "X_test  /= 255\n",
    "print(X_train.shape[0], \"training samples\")\n",
    "print(X_test.shape[0], \"testing samples\")"
   ]
  },
  {
   "cell_type": "code",
   "execution_count": 5,
   "metadata": {
    "collapsed": true
   },
   "outputs": [],
   "source": [
    "# Convert labels to one-hot encoding\n",
    "# e.g. 1 -> array([ 0.,  1.,  0.,  0.,  0.,  0.,  0.,  0.,  0.,  0.])\n",
    "y_train = np_utils.to_categorical(y_train, 10)\n",
    "y_test = np_utils.to_categorical(y_test, 10)"
   ]
  },
  {
   "cell_type": "markdown",
   "metadata": {},
   "source": [
    "The argument *input_dim* is equivalent to *input_shape* ([reference](https://keras.io/getting-started/sequential-model-guide/))."
   ]
  },
  {
   "cell_type": "code",
   "execution_count": 6,
   "metadata": {
    "collapsed": false
   },
   "outputs": [],
   "source": [
    "# Define the model\n",
    "model = Sequential([\n",
    "        Dense(128, input_dim=784), Activation(\"relu\"), Dropout(0.16),\n",
    "        Dense(128), Activation(\"relu\"), Dropout(0.16),\n",
    "        Dense(10), Activation(\"softmax\")\n",
    "    ])"
   ]
  },
  {
   "cell_type": "code",
   "execution_count": 7,
   "metadata": {
    "collapsed": false
   },
   "outputs": [
    {
     "name": "stdout",
     "output_type": "stream",
     "text": [
      "_________________________________________________________________\n",
      "Layer (type)                 Output Shape              Param #   \n",
      "=================================================================\n",
      "dense_1 (Dense)              (None, 128)               100480    \n",
      "_________________________________________________________________\n",
      "activation_1 (Activation)    (None, 128)               0         \n",
      "_________________________________________________________________\n",
      "dropout_1 (Dropout)          (None, 128)               0         \n",
      "_________________________________________________________________\n",
      "dense_2 (Dense)              (None, 128)               16512     \n",
      "_________________________________________________________________\n",
      "activation_2 (Activation)    (None, 128)               0         \n",
      "_________________________________________________________________\n",
      "dropout_2 (Dropout)          (None, 128)               0         \n",
      "_________________________________________________________________\n",
      "dense_3 (Dense)              (None, 10)                1290      \n",
      "_________________________________________________________________\n",
      "activation_3 (Activation)    (None, 10)                0         \n",
      "=================================================================\n",
      "Total params: 118,282\n",
      "Trainable params: 118,282\n",
      "Non-trainable params: 0\n",
      "_________________________________________________________________\n"
     ]
    }
   ],
   "source": [
    "model.summary()"
   ]
  },
  {
   "cell_type": "code",
   "execution_count": 8,
   "metadata": {
    "collapsed": false
   },
   "outputs": [],
   "source": [
    "model.compile(loss=\"categorical_crossentropy\",\n",
    "              optimizer=SGD(),\n",
    "              metrics=[\"accuracy\"])"
   ]
  },
  {
   "cell_type": "code",
   "execution_count": 9,
   "metadata": {
    "collapsed": false
   },
   "outputs": [
    {
     "name": "stdout",
     "output_type": "stream",
     "text": [
      "Train on 48000 samples, validate on 12000 samples\n",
      "Epoch 1/200\n",
      "48000/48000 [==============================] - 2s - loss: 1.6066 - acc: 0.5262 - val_loss: 0.8233 - val_acc: 0.8336\n",
      "Epoch 2/200\n",
      "48000/48000 [==============================] - 2s - loss: 0.7614 - acc: 0.7813 - val_loss: 0.4831 - val_acc: 0.8795\n",
      "Epoch 3/200\n",
      "48000/48000 [==============================] - 2s - loss: 0.5743 - acc: 0.8304 - val_loss: 0.3932 - val_acc: 0.8936\n",
      "Epoch 4/200\n",
      "48000/48000 [==============================] - 2s - loss: 0.4921 - acc: 0.8541 - val_loss: 0.3491 - val_acc: 0.9030\n",
      "Epoch 5/200\n",
      "48000/48000 [==============================] - 2s - loss: 0.4471 - acc: 0.8671 - val_loss: 0.3226 - val_acc: 0.9093\n",
      "Epoch 6/200\n",
      "48000/48000 [==============================] - 2s - loss: 0.4125 - acc: 0.8795 - val_loss: 0.3019 - val_acc: 0.9138\n",
      "Epoch 7/200\n",
      "48000/48000 [==============================] - 2s - loss: 0.3878 - acc: 0.8857 - val_loss: 0.2855 - val_acc: 0.9173\n",
      "Epoch 8/200\n",
      "48000/48000 [==============================] - 2s - loss: 0.3673 - acc: 0.8918 - val_loss: 0.2722 - val_acc: 0.9208\n",
      "Epoch 9/200\n",
      "48000/48000 [==============================] - 2s - loss: 0.3496 - acc: 0.8971 - val_loss: 0.2611 - val_acc: 0.9248\n",
      "Epoch 10/200\n",
      "48000/48000 [==============================] - 2s - loss: 0.3356 - acc: 0.9010 - val_loss: 0.2517 - val_acc: 0.9274\n",
      "Epoch 11/200\n",
      "48000/48000 [==============================] - 2s - loss: 0.3207 - acc: 0.9062 - val_loss: 0.2421 - val_acc: 0.9317\n",
      "Epoch 12/200\n",
      "48000/48000 [==============================] - 2s - loss: 0.3102 - acc: 0.9087 - val_loss: 0.2331 - val_acc: 0.9326\n",
      "Epoch 13/200\n",
      "48000/48000 [==============================] - 2s - loss: 0.2990 - acc: 0.9116 - val_loss: 0.2251 - val_acc: 0.9349\n",
      "Epoch 14/200\n",
      "48000/48000 [==============================] - 2s - loss: 0.2891 - acc: 0.9151 - val_loss: 0.2189 - val_acc: 0.9362\n",
      "Epoch 15/200\n",
      "48000/48000 [==============================] - 2s - loss: 0.2787 - acc: 0.9174 - val_loss: 0.2120 - val_acc: 0.9380\n",
      "Epoch 16/200\n",
      "48000/48000 [==============================] - 2s - loss: 0.2718 - acc: 0.9199 - val_loss: 0.2060 - val_acc: 0.9393\n",
      "Epoch 17/200\n",
      "48000/48000 [==============================] - 2s - loss: 0.2618 - acc: 0.9227 - val_loss: 0.2006 - val_acc: 0.9413\n",
      "Epoch 18/200\n",
      "48000/48000 [==============================] - 2s - loss: 0.2515 - acc: 0.9262 - val_loss: 0.1951 - val_acc: 0.9433\n",
      "Epoch 19/200\n",
      "48000/48000 [==============================] - 2s - loss: 0.2504 - acc: 0.9270 - val_loss: 0.1902 - val_acc: 0.9453\n",
      "Epoch 20/200\n",
      "48000/48000 [==============================] - 2s - loss: 0.2405 - acc: 0.9284 - val_loss: 0.1862 - val_acc: 0.9461\n",
      "Epoch 21/200\n",
      "48000/48000 [==============================] - 2s - loss: 0.2347 - acc: 0.9303 - val_loss: 0.1813 - val_acc: 0.9475\n",
      "Epoch 22/200\n",
      "48000/48000 [==============================] - 2s - loss: 0.2320 - acc: 0.9308 - val_loss: 0.1779 - val_acc: 0.9479\n",
      "Epoch 23/200\n",
      "48000/48000 [==============================] - 2s - loss: 0.2232 - acc: 0.9341 - val_loss: 0.1737 - val_acc: 0.9494\n",
      "Epoch 24/200\n",
      "48000/48000 [==============================] - 2s - loss: 0.2201 - acc: 0.9356 - val_loss: 0.1705 - val_acc: 0.9508\n",
      "Epoch 25/200\n",
      "48000/48000 [==============================] - 2s - loss: 0.2122 - acc: 0.9366 - val_loss: 0.1673 - val_acc: 0.9523\n",
      "Epoch 26/200\n",
      "48000/48000 [==============================] - 2s - loss: 0.2125 - acc: 0.9385 - val_loss: 0.1641 - val_acc: 0.9524\n",
      "Epoch 27/200\n",
      "48000/48000 [==============================] - 2s - loss: 0.2033 - acc: 0.9393 - val_loss: 0.1607 - val_acc: 0.9536\n",
      "Epoch 28/200\n",
      "48000/48000 [==============================] - 2s - loss: 0.2000 - acc: 0.9422 - val_loss: 0.1578 - val_acc: 0.9537\n",
      "Epoch 29/200\n",
      "48000/48000 [==============================] - 2s - loss: 0.1991 - acc: 0.9410 - val_loss: 0.1555 - val_acc: 0.9553\n",
      "Epoch 30/200\n",
      "48000/48000 [==============================] - 2s - loss: 0.1933 - acc: 0.9435 - val_loss: 0.1529 - val_acc: 0.9554\n",
      "Epoch 31/200\n",
      "48000/48000 [==============================] - 2s - loss: 0.1909 - acc: 0.9436 - val_loss: 0.1508 - val_acc: 0.9564\n",
      "Epoch 32/200\n",
      "48000/48000 [==============================] - 2s - loss: 0.1856 - acc: 0.9455 - val_loss: 0.1483 - val_acc: 0.9579\n",
      "Epoch 33/200\n",
      "48000/48000 [==============================] - 2s - loss: 0.1819 - acc: 0.9464 - val_loss: 0.1455 - val_acc: 0.9581\n",
      "Epoch 34/200\n",
      "48000/48000 [==============================] - 2s - loss: 0.1767 - acc: 0.9478 - val_loss: 0.1432 - val_acc: 0.9589\n",
      "Epoch 35/200\n",
      "48000/48000 [==============================] - 2s - loss: 0.1762 - acc: 0.9482 - val_loss: 0.1424 - val_acc: 0.9584\n",
      "Epoch 36/200\n",
      "48000/48000 [==============================] - 2s - loss: 0.1722 - acc: 0.9497 - val_loss: 0.1394 - val_acc: 0.9590\n",
      "Epoch 37/200\n",
      "48000/48000 [==============================] - 2s - loss: 0.1728 - acc: 0.9492 - val_loss: 0.1384 - val_acc: 0.9594\n",
      "Epoch 38/200\n",
      "48000/48000 [==============================] - 2s - loss: 0.1670 - acc: 0.9511 - val_loss: 0.1371 - val_acc: 0.9597\n",
      "Epoch 39/200\n",
      "48000/48000 [==============================] - 2s - loss: 0.1650 - acc: 0.9521 - val_loss: 0.1352 - val_acc: 0.9607\n",
      "Epoch 40/200\n",
      "48000/48000 [==============================] - 2s - loss: 0.1642 - acc: 0.9518 - val_loss: 0.1327 - val_acc: 0.9617\n",
      "Epoch 41/200\n",
      "48000/48000 [==============================] - 2s - loss: 0.1596 - acc: 0.9523 - val_loss: 0.1317 - val_acc: 0.9619\n",
      "Epoch 42/200\n",
      "48000/48000 [==============================] - 2s - loss: 0.1608 - acc: 0.9527 - val_loss: 0.1299 - val_acc: 0.9617\n",
      "Epoch 43/200\n",
      "48000/48000 [==============================] - 2s - loss: 0.1564 - acc: 0.9523 - val_loss: 0.1281 - val_acc: 0.9630\n",
      "Epoch 44/200\n",
      "48000/48000 [==============================] - 2s - loss: 0.1555 - acc: 0.9549 - val_loss: 0.1276 - val_acc: 0.9627\n",
      "Epoch 45/200\n",
      "48000/48000 [==============================] - 2s - loss: 0.1519 - acc: 0.9549 - val_loss: 0.1257 - val_acc: 0.9624\n",
      "Epoch 46/200\n",
      "48000/48000 [==============================] - 2s - loss: 0.1503 - acc: 0.9563 - val_loss: 0.1244 - val_acc: 0.9634\n",
      "Epoch 47/200\n",
      "48000/48000 [==============================] - 2s - loss: 0.1490 - acc: 0.9555 - val_loss: 0.1241 - val_acc: 0.9633\n",
      "Epoch 48/200\n",
      "48000/48000 [==============================] - 2s - loss: 0.1444 - acc: 0.9581 - val_loss: 0.1226 - val_acc: 0.9634\n",
      "Epoch 49/200\n",
      "48000/48000 [==============================] - 2s - loss: 0.1464 - acc: 0.9562 - val_loss: 0.1213 - val_acc: 0.9643\n",
      "Epoch 50/200\n",
      "48000/48000 [==============================] - 2s - loss: 0.1428 - acc: 0.9583 - val_loss: 0.1202 - val_acc: 0.9647\n",
      "Epoch 51/200\n",
      "48000/48000 [==============================] - 2s - loss: 0.1391 - acc: 0.9583 - val_loss: 0.1194 - val_acc: 0.9649\n",
      "Epoch 52/200\n",
      "48000/48000 [==============================] - 2s - loss: 0.1394 - acc: 0.9592 - val_loss: 0.1183 - val_acc: 0.9650\n",
      "Epoch 53/200\n",
      "48000/48000 [==============================] - 2s - loss: 0.1375 - acc: 0.9600 - val_loss: 0.1172 - val_acc: 0.9658\n",
      "Epoch 54/200\n",
      "48000/48000 [==============================] - 2s - loss: 0.1347 - acc: 0.9595 - val_loss: 0.1164 - val_acc: 0.9653\n",
      "Epoch 55/200\n",
      "48000/48000 [==============================] - 2s - loss: 0.1343 - acc: 0.9599 - val_loss: 0.1146 - val_acc: 0.9664\n",
      "Epoch 56/200\n",
      "48000/48000 [==============================] - 2s - loss: 0.1344 - acc: 0.9598 - val_loss: 0.1138 - val_acc: 0.9663\n",
      "Epoch 57/200\n",
      "48000/48000 [==============================] - 2s - loss: 0.1314 - acc: 0.9606 - val_loss: 0.1137 - val_acc: 0.9669\n",
      "Epoch 58/200\n",
      "48000/48000 [==============================] - 2s - loss: 0.1307 - acc: 0.9614 - val_loss: 0.1130 - val_acc: 0.9668\n",
      "Epoch 59/200\n",
      "48000/48000 [==============================] - 2s - loss: 0.1286 - acc: 0.9616 - val_loss: 0.1119 - val_acc: 0.9673\n",
      "Epoch 60/200\n",
      "48000/48000 [==============================] - 2s - loss: 0.1250 - acc: 0.9631 - val_loss: 0.1107 - val_acc: 0.9673\n",
      "Epoch 61/200\n",
      "48000/48000 [==============================] - 2s - loss: 0.1264 - acc: 0.9630 - val_loss: 0.1104 - val_acc: 0.9660\n",
      "Epoch 62/200\n",
      "48000/48000 [==============================] - 2s - loss: 0.1244 - acc: 0.9637 - val_loss: 0.1093 - val_acc: 0.9682\n",
      "Epoch 63/200\n",
      "48000/48000 [==============================] - 2s - loss: 0.1245 - acc: 0.9637 - val_loss: 0.1091 - val_acc: 0.9681\n",
      "Epoch 64/200\n",
      "48000/48000 [==============================] - 2s - loss: 0.1201 - acc: 0.9649 - val_loss: 0.1086 - val_acc: 0.9687\n",
      "Epoch 65/200\n",
      "48000/48000 [==============================] - 2s - loss: 0.1186 - acc: 0.9646 - val_loss: 0.1079 - val_acc: 0.9699\n",
      "Epoch 66/200\n",
      "48000/48000 [==============================] - 2s - loss: 0.1214 - acc: 0.9640 - val_loss: 0.1067 - val_acc: 0.9696\n",
      "Epoch 67/200\n",
      "48000/48000 [==============================] - 2s - loss: 0.1180 - acc: 0.9653 - val_loss: 0.1058 - val_acc: 0.9699\n",
      "Epoch 68/200\n",
      "48000/48000 [==============================] - 2s - loss: 0.1175 - acc: 0.9650 - val_loss: 0.1055 - val_acc: 0.9693\n",
      "Epoch 69/200\n",
      "48000/48000 [==============================] - 2s - loss: 0.1161 - acc: 0.9655 - val_loss: 0.1053 - val_acc: 0.9700\n",
      "Epoch 70/200\n",
      "48000/48000 [==============================] - 2s - loss: 0.1136 - acc: 0.9671 - val_loss: 0.1045 - val_acc: 0.9698\n",
      "Epoch 71/200\n",
      "48000/48000 [==============================] - 2s - loss: 0.1120 - acc: 0.9663 - val_loss: 0.1042 - val_acc: 0.9698\n",
      "Epoch 72/200\n",
      "48000/48000 [==============================] - 2s - loss: 0.1108 - acc: 0.9670 - val_loss: 0.1035 - val_acc: 0.9698\n",
      "Epoch 73/200\n",
      "48000/48000 [==============================] - 2s - loss: 0.1120 - acc: 0.9671 - val_loss: 0.1029 - val_acc: 0.9705\n",
      "Epoch 74/200\n",
      "48000/48000 [==============================] - 2s - loss: 0.1103 - acc: 0.9664 - val_loss: 0.1024 - val_acc: 0.9704\n",
      "Epoch 75/200\n",
      "48000/48000 [==============================] - 2s - loss: 0.1098 - acc: 0.9672 - val_loss: 0.1021 - val_acc: 0.9705\n",
      "Epoch 76/200\n",
      "48000/48000 [==============================] - 2s - loss: 0.1093 - acc: 0.9680 - val_loss: 0.1016 - val_acc: 0.9705\n",
      "Epoch 77/200\n",
      "48000/48000 [==============================] - 2s - loss: 0.1052 - acc: 0.9681 - val_loss: 0.1011 - val_acc: 0.9708\n",
      "Epoch 78/200\n",
      "48000/48000 [==============================] - 2s - loss: 0.1051 - acc: 0.9685 - val_loss: 0.0998 - val_acc: 0.9711\n",
      "Epoch 79/200\n",
      "48000/48000 [==============================] - 2s - loss: 0.1062 - acc: 0.9681 - val_loss: 0.0995 - val_acc: 0.9705\n",
      "Epoch 80/200\n",
      "48000/48000 [==============================] - 2s - loss: 0.1056 - acc: 0.9683 - val_loss: 0.0990 - val_acc: 0.9715\n",
      "Epoch 81/200\n",
      "48000/48000 [==============================] - 2s - loss: 0.1046 - acc: 0.9694 - val_loss: 0.0990 - val_acc: 0.9713\n",
      "Epoch 82/200\n",
      "48000/48000 [==============================] - 2s - loss: 0.1034 - acc: 0.9693 - val_loss: 0.0983 - val_acc: 0.9718\n",
      "Epoch 83/200\n",
      "48000/48000 [==============================] - 2s - loss: 0.1013 - acc: 0.9698 - val_loss: 0.0978 - val_acc: 0.9711\n",
      "Epoch 84/200\n",
      "48000/48000 [==============================] - 2s - loss: 0.0998 - acc: 0.9703 - val_loss: 0.0973 - val_acc: 0.9716\n",
      "Epoch 85/200\n",
      "48000/48000 [==============================] - 2s - loss: 0.1003 - acc: 0.9698 - val_loss: 0.0968 - val_acc: 0.9715\n",
      "Epoch 86/200\n",
      "48000/48000 [==============================] - 2s - loss: 0.0991 - acc: 0.9699 - val_loss: 0.0967 - val_acc: 0.9717\n",
      "Epoch 87/200\n",
      "48000/48000 [==============================] - 2s - loss: 0.0986 - acc: 0.9708 - val_loss: 0.0963 - val_acc: 0.9727\n",
      "Epoch 88/200\n",
      "48000/48000 [==============================] - 2s - loss: 0.0983 - acc: 0.9705 - val_loss: 0.0962 - val_acc: 0.9718\n",
      "Epoch 89/200\n",
      "48000/48000 [==============================] - 2s - loss: 0.0958 - acc: 0.9720 - val_loss: 0.0959 - val_acc: 0.9723\n",
      "Epoch 90/200\n",
      "48000/48000 [==============================] - 2s - loss: 0.0952 - acc: 0.9716 - val_loss: 0.0955 - val_acc: 0.9723\n",
      "Epoch 91/200\n",
      "48000/48000 [==============================] - 2s - loss: 0.0958 - acc: 0.9716 - val_loss: 0.0951 - val_acc: 0.9724\n",
      "Epoch 92/200\n",
      "48000/48000 [==============================] - 2s - loss: 0.0956 - acc: 0.9715 - val_loss: 0.0944 - val_acc: 0.9727\n",
      "Epoch 93/200\n",
      "48000/48000 [==============================] - 2s - loss: 0.0914 - acc: 0.9724 - val_loss: 0.0944 - val_acc: 0.9727\n",
      "Epoch 94/200\n",
      "48000/48000 [==============================] - 2s - loss: 0.0925 - acc: 0.9727 - val_loss: 0.0938 - val_acc: 0.9725\n",
      "Epoch 95/200\n",
      "48000/48000 [==============================] - 2s - loss: 0.0928 - acc: 0.9727 - val_loss: 0.0938 - val_acc: 0.9723\n",
      "Epoch 96/200\n",
      "48000/48000 [==============================] - 2s - loss: 0.0918 - acc: 0.9719 - val_loss: 0.0934 - val_acc: 0.9729\n",
      "Epoch 97/200\n",
      "48000/48000 [==============================] - 2s - loss: 0.0900 - acc: 0.9736 - val_loss: 0.0928 - val_acc: 0.9728\n",
      "Epoch 98/200\n",
      "48000/48000 [==============================] - 2s - loss: 0.0900 - acc: 0.9730 - val_loss: 0.0920 - val_acc: 0.9726\n",
      "Epoch 99/200\n",
      "48000/48000 [==============================] - 2s - loss: 0.0888 - acc: 0.9737 - val_loss: 0.0919 - val_acc: 0.9733\n",
      "Epoch 100/200\n",
      "48000/48000 [==============================] - 2s - loss: 0.0876 - acc: 0.9740 - val_loss: 0.0913 - val_acc: 0.9733\n",
      "Epoch 101/200\n",
      "48000/48000 [==============================] - 2s - loss: 0.0898 - acc: 0.9734 - val_loss: 0.0919 - val_acc: 0.9732\n",
      "Epoch 102/200\n",
      "48000/48000 [==============================] - 2s - loss: 0.0855 - acc: 0.9748 - val_loss: 0.0911 - val_acc: 0.9735\n",
      "Epoch 103/200\n",
      "48000/48000 [==============================] - 2s - loss: 0.0864 - acc: 0.9737 - val_loss: 0.0916 - val_acc: 0.9735\n",
      "Epoch 104/200\n",
      "48000/48000 [==============================] - 2s - loss: 0.0857 - acc: 0.9747 - val_loss: 0.0906 - val_acc: 0.9738\n",
      "Epoch 105/200\n",
      "48000/48000 [==============================] - 2s - loss: 0.0871 - acc: 0.9734 - val_loss: 0.0904 - val_acc: 0.9736\n",
      "Epoch 106/200\n",
      "48000/48000 [==============================] - 2s - loss: 0.0843 - acc: 0.9743 - val_loss: 0.0899 - val_acc: 0.9736\n",
      "Epoch 107/200\n",
      "48000/48000 [==============================] - 2s - loss: 0.0838 - acc: 0.9753 - val_loss: 0.0902 - val_acc: 0.9737\n",
      "Epoch 108/200\n",
      "48000/48000 [==============================] - 2s - loss: 0.0828 - acc: 0.9751 - val_loss: 0.0898 - val_acc: 0.9742\n",
      "Epoch 109/200\n",
      "48000/48000 [==============================] - 2s - loss: 0.0828 - acc: 0.9750 - val_loss: 0.0894 - val_acc: 0.9738\n",
      "Epoch 110/200\n",
      "48000/48000 [==============================] - 2s - loss: 0.0813 - acc: 0.9757 - val_loss: 0.0889 - val_acc: 0.9743\n",
      "Epoch 111/200\n",
      "48000/48000 [==============================] - 2s - loss: 0.0818 - acc: 0.9749 - val_loss: 0.0894 - val_acc: 0.9738\n",
      "Epoch 112/200\n",
      "48000/48000 [==============================] - 2s - loss: 0.0804 - acc: 0.9756 - val_loss: 0.0887 - val_acc: 0.9736\n",
      "Epoch 113/200\n",
      "48000/48000 [==============================] - 2s - loss: 0.0811 - acc: 0.9756 - val_loss: 0.0887 - val_acc: 0.9735\n",
      "Epoch 114/200\n",
      "48000/48000 [==============================] - 2s - loss: 0.0792 - acc: 0.9760 - val_loss: 0.0881 - val_acc: 0.9741\n",
      "Epoch 115/200\n",
      "48000/48000 [==============================] - 2s - loss: 0.0790 - acc: 0.9762 - val_loss: 0.0884 - val_acc: 0.9742\n",
      "Epoch 116/200\n",
      "48000/48000 [==============================] - 2s - loss: 0.0792 - acc: 0.9765 - val_loss: 0.0877 - val_acc: 0.9741\n",
      "Epoch 117/200\n",
      "48000/48000 [==============================] - 2s - loss: 0.0781 - acc: 0.9764 - val_loss: 0.0876 - val_acc: 0.9742\n",
      "Epoch 118/200\n",
      "48000/48000 [==============================] - 2s - loss: 0.0780 - acc: 0.9770 - val_loss: 0.0878 - val_acc: 0.9741\n",
      "Epoch 119/200\n",
      "48000/48000 [==============================] - 2s - loss: 0.0768 - acc: 0.9772 - val_loss: 0.0878 - val_acc: 0.9740\n",
      "Epoch 120/200\n",
      "48000/48000 [==============================] - 2s - loss: 0.0764 - acc: 0.9762 - val_loss: 0.0875 - val_acc: 0.9747\n",
      "Epoch 121/200\n",
      "48000/48000 [==============================] - 2s - loss: 0.0738 - acc: 0.9777 - val_loss: 0.0871 - val_acc: 0.9742\n",
      "Epoch 122/200\n",
      "48000/48000 [==============================] - 2s - loss: 0.0738 - acc: 0.9778 - val_loss: 0.0868 - val_acc: 0.9749\n",
      "Epoch 123/200\n",
      "48000/48000 [==============================] - 2s - loss: 0.0758 - acc: 0.9780 - val_loss: 0.0864 - val_acc: 0.9751\n",
      "Epoch 124/200\n",
      "48000/48000 [==============================] - 2s - loss: 0.0743 - acc: 0.9773 - val_loss: 0.0868 - val_acc: 0.9743\n",
      "Epoch 125/200\n",
      "48000/48000 [==============================] - 2s - loss: 0.0737 - acc: 0.9779 - val_loss: 0.0864 - val_acc: 0.9745\n",
      "Epoch 126/200\n",
      "48000/48000 [==============================] - 2s - loss: 0.0742 - acc: 0.9776 - val_loss: 0.0860 - val_acc: 0.9748\n",
      "Epoch 127/200\n",
      "48000/48000 [==============================] - 2s - loss: 0.0733 - acc: 0.9781 - val_loss: 0.0860 - val_acc: 0.9746\n",
      "Epoch 128/200\n",
      "48000/48000 [==============================] - 2s - loss: 0.0720 - acc: 0.9783 - val_loss: 0.0860 - val_acc: 0.9748\n",
      "Epoch 129/200\n",
      "48000/48000 [==============================] - 2s - loss: 0.0729 - acc: 0.9777 - val_loss: 0.0860 - val_acc: 0.9749\n",
      "Epoch 130/200\n",
      "48000/48000 [==============================] - 2s - loss: 0.0717 - acc: 0.9781 - val_loss: 0.0854 - val_acc: 0.9751\n",
      "Epoch 131/200\n",
      "48000/48000 [==============================] - 2s - loss: 0.0713 - acc: 0.9779 - val_loss: 0.0853 - val_acc: 0.9750\n",
      "Epoch 132/200\n",
      "48000/48000 [==============================] - 2s - loss: 0.0711 - acc: 0.9787 - val_loss: 0.0851 - val_acc: 0.9750\n",
      "Epoch 133/200\n",
      "48000/48000 [==============================] - 2s - loss: 0.0709 - acc: 0.9784 - val_loss: 0.0852 - val_acc: 0.9746\n",
      "Epoch 134/200\n",
      "48000/48000 [==============================] - 2s - loss: 0.0706 - acc: 0.9785 - val_loss: 0.0847 - val_acc: 0.9752\n",
      "Epoch 135/200\n",
      "48000/48000 [==============================] - 2s - loss: 0.0704 - acc: 0.9784 - val_loss: 0.0843 - val_acc: 0.9754\n",
      "Epoch 136/200\n",
      "48000/48000 [==============================] - 2s - loss: 0.0697 - acc: 0.9785 - val_loss: 0.0841 - val_acc: 0.9748\n",
      "Epoch 137/200\n",
      "48000/48000 [==============================] - 2s - loss: 0.0680 - acc: 0.9798 - val_loss: 0.0842 - val_acc: 0.9757\n",
      "Epoch 138/200\n",
      "48000/48000 [==============================] - 2s - loss: 0.0672 - acc: 0.9793 - val_loss: 0.0844 - val_acc: 0.9755\n",
      "Epoch 139/200\n",
      "48000/48000 [==============================] - 2s - loss: 0.0676 - acc: 0.9796 - val_loss: 0.0842 - val_acc: 0.9751\n",
      "Epoch 140/200\n",
      "48000/48000 [==============================] - 2s - loss: 0.0680 - acc: 0.9789 - val_loss: 0.0836 - val_acc: 0.9758\n",
      "Epoch 141/200\n",
      "48000/48000 [==============================] - 2s - loss: 0.0657 - acc: 0.9805 - val_loss: 0.0836 - val_acc: 0.9754\n",
      "Epoch 142/200\n",
      "48000/48000 [==============================] - 2s - loss: 0.0669 - acc: 0.9801 - val_loss: 0.0837 - val_acc: 0.9756\n",
      "Epoch 143/200\n",
      "48000/48000 [==============================] - 2s - loss: 0.0652 - acc: 0.9812 - val_loss: 0.0833 - val_acc: 0.9757\n",
      "Epoch 144/200\n",
      "48000/48000 [==============================] - 2s - loss: 0.0669 - acc: 0.9795 - val_loss: 0.0835 - val_acc: 0.9756\n",
      "Epoch 145/200\n",
      "48000/48000 [==============================] - 2s - loss: 0.0651 - acc: 0.9803 - val_loss: 0.0835 - val_acc: 0.9750\n",
      "Epoch 146/200\n",
      "48000/48000 [==============================] - 2s - loss: 0.0657 - acc: 0.9806 - val_loss: 0.0838 - val_acc: 0.9757\n",
      "Epoch 147/200\n",
      "48000/48000 [==============================] - 2s - loss: 0.0629 - acc: 0.9818 - val_loss: 0.0830 - val_acc: 0.9758\n",
      "Epoch 148/200\n",
      "48000/48000 [==============================] - 2s - loss: 0.0628 - acc: 0.9810 - val_loss: 0.0827 - val_acc: 0.9759\n",
      "Epoch 149/200\n",
      "48000/48000 [==============================] - 2s - loss: 0.0632 - acc: 0.9807 - val_loss: 0.0832 - val_acc: 0.9753\n",
      "Epoch 150/200\n",
      "48000/48000 [==============================] - 2s - loss: 0.0629 - acc: 0.9806 - val_loss: 0.0834 - val_acc: 0.9754\n",
      "Epoch 151/200\n",
      "48000/48000 [==============================] - 2s - loss: 0.0641 - acc: 0.9798 - val_loss: 0.0826 - val_acc: 0.9762\n",
      "Epoch 152/200\n",
      "48000/48000 [==============================] - 2s - loss: 0.0611 - acc: 0.9820 - val_loss: 0.0822 - val_acc: 0.9758\n",
      "Epoch 153/200\n",
      "48000/48000 [==============================] - 2s - loss: 0.0623 - acc: 0.9812 - val_loss: 0.0825 - val_acc: 0.9762\n",
      "Epoch 154/200\n",
      "48000/48000 [==============================] - 2s - loss: 0.0618 - acc: 0.9812 - val_loss: 0.0829 - val_acc: 0.9760\n",
      "Epoch 155/200\n",
      "48000/48000 [==============================] - 2s - loss: 0.0616 - acc: 0.9810 - val_loss: 0.0825 - val_acc: 0.9763\n",
      "Epoch 156/200\n",
      "48000/48000 [==============================] - 2s - loss: 0.0623 - acc: 0.9811 - val_loss: 0.0828 - val_acc: 0.9759\n",
      "Epoch 157/200\n",
      "48000/48000 [==============================] - 2s - loss: 0.0613 - acc: 0.9814 - val_loss: 0.0824 - val_acc: 0.9758\n",
      "Epoch 158/200\n",
      "48000/48000 [==============================] - 2s - loss: 0.0614 - acc: 0.9819 - val_loss: 0.0819 - val_acc: 0.9756\n",
      "Epoch 159/200\n",
      "48000/48000 [==============================] - 2s - loss: 0.0604 - acc: 0.9817 - val_loss: 0.0817 - val_acc: 0.9763\n",
      "Epoch 160/200\n",
      "48000/48000 [==============================] - 2s - loss: 0.0594 - acc: 0.9817 - val_loss: 0.0821 - val_acc: 0.9755\n",
      "Epoch 161/200\n",
      "48000/48000 [==============================] - 2s - loss: 0.0578 - acc: 0.9825 - val_loss: 0.0818 - val_acc: 0.9760\n",
      "Epoch 162/200\n",
      "48000/48000 [==============================] - 2s - loss: 0.0604 - acc: 0.9812 - val_loss: 0.0816 - val_acc: 0.9757\n",
      "Epoch 163/200\n",
      "48000/48000 [==============================] - 2s - loss: 0.0587 - acc: 0.9819 - val_loss: 0.0816 - val_acc: 0.9759\n",
      "Epoch 164/200\n",
      "48000/48000 [==============================] - 2s - loss: 0.0584 - acc: 0.9820 - val_loss: 0.0815 - val_acc: 0.9767\n",
      "Epoch 165/200\n",
      "48000/48000 [==============================] - 2s - loss: 0.0582 - acc: 0.9823 - val_loss: 0.0816 - val_acc: 0.9762\n",
      "Epoch 166/200\n",
      "48000/48000 [==============================] - 2s - loss: 0.0582 - acc: 0.9825 - val_loss: 0.0814 - val_acc: 0.9763\n",
      "Epoch 167/200\n",
      "48000/48000 [==============================] - 2s - loss: 0.0582 - acc: 0.9821 - val_loss: 0.0814 - val_acc: 0.9760\n",
      "Epoch 168/200\n",
      "48000/48000 [==============================] - 2s - loss: 0.0568 - acc: 0.9825 - val_loss: 0.0822 - val_acc: 0.9763\n",
      "Epoch 169/200\n",
      "48000/48000 [==============================] - 2s - loss: 0.0578 - acc: 0.9818 - val_loss: 0.0816 - val_acc: 0.9765\n",
      "Epoch 170/200\n",
      "48000/48000 [==============================] - 2s - loss: 0.0565 - acc: 0.9825 - val_loss: 0.0806 - val_acc: 0.9762\n",
      "Epoch 171/200\n",
      "48000/48000 [==============================] - 2s - loss: 0.0567 - acc: 0.9828 - val_loss: 0.0816 - val_acc: 0.9767\n",
      "Epoch 172/200\n",
      "48000/48000 [==============================] - 2s - loss: 0.0565 - acc: 0.9819 - val_loss: 0.0809 - val_acc: 0.9767\n",
      "Epoch 173/200\n",
      "48000/48000 [==============================] - 2s - loss: 0.0554 - acc: 0.9832 - val_loss: 0.0805 - val_acc: 0.9768\n",
      "Epoch 174/200\n",
      "48000/48000 [==============================] - 2s - loss: 0.0564 - acc: 0.9826 - val_loss: 0.0807 - val_acc: 0.9767\n",
      "Epoch 175/200\n",
      "48000/48000 [==============================] - 2s - loss: 0.0556 - acc: 0.9821 - val_loss: 0.0810 - val_acc: 0.9768\n",
      "Epoch 176/200\n",
      "48000/48000 [==============================] - 2s - loss: 0.0547 - acc: 0.9824 - val_loss: 0.0805 - val_acc: 0.9764\n",
      "Epoch 177/200\n",
      "48000/48000 [==============================] - 2s - loss: 0.0545 - acc: 0.9835 - val_loss: 0.0812 - val_acc: 0.9769\n",
      "Epoch 178/200\n",
      "48000/48000 [==============================] - 2s - loss: 0.0544 - acc: 0.9837 - val_loss: 0.0804 - val_acc: 0.9768\n",
      "Epoch 179/200\n",
      "48000/48000 [==============================] - 2s - loss: 0.0548 - acc: 0.9827 - val_loss: 0.0804 - val_acc: 0.9765\n",
      "Epoch 180/200\n",
      "48000/48000 [==============================] - 2s - loss: 0.0538 - acc: 0.9843 - val_loss: 0.0807 - val_acc: 0.9764\n",
      "Epoch 181/200\n",
      "48000/48000 [==============================] - 2s - loss: 0.0547 - acc: 0.9828 - val_loss: 0.0804 - val_acc: 0.9771\n",
      "Epoch 182/200\n",
      "48000/48000 [==============================] - 2s - loss: 0.0529 - acc: 0.9833 - val_loss: 0.0801 - val_acc: 0.9769\n",
      "Epoch 183/200\n",
      "48000/48000 [==============================] - 2s - loss: 0.0523 - acc: 0.9836 - val_loss: 0.0803 - val_acc: 0.9769\n",
      "Epoch 184/200\n",
      "48000/48000 [==============================] - 2s - loss: 0.0527 - acc: 0.9832 - val_loss: 0.0799 - val_acc: 0.9772\n",
      "Epoch 185/200\n",
      "48000/48000 [==============================] - 2s - loss: 0.0530 - acc: 0.9839 - val_loss: 0.0803 - val_acc: 0.9765\n",
      "Epoch 186/200\n",
      "48000/48000 [==============================] - 2s - loss: 0.0533 - acc: 0.9830 - val_loss: 0.0801 - val_acc: 0.9774\n",
      "Epoch 187/200\n",
      "48000/48000 [==============================] - 2s - loss: 0.0523 - acc: 0.9836 - val_loss: 0.0805 - val_acc: 0.9771\n",
      "Epoch 188/200\n",
      "48000/48000 [==============================] - 2s - loss: 0.0518 - acc: 0.9841 - val_loss: 0.0798 - val_acc: 0.9770\n",
      "Epoch 189/200\n",
      "48000/48000 [==============================] - 2s - loss: 0.0522 - acc: 0.9835 - val_loss: 0.0808 - val_acc: 0.9767\n",
      "Epoch 190/200\n",
      "48000/48000 [==============================] - 2s - loss: 0.0505 - acc: 0.9846 - val_loss: 0.0798 - val_acc: 0.9770\n",
      "Epoch 191/200\n",
      "48000/48000 [==============================] - 2s - loss: 0.0524 - acc: 0.9836 - val_loss: 0.0795 - val_acc: 0.9770\n",
      "Epoch 192/200\n",
      "48000/48000 [==============================] - 2s - loss: 0.0501 - acc: 0.9849 - val_loss: 0.0806 - val_acc: 0.9772\n",
      "Epoch 193/200\n",
      "48000/48000 [==============================] - 2s - loss: 0.0533 - acc: 0.9831 - val_loss: 0.0799 - val_acc: 0.9767\n",
      "Epoch 194/200\n",
      "48000/48000 [==============================] - 2s - loss: 0.0516 - acc: 0.9838 - val_loss: 0.0797 - val_acc: 0.9771\n",
      "Epoch 195/200\n",
      "48000/48000 [==============================] - 2s - loss: 0.0498 - acc: 0.9847 - val_loss: 0.0799 - val_acc: 0.9772\n",
      "Epoch 196/200\n",
      "48000/48000 [==============================] - 2s - loss: 0.0498 - acc: 0.9845 - val_loss: 0.0798 - val_acc: 0.9772\n",
      "Epoch 197/200\n",
      "48000/48000 [==============================] - 2s - loss: 0.0505 - acc: 0.9844 - val_loss: 0.0796 - val_acc: 0.9770\n",
      "Epoch 198/200\n",
      "48000/48000 [==============================] - 2s - loss: 0.0490 - acc: 0.9847 - val_loss: 0.0795 - val_acc: 0.9772\n",
      "Epoch 199/200\n",
      "48000/48000 [==============================] - 2s - loss: 0.0486 - acc: 0.9847 - val_loss: 0.0797 - val_acc: 0.9774\n",
      "Epoch 200/200\n",
      "48000/48000 [==============================] - 2s - loss: 0.0485 - acc: 0.9848 - val_loss: 0.0794 - val_acc: 0.9771\n"
     ]
    }
   ],
   "source": [
    "time_start = time.clock()\n",
    "history = model.fit(X_train, y_train,\n",
    "                    batch_size=128,\n",
    "                    epochs=200,\n",
    "                    verbose=1,\n",
    "                    validation_split=0.2)\n",
    "time_end = time.clock()"
   ]
  },
  {
   "cell_type": "code",
   "execution_count": 10,
   "metadata": {
    "collapsed": false
   },
   "outputs": [
    {
     "name": "stdout",
     "output_type": "stream",
     "text": [
      "Time to train\n",
      "Time elapsed in seconds : 449\n",
      "Time elapsed in minutes : 7.5\n",
      "Time elapsed in hours   : 0.1\n"
     ]
    }
   ],
   "source": [
    "duration = time_end - time_start\n",
    "print(\"Time to train\")\n",
    "print(\"Time elapsed in seconds : %.0f\" % duration)\n",
    "print(\"Time elapsed in minutes : %.1f\" % (duration/60))\n",
    "print(\"Time elapsed in hours   : %.1f\" % (duration/3600))"
   ]
  },
  {
   "cell_type": "code",
   "execution_count": 11,
   "metadata": {
    "collapsed": false
   },
   "outputs": [
    {
     "name": "stdout",
     "output_type": "stream",
     "text": [
      " 8480/10000 [========================>.....] - ETA: 0s\n",
      "Test score: 0.0703836552312\n",
      "Test accuracy: 0.9784\n"
     ]
    }
   ],
   "source": [
    "score = model.evaluate(X_test, y_test,\n",
    "                       verbose=1)\n",
    "print(\"\")\n",
    "print(\"Test score:\", score[0])\n",
    "print(\"Test accuracy:\", score[1])"
   ]
  },
  {
   "cell_type": "code",
   "execution_count": 12,
   "metadata": {
    "collapsed": false
   },
   "outputs": [
    {
     "name": "stdout",
     "output_type": "stream",
     "text": [
      "dict_keys(['val_loss', 'acc', 'loss', 'val_acc'])\n"
     ]
    }
   ],
   "source": [
    "# list all data in history\n",
    "print(history.history.keys())"
   ]
  },
  {
   "cell_type": "code",
   "execution_count": 13,
   "metadata": {
    "collapsed": false
   },
   "outputs": [
    {
     "data": {
      "image/png": "[encoded data removed]",
      "text/plain": [
       "<matplotlib.figure.Figure at 0x1d1dd98f710>"
      ]
     },
     "metadata": {},
     "output_type": "display_data"
    }
   ],
   "source": [
    "# Accuracy\n",
    "plt.plot(history.history[\"acc\"])\n",
    "plt.plot(history.history[\"val_acc\"])\n",
    "plt.title(\"model accuracy\")\n",
    "plt.ylabel(\"accuracy\")\n",
    "plt.xlabel(\"epoch\")\n",
    "plt.legend([\"train\", \"test\"], loc=\"lower left\")\n",
    "plt.show()"
   ]
  },
  {
   "cell_type": "code",
   "execution_count": 14,
   "metadata": {
    "collapsed": false
   },
   "outputs": [
    {
     "data": {
      "image/png": "[encoded data removed]",
      "text/plain": [
       "<matplotlib.figure.Figure at 0x1d1ddb4e550>"
      ]
     },
     "metadata": {},
     "output_type": "display_data"
    }
   ],
   "source": [
    "# Loss\n",
    "plt.plot(history.history[\"loss\"])\n",
    "plt.plot(history.history[\"val_loss\"])\n",
    "plt.title(\"model loss\")\n",
    "plt.ylabel(\"loss\")\n",
    "plt.xlabel(\"epoch\")\n",
    "plt.legend([\"train\", \"test\"], loc=\"upper left\")\n",
    "plt.show()"
   ]
  }
 ],
 "metadata": {
  "anaconda-cloud": {},
  "kernelspec": {
   "display_name": "Python [default]",
   "language": "python",
   "name": "python3"
  },
  "language_info": {
   "codemirror_mode": {
    "name": "ipython",
    "version": 3
   },
   "file_extension": ".py",
   "mimetype": "text/x-python",
   "name": "python",
   "nbconvert_exporter": "python",
   "pygments_lexer": "ipython3",
   "version": "3.5.2"
  }
 },
 "nbformat": 4,
 "nbformat_minor": 1
}
