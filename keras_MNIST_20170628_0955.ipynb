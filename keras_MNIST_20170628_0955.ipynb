{
 "cells": [
  {
   "cell_type": "code",
   "execution_count": 1,
   "metadata": {
    "collapsed": false
   },
   "outputs": [
    {
     "name": "stderr",
     "output_type": "stream",
     "text": [
      "Using TensorFlow backend.\n"
     ]
    }
   ],
   "source": [
    "import numpy as np\n",
    "import matplotlib.pyplot as plt\n",
    "import time\n",
    "from keras.datasets import mnist\n",
    "from keras.models import Sequential\n",
    "from keras.layers.core import Dense, Dropout, Activation\n",
    "from keras.layers.normalization import BatchNormalization\n",
    "from keras.optimizers import SGD, Adam, Adamax, RMSprop, Adagrad, Adadelta, Nadam\n",
    "from keras.utils import np_utils\n",
    "from tensorflow import set_random_seed"
   ]
  },
  {
   "cell_type": "code",
   "execution_count": 2,
   "metadata": {
    "collapsed": false
   },
   "outputs": [],
   "source": [
    "np.random.seed(2015)\n",
    "set_random_seed(2015)"
   ]
  },
  {
   "cell_type": "code",
   "execution_count": 3,
   "metadata": {
    "collapsed": false
   },
   "outputs": [],
   "source": [
    "# Load data\n",
    "(X_train, y_train), (X_test, y_test) = mnist.load_data()"
   ]
  },
  {
   "cell_type": "code",
   "execution_count": 4,
   "metadata": {
    "collapsed": false
   },
   "outputs": [
    {
     "name": "stdout",
     "output_type": "stream",
     "text": [
      "60000 training samples\n",
      "10000 testing samples\n"
     ]
    }
   ],
   "source": [
    "# Preprocessing\n",
    "X_train = X_train.reshape(60000, 784)\n",
    "X_test  = X_test.reshape(10000, 784)\n",
    "X_train = X_train.astype(\"float32\")\n",
    "X_test  = X_test.astype(\"float32\")\n",
    "X_train /= 255\n",
    "X_test  /= 255\n",
    "print(X_train.shape[0], \"training samples\")\n",
    "print(X_test.shape[0], \"testing samples\")"
   ]
  },
  {
   "cell_type": "code",
   "execution_count": 5,
   "metadata": {
    "collapsed": true
   },
   "outputs": [],
   "source": [
    "# Convert labels to one-hot encoding\n",
    "# e.g. 1 -> array([ 0.,  1.,  0.,  0.,  0.,  0.,  0.,  0.,  0.,  0.])\n",
    "y_train = np_utils.to_categorical(y_train, 10)\n",
    "y_test = np_utils.to_categorical(y_test, 10)"
   ]
  },
  {
   "cell_type": "markdown",
   "metadata": {},
   "source": [
    "The argument *input_dim* is equivalent to *input_shape* ([reference](https://keras.io/getting-started/sequential-model-guide/))."
   ]
  },
  {
   "cell_type": "code",
   "execution_count": 6,
   "metadata": {
    "collapsed": false
   },
   "outputs": [],
   "source": [
    "# Define the model\n",
    "model = Sequential([\n",
    "        Dense(128, input_dim=784), BatchNormalization(), Activation(\"relu\"), Dropout(0.20),\n",
    "        Dense(128), BatchNormalization(), Activation(\"relu\"), Dropout(0.20),\n",
    "        Dense(10), BatchNormalization(), Activation(\"softmax\")\n",
    "    ])"
   ]
  },
  {
   "cell_type": "code",
   "execution_count": 7,
   "metadata": {
    "collapsed": false
   },
   "outputs": [
    {
     "name": "stdout",
     "output_type": "stream",
     "text": [
      "_________________________________________________________________\n",
      "Layer (type)                 Output Shape              Param #   \n",
      "=================================================================\n",
      "dense_1 (Dense)              (None, 128)               100480    \n",
      "_________________________________________________________________\n",
      "batch_normalization_1 (Batch (None, 128)               512       \n",
      "_________________________________________________________________\n",
      "activation_1 (Activation)    (None, 128)               0         \n",
      "_________________________________________________________________\n",
      "dropout_1 (Dropout)          (None, 128)               0         \n",
      "_________________________________________________________________\n",
      "dense_2 (Dense)              (None, 128)               16512     \n",
      "_________________________________________________________________\n",
      "batch_normalization_2 (Batch (None, 128)               512       \n",
      "_________________________________________________________________\n",
      "activation_2 (Activation)    (None, 128)               0         \n",
      "_________________________________________________________________\n",
      "dropout_2 (Dropout)          (None, 128)               0         \n",
      "_________________________________________________________________\n",
      "dense_3 (Dense)              (None, 10)                1290      \n",
      "_________________________________________________________________\n",
      "batch_normalization_3 (Batch (None, 10)                40        \n",
      "_________________________________________________________________\n",
      "activation_3 (Activation)    (None, 10)                0         \n",
      "=================================================================\n",
      "Total params: 119,346\n",
      "Trainable params: 118,814\n",
      "Non-trainable params: 532\n",
      "_________________________________________________________________\n"
     ]
    }
   ],
   "source": [
    "model.summary()"
   ]
  },
  {
   "cell_type": "code",
   "execution_count": 8,
   "metadata": {
    "collapsed": false
   },
   "outputs": [],
   "source": [
    "model.compile(loss=\"categorical_crossentropy\",\n",
    "              optimizer=SGD(),\n",
    "              metrics=[\"accuracy\"])"
   ]
  },
  {
   "cell_type": "code",
   "execution_count": 9,
   "metadata": {
    "collapsed": false
   },
   "outputs": [
    {
     "name": "stdout",
     "output_type": "stream",
     "text": [
      "Train on 48000 samples, validate on 12000 samples\n",
      "Epoch 1/200\n",
      "48000/48000 [==============================] - 4s - loss: 1.2014 - acc: 0.6776 - val_loss: 0.7290 - val_acc: 0.8727\n",
      "Epoch 2/200\n",
      "48000/48000 [==============================] - 3s - loss: 0.7495 - acc: 0.8324 - val_loss: 0.5042 - val_acc: 0.9039\n",
      "Epoch 3/200\n",
      "48000/48000 [==============================] - 3s - loss: 0.6069 - acc: 0.8623 - val_loss: 0.4077 - val_acc: 0.9191\n",
      "Epoch 4/200\n",
      "48000/48000 [==============================] - 3s - loss: 0.5244 - acc: 0.8779 - val_loss: 0.3510 - val_acc: 0.9249\n",
      "Epoch 5/200\n",
      "48000/48000 [==============================] - 3s - loss: 0.4635 - acc: 0.8894 - val_loss: 0.3102 - val_acc: 0.9311\n",
      "Epoch 6/200\n",
      "48000/48000 [==============================] - 3s - loss: 0.4274 - acc: 0.8963 - val_loss: 0.2819 - val_acc: 0.9353\n",
      "Epoch 7/200\n",
      "48000/48000 [==============================] - 3s - loss: 0.3960 - acc: 0.9019 - val_loss: 0.2584 - val_acc: 0.9408\n",
      "Epoch 8/200\n",
      "48000/48000 [==============================] - 3s - loss: 0.3693 - acc: 0.9078 - val_loss: 0.2413 - val_acc: 0.9428\n",
      "Epoch 9/200\n",
      "48000/48000 [==============================] - 3s - loss: 0.3491 - acc: 0.9112 - val_loss: 0.2265 - val_acc: 0.9448\n",
      "Epoch 10/200\n",
      "48000/48000 [==============================] - 3s - loss: 0.3330 - acc: 0.9142 - val_loss: 0.2150 - val_acc: 0.9462\n",
      "Epoch 11/200\n",
      "48000/48000 [==============================] - 3s - loss: 0.3150 - acc: 0.9187 - val_loss: 0.2031 - val_acc: 0.9497\n",
      "Epoch 12/200\n",
      "48000/48000 [==============================] - 3s - loss: 0.3058 - acc: 0.9201 - val_loss: 0.1952 - val_acc: 0.9507\n",
      "Epoch 13/200\n",
      "48000/48000 [==============================] - 3s - loss: 0.2943 - acc: 0.9231 - val_loss: 0.1874 - val_acc: 0.9532\n",
      "Epoch 14/200\n",
      "48000/48000 [==============================] - 3s - loss: 0.2820 - acc: 0.9260 - val_loss: 0.1809 - val_acc: 0.9534\n",
      "Epoch 15/200\n",
      "48000/48000 [==============================] - 3s - loss: 0.2734 - acc: 0.9276 - val_loss: 0.1745 - val_acc: 0.9544\n",
      "Epoch 16/200\n",
      "48000/48000 [==============================] - 3s - loss: 0.2648 - acc: 0.9299 - val_loss: 0.1680 - val_acc: 0.9567\n",
      "Epoch 17/200\n",
      "48000/48000 [==============================] - 3s - loss: 0.2548 - acc: 0.9312 - val_loss: 0.1634 - val_acc: 0.9568\n",
      "Epoch 18/200\n",
      "48000/48000 [==============================] - 3s - loss: 0.2473 - acc: 0.9343 - val_loss: 0.1581 - val_acc: 0.9584\n",
      "Epoch 19/200\n",
      "48000/48000 [==============================] - 4s - loss: 0.2422 - acc: 0.9342 - val_loss: 0.1545 - val_acc: 0.9593\n",
      "Epoch 20/200\n",
      "48000/48000 [==============================] - 3s - loss: 0.2374 - acc: 0.9360 - val_loss: 0.1501 - val_acc: 0.9599\n",
      "Epoch 21/200\n",
      "48000/48000 [==============================] - 3s - loss: 0.2293 - acc: 0.9386 - val_loss: 0.1463 - val_acc: 0.9617\n",
      "Epoch 22/200\n",
      "48000/48000 [==============================] - 3s - loss: 0.2282 - acc: 0.9383 - val_loss: 0.1431 - val_acc: 0.9625\n",
      "Epoch 23/200\n",
      "48000/48000 [==============================] - 3s - loss: 0.2175 - acc: 0.9411 - val_loss: 0.1404 - val_acc: 0.9629\n",
      "Epoch 24/200\n",
      "48000/48000 [==============================] - 3s - loss: 0.2166 - acc: 0.9409 - val_loss: 0.1366 - val_acc: 0.9633\n",
      "Epoch 25/200\n",
      "48000/48000 [==============================] - 3s - loss: 0.2107 - acc: 0.9423 - val_loss: 0.1338 - val_acc: 0.9650\n",
      "Epoch 26/200\n",
      "48000/48000 [==============================] - 3s - loss: 0.2053 - acc: 0.9443 - val_loss: 0.1316 - val_acc: 0.9651\n",
      "Epoch 27/200\n",
      "48000/48000 [==============================] - 3s - loss: 0.2020 - acc: 0.9438 - val_loss: 0.1293 - val_acc: 0.9657\n",
      "Epoch 28/200\n",
      "48000/48000 [==============================] - 3s - loss: 0.1968 - acc: 0.9459 - val_loss: 0.1271 - val_acc: 0.9652\n",
      "Epoch 29/200\n",
      "48000/48000 [==============================] - 3s - loss: 0.1978 - acc: 0.9440 - val_loss: 0.1250 - val_acc: 0.9665\n",
      "Epoch 30/200\n",
      "48000/48000 [==============================] - 3s - loss: 0.1912 - acc: 0.9473 - val_loss: 0.1228 - val_acc: 0.9669\n",
      "Epoch 31/200\n",
      "48000/48000 [==============================] - 3s - loss: 0.1877 - acc: 0.9471 - val_loss: 0.1210 - val_acc: 0.9667\n",
      "Epoch 32/200\n",
      "48000/48000 [==============================] - 3s - loss: 0.1836 - acc: 0.9500 - val_loss: 0.1188 - val_acc: 0.9676\n",
      "Epoch 33/200\n",
      "48000/48000 [==============================] - 3s - loss: 0.1814 - acc: 0.9500 - val_loss: 0.1173 - val_acc: 0.9678\n",
      "Epoch 34/200\n",
      "48000/48000 [==============================] - 3s - loss: 0.1761 - acc: 0.9514 - val_loss: 0.1152 - val_acc: 0.9683\n",
      "Epoch 35/200\n",
      "48000/48000 [==============================] - 3s - loss: 0.1743 - acc: 0.9510 - val_loss: 0.1137 - val_acc: 0.9688\n",
      "Epoch 36/200\n",
      "48000/48000 [==============================] - 3s - loss: 0.1725 - acc: 0.9511 - val_loss: 0.1122 - val_acc: 0.9693\n",
      "Epoch 37/200\n",
      "48000/48000 [==============================] - 4s - loss: 0.1707 - acc: 0.9521 - val_loss: 0.1113 - val_acc: 0.9693\n",
      "Epoch 38/200\n",
      "48000/48000 [==============================] - 4s - loss: 0.1673 - acc: 0.9532 - val_loss: 0.1096 - val_acc: 0.9698\n",
      "Epoch 39/200\n",
      "48000/48000 [==============================] - 3s - loss: 0.1657 - acc: 0.9539 - val_loss: 0.1083 - val_acc: 0.9704\n",
      "Epoch 40/200\n",
      "48000/48000 [==============================] - 3s - loss: 0.1626 - acc: 0.9544 - val_loss: 0.1072 - val_acc: 0.9695\n",
      "Epoch 41/200\n",
      "48000/48000 [==============================] - 3s - loss: 0.1591 - acc: 0.9553 - val_loss: 0.1055 - val_acc: 0.9703\n",
      "Epoch 42/200\n",
      "48000/48000 [==============================] - 4s - loss: 0.1570 - acc: 0.9556 - val_loss: 0.1046 - val_acc: 0.9712\n",
      "Epoch 43/200\n",
      "48000/48000 [==============================] - 4s - loss: 0.1564 - acc: 0.9558 - val_loss: 0.1033 - val_acc: 0.9713\n",
      "Epoch 44/200\n",
      "48000/48000 [==============================] - 4s - loss: 0.1540 - acc: 0.9565 - val_loss: 0.1024 - val_acc: 0.9711\n",
      "Epoch 45/200\n",
      "48000/48000 [==============================] - 4s - loss: 0.1493 - acc: 0.9583 - val_loss: 0.1015 - val_acc: 0.9713\n",
      "Epoch 46/200\n",
      "48000/48000 [==============================] - 4s - loss: 0.1469 - acc: 0.9589 - val_loss: 0.1005 - val_acc: 0.9712\n",
      "Epoch 47/200\n",
      "48000/48000 [==============================] - 4s - loss: 0.1470 - acc: 0.9578 - val_loss: 0.0995 - val_acc: 0.9724\n",
      "Epoch 48/200\n",
      "48000/48000 [==============================] - 4s - loss: 0.1464 - acc: 0.9591 - val_loss: 0.0989 - val_acc: 0.9720\n",
      "Epoch 49/200\n",
      "48000/48000 [==============================] - 3s - loss: 0.1459 - acc: 0.9593 - val_loss: 0.0982 - val_acc: 0.9719\n",
      "Epoch 50/200\n",
      "48000/48000 [==============================] - 3s - loss: 0.1429 - acc: 0.9593 - val_loss: 0.0972 - val_acc: 0.9723\n",
      "Epoch 51/200\n",
      "48000/48000 [==============================] - 3s - loss: 0.1393 - acc: 0.9607 - val_loss: 0.0965 - val_acc: 0.9722\n",
      "Epoch 52/200\n",
      "48000/48000 [==============================] - 3s - loss: 0.1382 - acc: 0.9608 - val_loss: 0.0956 - val_acc: 0.9712\n",
      "Epoch 53/200\n",
      "48000/48000 [==============================] - 3s - loss: 0.1359 - acc: 0.9617 - val_loss: 0.0944 - val_acc: 0.9719\n",
      "Epoch 54/200\n",
      "48000/48000 [==============================] - 3s - loss: 0.1386 - acc: 0.9602 - val_loss: 0.0940 - val_acc: 0.9728\n",
      "Epoch 55/200\n",
      "48000/48000 [==============================] - 3s - loss: 0.1359 - acc: 0.9614 - val_loss: 0.0929 - val_acc: 0.9725\n",
      "Epoch 56/200\n",
      "48000/48000 [==============================] - 3s - loss: 0.1343 - acc: 0.9614 - val_loss: 0.0926 - val_acc: 0.9730\n",
      "Epoch 57/200\n",
      "48000/48000 [==============================] - 3s - loss: 0.1323 - acc: 0.9626 - val_loss: 0.0914 - val_acc: 0.9736\n",
      "Epoch 58/200\n",
      "48000/48000 [==============================] - 3s - loss: 0.1308 - acc: 0.9626 - val_loss: 0.0910 - val_acc: 0.9730\n",
      "Epoch 59/200\n",
      "48000/48000 [==============================] - 3s - loss: 0.1298 - acc: 0.9627 - val_loss: 0.0908 - val_acc: 0.9734\n",
      "Epoch 60/200\n",
      "48000/48000 [==============================] - 3s - loss: 0.1283 - acc: 0.9640 - val_loss: 0.0895 - val_acc: 0.9742\n",
      "Epoch 61/200\n",
      "48000/48000 [==============================] - 3s - loss: 0.1272 - acc: 0.9647 - val_loss: 0.0897 - val_acc: 0.9732\n",
      "Epoch 62/200\n",
      "48000/48000 [==============================] - 3s - loss: 0.1265 - acc: 0.9639 - val_loss: 0.0886 - val_acc: 0.9743\n",
      "Epoch 63/200\n",
      "48000/48000 [==============================] - 4s - loss: 0.1242 - acc: 0.9649 - val_loss: 0.0882 - val_acc: 0.9740\n",
      "Epoch 64/200\n",
      "48000/48000 [==============================] - 3s - loss: 0.1221 - acc: 0.9656 - val_loss: 0.0880 - val_acc: 0.9741\n",
      "Epoch 65/200\n",
      "48000/48000 [==============================] - 3s - loss: 0.1210 - acc: 0.9655 - val_loss: 0.0873 - val_acc: 0.9738\n",
      "Epoch 66/200\n",
      "48000/48000 [==============================] - 3s - loss: 0.1217 - acc: 0.9643 - val_loss: 0.0871 - val_acc: 0.9738\n",
      "Epoch 67/200\n",
      "48000/48000 [==============================] - 3s - loss: 0.1172 - acc: 0.9664 - val_loss: 0.0861 - val_acc: 0.9745\n",
      "Epoch 68/200\n",
      "48000/48000 [==============================] - 3s - loss: 0.1191 - acc: 0.9661 - val_loss: 0.0862 - val_acc: 0.9748\n",
      "Epoch 69/200\n",
      "48000/48000 [==============================] - 3s - loss: 0.1178 - acc: 0.9661 - val_loss: 0.0853 - val_acc: 0.9745\n",
      "Epoch 70/200\n",
      "48000/48000 [==============================] - 3s - loss: 0.1149 - acc: 0.9663 - val_loss: 0.0851 - val_acc: 0.9752\n",
      "Epoch 71/200\n",
      "48000/48000 [==============================] - 3s - loss: 0.1158 - acc: 0.9663 - val_loss: 0.0842 - val_acc: 0.9750\n",
      "Epoch 72/200\n",
      "48000/48000 [==============================] - 3s - loss: 0.1140 - acc: 0.9670 - val_loss: 0.0842 - val_acc: 0.9747\n",
      "Epoch 73/200\n",
      "48000/48000 [==============================] - 3s - loss: 0.1133 - acc: 0.9676 - val_loss: 0.0831 - val_acc: 0.9756\n",
      "Epoch 74/200\n",
      "48000/48000 [==============================] - 3s - loss: 0.1134 - acc: 0.9668 - val_loss: 0.0831 - val_acc: 0.9758\n",
      "Epoch 75/200\n",
      "48000/48000 [==============================] - 3s - loss: 0.1103 - acc: 0.9679 - val_loss: 0.0827 - val_acc: 0.9753\n",
      "Epoch 76/200\n",
      "48000/48000 [==============================] - 3s - loss: 0.1098 - acc: 0.9674 - val_loss: 0.0824 - val_acc: 0.9751\n",
      "Epoch 77/200\n",
      "48000/48000 [==============================] - 4s - loss: 0.1085 - acc: 0.9685 - val_loss: 0.0820 - val_acc: 0.9747\n",
      "Epoch 78/200\n",
      "48000/48000 [==============================] - 3s - loss: 0.1054 - acc: 0.9702 - val_loss: 0.0818 - val_acc: 0.9763\n",
      "Epoch 79/200\n",
      "48000/48000 [==============================] - 3s - loss: 0.1075 - acc: 0.9689 - val_loss: 0.0804 - val_acc: 0.9770\n",
      "Epoch 80/200\n",
      "48000/48000 [==============================] - 3s - loss: 0.1070 - acc: 0.9695 - val_loss: 0.0807 - val_acc: 0.9761\n",
      "Epoch 81/200\n",
      "48000/48000 [==============================] - 3s - loss: 0.1045 - acc: 0.9691 - val_loss: 0.0810 - val_acc: 0.9753\n",
      "Epoch 82/200\n",
      "48000/48000 [==============================] - 3s - loss: 0.1043 - acc: 0.9699 - val_loss: 0.0804 - val_acc: 0.9755\n",
      "Epoch 83/200\n",
      "48000/48000 [==============================] - 3s - loss: 0.1037 - acc: 0.9701 - val_loss: 0.0801 - val_acc: 0.9758\n",
      "Epoch 84/200\n",
      "48000/48000 [==============================] - 3s - loss: 0.1012 - acc: 0.9703 - val_loss: 0.0800 - val_acc: 0.9758\n",
      "Epoch 85/200\n",
      "48000/48000 [==============================] - 3s - loss: 0.1011 - acc: 0.9706 - val_loss: 0.0799 - val_acc: 0.9762\n",
      "Epoch 86/200\n",
      "48000/48000 [==============================] - 3s - loss: 0.0999 - acc: 0.9711 - val_loss: 0.0793 - val_acc: 0.9762\n",
      "Epoch 87/200\n",
      "48000/48000 [==============================] - 3s - loss: 0.1023 - acc: 0.9693 - val_loss: 0.0786 - val_acc: 0.9763\n",
      "Epoch 88/200\n",
      "48000/48000 [==============================] - 3s - loss: 0.0993 - acc: 0.9715 - val_loss: 0.0787 - val_acc: 0.9765\n",
      "Epoch 89/200\n",
      "48000/48000 [==============================] - 3s - loss: 0.0989 - acc: 0.9719 - val_loss: 0.0788 - val_acc: 0.9765\n",
      "Epoch 90/200\n",
      "48000/48000 [==============================] - 3s - loss: 0.0966 - acc: 0.9722 - val_loss: 0.0781 - val_acc: 0.9770\n",
      "Epoch 91/200\n",
      "48000/48000 [==============================] - 3s - loss: 0.0970 - acc: 0.9710 - val_loss: 0.0779 - val_acc: 0.9763\n",
      "Epoch 92/200\n",
      "48000/48000 [==============================] - 3s - loss: 0.0956 - acc: 0.9718 - val_loss: 0.0783 - val_acc: 0.9764\n",
      "Epoch 93/200\n",
      "48000/48000 [==============================] - 3s - loss: 0.0945 - acc: 0.9720 - val_loss: 0.0773 - val_acc: 0.9768\n",
      "Epoch 94/200\n",
      "48000/48000 [==============================] - 3s - loss: 0.0945 - acc: 0.9721 - val_loss: 0.0768 - val_acc: 0.9768\n",
      "Epoch 95/200\n",
      "48000/48000 [==============================] - 3s - loss: 0.0946 - acc: 0.9724 - val_loss: 0.0771 - val_acc: 0.9770\n",
      "Epoch 96/200\n",
      "48000/48000 [==============================] - 3s - loss: 0.0943 - acc: 0.9725 - val_loss: 0.0772 - val_acc: 0.9769\n",
      "Epoch 97/200\n",
      "48000/48000 [==============================] - 3s - loss: 0.0916 - acc: 0.9735 - val_loss: 0.0765 - val_acc: 0.9771\n",
      "Epoch 98/200\n",
      "48000/48000 [==============================] - 3s - loss: 0.0913 - acc: 0.9733 - val_loss: 0.0770 - val_acc: 0.9767\n",
      "Epoch 99/200\n",
      "48000/48000 [==============================] - 3s - loss: 0.0911 - acc: 0.9728 - val_loss: 0.0764 - val_acc: 0.9772\n",
      "Epoch 100/200\n",
      "48000/48000 [==============================] - 3s - loss: 0.0892 - acc: 0.9739 - val_loss: 0.0754 - val_acc: 0.9771\n",
      "Epoch 101/200\n",
      "48000/48000 [==============================] - 3s - loss: 0.0902 - acc: 0.9740 - val_loss: 0.0756 - val_acc: 0.9770\n",
      "Epoch 102/200\n",
      "48000/48000 [==============================] - 3s - loss: 0.0899 - acc: 0.9733 - val_loss: 0.0758 - val_acc: 0.9776\n",
      "Epoch 103/200\n",
      "48000/48000 [==============================] - 3s - loss: 0.0877 - acc: 0.9743 - val_loss: 0.0757 - val_acc: 0.9770\n",
      "Epoch 104/200\n",
      "48000/48000 [==============================] - 3s - loss: 0.0870 - acc: 0.9746 - val_loss: 0.0757 - val_acc: 0.9774\n",
      "Epoch 105/200\n",
      "48000/48000 [==============================] - 3s - loss: 0.0890 - acc: 0.9741 - val_loss: 0.0754 - val_acc: 0.9771\n",
      "Epoch 106/200\n",
      "48000/48000 [==============================] - 3s - loss: 0.0882 - acc: 0.9741 - val_loss: 0.0746 - val_acc: 0.9775\n",
      "Epoch 107/200\n",
      "48000/48000 [==============================] - 3s - loss: 0.0868 - acc: 0.9752 - val_loss: 0.0747 - val_acc: 0.9778\n",
      "Epoch 108/200\n",
      "48000/48000 [==============================] - 3s - loss: 0.0855 - acc: 0.9748 - val_loss: 0.0747 - val_acc: 0.9776\n",
      "Epoch 109/200\n",
      "48000/48000 [==============================] - 3s - loss: 0.0848 - acc: 0.9759 - val_loss: 0.0746 - val_acc: 0.9774\n",
      "Epoch 110/200\n",
      "48000/48000 [==============================] - 3s - loss: 0.0858 - acc: 0.9748 - val_loss: 0.0740 - val_acc: 0.9776\n",
      "Epoch 111/200\n",
      "48000/48000 [==============================] - 3s - loss: 0.0848 - acc: 0.9745 - val_loss: 0.0743 - val_acc: 0.9775\n",
      "Epoch 112/200\n",
      "48000/48000 [==============================] - 3s - loss: 0.0844 - acc: 0.9754 - val_loss: 0.0742 - val_acc: 0.9776\n",
      "Epoch 113/200\n",
      "48000/48000 [==============================] - 3s - loss: 0.0824 - acc: 0.9759 - val_loss: 0.0738 - val_acc: 0.9769\n",
      "Epoch 114/200\n",
      "48000/48000 [==============================] - 3s - loss: 0.0813 - acc: 0.9753 - val_loss: 0.0739 - val_acc: 0.9779\n",
      "Epoch 115/200\n",
      "48000/48000 [==============================] - 3s - loss: 0.0805 - acc: 0.9764 - val_loss: 0.0733 - val_acc: 0.9776\n",
      "Epoch 116/200\n",
      "48000/48000 [==============================] - 3s - loss: 0.0801 - acc: 0.9774 - val_loss: 0.0734 - val_acc: 0.9778\n",
      "Epoch 117/200\n",
      "48000/48000 [==============================] - 3s - loss: 0.0805 - acc: 0.9766 - val_loss: 0.0729 - val_acc: 0.9777\n",
      "Epoch 118/200\n",
      "48000/48000 [==============================] - 3s - loss: 0.0805 - acc: 0.9764 - val_loss: 0.0727 - val_acc: 0.9786\n",
      "Epoch 119/200\n",
      "48000/48000 [==============================] - 3s - loss: 0.0796 - acc: 0.9770 - val_loss: 0.0730 - val_acc: 0.9777\n",
      "Epoch 120/200\n",
      "48000/48000 [==============================] - 3s - loss: 0.0796 - acc: 0.9774 - val_loss: 0.0726 - val_acc: 0.9780\n",
      "Epoch 121/200\n",
      "48000/48000 [==============================] - 3s - loss: 0.0766 - acc: 0.9775 - val_loss: 0.0722 - val_acc: 0.9783\n",
      "Epoch 122/200\n",
      "48000/48000 [==============================] - 3s - loss: 0.0781 - acc: 0.9775 - val_loss: 0.0720 - val_acc: 0.9786\n",
      "Epoch 123/200\n",
      "48000/48000 [==============================] - 3s - loss: 0.0787 - acc: 0.9772 - val_loss: 0.0718 - val_acc: 0.9788\n",
      "Epoch 124/200\n",
      "48000/48000 [==============================] - 3s - loss: 0.0743 - acc: 0.9784 - val_loss: 0.0723 - val_acc: 0.9781\n",
      "Epoch 125/200\n",
      "48000/48000 [==============================] - 3s - loss: 0.0776 - acc: 0.9769 - val_loss: 0.0723 - val_acc: 0.9780\n",
      "Epoch 126/200\n",
      "48000/48000 [==============================] - 3s - loss: 0.0758 - acc: 0.9775 - val_loss: 0.0716 - val_acc: 0.9782\n",
      "Epoch 127/200\n",
      "48000/48000 [==============================] - 3s - loss: 0.0763 - acc: 0.9780 - val_loss: 0.0719 - val_acc: 0.9781\n",
      "Epoch 128/200\n",
      "48000/48000 [==============================] - 3s - loss: 0.0766 - acc: 0.9769 - val_loss: 0.0720 - val_acc: 0.9784\n",
      "Epoch 129/200\n",
      "48000/48000 [==============================] - 3s - loss: 0.0756 - acc: 0.9774 - val_loss: 0.0713 - val_acc: 0.9785\n",
      "Epoch 130/200\n",
      "48000/48000 [==============================] - 3s - loss: 0.0752 - acc: 0.9776 - val_loss: 0.0713 - val_acc: 0.9779\n",
      "Epoch 131/200\n",
      "48000/48000 [==============================] - 3s - loss: 0.0753 - acc: 0.9781 - val_loss: 0.0708 - val_acc: 0.9788\n",
      "Epoch 132/200\n",
      "48000/48000 [==============================] - 3s - loss: 0.0751 - acc: 0.9778 - val_loss: 0.0708 - val_acc: 0.9786\n",
      "Epoch 133/200\n",
      "48000/48000 [==============================] - 3s - loss: 0.0740 - acc: 0.9783 - val_loss: 0.0709 - val_acc: 0.9789\n",
      "Epoch 134/200\n",
      "48000/48000 [==============================] - 3s - loss: 0.0736 - acc: 0.9786 - val_loss: 0.0699 - val_acc: 0.9786\n",
      "Epoch 135/200\n",
      "48000/48000 [==============================] - 3s - loss: 0.0740 - acc: 0.9776 - val_loss: 0.0706 - val_acc: 0.9788\n",
      "Epoch 136/200\n",
      "48000/48000 [==============================] - 3s - loss: 0.0721 - acc: 0.9785 - val_loss: 0.0702 - val_acc: 0.9789\n",
      "Epoch 137/200\n",
      "48000/48000 [==============================] - 3s - loss: 0.0712 - acc: 0.9791 - val_loss: 0.0701 - val_acc: 0.9793\n",
      "Epoch 138/200\n",
      "48000/48000 [==============================] - 3s - loss: 0.0711 - acc: 0.9788 - val_loss: 0.0701 - val_acc: 0.9791\n",
      "Epoch 139/200\n",
      "48000/48000 [==============================] - 3s - loss: 0.0706 - acc: 0.9784 - val_loss: 0.0693 - val_acc: 0.9789\n",
      "Epoch 140/200\n",
      "48000/48000 [==============================] - 3s - loss: 0.0700 - acc: 0.9790 - val_loss: 0.0698 - val_acc: 0.9794\n",
      "Epoch 141/200\n",
      "48000/48000 [==============================] - 3s - loss: 0.0695 - acc: 0.9790 - val_loss: 0.0697 - val_acc: 0.9788\n",
      "Epoch 142/200\n",
      "48000/48000 [==============================] - 4s - loss: 0.0690 - acc: 0.9794 - val_loss: 0.0696 - val_acc: 0.9798\n",
      "Epoch 143/200\n",
      "48000/48000 [==============================] - 3s - loss: 0.0693 - acc: 0.9795 - val_loss: 0.0696 - val_acc: 0.9794\n",
      "Epoch 144/200\n",
      "48000/48000 [==============================] - 4s - loss: 0.0692 - acc: 0.9795 - val_loss: 0.0694 - val_acc: 0.9791\n",
      "Epoch 145/200\n",
      "48000/48000 [==============================] - 3s - loss: 0.0694 - acc: 0.9791 - val_loss: 0.0693 - val_acc: 0.9790\n",
      "Epoch 146/200\n",
      "48000/48000 [==============================] - 3s - loss: 0.0670 - acc: 0.9806 - val_loss: 0.0696 - val_acc: 0.9793\n",
      "Epoch 147/200\n",
      "48000/48000 [==============================] - 3s - loss: 0.0684 - acc: 0.9796 - val_loss: 0.0690 - val_acc: 0.9791\n",
      "Epoch 148/200\n",
      "48000/48000 [==============================] - 3s - loss: 0.0660 - acc: 0.9807 - val_loss: 0.0691 - val_acc: 0.9789\n",
      "Epoch 149/200\n",
      "48000/48000 [==============================] - 3s - loss: 0.0645 - acc: 0.9814 - val_loss: 0.0691 - val_acc: 0.9793\n",
      "Epoch 150/200\n",
      "48000/48000 [==============================] - 3s - loss: 0.0667 - acc: 0.9804 - val_loss: 0.0690 - val_acc: 0.9793\n",
      "Epoch 151/200\n",
      "48000/48000 [==============================] - 3s - loss: 0.0648 - acc: 0.9811 - val_loss: 0.0686 - val_acc: 0.9789\n",
      "Epoch 152/200\n",
      "48000/48000 [==============================] - 3s - loss: 0.0649 - acc: 0.9807 - val_loss: 0.0686 - val_acc: 0.9787\n",
      "Epoch 153/200\n",
      "48000/48000 [==============================] - 3s - loss: 0.0648 - acc: 0.9809 - val_loss: 0.0689 - val_acc: 0.9790\n",
      "Epoch 154/200\n",
      "48000/48000 [==============================] - 3s - loss: 0.0643 - acc: 0.9807 - val_loss: 0.0690 - val_acc: 0.9798\n",
      "Epoch 155/200\n",
      "48000/48000 [==============================] - 3s - loss: 0.0643 - acc: 0.9809 - val_loss: 0.0690 - val_acc: 0.9792\n",
      "Epoch 156/200\n",
      "48000/48000 [==============================] - 4s - loss: 0.0648 - acc: 0.9810 - val_loss: 0.0692 - val_acc: 0.9788\n",
      "Epoch 157/200\n",
      "48000/48000 [==============================] - 3s - loss: 0.0654 - acc: 0.9802 - val_loss: 0.0691 - val_acc: 0.9793\n",
      "Epoch 158/200\n",
      "48000/48000 [==============================] - 3s - loss: 0.0628 - acc: 0.9819 - val_loss: 0.0688 - val_acc: 0.9794\n",
      "Epoch 159/200\n",
      "48000/48000 [==============================] - 3s - loss: 0.0623 - acc: 0.9816 - val_loss: 0.0691 - val_acc: 0.9790\n",
      "Epoch 160/200\n",
      "48000/48000 [==============================] - 3s - loss: 0.0622 - acc: 0.9817 - val_loss: 0.0694 - val_acc: 0.9795\n",
      "Epoch 161/200\n",
      "48000/48000 [==============================] - 3s - loss: 0.0603 - acc: 0.9827 - val_loss: 0.0691 - val_acc: 0.9793\n",
      "Epoch 162/200\n",
      "48000/48000 [==============================] - 3s - loss: 0.0620 - acc: 0.9819 - val_loss: 0.0686 - val_acc: 0.9798\n",
      "Epoch 163/200\n",
      "48000/48000 [==============================] - 3s - loss: 0.0631 - acc: 0.9816 - val_loss: 0.0691 - val_acc: 0.9800\n",
      "Epoch 164/200\n",
      "48000/48000 [==============================] - 3s - loss: 0.0626 - acc: 0.9816 - val_loss: 0.0683 - val_acc: 0.9798\n",
      "Epoch 165/200\n",
      "48000/48000 [==============================] - 3s - loss: 0.0618 - acc: 0.9812 - val_loss: 0.0684 - val_acc: 0.9795\n",
      "Epoch 166/200\n",
      "48000/48000 [==============================] - 3s - loss: 0.0602 - acc: 0.9821 - val_loss: 0.0684 - val_acc: 0.9794\n",
      "Epoch 167/200\n",
      "48000/48000 [==============================] - 3s - loss: 0.0600 - acc: 0.9825 - val_loss: 0.0685 - val_acc: 0.9798\n",
      "Epoch 168/200\n",
      "48000/48000 [==============================] - 3s - loss: 0.0602 - acc: 0.9829 - val_loss: 0.0685 - val_acc: 0.9799\n",
      "Epoch 169/200\n",
      "48000/48000 [==============================] - 3s - loss: 0.0623 - acc: 0.9811 - val_loss: 0.0686 - val_acc: 0.9797\n",
      "Epoch 170/200\n",
      "48000/48000 [==============================] - 3s - loss: 0.0586 - acc: 0.9832 - val_loss: 0.0682 - val_acc: 0.9802\n",
      "Epoch 171/200\n",
      "48000/48000 [==============================] - 3s - loss: 0.0600 - acc: 0.9819 - val_loss: 0.0680 - val_acc: 0.9798\n",
      "Epoch 172/200\n",
      "48000/48000 [==============================] - 3s - loss: 0.0569 - acc: 0.9835 - val_loss: 0.0675 - val_acc: 0.9801\n",
      "Epoch 173/200\n",
      "48000/48000 [==============================] - 3s - loss: 0.0586 - acc: 0.9829 - val_loss: 0.0681 - val_acc: 0.9798\n",
      "Epoch 174/200\n",
      "48000/48000 [==============================] - 3s - loss: 0.0605 - acc: 0.9825 - val_loss: 0.0675 - val_acc: 0.9803\n",
      "Epoch 175/200\n",
      "48000/48000 [==============================] - 4s - loss: 0.0584 - acc: 0.9829 - val_loss: 0.0680 - val_acc: 0.9800\n",
      "Epoch 176/200\n",
      "48000/48000 [==============================] - 3s - loss: 0.0576 - acc: 0.9834 - val_loss: 0.0681 - val_acc: 0.9803\n",
      "Epoch 177/200\n",
      "48000/48000 [==============================] - 3s - loss: 0.0593 - acc: 0.9831 - val_loss: 0.0682 - val_acc: 0.9800\n",
      "Epoch 178/200\n",
      "48000/48000 [==============================] - 3s - loss: 0.0570 - acc: 0.9833 - val_loss: 0.0680 - val_acc: 0.9798\n",
      "Epoch 179/200\n",
      "48000/48000 [==============================] - 4s - loss: 0.0574 - acc: 0.9831 - val_loss: 0.0689 - val_acc: 0.9804\n",
      "Epoch 180/200\n",
      "48000/48000 [==============================] - 3s - loss: 0.0559 - acc: 0.9830 - val_loss: 0.0684 - val_acc: 0.9802\n",
      "Epoch 181/200\n",
      "48000/48000 [==============================] - 3s - loss: 0.0570 - acc: 0.9830 - val_loss: 0.0683 - val_acc: 0.9806\n",
      "Epoch 182/200\n",
      "48000/48000 [==============================] - 3s - loss: 0.0563 - acc: 0.9833 - val_loss: 0.0680 - val_acc: 0.9803\n",
      "Epoch 183/200\n",
      "48000/48000 [==============================] - 3s - loss: 0.0568 - acc: 0.9830 - val_loss: 0.0683 - val_acc: 0.9803\n",
      "Epoch 184/200\n",
      "48000/48000 [==============================] - 3s - loss: 0.0547 - acc: 0.9835 - val_loss: 0.0680 - val_acc: 0.9804\n",
      "Epoch 185/200\n",
      "48000/48000 [==============================] - 3s - loss: 0.0541 - acc: 0.9845 - val_loss: 0.0677 - val_acc: 0.9803\n",
      "Epoch 186/200\n",
      "48000/48000 [==============================] - 3s - loss: 0.0559 - acc: 0.9832 - val_loss: 0.0680 - val_acc: 0.9802\n",
      "Epoch 187/200\n",
      "48000/48000 [==============================] - 3s - loss: 0.0537 - acc: 0.9841 - val_loss: 0.0681 - val_acc: 0.9801\n",
      "Epoch 188/200\n",
      "48000/48000 [==============================] - 3s - loss: 0.0527 - acc: 0.9849 - val_loss: 0.0674 - val_acc: 0.9797\n",
      "Epoch 189/200\n",
      "48000/48000 [==============================] - 3s - loss: 0.0538 - acc: 0.9842 - val_loss: 0.0680 - val_acc: 0.9796\n",
      "Epoch 190/200\n",
      "48000/48000 [==============================] - 3s - loss: 0.0526 - acc: 0.9845 - val_loss: 0.0682 - val_acc: 0.9799\n",
      "Epoch 191/200\n",
      "48000/48000 [==============================] - 3s - loss: 0.0551 - acc: 0.9839 - val_loss: 0.0677 - val_acc: 0.9796\n",
      "Epoch 192/200\n",
      "48000/48000 [==============================] - 3s - loss: 0.0516 - acc: 0.9853 - val_loss: 0.0677 - val_acc: 0.9796\n",
      "Epoch 193/200\n",
      "48000/48000 [==============================] - 3s - loss: 0.0536 - acc: 0.9843 - val_loss: 0.0682 - val_acc: 0.9798\n",
      "Epoch 194/200\n",
      "48000/48000 [==============================] - 3s - loss: 0.0528 - acc: 0.9848 - val_loss: 0.0678 - val_acc: 0.9798\n",
      "Epoch 195/200\n",
      "48000/48000 [==============================] - 3s - loss: 0.0537 - acc: 0.9834 - val_loss: 0.0675 - val_acc: 0.9799\n",
      "Epoch 196/200\n",
      "48000/48000 [==============================] - 3s - loss: 0.0544 - acc: 0.9838 - val_loss: 0.0682 - val_acc: 0.9800\n",
      "Epoch 197/200\n",
      "48000/48000 [==============================] - 3s - loss: 0.0517 - acc: 0.9851 - val_loss: 0.0676 - val_acc: 0.9799\n",
      "Epoch 198/200\n",
      "48000/48000 [==============================] - 3s - loss: 0.0516 - acc: 0.9849 - val_loss: 0.0681 - val_acc: 0.9802\n",
      "Epoch 199/200\n",
      "48000/48000 [==============================] - 3s - loss: 0.0520 - acc: 0.9846 - val_loss: 0.0677 - val_acc: 0.9796\n",
      "Epoch 200/200\n",
      "48000/48000 [==============================] - 3s - loss: 0.0499 - acc: 0.9852 - val_loss: 0.0676 - val_acc: 0.9804\n"
     ]
    }
   ],
   "source": [
    "time_start = time.clock()\n",
    "history = model.fit(X_train, y_train,\n",
    "                    batch_size=128,\n",
    "                    epochs=200,\n",
    "                    verbose=1,\n",
    "                    validation_split=0.2)\n",
    "time_end = time.clock()"
   ]
  },
  {
   "cell_type": "code",
   "execution_count": 10,
   "metadata": {
    "collapsed": true
   },
   "outputs": [],
   "source": [
    "time_end = time.clock()"
   ]
  },
  {
   "cell_type": "code",
   "execution_count": 11,
   "metadata": {
    "collapsed": false
   },
   "outputs": [
    {
     "name": "stdout",
     "output_type": "stream",
     "text": [
      "Time to train\n",
      "Time elapsed in seconds : 761\n",
      "Time elapsed in minutes : 12.7\n",
      "Time elapsed in hours   : 0.2\n"
     ]
    }
   ],
   "source": [
    "duration = time_end - time_start\n",
    "print(\"Time to train\")\n",
    "print(\"Time elapsed in seconds : %.0f\" % duration)\n",
    "print(\"Time elapsed in minutes : %.1f\" % (duration/60))\n",
    "print(\"Time elapsed in hours   : %.1f\" % (duration/3600))"
   ]
  },
  {
   "cell_type": "code",
   "execution_count": 12,
   "metadata": {
    "collapsed": false
   },
   "outputs": [
    {
     "name": "stdout",
     "output_type": "stream",
     "text": [
      " 9888/10000 [============================>.] - ETA: 0s\n",
      "Test score: 0.0608425197565\n",
      "Test accuracy: 0.9817\n"
     ]
    }
   ],
   "source": [
    "score = model.evaluate(X_test, y_test,\n",
    "                       verbose=1)\n",
    "print(\"\")\n",
    "print(\"Test score:\", score[0])\n",
    "print(\"Test accuracy:\", score[1])"
   ]
  },
  {
   "cell_type": "code",
   "execution_count": 13,
   "metadata": {
    "collapsed": false
   },
   "outputs": [
    {
     "name": "stdout",
     "output_type": "stream",
     "text": [
      "dict_keys(['loss', 'val_acc', 'acc', 'val_loss'])\n"
     ]
    }
   ],
   "source": [
    "# list all data in history\n",
    "print(history.history.keys())"
   ]
  },
  {
   "cell_type": "code",
   "execution_count": 14,
   "metadata": {
    "collapsed": false
   },
   "outputs": [
    {
     "data": {
      "image/png": "[encoded data removed]",
      "text/plain": [
       "<matplotlib.figure.Figure at 0x23a24df2898>"
      ]
     },
     "metadata": {},
     "output_type": "display_data"
    }
   ],
   "source": [
    "# Accuracy\n",
    "plt.plot(history.history[\"acc\"])\n",
    "plt.plot(history.history[\"val_acc\"])\n",
    "plt.title(\"model accuracy\")\n",
    "plt.ylabel(\"accuracy\")\n",
    "plt.xlabel(\"epoch\")\n",
    "plt.legend([\"train\", \"test\"], loc=\"lower left\")\n",
    "plt.show()"
   ]
  },
  {
   "cell_type": "code",
   "execution_count": 15,
   "metadata": {
    "collapsed": false
   },
   "outputs": [
    {
     "data": {
      "image/png": "[encoded data removed]",
      "text/plain": [
       "<matplotlib.figure.Figure at 0x23a24f4f630>"
      ]
     },
     "metadata": {},
     "output_type": "display_data"
    }
   ],
   "source": [
    "# Loss\n",
    "plt.plot(history.history[\"loss\"])\n",
    "plt.plot(history.history[\"val_loss\"])\n",
    "plt.title(\"model loss\")\n",
    "plt.ylabel(\"loss\")\n",
    "plt.xlabel(\"epoch\")\n",
    "plt.legend([\"train\", \"test\"], loc=\"upper left\")\n",
    "plt.show()"
   ]
  }
 ],
 "metadata": {
  "anaconda-cloud": {},
  "kernelspec": {
   "display_name": "Python [default]",
   "language": "python",
   "name": "python3"
  },
  "language_info": {
   "codemirror_mode": {
    "name": "ipython",
    "version": 3
   },
   "file_extension": ".py",
   "mimetype": "text/x-python",
   "name": "python",
   "nbconvert_exporter": "python",
   "pygments_lexer": "ipython3",
   "version": "3.5.2"
  }
 },
 "nbformat": 4,
 "nbformat_minor": 1
}
