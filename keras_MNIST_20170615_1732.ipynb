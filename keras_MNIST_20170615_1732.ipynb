{
 "cells": [
  {
   "cell_type": "code",
   "execution_count": 1,
   "metadata": {
    "collapsed": false
   },
   "outputs": [
    {
     "name": "stderr",
     "output_type": "stream",
     "text": [
      "Using TensorFlow backend.\n"
     ]
    }
   ],
   "source": [
    "import numpy as np\n",
    "import matplotlib.pyplot as plt\n",
    "import time\n",
    "from keras.datasets import mnist\n",
    "from keras.models import Sequential\n",
    "from keras.layers.core import Dense, Dropout, Activation\n",
    "from keras.optimizers import SGD, Adam, RMSprop\n",
    "from keras.utils import np_utils\n",
    "from tensorflow import set_random_seed"
   ]
  },
  {
   "cell_type": "code",
   "execution_count": 2,
   "metadata": {
    "collapsed": false
   },
   "outputs": [],
   "source": [
    "np.random.seed(2015)\n",
    "set_random_seed(2015)"
   ]
  },
  {
   "cell_type": "code",
   "execution_count": 3,
   "metadata": {
    "collapsed": false
   },
   "outputs": [],
   "source": [
    "# Load data\n",
    "(X_train, y_train), (X_test, y_test) = mnist.load_data()"
   ]
  },
  {
   "cell_type": "code",
   "execution_count": 4,
   "metadata": {
    "collapsed": false
   },
   "outputs": [
    {
     "name": "stdout",
     "output_type": "stream",
     "text": [
      "60000 training samples\n",
      "10000 testing samples\n"
     ]
    }
   ],
   "source": [
    "# Preprocessing\n",
    "X_train = X_train.reshape(60000, 784)\n",
    "X_test  = X_test.reshape(10000, 784)\n",
    "X_train = X_train.astype(\"float32\")\n",
    "X_test  = X_test.astype(\"float32\")\n",
    "X_train /= 255\n",
    "X_test  /= 255\n",
    "print(X_train.shape[0], \"training samples\")\n",
    "print(X_test.shape[0], \"testing samples\")"
   ]
  },
  {
   "cell_type": "code",
   "execution_count": 5,
   "metadata": {
    "collapsed": true
   },
   "outputs": [],
   "source": [
    "# Convert labels to one-hot coding\n",
    "# e.g. 1 -> array([ 0.,  1.,  0.,  0.,  0.,  0.,  0.,  0.,  0.,  0.])\n",
    "y_train = np_utils.to_categorical(y_train, 10)\n",
    "y_test = np_utils.to_categorical(y_test, 10)"
   ]
  },
  {
   "cell_type": "markdown",
   "metadata": {},
   "source": [
    "The argument *input_dim* is equivalent to *input_shape* ([reference](https://keras.io/getting-started/sequential-model-guide/))."
   ]
  },
  {
   "cell_type": "code",
   "execution_count": 6,
   "metadata": {
    "collapsed": false
   },
   "outputs": [],
   "source": [
    "# Define the model\n",
    "model = Sequential([\n",
    "        Dense(128, input_dim=784), Activation(\"relu\"), Dropout(0.3),\n",
    "        Dense(128), Activation(\"relu\"), Dropout(0.3),\n",
    "        Dense(10), Activation(\"softmax\")\n",
    "    ])"
   ]
  },
  {
   "cell_type": "code",
   "execution_count": 7,
   "metadata": {
    "collapsed": false
   },
   "outputs": [
    {
     "name": "stdout",
     "output_type": "stream",
     "text": [
      "_________________________________________________________________\n",
      "Layer (type)                 Output Shape              Param #   \n",
      "=================================================================\n",
      "dense_1 (Dense)              (None, 128)               100480    \n",
      "_________________________________________________________________\n",
      "activation_1 (Activation)    (None, 128)               0         \n",
      "_________________________________________________________________\n",
      "dropout_1 (Dropout)          (None, 128)               0         \n",
      "_________________________________________________________________\n",
      "dense_2 (Dense)              (None, 128)               16512     \n",
      "_________________________________________________________________\n",
      "activation_2 (Activation)    (None, 128)               0         \n",
      "_________________________________________________________________\n",
      "dropout_2 (Dropout)          (None, 128)               0         \n",
      "_________________________________________________________________\n",
      "dense_3 (Dense)              (None, 10)                1290      \n",
      "_________________________________________________________________\n",
      "activation_3 (Activation)    (None, 10)                0         \n",
      "=================================================================\n",
      "Total params: 118,282\n",
      "Trainable params: 118,282\n",
      "Non-trainable params: 0\n",
      "_________________________________________________________________\n"
     ]
    }
   ],
   "source": [
    "model.summary()"
   ]
  },
  {
   "cell_type": "code",
   "execution_count": 8,
   "metadata": {
    "collapsed": true
   },
   "outputs": [],
   "source": [
    "model.compile(loss=\"categorical_crossentropy\",\n",
    "              optimizer=SGD(momentum=0.4),\n",
    "              metrics=[\"accuracy\"])"
   ]
  },
  {
   "cell_type": "code",
   "execution_count": 9,
   "metadata": {
    "collapsed": false
   },
   "outputs": [
    {
     "name": "stdout",
     "output_type": "stream",
     "text": [
      "Train on 48000 samples, validate on 12000 samples\n",
      "Epoch 1/200\n",
      "48000/48000 [==============================] - 2s - loss: 1.4502 - acc: 0.5366 - val_loss: 0.6187 - val_acc: 0.8605\n",
      "Epoch 2/200\n",
      "48000/48000 [==============================] - 2s - loss: 0.7097 - acc: 0.7814 - val_loss: 0.4052 - val_acc: 0.8915\n",
      "Epoch 3/200\n",
      "48000/48000 [==============================] - 2s - loss: 0.5536 - acc: 0.8320 - val_loss: 0.3410 - val_acc: 0.9031\n",
      "Epoch 4/200\n",
      "48000/48000 [==============================] - 2s - loss: 0.4834 - acc: 0.8561 - val_loss: 0.3051 - val_acc: 0.9123\n",
      "Epoch 5/200\n",
      "48000/48000 [==============================] - 2s - loss: 0.4309 - acc: 0.8709 - val_loss: 0.2810 - val_acc: 0.9196\n",
      "Epoch 6/200\n",
      "48000/48000 [==============================] - 2s - loss: 0.3983 - acc: 0.8820 - val_loss: 0.2609 - val_acc: 0.9236\n",
      "Epoch 7/200\n",
      "48000/48000 [==============================] - 2s - loss: 0.3744 - acc: 0.8895 - val_loss: 0.2466 - val_acc: 0.9284\n",
      "Epoch 8/200\n",
      "48000/48000 [==============================] - 2s - loss: 0.3504 - acc: 0.8977 - val_loss: 0.2317 - val_acc: 0.9324\n",
      "Epoch 9/200\n",
      "48000/48000 [==============================] - 2s - loss: 0.3345 - acc: 0.9002 - val_loss: 0.2210 - val_acc: 0.9369\n",
      "Epoch 10/200\n",
      "48000/48000 [==============================] - 2s - loss: 0.3174 - acc: 0.9065 - val_loss: 0.2117 - val_acc: 0.9396\n",
      "Epoch 11/200\n",
      "48000/48000 [==============================] - 2s - loss: 0.3037 - acc: 0.9122 - val_loss: 0.2031 - val_acc: 0.9415\n",
      "Epoch 12/200\n",
      "48000/48000 [==============================] - 2s - loss: 0.2942 - acc: 0.9136 - val_loss: 0.1937 - val_acc: 0.9443\n",
      "Epoch 13/200\n",
      "48000/48000 [==============================] - 2s - loss: 0.2792 - acc: 0.9183 - val_loss: 0.1864 - val_acc: 0.9467\n",
      "Epoch 14/200\n",
      "48000/48000 [==============================] - 2s - loss: 0.2720 - acc: 0.9209 - val_loss: 0.1813 - val_acc: 0.9467\n",
      "Epoch 15/200\n",
      "48000/48000 [==============================] - 2s - loss: 0.2608 - acc: 0.9237 - val_loss: 0.1736 - val_acc: 0.9492\n",
      "Epoch 16/200\n",
      "48000/48000 [==============================] - 2s - loss: 0.2532 - acc: 0.9261 - val_loss: 0.1701 - val_acc: 0.9504\n",
      "Epoch 17/200\n",
      "48000/48000 [==============================] - 2s - loss: 0.2454 - acc: 0.9280 - val_loss: 0.1645 - val_acc: 0.9526\n",
      "Epoch 18/200\n",
      "48000/48000 [==============================] - 2s - loss: 0.2368 - acc: 0.9307 - val_loss: 0.1604 - val_acc: 0.9545\n",
      "Epoch 19/200\n",
      "48000/48000 [==============================] - 2s - loss: 0.2345 - acc: 0.9312 - val_loss: 0.1561 - val_acc: 0.9553\n",
      "Epoch 20/200\n",
      "48000/48000 [==============================] - 2s - loss: 0.2247 - acc: 0.9337 - val_loss: 0.1532 - val_acc: 0.9555\n",
      "Epoch 21/200\n",
      "48000/48000 [==============================] - 2s - loss: 0.2189 - acc: 0.9347 - val_loss: 0.1494 - val_acc: 0.9565\n",
      "Epoch 22/200\n",
      "48000/48000 [==============================] - 2s - loss: 0.2142 - acc: 0.9365 - val_loss: 0.1468 - val_acc: 0.9567\n",
      "Epoch 23/200\n",
      "48000/48000 [==============================] - 2s - loss: 0.2092 - acc: 0.9382 - val_loss: 0.1431 - val_acc: 0.9591\n",
      "Epoch 24/200\n",
      "48000/48000 [==============================] - 2s - loss: 0.2058 - acc: 0.9399 - val_loss: 0.1397 - val_acc: 0.9603\n",
      "Epoch 25/200\n",
      "48000/48000 [==============================] - 2s - loss: 0.1996 - acc: 0.9401 - val_loss: 0.1377 - val_acc: 0.9606\n",
      "Epoch 26/200\n",
      "48000/48000 [==============================] - 2s - loss: 0.2004 - acc: 0.9408 - val_loss: 0.1354 - val_acc: 0.9609\n",
      "Epoch 27/200\n",
      "48000/48000 [==============================] - 2s - loss: 0.1916 - acc: 0.9422 - val_loss: 0.1326 - val_acc: 0.9618\n",
      "Epoch 28/200\n",
      "48000/48000 [==============================] - 2s - loss: 0.1893 - acc: 0.9440 - val_loss: 0.1310 - val_acc: 0.9631\n",
      "Epoch 29/200\n",
      "48000/48000 [==============================] - 3s - loss: 0.1891 - acc: 0.9435 - val_loss: 0.1289 - val_acc: 0.9635\n",
      "Epoch 30/200\n",
      "48000/48000 [==============================] - 2s - loss: 0.1829 - acc: 0.9465 - val_loss: 0.1271 - val_acc: 0.9634\n",
      "Epoch 31/200\n",
      "48000/48000 [==============================] - 2s - loss: 0.1755 - acc: 0.9482 - val_loss: 0.1252 - val_acc: 0.9626\n",
      "Epoch 32/200\n",
      "48000/48000 [==============================] - 3s - loss: 0.1727 - acc: 0.9481 - val_loss: 0.1231 - val_acc: 0.9643\n",
      "Epoch 33/200\n",
      "48000/48000 [==============================] - 2s - loss: 0.1720 - acc: 0.9494 - val_loss: 0.1205 - val_acc: 0.9645\n",
      "Epoch 34/200\n",
      "48000/48000 [==============================] - 3s - loss: 0.1672 - acc: 0.9503 - val_loss: 0.1187 - val_acc: 0.9649\n",
      "Epoch 35/200\n",
      "48000/48000 [==============================] - 2s - loss: 0.1661 - acc: 0.9507 - val_loss: 0.1182 - val_acc: 0.9653\n",
      "Epoch 36/200\n",
      "48000/48000 [==============================] - 2s - loss: 0.1646 - acc: 0.9523 - val_loss: 0.1166 - val_acc: 0.9652\n",
      "Epoch 37/200\n",
      "48000/48000 [==============================] - 2s - loss: 0.1641 - acc: 0.9505 - val_loss: 0.1158 - val_acc: 0.9657\n",
      "Epoch 38/200\n",
      "48000/48000 [==============================] - 3s - loss: 0.1613 - acc: 0.9516 - val_loss: 0.1143 - val_acc: 0.9663\n",
      "Epoch 39/200\n",
      "48000/48000 [==============================] - 2s - loss: 0.1562 - acc: 0.9537 - val_loss: 0.1133 - val_acc: 0.9656\n",
      "Epoch 40/200\n",
      "48000/48000 [==============================] - 2s - loss: 0.1553 - acc: 0.9530 - val_loss: 0.1114 - val_acc: 0.9678\n",
      "Epoch 41/200\n",
      "48000/48000 [==============================] - 2s - loss: 0.1519 - acc: 0.9542 - val_loss: 0.1104 - val_acc: 0.9677\n",
      "Epoch 42/200\n",
      "48000/48000 [==============================] - 2s - loss: 0.1498 - acc: 0.9551 - val_loss: 0.1088 - val_acc: 0.9688\n",
      "Epoch 43/200\n",
      "48000/48000 [==============================] - 2s - loss: 0.1494 - acc: 0.9550 - val_loss: 0.1071 - val_acc: 0.9689\n",
      "Epoch 44/200\n",
      "48000/48000 [==============================] - 2s - loss: 0.1481 - acc: 0.9562 - val_loss: 0.1074 - val_acc: 0.9683\n",
      "Epoch 45/200\n",
      "48000/48000 [==============================] - 2s - loss: 0.1424 - acc: 0.9575 - val_loss: 0.1058 - val_acc: 0.9694\n",
      "Epoch 46/200\n",
      "48000/48000 [==============================] - 2s - loss: 0.1429 - acc: 0.9565 - val_loss: 0.1048 - val_acc: 0.9694\n",
      "Epoch 47/200\n",
      "48000/48000 [==============================] - 2s - loss: 0.1392 - acc: 0.9586 - val_loss: 0.1050 - val_acc: 0.9694\n",
      "Epoch 48/200\n",
      "48000/48000 [==============================] - 2s - loss: 0.1394 - acc: 0.9585 - val_loss: 0.1043 - val_acc: 0.9699\n",
      "Epoch 49/200\n",
      "48000/48000 [==============================] - 2s - loss: 0.1390 - acc: 0.9588 - val_loss: 0.1028 - val_acc: 0.9699\n",
      "Epoch 50/200\n",
      "48000/48000 [==============================] - 2s - loss: 0.1343 - acc: 0.9596 - val_loss: 0.1021 - val_acc: 0.9703\n",
      "Epoch 51/200\n",
      "48000/48000 [==============================] - 2s - loss: 0.1326 - acc: 0.9598 - val_loss: 0.1010 - val_acc: 0.9703\n",
      "Epoch 52/200\n",
      "48000/48000 [==============================] - 3s - loss: 0.1332 - acc: 0.9594 - val_loss: 0.1003 - val_acc: 0.9704\n",
      "Epoch 53/200\n",
      "48000/48000 [==============================] - 2s - loss: 0.1303 - acc: 0.9602 - val_loss: 0.0998 - val_acc: 0.9703\n",
      "Epoch 54/200\n",
      "48000/48000 [==============================] - 2s - loss: 0.1275 - acc: 0.9618 - val_loss: 0.0988 - val_acc: 0.9708\n",
      "Epoch 55/200\n",
      "48000/48000 [==============================] - 2s - loss: 0.1300 - acc: 0.9613 - val_loss: 0.0977 - val_acc: 0.9709\n",
      "Epoch 56/200\n",
      "48000/48000 [==============================] - 2s - loss: 0.1293 - acc: 0.9611 - val_loss: 0.0973 - val_acc: 0.9713\n",
      "Epoch 57/200\n",
      "48000/48000 [==============================] - 2s - loss: 0.1265 - acc: 0.9623 - val_loss: 0.0972 - val_acc: 0.9713\n",
      "Epoch 58/200\n",
      "48000/48000 [==============================] - 2s - loss: 0.1248 - acc: 0.9624 - val_loss: 0.0973 - val_acc: 0.9712\n",
      "Epoch 59/200\n",
      "48000/48000 [==============================] - 2s - loss: 0.1211 - acc: 0.9637 - val_loss: 0.0962 - val_acc: 0.9712\n",
      "Epoch 60/200\n",
      "48000/48000 [==============================] - 2s - loss: 0.1221 - acc: 0.9636 - val_loss: 0.0951 - val_acc: 0.9713\n",
      "Epoch 61/200\n",
      "48000/48000 [==============================] - 2s - loss: 0.1225 - acc: 0.9631 - val_loss: 0.0951 - val_acc: 0.9722\n",
      "Epoch 62/200\n",
      "48000/48000 [==============================] - 2s - loss: 0.1182 - acc: 0.9648 - val_loss: 0.0948 - val_acc: 0.9718\n",
      "Epoch 63/200\n",
      "48000/48000 [==============================] - 2s - loss: 0.1180 - acc: 0.9644 - val_loss: 0.0941 - val_acc: 0.9722\n",
      "Epoch 64/200\n",
      "48000/48000 [==============================] - 2s - loss: 0.1158 - acc: 0.9647 - val_loss: 0.0943 - val_acc: 0.9724\n",
      "Epoch 65/200\n",
      "48000/48000 [==============================] - 2s - loss: 0.1157 - acc: 0.9657 - val_loss: 0.0934 - val_acc: 0.9720\n",
      "Epoch 66/200\n",
      "48000/48000 [==============================] - 2s - loss: 0.1163 - acc: 0.9656 - val_loss: 0.0918 - val_acc: 0.9731\n",
      "Epoch 67/200\n",
      "48000/48000 [==============================] - 2s - loss: 0.1137 - acc: 0.9664 - val_loss: 0.0918 - val_acc: 0.9733\n",
      "Epoch 68/200\n",
      "48000/48000 [==============================] - 2s - loss: 0.1117 - acc: 0.9671 - val_loss: 0.0915 - val_acc: 0.9729\n",
      "Epoch 69/200\n",
      "48000/48000 [==============================] - 3s - loss: 0.1122 - acc: 0.9667 - val_loss: 0.0913 - val_acc: 0.9732\n",
      "Epoch 70/200\n",
      "48000/48000 [==============================] - 2s - loss: 0.1100 - acc: 0.9669 - val_loss: 0.0903 - val_acc: 0.9735\n",
      "Epoch 71/200\n",
      "48000/48000 [==============================] - 2s - loss: 0.1079 - acc: 0.9669 - val_loss: 0.0908 - val_acc: 0.9729\n",
      "Epoch 72/200\n",
      "48000/48000 [==============================] - 3s - loss: 0.1074 - acc: 0.9670 - val_loss: 0.0901 - val_acc: 0.9735\n",
      "Epoch 73/200\n",
      "48000/48000 [==============================] - 3s - loss: 0.1088 - acc: 0.9672 - val_loss: 0.0895 - val_acc: 0.9734\n",
      "Epoch 74/200\n",
      "48000/48000 [==============================] - 3s - loss: 0.1068 - acc: 0.9669 - val_loss: 0.0893 - val_acc: 0.9738\n",
      "Epoch 75/200\n",
      "48000/48000 [==============================] - 2s - loss: 0.1051 - acc: 0.9681 - val_loss: 0.0892 - val_acc: 0.9735\n",
      "Epoch 76/200\n",
      "48000/48000 [==============================] - 2s - loss: 0.1075 - acc: 0.9680 - val_loss: 0.0892 - val_acc: 0.9740\n",
      "Epoch 77/200\n",
      "48000/48000 [==============================] - 2s - loss: 0.1015 - acc: 0.9690 - val_loss: 0.0889 - val_acc: 0.9740\n",
      "Epoch 78/200\n",
      "48000/48000 [==============================] - 2s - loss: 0.0999 - acc: 0.9699 - val_loss: 0.0871 - val_acc: 0.9739\n",
      "Epoch 79/200\n",
      "48000/48000 [==============================] - 2s - loss: 0.1018 - acc: 0.9693 - val_loss: 0.0871 - val_acc: 0.9748\n",
      "Epoch 80/200\n",
      "48000/48000 [==============================] - 2s - loss: 0.1025 - acc: 0.9688 - val_loss: 0.0865 - val_acc: 0.9743\n",
      "Epoch 81/200\n",
      "48000/48000 [==============================] - 2s - loss: 0.1013 - acc: 0.9697 - val_loss: 0.0871 - val_acc: 0.9742\n",
      "Epoch 82/200\n",
      "48000/48000 [==============================] - 2s - loss: 0.1000 - acc: 0.9705 - val_loss: 0.0865 - val_acc: 0.9743\n",
      "Epoch 83/200\n",
      "48000/48000 [==============================] - 2s - loss: 0.0981 - acc: 0.9699 - val_loss: 0.0861 - val_acc: 0.9740\n",
      "Epoch 84/200\n",
      "48000/48000 [==============================] - 2s - loss: 0.0967 - acc: 0.9708 - val_loss: 0.0864 - val_acc: 0.9751\n",
      "Epoch 85/200\n",
      "48000/48000 [==============================] - 2s - loss: 0.0975 - acc: 0.9703 - val_loss: 0.0860 - val_acc: 0.9743\n",
      "Epoch 86/200\n",
      "48000/48000 [==============================] - 2s - loss: 0.0955 - acc: 0.9707 - val_loss: 0.0855 - val_acc: 0.9744\n",
      "Epoch 87/200\n",
      "48000/48000 [==============================] - 3s - loss: 0.0957 - acc: 0.9716 - val_loss: 0.0854 - val_acc: 0.9744\n",
      "Epoch 88/200\n",
      "48000/48000 [==============================] - 3s - loss: 0.0964 - acc: 0.9711 - val_loss: 0.0847 - val_acc: 0.9748\n",
      "Epoch 89/200\n",
      "48000/48000 [==============================] - 2s - loss: 0.0927 - acc: 0.9728 - val_loss: 0.0852 - val_acc: 0.9752\n",
      "Epoch 90/200\n",
      "48000/48000 [==============================] - 2s - loss: 0.0923 - acc: 0.9719 - val_loss: 0.0842 - val_acc: 0.9755\n",
      "Epoch 91/200\n",
      "48000/48000 [==============================] - 2s - loss: 0.0938 - acc: 0.9715 - val_loss: 0.0841 - val_acc: 0.9755\n",
      "Epoch 92/200\n",
      "48000/48000 [==============================] - 2s - loss: 0.0932 - acc: 0.9718 - val_loss: 0.0838 - val_acc: 0.9758\n",
      "Epoch 93/200\n",
      "48000/48000 [==============================] - 2s - loss: 0.0903 - acc: 0.9723 - val_loss: 0.0844 - val_acc: 0.9763\n",
      "Epoch 94/200\n",
      "48000/48000 [==============================] - 2s - loss: 0.0907 - acc: 0.9725 - val_loss: 0.0835 - val_acc: 0.9756\n",
      "Epoch 95/200\n",
      "48000/48000 [==============================] - 2s - loss: 0.0909 - acc: 0.9717 - val_loss: 0.0835 - val_acc: 0.9763\n",
      "Epoch 96/200\n",
      "48000/48000 [==============================] - 2s - loss: 0.0904 - acc: 0.9722 - val_loss: 0.0834 - val_acc: 0.9758\n",
      "Epoch 97/200\n",
      "48000/48000 [==============================] - 2s - loss: 0.0892 - acc: 0.9732 - val_loss: 0.0833 - val_acc: 0.9761\n",
      "Epoch 98/200\n",
      "48000/48000 [==============================] - 2s - loss: 0.0892 - acc: 0.9729 - val_loss: 0.0824 - val_acc: 0.9764\n",
      "Epoch 99/200\n",
      "48000/48000 [==============================] - 2s - loss: 0.0865 - acc: 0.9736 - val_loss: 0.0830 - val_acc: 0.9760\n",
      "Epoch 100/200\n",
      "48000/48000 [==============================] - 2s - loss: 0.0871 - acc: 0.9735 - val_loss: 0.0823 - val_acc: 0.9768\n",
      "Epoch 101/200\n",
      "48000/48000 [==============================] - 2s - loss: 0.0876 - acc: 0.9734 - val_loss: 0.0825 - val_acc: 0.9761\n",
      "Epoch 102/200\n",
      "48000/48000 [==============================] - 2s - loss: 0.0832 - acc: 0.9745 - val_loss: 0.0819 - val_acc: 0.9768\n",
      "Epoch 103/200\n",
      "48000/48000 [==============================] - 2s - loss: 0.0844 - acc: 0.9735 - val_loss: 0.0829 - val_acc: 0.9769\n",
      "Epoch 104/200\n",
      "48000/48000 [==============================] - 2s - loss: 0.0862 - acc: 0.9738 - val_loss: 0.0825 - val_acc: 0.9773\n",
      "Epoch 105/200\n",
      "48000/48000 [==============================] - 2s - loss: 0.0860 - acc: 0.9739 - val_loss: 0.0820 - val_acc: 0.9767\n",
      "Epoch 106/200\n",
      "48000/48000 [==============================] - 2s - loss: 0.0826 - acc: 0.9744 - val_loss: 0.0820 - val_acc: 0.9768\n",
      "Epoch 107/200\n",
      "48000/48000 [==============================] - 2s - loss: 0.0824 - acc: 0.9744 - val_loss: 0.0814 - val_acc: 0.9766\n",
      "Epoch 108/200\n",
      "48000/48000 [==============================] - 2s - loss: 0.0851 - acc: 0.9731 - val_loss: 0.0817 - val_acc: 0.9767\n",
      "Epoch 109/200\n",
      "48000/48000 [==============================] - 2s - loss: 0.0807 - acc: 0.9754 - val_loss: 0.0818 - val_acc: 0.9766\n",
      "Epoch 110/200\n",
      "48000/48000 [==============================] - 2s - loss: 0.0817 - acc: 0.9753 - val_loss: 0.0812 - val_acc: 0.9773\n",
      "Epoch 111/200\n",
      "48000/48000 [==============================] - 2s - loss: 0.0803 - acc: 0.9749 - val_loss: 0.0823 - val_acc: 0.9765\n",
      "Epoch 112/200\n",
      "48000/48000 [==============================] - 2s - loss: 0.0807 - acc: 0.9751 - val_loss: 0.0813 - val_acc: 0.9769\n",
      "Epoch 113/200\n",
      "48000/48000 [==============================] - 2s - loss: 0.0794 - acc: 0.9755 - val_loss: 0.0815 - val_acc: 0.9771\n",
      "Epoch 114/200\n",
      "48000/48000 [==============================] - 2s - loss: 0.0783 - acc: 0.9755 - val_loss: 0.0801 - val_acc: 0.9778\n",
      "Epoch 115/200\n",
      "48000/48000 [==============================] - 2s - loss: 0.0775 - acc: 0.9759 - val_loss: 0.0811 - val_acc: 0.9771\n",
      "Epoch 116/200\n",
      "48000/48000 [==============================] - 2s - loss: 0.0753 - acc: 0.9762 - val_loss: 0.0808 - val_acc: 0.9767\n",
      "Epoch 117/200\n",
      "48000/48000 [==============================] - 2s - loss: 0.0779 - acc: 0.9754 - val_loss: 0.0801 - val_acc: 0.9764\n",
      "Epoch 118/200\n",
      "48000/48000 [==============================] - 2s - loss: 0.0775 - acc: 0.9760 - val_loss: 0.0807 - val_acc: 0.9770\n",
      "Epoch 119/200\n",
      "48000/48000 [==============================] - 2s - loss: 0.0786 - acc: 0.9753 - val_loss: 0.0815 - val_acc: 0.9765\n",
      "Epoch 120/200\n",
      "48000/48000 [==============================] - 2s - loss: 0.0760 - acc: 0.9758 - val_loss: 0.0806 - val_acc: 0.9768\n",
      "Epoch 121/200\n",
      "48000/48000 [==============================] - 2s - loss: 0.0729 - acc: 0.9773 - val_loss: 0.0804 - val_acc: 0.9776\n",
      "Epoch 122/200\n",
      "48000/48000 [==============================] - 2s - loss: 0.0729 - acc: 0.9778 - val_loss: 0.0802 - val_acc: 0.9773\n",
      "Epoch 123/200\n",
      "48000/48000 [==============================] - 2s - loss: 0.0733 - acc: 0.9769 - val_loss: 0.0800 - val_acc: 0.9772\n",
      "Epoch 124/200\n",
      "48000/48000 [==============================] - 2s - loss: 0.0755 - acc: 0.9765 - val_loss: 0.0804 - val_acc: 0.9775\n",
      "Epoch 125/200\n",
      "48000/48000 [==============================] - 2s - loss: 0.0728 - acc: 0.9772 - val_loss: 0.0813 - val_acc: 0.9770\n",
      "Epoch 126/200\n",
      "48000/48000 [==============================] - 2s - loss: 0.0726 - acc: 0.9773 - val_loss: 0.0799 - val_acc: 0.9773\n",
      "Epoch 127/200\n",
      "48000/48000 [==============================] - 2s - loss: 0.0741 - acc: 0.9777 - val_loss: 0.0802 - val_acc: 0.9774\n",
      "Epoch 128/200\n",
      "48000/48000 [==============================] - 2s - loss: 0.0739 - acc: 0.9770 - val_loss: 0.0802 - val_acc: 0.9767\n",
      "Epoch 129/200\n",
      "48000/48000 [==============================] - 2s - loss: 0.0743 - acc: 0.9766 - val_loss: 0.0801 - val_acc: 0.9773\n",
      "Epoch 130/200\n",
      "48000/48000 [==============================] - 2s - loss: 0.0732 - acc: 0.9770 - val_loss: 0.0790 - val_acc: 0.9777\n",
      "Epoch 131/200\n",
      "48000/48000 [==============================] - 2s - loss: 0.0699 - acc: 0.9778 - val_loss: 0.0793 - val_acc: 0.9779\n",
      "Epoch 132/200\n",
      "48000/48000 [==============================] - 2s - loss: 0.0710 - acc: 0.9789 - val_loss: 0.0790 - val_acc: 0.9779\n",
      "Epoch 133/200\n",
      "48000/48000 [==============================] - 2s - loss: 0.0715 - acc: 0.9772 - val_loss: 0.0785 - val_acc: 0.9779\n",
      "Epoch 134/200\n",
      "48000/48000 [==============================] - 2s - loss: 0.0712 - acc: 0.9779 - val_loss: 0.0790 - val_acc: 0.9778\n",
      "Epoch 135/200\n",
      "48000/48000 [==============================] - 2s - loss: 0.0695 - acc: 0.9788 - val_loss: 0.0798 - val_acc: 0.9775\n",
      "Epoch 136/200\n",
      "48000/48000 [==============================] - 2s - loss: 0.0691 - acc: 0.9779 - val_loss: 0.0790 - val_acc: 0.9777\n",
      "Epoch 137/200\n",
      "48000/48000 [==============================] - 2s - loss: 0.0678 - acc: 0.9791 - val_loss: 0.0794 - val_acc: 0.9770\n",
      "Epoch 138/200\n",
      "48000/48000 [==============================] - 2s - loss: 0.0677 - acc: 0.9784 - val_loss: 0.0788 - val_acc: 0.9774\n",
      "Epoch 139/200\n",
      "48000/48000 [==============================] - 2s - loss: 0.0680 - acc: 0.9782 - val_loss: 0.0787 - val_acc: 0.9773\n",
      "Epoch 140/200\n",
      "48000/48000 [==============================] - 2s - loss: 0.0670 - acc: 0.9791 - val_loss: 0.0789 - val_acc: 0.9770\n",
      "Epoch 141/200\n",
      "48000/48000 [==============================] - 2s - loss: 0.0672 - acc: 0.9786 - val_loss: 0.0787 - val_acc: 0.9777\n",
      "Epoch 142/200\n",
      "48000/48000 [==============================] - 2s - loss: 0.0675 - acc: 0.9794 - val_loss: 0.0784 - val_acc: 0.9781\n",
      "Epoch 143/200\n",
      "48000/48000 [==============================] - 2s - loss: 0.0667 - acc: 0.9787 - val_loss: 0.0783 - val_acc: 0.9780\n",
      "Epoch 144/200\n",
      "48000/48000 [==============================] - 2s - loss: 0.0661 - acc: 0.9790 - val_loss: 0.0787 - val_acc: 0.9778\n",
      "Epoch 145/200\n",
      "48000/48000 [==============================] - 2s - loss: 0.0654 - acc: 0.9791 - val_loss: 0.0794 - val_acc: 0.9775\n",
      "Epoch 146/200\n",
      "48000/48000 [==============================] - 2s - loss: 0.0662 - acc: 0.9795 - val_loss: 0.0786 - val_acc: 0.9780\n",
      "Epoch 147/200\n",
      "48000/48000 [==============================] - 2s - loss: 0.0648 - acc: 0.9801 - val_loss: 0.0775 - val_acc: 0.9783\n",
      "Epoch 148/200\n",
      "48000/48000 [==============================] - 2s - loss: 0.0632 - acc: 0.9801 - val_loss: 0.0779 - val_acc: 0.9781\n",
      "Epoch 149/200\n",
      "48000/48000 [==============================] - 2s - loss: 0.0641 - acc: 0.9795 - val_loss: 0.0780 - val_acc: 0.9773\n",
      "Epoch 150/200\n",
      "48000/48000 [==============================] - 2s - loss: 0.0647 - acc: 0.9794 - val_loss: 0.0786 - val_acc: 0.9783\n",
      "Epoch 151/200\n",
      "48000/48000 [==============================] - 2s - loss: 0.0643 - acc: 0.9804 - val_loss: 0.0781 - val_acc: 0.9786\n",
      "Epoch 152/200\n",
      "48000/48000 [==============================] - 2s - loss: 0.0610 - acc: 0.9814 - val_loss: 0.0780 - val_acc: 0.9783\n",
      "Epoch 153/200\n",
      "48000/48000 [==============================] - 2s - loss: 0.0636 - acc: 0.9801 - val_loss: 0.0783 - val_acc: 0.9783\n",
      "Epoch 154/200\n",
      "48000/48000 [==============================] - 2s - loss: 0.0629 - acc: 0.9800 - val_loss: 0.0792 - val_acc: 0.9778\n",
      "Epoch 155/200\n",
      "48000/48000 [==============================] - 2s - loss: 0.0636 - acc: 0.9801 - val_loss: 0.0785 - val_acc: 0.9782\n",
      "Epoch 156/200\n",
      "48000/48000 [==============================] - 2s - loss: 0.0645 - acc: 0.9795 - val_loss: 0.0785 - val_acc: 0.9777\n",
      "Epoch 157/200\n",
      "48000/48000 [==============================] - 2s - loss: 0.0633 - acc: 0.9798 - val_loss: 0.0782 - val_acc: 0.9775\n",
      "Epoch 158/200\n",
      "48000/48000 [==============================] - 2s - loss: 0.0633 - acc: 0.9805 - val_loss: 0.0780 - val_acc: 0.9781\n",
      "Epoch 159/200\n",
      "48000/48000 [==============================] - 2s - loss: 0.0625 - acc: 0.9806 - val_loss: 0.0782 - val_acc: 0.9778\n",
      "Epoch 160/200\n",
      "48000/48000 [==============================] - 2s - loss: 0.0613 - acc: 0.9800 - val_loss: 0.0781 - val_acc: 0.9774\n",
      "Epoch 161/200\n",
      "48000/48000 [==============================] - 2s - loss: 0.0600 - acc: 0.9815 - val_loss: 0.0779 - val_acc: 0.9782\n",
      "Epoch 162/200\n",
      "48000/48000 [==============================] - 2s - loss: 0.0591 - acc: 0.9813 - val_loss: 0.0782 - val_acc: 0.9784\n",
      "Epoch 163/200\n",
      "48000/48000 [==============================] - 2s - loss: 0.0607 - acc: 0.9806 - val_loss: 0.0788 - val_acc: 0.9778\n",
      "Epoch 164/200\n",
      "48000/48000 [==============================] - 2s - loss: 0.0610 - acc: 0.9806 - val_loss: 0.0784 - val_acc: 0.9776\n",
      "Epoch 165/200\n",
      "48000/48000 [==============================] - 2s - loss: 0.0582 - acc: 0.9814 - val_loss: 0.0792 - val_acc: 0.9782\n",
      "Epoch 166/200\n",
      "48000/48000 [==============================] - 2s - loss: 0.0611 - acc: 0.9809 - val_loss: 0.0788 - val_acc: 0.9778\n",
      "Epoch 167/200\n",
      "48000/48000 [==============================] - 2s - loss: 0.0590 - acc: 0.9809 - val_loss: 0.0782 - val_acc: 0.9780\n",
      "Epoch 168/200\n",
      "48000/48000 [==============================] - 2s - loss: 0.0559 - acc: 0.9822 - val_loss: 0.0795 - val_acc: 0.9780\n",
      "Epoch 169/200\n",
      "48000/48000 [==============================] - 2s - loss: 0.0570 - acc: 0.9816 - val_loss: 0.0781 - val_acc: 0.9780\n",
      "Epoch 170/200\n",
      "48000/48000 [==============================] - 2s - loss: 0.0575 - acc: 0.9819 - val_loss: 0.0783 - val_acc: 0.9781\n",
      "Epoch 171/200\n",
      "48000/48000 [==============================] - 2s - loss: 0.0574 - acc: 0.9810 - val_loss: 0.0777 - val_acc: 0.9781\n",
      "Epoch 172/200\n",
      "48000/48000 [==============================] - 2s - loss: 0.0578 - acc: 0.9813 - val_loss: 0.0777 - val_acc: 0.9780\n",
      "Epoch 173/200\n",
      "48000/48000 [==============================] - 2s - loss: 0.0584 - acc: 0.9817 - val_loss: 0.0776 - val_acc: 0.9782\n",
      "Epoch 174/200\n",
      "48000/48000 [==============================] - 2s - loss: 0.0590 - acc: 0.9812 - val_loss: 0.0779 - val_acc: 0.9779\n",
      "Epoch 175/200\n",
      "48000/48000 [==============================] - 2s - loss: 0.0566 - acc: 0.9825 - val_loss: 0.0778 - val_acc: 0.9774\n",
      "Epoch 176/200\n",
      "48000/48000 [==============================] - 2s - loss: 0.0563 - acc: 0.9820 - val_loss: 0.0779 - val_acc: 0.9782\n",
      "Epoch 177/200\n",
      "48000/48000 [==============================] - 2s - loss: 0.0559 - acc: 0.9823 - val_loss: 0.0786 - val_acc: 0.9778\n",
      "Epoch 178/200\n",
      "48000/48000 [==============================] - 2s - loss: 0.0555 - acc: 0.9823 - val_loss: 0.0778 - val_acc: 0.9780\n",
      "Epoch 179/200\n",
      "48000/48000 [==============================] - 2s - loss: 0.0570 - acc: 0.9820 - val_loss: 0.0781 - val_acc: 0.9785\n",
      "Epoch 180/200\n",
      "48000/48000 [==============================] - 2s - loss: 0.0543 - acc: 0.9831 - val_loss: 0.0792 - val_acc: 0.9782\n",
      "Epoch 181/200\n",
      "48000/48000 [==============================] - 2s - loss: 0.0552 - acc: 0.9824 - val_loss: 0.0785 - val_acc: 0.9787\n",
      "Epoch 182/200\n",
      "48000/48000 [==============================] - 2s - loss: 0.0549 - acc: 0.9824 - val_loss: 0.0781 - val_acc: 0.9786\n",
      "Epoch 183/200\n",
      "48000/48000 [==============================] - 2s - loss: 0.0559 - acc: 0.9819 - val_loss: 0.0782 - val_acc: 0.9787\n",
      "Epoch 184/200\n",
      "48000/48000 [==============================] - 2s - loss: 0.0539 - acc: 0.9832 - val_loss: 0.0777 - val_acc: 0.9785\n",
      "Epoch 185/200\n",
      "48000/48000 [==============================] - 2s - loss: 0.0552 - acc: 0.9822 - val_loss: 0.0787 - val_acc: 0.9786\n",
      "Epoch 186/200\n",
      "48000/48000 [==============================] - 2s - loss: 0.0536 - acc: 0.9825 - val_loss: 0.0775 - val_acc: 0.9789\n",
      "Epoch 187/200\n",
      "48000/48000 [==============================] - 2s - loss: 0.0533 - acc: 0.9834 - val_loss: 0.0788 - val_acc: 0.9783\n",
      "Epoch 188/200\n",
      "48000/48000 [==============================] - 2s - loss: 0.0536 - acc: 0.9827 - val_loss: 0.0779 - val_acc: 0.9791\n",
      "Epoch 189/200\n",
      "48000/48000 [==============================] - 2s - loss: 0.0534 - acc: 0.9827 - val_loss: 0.0786 - val_acc: 0.9780\n",
      "Epoch 190/200\n",
      "48000/48000 [==============================] - 2s - loss: 0.0511 - acc: 0.9832 - val_loss: 0.0784 - val_acc: 0.9793\n",
      "Epoch 191/200\n",
      "48000/48000 [==============================] - 2s - loss: 0.0526 - acc: 0.9834 - val_loss: 0.0783 - val_acc: 0.9790\n",
      "Epoch 192/200\n",
      "48000/48000 [==============================] - 2s - loss: 0.0517 - acc: 0.9836 - val_loss: 0.0785 - val_acc: 0.9789\n",
      "Epoch 193/200\n",
      "48000/48000 [==============================] - 2s - loss: 0.0547 - acc: 0.9819 - val_loss: 0.0779 - val_acc: 0.9783\n",
      "Epoch 194/200\n",
      "48000/48000 [==============================] - 2s - loss: 0.0542 - acc: 0.9823 - val_loss: 0.0782 - val_acc: 0.9784\n",
      "Epoch 195/200\n",
      "48000/48000 [==============================] - 2s - loss: 0.0524 - acc: 0.9831 - val_loss: 0.0791 - val_acc: 0.9780\n",
      "Epoch 196/200\n",
      "48000/48000 [==============================] - 2s - loss: 0.0520 - acc: 0.9830 - val_loss: 0.0788 - val_acc: 0.9781\n",
      "Epoch 197/200\n",
      "48000/48000 [==============================] - 2s - loss: 0.0533 - acc: 0.9833 - val_loss: 0.0788 - val_acc: 0.9786\n",
      "Epoch 198/200\n",
      "48000/48000 [==============================] - 2s - loss: 0.0509 - acc: 0.9831 - val_loss: 0.0790 - val_acc: 0.9787\n",
      "Epoch 199/200\n",
      "48000/48000 [==============================] - 2s - loss: 0.0510 - acc: 0.9834 - val_loss: 0.0795 - val_acc: 0.9783\n",
      "Epoch 200/200\n",
      "48000/48000 [==============================] - 2s - loss: 0.0501 - acc: 0.9840 - val_loss: 0.0789 - val_acc: 0.9792\n"
     ]
    }
   ],
   "source": [
    "time_start = time.clock()\n",
    "history = model.fit(X_train, y_train,\n",
    "                    batch_size=128,\n",
    "                    epochs=200,\n",
    "                    verbose=1,\n",
    "                    validation_split=0.2)\n",
    "time_end = time.clock()"
   ]
  },
  {
   "cell_type": "code",
   "execution_count": 10,
   "metadata": {
    "collapsed": true
   },
   "outputs": [],
   "source": [
    "time_end = time.clock()"
   ]
  },
  {
   "cell_type": "code",
   "execution_count": 11,
   "metadata": {
    "collapsed": false
   },
   "outputs": [
    {
     "name": "stdout",
     "output_type": "stream",
     "text": [
      "Time to train\n",
      "Time elapsed in seconds : 491\n",
      "Time elapsed in minutes : 8.2\n",
      "Time elapsed in hours   : 0.1\n"
     ]
    }
   ],
   "source": [
    "duration = time_end - time_start\n",
    "print(\"Time to train\")\n",
    "print(\"Time elapsed in seconds : %.0f\" % duration)\n",
    "print(\"Time elapsed in minutes : %.1f\" % (duration/60))\n",
    "print(\"Time elapsed in hours   : %.1f\" % (duration/3600))"
   ]
  },
  {
   "cell_type": "code",
   "execution_count": 12,
   "metadata": {
    "collapsed": false
   },
   "outputs": [
    {
     "name": "stdout",
     "output_type": "stream",
     "text": [
      " 9376/10000 [===========================>..] - ETA: 0s\n",
      "Test score: 0.0749116264819\n",
      "Test accuracy: 0.9791\n"
     ]
    }
   ],
   "source": [
    "score = model.evaluate(X_test, y_test,\n",
    "                       verbose=1)\n",
    "print(\"\")\n",
    "print(\"Test score:\", score[0])\n",
    "print(\"Test accuracy:\", score[1])"
   ]
  },
  {
   "cell_type": "code",
   "execution_count": 13,
   "metadata": {
    "collapsed": false
   },
   "outputs": [
    {
     "name": "stdout",
     "output_type": "stream",
     "text": [
      "dict_keys(['loss', 'val_acc', 'acc', 'val_loss'])\n"
     ]
    }
   ],
   "source": [
    "# list all data in history\n",
    "print(history.history.keys())"
   ]
  },
  {
   "cell_type": "code",
   "execution_count": 14,
   "metadata": {
    "collapsed": false
   },
   "outputs": [
    {
     "data": {
      "image/png": "[encoded data removed]",
      "text/plain": [
       "<matplotlib.figure.Figure at 0x1f073fbe470>"
      ]
     },
     "metadata": {},
     "output_type": "display_data"
    }
   ],
   "source": [
    "# Accuracy\n",
    "plt.plot(history.history[\"acc\"])\n",
    "plt.plot(history.history[\"val_acc\"])\n",
    "plt.title(\"model accuracy\")\n",
    "plt.ylabel(\"accuracy\")\n",
    "plt.xlabel(\"epoch\")\n",
    "plt.legend([\"train\", \"test\"], loc=\"lower left\")\n",
    "plt.show()"
   ]
  },
  {
   "cell_type": "code",
   "execution_count": 15,
   "metadata": {
    "collapsed": false
   },
   "outputs": [
    {
     "data": {
      "image/png": "[encoded data removed]",
      "text/plain": [
       "<matplotlib.figure.Figure at 0x1f074108438>"
      ]
     },
     "metadata": {},
     "output_type": "display_data"
    }
   ],
   "source": [
    "# Loss\n",
    "plt.plot(history.history[\"loss\"])\n",
    "plt.plot(history.history[\"val_loss\"])\n",
    "plt.title(\"model loss\")\n",
    "plt.ylabel(\"loss\")\n",
    "plt.xlabel(\"epoch\")\n",
    "plt.legend([\"train\", \"test\"], loc=\"upper left\")\n",
    "plt.show()"
   ]
  }
 ],
 "metadata": {
  "anaconda-cloud": {},
  "kernelspec": {
   "display_name": "Python [default]",
   "language": "python",
   "name": "python3"
  },
  "language_info": {
   "codemirror_mode": {
    "name": "ipython",
    "version": 3
   },
   "file_extension": ".py",
   "mimetype": "text/x-python",
   "name": "python",
   "nbconvert_exporter": "python",
   "pygments_lexer": "ipython3",
   "version": "3.5.2"
  }
 },
 "nbformat": 4,
 "nbformat_minor": 1
}
