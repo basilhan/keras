{
 "cells": [
  {
   "cell_type": "code",
   "execution_count": 1,
   "metadata": {
    "collapsed": false
   },
   "outputs": [
    {
     "name": "stderr",
     "output_type": "stream",
     "text": [
      "Using TensorFlow backend.\n"
     ]
    }
   ],
   "source": [
    "import numpy as np\n",
    "import matplotlib.pyplot as plt\n",
    "import time\n",
    "from keras.datasets import mnist\n",
    "from keras.models import Sequential\n",
    "from keras.layers.core import Dense, Dropout, Activation\n",
    "from keras.layers.normalization import BatchNormalization\n",
    "from keras.optimizers import SGD, Adam, Adamax, RMSprop, Adagrad, Adadelta, Nadam\n",
    "from keras.utils import np_utils\n",
    "from tensorflow import set_random_seed"
   ]
  },
  {
   "cell_type": "code",
   "execution_count": 2,
   "metadata": {
    "collapsed": false
   },
   "outputs": [],
   "source": [
    "np.random.seed(2015)\n",
    "set_random_seed(2015)"
   ]
  },
  {
   "cell_type": "code",
   "execution_count": 3,
   "metadata": {
    "collapsed": false
   },
   "outputs": [],
   "source": [
    "# Load data\n",
    "(X_train, y_train), (X_test, y_test) = mnist.load_data()"
   ]
  },
  {
   "cell_type": "code",
   "execution_count": 4,
   "metadata": {
    "collapsed": false
   },
   "outputs": [
    {
     "name": "stdout",
     "output_type": "stream",
     "text": [
      "60000 training samples\n",
      "10000 testing samples\n"
     ]
    }
   ],
   "source": [
    "# Preprocessing\n",
    "X_train = X_train.reshape(60000, 784)\n",
    "X_test  = X_test.reshape(10000, 784)\n",
    "X_train = X_train.astype(\"float32\")\n",
    "X_test  = X_test.astype(\"float32\")\n",
    "X_train /= 255\n",
    "X_test  /= 255\n",
    "print(X_train.shape[0], \"training samples\")\n",
    "print(X_test.shape[0], \"testing samples\")"
   ]
  },
  {
   "cell_type": "code",
   "execution_count": 5,
   "metadata": {
    "collapsed": true
   },
   "outputs": [],
   "source": [
    "# Convert labels to one-hot encoding\n",
    "# e.g. 1 -> array([ 0.,  1.,  0.,  0.,  0.,  0.,  0.,  0.,  0.,  0.])\n",
    "y_train = np_utils.to_categorical(y_train, 10)\n",
    "y_test = np_utils.to_categorical(y_test, 10)"
   ]
  },
  {
   "cell_type": "markdown",
   "metadata": {},
   "source": [
    "The argument *input_dim* is equivalent to *input_shape* ([reference](https://keras.io/getting-started/sequential-model-guide/))."
   ]
  },
  {
   "cell_type": "code",
   "execution_count": 6,
   "metadata": {
    "collapsed": false
   },
   "outputs": [],
   "source": [
    "# Define the model\n",
    "model = Sequential([\n",
    "        Dense(128, input_dim=784), Activation(\"relu\"), Dropout(0.22),\n",
    "        Dense(128), Activation(\"relu\"), Dropout(0.22),\n",
    "        Dense(10), Activation(\"softmax\")\n",
    "    ])"
   ]
  },
  {
   "cell_type": "code",
   "execution_count": 7,
   "metadata": {
    "collapsed": false
   },
   "outputs": [
    {
     "name": "stdout",
     "output_type": "stream",
     "text": [
      "_________________________________________________________________\n",
      "Layer (type)                 Output Shape              Param #   \n",
      "=================================================================\n",
      "dense_1 (Dense)              (None, 128)               100480    \n",
      "_________________________________________________________________\n",
      "activation_1 (Activation)    (None, 128)               0         \n",
      "_________________________________________________________________\n",
      "dropout_1 (Dropout)          (None, 128)               0         \n",
      "_________________________________________________________________\n",
      "dense_2 (Dense)              (None, 128)               16512     \n",
      "_________________________________________________________________\n",
      "activation_2 (Activation)    (None, 128)               0         \n",
      "_________________________________________________________________\n",
      "dropout_2 (Dropout)          (None, 128)               0         \n",
      "_________________________________________________________________\n",
      "dense_3 (Dense)              (None, 10)                1290      \n",
      "_________________________________________________________________\n",
      "activation_3 (Activation)    (None, 10)                0         \n",
      "=================================================================\n",
      "Total params: 118,282\n",
      "Trainable params: 118,282\n",
      "Non-trainable params: 0\n",
      "_________________________________________________________________\n"
     ]
    }
   ],
   "source": [
    "model.summary()"
   ]
  },
  {
   "cell_type": "code",
   "execution_count": 8,
   "metadata": {
    "collapsed": false
   },
   "outputs": [],
   "source": [
    "model.compile(loss=\"categorical_crossentropy\",\n",
    "              optimizer=SGD(),\n",
    "              metrics=[\"accuracy\"])"
   ]
  },
  {
   "cell_type": "code",
   "execution_count": 9,
   "metadata": {
    "collapsed": false
   },
   "outputs": [
    {
     "name": "stdout",
     "output_type": "stream",
     "text": [
      "Train on 48000 samples, validate on 12000 samples\n",
      "Epoch 1/200\n",
      "48000/48000 [==============================] - 2s - loss: 1.6612 - acc: 0.4876 - val_loss: 0.8702 - val_acc: 0.8273\n",
      "Epoch 2/200\n",
      "48000/48000 [==============================] - 2s - loss: 0.8313 - acc: 0.7523 - val_loss: 0.5041 - val_acc: 0.8757\n",
      "Epoch 3/200\n",
      "48000/48000 [==============================] - 2s - loss: 0.6246 - acc: 0.8114 - val_loss: 0.4061 - val_acc: 0.8912\n",
      "Epoch 4/200\n",
      "48000/48000 [==============================] - 2s - loss: 0.5357 - acc: 0.8394 - val_loss: 0.3582 - val_acc: 0.8999\n",
      "Epoch 5/200\n",
      "48000/48000 [==============================] - 2s - loss: 0.4799 - acc: 0.8574 - val_loss: 0.3289 - val_acc: 0.9080\n",
      "Epoch 6/200\n",
      "48000/48000 [==============================] - 2s - loss: 0.4439 - acc: 0.8675 - val_loss: 0.3069 - val_acc: 0.9126\n",
      "Epoch 7/200\n",
      "48000/48000 [==============================] - 2s - loss: 0.4153 - acc: 0.8765 - val_loss: 0.2905 - val_acc: 0.9155\n",
      "Epoch 8/200\n",
      "48000/48000 [==============================] - 2s - loss: 0.3925 - acc: 0.8850 - val_loss: 0.2758 - val_acc: 0.9195\n",
      "Epoch 9/200\n",
      "48000/48000 [==============================] - 2s - loss: 0.3745 - acc: 0.8892 - val_loss: 0.2645 - val_acc: 0.9235\n",
      "Epoch 10/200\n",
      "48000/48000 [==============================] - 2s - loss: 0.3590 - acc: 0.8941 - val_loss: 0.2550 - val_acc: 0.9268\n",
      "Epoch 11/200\n",
      "48000/48000 [==============================] - 2s - loss: 0.3433 - acc: 0.8984 - val_loss: 0.2452 - val_acc: 0.9299\n",
      "Epoch 12/200\n",
      "48000/48000 [==============================] - 2s - loss: 0.3321 - acc: 0.9012 - val_loss: 0.2359 - val_acc: 0.9319\n",
      "Epoch 13/200\n",
      "48000/48000 [==============================] - 2s - loss: 0.3198 - acc: 0.9054 - val_loss: 0.2280 - val_acc: 0.9343\n",
      "Epoch 14/200\n",
      "48000/48000 [==============================] - 2s - loss: 0.3090 - acc: 0.9090 - val_loss: 0.2217 - val_acc: 0.9359\n",
      "Epoch 15/200\n",
      "48000/48000 [==============================] - 2s - loss: 0.2994 - acc: 0.9123 - val_loss: 0.2146 - val_acc: 0.9377\n",
      "Epoch 16/200\n",
      "48000/48000 [==============================] - 2s - loss: 0.2906 - acc: 0.9147 - val_loss: 0.2090 - val_acc: 0.9379\n",
      "Epoch 17/200\n",
      "48000/48000 [==============================] - 2s - loss: 0.2811 - acc: 0.9167 - val_loss: 0.2029 - val_acc: 0.9407\n",
      "Epoch 18/200\n",
      "48000/48000 [==============================] - 2s - loss: 0.2711 - acc: 0.9206 - val_loss: 0.1976 - val_acc: 0.9425\n",
      "Epoch 19/200\n",
      "48000/48000 [==============================] - 2s - loss: 0.2687 - acc: 0.9214 - val_loss: 0.1930 - val_acc: 0.9437\n",
      "Epoch 20/200\n",
      "48000/48000 [==============================] - 2s - loss: 0.2596 - acc: 0.9241 - val_loss: 0.1891 - val_acc: 0.9450\n",
      "Epoch 21/200\n",
      "48000/48000 [==============================] - 2s - loss: 0.2532 - acc: 0.9257 - val_loss: 0.1842 - val_acc: 0.9465\n",
      "Epoch 22/200\n",
      "48000/48000 [==============================] - 2s - loss: 0.2498 - acc: 0.9258 - val_loss: 0.1808 - val_acc: 0.9472\n",
      "Epoch 23/200\n",
      "48000/48000 [==============================] - 2s - loss: 0.2406 - acc: 0.9293 - val_loss: 0.1768 - val_acc: 0.9488\n",
      "Epoch 24/200\n",
      "48000/48000 [==============================] - 2s - loss: 0.2376 - acc: 0.9306 - val_loss: 0.1731 - val_acc: 0.9502\n",
      "Epoch 25/200\n",
      "48000/48000 [==============================] - 2s - loss: 0.2309 - acc: 0.9318 - val_loss: 0.1696 - val_acc: 0.9510\n",
      "Epoch 26/200\n",
      "48000/48000 [==============================] - 2s - loss: 0.2289 - acc: 0.9337 - val_loss: 0.1668 - val_acc: 0.9510\n",
      "Epoch 27/200\n",
      "48000/48000 [==============================] - 2s - loss: 0.2198 - acc: 0.9341 - val_loss: 0.1634 - val_acc: 0.9530\n",
      "Epoch 28/200\n",
      "48000/48000 [==============================] - 2s - loss: 0.2176 - acc: 0.9367 - val_loss: 0.1608 - val_acc: 0.9527\n",
      "Epoch 29/200\n",
      "48000/48000 [==============================] - 2s - loss: 0.2176 - acc: 0.9363 - val_loss: 0.1583 - val_acc: 0.9538\n",
      "Epoch 30/200\n",
      "48000/48000 [==============================] - 2s - loss: 0.2109 - acc: 0.9388 - val_loss: 0.1558 - val_acc: 0.9538\n",
      "Epoch 31/200\n",
      "48000/48000 [==============================] - 2s - loss: 0.2062 - acc: 0.9393 - val_loss: 0.1536 - val_acc: 0.9551\n",
      "Epoch 32/200\n",
      "48000/48000 [==============================] - 2s - loss: 0.2018 - acc: 0.9404 - val_loss: 0.1512 - val_acc: 0.9559\n",
      "Epoch 33/200\n",
      "48000/48000 [==============================] - 2s - loss: 0.1997 - acc: 0.9408 - val_loss: 0.1483 - val_acc: 0.9565\n",
      "Epoch 34/200\n",
      "48000/48000 [==============================] - 2s - loss: 0.1929 - acc: 0.9424 - val_loss: 0.1457 - val_acc: 0.9581\n",
      "Epoch 35/200\n",
      "48000/48000 [==============================] - 2s - loss: 0.1923 - acc: 0.9427 - val_loss: 0.1449 - val_acc: 0.9573\n",
      "Epoch 36/200\n",
      "48000/48000 [==============================] - 2s - loss: 0.1897 - acc: 0.9438 - val_loss: 0.1425 - val_acc: 0.9587\n",
      "Epoch 37/200\n",
      "48000/48000 [==============================] - 2s - loss: 0.1898 - acc: 0.9433 - val_loss: 0.1410 - val_acc: 0.9592\n",
      "Epoch 38/200\n",
      "48000/48000 [==============================] - 2s - loss: 0.1841 - acc: 0.9461 - val_loss: 0.1393 - val_acc: 0.9591\n",
      "Epoch 39/200\n",
      "48000/48000 [==============================] - 2s - loss: 0.1808 - acc: 0.9470 - val_loss: 0.1377 - val_acc: 0.9606\n",
      "Epoch 40/200\n",
      "48000/48000 [==============================] - 2s - loss: 0.1811 - acc: 0.9473 - val_loss: 0.1353 - val_acc: 0.9616\n",
      "Epoch 41/200\n",
      "48000/48000 [==============================] - 2s - loss: 0.1758 - acc: 0.9469 - val_loss: 0.1342 - val_acc: 0.9612\n",
      "Epoch 42/200\n",
      "48000/48000 [==============================] - 2s - loss: 0.1753 - acc: 0.9484 - val_loss: 0.1325 - val_acc: 0.9616\n",
      "Epoch 43/200\n",
      "48000/48000 [==============================] - 2s - loss: 0.1715 - acc: 0.9481 - val_loss: 0.1305 - val_acc: 0.9619\n",
      "Epoch 44/200\n",
      "48000/48000 [==============================] - 2s - loss: 0.1709 - acc: 0.9499 - val_loss: 0.1299 - val_acc: 0.9625\n",
      "Epoch 45/200\n",
      "48000/48000 [==============================] - 2s - loss: 0.1678 - acc: 0.9502 - val_loss: 0.1283 - val_acc: 0.9623\n",
      "Epoch 46/200\n",
      "48000/48000 [==============================] - 2s - loss: 0.1646 - acc: 0.9508 - val_loss: 0.1269 - val_acc: 0.9624\n",
      "Epoch 47/200\n",
      "48000/48000 [==============================] - 2s - loss: 0.1634 - acc: 0.9520 - val_loss: 0.1262 - val_acc: 0.9625\n",
      "Epoch 48/200\n",
      "48000/48000 [==============================] - 2s - loss: 0.1594 - acc: 0.9529 - val_loss: 0.1253 - val_acc: 0.9633\n",
      "Epoch 49/200\n",
      "48000/48000 [==============================] - 2s - loss: 0.1617 - acc: 0.9525 - val_loss: 0.1237 - val_acc: 0.9627\n",
      "Epoch 50/200\n",
      "48000/48000 [==============================] - 2s - loss: 0.1568 - acc: 0.9532 - val_loss: 0.1223 - val_acc: 0.9643\n",
      "Epoch 51/200\n",
      "48000/48000 [==============================] - 2s - loss: 0.1534 - acc: 0.9542 - val_loss: 0.1217 - val_acc: 0.9637\n",
      "Epoch 52/200\n",
      "48000/48000 [==============================] - 2s - loss: 0.1556 - acc: 0.9542 - val_loss: 0.1203 - val_acc: 0.9646\n",
      "Epoch 53/200\n",
      "48000/48000 [==============================] - 2s - loss: 0.1518 - acc: 0.9550 - val_loss: 0.1192 - val_acc: 0.9652\n",
      "Epoch 54/200\n",
      "48000/48000 [==============================] - 2s - loss: 0.1493 - acc: 0.9552 - val_loss: 0.1181 - val_acc: 0.9648\n",
      "Epoch 55/200\n",
      "48000/48000 [==============================] - 2s - loss: 0.1494 - acc: 0.9555 - val_loss: 0.1164 - val_acc: 0.9654\n",
      "Epoch 56/200\n",
      "48000/48000 [==============================] - 2s - loss: 0.1494 - acc: 0.9555 - val_loss: 0.1158 - val_acc: 0.9663\n",
      "Epoch 57/200\n",
      "48000/48000 [==============================] - 2s - loss: 0.1464 - acc: 0.9566 - val_loss: 0.1152 - val_acc: 0.9660\n",
      "Epoch 58/200\n",
      "48000/48000 [==============================] - 2s - loss: 0.1442 - acc: 0.9574 - val_loss: 0.1149 - val_acc: 0.9657\n",
      "Epoch 59/200\n",
      "48000/48000 [==============================] - 2s - loss: 0.1425 - acc: 0.9580 - val_loss: 0.1137 - val_acc: 0.9656\n",
      "Epoch 60/200\n",
      "48000/48000 [==============================] - 2s - loss: 0.1407 - acc: 0.9582 - val_loss: 0.1125 - val_acc: 0.9671\n",
      "Epoch 61/200\n",
      "48000/48000 [==============================] - 2s - loss: 0.1415 - acc: 0.9589 - val_loss: 0.1119 - val_acc: 0.9673\n",
      "Epoch 62/200\n",
      "48000/48000 [==============================] - 2s - loss: 0.1386 - acc: 0.9601 - val_loss: 0.1114 - val_acc: 0.9671\n",
      "Epoch 63/200\n",
      "48000/48000 [==============================] - 2s - loss: 0.1382 - acc: 0.9595 - val_loss: 0.1108 - val_acc: 0.9679\n",
      "Epoch 64/200\n",
      "48000/48000 [==============================] - 2s - loss: 0.1326 - acc: 0.9606 - val_loss: 0.1102 - val_acc: 0.9674\n",
      "Epoch 65/200\n",
      "48000/48000 [==============================] - 2s - loss: 0.1337 - acc: 0.9602 - val_loss: 0.1090 - val_acc: 0.9679\n",
      "Epoch 66/200\n",
      "48000/48000 [==============================] - 2s - loss: 0.1344 - acc: 0.9597 - val_loss: 0.1086 - val_acc: 0.9677\n",
      "Epoch 67/200\n",
      "48000/48000 [==============================] - 2s - loss: 0.1306 - acc: 0.9617 - val_loss: 0.1074 - val_acc: 0.9681\n",
      "Epoch 68/200\n",
      "48000/48000 [==============================] - 2s - loss: 0.1305 - acc: 0.9613 - val_loss: 0.1066 - val_acc: 0.9688\n",
      "Epoch 69/200\n",
      "48000/48000 [==============================] - 2s - loss: 0.1306 - acc: 0.9606 - val_loss: 0.1060 - val_acc: 0.9693\n",
      "Epoch 70/200\n",
      "48000/48000 [==============================] - 2s - loss: 0.1282 - acc: 0.9622 - val_loss: 0.1056 - val_acc: 0.9697\n",
      "Epoch 71/200\n",
      "48000/48000 [==============================] - 2s - loss: 0.1252 - acc: 0.9626 - val_loss: 0.1053 - val_acc: 0.9693\n",
      "Epoch 72/200\n",
      "48000/48000 [==============================] - 2s - loss: 0.1251 - acc: 0.9630 - val_loss: 0.1046 - val_acc: 0.9695\n",
      "Epoch 73/200\n",
      "48000/48000 [==============================] - 2s - loss: 0.1269 - acc: 0.9617 - val_loss: 0.1037 - val_acc: 0.9693\n",
      "Epoch 74/200\n",
      "48000/48000 [==============================] - 2s - loss: 0.1235 - acc: 0.9625 - val_loss: 0.1037 - val_acc: 0.9693\n",
      "Epoch 75/200\n",
      "48000/48000 [==============================] - 2s - loss: 0.1231 - acc: 0.9637 - val_loss: 0.1030 - val_acc: 0.9705\n",
      "Epoch 76/200\n",
      "48000/48000 [==============================] - 2s - loss: 0.1225 - acc: 0.9633 - val_loss: 0.1025 - val_acc: 0.9705\n",
      "Epoch 77/200\n",
      "48000/48000 [==============================] - 2s - loss: 0.1189 - acc: 0.9643 - val_loss: 0.1023 - val_acc: 0.9701\n",
      "Epoch 78/200\n",
      "48000/48000 [==============================] - 2s - loss: 0.1177 - acc: 0.9647 - val_loss: 0.1008 - val_acc: 0.9702\n",
      "Epoch 79/200\n",
      "48000/48000 [==============================] - 2s - loss: 0.1200 - acc: 0.9644 - val_loss: 0.1003 - val_acc: 0.9703\n",
      "Epoch 80/200\n",
      "48000/48000 [==============================] - 2s - loss: 0.1198 - acc: 0.9648 - val_loss: 0.0998 - val_acc: 0.9706\n",
      "Epoch 81/200\n",
      "48000/48000 [==============================] - 2s - loss: 0.1168 - acc: 0.9656 - val_loss: 0.0997 - val_acc: 0.9701\n",
      "Epoch 82/200\n",
      "48000/48000 [==============================] - 2s - loss: 0.1160 - acc: 0.9653 - val_loss: 0.0989 - val_acc: 0.9708\n",
      "Epoch 83/200\n",
      "48000/48000 [==============================] - 2s - loss: 0.1148 - acc: 0.9656 - val_loss: 0.0988 - val_acc: 0.9705\n",
      "Epoch 84/200\n",
      "48000/48000 [==============================] - 2s - loss: 0.1125 - acc: 0.9665 - val_loss: 0.0981 - val_acc: 0.9715\n",
      "Epoch 85/200\n",
      "48000/48000 [==============================] - 2s - loss: 0.1127 - acc: 0.9668 - val_loss: 0.0978 - val_acc: 0.9708\n",
      "Epoch 86/200\n",
      "48000/48000 [==============================] - 2s - loss: 0.1119 - acc: 0.9657 - val_loss: 0.0973 - val_acc: 0.9709\n",
      "Epoch 87/200\n",
      "48000/48000 [==============================] - 2s - loss: 0.1120 - acc: 0.9660 - val_loss: 0.0970 - val_acc: 0.9711\n",
      "Epoch 88/200\n",
      "48000/48000 [==============================] - 2s - loss: 0.1116 - acc: 0.9663 - val_loss: 0.0967 - val_acc: 0.9713\n",
      "Epoch 89/200\n",
      "48000/48000 [==============================] - 2s - loss: 0.1091 - acc: 0.9690 - val_loss: 0.0965 - val_acc: 0.9714\n",
      "Epoch 90/200\n",
      "48000/48000 [==============================] - 2s - loss: 0.1074 - acc: 0.9676 - val_loss: 0.0959 - val_acc: 0.9721\n",
      "Epoch 91/200\n",
      "48000/48000 [==============================] - 2s - loss: 0.1092 - acc: 0.9675 - val_loss: 0.0956 - val_acc: 0.9715\n",
      "Epoch 92/200\n",
      "48000/48000 [==============================] - 2s - loss: 0.1084 - acc: 0.9676 - val_loss: 0.0949 - val_acc: 0.9720\n",
      "Epoch 93/200\n",
      "48000/48000 [==============================] - 2s - loss: 0.1035 - acc: 0.9682 - val_loss: 0.0950 - val_acc: 0.9719\n",
      "Epoch 94/200\n",
      "48000/48000 [==============================] - 2s - loss: 0.1060 - acc: 0.9685 - val_loss: 0.0942 - val_acc: 0.9724\n",
      "Epoch 95/200\n",
      "48000/48000 [==============================] - 2s - loss: 0.1062 - acc: 0.9679 - val_loss: 0.0938 - val_acc: 0.9719\n",
      "Epoch 96/200\n",
      "48000/48000 [==============================] - 2s - loss: 0.1053 - acc: 0.9681 - val_loss: 0.0936 - val_acc: 0.9720\n",
      "Epoch 97/200\n",
      "48000/48000 [==============================] - 2s - loss: 0.1033 - acc: 0.9693 - val_loss: 0.0931 - val_acc: 0.9723\n",
      "Epoch 98/200\n",
      "48000/48000 [==============================] - 2s - loss: 0.1022 - acc: 0.9694 - val_loss: 0.0923 - val_acc: 0.9731\n",
      "Epoch 99/200\n",
      "48000/48000 [==============================] - 2s - loss: 0.1016 - acc: 0.9697 - val_loss: 0.0923 - val_acc: 0.9726\n",
      "Epoch 100/200\n",
      "48000/48000 [==============================] - 2s - loss: 0.1002 - acc: 0.9698 - val_loss: 0.0917 - val_acc: 0.9730\n",
      "Epoch 101/200\n",
      "48000/48000 [==============================] - 2s - loss: 0.1023 - acc: 0.9694 - val_loss: 0.0916 - val_acc: 0.9728\n",
      "Epoch 102/200\n",
      "48000/48000 [==============================] - 2s - loss: 0.0979 - acc: 0.9703 - val_loss: 0.0913 - val_acc: 0.9723\n",
      "Epoch 103/200\n",
      "48000/48000 [==============================] - 2s - loss: 0.0984 - acc: 0.9704 - val_loss: 0.0917 - val_acc: 0.9723\n",
      "Epoch 104/200\n",
      "48000/48000 [==============================] - 2s - loss: 0.0999 - acc: 0.9696 - val_loss: 0.0909 - val_acc: 0.9733\n",
      "Epoch 105/200\n",
      "48000/48000 [==============================] - 2s - loss: 0.0989 - acc: 0.9704 - val_loss: 0.0907 - val_acc: 0.9735\n",
      "Epoch 106/200\n",
      "48000/48000 [==============================] - 2s - loss: 0.0970 - acc: 0.9705 - val_loss: 0.0899 - val_acc: 0.9731\n",
      "Epoch 107/200\n",
      "48000/48000 [==============================] - 2s - loss: 0.0962 - acc: 0.9714 - val_loss: 0.0900 - val_acc: 0.9729\n",
      "Epoch 108/200\n",
      "48000/48000 [==============================] - 2s - loss: 0.0964 - acc: 0.9711 - val_loss: 0.0900 - val_acc: 0.9732\n",
      "Epoch 109/200\n",
      "48000/48000 [==============================] - 2s - loss: 0.0952 - acc: 0.9713 - val_loss: 0.0894 - val_acc: 0.9730\n",
      "Epoch 110/200\n",
      "48000/48000 [==============================] - 2s - loss: 0.0941 - acc: 0.9714 - val_loss: 0.0889 - val_acc: 0.9736\n",
      "Epoch 111/200\n",
      "48000/48000 [==============================] - 2s - loss: 0.0935 - acc: 0.9721 - val_loss: 0.0893 - val_acc: 0.9737\n",
      "Epoch 112/200\n",
      "48000/48000 [==============================] - 2s - loss: 0.0938 - acc: 0.9719 - val_loss: 0.0892 - val_acc: 0.9732\n",
      "Epoch 113/200\n",
      "48000/48000 [==============================] - 2s - loss: 0.0928 - acc: 0.9714 - val_loss: 0.0890 - val_acc: 0.9736\n",
      "Epoch 114/200\n",
      "48000/48000 [==============================] - 2s - loss: 0.0911 - acc: 0.9725 - val_loss: 0.0884 - val_acc: 0.9735\n",
      "Epoch 115/200\n",
      "48000/48000 [==============================] - 2s - loss: 0.0908 - acc: 0.9721 - val_loss: 0.0882 - val_acc: 0.9732\n",
      "Epoch 116/200\n",
      "48000/48000 [==============================] - 2s - loss: 0.0904 - acc: 0.9722 - val_loss: 0.0879 - val_acc: 0.9738\n",
      "Epoch 117/200\n",
      "48000/48000 [==============================] - 2s - loss: 0.0909 - acc: 0.9716 - val_loss: 0.0876 - val_acc: 0.9740\n",
      "Epoch 118/200\n",
      "48000/48000 [==============================] - 2s - loss: 0.0912 - acc: 0.9728 - val_loss: 0.0874 - val_acc: 0.9738\n",
      "Epoch 119/200\n",
      "48000/48000 [==============================] - 2s - loss: 0.0901 - acc: 0.9728 - val_loss: 0.0879 - val_acc: 0.9744\n",
      "Epoch 120/200\n",
      "48000/48000 [==============================] - 2s - loss: 0.0877 - acc: 0.9734 - val_loss: 0.0873 - val_acc: 0.9741\n",
      "Epoch 121/200\n",
      "48000/48000 [==============================] - 2s - loss: 0.0865 - acc: 0.9743 - val_loss: 0.0868 - val_acc: 0.9747\n",
      "Epoch 122/200\n",
      "48000/48000 [==============================] - 2s - loss: 0.0853 - acc: 0.9742 - val_loss: 0.0867 - val_acc: 0.9743\n",
      "Epoch 123/200\n",
      "48000/48000 [==============================] - 2s - loss: 0.0866 - acc: 0.9739 - val_loss: 0.0863 - val_acc: 0.9742\n",
      "Epoch 124/200\n",
      "48000/48000 [==============================] - 2s - loss: 0.0860 - acc: 0.9737 - val_loss: 0.0869 - val_acc: 0.9742\n",
      "Epoch 125/200\n",
      "48000/48000 [==============================] - 2s - loss: 0.0859 - acc: 0.9734 - val_loss: 0.0863 - val_acc: 0.9744\n",
      "Epoch 126/200\n",
      "48000/48000 [==============================] - 2s - loss: 0.0868 - acc: 0.9738 - val_loss: 0.0855 - val_acc: 0.9746\n",
      "Epoch 127/200\n",
      "48000/48000 [==============================] - 2s - loss: 0.0850 - acc: 0.9739 - val_loss: 0.0851 - val_acc: 0.9746\n",
      "Epoch 128/200\n",
      "48000/48000 [==============================] - 2s - loss: 0.0845 - acc: 0.9741 - val_loss: 0.0850 - val_acc: 0.9744\n",
      "Epoch 129/200\n",
      "48000/48000 [==============================] - 2s - loss: 0.0863 - acc: 0.9740 - val_loss: 0.0853 - val_acc: 0.9740\n",
      "Epoch 130/200\n",
      "48000/48000 [==============================] - 2s - loss: 0.0842 - acc: 0.9742 - val_loss: 0.0847 - val_acc: 0.9742\n",
      "Epoch 131/200\n",
      "48000/48000 [==============================] - 2s - loss: 0.0824 - acc: 0.9752 - val_loss: 0.0848 - val_acc: 0.9748\n",
      "Epoch 132/200\n",
      "48000/48000 [==============================] - 2s - loss: 0.0825 - acc: 0.9753 - val_loss: 0.0842 - val_acc: 0.9750\n",
      "Epoch 133/200\n",
      "48000/48000 [==============================] - 2s - loss: 0.0827 - acc: 0.9744 - val_loss: 0.0845 - val_acc: 0.9748\n",
      "Epoch 134/200\n",
      "48000/48000 [==============================] - 2s - loss: 0.0821 - acc: 0.9754 - val_loss: 0.0841 - val_acc: 0.9746\n",
      "Epoch 135/200\n",
      "48000/48000 [==============================] - 2s - loss: 0.0833 - acc: 0.9749 - val_loss: 0.0840 - val_acc: 0.9750\n",
      "Epoch 136/200\n",
      "48000/48000 [==============================] - 2s - loss: 0.0825 - acc: 0.9742 - val_loss: 0.0840 - val_acc: 0.9747\n",
      "Epoch 137/200\n",
      "48000/48000 [==============================] - 2s - loss: 0.0791 - acc: 0.9758 - val_loss: 0.0840 - val_acc: 0.9745\n",
      "Epoch 138/200\n",
      "48000/48000 [==============================] - 2s - loss: 0.0803 - acc: 0.9756 - val_loss: 0.0838 - val_acc: 0.9750\n",
      "Epoch 139/200\n",
      "48000/48000 [==============================] - 2s - loss: 0.0796 - acc: 0.9756 - val_loss: 0.0841 - val_acc: 0.9755\n",
      "Epoch 140/200\n",
      "48000/48000 [==============================] - 2s - loss: 0.0799 - acc: 0.9762 - val_loss: 0.0835 - val_acc: 0.9752\n",
      "Epoch 141/200\n",
      "48000/48000 [==============================] - 2s - loss: 0.0784 - acc: 0.9761 - val_loss: 0.0835 - val_acc: 0.9758\n",
      "Epoch 142/200\n",
      "48000/48000 [==============================] - 2s - loss: 0.0788 - acc: 0.9757 - val_loss: 0.0831 - val_acc: 0.9753\n",
      "Epoch 143/200\n",
      "48000/48000 [==============================] - 2s - loss: 0.0759 - acc: 0.9767 - val_loss: 0.0827 - val_acc: 0.9754\n",
      "Epoch 144/200\n",
      "48000/48000 [==============================] - 2s - loss: 0.0791 - acc: 0.9760 - val_loss: 0.0826 - val_acc: 0.9751\n",
      "Epoch 145/200\n",
      "48000/48000 [==============================] - 2s - loss: 0.0763 - acc: 0.9764 - val_loss: 0.0828 - val_acc: 0.9752\n",
      "Epoch 146/200\n",
      "48000/48000 [==============================] - 2s - loss: 0.0762 - acc: 0.9769 - val_loss: 0.0827 - val_acc: 0.9756\n",
      "Epoch 147/200\n",
      "48000/48000 [==============================] - 2s - loss: 0.0749 - acc: 0.9783 - val_loss: 0.0817 - val_acc: 0.9760\n",
      "Epoch 148/200\n",
      "48000/48000 [==============================] - 2s - loss: 0.0745 - acc: 0.9767 - val_loss: 0.0820 - val_acc: 0.9759\n",
      "Epoch 149/200\n",
      "48000/48000 [==============================] - 2s - loss: 0.0746 - acc: 0.9773 - val_loss: 0.0828 - val_acc: 0.9758\n",
      "Epoch 150/200\n",
      "48000/48000 [==============================] - 2s - loss: 0.0749 - acc: 0.9769 - val_loss: 0.0828 - val_acc: 0.9760\n",
      "Epoch 151/200\n",
      "48000/48000 [==============================] - 2s - loss: 0.0750 - acc: 0.9769 - val_loss: 0.0822 - val_acc: 0.9752\n",
      "Epoch 152/200\n",
      "48000/48000 [==============================] - 2s - loss: 0.0718 - acc: 0.9791 - val_loss: 0.0819 - val_acc: 0.9751\n",
      "Epoch 153/200\n",
      "48000/48000 [==============================] - 2s - loss: 0.0748 - acc: 0.9774 - val_loss: 0.0821 - val_acc: 0.9751\n",
      "Epoch 154/200\n",
      "48000/48000 [==============================] - 2s - loss: 0.0726 - acc: 0.9778 - val_loss: 0.0821 - val_acc: 0.9753\n",
      "Epoch 155/200\n",
      "48000/48000 [==============================] - 2s - loss: 0.0726 - acc: 0.9783 - val_loss: 0.0821 - val_acc: 0.9752\n",
      "Epoch 156/200\n",
      "48000/48000 [==============================] - 2s - loss: 0.0744 - acc: 0.9774 - val_loss: 0.0823 - val_acc: 0.9753\n",
      "Epoch 157/200\n",
      "48000/48000 [==============================] - 2s - loss: 0.0730 - acc: 0.9782 - val_loss: 0.0815 - val_acc: 0.9756\n",
      "Epoch 158/200\n",
      "48000/48000 [==============================] - 2s - loss: 0.0728 - acc: 0.9780 - val_loss: 0.0812 - val_acc: 0.9752\n",
      "Epoch 159/200\n",
      "48000/48000 [==============================] - 2s - loss: 0.0713 - acc: 0.9785 - val_loss: 0.0811 - val_acc: 0.9757\n",
      "Epoch 160/200\n",
      "48000/48000 [==============================] - 2s - loss: 0.0709 - acc: 0.9784 - val_loss: 0.0814 - val_acc: 0.9753\n",
      "Epoch 161/200\n",
      "48000/48000 [==============================] - 2s - loss: 0.0694 - acc: 0.9782 - val_loss: 0.0810 - val_acc: 0.9757\n",
      "Epoch 162/200\n",
      "48000/48000 [==============================] - 2s - loss: 0.0700 - acc: 0.9780 - val_loss: 0.0807 - val_acc: 0.9754\n",
      "Epoch 163/200\n",
      "48000/48000 [==============================] - 2s - loss: 0.0708 - acc: 0.9783 - val_loss: 0.0809 - val_acc: 0.9756\n",
      "Epoch 164/200\n",
      "48000/48000 [==============================] - 2s - loss: 0.0705 - acc: 0.9784 - val_loss: 0.0806 - val_acc: 0.9758\n",
      "Epoch 165/200\n",
      "48000/48000 [==============================] - 2s - loss: 0.0700 - acc: 0.9783 - val_loss: 0.0812 - val_acc: 0.9758\n",
      "Epoch 166/200\n",
      "48000/48000 [==============================] - 2s - loss: 0.0704 - acc: 0.9788 - val_loss: 0.0807 - val_acc: 0.9758\n",
      "Epoch 167/200\n",
      "48000/48000 [==============================] - 2s - loss: 0.0690 - acc: 0.9786 - val_loss: 0.0802 - val_acc: 0.9759\n",
      "Epoch 168/200\n",
      "48000/48000 [==============================] - 2s - loss: 0.0670 - acc: 0.9792 - val_loss: 0.0810 - val_acc: 0.9762\n",
      "Epoch 169/200\n",
      "48000/48000 [==============================] - 2s - loss: 0.0692 - acc: 0.9783 - val_loss: 0.0805 - val_acc: 0.9754\n",
      "Epoch 170/200\n",
      "48000/48000 [==============================] - 2s - loss: 0.0682 - acc: 0.9792 - val_loss: 0.0796 - val_acc: 0.9758\n",
      "Epoch 171/200\n",
      "48000/48000 [==============================] - 2s - loss: 0.0670 - acc: 0.9796 - val_loss: 0.0807 - val_acc: 0.9761\n",
      "Epoch 172/200\n",
      "48000/48000 [==============================] - 2s - loss: 0.0669 - acc: 0.9785 - val_loss: 0.0802 - val_acc: 0.9759\n",
      "Epoch 173/200\n",
      "48000/48000 [==============================] - 2s - loss: 0.0669 - acc: 0.9791 - val_loss: 0.0801 - val_acc: 0.9761\n",
      "Epoch 174/200\n",
      "48000/48000 [==============================] - 2s - loss: 0.0684 - acc: 0.9795 - val_loss: 0.0797 - val_acc: 0.9765\n",
      "Epoch 175/200\n",
      "48000/48000 [==============================] - 2s - loss: 0.0664 - acc: 0.9797 - val_loss: 0.0800 - val_acc: 0.9766\n",
      "Epoch 176/200\n",
      "48000/48000 [==============================] - 2s - loss: 0.0649 - acc: 0.9801 - val_loss: 0.0796 - val_acc: 0.9762\n",
      "Epoch 177/200\n",
      "48000/48000 [==============================] - 2s - loss: 0.0646 - acc: 0.9798 - val_loss: 0.0803 - val_acc: 0.9761\n",
      "Epoch 178/200\n",
      "48000/48000 [==============================] - 2s - loss: 0.0654 - acc: 0.9801 - val_loss: 0.0793 - val_acc: 0.9761\n",
      "Epoch 179/200\n",
      "48000/48000 [==============================] - 2s - loss: 0.0654 - acc: 0.9796 - val_loss: 0.0795 - val_acc: 0.9761\n",
      "Epoch 180/200\n",
      "48000/48000 [==============================] - 2s - loss: 0.0652 - acc: 0.9799 - val_loss: 0.0797 - val_acc: 0.9762\n",
      "Epoch 181/200\n",
      "48000/48000 [==============================] - 2s - loss: 0.0646 - acc: 0.9802 - val_loss: 0.0795 - val_acc: 0.9766\n",
      "Epoch 182/200\n",
      "48000/48000 [==============================] - 2s - loss: 0.0650 - acc: 0.9794 - val_loss: 0.0793 - val_acc: 0.9761\n",
      "Epoch 183/200\n",
      "48000/48000 [==============================] - 2s - loss: 0.0643 - acc: 0.9799 - val_loss: 0.0795 - val_acc: 0.9771\n",
      "Epoch 184/200\n",
      "48000/48000 [==============================] - 2s - loss: 0.0631 - acc: 0.9798 - val_loss: 0.0788 - val_acc: 0.9768\n",
      "Epoch 185/200\n",
      "48000/48000 [==============================] - 2s - loss: 0.0641 - acc: 0.9797 - val_loss: 0.0798 - val_acc: 0.9763\n",
      "Epoch 186/200\n",
      "48000/48000 [==============================] - 2s - loss: 0.0630 - acc: 0.9805 - val_loss: 0.0790 - val_acc: 0.9772\n",
      "Epoch 187/200\n",
      "48000/48000 [==============================] - 2s - loss: 0.0622 - acc: 0.9803 - val_loss: 0.0799 - val_acc: 0.9771\n",
      "Epoch 188/200\n",
      "48000/48000 [==============================] - 2s - loss: 0.0620 - acc: 0.9806 - val_loss: 0.0789 - val_acc: 0.9768\n",
      "Epoch 189/200\n",
      "48000/48000 [==============================] - 2s - loss: 0.0635 - acc: 0.9798 - val_loss: 0.0796 - val_acc: 0.9766\n",
      "Epoch 190/200\n",
      "48000/48000 [==============================] - 2s - loss: 0.0610 - acc: 0.9808 - val_loss: 0.0787 - val_acc: 0.9774\n",
      "Epoch 191/200\n",
      "48000/48000 [==============================] - 2s - loss: 0.0617 - acc: 0.9814 - val_loss: 0.0788 - val_acc: 0.9767\n",
      "Epoch 192/200\n",
      "48000/48000 [==============================] - 2s - loss: 0.0611 - acc: 0.9813 - val_loss: 0.0795 - val_acc: 0.9772\n",
      "Epoch 193/200\n",
      "48000/48000 [==============================] - 2s - loss: 0.0639 - acc: 0.9796 - val_loss: 0.0783 - val_acc: 0.9769\n",
      "Epoch 194/200\n",
      "48000/48000 [==============================] - 2s - loss: 0.0624 - acc: 0.9807 - val_loss: 0.0791 - val_acc: 0.9768\n",
      "Epoch 195/200\n",
      "48000/48000 [==============================] - 2s - loss: 0.0607 - acc: 0.9812 - val_loss: 0.0794 - val_acc: 0.9766\n",
      "Epoch 196/200\n",
      "48000/48000 [==============================] - 2s - loss: 0.0600 - acc: 0.9809 - val_loss: 0.0792 - val_acc: 0.9772\n",
      "Epoch 197/200\n",
      "48000/48000 [==============================] - 2s - loss: 0.0608 - acc: 0.9812 - val_loss: 0.0789 - val_acc: 0.9773\n",
      "Epoch 198/200\n",
      "48000/48000 [==============================] - 2s - loss: 0.0591 - acc: 0.9816 - val_loss: 0.0790 - val_acc: 0.9773\n",
      "Epoch 199/200\n",
      "48000/48000 [==============================] - 2s - loss: 0.0595 - acc: 0.9817 - val_loss: 0.0786 - val_acc: 0.9771\n",
      "Epoch 200/200\n",
      "48000/48000 [==============================] - 2s - loss: 0.0586 - acc: 0.9817 - val_loss: 0.0787 - val_acc: 0.9772\n"
     ]
    }
   ],
   "source": [
    "time_start = time.clock()\n",
    "history = model.fit(X_train, y_train,\n",
    "                    batch_size=128,\n",
    "                    epochs=200,\n",
    "                    verbose=1,\n",
    "                    validation_split=0.2)\n",
    "time_end = time.clock()"
   ]
  },
  {
   "cell_type": "code",
   "execution_count": 10,
   "metadata": {
    "collapsed": false
   },
   "outputs": [
    {
     "name": "stdout",
     "output_type": "stream",
     "text": [
      "Time to train\n",
      "Time elapsed in seconds : 450\n",
      "Time elapsed in minutes : 7.5\n",
      "Time elapsed in hours   : 0.1\n"
     ]
    }
   ],
   "source": [
    "duration = time_end - time_start\n",
    "print(\"Time to train\")\n",
    "print(\"Time elapsed in seconds : %.0f\" % duration)\n",
    "print(\"Time elapsed in minutes : %.1f\" % (duration/60))\n",
    "print(\"Time elapsed in hours   : %.1f\" % (duration/3600))"
   ]
  },
  {
   "cell_type": "code",
   "execution_count": 11,
   "metadata": {
    "collapsed": false
   },
   "outputs": [
    {
     "name": "stdout",
     "output_type": "stream",
     "text": [
      " 8576/10000 [========================>.....] - ETA: 0s\n",
      "Test score: 0.072919775948\n",
      "Test accuracy: 0.9788\n"
     ]
    }
   ],
   "source": [
    "score = model.evaluate(X_test, y_test,\n",
    "                       verbose=1)\n",
    "print(\"\")\n",
    "print(\"Test score:\", score[0])\n",
    "print(\"Test accuracy:\", score[1])"
   ]
  },
  {
   "cell_type": "code",
   "execution_count": 12,
   "metadata": {
    "collapsed": false
   },
   "outputs": [
    {
     "name": "stdout",
     "output_type": "stream",
     "text": [
      "dict_keys(['val_loss', 'val_acc', 'loss', 'acc'])\n"
     ]
    }
   ],
   "source": [
    "# list all data in history\n",
    "print(history.history.keys())"
   ]
  },
  {
   "cell_type": "code",
   "execution_count": 13,
   "metadata": {
    "collapsed": false
   },
   "outputs": [
    {
     "data": {
      "image/png": "[encoded data removed]",
      "text/plain": [
       "<matplotlib.figure.Figure at 0x2bc7a852828>"
      ]
     },
     "metadata": {},
     "output_type": "display_data"
    }
   ],
   "source": [
    "# Accuracy\n",
    "plt.plot(history.history[\"acc\"])\n",
    "plt.plot(history.history[\"val_acc\"])\n",
    "plt.title(\"model accuracy\")\n",
    "plt.ylabel(\"accuracy\")\n",
    "plt.xlabel(\"epoch\")\n",
    "plt.legend([\"train\", \"test\"], loc=\"lower left\")\n",
    "plt.show()"
   ]
  },
  {
   "cell_type": "code",
   "execution_count": 14,
   "metadata": {
    "collapsed": false
   },
   "outputs": [
    {
     "data": {
      "image/png": "[encoded data removed]",
      "text/plain": [
       "<matplotlib.figure.Figure at 0x2bc7a981d30>"
      ]
     },
     "metadata": {},
     "output_type": "display_data"
    }
   ],
   "source": [
    "# Loss\n",
    "plt.plot(history.history[\"loss\"])\n",
    "plt.plot(history.history[\"val_loss\"])\n",
    "plt.title(\"model loss\")\n",
    "plt.ylabel(\"loss\")\n",
    "plt.xlabel(\"epoch\")\n",
    "plt.legend([\"train\", \"test\"], loc=\"upper left\")\n",
    "plt.show()"
   ]
  }
 ],
 "metadata": {
  "anaconda-cloud": {},
  "kernelspec": {
   "display_name": "Python [default]",
   "language": "python",
   "name": "python3"
  },
  "language_info": {
   "codemirror_mode": {
    "name": "ipython",
    "version": 3
   },
   "file_extension": ".py",
   "mimetype": "text/x-python",
   "name": "python",
   "nbconvert_exporter": "python",
   "pygments_lexer": "ipython3",
   "version": "3.5.2"
  }
 },
 "nbformat": 4,
 "nbformat_minor": 1
}
