{
 "cells": [
  {
   "cell_type": "code",
   "execution_count": 1,
   "metadata": {
    "collapsed": false
   },
   "outputs": [
    {
     "name": "stderr",
     "output_type": "stream",
     "text": [
      "Using TensorFlow backend.\n"
     ]
    }
   ],
   "source": [
    "import numpy as np\n",
    "import matplotlib.pyplot as plt\n",
    "import time\n",
    "from keras.datasets import mnist\n",
    "from keras.models import Sequential\n",
    "from keras.layers.core import Dense, Dropout, Activation\n",
    "from keras.optimizers import SGD, Adam, RMSprop\n",
    "from keras.utils import np_utils\n",
    "from keras.wrappers.scikit_learn import KerasClassifier\n",
    "from tensorflow import set_random_seed\n",
    "from sklearn.grid_search import GridSearchCV"
   ]
  },
  {
   "cell_type": "code",
   "execution_count": 2,
   "metadata": {
    "collapsed": false
   },
   "outputs": [],
   "source": [
    "np.random.seed(2015)\n",
    "set_random_seed(2015)"
   ]
  },
  {
   "cell_type": "code",
   "execution_count": 3,
   "metadata": {
    "collapsed": true
   },
   "outputs": [],
   "source": [
    "# Function to create model used by KerasClassifier\n",
    "def create_model(activation=\"relu\",\n",
    "                 width_hidden=128,\n",
    "                 dropout=0.3):\n",
    "    # Define model\n",
    "    model = Sequential([\n",
    "        Dense(width_hidden, input_dim=784), Activation(activation), Dropout(dropout),\n",
    "        Dense(width_hidden), Activation(activation), Dropout(dropout),\n",
    "        Dense(10), Activation('softmax')\n",
    "    ])\n",
    "    # Compile model\n",
    "    model.compile(loss='categorical_crossentropy',\n",
    "              optimizer=SGD(),\n",
    "              metrics=['accuracy'])\n",
    "    return model"
   ]
  },
  {
   "cell_type": "code",
   "execution_count": 4,
   "metadata": {
    "collapsed": false
   },
   "outputs": [],
   "source": [
    "# Load data\n",
    "(X_train, y_train), (X_test, y_test) = mnist.load_data()"
   ]
  },
  {
   "cell_type": "code",
   "execution_count": 5,
   "metadata": {
    "collapsed": false
   },
   "outputs": [
    {
     "name": "stdout",
     "output_type": "stream",
     "text": [
      "60000 training samples\n",
      "10000 testing samples\n"
     ]
    }
   ],
   "source": [
    "# Preprocessing\n",
    "X_train = X_train.reshape(60000, 784)\n",
    "X_test  = X_test.reshape(10000, 784)\n",
    "X_train = X_train.astype('float32')\n",
    "X_test  = X_test.astype('float32')\n",
    "X_train /= 255\n",
    "X_test  /= 255\n",
    "print(X_train.shape[0], \"training samples\")\n",
    "print(X_test.shape[0], \"testing samples\")"
   ]
  },
  {
   "cell_type": "code",
   "execution_count": 6,
   "metadata": {
    "collapsed": false
   },
   "outputs": [],
   "source": [
    "# Convert labels to one-hot coding\n",
    "# e.g. 1 -> array([ 0.,  1.,  0.,  0.,  0.,  0.,  0.,  0.,  0.,  0.])\n",
    "y_train = np_utils.to_categorical(y_train, 10)\n",
    "y_test = np_utils.to_categorical(y_test, 10)"
   ]
  },
  {
   "cell_type": "code",
   "execution_count": 7,
   "metadata": {
    "collapsed": true
   },
   "outputs": [],
   "source": [
    "time_start = time.clock()"
   ]
  },
  {
   "cell_type": "code",
   "execution_count": 8,
   "metadata": {
    "collapsed": true
   },
   "outputs": [],
   "source": [
    "# Default hyperparameters\n",
    "batch_size = 128\n",
    "nb_epoch = 200"
   ]
  },
  {
   "cell_type": "code",
   "execution_count": 9,
   "metadata": {
    "collapsed": false
   },
   "outputs": [],
   "source": [
    "# Create model\n",
    "model = KerasClassifier(build_fn=create_model,\n",
    "                        nb_epoch=nb_epoch,\n",
    "                        batch_size=batch_size,\n",
    "                        verbose=0)\n",
    "# Grid search hyperparameters\n",
    "activations = [\"softplus\", \"softsign\", \"relu\", \"tanh\", \"sigmoid\", \"linear\"]\n",
    "dropouts = [0.1, 0.2, 0.3, 0.4]\n",
    "param_grid = dict(activation=activations, dropout=dropouts)"
   ]
  },
  {
   "cell_type": "code",
   "execution_count": 10,
   "metadata": {
    "collapsed": false
   },
   "outputs": [
    {
     "name": "stdout",
     "output_type": "stream",
     "text": [
      "Performing grid search ...\n",
      "Fitting 3 folds for each of 24 candidates, totalling 72 fits\n",
      "[CV] activation=softplus, dropout=0.1 ................................\n",
      "[CV] ....... activation=softplus, dropout=0.1, score=0.891650 -  17.5s\n",
      "[CV] activation=softplus, dropout=0.1 ................................\n"
     ]
    },
    {
     "name": "stderr",
     "output_type": "stream",
     "text": [
      "[Parallel(n_jobs=1)]: Done   1 tasks       | elapsed:   17.5s\n"
     ]
    },
    {
     "name": "stdout",
     "output_type": "stream",
     "text": [
      "[CV] ....... activation=softplus, dropout=0.1, score=0.887350 -  17.7s\n",
      "[CV] activation=softplus, dropout=0.1 ................................\n",
      "[CV] ....... activation=softplus, dropout=0.1, score=0.895000 -  19.8s\n",
      "[CV] activation=softplus, dropout=0.2 ................................\n",
      "[CV] ....... activation=softplus, dropout=0.2, score=0.879150 -  23.3s\n",
      "[CV] activation=softplus, dropout=0.2 ................................\n"
     ]
    },
    {
     "name": "stderr",
     "output_type": "stream",
     "text": [
      "[Parallel(n_jobs=1)]: Done   4 tasks       | elapsed:  1.3min\n"
     ]
    },
    {
     "name": "stdout",
     "output_type": "stream",
     "text": [
      "[CV] ....... activation=softplus, dropout=0.2, score=0.877900 -  21.7s\n",
      "[CV] activation=softplus, dropout=0.2 ................................\n",
      "[CV] ....... activation=softplus, dropout=0.2, score=0.885300 -  21.8s\n",
      "[CV] activation=softplus, dropout=0.3 ................................\n",
      "[CV] ....... activation=softplus, dropout=0.3, score=0.865050 -  21.6s\n",
      "[CV] activation=softplus, dropout=0.3 ................................\n"
     ]
    },
    {
     "name": "stderr",
     "output_type": "stream",
     "text": [
      "[Parallel(n_jobs=1)]: Done   7 tasks       | elapsed:  2.4min\n"
     ]
    },
    {
     "name": "stdout",
     "output_type": "stream",
     "text": [
      "[CV] ....... activation=softplus, dropout=0.3, score=0.864300 -  19.9s\n",
      "[CV] activation=softplus, dropout=0.3 ................................\n",
      "[CV] ....... activation=softplus, dropout=0.3, score=0.875450 -  19.6s\n",
      "[CV] activation=softplus, dropout=0.4 ................................\n",
      "[CV] ....... activation=softplus, dropout=0.4, score=0.852800 -  19.6s\n",
      "[CV] activation=softplus, dropout=0.4 ................................\n",
      "[CV] ....... activation=softplus, dropout=0.4, score=0.847500 -  19.3s\n",
      "[CV] activation=softplus, dropout=0.4 ................................\n",
      "[CV] ....... activation=softplus, dropout=0.4, score=0.854550 -  18.7s\n",
      "[CV] activation=softsign, dropout=0.1 ................................\n"
     ]
    },
    {
     "name": "stderr",
     "output_type": "stream",
     "text": [
      "[Parallel(n_jobs=1)]: Done  12 tasks       | elapsed:  4.0min\n"
     ]
    },
    {
     "name": "stdout",
     "output_type": "stream",
     "text": [
      "[CV] ....... activation=softsign, dropout=0.1, score=0.903850 -  17.1s\n",
      "[CV] activation=softsign, dropout=0.1 ................................\n",
      "[CV] ....... activation=softsign, dropout=0.1, score=0.897950 -  17.3s\n",
      "[CV] activation=softsign, dropout=0.1 ................................\n",
      "[CV] ....... activation=softsign, dropout=0.1, score=0.903100 -  17.3s\n",
      "[CV] activation=softsign, dropout=0.2 ................................\n",
      "[CV] ....... activation=softsign, dropout=0.2, score=0.901100 -  17.3s\n",
      "[CV] activation=softsign, dropout=0.2 ................................\n",
      "[CV] ....... activation=softsign, dropout=0.2, score=0.892800 -  17.4s\n",
      "[CV] activation=softsign, dropout=0.2 ................................\n"
     ]
    },
    {
     "name": "stderr",
     "output_type": "stream",
     "text": [
      "[Parallel(n_jobs=1)]: Done  17 tasks       | elapsed:  5.5min\n"
     ]
    },
    {
     "name": "stdout",
     "output_type": "stream",
     "text": [
      "[CV] ....... activation=softsign, dropout=0.2, score=0.902050 -  17.8s\n",
      "[CV] activation=softsign, dropout=0.3 ................................\n",
      "[CV] ....... activation=softsign, dropout=0.3, score=0.900750 -  18.3s\n",
      "[CV] activation=softsign, dropout=0.3 ................................\n",
      "[CV] ....... activation=softsign, dropout=0.3, score=0.895400 -  21.1s\n",
      "[CV] activation=softsign, dropout=0.3 ................................\n",
      "[CV] ....... activation=softsign, dropout=0.3, score=0.902000 -  18.1s\n",
      "[CV] activation=softsign, dropout=0.4 ................................\n",
      "[CV] ....... activation=softsign, dropout=0.4, score=0.896600 -  18.4s\n",
      "[CV] activation=softsign, dropout=0.4 ................................\n",
      "[CV] ....... activation=softsign, dropout=0.4, score=0.892900 -  18.7s\n",
      "[CV] activation=softsign, dropout=0.4 ................................\n",
      "[CV] ....... activation=softsign, dropout=0.4, score=0.897750 -  18.1s\n",
      "[CV] activation=relu, dropout=0.1 ....................................\n"
     ]
    },
    {
     "name": "stderr",
     "output_type": "stream",
     "text": [
      "[Parallel(n_jobs=1)]: Done  24 tasks       | elapsed:  7.7min\n"
     ]
    },
    {
     "name": "stdout",
     "output_type": "stream",
     "text": [
      "[CV] ........... activation=relu, dropout=0.1, score=0.917650 -  17.9s\n",
      "[CV] activation=relu, dropout=0.1 ....................................\n",
      "[CV] ........... activation=relu, dropout=0.1, score=0.916650 -  17.9s\n",
      "[CV] activation=relu, dropout=0.1 ....................................\n",
      "[CV] ........... activation=relu, dropout=0.1, score=0.922100 -  20.9s\n",
      "[CV] activation=relu, dropout=0.2 ....................................\n",
      "[CV] ........... activation=relu, dropout=0.2, score=0.915000 -  20.5s\n",
      "[CV] activation=relu, dropout=0.2 ....................................\n",
      "[CV] ........... activation=relu, dropout=0.2, score=0.911800 -  22.4s\n",
      "[CV] activation=relu, dropout=0.2 ....................................\n",
      "[CV] ........... activation=relu, dropout=0.2, score=0.918000 -  21.2s\n",
      "[CV] activation=relu, dropout=0.3 ....................................\n",
      "[CV] ........... activation=relu, dropout=0.3, score=0.913200 -  18.8s\n",
      "[CV] activation=relu, dropout=0.3 ....................................\n"
     ]
    },
    {
     "name": "stderr",
     "output_type": "stream",
     "text": [
      "[Parallel(n_jobs=1)]: Done  31 tasks       | elapsed: 10.0min\n"
     ]
    },
    {
     "name": "stdout",
     "output_type": "stream",
     "text": [
      "[CV] ........... activation=relu, dropout=0.3, score=0.907700 -  18.9s\n",
      "[CV] activation=relu, dropout=0.3 ....................................\n",
      "[CV] ........... activation=relu, dropout=0.3, score=0.914250 -  20.5s\n",
      "[CV] activation=relu, dropout=0.4 ....................................\n",
      "[CV] ........... activation=relu, dropout=0.4, score=0.908200 -  22.3s\n",
      "[CV] activation=relu, dropout=0.4 ....................................\n",
      "[CV] ........... activation=relu, dropout=0.4, score=0.904800 -  21.3s\n",
      "[CV] activation=relu, dropout=0.4 ....................................\n",
      "[CV] ........... activation=relu, dropout=0.4, score=0.911750 -  21.2s\n",
      "[CV] activation=tanh, dropout=0.1 ....................................\n",
      "[CV] ........... activation=tanh, dropout=0.1, score=0.911200 -  20.9s\n",
      "[CV] activation=tanh, dropout=0.1 ....................................\n",
      "[CV] ........... activation=tanh, dropout=0.1, score=0.906150 -  21.1s\n",
      "[CV] activation=tanh, dropout=0.1 ....................................\n",
      "[CV] ........... activation=tanh, dropout=0.1, score=0.909700 -  20.6s\n",
      "[CV] activation=tanh, dropout=0.2 ....................................\n",
      "[CV] ........... activation=tanh, dropout=0.2, score=0.908300 -  23.9s\n",
      "[CV] activation=tanh, dropout=0.2 ....................................\n"
     ]
    },
    {
     "name": "stderr",
     "output_type": "stream",
     "text": [
      "[Parallel(n_jobs=1)]: Done  40 tasks       | elapsed: 13.2min\n"
     ]
    },
    {
     "name": "stdout",
     "output_type": "stream",
     "text": [
      "[CV] ........... activation=tanh, dropout=0.2, score=0.903400 -  19.7s\n",
      "[CV] activation=tanh, dropout=0.2 ....................................\n",
      "[CV] ........... activation=tanh, dropout=0.2, score=0.910100 -  19.8s\n",
      "[CV] activation=tanh, dropout=0.3 ....................................\n",
      "[CV] ........... activation=tanh, dropout=0.3, score=0.908400 -  19.8s\n",
      "[CV] activation=tanh, dropout=0.3 ....................................\n",
      "[CV] ........... activation=tanh, dropout=0.3, score=0.902000 -  19.9s\n",
      "[CV] activation=tanh, dropout=0.3 ....................................\n",
      "[CV] ........... activation=tanh, dropout=0.3, score=0.909100 -  20.2s\n",
      "[CV] activation=tanh, dropout=0.4 ....................................\n",
      "[CV] ........... activation=tanh, dropout=0.4, score=0.905350 -  20.1s\n",
      "[CV] activation=tanh, dropout=0.4 ....................................\n",
      "[CV] ........... activation=tanh, dropout=0.4, score=0.900750 -  20.3s\n",
      "[CV] activation=tanh, dropout=0.4 ....................................\n",
      "[CV] ........... activation=tanh, dropout=0.4, score=0.907250 -  20.6s\n",
      "[CV] activation=sigmoid, dropout=0.1 .................................\n",
      "[CV] ........ activation=sigmoid, dropout=0.1, score=0.677900 -  20.3s\n",
      "[CV] activation=sigmoid, dropout=0.1 .................................\n"
     ]
    },
    {
     "name": "stderr",
     "output_type": "stream",
     "text": [
      "[Parallel(n_jobs=1)]: Done  49 tasks       | elapsed: 16.2min\n"
     ]
    },
    {
     "name": "stdout",
     "output_type": "stream",
     "text": [
      "[CV] ........ activation=sigmoid, dropout=0.1, score=0.635950 -  20.2s\n",
      "[CV] activation=sigmoid, dropout=0.1 .................................\n",
      "[CV] ........ activation=sigmoid, dropout=0.1, score=0.632050 -  21.0s\n",
      "[CV] activation=sigmoid, dropout=0.2 .................................\n",
      "[CV] ........ activation=sigmoid, dropout=0.2, score=0.669350 -  21.2s\n",
      "[CV] activation=sigmoid, dropout=0.2 .................................\n",
      "[CV] ........ activation=sigmoid, dropout=0.2, score=0.635450 -  20.6s\n",
      "[CV] activation=sigmoid, dropout=0.2 .................................\n",
      "[CV] ........ activation=sigmoid, dropout=0.2, score=0.625500 -  20.8s\n",
      "[CV] activation=sigmoid, dropout=0.3 .................................\n",
      "[CV] ........ activation=sigmoid, dropout=0.3, score=0.607500 -  22.6s\n",
      "[CV] activation=sigmoid, dropout=0.3 .................................\n",
      "[CV] ........ activation=sigmoid, dropout=0.3, score=0.610800 -  22.2s\n",
      "[CV] activation=sigmoid, dropout=0.3 .................................\n",
      "[CV] ........ activation=sigmoid, dropout=0.3, score=0.635800 -  22.7s\n",
      "[CV] activation=sigmoid, dropout=0.4 .................................\n",
      "[CV] ........ activation=sigmoid, dropout=0.4, score=0.563400 -  25.4s\n",
      "[CV] activation=sigmoid, dropout=0.4 .................................\n",
      "[CV] ........ activation=sigmoid, dropout=0.4, score=0.565450 -  25.8s\n",
      "[CV] activation=sigmoid, dropout=0.4 .................................\n",
      "[CV] ........ activation=sigmoid, dropout=0.4, score=0.559150 -  23.8s\n",
      "[CV] activation=linear, dropout=0.1 ..................................\n"
     ]
    },
    {
     "name": "stderr",
     "output_type": "stream",
     "text": [
      "[Parallel(n_jobs=1)]: Done  60 tasks       | elapsed: 20.4min\n"
     ]
    },
    {
     "name": "stdout",
     "output_type": "stream",
     "text": [
      "[CV] ......... activation=linear, dropout=0.1, score=0.908500 -  26.9s\n",
      "[CV] activation=linear, dropout=0.1 ..................................\n",
      "[CV] ......... activation=linear, dropout=0.1, score=0.904400 -  23.3s\n",
      "[CV] activation=linear, dropout=0.1 ..................................\n",
      "[CV] ......... activation=linear, dropout=0.1, score=0.908550 -  25.5s\n",
      "[CV] activation=linear, dropout=0.2 ..................................\n",
      "[CV] ......... activation=linear, dropout=0.2, score=0.905950 -  26.2s\n",
      "[CV] activation=linear, dropout=0.2 ..................................\n",
      "[CV] ......... activation=linear, dropout=0.2, score=0.901100 -  27.3s\n",
      "[CV] activation=linear, dropout=0.2 ..................................\n",
      "[CV] ......... activation=linear, dropout=0.2, score=0.908150 -  28.0s\n",
      "[CV] activation=linear, dropout=0.3 ..................................\n",
      "[CV] ......... activation=linear, dropout=0.3, score=0.907200 -  27.4s\n",
      "[CV] activation=linear, dropout=0.3 ..................................\n",
      "[CV] ......... activation=linear, dropout=0.3, score=0.902300 -  26.9s\n",
      "[CV] activation=linear, dropout=0.3 ..................................\n",
      "[CV] ......... activation=linear, dropout=0.3, score=0.907900 -  24.5s\n",
      "[CV] activation=linear, dropout=0.4 ..................................\n",
      "[CV] ......... activation=linear, dropout=0.4, score=0.905500 -  24.8s\n",
      "[CV] activation=linear, dropout=0.4 ..................................\n",
      "[CV] ......... activation=linear, dropout=0.4, score=0.900200 -  24.9s\n",
      "[CV] activation=linear, dropout=0.4 ..................................\n"
     ]
    },
    {
     "name": "stderr",
     "output_type": "stream",
     "text": [
      "[Parallel(n_jobs=1)]: Done  71 tasks       | elapsed: 25.1min\n"
     ]
    },
    {
     "name": "stdout",
     "output_type": "stream",
     "text": [
      "[CV] ......... activation=linear, dropout=0.4, score=0.908350 -  24.8s\n"
     ]
    },
    {
     "name": "stderr",
     "output_type": "stream",
     "text": [
      "[Parallel(n_jobs=1)]: Done  72 out of  72 | elapsed: 25.6min finished\n"
     ]
    },
    {
     "name": "stdout",
     "output_type": "stream",
     "text": [
      "... Done!\n"
     ]
    }
   ],
   "source": [
    "print(\"Performing grid search ...\")\n",
    "grid = GridSearchCV(estimator=model,\n",
    "                    param_grid=param_grid,\n",
    "                    verbose=10)\n",
    "grid_result = grid.fit(X_train, y_train,)\n",
    "print(\"... Done!\")"
   ]
  },
  {
   "cell_type": "code",
   "execution_count": 11,
   "metadata": {
    "collapsed": true
   },
   "outputs": [],
   "source": [
    "time_end = time.clock()"
   ]
  },
  {
   "cell_type": "code",
   "execution_count": 12,
   "metadata": {
    "collapsed": false
   },
   "outputs": [
    {
     "name": "stdout",
     "output_type": "stream",
     "text": [
      "Time to train\n",
      "Time elapsed in seconds : 1570\n",
      "Time elapsed in minutes : 26.2\n",
      "Time elapsed in hours   : 0.4\n"
     ]
    }
   ],
   "source": [
    "duration = time_end - time_start\n",
    "print(\"Time to train\")\n",
    "print(\"Time elapsed in seconds : %.0f\" % duration)\n",
    "print(\"Time elapsed in minutes : %.1f\" % (duration/60))\n",
    "print(\"Time elapsed in hours   : %.1f\" % (duration/3600))"
   ]
  },
  {
   "cell_type": "code",
   "execution_count": 13,
   "metadata": {
    "collapsed": false
   },
   "outputs": [
    {
     "name": "stdout",
     "output_type": "stream",
     "text": [
      "Best: 0.918800 using {'activation': 'relu', 'dropout': 0.1}\n"
     ]
    },
    {
     "data": {
      "text/plain": [
       "[mean: 0.89133, std: 0.00313, params: {'activation': 'softplus', 'dropout': 0.1},\n",
       " mean: 0.88078, std: 0.00323, params: {'activation': 'softplus', 'dropout': 0.2},\n",
       " mean: 0.86827, std: 0.00509, params: {'activation': 'softplus', 'dropout': 0.3},\n",
       " mean: 0.85162, std: 0.00300, params: {'activation': 'softplus', 'dropout': 0.4},\n",
       " mean: 0.90163, std: 0.00262, params: {'activation': 'softsign', 'dropout': 0.1},\n",
       " mean: 0.89865, std: 0.00415, params: {'activation': 'softsign', 'dropout': 0.2},\n",
       " mean: 0.89938, std: 0.00286, params: {'activation': 'softsign', 'dropout': 0.3},\n",
       " mean: 0.89575, std: 0.00207, params: {'activation': 'softsign', 'dropout': 0.4},\n",
       " mean: 0.91880, std: 0.00237, params: {'activation': 'relu', 'dropout': 0.1},\n",
       " mean: 0.91493, std: 0.00253, params: {'activation': 'relu', 'dropout': 0.2},\n",
       " mean: 0.91172, std: 0.00287, params: {'activation': 'relu', 'dropout': 0.3},\n",
       " mean: 0.90825, std: 0.00284, params: {'activation': 'relu', 'dropout': 0.4},\n",
       " mean: 0.90902, std: 0.00212, params: {'activation': 'tanh', 'dropout': 0.1},\n",
       " mean: 0.90727, std: 0.00283, params: {'activation': 'tanh', 'dropout': 0.2},\n",
       " mean: 0.90650, std: 0.00319, params: {'activation': 'tanh', 'dropout': 0.3},\n",
       " mean: 0.90445, std: 0.00273, params: {'activation': 'tanh', 'dropout': 0.4},\n",
       " mean: 0.64863, std: 0.02076, params: {'activation': 'sigmoid', 'dropout': 0.1},\n",
       " mean: 0.64343, std: 0.01877, params: {'activation': 'sigmoid', 'dropout': 0.2},\n",
       " mean: 0.61803, std: 0.01263, params: {'activation': 'sigmoid', 'dropout': 0.3},\n",
       " mean: 0.56267, std: 0.00262, params: {'activation': 'sigmoid', 'dropout': 0.4},\n",
       " mean: 0.90715, std: 0.00194, params: {'activation': 'linear', 'dropout': 0.1},\n",
       " mean: 0.90507, std: 0.00295, params: {'activation': 'linear', 'dropout': 0.2},\n",
       " mean: 0.90580, std: 0.00249, params: {'activation': 'linear', 'dropout': 0.3},\n",
       " mean: 0.90468, std: 0.00338, params: {'activation': 'linear', 'dropout': 0.4}]"
      ]
     },
     "execution_count": 13,
     "metadata": {},
     "output_type": "execute_result"
    }
   ],
   "source": [
    "# summarize results\n",
    "print(\"Best: %f using %s\" % (grid_result.best_score_, grid_result.best_params_))\n",
    "grid_result.grid_scores_"
   ]
  }
 ],
 "metadata": {
  "anaconda-cloud": {},
  "kernelspec": {
   "display_name": "Python [default]",
   "language": "python",
   "name": "python3"
  },
  "language_info": {
   "codemirror_mode": {
    "name": "ipython",
    "version": 3
   },
   "file_extension": ".py",
   "mimetype": "text/x-python",
   "name": "python",
   "nbconvert_exporter": "python",
   "pygments_lexer": "ipython3",
   "version": "3.5.2"
  }
 },
 "nbformat": 4,
 "nbformat_minor": 1
}
