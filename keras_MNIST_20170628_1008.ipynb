{
 "cells": [
  {
   "cell_type": "code",
   "execution_count": 1,
   "metadata": {
    "collapsed": false
   },
   "outputs": [
    {
     "name": "stderr",
     "output_type": "stream",
     "text": [
      "Using TensorFlow backend.\n"
     ]
    }
   ],
   "source": [
    "import numpy as np\n",
    "import matplotlib.pyplot as plt\n",
    "import time\n",
    "from keras.datasets import mnist\n",
    "from keras.models import Sequential\n",
    "from keras.layers.core import Dense, Dropout, Activation\n",
    "from keras.layers.normalization import BatchNormalization\n",
    "from keras.optimizers import SGD, Adam, Adamax, RMSprop, Adagrad, Adadelta, Nadam\n",
    "from keras.utils import np_utils\n",
    "from tensorflow import set_random_seed"
   ]
  },
  {
   "cell_type": "code",
   "execution_count": 2,
   "metadata": {
    "collapsed": false
   },
   "outputs": [],
   "source": [
    "np.random.seed(2015)\n",
    "set_random_seed(2015)"
   ]
  },
  {
   "cell_type": "code",
   "execution_count": 3,
   "metadata": {
    "collapsed": false
   },
   "outputs": [],
   "source": [
    "# Load data\n",
    "(X_train, y_train), (X_test, y_test) = mnist.load_data()"
   ]
  },
  {
   "cell_type": "code",
   "execution_count": 4,
   "metadata": {
    "collapsed": false
   },
   "outputs": [
    {
     "name": "stdout",
     "output_type": "stream",
     "text": [
      "60000 training samples\n",
      "10000 testing samples\n"
     ]
    }
   ],
   "source": [
    "# Preprocessing\n",
    "X_train = X_train.reshape(60000, 784)\n",
    "X_test  = X_test.reshape(10000, 784)\n",
    "X_train = X_train.astype(\"float32\")\n",
    "X_test  = X_test.astype(\"float32\")\n",
    "X_train /= 255\n",
    "X_test  /= 255\n",
    "print(X_train.shape[0], \"training samples\")\n",
    "print(X_test.shape[0], \"testing samples\")"
   ]
  },
  {
   "cell_type": "code",
   "execution_count": 5,
   "metadata": {
    "collapsed": true
   },
   "outputs": [],
   "source": [
    "# Convert labels to one-hot encoding\n",
    "# e.g. 1 -> array([ 0.,  1.,  0.,  0.,  0.,  0.,  0.,  0.,  0.,  0.])\n",
    "y_train = np_utils.to_categorical(y_train, 10)\n",
    "y_test = np_utils.to_categorical(y_test, 10)"
   ]
  },
  {
   "cell_type": "markdown",
   "metadata": {},
   "source": [
    "The argument *input_dim* is equivalent to *input_shape* ([reference](https://keras.io/getting-started/sequential-model-guide/))."
   ]
  },
  {
   "cell_type": "code",
   "execution_count": 6,
   "metadata": {
    "collapsed": false
   },
   "outputs": [],
   "source": [
    "# Define the model\n",
    "model = Sequential([\n",
    "        Dense(128, input_dim=784), Activation(\"relu\"), Dropout(0.20),\n",
    "        Dense(128), Activation(\"relu\"), Dropout(0.20),\n",
    "        Dense(10), Activation(\"softmax\")\n",
    "    ])"
   ]
  },
  {
   "cell_type": "code",
   "execution_count": 7,
   "metadata": {
    "collapsed": false
   },
   "outputs": [
    {
     "name": "stdout",
     "output_type": "stream",
     "text": [
      "_________________________________________________________________\n",
      "Layer (type)                 Output Shape              Param #   \n",
      "=================================================================\n",
      "dense_1 (Dense)              (None, 128)               100480    \n",
      "_________________________________________________________________\n",
      "activation_1 (Activation)    (None, 128)               0         \n",
      "_________________________________________________________________\n",
      "dropout_1 (Dropout)          (None, 128)               0         \n",
      "_________________________________________________________________\n",
      "dense_2 (Dense)              (None, 128)               16512     \n",
      "_________________________________________________________________\n",
      "activation_2 (Activation)    (None, 128)               0         \n",
      "_________________________________________________________________\n",
      "dropout_2 (Dropout)          (None, 128)               0         \n",
      "_________________________________________________________________\n",
      "dense_3 (Dense)              (None, 10)                1290      \n",
      "_________________________________________________________________\n",
      "activation_3 (Activation)    (None, 10)                0         \n",
      "=================================================================\n",
      "Total params: 118,282\n",
      "Trainable params: 118,282\n",
      "Non-trainable params: 0\n",
      "_________________________________________________________________\n"
     ]
    }
   ],
   "source": [
    "model.summary()"
   ]
  },
  {
   "cell_type": "code",
   "execution_count": 8,
   "metadata": {
    "collapsed": false
   },
   "outputs": [],
   "source": [
    "model.compile(loss=\"categorical_crossentropy\",\n",
    "              optimizer=SGD(),\n",
    "              metrics=[\"accuracy\"])"
   ]
  },
  {
   "cell_type": "code",
   "execution_count": 9,
   "metadata": {
    "collapsed": false
   },
   "outputs": [
    {
     "name": "stdout",
     "output_type": "stream",
     "text": [
      "Train on 48000 samples, validate on 12000 samples\n",
      "Epoch 1/200\n",
      "48000/48000 [==============================] - 2s - loss: 1.6438 - acc: 0.4998 - val_loss: 0.8545 - val_acc: 0.8295\n",
      "Epoch 2/200\n",
      "48000/48000 [==============================] - 2s - loss: 0.8088 - acc: 0.7611 - val_loss: 0.4973 - val_acc: 0.8767\n",
      "Epoch 3/200\n",
      "48000/48000 [==============================] - 2s - loss: 0.6074 - acc: 0.8180 - val_loss: 0.4016 - val_acc: 0.8916\n",
      "Epoch 4/200\n",
      "48000/48000 [==============================] - 2s - loss: 0.5211 - acc: 0.8445 - val_loss: 0.3554 - val_acc: 0.9011\n",
      "Epoch 5/200\n",
      "48000/48000 [==============================] - 2s - loss: 0.4689 - acc: 0.8609 - val_loss: 0.3272 - val_acc: 0.9088\n",
      "Epoch 6/200\n",
      "48000/48000 [==============================] - 2s - loss: 0.4335 - acc: 0.8706 - val_loss: 0.3050 - val_acc: 0.9135\n",
      "Epoch 7/200\n",
      "48000/48000 [==============================] - 2s - loss: 0.4060 - acc: 0.8795 - val_loss: 0.2889 - val_acc: 0.9169\n",
      "Epoch 8/200\n",
      "48000/48000 [==============================] - 2s - loss: 0.3847 - acc: 0.8870 - val_loss: 0.2748 - val_acc: 0.9204\n",
      "Epoch 9/200\n",
      "48000/48000 [==============================] - 2s - loss: 0.3660 - acc: 0.8914 - val_loss: 0.2635 - val_acc: 0.9242\n",
      "Epoch 10/200\n",
      "48000/48000 [==============================] - 2s - loss: 0.3510 - acc: 0.8967 - val_loss: 0.2539 - val_acc: 0.9272\n",
      "Epoch 11/200\n",
      "48000/48000 [==============================] - 2s - loss: 0.3356 - acc: 0.9008 - val_loss: 0.2440 - val_acc: 0.9303\n",
      "Epoch 12/200\n",
      "48000/48000 [==============================] - 2s - loss: 0.3253 - acc: 0.9035 - val_loss: 0.2348 - val_acc: 0.9320\n",
      "Epoch 13/200\n",
      "48000/48000 [==============================] - 2s - loss: 0.3136 - acc: 0.9079 - val_loss: 0.2272 - val_acc: 0.9341\n",
      "Epoch 14/200\n",
      "48000/48000 [==============================] - 2s - loss: 0.3022 - acc: 0.9116 - val_loss: 0.2208 - val_acc: 0.9357\n",
      "Epoch 15/200\n",
      "48000/48000 [==============================] - 2s - loss: 0.2926 - acc: 0.9144 - val_loss: 0.2138 - val_acc: 0.9376\n",
      "Epoch 16/200\n",
      "48000/48000 [==============================] - 2s - loss: 0.2845 - acc: 0.9171 - val_loss: 0.2079 - val_acc: 0.9389\n",
      "Epoch 17/200\n",
      "48000/48000 [==============================] - 2s - loss: 0.2734 - acc: 0.9189 - val_loss: 0.2020 - val_acc: 0.9415\n",
      "Epoch 18/200\n",
      "48000/48000 [==============================] - 2s - loss: 0.2644 - acc: 0.9226 - val_loss: 0.1967 - val_acc: 0.9427\n",
      "Epoch 19/200\n",
      "48000/48000 [==============================] - 2s - loss: 0.2621 - acc: 0.9232 - val_loss: 0.1919 - val_acc: 0.9441\n",
      "Epoch 20/200\n",
      "48000/48000 [==============================] - 2s - loss: 0.2543 - acc: 0.9255 - val_loss: 0.1880 - val_acc: 0.9456\n",
      "Epoch 21/200\n",
      "48000/48000 [==============================] - 2s - loss: 0.2464 - acc: 0.9271 - val_loss: 0.1830 - val_acc: 0.9474\n",
      "Epoch 22/200\n",
      "48000/48000 [==============================] - 2s - loss: 0.2441 - acc: 0.9273 - val_loss: 0.1798 - val_acc: 0.9470\n",
      "Epoch 23/200\n",
      "48000/48000 [==============================] - 2s - loss: 0.2348 - acc: 0.9309 - val_loss: 0.1756 - val_acc: 0.9490\n",
      "Epoch 24/200\n",
      "48000/48000 [==============================] - 2s - loss: 0.2323 - acc: 0.9322 - val_loss: 0.1723 - val_acc: 0.9502\n",
      "Epoch 25/200\n",
      "48000/48000 [==============================] - 2s - loss: 0.2251 - acc: 0.9332 - val_loss: 0.1688 - val_acc: 0.9514\n",
      "Epoch 26/200\n",
      "48000/48000 [==============================] - 2s - loss: 0.2227 - acc: 0.9358 - val_loss: 0.1659 - val_acc: 0.9513\n",
      "Epoch 27/200\n",
      "48000/48000 [==============================] - 2s - loss: 0.2148 - acc: 0.9355 - val_loss: 0.1624 - val_acc: 0.9532\n",
      "Epoch 28/200\n",
      "48000/48000 [==============================] - 2s - loss: 0.2122 - acc: 0.9367 - val_loss: 0.1598 - val_acc: 0.9529\n",
      "Epoch 29/200\n",
      "48000/48000 [==============================] - 2s - loss: 0.2117 - acc: 0.9373 - val_loss: 0.1575 - val_acc: 0.9543\n",
      "Epoch 30/200\n",
      "48000/48000 [==============================] - 2s - loss: 0.2044 - acc: 0.9403 - val_loss: 0.1549 - val_acc: 0.9544\n",
      "Epoch 31/200\n",
      "48000/48000 [==============================] - 2s - loss: 0.2011 - acc: 0.9404 - val_loss: 0.1526 - val_acc: 0.9555\n",
      "Epoch 32/200\n",
      "48000/48000 [==============================] - 2s - loss: 0.1968 - acc: 0.9423 - val_loss: 0.1501 - val_acc: 0.9562\n",
      "Epoch 33/200\n",
      "48000/48000 [==============================] - 2s - loss: 0.1938 - acc: 0.9424 - val_loss: 0.1474 - val_acc: 0.9567\n",
      "Epoch 34/200\n",
      "48000/48000 [==============================] - 2s - loss: 0.1875 - acc: 0.9442 - val_loss: 0.1449 - val_acc: 0.9586\n",
      "Epoch 35/200\n",
      "48000/48000 [==============================] - 2s - loss: 0.1871 - acc: 0.9444 - val_loss: 0.1440 - val_acc: 0.9582\n",
      "Epoch 36/200\n",
      "48000/48000 [==============================] - 2s - loss: 0.1845 - acc: 0.9459 - val_loss: 0.1417 - val_acc: 0.9590\n",
      "Epoch 37/200\n",
      "48000/48000 [==============================] - 2s - loss: 0.1842 - acc: 0.9451 - val_loss: 0.1402 - val_acc: 0.9598\n",
      "Epoch 38/200\n",
      "48000/48000 [==============================] - 2s - loss: 0.1781 - acc: 0.9481 - val_loss: 0.1385 - val_acc: 0.9596\n",
      "Epoch 39/200\n",
      "48000/48000 [==============================] - 2s - loss: 0.1754 - acc: 0.9482 - val_loss: 0.1369 - val_acc: 0.9604\n",
      "Epoch 40/200\n",
      "48000/48000 [==============================] - 2s - loss: 0.1754 - acc: 0.9489 - val_loss: 0.1345 - val_acc: 0.9612\n",
      "Epoch 41/200\n",
      "48000/48000 [==============================] - 2s - loss: 0.1706 - acc: 0.9487 - val_loss: 0.1334 - val_acc: 0.9616\n",
      "Epoch 42/200\n",
      "48000/48000 [==============================] - 2s - loss: 0.1701 - acc: 0.9495 - val_loss: 0.1315 - val_acc: 0.9617\n",
      "Epoch 43/200\n",
      "48000/48000 [==============================] - 2s - loss: 0.1665 - acc: 0.9491 - val_loss: 0.1296 - val_acc: 0.9629\n",
      "Epoch 44/200\n",
      "48000/48000 [==============================] - 2s - loss: 0.1659 - acc: 0.9509 - val_loss: 0.1290 - val_acc: 0.9624\n",
      "Epoch 45/200\n",
      "48000/48000 [==============================] - 2s - loss: 0.1624 - acc: 0.9517 - val_loss: 0.1274 - val_acc: 0.9623\n",
      "Epoch 46/200\n",
      "48000/48000 [==============================] - 2s - loss: 0.1595 - acc: 0.9533 - val_loss: 0.1262 - val_acc: 0.9626\n",
      "Epoch 47/200\n",
      "48000/48000 [==============================] - 2s - loss: 0.1592 - acc: 0.9534 - val_loss: 0.1256 - val_acc: 0.9627\n",
      "Epoch 48/200\n",
      "48000/48000 [==============================] - 2s - loss: 0.1542 - acc: 0.9550 - val_loss: 0.1243 - val_acc: 0.9634\n",
      "Epoch 49/200\n",
      "48000/48000 [==============================] - 2s - loss: 0.1559 - acc: 0.9533 - val_loss: 0.1229 - val_acc: 0.9632\n",
      "Epoch 50/200\n",
      "48000/48000 [==============================] - 2s - loss: 0.1524 - acc: 0.9549 - val_loss: 0.1216 - val_acc: 0.9648\n",
      "Epoch 51/200\n",
      "48000/48000 [==============================] - 2s - loss: 0.1487 - acc: 0.9559 - val_loss: 0.1209 - val_acc: 0.9642\n",
      "Epoch 52/200\n",
      "48000/48000 [==============================] - 2s - loss: 0.1500 - acc: 0.9552 - val_loss: 0.1195 - val_acc: 0.9645\n",
      "Epoch 53/200\n",
      "48000/48000 [==============================] - 2s - loss: 0.1466 - acc: 0.9568 - val_loss: 0.1184 - val_acc: 0.9653\n",
      "Epoch 54/200\n",
      "48000/48000 [==============================] - 2s - loss: 0.1448 - acc: 0.9564 - val_loss: 0.1176 - val_acc: 0.9649\n",
      "Epoch 55/200\n",
      "48000/48000 [==============================] - 2s - loss: 0.1442 - acc: 0.9569 - val_loss: 0.1158 - val_acc: 0.9655\n",
      "Epoch 56/200\n",
      "48000/48000 [==============================] - 2s - loss: 0.1443 - acc: 0.9570 - val_loss: 0.1150 - val_acc: 0.9660\n",
      "Epoch 57/200\n",
      "48000/48000 [==============================] - 2s - loss: 0.1417 - acc: 0.9574 - val_loss: 0.1145 - val_acc: 0.9661\n",
      "Epoch 58/200\n",
      "48000/48000 [==============================] - 2s - loss: 0.1398 - acc: 0.9584 - val_loss: 0.1139 - val_acc: 0.9663\n",
      "Epoch 59/200\n",
      "48000/48000 [==============================] - 2s - loss: 0.1384 - acc: 0.9597 - val_loss: 0.1128 - val_acc: 0.9667\n",
      "Epoch 60/200\n",
      "48000/48000 [==============================] - 2s - loss: 0.1357 - acc: 0.9596 - val_loss: 0.1118 - val_acc: 0.9673\n",
      "Epoch 61/200\n",
      "48000/48000 [==============================] - 2s - loss: 0.1371 - acc: 0.9598 - val_loss: 0.1113 - val_acc: 0.9668\n",
      "Epoch 62/200\n",
      "48000/48000 [==============================] - 2s - loss: 0.1344 - acc: 0.9611 - val_loss: 0.1108 - val_acc: 0.9677\n",
      "Epoch 63/200\n",
      "48000/48000 [==============================] - 2s - loss: 0.1330 - acc: 0.9609 - val_loss: 0.1102 - val_acc: 0.9683\n",
      "Epoch 64/200\n",
      "48000/48000 [==============================] - 2s - loss: 0.1284 - acc: 0.9625 - val_loss: 0.1094 - val_acc: 0.9678\n",
      "Epoch 65/200\n",
      "48000/48000 [==============================] - 2s - loss: 0.1286 - acc: 0.9615 - val_loss: 0.1085 - val_acc: 0.9687\n",
      "Epoch 66/200\n",
      "48000/48000 [==============================] - 2s - loss: 0.1304 - acc: 0.9612 - val_loss: 0.1075 - val_acc: 0.9682\n",
      "Epoch 67/200\n",
      "48000/48000 [==============================] - 2s - loss: 0.1262 - acc: 0.9627 - val_loss: 0.1067 - val_acc: 0.9690\n",
      "Epoch 68/200\n",
      "48000/48000 [==============================] - 2s - loss: 0.1262 - acc: 0.9620 - val_loss: 0.1061 - val_acc: 0.9687\n",
      "Epoch 69/200\n",
      "48000/48000 [==============================] - 2s - loss: 0.1259 - acc: 0.9614 - val_loss: 0.1054 - val_acc: 0.9694\n",
      "Epoch 70/200\n",
      "48000/48000 [==============================] - 2s - loss: 0.1233 - acc: 0.9642 - val_loss: 0.1051 - val_acc: 0.9693\n",
      "Epoch 71/200\n",
      "48000/48000 [==============================] - 2s - loss: 0.1206 - acc: 0.9631 - val_loss: 0.1047 - val_acc: 0.9698\n",
      "Epoch 72/200\n",
      "48000/48000 [==============================] - 2s - loss: 0.1196 - acc: 0.9645 - val_loss: 0.1041 - val_acc: 0.9695\n",
      "Epoch 73/200\n",
      "48000/48000 [==============================] - 2s - loss: 0.1219 - acc: 0.9639 - val_loss: 0.1032 - val_acc: 0.9698\n",
      "Epoch 74/200\n",
      "48000/48000 [==============================] - 2s - loss: 0.1201 - acc: 0.9631 - val_loss: 0.1031 - val_acc: 0.9696\n",
      "Epoch 75/200\n",
      "48000/48000 [==============================] - 2s - loss: 0.1184 - acc: 0.9652 - val_loss: 0.1026 - val_acc: 0.9704\n",
      "Epoch 76/200\n",
      "48000/48000 [==============================] - 2s - loss: 0.1182 - acc: 0.9649 - val_loss: 0.1020 - val_acc: 0.9703\n",
      "Epoch 77/200\n",
      "48000/48000 [==============================] - 2s - loss: 0.1139 - acc: 0.9658 - val_loss: 0.1015 - val_acc: 0.9703\n",
      "Epoch 78/200\n",
      "48000/48000 [==============================] - 2s - loss: 0.1132 - acc: 0.9664 - val_loss: 0.1003 - val_acc: 0.9708\n",
      "Epoch 79/200\n",
      "48000/48000 [==============================] - 2s - loss: 0.1152 - acc: 0.9656 - val_loss: 0.0999 - val_acc: 0.9710\n",
      "Epoch 80/200\n",
      "48000/48000 [==============================] - 2s - loss: 0.1152 - acc: 0.9657 - val_loss: 0.0993 - val_acc: 0.9710\n",
      "Epoch 81/200\n",
      "48000/48000 [==============================] - 2s - loss: 0.1130 - acc: 0.9667 - val_loss: 0.0991 - val_acc: 0.9706\n",
      "Epoch 82/200\n",
      "48000/48000 [==============================] - 2s - loss: 0.1117 - acc: 0.9668 - val_loss: 0.0984 - val_acc: 0.9716\n",
      "Epoch 83/200\n",
      "48000/48000 [==============================] - 2s - loss: 0.1106 - acc: 0.9666 - val_loss: 0.0981 - val_acc: 0.9711\n",
      "Epoch 84/200\n",
      "48000/48000 [==============================] - 2s - loss: 0.1083 - acc: 0.9679 - val_loss: 0.0976 - val_acc: 0.9713\n",
      "Epoch 85/200\n",
      "48000/48000 [==============================] - 2s - loss: 0.1084 - acc: 0.9677 - val_loss: 0.0970 - val_acc: 0.9713\n",
      "Epoch 86/200\n",
      "48000/48000 [==============================] - 2s - loss: 0.1078 - acc: 0.9671 - val_loss: 0.0967 - val_acc: 0.9710\n",
      "Epoch 87/200\n",
      "48000/48000 [==============================] - 2s - loss: 0.1063 - acc: 0.9680 - val_loss: 0.0965 - val_acc: 0.9720\n",
      "Epoch 88/200\n",
      "48000/48000 [==============================] - 2s - loss: 0.1075 - acc: 0.9677 - val_loss: 0.0962 - val_acc: 0.9715\n",
      "Epoch 89/200\n",
      "48000/48000 [==============================] - 2s - loss: 0.1046 - acc: 0.9695 - val_loss: 0.0959 - val_acc: 0.9719\n",
      "Epoch 90/200\n",
      "48000/48000 [==============================] - 2s - loss: 0.1033 - acc: 0.9693 - val_loss: 0.0953 - val_acc: 0.9720\n",
      "Epoch 91/200\n",
      "48000/48000 [==============================] - 2s - loss: 0.1052 - acc: 0.9685 - val_loss: 0.0949 - val_acc: 0.9722\n",
      "Epoch 92/200\n",
      "48000/48000 [==============================] - 2s - loss: 0.1044 - acc: 0.9688 - val_loss: 0.0941 - val_acc: 0.9722\n",
      "Epoch 93/200\n",
      "48000/48000 [==============================] - 2s - loss: 0.0991 - acc: 0.9711 - val_loss: 0.0943 - val_acc: 0.9721\n",
      "Epoch 94/200\n",
      "48000/48000 [==============================] - 2s - loss: 0.1019 - acc: 0.9697 - val_loss: 0.0935 - val_acc: 0.9724\n",
      "Epoch 95/200\n",
      "48000/48000 [==============================] - 2s - loss: 0.1020 - acc: 0.9695 - val_loss: 0.0933 - val_acc: 0.9719\n",
      "Epoch 96/200\n",
      "48000/48000 [==============================] - 2s - loss: 0.1010 - acc: 0.9690 - val_loss: 0.0930 - val_acc: 0.9723\n",
      "Epoch 97/200\n",
      "48000/48000 [==============================] - 2s - loss: 0.0992 - acc: 0.9708 - val_loss: 0.0925 - val_acc: 0.9726\n",
      "Epoch 98/200\n",
      "48000/48000 [==============================] - 2s - loss: 0.0977 - acc: 0.9708 - val_loss: 0.0917 - val_acc: 0.9724\n",
      "Epoch 99/200\n",
      "48000/48000 [==============================] - 2s - loss: 0.0974 - acc: 0.9710 - val_loss: 0.0916 - val_acc: 0.9728\n",
      "Epoch 100/200\n",
      "48000/48000 [==============================] - 2s - loss: 0.0960 - acc: 0.9713 - val_loss: 0.0908 - val_acc: 0.9731\n",
      "Epoch 101/200\n",
      "48000/48000 [==============================] - 2s - loss: 0.0985 - acc: 0.9713 - val_loss: 0.0911 - val_acc: 0.9730\n",
      "Epoch 102/200\n",
      "48000/48000 [==============================] - 2s - loss: 0.0936 - acc: 0.9724 - val_loss: 0.0907 - val_acc: 0.9733\n",
      "Epoch 103/200\n",
      "48000/48000 [==============================] - 2s - loss: 0.0946 - acc: 0.9714 - val_loss: 0.0912 - val_acc: 0.9731\n",
      "Epoch 104/200\n",
      "48000/48000 [==============================] - 2s - loss: 0.0953 - acc: 0.9715 - val_loss: 0.0904 - val_acc: 0.9734\n",
      "Epoch 105/200\n",
      "48000/48000 [==============================] - 2s - loss: 0.0952 - acc: 0.9718 - val_loss: 0.0902 - val_acc: 0.9730\n",
      "Epoch 106/200\n",
      "48000/48000 [==============================] - 2s - loss: 0.0927 - acc: 0.9718 - val_loss: 0.0893 - val_acc: 0.9731\n",
      "Epoch 107/200\n",
      "48000/48000 [==============================] - 2s - loss: 0.0914 - acc: 0.9723 - val_loss: 0.0894 - val_acc: 0.9733\n",
      "Epoch 108/200\n",
      "48000/48000 [==============================] - 2s - loss: 0.0916 - acc: 0.9725 - val_loss: 0.0892 - val_acc: 0.9732\n",
      "Epoch 109/200\n",
      "48000/48000 [==============================] - 2s - loss: 0.0912 - acc: 0.9721 - val_loss: 0.0887 - val_acc: 0.9738\n",
      "Epoch 110/200\n",
      "48000/48000 [==============================] - 2s - loss: 0.0898 - acc: 0.9735 - val_loss: 0.0883 - val_acc: 0.9737\n",
      "Epoch 111/200\n",
      "48000/48000 [==============================] - 2s - loss: 0.0890 - acc: 0.9727 - val_loss: 0.0885 - val_acc: 0.9733\n",
      "Epoch 112/200\n",
      "48000/48000 [==============================] - 2s - loss: 0.0898 - acc: 0.9736 - val_loss: 0.0883 - val_acc: 0.9737\n",
      "Epoch 113/200\n",
      "48000/48000 [==============================] - 2s - loss: 0.0893 - acc: 0.9726 - val_loss: 0.0881 - val_acc: 0.9737\n",
      "Epoch 114/200\n",
      "48000/48000 [==============================] - 2s - loss: 0.0877 - acc: 0.9734 - val_loss: 0.0874 - val_acc: 0.9739\n",
      "Epoch 115/200\n",
      "48000/48000 [==============================] - 2s - loss: 0.0869 - acc: 0.9739 - val_loss: 0.0875 - val_acc: 0.9737\n",
      "Epoch 116/200\n",
      "48000/48000 [==============================] - 2s - loss: 0.0871 - acc: 0.9737 - val_loss: 0.0872 - val_acc: 0.9742\n",
      "Epoch 117/200\n",
      "48000/48000 [==============================] - 2s - loss: 0.0869 - acc: 0.9737 - val_loss: 0.0871 - val_acc: 0.9742\n",
      "Epoch 118/200\n",
      "48000/48000 [==============================] - 2s - loss: 0.0869 - acc: 0.9745 - val_loss: 0.0870 - val_acc: 0.9743\n",
      "Epoch 119/200\n",
      "48000/48000 [==============================] - 2s - loss: 0.0858 - acc: 0.9742 - val_loss: 0.0872 - val_acc: 0.9748\n",
      "Epoch 120/200\n",
      "48000/48000 [==============================] - 2s - loss: 0.0836 - acc: 0.9742 - val_loss: 0.0865 - val_acc: 0.9747\n",
      "Epoch 121/200\n",
      "48000/48000 [==============================] - 2s - loss: 0.0818 - acc: 0.9755 - val_loss: 0.0861 - val_acc: 0.9743\n",
      "Epoch 122/200\n",
      "48000/48000 [==============================] - 2s - loss: 0.0812 - acc: 0.9757 - val_loss: 0.0861 - val_acc: 0.9741\n",
      "Epoch 123/200\n",
      "48000/48000 [==============================] - 2s - loss: 0.0831 - acc: 0.9753 - val_loss: 0.0857 - val_acc: 0.9744\n",
      "Epoch 124/200\n",
      "48000/48000 [==============================] - 2s - loss: 0.0820 - acc: 0.9754 - val_loss: 0.0861 - val_acc: 0.9743\n",
      "Epoch 125/200\n",
      "48000/48000 [==============================] - 2s - loss: 0.0816 - acc: 0.9753 - val_loss: 0.0857 - val_acc: 0.9747\n",
      "Epoch 126/200\n",
      "48000/48000 [==============================] - 2s - loss: 0.0826 - acc: 0.9749 - val_loss: 0.0851 - val_acc: 0.9750\n",
      "Epoch 127/200\n",
      "48000/48000 [==============================] - 2s - loss: 0.0807 - acc: 0.9753 - val_loss: 0.0846 - val_acc: 0.9749\n",
      "Epoch 128/200\n",
      "48000/48000 [==============================] - 2s - loss: 0.0801 - acc: 0.9758 - val_loss: 0.0847 - val_acc: 0.9748\n",
      "Epoch 129/200\n",
      "48000/48000 [==============================] - 2s - loss: 0.0823 - acc: 0.9752 - val_loss: 0.0845 - val_acc: 0.9746\n",
      "Epoch 130/200\n",
      "48000/48000 [==============================] - 2s - loss: 0.0800 - acc: 0.9757 - val_loss: 0.0842 - val_acc: 0.9747\n",
      "Epoch 131/200\n",
      "48000/48000 [==============================] - 2s - loss: 0.0783 - acc: 0.9765 - val_loss: 0.0842 - val_acc: 0.9750\n",
      "Epoch 132/200\n",
      "48000/48000 [==============================] - 2s - loss: 0.0794 - acc: 0.9766 - val_loss: 0.0837 - val_acc: 0.9750\n",
      "Epoch 133/200\n",
      "48000/48000 [==============================] - 2s - loss: 0.0787 - acc: 0.9759 - val_loss: 0.0841 - val_acc: 0.9752\n",
      "Epoch 134/200\n",
      "48000/48000 [==============================] - 2s - loss: 0.0779 - acc: 0.9764 - val_loss: 0.0837 - val_acc: 0.9756\n",
      "Epoch 135/200\n",
      "48000/48000 [==============================] - 2s - loss: 0.0794 - acc: 0.9756 - val_loss: 0.0833 - val_acc: 0.9752\n",
      "Epoch 136/200\n",
      "48000/48000 [==============================] - 2s - loss: 0.0784 - acc: 0.9761 - val_loss: 0.0833 - val_acc: 0.9754\n",
      "Epoch 137/200\n",
      "48000/48000 [==============================] - 2s - loss: 0.0751 - acc: 0.9777 - val_loss: 0.0833 - val_acc: 0.9749\n",
      "Epoch 138/200\n",
      "48000/48000 [==============================] - 2s - loss: 0.0756 - acc: 0.9771 - val_loss: 0.0832 - val_acc: 0.9760\n",
      "Epoch 139/200\n",
      "48000/48000 [==============================] - 2s - loss: 0.0757 - acc: 0.9769 - val_loss: 0.0833 - val_acc: 0.9758\n",
      "Epoch 140/200\n",
      "48000/48000 [==============================] - 2s - loss: 0.0754 - acc: 0.9774 - val_loss: 0.0826 - val_acc: 0.9759\n",
      "Epoch 141/200\n",
      "48000/48000 [==============================] - 2s - loss: 0.0741 - acc: 0.9780 - val_loss: 0.0827 - val_acc: 0.9757\n",
      "Epoch 142/200\n",
      "48000/48000 [==============================] - 2s - loss: 0.0746 - acc: 0.9777 - val_loss: 0.0825 - val_acc: 0.9758\n",
      "Epoch 143/200\n",
      "48000/48000 [==============================] - 2s - loss: 0.0723 - acc: 0.9784 - val_loss: 0.0821 - val_acc: 0.9758\n",
      "Epoch 144/200\n",
      "48000/48000 [==============================] - 2s - loss: 0.0748 - acc: 0.9773 - val_loss: 0.0822 - val_acc: 0.9758\n",
      "Epoch 145/200\n",
      "48000/48000 [==============================] - 2s - loss: 0.0733 - acc: 0.9772 - val_loss: 0.0823 - val_acc: 0.9757\n",
      "Epoch 146/200\n",
      "48000/48000 [==============================] - 2s - loss: 0.0728 - acc: 0.9778 - val_loss: 0.0821 - val_acc: 0.9762\n",
      "Epoch 147/200\n",
      "48000/48000 [==============================] - 2s - loss: 0.0709 - acc: 0.9790 - val_loss: 0.0813 - val_acc: 0.9758\n",
      "Epoch 148/200\n",
      "48000/48000 [==============================] - 2s - loss: 0.0704 - acc: 0.9785 - val_loss: 0.0814 - val_acc: 0.9762\n",
      "Epoch 149/200\n",
      "48000/48000 [==============================] - 2s - loss: 0.0709 - acc: 0.9782 - val_loss: 0.0823 - val_acc: 0.9763\n",
      "Epoch 150/200\n",
      "48000/48000 [==============================] - 2s - loss: 0.0709 - acc: 0.9781 - val_loss: 0.0820 - val_acc: 0.9759\n",
      "Epoch 151/200\n",
      "48000/48000 [==============================] - 2s - loss: 0.0715 - acc: 0.9776 - val_loss: 0.0814 - val_acc: 0.9760\n",
      "Epoch 152/200\n",
      "48000/48000 [==============================] - 2s - loss: 0.0682 - acc: 0.9796 - val_loss: 0.0810 - val_acc: 0.9757\n",
      "Epoch 153/200\n",
      "48000/48000 [==============================] - 2s - loss: 0.0696 - acc: 0.9793 - val_loss: 0.0814 - val_acc: 0.9757\n",
      "Epoch 154/200\n",
      "48000/48000 [==============================] - 2s - loss: 0.0694 - acc: 0.9790 - val_loss: 0.0814 - val_acc: 0.9762\n",
      "Epoch 155/200\n",
      "48000/48000 [==============================] - 2s - loss: 0.0683 - acc: 0.9796 - val_loss: 0.0814 - val_acc: 0.9761\n",
      "Epoch 156/200\n",
      "48000/48000 [==============================] - 2s - loss: 0.0702 - acc: 0.9786 - val_loss: 0.0814 - val_acc: 0.9763\n",
      "Epoch 157/200\n",
      "48000/48000 [==============================] - 2s - loss: 0.0690 - acc: 0.9790 - val_loss: 0.0809 - val_acc: 0.9758\n",
      "Epoch 158/200\n",
      "48000/48000 [==============================] - 2s - loss: 0.0694 - acc: 0.9786 - val_loss: 0.0808 - val_acc: 0.9757\n",
      "Epoch 159/200\n",
      "48000/48000 [==============================] - 2s - loss: 0.0677 - acc: 0.9794 - val_loss: 0.0807 - val_acc: 0.9758\n",
      "Epoch 160/200\n",
      "48000/48000 [==============================] - 2s - loss: 0.0670 - acc: 0.9795 - val_loss: 0.0808 - val_acc: 0.9756\n",
      "Epoch 161/200\n",
      "48000/48000 [==============================] - 2s - loss: 0.0651 - acc: 0.9796 - val_loss: 0.0805 - val_acc: 0.9760\n",
      "Epoch 162/200\n",
      "48000/48000 [==============================] - 2s - loss: 0.0670 - acc: 0.9794 - val_loss: 0.0801 - val_acc: 0.9761\n",
      "Epoch 163/200\n",
      "48000/48000 [==============================] - 2s - loss: 0.0658 - acc: 0.9802 - val_loss: 0.0804 - val_acc: 0.9763\n",
      "Epoch 164/200\n",
      "48000/48000 [==============================] - 2s - loss: 0.0661 - acc: 0.9795 - val_loss: 0.0802 - val_acc: 0.9764\n",
      "Epoch 165/200\n",
      "48000/48000 [==============================] - 2s - loss: 0.0658 - acc: 0.9799 - val_loss: 0.0807 - val_acc: 0.9762\n",
      "Epoch 166/200\n",
      "48000/48000 [==============================] - 2s - loss: 0.0664 - acc: 0.9800 - val_loss: 0.0802 - val_acc: 0.9763\n",
      "Epoch 167/200\n",
      "48000/48000 [==============================] - 2s - loss: 0.0654 - acc: 0.9799 - val_loss: 0.0798 - val_acc: 0.9762\n",
      "Epoch 168/200\n",
      "48000/48000 [==============================] - 2s - loss: 0.0637 - acc: 0.9805 - val_loss: 0.0805 - val_acc: 0.9763\n",
      "Epoch 169/200\n",
      "48000/48000 [==============================] - 2s - loss: 0.0648 - acc: 0.9798 - val_loss: 0.0801 - val_acc: 0.9765\n",
      "Epoch 170/200\n",
      "48000/48000 [==============================] - 2s - loss: 0.0644 - acc: 0.9809 - val_loss: 0.0791 - val_acc: 0.9767\n",
      "Epoch 171/200\n",
      "48000/48000 [==============================] - 2s - loss: 0.0643 - acc: 0.9801 - val_loss: 0.0801 - val_acc: 0.9762\n",
      "Epoch 172/200\n",
      "48000/48000 [==============================] - 2s - loss: 0.0635 - acc: 0.9798 - val_loss: 0.0796 - val_acc: 0.9765\n",
      "Epoch 173/200\n",
      "48000/48000 [==============================] - 2s - loss: 0.0631 - acc: 0.9806 - val_loss: 0.0793 - val_acc: 0.9771\n",
      "Epoch 174/200\n",
      "48000/48000 [==============================] - 2s - loss: 0.0649 - acc: 0.9804 - val_loss: 0.0791 - val_acc: 0.9767\n",
      "Epoch 175/200\n",
      "48000/48000 [==============================] - 2s - loss: 0.0627 - acc: 0.9802 - val_loss: 0.0794 - val_acc: 0.9772\n",
      "Epoch 176/200\n",
      "48000/48000 [==============================] - 2s - loss: 0.0611 - acc: 0.9814 - val_loss: 0.0790 - val_acc: 0.9767\n",
      "Epoch 177/200\n",
      "48000/48000 [==============================] - 2s - loss: 0.0616 - acc: 0.9808 - val_loss: 0.0797 - val_acc: 0.9766\n",
      "Epoch 178/200\n",
      "48000/48000 [==============================] - 2s - loss: 0.0621 - acc: 0.9811 - val_loss: 0.0788 - val_acc: 0.9767\n",
      "Epoch 179/200\n",
      "48000/48000 [==============================] - 2s - loss: 0.0617 - acc: 0.9806 - val_loss: 0.0789 - val_acc: 0.9760\n",
      "Epoch 180/200\n",
      "48000/48000 [==============================] - 2s - loss: 0.0613 - acc: 0.9817 - val_loss: 0.0793 - val_acc: 0.9767\n",
      "Epoch 181/200\n",
      "48000/48000 [==============================] - 2s - loss: 0.0611 - acc: 0.9814 - val_loss: 0.0790 - val_acc: 0.9767\n",
      "Epoch 182/200\n",
      "48000/48000 [==============================] - 2s - loss: 0.0608 - acc: 0.9802 - val_loss: 0.0787 - val_acc: 0.9768\n",
      "Epoch 183/200\n",
      "48000/48000 [==============================] - 2s - loss: 0.0602 - acc: 0.9812 - val_loss: 0.0787 - val_acc: 0.9772\n",
      "Epoch 184/200\n",
      "48000/48000 [==============================] - 2s - loss: 0.0592 - acc: 0.9811 - val_loss: 0.0783 - val_acc: 0.9769\n",
      "Epoch 185/200\n",
      "48000/48000 [==============================] - 2s - loss: 0.0603 - acc: 0.9809 - val_loss: 0.0789 - val_acc: 0.9765\n",
      "Epoch 186/200\n",
      "48000/48000 [==============================] - 2s - loss: 0.0598 - acc: 0.9811 - val_loss: 0.0784 - val_acc: 0.9769\n",
      "Epoch 187/200\n",
      "48000/48000 [==============================] - 2s - loss: 0.0584 - acc: 0.9815 - val_loss: 0.0792 - val_acc: 0.9768\n",
      "Epoch 188/200\n",
      "48000/48000 [==============================] - 2s - loss: 0.0585 - acc: 0.9817 - val_loss: 0.0782 - val_acc: 0.9767\n",
      "Epoch 189/200\n",
      "48000/48000 [==============================] - 2s - loss: 0.0590 - acc: 0.9814 - val_loss: 0.0790 - val_acc: 0.9765\n",
      "Epoch 190/200\n",
      "48000/48000 [==============================] - 2s - loss: 0.0580 - acc: 0.9823 - val_loss: 0.0780 - val_acc: 0.9771\n",
      "Epoch 191/200\n",
      "48000/48000 [==============================] - 2s - loss: 0.0580 - acc: 0.9819 - val_loss: 0.0781 - val_acc: 0.9772\n",
      "Epoch 192/200\n",
      "48000/48000 [==============================] - 2s - loss: 0.0577 - acc: 0.9821 - val_loss: 0.0784 - val_acc: 0.9767\n",
      "Epoch 193/200\n",
      "48000/48000 [==============================] - 2s - loss: 0.0602 - acc: 0.9813 - val_loss: 0.0777 - val_acc: 0.9771\n",
      "Epoch 194/200\n",
      "48000/48000 [==============================] - 2s - loss: 0.0587 - acc: 0.9817 - val_loss: 0.0783 - val_acc: 0.9773\n",
      "Epoch 195/200\n",
      "48000/48000 [==============================] - 2s - loss: 0.0571 - acc: 0.9824 - val_loss: 0.0785 - val_acc: 0.9765\n",
      "Epoch 196/200\n",
      "48000/48000 [==============================] - 2s - loss: 0.0570 - acc: 0.9820 - val_loss: 0.0786 - val_acc: 0.9774\n",
      "Epoch 197/200\n",
      "48000/48000 [==============================] - 2s - loss: 0.0569 - acc: 0.9822 - val_loss: 0.0781 - val_acc: 0.9776\n",
      "Epoch 198/200\n",
      "48000/48000 [==============================] - 2s - loss: 0.0553 - acc: 0.9831 - val_loss: 0.0780 - val_acc: 0.9772\n",
      "Epoch 199/200\n",
      "48000/48000 [==============================] - 2s - loss: 0.0562 - acc: 0.9823 - val_loss: 0.0778 - val_acc: 0.9773\n",
      "Epoch 200/200\n",
      "48000/48000 [==============================] - 2s - loss: 0.0551 - acc: 0.9832 - val_loss: 0.0780 - val_acc: 0.9777\n"
     ]
    }
   ],
   "source": [
    "time_start = time.clock()\n",
    "history = model.fit(X_train, y_train,\n",
    "                    batch_size=128,\n",
    "                    epochs=200,\n",
    "                    verbose=1,\n",
    "                    validation_split=0.2)\n",
    "time_end = time.clock()"
   ]
  },
  {
   "cell_type": "code",
   "execution_count": 10,
   "metadata": {
    "collapsed": true
   },
   "outputs": [],
   "source": [
    "time_end = time.clock()"
   ]
  },
  {
   "cell_type": "code",
   "execution_count": 11,
   "metadata": {
    "collapsed": false
   },
   "outputs": [
    {
     "name": "stdout",
     "output_type": "stream",
     "text": [
      "Time to train\n",
      "Time elapsed in seconds : 429\n",
      "Time elapsed in minutes : 7.1\n",
      "Time elapsed in hours   : 0.1\n"
     ]
    }
   ],
   "source": [
    "duration = time_end - time_start\n",
    "print(\"Time to train\")\n",
    "print(\"Time elapsed in seconds : %.0f\" % duration)\n",
    "print(\"Time elapsed in minutes : %.1f\" % (duration/60))\n",
    "print(\"Time elapsed in hours   : %.1f\" % (duration/3600))"
   ]
  },
  {
   "cell_type": "code",
   "execution_count": 12,
   "metadata": {
    "collapsed": false
   },
   "outputs": [
    {
     "name": "stdout",
     "output_type": "stream",
     "text": [
      " 9120/10000 [==========================>...] - ETA: 0s\n",
      "Test score: 0.0719607104583\n",
      "Test accuracy: 0.9785\n"
     ]
    }
   ],
   "source": [
    "score = model.evaluate(X_test, y_test,\n",
    "                       verbose=1)\n",
    "print(\"\")\n",
    "print(\"Test score:\", score[0])\n",
    "print(\"Test accuracy:\", score[1])"
   ]
  },
  {
   "cell_type": "code",
   "execution_count": 13,
   "metadata": {
    "collapsed": false
   },
   "outputs": [
    {
     "name": "stdout",
     "output_type": "stream",
     "text": [
      "dict_keys(['val_acc', 'loss', 'acc', 'val_loss'])\n"
     ]
    }
   ],
   "source": [
    "# list all data in history\n",
    "print(history.history.keys())"
   ]
  },
  {
   "cell_type": "code",
   "execution_count": 14,
   "metadata": {
    "collapsed": false
   },
   "outputs": [
    {
     "data": {
      "image/png": "[encoded data removed]",
      "text/plain": [
       "<matplotlib.figure.Figure at 0x1abfe39f7f0>"
      ]
     },
     "metadata": {},
     "output_type": "display_data"
    }
   ],
   "source": [
    "# Accuracy\n",
    "plt.plot(history.history[\"acc\"])\n",
    "plt.plot(history.history[\"val_acc\"])\n",
    "plt.title(\"model accuracy\")\n",
    "plt.ylabel(\"accuracy\")\n",
    "plt.xlabel(\"epoch\")\n",
    "plt.legend([\"train\", \"test\"], loc=\"lower left\")\n",
    "plt.show()"
   ]
  },
  {
   "cell_type": "code",
   "execution_count": 15,
   "metadata": {
    "collapsed": false
   },
   "outputs": [
    {
     "data": {
      "image/png": "[encoded data removed]",
      "text/plain": [
       "<matplotlib.figure.Figure at 0x1abfe4d6c88>"
      ]
     },
     "metadata": {},
     "output_type": "display_data"
    }
   ],
   "source": [
    "# Loss\n",
    "plt.plot(history.history[\"loss\"])\n",
    "plt.plot(history.history[\"val_loss\"])\n",
    "plt.title(\"model loss\")\n",
    "plt.ylabel(\"loss\")\n",
    "plt.xlabel(\"epoch\")\n",
    "plt.legend([\"train\", \"test\"], loc=\"upper left\")\n",
    "plt.show()"
   ]
  }
 ],
 "metadata": {
  "anaconda-cloud": {},
  "kernelspec": {
   "display_name": "Python [default]",
   "language": "python",
   "name": "python3"
  },
  "language_info": {
   "codemirror_mode": {
    "name": "ipython",
    "version": 3
   },
   "file_extension": ".py",
   "mimetype": "text/x-python",
   "name": "python",
   "nbconvert_exporter": "python",
   "pygments_lexer": "ipython3",
   "version": "3.5.2"
  }
 },
 "nbformat": 4,
 "nbformat_minor": 1
}
