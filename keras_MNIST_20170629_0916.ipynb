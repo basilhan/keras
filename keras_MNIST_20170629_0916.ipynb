{
 "cells": [
  {
   "cell_type": "code",
   "execution_count": 1,
   "metadata": {
    "collapsed": false
   },
   "outputs": [
    {
     "name": "stderr",
     "output_type": "stream",
     "text": [
      "Using TensorFlow backend.\n"
     ]
    }
   ],
   "source": [
    "import numpy as np\n",
    "import matplotlib.pyplot as plt\n",
    "import time\n",
    "from keras.datasets import mnist\n",
    "from keras.models import Sequential\n",
    "from keras.layers.core import Dense, Dropout, Activation\n",
    "from keras.layers.normalization import BatchNormalization\n",
    "from keras.optimizers import SGD, Adam, Adamax, RMSprop, Adagrad, Adadelta, Nadam\n",
    "from keras.utils import np_utils\n",
    "from tensorflow import set_random_seed"
   ]
  },
  {
   "cell_type": "code",
   "execution_count": 2,
   "metadata": {
    "collapsed": false
   },
   "outputs": [],
   "source": [
    "np.random.seed(2015)\n",
    "set_random_seed(2015)"
   ]
  },
  {
   "cell_type": "code",
   "execution_count": 3,
   "metadata": {
    "collapsed": false
   },
   "outputs": [],
   "source": [
    "# Load data\n",
    "(X_train, y_train), (X_test, y_test) = mnist.load_data()"
   ]
  },
  {
   "cell_type": "code",
   "execution_count": 4,
   "metadata": {
    "collapsed": false
   },
   "outputs": [
    {
     "name": "stdout",
     "output_type": "stream",
     "text": [
      "60000 training samples\n",
      "10000 testing samples\n"
     ]
    }
   ],
   "source": [
    "# Preprocessing\n",
    "X_train = X_train.reshape(60000, 784)\n",
    "X_test  = X_test.reshape(10000, 784)\n",
    "X_train = X_train.astype(\"float32\")\n",
    "X_test  = X_test.astype(\"float32\")\n",
    "X_train /= 255\n",
    "X_test  /= 255\n",
    "print(X_train.shape[0], \"training samples\")\n",
    "print(X_test.shape[0], \"testing samples\")"
   ]
  },
  {
   "cell_type": "code",
   "execution_count": 5,
   "metadata": {
    "collapsed": true
   },
   "outputs": [],
   "source": [
    "# Convert labels to one-hot encoding\n",
    "# e.g. 1 -> array([ 0.,  1.,  0.,  0.,  0.,  0.,  0.,  0.,  0.,  0.])\n",
    "y_train = np_utils.to_categorical(y_train, 10)\n",
    "y_test = np_utils.to_categorical(y_test, 10)"
   ]
  },
  {
   "cell_type": "markdown",
   "metadata": {},
   "source": [
    "The argument *input_dim* is equivalent to *input_shape* ([reference](https://keras.io/getting-started/sequential-model-guide/))."
   ]
  },
  {
   "cell_type": "code",
   "execution_count": 6,
   "metadata": {
    "collapsed": false
   },
   "outputs": [],
   "source": [
    "# Define the model\n",
    "model = Sequential([\n",
    "        Dense(128, input_dim=784), Activation(\"relu\"), Dropout(0.33),\n",
    "        Dense(128), Activation(\"relu\"), Dropout(0.33),\n",
    "        Dense(10), Activation(\"softmax\")\n",
    "    ])"
   ]
  },
  {
   "cell_type": "code",
   "execution_count": 7,
   "metadata": {
    "collapsed": false
   },
   "outputs": [
    {
     "name": "stdout",
     "output_type": "stream",
     "text": [
      "_________________________________________________________________\n",
      "Layer (type)                 Output Shape              Param #   \n",
      "=================================================================\n",
      "dense_1 (Dense)              (None, 128)               100480    \n",
      "_________________________________________________________________\n",
      "activation_1 (Activation)    (None, 128)               0         \n",
      "_________________________________________________________________\n",
      "dropout_1 (Dropout)          (None, 128)               0         \n",
      "_________________________________________________________________\n",
      "dense_2 (Dense)              (None, 128)               16512     \n",
      "_________________________________________________________________\n",
      "activation_2 (Activation)    (None, 128)               0         \n",
      "_________________________________________________________________\n",
      "dropout_2 (Dropout)          (None, 128)               0         \n",
      "_________________________________________________________________\n",
      "dense_3 (Dense)              (None, 10)                1290      \n",
      "_________________________________________________________________\n",
      "activation_3 (Activation)    (None, 10)                0         \n",
      "=================================================================\n",
      "Total params: 118,282\n",
      "Trainable params: 118,282\n",
      "Non-trainable params: 0\n",
      "_________________________________________________________________\n"
     ]
    }
   ],
   "source": [
    "model.summary()"
   ]
  },
  {
   "cell_type": "code",
   "execution_count": 8,
   "metadata": {
    "collapsed": false
   },
   "outputs": [],
   "source": [
    "model.compile(loss=\"categorical_crossentropy\",\n",
    "              optimizer=SGD(),\n",
    "              metrics=[\"accuracy\"])"
   ]
  },
  {
   "cell_type": "code",
   "execution_count": 9,
   "metadata": {
    "collapsed": false
   },
   "outputs": [
    {
     "name": "stdout",
     "output_type": "stream",
     "text": [
      "Train on 48000 samples, validate on 12000 samples\n",
      "Epoch 1/200\n",
      "48000/48000 [==============================] - 2s - loss: 1.7641 - acc: 0.4243 - val_loss: 0.9827 - val_acc: 0.8093\n",
      "Epoch 2/200\n",
      "48000/48000 [==============================] - 2s - loss: 0.9771 - acc: 0.6940 - val_loss: 0.5567 - val_acc: 0.8656\n",
      "Epoch 3/200\n",
      "48000/48000 [==============================] - 2s - loss: 0.7300 - acc: 0.7725 - val_loss: 0.4374 - val_acc: 0.8855\n",
      "Epoch 4/200\n",
      "48000/48000 [==============================] - 2s - loss: 0.6241 - acc: 0.8099 - val_loss: 0.3802 - val_acc: 0.8961\n",
      "Epoch 5/200\n",
      "48000/48000 [==============================] - 2s - loss: 0.5542 - acc: 0.8321 - val_loss: 0.3465 - val_acc: 0.9048\n",
      "Epoch 6/200\n",
      "48000/48000 [==============================] - 2s - loss: 0.5077 - acc: 0.8478 - val_loss: 0.3209 - val_acc: 0.9099\n",
      "Epoch 7/200\n",
      "48000/48000 [==============================] - 2s - loss: 0.4763 - acc: 0.8563 - val_loss: 0.3033 - val_acc: 0.9128\n",
      "Epoch 8/200\n",
      "48000/48000 [==============================] - 2s - loss: 0.4474 - acc: 0.8671 - val_loss: 0.2866 - val_acc: 0.9168\n",
      "Epoch 9/200\n",
      "48000/48000 [==============================] - 2s - loss: 0.4293 - acc: 0.8710 - val_loss: 0.2745 - val_acc: 0.9211\n",
      "Epoch 10/200\n",
      "48000/48000 [==============================] - 2s - loss: 0.4087 - acc: 0.8783 - val_loss: 0.2646 - val_acc: 0.9230\n",
      "Epoch 11/200\n",
      "48000/48000 [==============================] - 2s - loss: 0.3907 - acc: 0.8858 - val_loss: 0.2540 - val_acc: 0.9262\n",
      "Epoch 12/200\n",
      "48000/48000 [==============================] - 2s - loss: 0.3791 - acc: 0.8876 - val_loss: 0.2445 - val_acc: 0.9285\n",
      "Epoch 13/200\n",
      "48000/48000 [==============================] - 2s - loss: 0.3646 - acc: 0.8928 - val_loss: 0.2361 - val_acc: 0.9317\n",
      "Epoch 14/200\n",
      "48000/48000 [==============================] - 2s - loss: 0.3536 - acc: 0.8961 - val_loss: 0.2300 - val_acc: 0.9337\n",
      "Epoch 15/200\n",
      "48000/48000 [==============================] - 2s - loss: 0.3417 - acc: 0.8992 - val_loss: 0.2223 - val_acc: 0.9354\n",
      "Epoch 16/200\n",
      "48000/48000 [==============================] - 2s - loss: 0.3324 - acc: 0.9031 - val_loss: 0.2173 - val_acc: 0.9363\n",
      "Epoch 17/200\n",
      "48000/48000 [==============================] - 2s - loss: 0.3227 - acc: 0.9045 - val_loss: 0.2107 - val_acc: 0.9386\n",
      "Epoch 18/200\n",
      "48000/48000 [==============================] - 2s - loss: 0.3112 - acc: 0.9084 - val_loss: 0.2056 - val_acc: 0.9397\n",
      "Epoch 19/200\n",
      "48000/48000 [==============================] - 2s - loss: 0.3098 - acc: 0.9099 - val_loss: 0.2005 - val_acc: 0.9417\n",
      "Epoch 20/200\n",
      "48000/48000 [==============================] - 2s - loss: 0.2981 - acc: 0.9120 - val_loss: 0.1964 - val_acc: 0.9441\n",
      "Epoch 21/200\n",
      "48000/48000 [==============================] - 2s - loss: 0.2939 - acc: 0.9133 - val_loss: 0.1922 - val_acc: 0.9441\n",
      "Epoch 22/200\n",
      "48000/48000 [==============================] - 2s - loss: 0.2865 - acc: 0.9156 - val_loss: 0.1883 - val_acc: 0.9452\n",
      "Epoch 23/200\n",
      "48000/48000 [==============================] - 2s - loss: 0.2810 - acc: 0.9175 - val_loss: 0.1840 - val_acc: 0.9461\n",
      "Epoch 24/200\n",
      "48000/48000 [==============================] - 2s - loss: 0.2769 - acc: 0.9194 - val_loss: 0.1809 - val_acc: 0.9477\n",
      "Epoch 25/200\n",
      "48000/48000 [==============================] - 2s - loss: 0.2689 - acc: 0.9216 - val_loss: 0.1774 - val_acc: 0.9491\n",
      "Epoch 26/200\n",
      "48000/48000 [==============================] - 2s - loss: 0.2685 - acc: 0.9217 - val_loss: 0.1747 - val_acc: 0.9497\n",
      "Epoch 27/200\n",
      "48000/48000 [==============================] - 2s - loss: 0.2593 - acc: 0.9230 - val_loss: 0.1706 - val_acc: 0.9504\n",
      "Epoch 28/200\n",
      "48000/48000 [==============================] - 2s - loss: 0.2548 - acc: 0.9257 - val_loss: 0.1683 - val_acc: 0.9512\n",
      "Epoch 29/200\n",
      "48000/48000 [==============================] - 2s - loss: 0.2547 - acc: 0.9264 - val_loss: 0.1659 - val_acc: 0.9521\n",
      "Epoch 30/200\n",
      "48000/48000 [==============================] - 2s - loss: 0.2487 - acc: 0.9274 - val_loss: 0.1634 - val_acc: 0.9530\n",
      "Epoch 31/200\n",
      "48000/48000 [==============================] - 2s - loss: 0.2398 - acc: 0.9295 - val_loss: 0.1606 - val_acc: 0.9536\n",
      "Epoch 32/200\n",
      "48000/48000 [==============================] - 2s - loss: 0.2364 - acc: 0.9301 - val_loss: 0.1581 - val_acc: 0.9541\n",
      "Epoch 33/200\n",
      "48000/48000 [==============================] - 2s - loss: 0.2341 - acc: 0.9301 - val_loss: 0.1556 - val_acc: 0.9557\n",
      "Epoch 34/200\n",
      "48000/48000 [==============================] - 2s - loss: 0.2279 - acc: 0.9323 - val_loss: 0.1528 - val_acc: 0.9565\n",
      "Epoch 35/200\n",
      "48000/48000 [==============================] - 3s - loss: 0.2272 - acc: 0.9319 - val_loss: 0.1521 - val_acc: 0.9556\n",
      "Epoch 36/200\n",
      "48000/48000 [==============================] - 2s - loss: 0.2235 - acc: 0.9337 - val_loss: 0.1497 - val_acc: 0.9562\n",
      "Epoch 37/200\n",
      "48000/48000 [==============================] - 2s - loss: 0.2257 - acc: 0.9323 - val_loss: 0.1485 - val_acc: 0.9571\n",
      "Epoch 38/200\n",
      "48000/48000 [==============================] - 2s - loss: 0.2192 - acc: 0.9357 - val_loss: 0.1459 - val_acc: 0.9577\n",
      "Epoch 39/200\n",
      "48000/48000 [==============================] - 2s - loss: 0.2151 - acc: 0.9365 - val_loss: 0.1442 - val_acc: 0.9579\n",
      "Epoch 40/200\n",
      "48000/48000 [==============================] - 2s - loss: 0.2134 - acc: 0.9372 - val_loss: 0.1425 - val_acc: 0.9592\n",
      "Epoch 41/200\n",
      "48000/48000 [==============================] - 2s - loss: 0.2097 - acc: 0.9376 - val_loss: 0.1410 - val_acc: 0.9593\n",
      "Epoch 42/200\n",
      "48000/48000 [==============================] - 2s - loss: 0.2081 - acc: 0.9384 - val_loss: 0.1387 - val_acc: 0.9597\n",
      "Epoch 43/200\n",
      "48000/48000 [==============================] - 2s - loss: 0.2060 - acc: 0.9387 - val_loss: 0.1369 - val_acc: 0.9604\n",
      "Epoch 44/200\n",
      "48000/48000 [==============================] - 2s - loss: 0.2050 - acc: 0.9410 - val_loss: 0.1359 - val_acc: 0.9603\n",
      "Epoch 45/200\n",
      "48000/48000 [==============================] - 2s - loss: 0.1985 - acc: 0.9417 - val_loss: 0.1342 - val_acc: 0.9617\n",
      "Epoch 46/200\n",
      "48000/48000 [==============================] - 2s - loss: 0.1988 - acc: 0.9413 - val_loss: 0.1328 - val_acc: 0.9622\n",
      "Epoch 47/200\n",
      "48000/48000 [==============================] - 2s - loss: 0.1927 - acc: 0.9433 - val_loss: 0.1321 - val_acc: 0.9617\n",
      "Epoch 48/200\n",
      "48000/48000 [==============================] - 2s - loss: 0.1934 - acc: 0.9429 - val_loss: 0.1310 - val_acc: 0.9622\n",
      "Epoch 49/200\n",
      "48000/48000 [==============================] - 2s - loss: 0.1931 - acc: 0.9432 - val_loss: 0.1298 - val_acc: 0.9629\n",
      "Epoch 50/200\n",
      "48000/48000 [==============================] - 2s - loss: 0.1880 - acc: 0.9441 - val_loss: 0.1277 - val_acc: 0.9629\n",
      "Epoch 51/200\n",
      "48000/48000 [==============================] - 2s - loss: 0.1861 - acc: 0.9450 - val_loss: 0.1267 - val_acc: 0.9634\n",
      "Epoch 52/200\n",
      "48000/48000 [==============================] - 2s - loss: 0.1869 - acc: 0.9448 - val_loss: 0.1250 - val_acc: 0.9645\n",
      "Epoch 53/200\n",
      "48000/48000 [==============================] - 2s - loss: 0.1846 - acc: 0.9452 - val_loss: 0.1245 - val_acc: 0.9646\n",
      "Epoch 54/200\n",
      "48000/48000 [==============================] - 2s - loss: 0.1791 - acc: 0.9476 - val_loss: 0.1238 - val_acc: 0.9648\n",
      "Epoch 55/200\n",
      "48000/48000 [==============================] - 2s - loss: 0.1830 - acc: 0.9456 - val_loss: 0.1223 - val_acc: 0.9645\n",
      "Epoch 56/200\n",
      "48000/48000 [==============================] - 2s - loss: 0.1808 - acc: 0.9458 - val_loss: 0.1218 - val_acc: 0.9653\n",
      "Epoch 57/200\n",
      "48000/48000 [==============================] - 2s - loss: 0.1779 - acc: 0.9482 - val_loss: 0.1213 - val_acc: 0.9658\n",
      "Epoch 58/200\n",
      "48000/48000 [==============================] - 2s - loss: 0.1751 - acc: 0.9480 - val_loss: 0.1205 - val_acc: 0.9647\n",
      "Epoch 59/200\n",
      "48000/48000 [==============================] - 2s - loss: 0.1709 - acc: 0.9492 - val_loss: 0.1189 - val_acc: 0.9648\n",
      "Epoch 60/200\n",
      "48000/48000 [==============================] - 2s - loss: 0.1728 - acc: 0.9496 - val_loss: 0.1180 - val_acc: 0.9660\n",
      "Epoch 61/200\n",
      "48000/48000 [==============================] - 2s - loss: 0.1720 - acc: 0.9494 - val_loss: 0.1177 - val_acc: 0.9661\n",
      "Epoch 62/200\n",
      "48000/48000 [==============================] - 2s - loss: 0.1691 - acc: 0.9499 - val_loss: 0.1168 - val_acc: 0.9659\n",
      "Epoch 63/200\n",
      "48000/48000 [==============================] - 2s - loss: 0.1679 - acc: 0.9509 - val_loss: 0.1158 - val_acc: 0.9672\n",
      "Epoch 64/200\n",
      "48000/48000 [==============================] - 2s - loss: 0.1648 - acc: 0.9502 - val_loss: 0.1156 - val_acc: 0.9661\n",
      "Epoch 65/200\n",
      "48000/48000 [==============================] - 2s - loss: 0.1631 - acc: 0.9521 - val_loss: 0.1146 - val_acc: 0.9663\n",
      "Epoch 66/200\n",
      "48000/48000 [==============================] - 2s - loss: 0.1654 - acc: 0.9511 - val_loss: 0.1135 - val_acc: 0.9671\n",
      "Epoch 67/200\n",
      "48000/48000 [==============================] - 2s - loss: 0.1614 - acc: 0.9526 - val_loss: 0.1128 - val_acc: 0.9673\n",
      "Epoch 68/200\n",
      "48000/48000 [==============================] - 2s - loss: 0.1617 - acc: 0.9525 - val_loss: 0.1119 - val_acc: 0.9671\n",
      "Epoch 69/200\n",
      "48000/48000 [==============================] - 2s - loss: 0.1614 - acc: 0.9523 - val_loss: 0.1114 - val_acc: 0.9674\n",
      "Epoch 70/200\n",
      "48000/48000 [==============================] - 2s - loss: 0.1595 - acc: 0.9522 - val_loss: 0.1107 - val_acc: 0.9682\n",
      "Epoch 71/200\n",
      "48000/48000 [==============================] - 3s - loss: 0.1543 - acc: 0.9538 - val_loss: 0.1105 - val_acc: 0.9678\n",
      "Epoch 72/200\n",
      "48000/48000 [==============================] - 3s - loss: 0.1540 - acc: 0.9545 - val_loss: 0.1096 - val_acc: 0.9679\n",
      "Epoch 73/200\n",
      "48000/48000 [==============================] - 2s - loss: 0.1564 - acc: 0.9535 - val_loss: 0.1090 - val_acc: 0.9677\n",
      "Epoch 74/200\n",
      "48000/48000 [==============================] - 2s - loss: 0.1526 - acc: 0.9536 - val_loss: 0.1088 - val_acc: 0.9678\n",
      "Epoch 75/200\n",
      "48000/48000 [==============================] - 3s - loss: 0.1495 - acc: 0.9551 - val_loss: 0.1079 - val_acc: 0.9683\n",
      "Epoch 76/200\n",
      "48000/48000 [==============================] - 2s - loss: 0.1531 - acc: 0.9554 - val_loss: 0.1079 - val_acc: 0.9686\n",
      "Epoch 77/200\n",
      "48000/48000 [==============================] - 2s - loss: 0.1466 - acc: 0.9563 - val_loss: 0.1078 - val_acc: 0.9688\n",
      "Epoch 78/200\n",
      "48000/48000 [==============================] - 2s - loss: 0.1450 - acc: 0.9579 - val_loss: 0.1058 - val_acc: 0.9690\n",
      "Epoch 79/200\n",
      "48000/48000 [==============================] - 2s - loss: 0.1462 - acc: 0.9564 - val_loss: 0.1056 - val_acc: 0.9695\n",
      "Epoch 80/200\n",
      "48000/48000 [==============================] - 2s - loss: 0.1462 - acc: 0.9567 - val_loss: 0.1045 - val_acc: 0.9695\n",
      "Epoch 81/200\n",
      "48000/48000 [==============================] - 2s - loss: 0.1454 - acc: 0.9567 - val_loss: 0.1046 - val_acc: 0.9693\n",
      "Epoch 82/200\n",
      "48000/48000 [==============================] - 2s - loss: 0.1454 - acc: 0.9567 - val_loss: 0.1037 - val_acc: 0.9697\n",
      "Epoch 83/200\n",
      "48000/48000 [==============================] - 2s - loss: 0.1430 - acc: 0.9576 - val_loss: 0.1038 - val_acc: 0.9694\n",
      "Epoch 84/200\n",
      "48000/48000 [==============================] - 2s - loss: 0.1406 - acc: 0.9588 - val_loss: 0.1035 - val_acc: 0.9695\n",
      "Epoch 85/200\n",
      "48000/48000 [==============================] - 2s - loss: 0.1412 - acc: 0.9588 - val_loss: 0.1029 - val_acc: 0.9698\n",
      "Epoch 86/200\n",
      "48000/48000 [==============================] - 2s - loss: 0.1400 - acc: 0.9574 - val_loss: 0.1025 - val_acc: 0.9700\n",
      "Epoch 87/200\n",
      "48000/48000 [==============================] - 2s - loss: 0.1391 - acc: 0.9588 - val_loss: 0.1020 - val_acc: 0.9705\n",
      "Epoch 88/200\n",
      "48000/48000 [==============================] - 2s - loss: 0.1390 - acc: 0.9585 - val_loss: 0.1011 - val_acc: 0.9700\n",
      "Epoch 89/200\n",
      "48000/48000 [==============================] - 2s - loss: 0.1362 - acc: 0.9606 - val_loss: 0.1010 - val_acc: 0.9704\n",
      "Epoch 90/200\n",
      "48000/48000 [==============================] - 2s - loss: 0.1354 - acc: 0.9594 - val_loss: 0.1003 - val_acc: 0.9706\n",
      "Epoch 91/200\n",
      "48000/48000 [==============================] - 2s - loss: 0.1362 - acc: 0.9596 - val_loss: 0.1002 - val_acc: 0.9709\n",
      "Epoch 92/200\n",
      "48000/48000 [==============================] - 2s - loss: 0.1363 - acc: 0.9595 - val_loss: 0.0993 - val_acc: 0.9711\n",
      "Epoch 93/200\n",
      "48000/48000 [==============================] - 2s - loss: 0.1317 - acc: 0.9615 - val_loss: 0.0990 - val_acc: 0.9708\n",
      "Epoch 94/200\n",
      "48000/48000 [==============================] - 2s - loss: 0.1334 - acc: 0.9604 - val_loss: 0.0986 - val_acc: 0.9711\n",
      "Epoch 95/200\n",
      "48000/48000 [==============================] - 2s - loss: 0.1345 - acc: 0.9594 - val_loss: 0.0983 - val_acc: 0.9708\n",
      "Epoch 96/200\n",
      "48000/48000 [==============================] - 2s - loss: 0.1315 - acc: 0.9600 - val_loss: 0.0984 - val_acc: 0.9710\n",
      "Epoch 97/200\n",
      "48000/48000 [==============================] - 2s - loss: 0.1320 - acc: 0.9609 - val_loss: 0.0977 - val_acc: 0.9709\n",
      "Epoch 98/200\n",
      "48000/48000 [==============================] - 2s - loss: 0.1306 - acc: 0.9613 - val_loss: 0.0971 - val_acc: 0.9713\n",
      "Epoch 99/200\n",
      "48000/48000 [==============================] - 2s - loss: 0.1277 - acc: 0.9624 - val_loss: 0.0971 - val_acc: 0.9718\n",
      "Epoch 100/200\n",
      "48000/48000 [==============================] - 2s - loss: 0.1290 - acc: 0.9612 - val_loss: 0.0963 - val_acc: 0.9713\n",
      "Epoch 101/200\n",
      "48000/48000 [==============================] - 2s - loss: 0.1292 - acc: 0.9617 - val_loss: 0.0960 - val_acc: 0.9725\n",
      "Epoch 102/200\n",
      "48000/48000 [==============================] - 2s - loss: 0.1246 - acc: 0.9625 - val_loss: 0.0955 - val_acc: 0.9725\n",
      "Epoch 103/200\n",
      "48000/48000 [==============================] - 2s - loss: 0.1250 - acc: 0.9617 - val_loss: 0.0960 - val_acc: 0.9719\n",
      "Epoch 104/200\n",
      "48000/48000 [==============================] - 2s - loss: 0.1254 - acc: 0.9628 - val_loss: 0.0952 - val_acc: 0.9722\n",
      "Epoch 105/200\n",
      "48000/48000 [==============================] - 2s - loss: 0.1259 - acc: 0.9625 - val_loss: 0.0953 - val_acc: 0.9723\n",
      "Epoch 106/200\n",
      "48000/48000 [==============================] - 2s - loss: 0.1226 - acc: 0.9639 - val_loss: 0.0949 - val_acc: 0.9717\n",
      "Epoch 107/200\n",
      "48000/48000 [==============================] - 2s - loss: 0.1225 - acc: 0.9630 - val_loss: 0.0946 - val_acc: 0.9720\n",
      "Epoch 108/200\n",
      "48000/48000 [==============================] - 2s - loss: 0.1243 - acc: 0.9623 - val_loss: 0.0941 - val_acc: 0.9720\n",
      "Epoch 109/200\n",
      "48000/48000 [==============================] - 2s - loss: 0.1213 - acc: 0.9641 - val_loss: 0.0940 - val_acc: 0.9722\n",
      "Epoch 110/200\n",
      "48000/48000 [==============================] - 2s - loss: 0.1230 - acc: 0.9633 - val_loss: 0.0935 - val_acc: 0.9726\n",
      "Epoch 111/200\n",
      "48000/48000 [==============================] - 2s - loss: 0.1196 - acc: 0.9636 - val_loss: 0.0939 - val_acc: 0.9724\n",
      "Epoch 112/200\n",
      "48000/48000 [==============================] - 2s - loss: 0.1195 - acc: 0.9641 - val_loss: 0.0937 - val_acc: 0.9724\n",
      "Epoch 113/200\n",
      "48000/48000 [==============================] - 2s - loss: 0.1193 - acc: 0.9645 - val_loss: 0.0939 - val_acc: 0.9724\n",
      "Epoch 114/200\n",
      "48000/48000 [==============================] - 2s - loss: 0.1166 - acc: 0.9650 - val_loss: 0.0930 - val_acc: 0.9722\n",
      "Epoch 115/200\n",
      "48000/48000 [==============================] - 2s - loss: 0.1174 - acc: 0.9649 - val_loss: 0.0925 - val_acc: 0.9729\n",
      "Epoch 116/200\n",
      "48000/48000 [==============================] - 2s - loss: 0.1157 - acc: 0.9649 - val_loss: 0.0923 - val_acc: 0.9727\n",
      "Epoch 117/200\n",
      "48000/48000 [==============================] - 2s - loss: 0.1166 - acc: 0.9645 - val_loss: 0.0919 - val_acc: 0.9733\n",
      "Epoch 118/200\n",
      "48000/48000 [==============================] - 2s - loss: 0.1167 - acc: 0.9652 - val_loss: 0.0919 - val_acc: 0.9726\n",
      "Epoch 119/200\n",
      "48000/48000 [==============================] - 2s - loss: 0.1177 - acc: 0.9654 - val_loss: 0.0923 - val_acc: 0.9728\n",
      "Epoch 120/200\n",
      "48000/48000 [==============================] - 2s - loss: 0.1142 - acc: 0.9651 - val_loss: 0.0915 - val_acc: 0.9734\n",
      "Epoch 121/200\n",
      "48000/48000 [==============================] - 2s - loss: 0.1125 - acc: 0.9664 - val_loss: 0.0911 - val_acc: 0.9732\n",
      "Epoch 122/200\n",
      "48000/48000 [==============================] - 2s - loss: 0.1117 - acc: 0.9669 - val_loss: 0.0910 - val_acc: 0.9733\n",
      "Epoch 123/200\n",
      "48000/48000 [==============================] - 2s - loss: 0.1110 - acc: 0.9669 - val_loss: 0.0907 - val_acc: 0.9736\n",
      "Epoch 124/200\n",
      "48000/48000 [==============================] - 2s - loss: 0.1130 - acc: 0.9652 - val_loss: 0.0905 - val_acc: 0.9740\n",
      "Epoch 125/200\n",
      "48000/48000 [==============================] - 2s - loss: 0.1114 - acc: 0.9667 - val_loss: 0.0906 - val_acc: 0.9734\n",
      "Epoch 126/200\n",
      "48000/48000 [==============================] - 2s - loss: 0.1115 - acc: 0.9662 - val_loss: 0.0903 - val_acc: 0.9738\n",
      "Epoch 127/200\n",
      "48000/48000 [==============================] - 3s - loss: 0.1126 - acc: 0.9667 - val_loss: 0.0900 - val_acc: 0.9740\n",
      "Epoch 128/200\n",
      "48000/48000 [==============================] - 2s - loss: 0.1129 - acc: 0.9660 - val_loss: 0.0898 - val_acc: 0.9738\n",
      "Epoch 129/200\n",
      "48000/48000 [==============================] - 2s - loss: 0.1119 - acc: 0.9664 - val_loss: 0.0900 - val_acc: 0.9740\n",
      "Epoch 130/200\n",
      "48000/48000 [==============================] - 2s - loss: 0.1099 - acc: 0.9672 - val_loss: 0.0889 - val_acc: 0.9743\n",
      "Epoch 131/200\n",
      "48000/48000 [==============================] - 2s - loss: 0.1080 - acc: 0.9665 - val_loss: 0.0892 - val_acc: 0.9747\n",
      "Epoch 132/200\n",
      "48000/48000 [==============================] - 2s - loss: 0.1077 - acc: 0.9676 - val_loss: 0.0889 - val_acc: 0.9738\n",
      "Epoch 133/200\n",
      "48000/48000 [==============================] - 2s - loss: 0.1089 - acc: 0.9674 - val_loss: 0.0887 - val_acc: 0.9743\n",
      "Epoch 134/200\n",
      "48000/48000 [==============================] - 2s - loss: 0.1074 - acc: 0.9683 - val_loss: 0.0881 - val_acc: 0.9743\n",
      "Epoch 135/200\n",
      "48000/48000 [==============================] - 2s - loss: 0.1068 - acc: 0.9681 - val_loss: 0.0888 - val_acc: 0.9735\n",
      "Epoch 136/200\n",
      "48000/48000 [==============================] - 2s - loss: 0.1058 - acc: 0.9676 - val_loss: 0.0885 - val_acc: 0.9738\n",
      "Epoch 137/200\n",
      "48000/48000 [==============================] - 2s - loss: 0.1040 - acc: 0.9684 - val_loss: 0.0882 - val_acc: 0.9746\n",
      "Epoch 138/200\n",
      "48000/48000 [==============================] - 2s - loss: 0.1041 - acc: 0.9680 - val_loss: 0.0880 - val_acc: 0.9738\n",
      "Epoch 139/200\n",
      "48000/48000 [==============================] - 2s - loss: 0.1047 - acc: 0.9683 - val_loss: 0.0877 - val_acc: 0.9738\n",
      "Epoch 140/200\n",
      "48000/48000 [==============================] - 2s - loss: 0.1033 - acc: 0.9685 - val_loss: 0.0879 - val_acc: 0.9744\n",
      "Epoch 141/200\n",
      "48000/48000 [==============================] - 2s - loss: 0.1044 - acc: 0.9684 - val_loss: 0.0876 - val_acc: 0.9745\n",
      "Epoch 142/200\n",
      "48000/48000 [==============================] - 2s - loss: 0.1032 - acc: 0.9692 - val_loss: 0.0872 - val_acc: 0.9743\n",
      "Epoch 143/200\n",
      "48000/48000 [==============================] - 2s - loss: 0.1029 - acc: 0.9688 - val_loss: 0.0868 - val_acc: 0.9743\n",
      "Epoch 144/200\n",
      "48000/48000 [==============================] - 2s - loss: 0.1025 - acc: 0.9686 - val_loss: 0.0870 - val_acc: 0.9748\n",
      "Epoch 145/200\n",
      "48000/48000 [==============================] - 2s - loss: 0.1010 - acc: 0.9696 - val_loss: 0.0876 - val_acc: 0.9743\n",
      "Epoch 146/200\n",
      "48000/48000 [==============================] - 2s - loss: 0.1022 - acc: 0.9693 - val_loss: 0.0866 - val_acc: 0.9747\n",
      "Epoch 147/200\n",
      "48000/48000 [==============================] - 2s - loss: 0.1008 - acc: 0.9699 - val_loss: 0.0860 - val_acc: 0.9743\n",
      "Epoch 148/200\n",
      "48000/48000 [==============================] - 2s - loss: 0.0985 - acc: 0.9704 - val_loss: 0.0861 - val_acc: 0.9754\n",
      "Epoch 149/200\n",
      "48000/48000 [==============================] - 2s - loss: 0.0992 - acc: 0.9701 - val_loss: 0.0866 - val_acc: 0.9750\n",
      "Epoch 150/200\n",
      "48000/48000 [==============================] - 2s - loss: 0.1000 - acc: 0.9692 - val_loss: 0.0862 - val_acc: 0.9750\n",
      "Epoch 151/200\n",
      "48000/48000 [==============================] - 2s - loss: 0.0999 - acc: 0.9704 - val_loss: 0.0857 - val_acc: 0.9749\n",
      "Epoch 152/200\n",
      "48000/48000 [==============================] - 2s - loss: 0.0968 - acc: 0.9701 - val_loss: 0.0853 - val_acc: 0.9749\n",
      "Epoch 153/200\n",
      "48000/48000 [==============================] - 2s - loss: 0.0981 - acc: 0.9699 - val_loss: 0.0859 - val_acc: 0.9743\n",
      "Epoch 154/200\n",
      "48000/48000 [==============================] - 2s - loss: 0.0976 - acc: 0.9707 - val_loss: 0.0862 - val_acc: 0.9746\n",
      "Epoch 155/200\n",
      "48000/48000 [==============================] - 2s - loss: 0.0987 - acc: 0.9705 - val_loss: 0.0862 - val_acc: 0.9752\n",
      "Epoch 156/200\n",
      "48000/48000 [==============================] - 2s - loss: 0.1001 - acc: 0.9690 - val_loss: 0.0863 - val_acc: 0.9741\n",
      "Epoch 157/200\n",
      "48000/48000 [==============================] - 2s - loss: 0.0979 - acc: 0.9698 - val_loss: 0.0865 - val_acc: 0.9748\n",
      "Epoch 158/200\n",
      "48000/48000 [==============================] - 2s - loss: 0.0983 - acc: 0.9711 - val_loss: 0.0854 - val_acc: 0.9748\n",
      "Epoch 159/200\n",
      "48000/48000 [==============================] - 2s - loss: 0.0963 - acc: 0.9705 - val_loss: 0.0854 - val_acc: 0.9748\n",
      "Epoch 160/200\n",
      "48000/48000 [==============================] - 2s - loss: 0.0956 - acc: 0.9700 - val_loss: 0.0851 - val_acc: 0.9748\n",
      "Epoch 161/200\n",
      "48000/48000 [==============================] - 2s - loss: 0.0930 - acc: 0.9713 - val_loss: 0.0852 - val_acc: 0.9753\n",
      "Epoch 162/200\n",
      "48000/48000 [==============================] - 2s - loss: 0.0927 - acc: 0.9713 - val_loss: 0.0854 - val_acc: 0.9749\n",
      "Epoch 163/200\n",
      "48000/48000 [==============================] - 2s - loss: 0.0959 - acc: 0.9706 - val_loss: 0.0856 - val_acc: 0.9749\n",
      "Epoch 164/200\n",
      "48000/48000 [==============================] - 2s - loss: 0.0939 - acc: 0.9714 - val_loss: 0.0849 - val_acc: 0.9746\n",
      "Epoch 165/200\n",
      "48000/48000 [==============================] - 2s - loss: 0.0932 - acc: 0.9714 - val_loss: 0.0859 - val_acc: 0.9747\n",
      "Epoch 166/200\n",
      "48000/48000 [==============================] - 2s - loss: 0.0951 - acc: 0.9708 - val_loss: 0.0848 - val_acc: 0.9751\n",
      "Epoch 167/200\n",
      "48000/48000 [==============================] - 2s - loss: 0.0931 - acc: 0.9713 - val_loss: 0.0845 - val_acc: 0.9747\n",
      "Epoch 168/200\n",
      "48000/48000 [==============================] - 2s - loss: 0.0893 - acc: 0.9728 - val_loss: 0.0852 - val_acc: 0.9755\n",
      "Epoch 169/200\n",
      "48000/48000 [==============================] - 2s - loss: 0.0921 - acc: 0.9710 - val_loss: 0.0844 - val_acc: 0.9753\n",
      "Epoch 170/200\n",
      "48000/48000 [==============================] - 2s - loss: 0.0912 - acc: 0.9719 - val_loss: 0.0843 - val_acc: 0.9752\n",
      "Epoch 171/200\n",
      "48000/48000 [==============================] - 2s - loss: 0.0913 - acc: 0.9714 - val_loss: 0.0841 - val_acc: 0.9758\n",
      "Epoch 172/200\n",
      "48000/48000 [==============================] - 2s - loss: 0.0905 - acc: 0.9723 - val_loss: 0.0840 - val_acc: 0.9760\n",
      "Epoch 173/200\n",
      "48000/48000 [==============================] - 2s - loss: 0.0926 - acc: 0.9715 - val_loss: 0.0840 - val_acc: 0.9758\n",
      "Epoch 174/200\n",
      "48000/48000 [==============================] - 2s - loss: 0.0923 - acc: 0.9722 - val_loss: 0.0836 - val_acc: 0.9758\n",
      "Epoch 175/200\n",
      "48000/48000 [==============================] - 2s - loss: 0.0889 - acc: 0.9725 - val_loss: 0.0835 - val_acc: 0.9757\n",
      "Epoch 176/200\n",
      "48000/48000 [==============================] - 2s - loss: 0.0884 - acc: 0.9728 - val_loss: 0.0838 - val_acc: 0.9754\n",
      "Epoch 177/200\n",
      "48000/48000 [==============================] - 2s - loss: 0.0882 - acc: 0.9729 - val_loss: 0.0838 - val_acc: 0.9758\n",
      "Epoch 178/200\n",
      "48000/48000 [==============================] - 2s - loss: 0.0887 - acc: 0.9729 - val_loss: 0.0833 - val_acc: 0.9753\n",
      "Epoch 179/200\n",
      "48000/48000 [==============================] - 2s - loss: 0.0894 - acc: 0.9725 - val_loss: 0.0833 - val_acc: 0.9759\n",
      "Epoch 180/200\n",
      "48000/48000 [==============================] - 2s - loss: 0.0868 - acc: 0.9733 - val_loss: 0.0842 - val_acc: 0.9758\n",
      "Epoch 181/200\n",
      "48000/48000 [==============================] - 2s - loss: 0.0883 - acc: 0.9730 - val_loss: 0.0835 - val_acc: 0.9755\n",
      "Epoch 182/200\n",
      "48000/48000 [==============================] - 2s - loss: 0.0861 - acc: 0.9738 - val_loss: 0.0833 - val_acc: 0.9761\n",
      "Epoch 183/200\n",
      "48000/48000 [==============================] - 2s - loss: 0.0882 - acc: 0.9728 - val_loss: 0.0833 - val_acc: 0.9765\n",
      "Epoch 184/200\n",
      "48000/48000 [==============================] - 2s - loss: 0.0860 - acc: 0.9742 - val_loss: 0.0828 - val_acc: 0.9761\n",
      "Epoch 185/200\n",
      "48000/48000 [==============================] - 2s - loss: 0.0868 - acc: 0.9730 - val_loss: 0.0835 - val_acc: 0.9760\n",
      "Epoch 186/200\n",
      "48000/48000 [==============================] - 2s - loss: 0.0861 - acc: 0.9733 - val_loss: 0.0825 - val_acc: 0.9760\n",
      "Epoch 187/200\n",
      "48000/48000 [==============================] - 2s - loss: 0.0855 - acc: 0.9740 - val_loss: 0.0831 - val_acc: 0.9765\n",
      "Epoch 188/200\n",
      "48000/48000 [==============================] - 2s - loss: 0.0850 - acc: 0.9733 - val_loss: 0.0824 - val_acc: 0.9765\n",
      "Epoch 189/200\n",
      "48000/48000 [==============================] - 2s - loss: 0.0855 - acc: 0.9735 - val_loss: 0.0826 - val_acc: 0.9763\n",
      "Epoch 190/200\n",
      "48000/48000 [==============================] - 2s - loss: 0.0833 - acc: 0.9744 - val_loss: 0.0820 - val_acc: 0.9763\n",
      "Epoch 191/200\n",
      "48000/48000 [==============================] - 2s - loss: 0.0834 - acc: 0.9752 - val_loss: 0.0823 - val_acc: 0.9765\n",
      "Epoch 192/200\n",
      "48000/48000 [==============================] - 2s - loss: 0.0840 - acc: 0.9742 - val_loss: 0.0825 - val_acc: 0.9766\n",
      "Epoch 193/200\n",
      "48000/48000 [==============================] - 2s - loss: 0.0863 - acc: 0.9729 - val_loss: 0.0817 - val_acc: 0.9769\n",
      "Epoch 194/200\n",
      "48000/48000 [==============================] - 2s - loss: 0.0856 - acc: 0.9735 - val_loss: 0.0822 - val_acc: 0.9768\n",
      "Epoch 195/200\n",
      "48000/48000 [==============================] - 2s - loss: 0.0834 - acc: 0.9744 - val_loss: 0.0823 - val_acc: 0.9768\n",
      "Epoch 196/200\n",
      "48000/48000 [==============================] - 2s - loss: 0.0839 - acc: 0.9731 - val_loss: 0.0826 - val_acc: 0.9768\n",
      "Epoch 197/200\n",
      "48000/48000 [==============================] - 2s - loss: 0.0837 - acc: 0.9736 - val_loss: 0.0825 - val_acc: 0.9768\n",
      "Epoch 198/200\n",
      "48000/48000 [==============================] - 2s - loss: 0.0831 - acc: 0.9741 - val_loss: 0.0823 - val_acc: 0.9765\n",
      "Epoch 199/200\n",
      "48000/48000 [==============================] - 2s - loss: 0.0819 - acc: 0.9744 - val_loss: 0.0824 - val_acc: 0.9764\n",
      "Epoch 200/200\n",
      "48000/48000 [==============================] - 2s - loss: 0.0800 - acc: 0.9748 - val_loss: 0.0823 - val_acc: 0.9767\n"
     ]
    }
   ],
   "source": [
    "time_start = time.clock()\n",
    "history = model.fit(X_train, y_train,\n",
    "                    batch_size=128,\n",
    "                    epochs=200,\n",
    "                    verbose=1,\n",
    "                    validation_split=0.2)\n",
    "time_end = time.clock()"
   ]
  },
  {
   "cell_type": "code",
   "execution_count": 10,
   "metadata": {
    "collapsed": false
   },
   "outputs": [
    {
     "name": "stdout",
     "output_type": "stream",
     "text": [
      "Time to train\n",
      "Time elapsed in seconds : 475\n",
      "Time elapsed in minutes : 7.9\n",
      "Time elapsed in hours   : 0.1\n"
     ]
    }
   ],
   "source": [
    "duration = time_end - time_start\n",
    "print(\"Time to train\")\n",
    "print(\"Time elapsed in seconds : %.0f\" % duration)\n",
    "print(\"Time elapsed in minutes : %.1f\" % (duration/60))\n",
    "print(\"Time elapsed in hours   : %.1f\" % (duration/3600))"
   ]
  },
  {
   "cell_type": "code",
   "execution_count": 11,
   "metadata": {
    "collapsed": false
   },
   "outputs": [
    {
     "name": "stdout",
     "output_type": "stream",
     "text": [
      " 8320/10000 [=======================>......] - ETA: 0s\n",
      "Test score: 0.0800136249606\n",
      "Test accuracy: 0.9776\n"
     ]
    }
   ],
   "source": [
    "score = model.evaluate(X_test, y_test,\n",
    "                       verbose=1)\n",
    "print(\"\")\n",
    "print(\"Test score:\", score[0])\n",
    "print(\"Test accuracy:\", score[1])"
   ]
  },
  {
   "cell_type": "code",
   "execution_count": 12,
   "metadata": {
    "collapsed": false
   },
   "outputs": [
    {
     "name": "stdout",
     "output_type": "stream",
     "text": [
      "dict_keys(['loss', 'val_loss', 'acc', 'val_acc'])\n"
     ]
    }
   ],
   "source": [
    "# list all data in history\n",
    "print(history.history.keys())"
   ]
  },
  {
   "cell_type": "code",
   "execution_count": 13,
   "metadata": {
    "collapsed": false
   },
   "outputs": [
    {
     "data": {
      "image/png": "[encoded data removed]",
      "text/plain": [
       "<matplotlib.figure.Figure at 0x266da4ad550>"
      ]
     },
     "metadata": {},
     "output_type": "display_data"
    }
   ],
   "source": [
    "# Accuracy\n",
    "plt.plot(history.history[\"acc\"])\n",
    "plt.plot(history.history[\"val_acc\"])\n",
    "plt.title(\"model accuracy\")\n",
    "plt.ylabel(\"accuracy\")\n",
    "plt.xlabel(\"epoch\")\n",
    "plt.legend([\"train\", \"test\"], loc=\"lower left\")\n",
    "plt.show()"
   ]
  },
  {
   "cell_type": "code",
   "execution_count": 14,
   "metadata": {
    "collapsed": false
   },
   "outputs": [
    {
     "data": {
      "image/png": "[encoded data removed]",
      "text/plain": [
       "<matplotlib.figure.Figure at 0x266da607e80>"
      ]
     },
     "metadata": {},
     "output_type": "display_data"
    }
   ],
   "source": [
    "# Loss\n",
    "plt.plot(history.history[\"loss\"])\n",
    "plt.plot(history.history[\"val_loss\"])\n",
    "plt.title(\"model loss\")\n",
    "plt.ylabel(\"loss\")\n",
    "plt.xlabel(\"epoch\")\n",
    "plt.legend([\"train\", \"test\"], loc=\"upper left\")\n",
    "plt.show()"
   ]
  }
 ],
 "metadata": {
  "anaconda-cloud": {},
  "kernelspec": {
   "display_name": "Python [default]",
   "language": "python",
   "name": "python3"
  },
  "language_info": {
   "codemirror_mode": {
    "name": "ipython",
    "version": 3
   },
   "file_extension": ".py",
   "mimetype": "text/x-python",
   "name": "python",
   "nbconvert_exporter": "python",
   "pygments_lexer": "ipython3",
   "version": "3.5.2"
  }
 },
 "nbformat": 4,
 "nbformat_minor": 1
}
