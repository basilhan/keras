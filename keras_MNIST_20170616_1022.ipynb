{
 "cells": [
  {
   "cell_type": "code",
   "execution_count": 1,
   "metadata": {
    "collapsed": false
   },
   "outputs": [
    {
     "name": "stderr",
     "output_type": "stream",
     "text": [
      "Using TensorFlow backend.\n"
     ]
    }
   ],
   "source": [
    "import numpy as np\n",
    "import matplotlib.pyplot as plt\n",
    "import time\n",
    "from keras.datasets import mnist\n",
    "from keras.models import Sequential\n",
    "from keras.layers.core import Dense, Dropout, Activation\n",
    "from keras.optimizers import SGD, Adam, Adamax, RMSprop, Adagrad, Adadelta, Nadam\n",
    "from keras.utils import np_utils\n",
    "from tensorflow import set_random_seed"
   ]
  },
  {
   "cell_type": "code",
   "execution_count": 2,
   "metadata": {
    "collapsed": false
   },
   "outputs": [],
   "source": [
    "np.random.seed(2015)\n",
    "set_random_seed(2015)"
   ]
  },
  {
   "cell_type": "code",
   "execution_count": 3,
   "metadata": {
    "collapsed": false
   },
   "outputs": [],
   "source": [
    "# Load data\n",
    "(X_train, y_train), (X_test, y_test) = mnist.load_data()"
   ]
  },
  {
   "cell_type": "code",
   "execution_count": 4,
   "metadata": {
    "collapsed": false
   },
   "outputs": [
    {
     "name": "stdout",
     "output_type": "stream",
     "text": [
      "60000 training samples\n",
      "10000 testing samples\n"
     ]
    }
   ],
   "source": [
    "# Preprocessing\n",
    "X_train = X_train.reshape(60000, 784)\n",
    "X_test  = X_test.reshape(10000, 784)\n",
    "X_train = X_train.astype(\"float32\")\n",
    "X_test  = X_test.astype(\"float32\")\n",
    "X_train /= 255\n",
    "X_test  /= 255\n",
    "print(X_train.shape[0], \"training samples\")\n",
    "print(X_test.shape[0], \"testing samples\")"
   ]
  },
  {
   "cell_type": "code",
   "execution_count": 5,
   "metadata": {
    "collapsed": true
   },
   "outputs": [],
   "source": [
    "# Convert labels to one-hot encoding\n",
    "# e.g. 1 -> array([ 0.,  1.,  0.,  0.,  0.,  0.,  0.,  0.,  0.,  0.])\n",
    "y_train = np_utils.to_categorical(y_train, 10)\n",
    "y_test = np_utils.to_categorical(y_test, 10)"
   ]
  },
  {
   "cell_type": "markdown",
   "metadata": {},
   "source": [
    "The argument *input_dim* is equivalent to *input_shape* ([reference](https://keras.io/getting-started/sequential-model-guide/))."
   ]
  },
  {
   "cell_type": "code",
   "execution_count": 6,
   "metadata": {
    "collapsed": false
   },
   "outputs": [],
   "source": [
    "# Define the model\n",
    "model = Sequential([\n",
    "        Dense(128, input_dim=784), Activation(\"relu\"), Dropout(0.3),\n",
    "        Dense(128), Activation(\"relu\"), Dropout(0.3),\n",
    "        Dense(10), Activation(\"softmax\")\n",
    "    ])"
   ]
  },
  {
   "cell_type": "code",
   "execution_count": 7,
   "metadata": {
    "collapsed": false
   },
   "outputs": [
    {
     "name": "stdout",
     "output_type": "stream",
     "text": [
      "_________________________________________________________________\n",
      "Layer (type)                 Output Shape              Param #   \n",
      "=================================================================\n",
      "dense_1 (Dense)              (None, 128)               100480    \n",
      "_________________________________________________________________\n",
      "activation_1 (Activation)    (None, 128)               0         \n",
      "_________________________________________________________________\n",
      "dropout_1 (Dropout)          (None, 128)               0         \n",
      "_________________________________________________________________\n",
      "dense_2 (Dense)              (None, 128)               16512     \n",
      "_________________________________________________________________\n",
      "activation_2 (Activation)    (None, 128)               0         \n",
      "_________________________________________________________________\n",
      "dropout_2 (Dropout)          (None, 128)               0         \n",
      "_________________________________________________________________\n",
      "dense_3 (Dense)              (None, 10)                1290      \n",
      "_________________________________________________________________\n",
      "activation_3 (Activation)    (None, 10)                0         \n",
      "=================================================================\n",
      "Total params: 118,282\n",
      "Trainable params: 118,282\n",
      "Non-trainable params: 0\n",
      "_________________________________________________________________\n"
     ]
    }
   ],
   "source": [
    "model.summary()"
   ]
  },
  {
   "cell_type": "code",
   "execution_count": 8,
   "metadata": {
    "collapsed": false
   },
   "outputs": [],
   "source": [
    "model.compile(loss=\"categorical_crossentropy\",\n",
    "              optimizer=SGD(lr=0.1),\n",
    "              metrics=[\"accuracy\"])"
   ]
  },
  {
   "cell_type": "code",
   "execution_count": 9,
   "metadata": {
    "collapsed": false
   },
   "outputs": [
    {
     "name": "stdout",
     "output_type": "stream",
     "text": [
      "Train on 48000 samples, validate on 12000 samples\n",
      "Epoch 1/200\n",
      "48000/48000 [==============================] - 2s - loss: 0.6951 - acc: 0.7832 - val_loss: 0.2656 - val_acc: 0.9233\n",
      "Epoch 2/200\n",
      "48000/48000 [==============================] - 2s - loss: 0.3431 - acc: 0.8976 - val_loss: 0.2015 - val_acc: 0.9408\n",
      "Epoch 3/200\n",
      "48000/48000 [==============================] - 2s - loss: 0.2738 - acc: 0.9178 - val_loss: 0.1685 - val_acc: 0.9508\n",
      "Epoch 4/200\n",
      "48000/48000 [==============================] - 2s - loss: 0.2353 - acc: 0.9323 - val_loss: 0.1463 - val_acc: 0.9573\n",
      "Epoch 5/200\n",
      "48000/48000 [==============================] - 2s - loss: 0.2029 - acc: 0.9394 - val_loss: 0.1327 - val_acc: 0.9615\n",
      "Epoch 6/200\n",
      "48000/48000 [==============================] - 2s - loss: 0.1853 - acc: 0.9446 - val_loss: 0.1244 - val_acc: 0.9628\n",
      "Epoch 7/200\n",
      "48000/48000 [==============================] - 2s - loss: 0.1719 - acc: 0.9489 - val_loss: 0.1186 - val_acc: 0.9645\n",
      "Epoch 8/200\n",
      "48000/48000 [==============================] - 2s - loss: 0.1594 - acc: 0.9527 - val_loss: 0.1080 - val_acc: 0.9684\n",
      "Epoch 9/200\n",
      "48000/48000 [==============================] - 2s - loss: 0.1499 - acc: 0.9554 - val_loss: 0.1045 - val_acc: 0.9692\n",
      "Epoch 10/200\n",
      "48000/48000 [==============================] - 2s - loss: 0.1389 - acc: 0.9575 - val_loss: 0.0999 - val_acc: 0.9707\n",
      "Epoch 11/200\n",
      "48000/48000 [==============================] - 2s - loss: 0.1341 - acc: 0.9605 - val_loss: 0.1005 - val_acc: 0.9708\n",
      "Epoch 12/200\n",
      "48000/48000 [==============================] - 2s - loss: 0.1257 - acc: 0.9626 - val_loss: 0.0919 - val_acc: 0.9733\n",
      "Epoch 13/200\n",
      "48000/48000 [==============================] - 2s - loss: 0.1183 - acc: 0.9642 - val_loss: 0.0923 - val_acc: 0.9727\n",
      "Epoch 14/200\n",
      "48000/48000 [==============================] - 2s - loss: 0.1146 - acc: 0.9652 - val_loss: 0.0912 - val_acc: 0.9731\n",
      "Epoch 15/200\n",
      "48000/48000 [==============================] - 2s - loss: 0.1081 - acc: 0.9678 - val_loss: 0.0878 - val_acc: 0.9748\n",
      "Epoch 16/200\n",
      "48000/48000 [==============================] - 2s - loss: 0.1073 - acc: 0.9668 - val_loss: 0.0875 - val_acc: 0.9754\n",
      "Epoch 17/200\n",
      "48000/48000 [==============================] - 2s - loss: 0.1021 - acc: 0.9690 - val_loss: 0.0849 - val_acc: 0.9760\n",
      "Epoch 18/200\n",
      "48000/48000 [==============================] - 2s - loss: 0.0962 - acc: 0.9705 - val_loss: 0.0818 - val_acc: 0.9757\n",
      "Epoch 19/200\n",
      "48000/48000 [==============================] - 2s - loss: 0.0949 - acc: 0.9710 - val_loss: 0.0811 - val_acc: 0.9776\n",
      "Epoch 20/200\n",
      "48000/48000 [==============================] - 2s - loss: 0.0904 - acc: 0.9718 - val_loss: 0.0835 - val_acc: 0.9756\n",
      "Epoch 21/200\n",
      "48000/48000 [==============================] - 2s - loss: 0.0876 - acc: 0.9726 - val_loss: 0.0813 - val_acc: 0.9768\n",
      "Epoch 22/200\n",
      "48000/48000 [==============================] - 2s - loss: 0.0840 - acc: 0.9735 - val_loss: 0.0815 - val_acc: 0.9773\n",
      "Epoch 23/200\n",
      "48000/48000 [==============================] - 2s - loss: 0.0832 - acc: 0.9744 - val_loss: 0.0786 - val_acc: 0.9773\n",
      "Epoch 24/200\n",
      "48000/48000 [==============================] - 2s - loss: 0.0805 - acc: 0.9746 - val_loss: 0.0774 - val_acc: 0.9783\n",
      "Epoch 25/200\n",
      "48000/48000 [==============================] - 2s - loss: 0.0783 - acc: 0.9749 - val_loss: 0.0801 - val_acc: 0.9768\n",
      "Epoch 26/200\n",
      "48000/48000 [==============================] - 2s - loss: 0.0793 - acc: 0.9745 - val_loss: 0.0766 - val_acc: 0.9782\n",
      "Epoch 27/200\n",
      "48000/48000 [==============================] - 2s - loss: 0.0755 - acc: 0.9760 - val_loss: 0.0786 - val_acc: 0.9785\n",
      "Epoch 28/200\n",
      "48000/48000 [==============================] - 2s - loss: 0.0748 - acc: 0.9768 - val_loss: 0.0794 - val_acc: 0.9774\n",
      "Epoch 29/200\n",
      "48000/48000 [==============================] - 2s - loss: 0.0712 - acc: 0.9778 - val_loss: 0.0796 - val_acc: 0.9783\n",
      "Epoch 30/200\n",
      "48000/48000 [==============================] - 2s - loss: 0.0705 - acc: 0.9771 - val_loss: 0.0784 - val_acc: 0.9781\n",
      "Epoch 31/200\n",
      "48000/48000 [==============================] - 2s - loss: 0.0667 - acc: 0.9780 - val_loss: 0.0769 - val_acc: 0.9788\n",
      "Epoch 32/200\n",
      "48000/48000 [==============================] - 2s - loss: 0.0647 - acc: 0.9793 - val_loss: 0.0758 - val_acc: 0.9794\n",
      "Epoch 33/200\n",
      "48000/48000 [==============================] - 2s - loss: 0.0647 - acc: 0.9784 - val_loss: 0.0756 - val_acc: 0.9787\n",
      "Epoch 34/200\n",
      "48000/48000 [==============================] - 2s - loss: 0.0632 - acc: 0.9804 - val_loss: 0.0776 - val_acc: 0.9778\n",
      "Epoch 35/200\n",
      "48000/48000 [==============================] - 2s - loss: 0.0632 - acc: 0.9806 - val_loss: 0.0763 - val_acc: 0.9787\n",
      "Epoch 36/200\n",
      "48000/48000 [==============================] - 2s - loss: 0.0621 - acc: 0.9800 - val_loss: 0.0763 - val_acc: 0.9789\n",
      "Epoch 37/200\n",
      "48000/48000 [==============================] - 2s - loss: 0.0606 - acc: 0.9794 - val_loss: 0.0755 - val_acc: 0.9784\n",
      "Epoch 38/200\n",
      "48000/48000 [==============================] - 2s - loss: 0.0598 - acc: 0.9804 - val_loss: 0.0754 - val_acc: 0.9795\n",
      "Epoch 39/200\n",
      "48000/48000 [==============================] - 2s - loss: 0.0587 - acc: 0.9812 - val_loss: 0.0767 - val_acc: 0.9797\n",
      "Epoch 40/200\n",
      "48000/48000 [==============================] - 2s - loss: 0.0581 - acc: 0.9808 - val_loss: 0.0773 - val_acc: 0.9800\n",
      "Epoch 41/200\n",
      "48000/48000 [==============================] - 2s - loss: 0.0570 - acc: 0.9817 - val_loss: 0.0780 - val_acc: 0.9800\n",
      "Epoch 42/200\n",
      "48000/48000 [==============================] - 2s - loss: 0.0535 - acc: 0.9823 - val_loss: 0.0735 - val_acc: 0.9802\n",
      "Epoch 43/200\n",
      "48000/48000 [==============================] - 2s - loss: 0.0541 - acc: 0.9824 - val_loss: 0.0742 - val_acc: 0.9790\n",
      "Epoch 44/200\n",
      "48000/48000 [==============================] - 2s - loss: 0.0531 - acc: 0.9822 - val_loss: 0.0753 - val_acc: 0.9792\n",
      "Epoch 45/200\n",
      "48000/48000 [==============================] - 2s - loss: 0.0508 - acc: 0.9837 - val_loss: 0.0750 - val_acc: 0.9804\n",
      "Epoch 46/200\n",
      "48000/48000 [==============================] - 2s - loss: 0.0509 - acc: 0.9833 - val_loss: 0.0752 - val_acc: 0.9807\n",
      "Epoch 47/200\n",
      "48000/48000 [==============================] - 2s - loss: 0.0487 - acc: 0.9841 - val_loss: 0.0730 - val_acc: 0.9807\n",
      "Epoch 48/200\n",
      "48000/48000 [==============================] - 2s - loss: 0.0520 - acc: 0.9827 - val_loss: 0.0759 - val_acc: 0.9799\n",
      "Epoch 49/200\n",
      "48000/48000 [==============================] - 2s - loss: 0.0488 - acc: 0.9842 - val_loss: 0.0774 - val_acc: 0.9792\n",
      "Epoch 50/200\n",
      "48000/48000 [==============================] - 2s - loss: 0.0476 - acc: 0.9847 - val_loss: 0.0727 - val_acc: 0.9808\n",
      "Epoch 51/200\n",
      "48000/48000 [==============================] - 2s - loss: 0.0481 - acc: 0.9849 - val_loss: 0.0755 - val_acc: 0.9804\n",
      "Epoch 52/200\n",
      "48000/48000 [==============================] - 2s - loss: 0.0466 - acc: 0.9848 - val_loss: 0.0748 - val_acc: 0.9804\n",
      "Epoch 53/200\n",
      "48000/48000 [==============================] - 2s - loss: 0.0452 - acc: 0.9848 - val_loss: 0.0773 - val_acc: 0.9802\n",
      "Epoch 54/200\n",
      "48000/48000 [==============================] - 2s - loss: 0.0440 - acc: 0.9860 - val_loss: 0.0733 - val_acc: 0.9810\n",
      "Epoch 55/200\n",
      "48000/48000 [==============================] - 2s - loss: 0.0460 - acc: 0.9853 - val_loss: 0.0755 - val_acc: 0.9805\n",
      "Epoch 56/200\n",
      "48000/48000 [==============================] - 2s - loss: 0.0463 - acc: 0.9851 - val_loss: 0.0714 - val_acc: 0.9815\n",
      "Epoch 57/200\n",
      "48000/48000 [==============================] - 2s - loss: 0.0446 - acc: 0.9855 - val_loss: 0.0764 - val_acc: 0.9791\n",
      "Epoch 58/200\n",
      "48000/48000 [==============================] - 2s - loss: 0.0433 - acc: 0.9852 - val_loss: 0.0755 - val_acc: 0.9802\n",
      "Epoch 59/200\n",
      "48000/48000 [==============================] - 2s - loss: 0.0418 - acc: 0.9861 - val_loss: 0.0744 - val_acc: 0.9804\n",
      "Epoch 60/200\n",
      "48000/48000 [==============================] - 2s - loss: 0.0423 - acc: 0.9861 - val_loss: 0.0763 - val_acc: 0.9804\n",
      "Epoch 61/200\n",
      "48000/48000 [==============================] - 2s - loss: 0.0426 - acc: 0.9858 - val_loss: 0.0780 - val_acc: 0.9787\n",
      "Epoch 62/200\n",
      "48000/48000 [==============================] - 2s - loss: 0.0407 - acc: 0.9862 - val_loss: 0.0749 - val_acc: 0.9802\n",
      "Epoch 63/200\n",
      "48000/48000 [==============================] - 2s - loss: 0.0416 - acc: 0.9862 - val_loss: 0.0779 - val_acc: 0.9799\n",
      "Epoch 64/200\n",
      "48000/48000 [==============================] - 2s - loss: 0.0388 - acc: 0.9875 - val_loss: 0.0738 - val_acc: 0.9812\n",
      "Epoch 65/200\n",
      "48000/48000 [==============================] - 2s - loss: 0.0391 - acc: 0.9869 - val_loss: 0.0778 - val_acc: 0.9805\n",
      "Epoch 66/200\n",
      "48000/48000 [==============================] - 2s - loss: 0.0388 - acc: 0.9871 - val_loss: 0.0773 - val_acc: 0.9800\n",
      "Epoch 67/200\n",
      "48000/48000 [==============================] - 2s - loss: 0.0396 - acc: 0.9865 - val_loss: 0.0773 - val_acc: 0.9790\n",
      "Epoch 68/200\n",
      "48000/48000 [==============================] - 2s - loss: 0.0373 - acc: 0.9878 - val_loss: 0.0782 - val_acc: 0.9805\n",
      "Epoch 69/200\n",
      "48000/48000 [==============================] - 2s - loss: 0.0379 - acc: 0.9875 - val_loss: 0.0783 - val_acc: 0.9807\n",
      "Epoch 70/200\n",
      "48000/48000 [==============================] - 2s - loss: 0.0387 - acc: 0.9870 - val_loss: 0.0771 - val_acc: 0.9802\n",
      "Epoch 71/200\n",
      "48000/48000 [==============================] - 2s - loss: 0.0377 - acc: 0.9869 - val_loss: 0.0789 - val_acc: 0.9791\n",
      "Epoch 72/200\n",
      "48000/48000 [==============================] - 2s - loss: 0.0371 - acc: 0.9870 - val_loss: 0.0768 - val_acc: 0.9805\n",
      "Epoch 73/200\n",
      "48000/48000 [==============================] - 2s - loss: 0.0381 - acc: 0.9878 - val_loss: 0.0770 - val_acc: 0.9807\n",
      "Epoch 74/200\n",
      "48000/48000 [==============================] - 2s - loss: 0.0355 - acc: 0.9882 - val_loss: 0.0764 - val_acc: 0.9802\n",
      "Epoch 75/200\n",
      "48000/48000 [==============================] - 2s - loss: 0.0355 - acc: 0.9884 - val_loss: 0.0770 - val_acc: 0.9802\n",
      "Epoch 76/200\n",
      "48000/48000 [==============================] - 2s - loss: 0.0363 - acc: 0.9879 - val_loss: 0.0778 - val_acc: 0.9805\n",
      "Epoch 77/200\n",
      "48000/48000 [==============================] - 2s - loss: 0.0322 - acc: 0.9890 - val_loss: 0.0787 - val_acc: 0.9803\n",
      "Epoch 78/200\n",
      "48000/48000 [==============================] - 2s - loss: 0.0320 - acc: 0.9889 - val_loss: 0.0792 - val_acc: 0.9803\n",
      "Epoch 79/200\n",
      "48000/48000 [==============================] - 2s - loss: 0.0338 - acc: 0.9885 - val_loss: 0.0777 - val_acc: 0.9802\n",
      "Epoch 80/200\n",
      "48000/48000 [==============================] - 2s - loss: 0.0379 - acc: 0.9874 - val_loss: 0.0799 - val_acc: 0.9816\n",
      "Epoch 81/200\n",
      "48000/48000 [==============================] - 2s - loss: 0.0349 - acc: 0.9884 - val_loss: 0.0789 - val_acc: 0.9807\n",
      "Epoch 82/200\n",
      "48000/48000 [==============================] - 2s - loss: 0.0342 - acc: 0.9887 - val_loss: 0.0791 - val_acc: 0.9800\n",
      "Epoch 83/200\n",
      "48000/48000 [==============================] - 2s - loss: 0.0317 - acc: 0.9893 - val_loss: 0.0789 - val_acc: 0.9807\n",
      "Epoch 84/200\n",
      "48000/48000 [==============================] - 2s - loss: 0.0330 - acc: 0.9889 - val_loss: 0.0807 - val_acc: 0.9803\n",
      "Epoch 85/200\n",
      "48000/48000 [==============================] - 2s - loss: 0.0315 - acc: 0.9895 - val_loss: 0.0800 - val_acc: 0.9803\n",
      "Epoch 86/200\n",
      "48000/48000 [==============================] - 2s - loss: 0.0322 - acc: 0.9893 - val_loss: 0.0798 - val_acc: 0.9809\n",
      "Epoch 87/200\n",
      "48000/48000 [==============================] - 2s - loss: 0.0339 - acc: 0.9887 - val_loss: 0.0774 - val_acc: 0.9814\n",
      "Epoch 88/200\n",
      "48000/48000 [==============================] - 2s - loss: 0.0326 - acc: 0.9891 - val_loss: 0.0801 - val_acc: 0.9805\n",
      "Epoch 89/200\n",
      "48000/48000 [==============================] - 2s - loss: 0.0312 - acc: 0.9895 - val_loss: 0.0801 - val_acc: 0.9810\n",
      "Epoch 90/200\n",
      "48000/48000 [==============================] - 2s - loss: 0.0290 - acc: 0.9905 - val_loss: 0.0796 - val_acc: 0.9817\n",
      "Epoch 91/200\n",
      "48000/48000 [==============================] - 2s - loss: 0.0332 - acc: 0.9888 - val_loss: 0.0780 - val_acc: 0.9812\n",
      "Epoch 92/200\n",
      "48000/48000 [==============================] - 2s - loss: 0.0312 - acc: 0.9898 - val_loss: 0.0770 - val_acc: 0.9813\n",
      "Epoch 93/200\n",
      "48000/48000 [==============================] - 2s - loss: 0.0282 - acc: 0.9901 - val_loss: 0.0782 - val_acc: 0.9812\n",
      "Epoch 94/200\n",
      "48000/48000 [==============================] - 2s - loss: 0.0303 - acc: 0.9898 - val_loss: 0.0771 - val_acc: 0.9821\n",
      "Epoch 95/200\n",
      "48000/48000 [==============================] - 2s - loss: 0.0293 - acc: 0.9901 - val_loss: 0.0780 - val_acc: 0.9815\n",
      "Epoch 96/200\n",
      "48000/48000 [==============================] - 2s - loss: 0.0307 - acc: 0.9899 - val_loss: 0.0801 - val_acc: 0.9805\n",
      "Epoch 97/200\n",
      "48000/48000 [==============================] - 2s - loss: 0.0288 - acc: 0.9902 - val_loss: 0.0794 - val_acc: 0.9812\n",
      "Epoch 98/200\n",
      "48000/48000 [==============================] - 2s - loss: 0.0300 - acc: 0.9897 - val_loss: 0.0803 - val_acc: 0.9806\n",
      "Epoch 99/200\n",
      "48000/48000 [==============================] - 2s - loss: 0.0278 - acc: 0.9906 - val_loss: 0.0788 - val_acc: 0.9812\n",
      "Epoch 100/200\n",
      "48000/48000 [==============================] - 2s - loss: 0.0304 - acc: 0.9905 - val_loss: 0.0796 - val_acc: 0.9813\n",
      "Epoch 101/200\n",
      "48000/48000 [==============================] - 2s - loss: 0.0287 - acc: 0.9900 - val_loss: 0.0800 - val_acc: 0.9812\n",
      "Epoch 102/200\n",
      "48000/48000 [==============================] - 2s - loss: 0.0283 - acc: 0.9908 - val_loss: 0.0780 - val_acc: 0.9816\n",
      "Epoch 103/200\n",
      "48000/48000 [==============================] - 2s - loss: 0.0276 - acc: 0.9907 - val_loss: 0.0818 - val_acc: 0.9801\n",
      "Epoch 104/200\n",
      "48000/48000 [==============================] - 2s - loss: 0.0275 - acc: 0.9908 - val_loss: 0.0804 - val_acc: 0.9810\n",
      "Epoch 105/200\n",
      "48000/48000 [==============================] - 2s - loss: 0.0272 - acc: 0.9908 - val_loss: 0.0855 - val_acc: 0.9804\n",
      "Epoch 106/200\n",
      "48000/48000 [==============================] - 2s - loss: 0.0272 - acc: 0.9909 - val_loss: 0.0820 - val_acc: 0.9796\n",
      "Epoch 107/200\n",
      "48000/48000 [==============================] - 2s - loss: 0.0276 - acc: 0.9907 - val_loss: 0.0822 - val_acc: 0.9803\n",
      "Epoch 108/200\n",
      "48000/48000 [==============================] - 2s - loss: 0.0280 - acc: 0.9905 - val_loss: 0.0830 - val_acc: 0.9803\n",
      "Epoch 109/200\n",
      "48000/48000 [==============================] - 2s - loss: 0.0254 - acc: 0.9919 - val_loss: 0.0830 - val_acc: 0.9804\n",
      "Epoch 110/200\n",
      "48000/48000 [==============================] - 2s - loss: 0.0255 - acc: 0.9916 - val_loss: 0.0806 - val_acc: 0.9813\n",
      "Epoch 111/200\n",
      "48000/48000 [==============================] - 2s - loss: 0.0267 - acc: 0.9912 - val_loss: 0.0799 - val_acc: 0.9813\n",
      "Epoch 112/200\n",
      "48000/48000 [==============================] - 2s - loss: 0.0261 - acc: 0.9912 - val_loss: 0.0808 - val_acc: 0.9805\n",
      "Epoch 113/200\n",
      "48000/48000 [==============================] - 2s - loss: 0.0265 - acc: 0.9913 - val_loss: 0.0834 - val_acc: 0.9801\n",
      "Epoch 114/200\n",
      "48000/48000 [==============================] - 2s - loss: 0.0253 - acc: 0.9918 - val_loss: 0.0810 - val_acc: 0.9807\n",
      "Epoch 115/200\n",
      "48000/48000 [==============================] - 2s - loss: 0.0256 - acc: 0.9914 - val_loss: 0.0838 - val_acc: 0.9801\n",
      "Epoch 116/200\n",
      "48000/48000 [==============================] - 2s - loss: 0.0269 - acc: 0.9908 - val_loss: 0.0804 - val_acc: 0.9816\n",
      "Epoch 117/200\n",
      "48000/48000 [==============================] - 2s - loss: 0.0266 - acc: 0.9911 - val_loss: 0.0791 - val_acc: 0.9813\n",
      "Epoch 118/200\n",
      "48000/48000 [==============================] - 2s - loss: 0.0260 - acc: 0.9914 - val_loss: 0.0819 - val_acc: 0.9808\n",
      "Epoch 119/200\n",
      "48000/48000 [==============================] - 2s - loss: 0.0249 - acc: 0.9915 - val_loss: 0.0818 - val_acc: 0.9815\n",
      "Epoch 120/200\n",
      "48000/48000 [==============================] - 2s - loss: 0.0251 - acc: 0.9916 - val_loss: 0.0811 - val_acc: 0.9816\n",
      "Epoch 121/200\n",
      "48000/48000 [==============================] - 2s - loss: 0.0233 - acc: 0.9925 - val_loss: 0.0804 - val_acc: 0.9808\n",
      "Epoch 122/200\n",
      "48000/48000 [==============================] - 2s - loss: 0.0228 - acc: 0.9926 - val_loss: 0.0826 - val_acc: 0.9818\n",
      "Epoch 123/200\n",
      "48000/48000 [==============================] - 2s - loss: 0.0248 - acc: 0.9915 - val_loss: 0.0815 - val_acc: 0.9816\n",
      "Epoch 124/200\n",
      "48000/48000 [==============================] - 2s - loss: 0.0249 - acc: 0.9917 - val_loss: 0.0840 - val_acc: 0.9812\n",
      "Epoch 125/200\n",
      "48000/48000 [==============================] - 2s - loss: 0.0234 - acc: 0.9923 - val_loss: 0.0843 - val_acc: 0.9815\n",
      "Epoch 126/200\n",
      "48000/48000 [==============================] - 2s - loss: 0.0244 - acc: 0.9918 - val_loss: 0.0836 - val_acc: 0.9813\n",
      "Epoch 127/200\n",
      "48000/48000 [==============================] - 2s - loss: 0.0245 - acc: 0.9919 - val_loss: 0.0860 - val_acc: 0.9802\n",
      "Epoch 128/200\n",
      "48000/48000 [==============================] - 2s - loss: 0.0266 - acc: 0.9911 - val_loss: 0.0840 - val_acc: 0.9808\n",
      "Epoch 129/200\n",
      "48000/48000 [==============================] - 2s - loss: 0.0242 - acc: 0.9918 - val_loss: 0.0837 - val_acc: 0.9808\n",
      "Epoch 130/200\n",
      "48000/48000 [==============================] - 2s - loss: 0.0259 - acc: 0.9913 - val_loss: 0.0839 - val_acc: 0.9802\n",
      "Epoch 131/200\n",
      "48000/48000 [==============================] - 2s - loss: 0.0232 - acc: 0.9920 - val_loss: 0.0842 - val_acc: 0.9800\n",
      "Epoch 132/200\n",
      "48000/48000 [==============================] - 2s - loss: 0.0238 - acc: 0.9919 - val_loss: 0.0832 - val_acc: 0.9806\n",
      "Epoch 133/200\n",
      "48000/48000 [==============================] - 2s - loss: 0.0252 - acc: 0.9919 - val_loss: 0.0798 - val_acc: 0.9808\n",
      "Epoch 134/200\n",
      "48000/48000 [==============================] - 2s - loss: 0.0237 - acc: 0.9920 - val_loss: 0.0854 - val_acc: 0.9802\n",
      "Epoch 135/200\n",
      "48000/48000 [==============================] - 2s - loss: 0.0229 - acc: 0.9924 - val_loss: 0.0840 - val_acc: 0.9808\n",
      "Epoch 136/200\n",
      "48000/48000 [==============================] - 2s - loss: 0.0224 - acc: 0.9925 - val_loss: 0.0828 - val_acc: 0.9811\n",
      "Epoch 137/200\n",
      "48000/48000 [==============================] - 2s - loss: 0.0227 - acc: 0.9919 - val_loss: 0.0817 - val_acc: 0.9815\n",
      "Epoch 138/200\n",
      "48000/48000 [==============================] - 2s - loss: 0.0221 - acc: 0.9925 - val_loss: 0.0841 - val_acc: 0.9813\n",
      "Epoch 139/200\n",
      "48000/48000 [==============================] - 2s - loss: 0.0219 - acc: 0.9925 - val_loss: 0.0867 - val_acc: 0.9809\n",
      "Epoch 140/200\n",
      "48000/48000 [==============================] - 2s - loss: 0.0206 - acc: 0.9932 - val_loss: 0.0849 - val_acc: 0.9809\n",
      "Epoch 141/200\n",
      "48000/48000 [==============================] - 2s - loss: 0.0225 - acc: 0.9926 - val_loss: 0.0842 - val_acc: 0.9819\n",
      "Epoch 142/200\n",
      "48000/48000 [==============================] - 2s - loss: 0.0226 - acc: 0.9923 - val_loss: 0.0828 - val_acc: 0.9817\n",
      "Epoch 143/200\n",
      "48000/48000 [==============================] - 2s - loss: 0.0222 - acc: 0.9923 - val_loss: 0.0826 - val_acc: 0.9814\n",
      "Epoch 144/200\n",
      "48000/48000 [==============================] - 2s - loss: 0.0224 - acc: 0.9924 - val_loss: 0.0838 - val_acc: 0.9816\n",
      "Epoch 145/200\n",
      "48000/48000 [==============================] - 2s - loss: 0.0222 - acc: 0.9923 - val_loss: 0.0842 - val_acc: 0.9808\n",
      "Epoch 146/200\n",
      "48000/48000 [==============================] - 2s - loss: 0.0213 - acc: 0.9930 - val_loss: 0.0855 - val_acc: 0.9811\n",
      "Epoch 147/200\n",
      "48000/48000 [==============================] - 2s - loss: 0.0218 - acc: 0.9928 - val_loss: 0.0852 - val_acc: 0.9812\n",
      "Epoch 148/200\n",
      "48000/48000 [==============================] - 2s - loss: 0.0206 - acc: 0.9930 - val_loss: 0.0844 - val_acc: 0.9822\n",
      "Epoch 149/200\n",
      "48000/48000 [==============================] - 2s - loss: 0.0220 - acc: 0.9924 - val_loss: 0.0856 - val_acc: 0.9809\n",
      "Epoch 150/200\n",
      "48000/48000 [==============================] - 2s - loss: 0.0207 - acc: 0.9928 - val_loss: 0.0884 - val_acc: 0.9809\n",
      "Epoch 151/200\n",
      "48000/48000 [==============================] - 2s - loss: 0.0218 - acc: 0.9926 - val_loss: 0.0856 - val_acc: 0.9813\n",
      "Epoch 152/200\n",
      "48000/48000 [==============================] - 2s - loss: 0.0210 - acc: 0.9933 - val_loss: 0.0856 - val_acc: 0.9806\n",
      "Epoch 153/200\n",
      "48000/48000 [==============================] - 2s - loss: 0.0206 - acc: 0.9931 - val_loss: 0.0859 - val_acc: 0.9817\n",
      "Epoch 154/200\n",
      "48000/48000 [==============================] - 2s - loss: 0.0217 - acc: 0.9926 - val_loss: 0.0895 - val_acc: 0.9798\n",
      "Epoch 155/200\n",
      "48000/48000 [==============================] - 2s - loss: 0.0202 - acc: 0.9931 - val_loss: 0.0880 - val_acc: 0.9811\n",
      "Epoch 156/200\n",
      "48000/48000 [==============================] - 2s - loss: 0.0211 - acc: 0.9931 - val_loss: 0.0838 - val_acc: 0.9819\n",
      "Epoch 157/200\n",
      "48000/48000 [==============================] - 2s - loss: 0.0225 - acc: 0.9926 - val_loss: 0.0861 - val_acc: 0.9816\n",
      "Epoch 158/200\n",
      "48000/48000 [==============================] - 2s - loss: 0.0212 - acc: 0.9927 - val_loss: 0.0853 - val_acc: 0.9808\n",
      "Epoch 159/200\n",
      "48000/48000 [==============================] - 2s - loss: 0.0210 - acc: 0.9931 - val_loss: 0.0867 - val_acc: 0.9795\n",
      "Epoch 160/200\n",
      "48000/48000 [==============================] - 2s - loss: 0.0203 - acc: 0.9933 - val_loss: 0.0856 - val_acc: 0.9811\n",
      "Epoch 161/200\n",
      "48000/48000 [==============================] - 2s - loss: 0.0200 - acc: 0.9931 - val_loss: 0.0893 - val_acc: 0.9809\n",
      "Epoch 162/200\n",
      "48000/48000 [==============================] - 2s - loss: 0.0199 - acc: 0.9929 - val_loss: 0.0850 - val_acc: 0.9807\n",
      "Epoch 163/200\n",
      "48000/48000 [==============================] - 2s - loss: 0.0202 - acc: 0.9935 - val_loss: 0.0856 - val_acc: 0.9812\n",
      "Epoch 164/200\n",
      "48000/48000 [==============================] - 2s - loss: 0.0202 - acc: 0.9931 - val_loss: 0.0874 - val_acc: 0.9813\n",
      "Epoch 165/200\n",
      "48000/48000 [==============================] - 2s - loss: 0.0187 - acc: 0.9933 - val_loss: 0.0869 - val_acc: 0.9808\n",
      "Epoch 166/200\n",
      "48000/48000 [==============================] - 2s - loss: 0.0202 - acc: 0.9936 - val_loss: 0.0910 - val_acc: 0.9810\n",
      "Epoch 167/200\n",
      "48000/48000 [==============================] - 2s - loss: 0.0205 - acc: 0.9930 - val_loss: 0.0867 - val_acc: 0.9808\n",
      "Epoch 168/200\n",
      "48000/48000 [==============================] - 2s - loss: 0.0183 - acc: 0.9940 - val_loss: 0.0878 - val_acc: 0.9812\n",
      "Epoch 169/200\n",
      "48000/48000 [==============================] - 2s - loss: 0.0200 - acc: 0.9935 - val_loss: 0.0852 - val_acc: 0.9813\n",
      "Epoch 170/200\n",
      "48000/48000 [==============================] - 2s - loss: 0.0186 - acc: 0.9940 - val_loss: 0.0865 - val_acc: 0.9809\n",
      "Epoch 171/200\n",
      "48000/48000 [==============================] - 2s - loss: 0.0190 - acc: 0.9933 - val_loss: 0.0860 - val_acc: 0.9812\n",
      "Epoch 172/200\n",
      "48000/48000 [==============================] - 2s - loss: 0.0209 - acc: 0.9932 - val_loss: 0.0845 - val_acc: 0.9816\n",
      "Epoch 173/200\n",
      "48000/48000 [==============================] - 2s - loss: 0.0204 - acc: 0.9933 - val_loss: 0.0852 - val_acc: 0.9806\n",
      "Epoch 174/200\n",
      "48000/48000 [==============================] - 2s - loss: 0.0199 - acc: 0.9932 - val_loss: 0.0852 - val_acc: 0.9811\n",
      "Epoch 175/200\n",
      "48000/48000 [==============================] - 2s - loss: 0.0191 - acc: 0.9935 - val_loss: 0.0857 - val_acc: 0.9815\n",
      "Epoch 176/200\n",
      "48000/48000 [==============================] - 2s - loss: 0.0210 - acc: 0.9929 - val_loss: 0.0863 - val_acc: 0.9802\n",
      "Epoch 177/200\n",
      "48000/48000 [==============================] - 2s - loss: 0.0196 - acc: 0.9935 - val_loss: 0.0882 - val_acc: 0.9814\n",
      "Epoch 178/200\n",
      "48000/48000 [==============================] - 2s - loss: 0.0188 - acc: 0.9939 - val_loss: 0.0856 - val_acc: 0.9817\n",
      "Epoch 179/200\n",
      "48000/48000 [==============================] - 2s - loss: 0.0207 - acc: 0.9933 - val_loss: 0.0862 - val_acc: 0.9813\n",
      "Epoch 180/200\n",
      "48000/48000 [==============================] - 2s - loss: 0.0177 - acc: 0.9944 - val_loss: 0.0882 - val_acc: 0.9807\n",
      "Epoch 181/200\n",
      "48000/48000 [==============================] - 2s - loss: 0.0184 - acc: 0.9938 - val_loss: 0.0876 - val_acc: 0.9806\n",
      "Epoch 182/200\n",
      "48000/48000 [==============================] - 2s - loss: 0.0186 - acc: 0.9937 - val_loss: 0.0884 - val_acc: 0.9808\n",
      "Epoch 183/200\n",
      "48000/48000 [==============================] - 2s - loss: 0.0190 - acc: 0.9934 - val_loss: 0.0880 - val_acc: 0.9813\n",
      "Epoch 184/200\n",
      "48000/48000 [==============================] - 2s - loss: 0.0186 - acc: 0.9936 - val_loss: 0.0870 - val_acc: 0.9820\n",
      "Epoch 185/200\n",
      "48000/48000 [==============================] - 2s - loss: 0.0181 - acc: 0.9940 - val_loss: 0.0886 - val_acc: 0.9813\n",
      "Epoch 186/200\n",
      "48000/48000 [==============================] - 2s - loss: 0.0185 - acc: 0.9935 - val_loss: 0.0869 - val_acc: 0.9813\n",
      "Epoch 187/200\n",
      "48000/48000 [==============================] - 2s - loss: 0.0175 - acc: 0.9942 - val_loss: 0.0888 - val_acc: 0.9807\n",
      "Epoch 188/200\n",
      "48000/48000 [==============================] - 2s - loss: 0.0187 - acc: 0.9935 - val_loss: 0.0869 - val_acc: 0.9815\n",
      "Epoch 189/200\n",
      "48000/48000 [==============================] - 2s - loss: 0.0182 - acc: 0.9942 - val_loss: 0.0887 - val_acc: 0.9818\n",
      "Epoch 190/200\n",
      "48000/48000 [==============================] - 2s - loss: 0.0162 - acc: 0.9945 - val_loss: 0.0888 - val_acc: 0.9810\n",
      "Epoch 191/200\n",
      "48000/48000 [==============================] - 2s - loss: 0.0181 - acc: 0.9935 - val_loss: 0.0896 - val_acc: 0.9820\n",
      "Epoch 192/200\n",
      "48000/48000 [==============================] - 2s - loss: 0.0164 - acc: 0.9943 - val_loss: 0.0874 - val_acc: 0.9816\n",
      "Epoch 193/200\n",
      "48000/48000 [==============================] - 2s - loss: 0.0179 - acc: 0.9940 - val_loss: 0.0870 - val_acc: 0.9822\n",
      "Epoch 194/200\n",
      "48000/48000 [==============================] - 2s - loss: 0.0189 - acc: 0.9940 - val_loss: 0.0901 - val_acc: 0.9815\n",
      "Epoch 195/200\n",
      "48000/48000 [==============================] - 2s - loss: 0.0167 - acc: 0.9944 - val_loss: 0.0899 - val_acc: 0.9816\n",
      "Epoch 196/200\n",
      "48000/48000 [==============================] - 2s - loss: 0.0181 - acc: 0.9935 - val_loss: 0.0876 - val_acc: 0.9819\n",
      "Epoch 197/200\n",
      "48000/48000 [==============================] - 2s - loss: 0.0183 - acc: 0.9936 - val_loss: 0.0903 - val_acc: 0.9823\n",
      "Epoch 198/200\n",
      "48000/48000 [==============================] - 2s - loss: 0.0182 - acc: 0.9937 - val_loss: 0.0880 - val_acc: 0.9808\n",
      "Epoch 199/200\n",
      "48000/48000 [==============================] - 2s - loss: 0.0165 - acc: 0.9945 - val_loss: 0.0909 - val_acc: 0.9823\n",
      "Epoch 200/200\n",
      "48000/48000 [==============================] - 2s - loss: 0.0174 - acc: 0.9940 - val_loss: 0.0882 - val_acc: 0.9808\n"
     ]
    }
   ],
   "source": [
    "time_start = time.clock()\n",
    "history = model.fit(X_train, y_train,\n",
    "                    batch_size=128,\n",
    "                    epochs=200,\n",
    "                    verbose=1,\n",
    "                    validation_split=0.2)\n",
    "time_end = time.clock()"
   ]
  },
  {
   "cell_type": "code",
   "execution_count": 10,
   "metadata": {
    "collapsed": true
   },
   "outputs": [],
   "source": [
    "time_end = time.clock()"
   ]
  },
  {
   "cell_type": "code",
   "execution_count": 11,
   "metadata": {
    "collapsed": false
   },
   "outputs": [
    {
     "name": "stdout",
     "output_type": "stream",
     "text": [
      "Time to train\n",
      "Time elapsed in seconds : 430\n",
      "Time elapsed in minutes : 7.2\n",
      "Time elapsed in hours   : 0.1\n"
     ]
    }
   ],
   "source": [
    "duration = time_end - time_start\n",
    "print(\"Time to train\")\n",
    "print(\"Time elapsed in seconds : %.0f\" % duration)\n",
    "print(\"Time elapsed in minutes : %.1f\" % (duration/60))\n",
    "print(\"Time elapsed in hours   : %.1f\" % (duration/3600))"
   ]
  },
  {
   "cell_type": "code",
   "execution_count": 12,
   "metadata": {
    "collapsed": false
   },
   "outputs": [
    {
     "name": "stdout",
     "output_type": "stream",
     "text": [
      " 8352/10000 [========================>.....] - ETA: 0s\n",
      "Test score: 0.0971193073068\n",
      "Test accuracy: 0.9791\n"
     ]
    }
   ],
   "source": [
    "score = model.evaluate(X_test, y_test,\n",
    "                       verbose=1)\n",
    "print(\"\")\n",
    "print(\"Test score:\", score[0])\n",
    "print(\"Test accuracy:\", score[1])"
   ]
  },
  {
   "cell_type": "code",
   "execution_count": 13,
   "metadata": {
    "collapsed": false
   },
   "outputs": [
    {
     "name": "stdout",
     "output_type": "stream",
     "text": [
      "dict_keys(['val_loss', 'loss', 'acc', 'val_acc'])\n"
     ]
    }
   ],
   "source": [
    "# list all data in history\n",
    "print(history.history.keys())"
   ]
  },
  {
   "cell_type": "code",
   "execution_count": 14,
   "metadata": {
    "collapsed": false
   },
   "outputs": [
    {
     "data": {
      "image/png": "[encoded data removed]",
      "text/plain": [
       "<matplotlib.figure.Figure at 0x2511a1ae630>"
      ]
     },
     "metadata": {},
     "output_type": "display_data"
    }
   ],
   "source": [
    "# Accuracy\n",
    "plt.plot(history.history[\"acc\"])\n",
    "plt.plot(history.history[\"val_acc\"])\n",
    "plt.title(\"model accuracy\")\n",
    "plt.ylabel(\"accuracy\")\n",
    "plt.xlabel(\"epoch\")\n",
    "plt.legend([\"train\", \"test\"], loc=\"lower left\")\n",
    "plt.show()"
   ]
  },
  {
   "cell_type": "code",
   "execution_count": 15,
   "metadata": {
    "collapsed": false
   },
   "outputs": [
    {
     "data": {
      "image/png": "[encoded data removed]",
      "text/plain": [
       "<matplotlib.figure.Figure at 0x2511a371550>"
      ]
     },
     "metadata": {},
     "output_type": "display_data"
    }
   ],
   "source": [
    "# Loss\n",
    "plt.plot(history.history[\"loss\"])\n",
    "plt.plot(history.history[\"val_loss\"])\n",
    "plt.title(\"model loss\")\n",
    "plt.ylabel(\"loss\")\n",
    "plt.xlabel(\"epoch\")\n",
    "plt.legend([\"train\", \"test\"], loc=\"upper left\")\n",
    "plt.show()"
   ]
  }
 ],
 "metadata": {
  "anaconda-cloud": {},
  "kernelspec": {
   "display_name": "Python [default]",
   "language": "python",
   "name": "python3"
  },
  "language_info": {
   "codemirror_mode": {
    "name": "ipython",
    "version": 3
   },
   "file_extension": ".py",
   "mimetype": "text/x-python",
   "name": "python",
   "nbconvert_exporter": "python",
   "pygments_lexer": "ipython3",
   "version": "3.5.2"
  }
 },
 "nbformat": 4,
 "nbformat_minor": 1
}
