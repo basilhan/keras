{
 "cells": [
  {
   "cell_type": "code",
   "execution_count": 1,
   "metadata": {
    "collapsed": false
   },
   "outputs": [
    {
     "name": "stderr",
     "output_type": "stream",
     "text": [
      "Using TensorFlow backend.\n"
     ]
    }
   ],
   "source": [
    "import numpy as np\n",
    "import matplotlib.pyplot as plt\n",
    "import time\n",
    "from keras.datasets import mnist\n",
    "from keras.models import Sequential\n",
    "from keras.layers.core import Dense, Dropout, Activation\n",
    "from keras.layers.normalization import BatchNormalization\n",
    "from keras.optimizers import SGD, Adam, Adamax, RMSprop, Adagrad, Adadelta, Nadam\n",
    "from keras.utils import np_utils\n",
    "from tensorflow import set_random_seed"
   ]
  },
  {
   "cell_type": "code",
   "execution_count": 2,
   "metadata": {
    "collapsed": false
   },
   "outputs": [],
   "source": [
    "np.random.seed(2015)\n",
    "set_random_seed(2015)"
   ]
  },
  {
   "cell_type": "code",
   "execution_count": 3,
   "metadata": {
    "collapsed": false
   },
   "outputs": [],
   "source": [
    "# Load data\n",
    "(X_train, y_train), (X_test, y_test) = mnist.load_data()"
   ]
  },
  {
   "cell_type": "code",
   "execution_count": 4,
   "metadata": {
    "collapsed": false
   },
   "outputs": [
    {
     "name": "stdout",
     "output_type": "stream",
     "text": [
      "60000 training samples\n",
      "10000 testing samples\n"
     ]
    }
   ],
   "source": [
    "# Preprocessing\n",
    "X_train = X_train.reshape(60000, 784)\n",
    "X_test  = X_test.reshape(10000, 784)\n",
    "X_train = X_train.astype(\"float32\")\n",
    "X_test  = X_test.astype(\"float32\")\n",
    "X_train /= 255\n",
    "X_test  /= 255\n",
    "print(X_train.shape[0], \"training samples\")\n",
    "print(X_test.shape[0], \"testing samples\")"
   ]
  },
  {
   "cell_type": "code",
   "execution_count": 5,
   "metadata": {
    "collapsed": true
   },
   "outputs": [],
   "source": [
    "# Convert labels to one-hot encoding\n",
    "# e.g. 1 -> array([ 0.,  1.,  0.,  0.,  0.,  0.,  0.,  0.,  0.,  0.])\n",
    "y_train = np_utils.to_categorical(y_train, 10)\n",
    "y_test = np_utils.to_categorical(y_test, 10)"
   ]
  },
  {
   "cell_type": "markdown",
   "metadata": {},
   "source": [
    "The argument *input_dim* is equivalent to *input_shape* ([reference](https://keras.io/getting-started/sequential-model-guide/))."
   ]
  },
  {
   "cell_type": "code",
   "execution_count": 6,
   "metadata": {
    "collapsed": false
   },
   "outputs": [],
   "source": [
    "# Define the model\n",
    "model = Sequential([\n",
    "        Dense(128, input_dim=784), Activation(\"relu\"), Dropout(0.25),\n",
    "        Dense(128), Activation(\"relu\"), Dropout(0.25),\n",
    "        Dense(10), Activation(\"softmax\")\n",
    "    ])"
   ]
  },
  {
   "cell_type": "code",
   "execution_count": 7,
   "metadata": {
    "collapsed": false
   },
   "outputs": [
    {
     "name": "stdout",
     "output_type": "stream",
     "text": [
      "_________________________________________________________________\n",
      "Layer (type)                 Output Shape              Param #   \n",
      "=================================================================\n",
      "dense_1 (Dense)              (None, 128)               100480    \n",
      "_________________________________________________________________\n",
      "activation_1 (Activation)    (None, 128)               0         \n",
      "_________________________________________________________________\n",
      "dropout_1 (Dropout)          (None, 128)               0         \n",
      "_________________________________________________________________\n",
      "dense_2 (Dense)              (None, 128)               16512     \n",
      "_________________________________________________________________\n",
      "activation_2 (Activation)    (None, 128)               0         \n",
      "_________________________________________________________________\n",
      "dropout_2 (Dropout)          (None, 128)               0         \n",
      "_________________________________________________________________\n",
      "dense_3 (Dense)              (None, 10)                1290      \n",
      "_________________________________________________________________\n",
      "activation_3 (Activation)    (None, 10)                0         \n",
      "=================================================================\n",
      "Total params: 118,282\n",
      "Trainable params: 118,282\n",
      "Non-trainable params: 0\n",
      "_________________________________________________________________\n"
     ]
    }
   ],
   "source": [
    "model.summary()"
   ]
  },
  {
   "cell_type": "code",
   "execution_count": 8,
   "metadata": {
    "collapsed": false
   },
   "outputs": [],
   "source": [
    "model.compile(loss=\"categorical_crossentropy\",\n",
    "              optimizer=SGD(),\n",
    "              metrics=[\"accuracy\"])"
   ]
  },
  {
   "cell_type": "code",
   "execution_count": 9,
   "metadata": {
    "collapsed": false
   },
   "outputs": [
    {
     "name": "stdout",
     "output_type": "stream",
     "text": [
      "Train on 48000 samples, validate on 12000 samples\n",
      "Epoch 1/200\n",
      "48000/48000 [==============================] - 2s - loss: 1.6888 - acc: 0.4707 - val_loss: 0.8965 - val_acc: 0.8244\n",
      "Epoch 2/200\n",
      "48000/48000 [==============================] - 2s - loss: 0.8675 - acc: 0.7378 - val_loss: 0.5156 - val_acc: 0.8729\n",
      "Epoch 3/200\n",
      "48000/48000 [==============================] - 2s - loss: 0.6496 - acc: 0.8028 - val_loss: 0.4129 - val_acc: 0.8896\n",
      "Epoch 4/200\n",
      "48000/48000 [==============================] - 2s - loss: 0.5587 - acc: 0.8321 - val_loss: 0.3632 - val_acc: 0.8980\n",
      "Epoch 5/200\n",
      "48000/48000 [==============================] - 2s - loss: 0.4974 - acc: 0.8512 - val_loss: 0.3325 - val_acc: 0.9071\n",
      "Epoch 6/200\n",
      "48000/48000 [==============================] - 2s - loss: 0.4602 - acc: 0.8629 - val_loss: 0.3099 - val_acc: 0.9120\n",
      "Epoch 7/200\n",
      "48000/48000 [==============================] - 2s - loss: 0.4312 - acc: 0.8719 - val_loss: 0.2933 - val_acc: 0.9153\n",
      "Epoch 8/200\n",
      "48000/48000 [==============================] - 2s - loss: 0.4049 - acc: 0.8819 - val_loss: 0.2783 - val_acc: 0.9191\n",
      "Epoch 9/200\n",
      "48000/48000 [==============================] - 2s - loss: 0.3878 - acc: 0.8849 - val_loss: 0.2668 - val_acc: 0.9229\n",
      "Epoch 10/200\n",
      "48000/48000 [==============================] - 2s - loss: 0.3713 - acc: 0.8905 - val_loss: 0.2573 - val_acc: 0.9260\n",
      "Epoch 11/200\n",
      "48000/48000 [==============================] - 2s - loss: 0.3559 - acc: 0.8952 - val_loss: 0.2474 - val_acc: 0.9287\n",
      "Epoch 12/200\n",
      "48000/48000 [==============================] - 2s - loss: 0.3442 - acc: 0.8982 - val_loss: 0.2380 - val_acc: 0.9306\n",
      "Epoch 13/200\n",
      "48000/48000 [==============================] - 2s - loss: 0.3297 - acc: 0.9036 - val_loss: 0.2297 - val_acc: 0.9336\n",
      "Epoch 14/200\n",
      "48000/48000 [==============================] - 2s - loss: 0.3198 - acc: 0.9062 - val_loss: 0.2237 - val_acc: 0.9357\n",
      "Epoch 15/200\n",
      "48000/48000 [==============================] - 2s - loss: 0.3098 - acc: 0.9087 - val_loss: 0.2162 - val_acc: 0.9374\n",
      "Epoch 16/200\n",
      "48000/48000 [==============================] - 2s - loss: 0.3002 - acc: 0.9126 - val_loss: 0.2109 - val_acc: 0.9377\n",
      "Epoch 17/200\n",
      "48000/48000 [==============================] - 2s - loss: 0.2913 - acc: 0.9130 - val_loss: 0.2045 - val_acc: 0.9412\n",
      "Epoch 18/200\n",
      "48000/48000 [==============================] - 2s - loss: 0.2814 - acc: 0.9183 - val_loss: 0.1993 - val_acc: 0.9419\n",
      "Epoch 19/200\n",
      "48000/48000 [==============================] - 2s - loss: 0.2785 - acc: 0.9187 - val_loss: 0.1946 - val_acc: 0.9440\n",
      "Epoch 20/200\n",
      "48000/48000 [==============================] - 2s - loss: 0.2697 - acc: 0.9214 - val_loss: 0.1907 - val_acc: 0.9448\n",
      "Epoch 21/200\n",
      "48000/48000 [==============================] - 2s - loss: 0.2632 - acc: 0.9222 - val_loss: 0.1859 - val_acc: 0.9462\n",
      "Epoch 22/200\n",
      "48000/48000 [==============================] - 2s - loss: 0.2572 - acc: 0.9236 - val_loss: 0.1827 - val_acc: 0.9465\n",
      "Epoch 23/200\n",
      "48000/48000 [==============================] - 2s - loss: 0.2502 - acc: 0.9249 - val_loss: 0.1786 - val_acc: 0.9487\n",
      "Epoch 24/200\n",
      "48000/48000 [==============================] - 2s - loss: 0.2476 - acc: 0.9276 - val_loss: 0.1746 - val_acc: 0.9503\n",
      "Epoch 25/200\n",
      "48000/48000 [==============================] - 2s - loss: 0.2406 - acc: 0.9296 - val_loss: 0.1716 - val_acc: 0.9510\n",
      "Epoch 26/200\n",
      "48000/48000 [==============================] - 2s - loss: 0.2388 - acc: 0.9312 - val_loss: 0.1687 - val_acc: 0.9503\n",
      "Epoch 27/200\n",
      "48000/48000 [==============================] - 2s - loss: 0.2290 - acc: 0.9324 - val_loss: 0.1651 - val_acc: 0.9522\n",
      "Epoch 28/200\n",
      "48000/48000 [==============================] - 2s - loss: 0.2270 - acc: 0.9338 - val_loss: 0.1626 - val_acc: 0.9527\n",
      "Epoch 29/200\n",
      "48000/48000 [==============================] - 2s - loss: 0.2268 - acc: 0.9340 - val_loss: 0.1601 - val_acc: 0.9537\n",
      "Epoch 30/200\n",
      "48000/48000 [==============================] - 2s - loss: 0.2205 - acc: 0.9360 - val_loss: 0.1575 - val_acc: 0.9537\n",
      "Epoch 31/200\n",
      "48000/48000 [==============================] - 2s - loss: 0.2146 - acc: 0.9366 - val_loss: 0.1550 - val_acc: 0.9547\n",
      "Epoch 32/200\n",
      "48000/48000 [==============================] - 2s - loss: 0.2111 - acc: 0.9369 - val_loss: 0.1528 - val_acc: 0.9556\n",
      "Epoch 33/200\n",
      "48000/48000 [==============================] - 2s - loss: 0.2095 - acc: 0.9387 - val_loss: 0.1501 - val_acc: 0.9563\n",
      "Epoch 34/200\n",
      "48000/48000 [==============================] - 2s - loss: 0.2020 - acc: 0.9403 - val_loss: 0.1477 - val_acc: 0.9573\n",
      "Epoch 35/200\n",
      "48000/48000 [==============================] - 2s - loss: 0.2007 - acc: 0.9395 - val_loss: 0.1466 - val_acc: 0.9573\n",
      "Epoch 36/200\n",
      "48000/48000 [==============================] - 2s - loss: 0.1984 - acc: 0.9420 - val_loss: 0.1443 - val_acc: 0.9576\n",
      "Epoch 37/200\n",
      "48000/48000 [==============================] - 2s - loss: 0.1979 - acc: 0.9407 - val_loss: 0.1429 - val_acc: 0.9587\n",
      "Epoch 38/200\n",
      "48000/48000 [==============================] - 2s - loss: 0.1928 - acc: 0.9426 - val_loss: 0.1411 - val_acc: 0.9583\n",
      "Epoch 39/200\n",
      "48000/48000 [==============================] - 2s - loss: 0.1886 - acc: 0.9442 - val_loss: 0.1395 - val_acc: 0.9599\n",
      "Epoch 40/200\n",
      "48000/48000 [==============================] - 2s - loss: 0.1890 - acc: 0.9448 - val_loss: 0.1371 - val_acc: 0.9605\n",
      "Epoch 41/200\n",
      "48000/48000 [==============================] - 2s - loss: 0.1847 - acc: 0.9441 - val_loss: 0.1360 - val_acc: 0.9607\n",
      "Epoch 42/200\n",
      "48000/48000 [==============================] - 2s - loss: 0.1837 - acc: 0.9456 - val_loss: 0.1340 - val_acc: 0.9613\n",
      "Epoch 43/200\n",
      "48000/48000 [==============================] - 2s - loss: 0.1809 - acc: 0.9448 - val_loss: 0.1318 - val_acc: 0.9613\n",
      "Epoch 44/200\n",
      "48000/48000 [==============================] - 2s - loss: 0.1791 - acc: 0.9478 - val_loss: 0.1314 - val_acc: 0.9621\n",
      "Epoch 45/200\n",
      "48000/48000 [==============================] - 2s - loss: 0.1753 - acc: 0.9479 - val_loss: 0.1297 - val_acc: 0.9617\n",
      "Epoch 46/200\n",
      "48000/48000 [==============================] - 2s - loss: 0.1726 - acc: 0.9489 - val_loss: 0.1283 - val_acc: 0.9620\n",
      "Epoch 47/200\n",
      "48000/48000 [==============================] - 2s - loss: 0.1715 - acc: 0.9499 - val_loss: 0.1277 - val_acc: 0.9621\n",
      "Epoch 48/200\n",
      "48000/48000 [==============================] - 2s - loss: 0.1671 - acc: 0.9512 - val_loss: 0.1266 - val_acc: 0.9628\n",
      "Epoch 49/200\n",
      "48000/48000 [==============================] - 2s - loss: 0.1702 - acc: 0.9498 - val_loss: 0.1250 - val_acc: 0.9626\n",
      "Epoch 50/200\n",
      "48000/48000 [==============================] - 2s - loss: 0.1643 - acc: 0.9519 - val_loss: 0.1235 - val_acc: 0.9647\n",
      "Epoch 51/200\n",
      "48000/48000 [==============================] - 2s - loss: 0.1617 - acc: 0.9515 - val_loss: 0.1225 - val_acc: 0.9639\n",
      "Epoch 52/200\n",
      "48000/48000 [==============================] - 2s - loss: 0.1633 - acc: 0.9523 - val_loss: 0.1213 - val_acc: 0.9643\n",
      "Epoch 53/200\n",
      "48000/48000 [==============================] - 2s - loss: 0.1595 - acc: 0.9528 - val_loss: 0.1204 - val_acc: 0.9643\n",
      "Epoch 54/200\n",
      "48000/48000 [==============================] - 2s - loss: 0.1574 - acc: 0.9538 - val_loss: 0.1194 - val_acc: 0.9646\n",
      "Epoch 55/200\n",
      "48000/48000 [==============================] - 2s - loss: 0.1571 - acc: 0.9532 - val_loss: 0.1177 - val_acc: 0.9651\n",
      "Epoch 56/200\n",
      "48000/48000 [==============================] - 2s - loss: 0.1583 - acc: 0.9534 - val_loss: 0.1169 - val_acc: 0.9654\n",
      "Epoch 57/200\n",
      "48000/48000 [==============================] - 2s - loss: 0.1538 - acc: 0.9544 - val_loss: 0.1164 - val_acc: 0.9656\n",
      "Epoch 58/200\n",
      "48000/48000 [==============================] - 2s - loss: 0.1518 - acc: 0.9556 - val_loss: 0.1161 - val_acc: 0.9651\n",
      "Epoch 59/200\n",
      "48000/48000 [==============================] - 2s - loss: 0.1498 - acc: 0.9563 - val_loss: 0.1146 - val_acc: 0.9658\n",
      "Epoch 60/200\n",
      "48000/48000 [==============================] - 2s - loss: 0.1488 - acc: 0.9553 - val_loss: 0.1135 - val_acc: 0.9668\n",
      "Epoch 61/200\n",
      "48000/48000 [==============================] - 2s - loss: 0.1494 - acc: 0.9560 - val_loss: 0.1133 - val_acc: 0.9666\n",
      "Epoch 62/200\n",
      "48000/48000 [==============================] - 2s - loss: 0.1461 - acc: 0.9575 - val_loss: 0.1127 - val_acc: 0.9670\n",
      "Epoch 63/200\n",
      "48000/48000 [==============================] - 2s - loss: 0.1454 - acc: 0.9567 - val_loss: 0.1118 - val_acc: 0.9669\n",
      "Epoch 64/200\n",
      "48000/48000 [==============================] - 2s - loss: 0.1402 - acc: 0.9585 - val_loss: 0.1113 - val_acc: 0.9668\n",
      "Epoch 65/200\n",
      "48000/48000 [==============================] - 2s - loss: 0.1405 - acc: 0.9583 - val_loss: 0.1103 - val_acc: 0.9671\n",
      "Epoch 66/200\n",
      "48000/48000 [==============================] - 2s - loss: 0.1427 - acc: 0.9567 - val_loss: 0.1098 - val_acc: 0.9675\n",
      "Epoch 67/200\n",
      "48000/48000 [==============================] - 2s - loss: 0.1382 - acc: 0.9592 - val_loss: 0.1084 - val_acc: 0.9677\n",
      "Epoch 68/200\n",
      "48000/48000 [==============================] - 2s - loss: 0.1393 - acc: 0.9583 - val_loss: 0.1077 - val_acc: 0.9678\n",
      "Epoch 69/200\n",
      "48000/48000 [==============================] - 2s - loss: 0.1379 - acc: 0.9592 - val_loss: 0.1071 - val_acc: 0.9687\n",
      "Epoch 70/200\n",
      "48000/48000 [==============================] - 2s - loss: 0.1357 - acc: 0.9599 - val_loss: 0.1065 - val_acc: 0.9695\n",
      "Epoch 71/200\n",
      "48000/48000 [==============================] - 2s - loss: 0.1324 - acc: 0.9602 - val_loss: 0.1064 - val_acc: 0.9688\n",
      "Epoch 72/200\n",
      "48000/48000 [==============================] - 2s - loss: 0.1324 - acc: 0.9612 - val_loss: 0.1057 - val_acc: 0.9687\n",
      "Epoch 73/200\n",
      "48000/48000 [==============================] - 2s - loss: 0.1353 - acc: 0.9590 - val_loss: 0.1051 - val_acc: 0.9686\n",
      "Epoch 74/200\n",
      "48000/48000 [==============================] - 2s - loss: 0.1319 - acc: 0.9600 - val_loss: 0.1047 - val_acc: 0.9692\n",
      "Epoch 75/200\n",
      "48000/48000 [==============================] - 2s - loss: 0.1307 - acc: 0.9607 - val_loss: 0.1042 - val_acc: 0.9693\n",
      "Epoch 76/200\n",
      "48000/48000 [==============================] - 2s - loss: 0.1299 - acc: 0.9608 - val_loss: 0.1039 - val_acc: 0.9698\n",
      "Epoch 77/200\n",
      "48000/48000 [==============================] - 2s - loss: 0.1261 - acc: 0.9616 - val_loss: 0.1037 - val_acc: 0.9700\n",
      "Epoch 78/200\n",
      "48000/48000 [==============================] - 2s - loss: 0.1249 - acc: 0.9631 - val_loss: 0.1020 - val_acc: 0.9694\n",
      "Epoch 79/200\n",
      "48000/48000 [==============================] - 2s - loss: 0.1270 - acc: 0.9625 - val_loss: 0.1016 - val_acc: 0.9697\n",
      "Epoch 80/200\n",
      "48000/48000 [==============================] - 2s - loss: 0.1263 - acc: 0.9624 - val_loss: 0.1010 - val_acc: 0.9700\n",
      "Epoch 81/200\n",
      "48000/48000 [==============================] - 2s - loss: 0.1245 - acc: 0.9635 - val_loss: 0.1008 - val_acc: 0.9695\n",
      "Epoch 82/200\n",
      "48000/48000 [==============================] - 2s - loss: 0.1231 - acc: 0.9633 - val_loss: 0.1002 - val_acc: 0.9700\n",
      "Epoch 83/200\n",
      "48000/48000 [==============================] - 2s - loss: 0.1217 - acc: 0.9637 - val_loss: 0.1000 - val_acc: 0.9703\n",
      "Epoch 84/200\n",
      "48000/48000 [==============================] - 2s - loss: 0.1189 - acc: 0.9654 - val_loss: 0.0995 - val_acc: 0.9706\n",
      "Epoch 85/200\n",
      "48000/48000 [==============================] - 2s - loss: 0.1203 - acc: 0.9645 - val_loss: 0.0991 - val_acc: 0.9699\n",
      "Epoch 86/200\n",
      "48000/48000 [==============================] - 2s - loss: 0.1190 - acc: 0.9638 - val_loss: 0.0984 - val_acc: 0.9703\n",
      "Epoch 87/200\n",
      "48000/48000 [==============================] - 2s - loss: 0.1194 - acc: 0.9637 - val_loss: 0.0983 - val_acc: 0.9705\n",
      "Epoch 88/200\n",
      "48000/48000 [==============================] - 2s - loss: 0.1183 - acc: 0.9647 - val_loss: 0.0976 - val_acc: 0.9704\n",
      "Epoch 89/200\n",
      "48000/48000 [==============================] - 2s - loss: 0.1162 - acc: 0.9659 - val_loss: 0.0975 - val_acc: 0.9707\n",
      "Epoch 90/200\n",
      "48000/48000 [==============================] - 2s - loss: 0.1152 - acc: 0.9661 - val_loss: 0.0971 - val_acc: 0.9709\n",
      "Epoch 91/200\n",
      "48000/48000 [==============================] - 2s - loss: 0.1167 - acc: 0.9655 - val_loss: 0.0968 - val_acc: 0.9706\n",
      "Epoch 92/200\n",
      "48000/48000 [==============================] - 2s - loss: 0.1147 - acc: 0.9656 - val_loss: 0.0963 - val_acc: 0.9709\n",
      "Epoch 93/200\n",
      "48000/48000 [==============================] - 2s - loss: 0.1101 - acc: 0.9664 - val_loss: 0.0961 - val_acc: 0.9717\n",
      "Epoch 94/200\n",
      "48000/48000 [==============================] - 2s - loss: 0.1125 - acc: 0.9662 - val_loss: 0.0954 - val_acc: 0.9713\n",
      "Epoch 95/200\n",
      "48000/48000 [==============================] - 2s - loss: 0.1121 - acc: 0.9661 - val_loss: 0.0950 - val_acc: 0.9715\n",
      "Epoch 96/200\n",
      "48000/48000 [==============================] - 2s - loss: 0.1122 - acc: 0.9661 - val_loss: 0.0948 - val_acc: 0.9712\n",
      "Epoch 97/200\n",
      "48000/48000 [==============================] - 2s - loss: 0.1110 - acc: 0.9665 - val_loss: 0.0944 - val_acc: 0.9713\n",
      "Epoch 98/200\n",
      "48000/48000 [==============================] - 2s - loss: 0.1096 - acc: 0.9674 - val_loss: 0.0938 - val_acc: 0.9719\n",
      "Epoch 99/200\n",
      "48000/48000 [==============================] - 2s - loss: 0.1079 - acc: 0.9673 - val_loss: 0.0939 - val_acc: 0.9714\n",
      "Epoch 100/200\n",
      "48000/48000 [==============================] - 2s - loss: 0.1071 - acc: 0.9670 - val_loss: 0.0931 - val_acc: 0.9721\n",
      "Epoch 101/200\n",
      "48000/48000 [==============================] - 2s - loss: 0.1087 - acc: 0.9672 - val_loss: 0.0924 - val_acc: 0.9723\n",
      "Epoch 102/200\n",
      "48000/48000 [==============================] - 2s - loss: 0.1037 - acc: 0.9695 - val_loss: 0.0922 - val_acc: 0.9721\n",
      "Epoch 103/200\n",
      "48000/48000 [==============================] - 2s - loss: 0.1046 - acc: 0.9683 - val_loss: 0.0927 - val_acc: 0.9723\n",
      "Epoch 104/200\n",
      "48000/48000 [==============================] - 2s - loss: 0.1063 - acc: 0.9684 - val_loss: 0.0921 - val_acc: 0.9720\n",
      "Epoch 105/200\n",
      "48000/48000 [==============================] - 2s - loss: 0.1063 - acc: 0.9677 - val_loss: 0.0918 - val_acc: 0.9724\n",
      "Epoch 106/200\n",
      "48000/48000 [==============================] - 2s - loss: 0.1030 - acc: 0.9689 - val_loss: 0.0914 - val_acc: 0.9724\n",
      "Epoch 107/200\n",
      "48000/48000 [==============================] - 2s - loss: 0.1023 - acc: 0.9700 - val_loss: 0.0913 - val_acc: 0.9723\n",
      "Epoch 108/200\n",
      "48000/48000 [==============================] - 2s - loss: 0.1034 - acc: 0.9690 - val_loss: 0.0914 - val_acc: 0.9724\n",
      "Epoch 109/200\n",
      "48000/48000 [==============================] - 2s - loss: 0.1009 - acc: 0.9695 - val_loss: 0.0907 - val_acc: 0.9722\n",
      "Epoch 110/200\n",
      "48000/48000 [==============================] - 2s - loss: 0.1015 - acc: 0.9698 - val_loss: 0.0901 - val_acc: 0.9733\n",
      "Epoch 111/200\n",
      "48000/48000 [==============================] - 2s - loss: 0.0998 - acc: 0.9696 - val_loss: 0.0907 - val_acc: 0.9723\n",
      "Epoch 112/200\n",
      "48000/48000 [==============================] - 2s - loss: 0.1001 - acc: 0.9696 - val_loss: 0.0903 - val_acc: 0.9732\n",
      "Epoch 113/200\n",
      "48000/48000 [==============================] - 2s - loss: 0.0990 - acc: 0.9699 - val_loss: 0.0903 - val_acc: 0.9728\n",
      "Epoch 114/200\n",
      "48000/48000 [==============================] - 2s - loss: 0.0975 - acc: 0.9701 - val_loss: 0.0894 - val_acc: 0.9731\n",
      "Epoch 115/200\n",
      "48000/48000 [==============================] - 2s - loss: 0.0977 - acc: 0.9700 - val_loss: 0.0894 - val_acc: 0.9735\n",
      "Epoch 116/200\n",
      "48000/48000 [==============================] - 2s - loss: 0.0956 - acc: 0.9712 - val_loss: 0.0889 - val_acc: 0.9734\n",
      "Epoch 117/200\n",
      "48000/48000 [==============================] - 2s - loss: 0.0977 - acc: 0.9699 - val_loss: 0.0884 - val_acc: 0.9738\n",
      "Epoch 118/200\n",
      "48000/48000 [==============================] - 2s - loss: 0.0974 - acc: 0.9706 - val_loss: 0.0886 - val_acc: 0.9728\n",
      "Epoch 119/200\n",
      "48000/48000 [==============================] - 2s - loss: 0.0980 - acc: 0.9708 - val_loss: 0.0894 - val_acc: 0.9729\n",
      "Epoch 120/200\n",
      "48000/48000 [==============================] - 2s - loss: 0.0941 - acc: 0.9718 - val_loss: 0.0886 - val_acc: 0.9733\n",
      "Epoch 121/200\n",
      "48000/48000 [==============================] - 2s - loss: 0.0926 - acc: 0.9720 - val_loss: 0.0881 - val_acc: 0.9734\n",
      "Epoch 122/200\n",
      "48000/48000 [==============================] - 2s - loss: 0.0918 - acc: 0.9721 - val_loss: 0.0882 - val_acc: 0.9728\n",
      "Epoch 123/200\n",
      "48000/48000 [==============================] - 2s - loss: 0.0923 - acc: 0.9720 - val_loss: 0.0878 - val_acc: 0.9732\n",
      "Epoch 124/200\n",
      "48000/48000 [==============================] - 2s - loss: 0.0926 - acc: 0.9719 - val_loss: 0.0881 - val_acc: 0.9731\n",
      "Epoch 125/200\n",
      "48000/48000 [==============================] - 2s - loss: 0.0925 - acc: 0.9719 - val_loss: 0.0878 - val_acc: 0.9734\n",
      "Epoch 126/200\n",
      "48000/48000 [==============================] - 2s - loss: 0.0933 - acc: 0.9718 - val_loss: 0.0869 - val_acc: 0.9734\n",
      "Epoch 127/200\n",
      "48000/48000 [==============================] - 2s - loss: 0.0913 - acc: 0.9726 - val_loss: 0.0868 - val_acc: 0.9734\n",
      "Epoch 128/200\n",
      "48000/48000 [==============================] - 2s - loss: 0.0912 - acc: 0.9726 - val_loss: 0.0864 - val_acc: 0.9739\n",
      "Epoch 129/200\n",
      "48000/48000 [==============================] - 2s - loss: 0.0929 - acc: 0.9718 - val_loss: 0.0868 - val_acc: 0.9736\n",
      "Epoch 130/200\n",
      "48000/48000 [==============================] - 2s - loss: 0.0907 - acc: 0.9720 - val_loss: 0.0860 - val_acc: 0.9739\n",
      "Epoch 131/200\n",
      "48000/48000 [==============================] - 2s - loss: 0.0892 - acc: 0.9727 - val_loss: 0.0863 - val_acc: 0.9742\n",
      "Epoch 132/200\n",
      "48000/48000 [==============================] - 2s - loss: 0.0885 - acc: 0.9736 - val_loss: 0.0856 - val_acc: 0.9741\n",
      "Epoch 133/200\n",
      "48000/48000 [==============================] - 2s - loss: 0.0890 - acc: 0.9725 - val_loss: 0.0858 - val_acc: 0.9738\n",
      "Epoch 134/200\n",
      "48000/48000 [==============================] - 2s - loss: 0.0873 - acc: 0.9737 - val_loss: 0.0854 - val_acc: 0.9745\n",
      "Epoch 135/200\n",
      "48000/48000 [==============================] - 2s - loss: 0.0892 - acc: 0.9731 - val_loss: 0.0856 - val_acc: 0.9743\n",
      "Epoch 136/200\n",
      "48000/48000 [==============================] - 2s - loss: 0.0884 - acc: 0.9729 - val_loss: 0.0851 - val_acc: 0.9744\n",
      "Epoch 137/200\n",
      "48000/48000 [==============================] - 2s - loss: 0.0859 - acc: 0.9739 - val_loss: 0.0853 - val_acc: 0.9738\n",
      "Epoch 138/200\n",
      "48000/48000 [==============================] - 2s - loss: 0.0864 - acc: 0.9741 - val_loss: 0.0851 - val_acc: 0.9741\n",
      "Epoch 139/200\n",
      "48000/48000 [==============================] - 2s - loss: 0.0861 - acc: 0.9735 - val_loss: 0.0852 - val_acc: 0.9745\n",
      "Epoch 140/200\n",
      "48000/48000 [==============================] - 2s - loss: 0.0861 - acc: 0.9737 - val_loss: 0.0847 - val_acc: 0.9743\n",
      "Epoch 141/200\n",
      "48000/48000 [==============================] - 2s - loss: 0.0849 - acc: 0.9736 - val_loss: 0.0845 - val_acc: 0.9745\n",
      "Epoch 142/200\n",
      "48000/48000 [==============================] - 2s - loss: 0.0861 - acc: 0.9739 - val_loss: 0.0843 - val_acc: 0.9749\n",
      "Epoch 143/200\n",
      "48000/48000 [==============================] - 2s - loss: 0.0826 - acc: 0.9747 - val_loss: 0.0841 - val_acc: 0.9747\n",
      "Epoch 144/200\n",
      "48000/48000 [==============================] - 2s - loss: 0.0840 - acc: 0.9742 - val_loss: 0.0841 - val_acc: 0.9748\n",
      "Epoch 145/200\n",
      "48000/48000 [==============================] - 2s - loss: 0.0824 - acc: 0.9746 - val_loss: 0.0844 - val_acc: 0.9748\n",
      "Epoch 146/200\n",
      "48000/48000 [==============================] - 2s - loss: 0.0834 - acc: 0.9744 - val_loss: 0.0838 - val_acc: 0.9749\n",
      "Epoch 147/200\n",
      "48000/48000 [==============================] - 2s - loss: 0.0812 - acc: 0.9757 - val_loss: 0.0830 - val_acc: 0.9748\n",
      "Epoch 148/200\n",
      "48000/48000 [==============================] - 2s - loss: 0.0806 - acc: 0.9752 - val_loss: 0.0832 - val_acc: 0.9751\n",
      "Epoch 149/200\n",
      "48000/48000 [==============================] - 2s - loss: 0.0807 - acc: 0.9754 - val_loss: 0.0841 - val_acc: 0.9753\n",
      "Epoch 150/200\n",
      "48000/48000 [==============================] - 2s - loss: 0.0816 - acc: 0.9750 - val_loss: 0.0842 - val_acc: 0.9755\n",
      "Epoch 151/200\n",
      "48000/48000 [==============================] - 2s - loss: 0.0816 - acc: 0.9748 - val_loss: 0.0833 - val_acc: 0.9753\n",
      "Epoch 152/200\n",
      "48000/48000 [==============================] - 2s - loss: 0.0783 - acc: 0.9767 - val_loss: 0.0831 - val_acc: 0.9753\n",
      "Epoch 153/200\n",
      "48000/48000 [==============================] - 2s - loss: 0.0805 - acc: 0.9755 - val_loss: 0.0835 - val_acc: 0.9753\n",
      "Epoch 154/200\n",
      "48000/48000 [==============================] - 2s - loss: 0.0786 - acc: 0.9757 - val_loss: 0.0832 - val_acc: 0.9758\n",
      "Epoch 155/200\n",
      "48000/48000 [==============================] - 2s - loss: 0.0785 - acc: 0.9757 - val_loss: 0.0832 - val_acc: 0.9752\n",
      "Epoch 156/200\n",
      "48000/48000 [==============================] - 2s - loss: 0.0807 - acc: 0.9753 - val_loss: 0.0833 - val_acc: 0.9753\n",
      "Epoch 157/200\n",
      "48000/48000 [==============================] - 2s - loss: 0.0796 - acc: 0.9761 - val_loss: 0.0828 - val_acc: 0.9753\n",
      "Epoch 158/200\n",
      "48000/48000 [==============================] - 2s - loss: 0.0794 - acc: 0.9759 - val_loss: 0.0825 - val_acc: 0.9752\n",
      "Epoch 159/200\n",
      "48000/48000 [==============================] - 2s - loss: 0.0785 - acc: 0.9762 - val_loss: 0.0827 - val_acc: 0.9754\n",
      "Epoch 160/200\n",
      "48000/48000 [==============================] - 2s - loss: 0.0774 - acc: 0.9760 - val_loss: 0.0827 - val_acc: 0.9754\n",
      "Epoch 161/200\n",
      "48000/48000 [==============================] - 2s - loss: 0.0758 - acc: 0.9764 - val_loss: 0.0822 - val_acc: 0.9756\n",
      "Epoch 162/200\n",
      "48000/48000 [==============================] - 2s - loss: 0.0759 - acc: 0.9765 - val_loss: 0.0821 - val_acc: 0.9755\n",
      "Epoch 163/200\n",
      "48000/48000 [==============================] - 2s - loss: 0.0766 - acc: 0.9762 - val_loss: 0.0822 - val_acc: 0.9753\n",
      "Epoch 164/200\n",
      "48000/48000 [==============================] - 2s - loss: 0.0766 - acc: 0.9761 - val_loss: 0.0824 - val_acc: 0.9754\n",
      "Epoch 165/200\n",
      "48000/48000 [==============================] - 2s - loss: 0.0761 - acc: 0.9765 - val_loss: 0.0827 - val_acc: 0.9752\n",
      "Epoch 166/200\n",
      "48000/48000 [==============================] - 2s - loss: 0.0765 - acc: 0.9769 - val_loss: 0.0820 - val_acc: 0.9761\n",
      "Epoch 167/200\n",
      "48000/48000 [==============================] - 2s - loss: 0.0756 - acc: 0.9766 - val_loss: 0.0816 - val_acc: 0.9760\n",
      "Epoch 168/200\n",
      "48000/48000 [==============================] - 2s - loss: 0.0726 - acc: 0.9777 - val_loss: 0.0823 - val_acc: 0.9756\n",
      "Epoch 169/200\n",
      "48000/48000 [==============================] - 2s - loss: 0.0749 - acc: 0.9765 - val_loss: 0.0818 - val_acc: 0.9757\n",
      "Epoch 170/200\n",
      "48000/48000 [==============================] - 2s - loss: 0.0736 - acc: 0.9774 - val_loss: 0.0810 - val_acc: 0.9755\n",
      "Epoch 171/200\n",
      "48000/48000 [==============================] - 2s - loss: 0.0733 - acc: 0.9769 - val_loss: 0.0813 - val_acc: 0.9761\n",
      "Epoch 172/200\n",
      "48000/48000 [==============================] - 2s - loss: 0.0728 - acc: 0.9773 - val_loss: 0.0812 - val_acc: 0.9759\n",
      "Epoch 173/200\n",
      "48000/48000 [==============================] - 2s - loss: 0.0735 - acc: 0.9774 - val_loss: 0.0809 - val_acc: 0.9762\n",
      "Epoch 174/200\n",
      "48000/48000 [==============================] - 2s - loss: 0.0744 - acc: 0.9774 - val_loss: 0.0806 - val_acc: 0.9759\n",
      "Epoch 175/200\n",
      "48000/48000 [==============================] - 2s - loss: 0.0732 - acc: 0.9777 - val_loss: 0.0810 - val_acc: 0.9758\n",
      "Epoch 176/200\n",
      "48000/48000 [==============================] - 2s - loss: 0.0713 - acc: 0.9775 - val_loss: 0.0807 - val_acc: 0.9759\n",
      "Epoch 177/200\n",
      "48000/48000 [==============================] - 2s - loss: 0.0708 - acc: 0.9789 - val_loss: 0.0815 - val_acc: 0.9757\n",
      "Epoch 178/200\n",
      "48000/48000 [==============================] - 2s - loss: 0.0718 - acc: 0.9778 - val_loss: 0.0806 - val_acc: 0.9755\n",
      "Epoch 179/200\n",
      "48000/48000 [==============================] - 2s - loss: 0.0716 - acc: 0.9778 - val_loss: 0.0808 - val_acc: 0.9759\n",
      "Epoch 180/200\n",
      "48000/48000 [==============================] - 2s - loss: 0.0706 - acc: 0.9780 - val_loss: 0.0810 - val_acc: 0.9762\n",
      "Epoch 181/200\n",
      "48000/48000 [==============================] - 2s - loss: 0.0708 - acc: 0.9782 - val_loss: 0.0809 - val_acc: 0.9760\n",
      "Epoch 182/200\n",
      "48000/48000 [==============================] - 2s - loss: 0.0707 - acc: 0.9776 - val_loss: 0.0807 - val_acc: 0.9758\n",
      "Epoch 183/200\n",
      "48000/48000 [==============================] - 2s - loss: 0.0712 - acc: 0.9775 - val_loss: 0.0808 - val_acc: 0.9765\n",
      "Epoch 184/200\n",
      "48000/48000 [==============================] - 2s - loss: 0.0682 - acc: 0.9792 - val_loss: 0.0801 - val_acc: 0.9765\n",
      "Epoch 185/200\n",
      "48000/48000 [==============================] - 2s - loss: 0.0697 - acc: 0.9784 - val_loss: 0.0809 - val_acc: 0.9762\n",
      "Epoch 186/200\n",
      "48000/48000 [==============================] - 2s - loss: 0.0687 - acc: 0.9788 - val_loss: 0.0802 - val_acc: 0.9767\n",
      "Epoch 187/200\n",
      "48000/48000 [==============================] - 2s - loss: 0.0675 - acc: 0.9789 - val_loss: 0.0810 - val_acc: 0.9765\n",
      "Epoch 188/200\n",
      "48000/48000 [==============================] - 2s - loss: 0.0686 - acc: 0.9784 - val_loss: 0.0802 - val_acc: 0.9766\n",
      "Epoch 189/200\n",
      "48000/48000 [==============================] - 2s - loss: 0.0696 - acc: 0.9779 - val_loss: 0.0805 - val_acc: 0.9763\n",
      "Epoch 190/200\n",
      "48000/48000 [==============================] - 2s - loss: 0.0672 - acc: 0.9788 - val_loss: 0.0800 - val_acc: 0.9769\n",
      "Epoch 191/200\n",
      "48000/48000 [==============================] - 2s - loss: 0.0667 - acc: 0.9796 - val_loss: 0.0801 - val_acc: 0.9768\n",
      "Epoch 192/200\n",
      "48000/48000 [==============================] - 2s - loss: 0.0672 - acc: 0.9789 - val_loss: 0.0807 - val_acc: 0.9764\n",
      "Epoch 193/200\n",
      "48000/48000 [==============================] - 2s - loss: 0.0698 - acc: 0.9778 - val_loss: 0.0794 - val_acc: 0.9770\n",
      "Epoch 194/200\n",
      "48000/48000 [==============================] - 2s - loss: 0.0681 - acc: 0.9786 - val_loss: 0.0801 - val_acc: 0.9766\n",
      "Epoch 195/200\n",
      "48000/48000 [==============================] - 2s - loss: 0.0667 - acc: 0.9792 - val_loss: 0.0805 - val_acc: 0.9767\n",
      "Epoch 196/200\n",
      "48000/48000 [==============================] - 2s - loss: 0.0666 - acc: 0.9793 - val_loss: 0.0803 - val_acc: 0.9768\n",
      "Epoch 197/200\n",
      "48000/48000 [==============================] - 2s - loss: 0.0670 - acc: 0.9795 - val_loss: 0.0799 - val_acc: 0.9769\n",
      "Epoch 198/200\n",
      "48000/48000 [==============================] - 2s - loss: 0.0647 - acc: 0.9801 - val_loss: 0.0800 - val_acc: 0.9772\n",
      "Epoch 199/200\n",
      "48000/48000 [==============================] - 2s - loss: 0.0651 - acc: 0.9798 - val_loss: 0.0795 - val_acc: 0.9768\n",
      "Epoch 200/200\n",
      "48000/48000 [==============================] - 2s - loss: 0.0647 - acc: 0.9796 - val_loss: 0.0796 - val_acc: 0.9768\n"
     ]
    }
   ],
   "source": [
    "time_start = time.clock()\n",
    "history = model.fit(X_train, y_train,\n",
    "                    batch_size=128,\n",
    "                    epochs=200,\n",
    "                    verbose=1,\n",
    "                    validation_split=0.2)\n",
    "time_end = time.clock()"
   ]
  },
  {
   "cell_type": "code",
   "execution_count": 10,
   "metadata": {
    "collapsed": false
   },
   "outputs": [
    {
     "name": "stdout",
     "output_type": "stream",
     "text": [
      "Time to train\n",
      "Time elapsed in seconds : 457\n",
      "Time elapsed in minutes : 7.6\n",
      "Time elapsed in hours   : 0.1\n"
     ]
    }
   ],
   "source": [
    "duration = time_end - time_start\n",
    "print(\"Time to train\")\n",
    "print(\"Time elapsed in seconds : %.0f\" % duration)\n",
    "print(\"Time elapsed in minutes : %.1f\" % (duration/60))\n",
    "print(\"Time elapsed in hours   : %.1f\" % (duration/3600))"
   ]
  },
  {
   "cell_type": "code",
   "execution_count": 11,
   "metadata": {
    "collapsed": false
   },
   "outputs": [
    {
     "name": "stdout",
     "output_type": "stream",
     "text": [
      " 8992/10000 [=========================>....] - ETA: 0s\n",
      "Test score: 0.0749549212636\n",
      "Test accuracy: 0.9783\n"
     ]
    }
   ],
   "source": [
    "score = model.evaluate(X_test, y_test,\n",
    "                       verbose=1)\n",
    "print(\"\")\n",
    "print(\"Test score:\", score[0])\n",
    "print(\"Test accuracy:\", score[1])"
   ]
  },
  {
   "cell_type": "code",
   "execution_count": 12,
   "metadata": {
    "collapsed": false
   },
   "outputs": [
    {
     "name": "stdout",
     "output_type": "stream",
     "text": [
      "dict_keys(['val_acc', 'val_loss', 'loss', 'acc'])\n"
     ]
    }
   ],
   "source": [
    "# list all data in history\n",
    "print(history.history.keys())"
   ]
  },
  {
   "cell_type": "code",
   "execution_count": 13,
   "metadata": {
    "collapsed": false
   },
   "outputs": [
    {
     "data": {
      "image/png": "[encoded data removed]",
      "text/plain": [
       "<matplotlib.figure.Figure at 0x2464bff0518>"
      ]
     },
     "metadata": {},
     "output_type": "display_data"
    }
   ],
   "source": [
    "# Accuracy\n",
    "plt.plot(history.history[\"acc\"])\n",
    "plt.plot(history.history[\"val_acc\"])\n",
    "plt.title(\"model accuracy\")\n",
    "plt.ylabel(\"accuracy\")\n",
    "plt.xlabel(\"epoch\")\n",
    "plt.legend([\"train\", \"test\"], loc=\"lower left\")\n",
    "plt.show()"
   ]
  },
  {
   "cell_type": "code",
   "execution_count": 14,
   "metadata": {
    "collapsed": false
   },
   "outputs": [
    {
     "data": {
      "image/png": "[encoded data removed]",
      "text/plain": [
       "<matplotlib.figure.Figure at 0x2464c13a198>"
      ]
     },
     "metadata": {},
     "output_type": "display_data"
    }
   ],
   "source": [
    "# Loss\n",
    "plt.plot(history.history[\"loss\"])\n",
    "plt.plot(history.history[\"val_loss\"])\n",
    "plt.title(\"model loss\")\n",
    "plt.ylabel(\"loss\")\n",
    "plt.xlabel(\"epoch\")\n",
    "plt.legend([\"train\", \"test\"], loc=\"upper left\")\n",
    "plt.show()"
   ]
  }
 ],
 "metadata": {
  "anaconda-cloud": {},
  "kernelspec": {
   "display_name": "Python [default]",
   "language": "python",
   "name": "python3"
  },
  "language_info": {
   "codemirror_mode": {
    "name": "ipython",
    "version": 3
   },
   "file_extension": ".py",
   "mimetype": "text/x-python",
   "name": "python",
   "nbconvert_exporter": "python",
   "pygments_lexer": "ipython3",
   "version": "3.5.2"
  }
 },
 "nbformat": 4,
 "nbformat_minor": 1
}
