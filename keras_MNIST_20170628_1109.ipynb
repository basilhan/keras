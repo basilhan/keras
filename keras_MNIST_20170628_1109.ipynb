{
 "cells": [
  {
   "cell_type": "code",
   "execution_count": 1,
   "metadata": {
    "collapsed": false
   },
   "outputs": [
    {
     "name": "stderr",
     "output_type": "stream",
     "text": [
      "Using TensorFlow backend.\n"
     ]
    }
   ],
   "source": [
    "import numpy as np\n",
    "import matplotlib.pyplot as plt\n",
    "import time\n",
    "from keras.datasets import mnist\n",
    "from keras.models import Sequential\n",
    "from keras.layers.core import Dense, Dropout, Activation\n",
    "from keras.layers.normalization import BatchNormalization\n",
    "from keras.optimizers import SGD, Adam, Adamax, RMSprop, Adagrad, Adadelta, Nadam\n",
    "from keras.utils import np_utils\n",
    "from tensorflow import set_random_seed"
   ]
  },
  {
   "cell_type": "code",
   "execution_count": 2,
   "metadata": {
    "collapsed": false
   },
   "outputs": [],
   "source": [
    "np.random.seed(2015)\n",
    "set_random_seed(2015)"
   ]
  },
  {
   "cell_type": "code",
   "execution_count": 3,
   "metadata": {
    "collapsed": false
   },
   "outputs": [],
   "source": [
    "# Load data\n",
    "(X_train, y_train), (X_test, y_test) = mnist.load_data()"
   ]
  },
  {
   "cell_type": "code",
   "execution_count": 4,
   "metadata": {
    "collapsed": false
   },
   "outputs": [
    {
     "name": "stdout",
     "output_type": "stream",
     "text": [
      "60000 training samples\n",
      "10000 testing samples\n"
     ]
    }
   ],
   "source": [
    "# Preprocessing\n",
    "X_train = X_train.reshape(60000, 784)\n",
    "X_test  = X_test.reshape(10000, 784)\n",
    "X_train = X_train.astype(\"float32\")\n",
    "X_test  = X_test.astype(\"float32\")\n",
    "X_train /= 255\n",
    "X_test  /= 255\n",
    "print(X_train.shape[0], \"training samples\")\n",
    "print(X_test.shape[0], \"testing samples\")"
   ]
  },
  {
   "cell_type": "code",
   "execution_count": 5,
   "metadata": {
    "collapsed": true
   },
   "outputs": [],
   "source": [
    "# Convert labels to one-hot encoding\n",
    "# e.g. 1 -> array([ 0.,  1.,  0.,  0.,  0.,  0.,  0.,  0.,  0.,  0.])\n",
    "y_train = np_utils.to_categorical(y_train, 10)\n",
    "y_test = np_utils.to_categorical(y_test, 10)"
   ]
  },
  {
   "cell_type": "markdown",
   "metadata": {},
   "source": [
    "The argument *input_dim* is equivalent to *input_shape* ([reference](https://keras.io/getting-started/sequential-model-guide/))."
   ]
  },
  {
   "cell_type": "code",
   "execution_count": 6,
   "metadata": {
    "collapsed": false
   },
   "outputs": [],
   "source": [
    "# Define the model\n",
    "model = Sequential([\n",
    "        Dense(128, input_dim=784), BatchNormalization(), Activation(\"relu\"), Dropout(0.22),\n",
    "        Dense(128), BatchNormalization(), Activation(\"relu\"), Dropout(0.22),\n",
    "        Dense(10), BatchNormalization(), Activation(\"softmax\")\n",
    "    ])"
   ]
  },
  {
   "cell_type": "code",
   "execution_count": 7,
   "metadata": {
    "collapsed": false
   },
   "outputs": [
    {
     "name": "stdout",
     "output_type": "stream",
     "text": [
      "_________________________________________________________________\n",
      "Layer (type)                 Output Shape              Param #   \n",
      "=================================================================\n",
      "dense_1 (Dense)              (None, 128)               100480    \n",
      "_________________________________________________________________\n",
      "batch_normalization_1 (Batch (None, 128)               512       \n",
      "_________________________________________________________________\n",
      "activation_1 (Activation)    (None, 128)               0         \n",
      "_________________________________________________________________\n",
      "dropout_1 (Dropout)          (None, 128)               0         \n",
      "_________________________________________________________________\n",
      "dense_2 (Dense)              (None, 128)               16512     \n",
      "_________________________________________________________________\n",
      "batch_normalization_2 (Batch (None, 128)               512       \n",
      "_________________________________________________________________\n",
      "activation_2 (Activation)    (None, 128)               0         \n",
      "_________________________________________________________________\n",
      "dropout_2 (Dropout)          (None, 128)               0         \n",
      "_________________________________________________________________\n",
      "dense_3 (Dense)              (None, 10)                1290      \n",
      "_________________________________________________________________\n",
      "batch_normalization_3 (Batch (None, 10)                40        \n",
      "_________________________________________________________________\n",
      "activation_3 (Activation)    (None, 10)                0         \n",
      "=================================================================\n",
      "Total params: 119,346\n",
      "Trainable params: 118,814\n",
      "Non-trainable params: 532\n",
      "_________________________________________________________________\n"
     ]
    }
   ],
   "source": [
    "model.summary()"
   ]
  },
  {
   "cell_type": "code",
   "execution_count": 8,
   "metadata": {
    "collapsed": false
   },
   "outputs": [],
   "source": [
    "model.compile(loss=\"categorical_crossentropy\",\n",
    "              optimizer=SGD(momentum=0.4, lr=0.1),\n",
    "              metrics=[\"accuracy\"])"
   ]
  },
  {
   "cell_type": "code",
   "execution_count": 9,
   "metadata": {
    "collapsed": false
   },
   "outputs": [
    {
     "name": "stdout",
     "output_type": "stream",
     "text": [
      "Train on 48000 samples, validate on 12000 samples\n",
      "Epoch 1/200\n",
      "48000/48000 [==============================] - 4s - loss: 0.4884 - acc: 0.8722 - val_loss: 0.1915 - val_acc: 0.9485\n",
      "Epoch 2/200\n",
      "48000/48000 [==============================] - 3s - loss: 0.2510 - acc: 0.9281 - val_loss: 0.1381 - val_acc: 0.9617\n",
      "Epoch 3/200\n",
      "48000/48000 [==============================] - 3s - loss: 0.2029 - acc: 0.9419 - val_loss: 0.1161 - val_acc: 0.9670\n",
      "Epoch 4/200\n",
      "48000/48000 [==============================] - 3s - loss: 0.1697 - acc: 0.9519 - val_loss: 0.1023 - val_acc: 0.9693\n",
      "Epoch 5/200\n",
      "48000/48000 [==============================] - 3s - loss: 0.1484 - acc: 0.9566 - val_loss: 0.0960 - val_acc: 0.9718\n",
      "Epoch 6/200\n",
      "48000/48000 [==============================] - 3s - loss: 0.1355 - acc: 0.9606 - val_loss: 0.0882 - val_acc: 0.9744\n",
      "Epoch 7/200\n",
      "48000/48000 [==============================] - 3s - loss: 0.1255 - acc: 0.9623 - val_loss: 0.0841 - val_acc: 0.9756\n",
      "Epoch 8/200\n",
      "48000/48000 [==============================] - 3s - loss: 0.1157 - acc: 0.9651 - val_loss: 0.0810 - val_acc: 0.9757\n",
      "Epoch 9/200\n",
      "48000/48000 [==============================] - 3s - loss: 0.1074 - acc: 0.9675 - val_loss: 0.0818 - val_acc: 0.9752\n",
      "Epoch 10/200\n",
      "48000/48000 [==============================] - 3s - loss: 0.1006 - acc: 0.9686 - val_loss: 0.0743 - val_acc: 0.9781\n",
      "Epoch 11/200\n",
      "48000/48000 [==============================] - 3s - loss: 0.0951 - acc: 0.9706 - val_loss: 0.0778 - val_acc: 0.9767\n",
      "Epoch 12/200\n",
      "48000/48000 [==============================] - 3s - loss: 0.0908 - acc: 0.9731 - val_loss: 0.0718 - val_acc: 0.9781\n",
      "Epoch 13/200\n",
      "48000/48000 [==============================] - 3s - loss: 0.0862 - acc: 0.9741 - val_loss: 0.0728 - val_acc: 0.9783\n",
      "Epoch 14/200\n",
      "48000/48000 [==============================] - 3s - loss: 0.0805 - acc: 0.9755 - val_loss: 0.0712 - val_acc: 0.9788\n",
      "Epoch 15/200\n",
      "48000/48000 [==============================] - 3s - loss: 0.0768 - acc: 0.9764 - val_loss: 0.0700 - val_acc: 0.9785\n",
      "Epoch 16/200\n",
      "48000/48000 [==============================] - 3s - loss: 0.0734 - acc: 0.9777 - val_loss: 0.0698 - val_acc: 0.9787\n",
      "Epoch 17/200\n",
      "48000/48000 [==============================] - 3s - loss: 0.0722 - acc: 0.9784 - val_loss: 0.0685 - val_acc: 0.9801\n",
      "Epoch 18/200\n",
      "48000/48000 [==============================] - 3s - loss: 0.0666 - acc: 0.9798 - val_loss: 0.0681 - val_acc: 0.9796\n",
      "Epoch 19/200\n",
      "48000/48000 [==============================] - 3s - loss: 0.0630 - acc: 0.9810 - val_loss: 0.0704 - val_acc: 0.9792\n",
      "Epoch 20/200\n",
      "48000/48000 [==============================] - 3s - loss: 0.0624 - acc: 0.9804 - val_loss: 0.0689 - val_acc: 0.9797\n",
      "Epoch 21/200\n",
      "48000/48000 [==============================] - 3s - loss: 0.0607 - acc: 0.9813 - val_loss: 0.0676 - val_acc: 0.9795\n",
      "Epoch 22/200\n",
      "48000/48000 [==============================] - 3s - loss: 0.0594 - acc: 0.9815 - val_loss: 0.0680 - val_acc: 0.9798\n",
      "Epoch 23/200\n",
      "48000/48000 [==============================] - 3s - loss: 0.0542 - acc: 0.9827 - val_loss: 0.0667 - val_acc: 0.9807\n",
      "Epoch 24/200\n",
      "48000/48000 [==============================] - 3s - loss: 0.0549 - acc: 0.9826 - val_loss: 0.0679 - val_acc: 0.9803\n",
      "Epoch 25/200\n",
      "48000/48000 [==============================] - 3s - loss: 0.0545 - acc: 0.9828 - val_loss: 0.0683 - val_acc: 0.9790\n",
      "Epoch 26/200\n",
      "48000/48000 [==============================] - 3s - loss: 0.0513 - acc: 0.9842 - val_loss: 0.0675 - val_acc: 0.9797\n",
      "Epoch 27/200\n",
      "48000/48000 [==============================] - 3s - loss: 0.0491 - acc: 0.9850 - val_loss: 0.0688 - val_acc: 0.9807\n",
      "Epoch 28/200\n",
      "48000/48000 [==============================] - 3s - loss: 0.0489 - acc: 0.9843 - val_loss: 0.0654 - val_acc: 0.9802\n",
      "Epoch 29/200\n",
      "48000/48000 [==============================] - 3s - loss: 0.0471 - acc: 0.9855 - val_loss: 0.0682 - val_acc: 0.9799\n",
      "Epoch 30/200\n",
      "48000/48000 [==============================] - 3s - loss: 0.0459 - acc: 0.9854 - val_loss: 0.0673 - val_acc: 0.9811\n",
      "Epoch 31/200\n",
      "48000/48000 [==============================] - 3s - loss: 0.0458 - acc: 0.9856 - val_loss: 0.0664 - val_acc: 0.9815\n",
      "Epoch 32/200\n",
      "48000/48000 [==============================] - 3s - loss: 0.0433 - acc: 0.9867 - val_loss: 0.0650 - val_acc: 0.9805\n",
      "Epoch 33/200\n",
      "48000/48000 [==============================] - 3s - loss: 0.0408 - acc: 0.9874 - val_loss: 0.0659 - val_acc: 0.9809\n",
      "Epoch 34/200\n",
      "48000/48000 [==============================] - 3s - loss: 0.0404 - acc: 0.9876 - val_loss: 0.0646 - val_acc: 0.9809\n",
      "Epoch 35/200\n",
      "48000/48000 [==============================] - 3s - loss: 0.0408 - acc: 0.9873 - val_loss: 0.0656 - val_acc: 0.9810\n",
      "Epoch 36/200\n",
      "48000/48000 [==============================] - 3s - loss: 0.0404 - acc: 0.9867 - val_loss: 0.0667 - val_acc: 0.9801\n",
      "Epoch 37/200\n",
      "48000/48000 [==============================] - 3s - loss: 0.0424 - acc: 0.9863 - val_loss: 0.0682 - val_acc: 0.9814\n",
      "Epoch 38/200\n",
      "48000/48000 [==============================] - 3s - loss: 0.0382 - acc: 0.9880 - val_loss: 0.0675 - val_acc: 0.9813\n",
      "Epoch 39/200\n",
      "48000/48000 [==============================] - 3s - loss: 0.0395 - acc: 0.9876 - val_loss: 0.0715 - val_acc: 0.9802\n",
      "Epoch 40/200\n",
      "48000/48000 [==============================] - 3s - loss: 0.0377 - acc: 0.9882 - val_loss: 0.0667 - val_acc: 0.9814\n",
      "Epoch 41/200\n",
      "48000/48000 [==============================] - 3s - loss: 0.0356 - acc: 0.9888 - val_loss: 0.0701 - val_acc: 0.9809\n",
      "Epoch 42/200\n",
      "48000/48000 [==============================] - 3s - loss: 0.0337 - acc: 0.9898 - val_loss: 0.0659 - val_acc: 0.9818\n",
      "Epoch 43/200\n",
      "48000/48000 [==============================] - 3s - loss: 0.0337 - acc: 0.9894 - val_loss: 0.0667 - val_acc: 0.9818\n",
      "Epoch 44/200\n",
      "48000/48000 [==============================] - 3s - loss: 0.0355 - acc: 0.9890 - val_loss: 0.0677 - val_acc: 0.9806\n",
      "Epoch 45/200\n",
      "48000/48000 [==============================] - 3s - loss: 0.0323 - acc: 0.9895 - val_loss: 0.0692 - val_acc: 0.9801\n",
      "Epoch 46/200\n",
      "48000/48000 [==============================] - 3s - loss: 0.0325 - acc: 0.9904 - val_loss: 0.0679 - val_acc: 0.9814\n",
      "Epoch 47/200\n",
      "48000/48000 [==============================] - 3s - loss: 0.0321 - acc: 0.9898 - val_loss: 0.0684 - val_acc: 0.9805\n",
      "Epoch 48/200\n",
      "48000/48000 [==============================] - 3s - loss: 0.0324 - acc: 0.9905 - val_loss: 0.0669 - val_acc: 0.9812\n",
      "Epoch 49/200\n",
      "48000/48000 [==============================] - 3s - loss: 0.0316 - acc: 0.9896 - val_loss: 0.0688 - val_acc: 0.9800\n",
      "Epoch 50/200\n",
      "48000/48000 [==============================] - 3s - loss: 0.0300 - acc: 0.9905 - val_loss: 0.0690 - val_acc: 0.9807\n",
      "Epoch 51/200\n",
      "48000/48000 [==============================] - 3s - loss: 0.0297 - acc: 0.9907 - val_loss: 0.0673 - val_acc: 0.9812\n",
      "Epoch 52/200\n",
      "48000/48000 [==============================] - 3s - loss: 0.0312 - acc: 0.9902 - val_loss: 0.0666 - val_acc: 0.9818\n",
      "Epoch 53/200\n",
      "48000/48000 [==============================] - 3s - loss: 0.0294 - acc: 0.9907 - val_loss: 0.0687 - val_acc: 0.9809\n",
      "Epoch 54/200\n",
      "48000/48000 [==============================] - 3s - loss: 0.0305 - acc: 0.9905 - val_loss: 0.0687 - val_acc: 0.9803\n",
      "Epoch 55/200\n",
      "48000/48000 [==============================] - 3s - loss: 0.0282 - acc: 0.9910 - val_loss: 0.0675 - val_acc: 0.9814\n",
      "Epoch 56/200\n",
      "48000/48000 [==============================] - 3s - loss: 0.0301 - acc: 0.9902 - val_loss: 0.0670 - val_acc: 0.9807\n",
      "Epoch 57/200\n",
      "48000/48000 [==============================] - 3s - loss: 0.0283 - acc: 0.9912 - val_loss: 0.0671 - val_acc: 0.9815\n",
      "Epoch 58/200\n",
      "48000/48000 [==============================] - 3s - loss: 0.0287 - acc: 0.9909 - val_loss: 0.0663 - val_acc: 0.9825\n",
      "Epoch 59/200\n",
      "48000/48000 [==============================] - 3s - loss: 0.0294 - acc: 0.9905 - val_loss: 0.0687 - val_acc: 0.9813\n",
      "Epoch 60/200\n",
      "48000/48000 [==============================] - 3s - loss: 0.0268 - acc: 0.9919 - val_loss: 0.0671 - val_acc: 0.9826\n",
      "Epoch 61/200\n",
      "48000/48000 [==============================] - 3s - loss: 0.0272 - acc: 0.9915 - val_loss: 0.0663 - val_acc: 0.9821\n",
      "Epoch 62/200\n",
      "48000/48000 [==============================] - 3s - loss: 0.0275 - acc: 0.9914 - val_loss: 0.0691 - val_acc: 0.9808\n",
      "Epoch 63/200\n",
      "48000/48000 [==============================] - 3s - loss: 0.0271 - acc: 0.9910 - val_loss: 0.0675 - val_acc: 0.9820\n",
      "Epoch 64/200\n",
      "48000/48000 [==============================] - 3s - loss: 0.0253 - acc: 0.9918 - val_loss: 0.0675 - val_acc: 0.9819\n",
      "Epoch 65/200\n",
      "48000/48000 [==============================] - 3s - loss: 0.0260 - acc: 0.9916 - val_loss: 0.0672 - val_acc: 0.9818\n",
      "Epoch 66/200\n",
      "48000/48000 [==============================] - 3s - loss: 0.0256 - acc: 0.9921 - val_loss: 0.0668 - val_acc: 0.9814\n",
      "Epoch 67/200\n",
      "48000/48000 [==============================] - 3s - loss: 0.0242 - acc: 0.9928 - val_loss: 0.0672 - val_acc: 0.9816\n",
      "Epoch 68/200\n",
      "48000/48000 [==============================] - 3s - loss: 0.0259 - acc: 0.9915 - val_loss: 0.0703 - val_acc: 0.9814\n",
      "Epoch 69/200\n",
      "48000/48000 [==============================] - 3s - loss: 0.0266 - acc: 0.9907 - val_loss: 0.0716 - val_acc: 0.9814\n",
      "Epoch 70/200\n",
      "48000/48000 [==============================] - 3s - loss: 0.0240 - acc: 0.9925 - val_loss: 0.0690 - val_acc: 0.9819\n",
      "Epoch 71/200\n",
      "48000/48000 [==============================] - 3s - loss: 0.0253 - acc: 0.9923 - val_loss: 0.0725 - val_acc: 0.9808\n",
      "Epoch 72/200\n",
      "48000/48000 [==============================] - 3s - loss: 0.0244 - acc: 0.9924 - val_loss: 0.0721 - val_acc: 0.9811\n",
      "Epoch 73/200\n",
      "48000/48000 [==============================] - 3s - loss: 0.0261 - acc: 0.9915 - val_loss: 0.0687 - val_acc: 0.9808\n",
      "Epoch 74/200\n",
      "48000/48000 [==============================] - 3s - loss: 0.0240 - acc: 0.9928 - val_loss: 0.0697 - val_acc: 0.9813\n",
      "Epoch 75/200\n",
      "48000/48000 [==============================] - 3s - loss: 0.0235 - acc: 0.9927 - val_loss: 0.0678 - val_acc: 0.9828\n",
      "Epoch 76/200\n",
      "48000/48000 [==============================] - 3s - loss: 0.0234 - acc: 0.9924 - val_loss: 0.0678 - val_acc: 0.9825\n",
      "Epoch 77/200\n",
      "48000/48000 [==============================] - 3s - loss: 0.0228 - acc: 0.9925 - val_loss: 0.0707 - val_acc: 0.9822\n",
      "Epoch 78/200\n",
      "48000/48000 [==============================] - 3s - loss: 0.0214 - acc: 0.9934 - val_loss: 0.0703 - val_acc: 0.9813\n",
      "Epoch 79/200\n",
      "48000/48000 [==============================] - 3s - loss: 0.0231 - acc: 0.9926 - val_loss: 0.0679 - val_acc: 0.9810\n",
      "Epoch 80/200\n",
      "48000/48000 [==============================] - 3s - loss: 0.0215 - acc: 0.9929 - val_loss: 0.0681 - val_acc: 0.9820\n",
      "Epoch 81/200\n",
      "48000/48000 [==============================] - 3s - loss: 0.0216 - acc: 0.9931 - val_loss: 0.0702 - val_acc: 0.9810\n",
      "Epoch 82/200\n",
      "48000/48000 [==============================] - 3s - loss: 0.0208 - acc: 0.9933 - val_loss: 0.0711 - val_acc: 0.9822\n",
      "Epoch 83/200\n",
      "48000/48000 [==============================] - 3s - loss: 0.0225 - acc: 0.9932 - val_loss: 0.0682 - val_acc: 0.9824\n",
      "Epoch 84/200\n",
      "48000/48000 [==============================] - 3s - loss: 0.0204 - acc: 0.9936 - val_loss: 0.0673 - val_acc: 0.9817\n",
      "Epoch 85/200\n",
      "48000/48000 [==============================] - 3s - loss: 0.0201 - acc: 0.9937 - val_loss: 0.0696 - val_acc: 0.9820\n",
      "Epoch 86/200\n",
      "48000/48000 [==============================] - 3s - loss: 0.0223 - acc: 0.9927 - val_loss: 0.0676 - val_acc: 0.9819\n",
      "Epoch 87/200\n",
      "48000/48000 [==============================] - 3s - loss: 0.0204 - acc: 0.9936 - val_loss: 0.0690 - val_acc: 0.9818\n",
      "Epoch 88/200\n",
      "48000/48000 [==============================] - 3s - loss: 0.0193 - acc: 0.9945 - val_loss: 0.0705 - val_acc: 0.9826\n",
      "Epoch 89/200\n",
      "48000/48000 [==============================] - 3s - loss: 0.0196 - acc: 0.9941 - val_loss: 0.0682 - val_acc: 0.9821\n",
      "Epoch 90/200\n",
      "48000/48000 [==============================] - 3s - loss: 0.0201 - acc: 0.9936 - val_loss: 0.0698 - val_acc: 0.9815\n",
      "Epoch 91/200\n",
      "48000/48000 [==============================] - 3s - loss: 0.0198 - acc: 0.9940 - val_loss: 0.0683 - val_acc: 0.9816\n",
      "Epoch 92/200\n",
      "48000/48000 [==============================] - 3s - loss: 0.0206 - acc: 0.9937 - val_loss: 0.0703 - val_acc: 0.9819\n",
      "Epoch 93/200\n",
      "48000/48000 [==============================] - 3s - loss: 0.0204 - acc: 0.9937 - val_loss: 0.0707 - val_acc: 0.9811\n",
      "Epoch 94/200\n",
      "48000/48000 [==============================] - 3s - loss: 0.0199 - acc: 0.9940 - val_loss: 0.0662 - val_acc: 0.9824\n",
      "Epoch 95/200\n",
      "48000/48000 [==============================] - 3s - loss: 0.0196 - acc: 0.9941 - val_loss: 0.0705 - val_acc: 0.9813\n",
      "Epoch 96/200\n",
      "48000/48000 [==============================] - 3s - loss: 0.0187 - acc: 0.9945 - val_loss: 0.0724 - val_acc: 0.9809\n",
      "Epoch 97/200\n",
      "48000/48000 [==============================] - 3s - loss: 0.0195 - acc: 0.9942 - val_loss: 0.0684 - val_acc: 0.9833\n",
      "Epoch 98/200\n",
      "48000/48000 [==============================] - 3s - loss: 0.0194 - acc: 0.9935 - val_loss: 0.0675 - val_acc: 0.9823\n",
      "Epoch 99/200\n",
      "48000/48000 [==============================] - 3s - loss: 0.0197 - acc: 0.9937 - val_loss: 0.0692 - val_acc: 0.9816\n",
      "Epoch 100/200\n",
      "48000/48000 [==============================] - 3s - loss: 0.0178 - acc: 0.9944 - val_loss: 0.0688 - val_acc: 0.9808\n",
      "Epoch 101/200\n",
      "48000/48000 [==============================] - 3s - loss: 0.0202 - acc: 0.9938 - val_loss: 0.0688 - val_acc: 0.9821\n",
      "Epoch 102/200\n",
      "48000/48000 [==============================] - 3s - loss: 0.0184 - acc: 0.9943 - val_loss: 0.0705 - val_acc: 0.9824\n",
      "Epoch 103/200\n",
      "48000/48000 [==============================] - 3s - loss: 0.0186 - acc: 0.9944 - val_loss: 0.0668 - val_acc: 0.9821\n",
      "Epoch 104/200\n",
      "48000/48000 [==============================] - 3s - loss: 0.0191 - acc: 0.9942 - val_loss: 0.0702 - val_acc: 0.9825\n",
      "Epoch 105/200\n",
      "48000/48000 [==============================] - 3s - loss: 0.0189 - acc: 0.9942 - val_loss: 0.0674 - val_acc: 0.9820\n",
      "Epoch 106/200\n",
      "48000/48000 [==============================] - 3s - loss: 0.0193 - acc: 0.9943 - val_loss: 0.0665 - val_acc: 0.9813\n",
      "Epoch 107/200\n",
      "48000/48000 [==============================] - 3s - loss: 0.0195 - acc: 0.9937 - val_loss: 0.0673 - val_acc: 0.9822\n",
      "Epoch 108/200\n",
      "48000/48000 [==============================] - 3s - loss: 0.0188 - acc: 0.9943 - val_loss: 0.0690 - val_acc: 0.9817\n",
      "Epoch 109/200\n",
      "48000/48000 [==============================] - 3s - loss: 0.0175 - acc: 0.9948 - val_loss: 0.0695 - val_acc: 0.9821\n",
      "Epoch 110/200\n",
      "48000/48000 [==============================] - 3s - loss: 0.0186 - acc: 0.9941 - val_loss: 0.0683 - val_acc: 0.9822\n",
      "Epoch 111/200\n",
      "48000/48000 [==============================] - 3s - loss: 0.0185 - acc: 0.9939 - val_loss: 0.0707 - val_acc: 0.9817\n",
      "Epoch 112/200\n",
      "48000/48000 [==============================] - 3s - loss: 0.0174 - acc: 0.9946 - val_loss: 0.0710 - val_acc: 0.9809\n",
      "Epoch 113/200\n",
      "48000/48000 [==============================] - 3s - loss: 0.0169 - acc: 0.9947 - val_loss: 0.0710 - val_acc: 0.9813\n",
      "Epoch 114/200\n",
      "48000/48000 [==============================] - 3s - loss: 0.0168 - acc: 0.9947 - val_loss: 0.0689 - val_acc: 0.9822\n",
      "Epoch 115/200\n",
      "48000/48000 [==============================] - 3s - loss: 0.0163 - acc: 0.9948 - val_loss: 0.0714 - val_acc: 0.9816\n",
      "Epoch 116/200\n",
      "48000/48000 [==============================] - 3s - loss: 0.0166 - acc: 0.9947 - val_loss: 0.0689 - val_acc: 0.9812\n",
      "Epoch 117/200\n",
      "48000/48000 [==============================] - 3s - loss: 0.0186 - acc: 0.9942 - val_loss: 0.0680 - val_acc: 0.9831\n",
      "Epoch 118/200\n",
      "48000/48000 [==============================] - 3s - loss: 0.0162 - acc: 0.9950 - val_loss: 0.0709 - val_acc: 0.9824\n",
      "Epoch 119/200\n",
      "48000/48000 [==============================] - 3s - loss: 0.0160 - acc: 0.9954 - val_loss: 0.0716 - val_acc: 0.9818\n",
      "Epoch 120/200\n",
      "48000/48000 [==============================] - 3s - loss: 0.0174 - acc: 0.9946 - val_loss: 0.0715 - val_acc: 0.9829\n",
      "Epoch 121/200\n",
      "48000/48000 [==============================] - 3s - loss: 0.0161 - acc: 0.9951 - val_loss: 0.0700 - val_acc: 0.9828\n",
      "Epoch 122/200\n",
      "48000/48000 [==============================] - 3s - loss: 0.0174 - acc: 0.9944 - val_loss: 0.0672 - val_acc: 0.9832\n",
      "Epoch 123/200\n",
      "48000/48000 [==============================] - 3s - loss: 0.0162 - acc: 0.9948 - val_loss: 0.0698 - val_acc: 0.9829\n",
      "Epoch 124/200\n",
      "48000/48000 [==============================] - 3s - loss: 0.0166 - acc: 0.9948 - val_loss: 0.0707 - val_acc: 0.9818\n",
      "Epoch 125/200\n",
      "48000/48000 [==============================] - 3s - loss: 0.0162 - acc: 0.9950 - val_loss: 0.0703 - val_acc: 0.9823\n",
      "Epoch 126/200\n",
      "48000/48000 [==============================] - 3s - loss: 0.0159 - acc: 0.9951 - val_loss: 0.0704 - val_acc: 0.9819\n",
      "Epoch 127/200\n",
      "48000/48000 [==============================] - 3s - loss: 0.0166 - acc: 0.9951 - val_loss: 0.0691 - val_acc: 0.9819\n",
      "Epoch 128/200\n",
      "48000/48000 [==============================] - 3s - loss: 0.0168 - acc: 0.9951 - val_loss: 0.0710 - val_acc: 0.9818\n",
      "Epoch 129/200\n",
      "48000/48000 [==============================] - 3s - loss: 0.0175 - acc: 0.9948 - val_loss: 0.0699 - val_acc: 0.9831\n",
      "Epoch 130/200\n",
      "48000/48000 [==============================] - 3s - loss: 0.0164 - acc: 0.9953 - val_loss: 0.0669 - val_acc: 0.9821\n",
      "Epoch 131/200\n",
      "48000/48000 [==============================] - 3s - loss: 0.0168 - acc: 0.9946 - val_loss: 0.0690 - val_acc: 0.9827\n",
      "Epoch 132/200\n",
      "48000/48000 [==============================] - 3s - loss: 0.0170 - acc: 0.9946 - val_loss: 0.0662 - val_acc: 0.9833\n",
      "Epoch 133/200\n",
      "48000/48000 [==============================] - 3s - loss: 0.0160 - acc: 0.9949 - val_loss: 0.0680 - val_acc: 0.9823\n",
      "Epoch 134/200\n",
      "48000/48000 [==============================] - 3s - loss: 0.0168 - acc: 0.9948 - val_loss: 0.0673 - val_acc: 0.9831\n",
      "Epoch 135/200\n",
      "48000/48000 [==============================] - 3s - loss: 0.0161 - acc: 0.9951 - val_loss: 0.0706 - val_acc: 0.9820\n",
      "Epoch 136/200\n",
      "48000/48000 [==============================] - 3s - loss: 0.0162 - acc: 0.9950 - val_loss: 0.0678 - val_acc: 0.9825\n",
      "Epoch 137/200\n",
      "48000/48000 [==============================] - 3s - loss: 0.0164 - acc: 0.9947 - val_loss: 0.0651 - val_acc: 0.9832\n",
      "Epoch 138/200\n",
      "48000/48000 [==============================] - 3s - loss: 0.0159 - acc: 0.9950 - val_loss: 0.0673 - val_acc: 0.9829\n",
      "Epoch 139/200\n",
      "48000/48000 [==============================] - 3s - loss: 0.0158 - acc: 0.9950 - val_loss: 0.0680 - val_acc: 0.9825\n",
      "Epoch 140/200\n",
      "48000/48000 [==============================] - 3s - loss: 0.0153 - acc: 0.9953 - val_loss: 0.0710 - val_acc: 0.9830\n",
      "Epoch 141/200\n",
      "48000/48000 [==============================] - 3s - loss: 0.0160 - acc: 0.9950 - val_loss: 0.0700 - val_acc: 0.9822\n",
      "Epoch 142/200\n",
      "48000/48000 [==============================] - 3s - loss: 0.0157 - acc: 0.9951 - val_loss: 0.0696 - val_acc: 0.9824\n",
      "Epoch 143/200\n",
      "48000/48000 [==============================] - 3s - loss: 0.0163 - acc: 0.9948 - val_loss: 0.0714 - val_acc: 0.9824\n",
      "Epoch 144/200\n",
      "48000/48000 [==============================] - 3s - loss: 0.0152 - acc: 0.9953 - val_loss: 0.0690 - val_acc: 0.9826\n",
      "Epoch 145/200\n",
      "48000/48000 [==============================] - 3s - loss: 0.0148 - acc: 0.9950 - val_loss: 0.0693 - val_acc: 0.9825\n",
      "Epoch 146/200\n",
      "48000/48000 [==============================] - 3s - loss: 0.0148 - acc: 0.9958 - val_loss: 0.0694 - val_acc: 0.9826\n",
      "Epoch 147/200\n",
      "48000/48000 [==============================] - 3s - loss: 0.0154 - acc: 0.9954 - val_loss: 0.0706 - val_acc: 0.9827\n",
      "Epoch 148/200\n",
      "48000/48000 [==============================] - 3s - loss: 0.0146 - acc: 0.9956 - val_loss: 0.0725 - val_acc: 0.9826\n",
      "Epoch 149/200\n",
      "48000/48000 [==============================] - 3s - loss: 0.0149 - acc: 0.9952 - val_loss: 0.0678 - val_acc: 0.9829\n",
      "Epoch 150/200\n",
      "48000/48000 [==============================] - 3s - loss: 0.0160 - acc: 0.9949 - val_loss: 0.0702 - val_acc: 0.9825\n",
      "Epoch 151/200\n",
      "48000/48000 [==============================] - 3s - loss: 0.0145 - acc: 0.9954 - val_loss: 0.0684 - val_acc: 0.9827\n",
      "Epoch 152/200\n",
      "48000/48000 [==============================] - 3s - loss: 0.0135 - acc: 0.9957 - val_loss: 0.0707 - val_acc: 0.9826\n",
      "Epoch 153/200\n",
      "48000/48000 [==============================] - 3s - loss: 0.0164 - acc: 0.9949 - val_loss: 0.0694 - val_acc: 0.9824\n",
      "Epoch 154/200\n",
      "48000/48000 [==============================] - 3s - loss: 0.0153 - acc: 0.9953 - val_loss: 0.0721 - val_acc: 0.9837\n",
      "Epoch 155/200\n",
      "48000/48000 [==============================] - 3s - loss: 0.0140 - acc: 0.9957 - val_loss: 0.0677 - val_acc: 0.9828\n",
      "Epoch 156/200\n",
      "48000/48000 [==============================] - 3s - loss: 0.0150 - acc: 0.9952 - val_loss: 0.0697 - val_acc: 0.9831\n",
      "Epoch 157/200\n",
      "48000/48000 [==============================] - 3s - loss: 0.0160 - acc: 0.9951 - val_loss: 0.0712 - val_acc: 0.9827\n",
      "Epoch 158/200\n",
      "48000/48000 [==============================] - 3s - loss: 0.0137 - acc: 0.9955 - val_loss: 0.0714 - val_acc: 0.9824\n",
      "Epoch 159/200\n",
      "48000/48000 [==============================] - 3s - loss: 0.0147 - acc: 0.9952 - val_loss: 0.0710 - val_acc: 0.9816\n",
      "Epoch 160/200\n",
      "48000/48000 [==============================] - 3s - loss: 0.0150 - acc: 0.9952 - val_loss: 0.0711 - val_acc: 0.9814\n",
      "Epoch 161/200\n",
      "48000/48000 [==============================] - 3s - loss: 0.0137 - acc: 0.9959 - val_loss: 0.0708 - val_acc: 0.9828\n",
      "Epoch 162/200\n",
      "48000/48000 [==============================] - 3s - loss: 0.0140 - acc: 0.9959 - val_loss: 0.0700 - val_acc: 0.9826\n",
      "Epoch 163/200\n",
      "48000/48000 [==============================] - 3s - loss: 0.0136 - acc: 0.9959 - val_loss: 0.0731 - val_acc: 0.9816\n",
      "Epoch 164/200\n",
      "48000/48000 [==============================] - 3s - loss: 0.0140 - acc: 0.9954 - val_loss: 0.0668 - val_acc: 0.9834\n",
      "Epoch 165/200\n",
      "48000/48000 [==============================] - 3s - loss: 0.0140 - acc: 0.9957 - val_loss: 0.0708 - val_acc: 0.9818\n",
      "Epoch 166/200\n",
      "48000/48000 [==============================] - 3s - loss: 0.0132 - acc: 0.9964 - val_loss: 0.0709 - val_acc: 0.9816\n",
      "Epoch 167/200\n",
      "48000/48000 [==============================] - 3s - loss: 0.0136 - acc: 0.9957 - val_loss: 0.0703 - val_acc: 0.9823\n",
      "Epoch 168/200\n",
      "48000/48000 [==============================] - 3s - loss: 0.0124 - acc: 0.9961 - val_loss: 0.0695 - val_acc: 0.9821\n",
      "Epoch 169/200\n",
      "48000/48000 [==============================] - 3s - loss: 0.0149 - acc: 0.9954 - val_loss: 0.0677 - val_acc: 0.9827\n",
      "Epoch 170/200\n",
      "48000/48000 [==============================] - 3s - loss: 0.0129 - acc: 0.9961 - val_loss: 0.0710 - val_acc: 0.9825\n",
      "Epoch 171/200\n",
      "48000/48000 [==============================] - 3s - loss: 0.0145 - acc: 0.9953 - val_loss: 0.0713 - val_acc: 0.9827\n",
      "Epoch 172/200\n",
      "48000/48000 [==============================] - 3s - loss: 0.0137 - acc: 0.9957 - val_loss: 0.0700 - val_acc: 0.9824\n",
      "Epoch 173/200\n",
      "48000/48000 [==============================] - 3s - loss: 0.0149 - acc: 0.9956 - val_loss: 0.0729 - val_acc: 0.9815\n",
      "Epoch 174/200\n",
      "48000/48000 [==============================] - 3s - loss: 0.0143 - acc: 0.9955 - val_loss: 0.0707 - val_acc: 0.9822\n",
      "Epoch 175/200\n",
      "48000/48000 [==============================] - 3s - loss: 0.0130 - acc: 0.9958 - val_loss: 0.0722 - val_acc: 0.9817\n",
      "Epoch 176/200\n",
      "48000/48000 [==============================] - 3s - loss: 0.0136 - acc: 0.9957 - val_loss: 0.0726 - val_acc: 0.9823\n",
      "Epoch 177/200\n",
      "48000/48000 [==============================] - 3s - loss: 0.0143 - acc: 0.9955 - val_loss: 0.0728 - val_acc: 0.9827\n",
      "Epoch 178/200\n",
      "48000/48000 [==============================] - 3s - loss: 0.0125 - acc: 0.9962 - val_loss: 0.0731 - val_acc: 0.9822\n",
      "Epoch 179/200\n",
      "48000/48000 [==============================] - 3s - loss: 0.0143 - acc: 0.9958 - val_loss: 0.0719 - val_acc: 0.9821\n",
      "Epoch 180/200\n",
      "48000/48000 [==============================] - 3s - loss: 0.0131 - acc: 0.9958 - val_loss: 0.0722 - val_acc: 0.9815\n",
      "Epoch 181/200\n",
      "48000/48000 [==============================] - 3s - loss: 0.0136 - acc: 0.9957 - val_loss: 0.0710 - val_acc: 0.9812\n",
      "Epoch 182/200\n",
      "48000/48000 [==============================] - 3s - loss: 0.0136 - acc: 0.9958 - val_loss: 0.0709 - val_acc: 0.9822\n",
      "Epoch 183/200\n",
      "48000/48000 [==============================] - 3s - loss: 0.0138 - acc: 0.9958 - val_loss: 0.0708 - val_acc: 0.9822\n",
      "Epoch 184/200\n",
      "48000/48000 [==============================] - 3s - loss: 0.0129 - acc: 0.9960 - val_loss: 0.0709 - val_acc: 0.9824\n",
      "Epoch 185/200\n",
      "48000/48000 [==============================] - 3s - loss: 0.0133 - acc: 0.9958 - val_loss: 0.0696 - val_acc: 0.9827\n",
      "Epoch 186/200\n",
      "48000/48000 [==============================] - 3s - loss: 0.0126 - acc: 0.9960 - val_loss: 0.0739 - val_acc: 0.9827\n",
      "Epoch 187/200\n",
      "48000/48000 [==============================] - 3s - loss: 0.0117 - acc: 0.9963 - val_loss: 0.0721 - val_acc: 0.9823\n",
      "Epoch 188/200\n",
      "48000/48000 [==============================] - 3s - loss: 0.0122 - acc: 0.9962 - val_loss: 0.0695 - val_acc: 0.9835\n",
      "Epoch 189/200\n",
      "48000/48000 [==============================] - 3s - loss: 0.0126 - acc: 0.9959 - val_loss: 0.0730 - val_acc: 0.9822\n",
      "Epoch 190/200\n",
      "48000/48000 [==============================] - 3s - loss: 0.0113 - acc: 0.9965 - val_loss: 0.0734 - val_acc: 0.9823\n",
      "Epoch 191/200\n",
      "48000/48000 [==============================] - 3s - loss: 0.0139 - acc: 0.9958 - val_loss: 0.0762 - val_acc: 0.9813\n",
      "Epoch 192/200\n",
      "48000/48000 [==============================] - 3s - loss: 0.0124 - acc: 0.9961 - val_loss: 0.0734 - val_acc: 0.9821\n",
      "Epoch 193/200\n",
      "48000/48000 [==============================] - 3s - loss: 0.0118 - acc: 0.9963 - val_loss: 0.0717 - val_acc: 0.9823\n",
      "Epoch 194/200\n",
      "48000/48000 [==============================] - 3s - loss: 0.0130 - acc: 0.9960 - val_loss: 0.0746 - val_acc: 0.9818\n",
      "Epoch 195/200\n",
      "48000/48000 [==============================] - 3s - loss: 0.0135 - acc: 0.9957 - val_loss: 0.0722 - val_acc: 0.9818\n",
      "Epoch 196/200\n",
      "48000/48000 [==============================] - 3s - loss: 0.0137 - acc: 0.9957 - val_loss: 0.0734 - val_acc: 0.9826\n",
      "Epoch 197/200\n",
      "48000/48000 [==============================] - 3s - loss: 0.0132 - acc: 0.9963 - val_loss: 0.0737 - val_acc: 0.9818\n",
      "Epoch 198/200\n",
      "48000/48000 [==============================] - 3s - loss: 0.0121 - acc: 0.9961 - val_loss: 0.0710 - val_acc: 0.9822\n",
      "Epoch 199/200\n",
      "48000/48000 [==============================] - 3s - loss: 0.0116 - acc: 0.9961 - val_loss: 0.0743 - val_acc: 0.9817\n",
      "Epoch 200/200\n",
      "48000/48000 [==============================] - 3s - loss: 0.0120 - acc: 0.9962 - val_loss: 0.0723 - val_acc: 0.9820\n"
     ]
    }
   ],
   "source": [
    "time_start = time.clock()\n",
    "history = model.fit(X_train, y_train,\n",
    "                    batch_size=128,\n",
    "                    epochs=200,\n",
    "                    verbose=1,\n",
    "                    validation_split=0.2)\n",
    "time_end = time.clock()"
   ]
  },
  {
   "cell_type": "code",
   "execution_count": 10,
   "metadata": {
    "collapsed": true
   },
   "outputs": [],
   "source": [
    "time_end = time.clock()"
   ]
  },
  {
   "cell_type": "code",
   "execution_count": 11,
   "metadata": {
    "collapsed": false
   },
   "outputs": [
    {
     "name": "stdout",
     "output_type": "stream",
     "text": [
      "Time to train\n",
      "Time elapsed in seconds : 690\n",
      "Time elapsed in minutes : 11.5\n",
      "Time elapsed in hours   : 0.2\n"
     ]
    }
   ],
   "source": [
    "duration = time_end - time_start\n",
    "print(\"Time to train\")\n",
    "print(\"Time elapsed in seconds : %.0f\" % duration)\n",
    "print(\"Time elapsed in minutes : %.1f\" % (duration/60))\n",
    "print(\"Time elapsed in hours   : %.1f\" % (duration/3600))"
   ]
  },
  {
   "cell_type": "code",
   "execution_count": 12,
   "metadata": {
    "collapsed": false
   },
   "outputs": [
    {
     "name": "stdout",
     "output_type": "stream",
     "text": [
      " 9440/10000 [===========================>..] - ETA: 0s\n",
      "Test score: 0.0699997876062\n",
      "Test accuracy: 0.9829\n"
     ]
    }
   ],
   "source": [
    "score = model.evaluate(X_test, y_test,\n",
    "                       verbose=1)\n",
    "print(\"\")\n",
    "print(\"Test score:\", score[0])\n",
    "print(\"Test accuracy:\", score[1])"
   ]
  },
  {
   "cell_type": "code",
   "execution_count": 13,
   "metadata": {
    "collapsed": false
   },
   "outputs": [
    {
     "name": "stdout",
     "output_type": "stream",
     "text": [
      "dict_keys(['loss', 'val_loss', 'val_acc', 'acc'])\n"
     ]
    }
   ],
   "source": [
    "# list all data in history\n",
    "print(history.history.keys())"
   ]
  },
  {
   "cell_type": "code",
   "execution_count": 14,
   "metadata": {
    "collapsed": false
   },
   "outputs": [
    {
     "data": {
      "image/png": "[encoded data removed]",
      "text/plain": [
       "<matplotlib.figure.Figure at 0x154c0ba27b8>"
      ]
     },
     "metadata": {},
     "output_type": "display_data"
    }
   ],
   "source": [
    "# Accuracy\n",
    "plt.plot(history.history[\"acc\"])\n",
    "plt.plot(history.history[\"val_acc\"])\n",
    "plt.title(\"model accuracy\")\n",
    "plt.ylabel(\"accuracy\")\n",
    "plt.xlabel(\"epoch\")\n",
    "plt.legend([\"train\", \"test\"], loc=\"lower left\")\n",
    "plt.show()"
   ]
  },
  {
   "cell_type": "code",
   "execution_count": 15,
   "metadata": {
    "collapsed": false
   },
   "outputs": [
    {
     "data": {
      "image/png": "[encoded data removed]",
      "text/plain": [
       "<matplotlib.figure.Figure at 0x154c0fd8c18>"
      ]
     },
     "metadata": {},
     "output_type": "display_data"
    }
   ],
   "source": [
    "# Loss\n",
    "plt.plot(history.history[\"loss\"])\n",
    "plt.plot(history.history[\"val_loss\"])\n",
    "plt.title(\"model loss\")\n",
    "plt.ylabel(\"loss\")\n",
    "plt.xlabel(\"epoch\")\n",
    "plt.legend([\"train\", \"test\"], loc=\"upper left\")\n",
    "plt.show()"
   ]
  }
 ],
 "metadata": {
  "anaconda-cloud": {},
  "kernelspec": {
   "display_name": "Python [default]",
   "language": "python",
   "name": "python3"
  },
  "language_info": {
   "codemirror_mode": {
    "name": "ipython",
    "version": 3
   },
   "file_extension": ".py",
   "mimetype": "text/x-python",
   "name": "python",
   "nbconvert_exporter": "python",
   "pygments_lexer": "ipython3",
   "version": "3.5.2"
  }
 },
 "nbformat": 4,
 "nbformat_minor": 1
}
