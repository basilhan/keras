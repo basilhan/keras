{
 "cells": [
  {
   "cell_type": "code",
   "execution_count": 1,
   "metadata": {
    "collapsed": false
   },
   "outputs": [
    {
     "name": "stderr",
     "output_type": "stream",
     "text": [
      "Using TensorFlow backend.\n"
     ]
    }
   ],
   "source": [
    "import numpy as np\n",
    "import matplotlib.pyplot as plt\n",
    "import time\n",
    "from keras.datasets import mnist\n",
    "from keras.models import Sequential\n",
    "from keras.layers.core import Dense, Dropout, Activation\n",
    "from keras.optimizers import SGD, Adam, RMSprop\n",
    "from keras.utils import np_utils\n",
    "from tensorflow import set_random_seed"
   ]
  },
  {
   "cell_type": "code",
   "execution_count": 2,
   "metadata": {
    "collapsed": false
   },
   "outputs": [],
   "source": [
    "np.random.seed(2015)\n",
    "set_random_seed(2015)"
   ]
  },
  {
   "cell_type": "code",
   "execution_count": 3,
   "metadata": {
    "collapsed": false
   },
   "outputs": [],
   "source": [
    "# Load data\n",
    "(X_train, y_train), (X_test, y_test) = mnist.load_data()"
   ]
  },
  {
   "cell_type": "code",
   "execution_count": 4,
   "metadata": {
    "collapsed": false
   },
   "outputs": [
    {
     "name": "stdout",
     "output_type": "stream",
     "text": [
      "60000 training samples\n",
      "10000 testing samples\n"
     ]
    }
   ],
   "source": [
    "# Preprocessing\n",
    "X_train = X_train.reshape(60000, 784)\n",
    "X_test  = X_test.reshape(10000, 784)\n",
    "X_train = X_train.astype(\"float32\")\n",
    "X_test  = X_test.astype(\"float32\")\n",
    "X_train /= 255\n",
    "X_test  /= 255\n",
    "print(X_train.shape[0], \"training samples\")\n",
    "print(X_test.shape[0], \"testing samples\")"
   ]
  },
  {
   "cell_type": "code",
   "execution_count": 5,
   "metadata": {
    "collapsed": true
   },
   "outputs": [],
   "source": [
    "# Convert labels to one-hot coding\n",
    "# e.g. 1 -> array([ 0.,  1.,  0.,  0.,  0.,  0.,  0.,  0.,  0.,  0.])\n",
    "y_train = np_utils.to_categorical(y_train, 10)\n",
    "y_test = np_utils.to_categorical(y_test, 10)"
   ]
  },
  {
   "cell_type": "markdown",
   "metadata": {},
   "source": [
    "The argument *input_dim* is equivalent to *input_shape* ([reference](https://keras.io/getting-started/sequential-model-guide/))."
   ]
  },
  {
   "cell_type": "code",
   "execution_count": 6,
   "metadata": {
    "collapsed": false
   },
   "outputs": [],
   "source": [
    "# Define the model\n",
    "model = Sequential([\n",
    "        Dense(128, input_dim=784), Activation(\"relu\"), Dropout(0.3),\n",
    "        Dense(128), Activation(\"relu\"), Dropout(0.3),\n",
    "        Dense(10), Activation(\"softmax\")\n",
    "    ])"
   ]
  },
  {
   "cell_type": "code",
   "execution_count": 7,
   "metadata": {
    "collapsed": false
   },
   "outputs": [
    {
     "name": "stdout",
     "output_type": "stream",
     "text": [
      "_________________________________________________________________\n",
      "Layer (type)                 Output Shape              Param #   \n",
      "=================================================================\n",
      "dense_1 (Dense)              (None, 128)               100480    \n",
      "_________________________________________________________________\n",
      "activation_1 (Activation)    (None, 128)               0         \n",
      "_________________________________________________________________\n",
      "dropout_1 (Dropout)          (None, 128)               0         \n",
      "_________________________________________________________________\n",
      "dense_2 (Dense)              (None, 128)               16512     \n",
      "_________________________________________________________________\n",
      "activation_2 (Activation)    (None, 128)               0         \n",
      "_________________________________________________________________\n",
      "dropout_2 (Dropout)          (None, 128)               0         \n",
      "_________________________________________________________________\n",
      "dense_3 (Dense)              (None, 10)                1290      \n",
      "_________________________________________________________________\n",
      "activation_3 (Activation)    (None, 10)                0         \n",
      "=================================================================\n",
      "Total params: 118,282\n",
      "Trainable params: 118,282\n",
      "Non-trainable params: 0\n",
      "_________________________________________________________________\n"
     ]
    }
   ],
   "source": [
    "model.summary()"
   ]
  },
  {
   "cell_type": "code",
   "execution_count": 8,
   "metadata": {
    "collapsed": true
   },
   "outputs": [],
   "source": [
    "model.compile(loss=\"categorical_crossentropy\",\n",
    "              optimizer=SGD(momentum=0.6),\n",
    "              metrics=[\"accuracy\"])"
   ]
  },
  {
   "cell_type": "code",
   "execution_count": 9,
   "metadata": {
    "collapsed": false
   },
   "outputs": [
    {
     "name": "stdout",
     "output_type": "stream",
     "text": [
      "Train on 48000 samples, validate on 12000 samples\n",
      "Epoch 1/200\n",
      "48000/48000 [==============================] - 2s - loss: 1.2381 - acc: 0.6055 - val_loss: 0.4763 - val_acc: 0.8812\n",
      "Epoch 2/200\n",
      "48000/48000 [==============================] - 2s - loss: 0.5881 - acc: 0.8214 - val_loss: 0.3394 - val_acc: 0.9048\n",
      "Epoch 3/200\n",
      "48000/48000 [==============================] - 2s - loss: 0.4706 - acc: 0.8592 - val_loss: 0.2932 - val_acc: 0.9151\n",
      "Epoch 4/200\n",
      "48000/48000 [==============================] - 2s - loss: 0.4137 - acc: 0.8773 - val_loss: 0.2628 - val_acc: 0.9232\n",
      "Epoch 5/200\n",
      "48000/48000 [==============================] - 2s - loss: 0.3666 - acc: 0.8911 - val_loss: 0.2412 - val_acc: 0.9304\n",
      "Epoch 6/200\n",
      "48000/48000 [==============================] - 2s - loss: 0.3390 - acc: 0.8996 - val_loss: 0.2223 - val_acc: 0.9354\n",
      "Epoch 7/200\n",
      "48000/48000 [==============================] - 2s - loss: 0.3175 - acc: 0.9064 - val_loss: 0.2096 - val_acc: 0.9387\n",
      "Epoch 8/200\n",
      "48000/48000 [==============================] - 2s - loss: 0.2959 - acc: 0.9135 - val_loss: 0.1951 - val_acc: 0.9427\n",
      "Epoch 9/200\n",
      "48000/48000 [==============================] - 2s - loss: 0.2807 - acc: 0.9173 - val_loss: 0.1860 - val_acc: 0.9454\n",
      "Epoch 10/200\n",
      "48000/48000 [==============================] - 2s - loss: 0.2648 - acc: 0.9228 - val_loss: 0.1767 - val_acc: 0.9483\n",
      "Epoch 11/200\n",
      "48000/48000 [==============================] - 2s - loss: 0.2539 - acc: 0.9260 - val_loss: 0.1696 - val_acc: 0.9500\n",
      "Epoch 12/200\n",
      "48000/48000 [==============================] - 2s - loss: 0.2449 - acc: 0.9286 - val_loss: 0.1606 - val_acc: 0.9535\n",
      "Epoch 13/200\n",
      "48000/48000 [==============================] - 2s - loss: 0.2313 - acc: 0.9320 - val_loss: 0.1549 - val_acc: 0.9543\n",
      "Epoch 14/200\n",
      "48000/48000 [==============================] - 2s - loss: 0.2248 - acc: 0.9342 - val_loss: 0.1504 - val_acc: 0.9566\n",
      "Epoch 15/200\n",
      "48000/48000 [==============================] - 2s - loss: 0.2152 - acc: 0.9365 - val_loss: 0.1435 - val_acc: 0.9575\n",
      "Epoch 16/200\n",
      "48000/48000 [==============================] - 2s - loss: 0.2092 - acc: 0.9383 - val_loss: 0.1412 - val_acc: 0.9582\n",
      "Epoch 17/200\n",
      "48000/48000 [==============================] - 2s - loss: 0.2009 - acc: 0.9405 - val_loss: 0.1362 - val_acc: 0.9615\n",
      "Epoch 18/200\n",
      "48000/48000 [==============================] - 2s - loss: 0.1939 - acc: 0.9420 - val_loss: 0.1325 - val_acc: 0.9618\n",
      "Epoch 19/200\n",
      "48000/48000 [==============================] - 2s - loss: 0.1922 - acc: 0.9431 - val_loss: 0.1291 - val_acc: 0.9633\n",
      "Epoch 20/200\n",
      "48000/48000 [==============================] - 2s - loss: 0.1831 - acc: 0.9458 - val_loss: 0.1273 - val_acc: 0.9626\n",
      "Epoch 21/200\n",
      "48000/48000 [==============================] - 2s - loss: 0.1779 - acc: 0.9475 - val_loss: 0.1238 - val_acc: 0.9637\n",
      "Epoch 22/200\n",
      "48000/48000 [==============================] - 2s - loss: 0.1742 - acc: 0.9478 - val_loss: 0.1221 - val_acc: 0.9642\n",
      "Epoch 23/200\n",
      "48000/48000 [==============================] - 2s - loss: 0.1694 - acc: 0.9498 - val_loss: 0.1192 - val_acc: 0.9656\n",
      "Epoch 24/200\n",
      "48000/48000 [==============================] - 2s - loss: 0.1669 - acc: 0.9514 - val_loss: 0.1159 - val_acc: 0.9666\n",
      "Epoch 25/200\n",
      "48000/48000 [==============================] - 2s - loss: 0.1616 - acc: 0.9513 - val_loss: 0.1143 - val_acc: 0.9671\n",
      "Epoch 26/200\n",
      "48000/48000 [==============================] - 2s - loss: 0.1627 - acc: 0.9517 - val_loss: 0.1130 - val_acc: 0.9676\n",
      "Epoch 27/200\n",
      "48000/48000 [==============================] - 2s - loss: 0.1554 - acc: 0.9528 - val_loss: 0.1110 - val_acc: 0.9677\n",
      "Epoch 28/200\n",
      "48000/48000 [==============================] - 2s - loss: 0.1532 - acc: 0.9547 - val_loss: 0.1100 - val_acc: 0.9679\n",
      "Epoch 29/200\n",
      "48000/48000 [==============================] - 2s - loss: 0.1526 - acc: 0.9537 - val_loss: 0.1086 - val_acc: 0.9685\n",
      "Epoch 30/200\n",
      "48000/48000 [==============================] - 2s - loss: 0.1475 - acc: 0.9567 - val_loss: 0.1072 - val_acc: 0.9694\n",
      "Epoch 31/200\n",
      "48000/48000 [==============================] - 2s - loss: 0.1408 - acc: 0.9581 - val_loss: 0.1055 - val_acc: 0.9695\n",
      "Epoch 32/200\n",
      "48000/48000 [==============================] - 2s - loss: 0.1379 - acc: 0.9583 - val_loss: 0.1042 - val_acc: 0.9700\n",
      "Epoch 33/200\n",
      "48000/48000 [==============================] - 2s - loss: 0.1375 - acc: 0.9589 - val_loss: 0.1012 - val_acc: 0.9701\n",
      "Epoch 34/200\n",
      "48000/48000 [==============================] - 2s - loss: 0.1343 - acc: 0.9593 - val_loss: 0.1006 - val_acc: 0.9712\n",
      "Epoch 35/200\n",
      "48000/48000 [==============================] - 2s - loss: 0.1328 - acc: 0.9606 - val_loss: 0.1001 - val_acc: 0.9711\n",
      "Epoch 36/200\n",
      "48000/48000 [==============================] - 2s - loss: 0.1325 - acc: 0.9614 - val_loss: 0.0993 - val_acc: 0.9707\n",
      "Epoch 37/200\n",
      "48000/48000 [==============================] - 2s - loss: 0.1312 - acc: 0.9613 - val_loss: 0.0990 - val_acc: 0.9705\n",
      "Epoch 38/200\n",
      "48000/48000 [==============================] - 2s - loss: 0.1295 - acc: 0.9608 - val_loss: 0.0978 - val_acc: 0.9712\n",
      "Epoch 39/200\n",
      "48000/48000 [==============================] - 2s - loss: 0.1251 - acc: 0.9621 - val_loss: 0.0971 - val_acc: 0.9711\n",
      "Epoch 40/200\n",
      "48000/48000 [==============================] - 2s - loss: 0.1242 - acc: 0.9624 - val_loss: 0.0959 - val_acc: 0.9716\n",
      "Epoch 41/200\n",
      "48000/48000 [==============================] - 2s - loss: 0.1209 - acc: 0.9633 - val_loss: 0.0952 - val_acc: 0.9718\n",
      "Epoch 42/200\n",
      "48000/48000 [==============================] - 2s - loss: 0.1186 - acc: 0.9648 - val_loss: 0.0935 - val_acc: 0.9725\n",
      "Epoch 43/200\n",
      "48000/48000 [==============================] - 2s - loss: 0.1185 - acc: 0.9638 - val_loss: 0.0923 - val_acc: 0.9732\n",
      "Epoch 44/200\n",
      "48000/48000 [==============================] - 2s - loss: 0.1174 - acc: 0.9650 - val_loss: 0.0931 - val_acc: 0.9727\n",
      "Epoch 45/200\n",
      "48000/48000 [==============================] - 2s - loss: 0.1127 - acc: 0.9664 - val_loss: 0.0919 - val_acc: 0.9723\n",
      "Epoch 46/200\n",
      "48000/48000 [==============================] - 2s - loss: 0.1133 - acc: 0.9655 - val_loss: 0.0909 - val_acc: 0.9733\n",
      "Epoch 47/200\n",
      "48000/48000 [==============================] - 2s - loss: 0.1104 - acc: 0.9668 - val_loss: 0.0912 - val_acc: 0.9732\n",
      "Epoch 48/200\n",
      "48000/48000 [==============================] - 2s - loss: 0.1114 - acc: 0.9663 - val_loss: 0.0907 - val_acc: 0.9738\n",
      "Epoch 49/200\n",
      "48000/48000 [==============================] - 2s - loss: 0.1104 - acc: 0.9666 - val_loss: 0.0897 - val_acc: 0.9744\n",
      "Epoch 50/200\n",
      "48000/48000 [==============================] - 2s - loss: 0.1058 - acc: 0.9680 - val_loss: 0.0890 - val_acc: 0.9741\n",
      "Epoch 51/200\n",
      "48000/48000 [==============================] - 2s - loss: 0.1046 - acc: 0.9685 - val_loss: 0.0882 - val_acc: 0.9741\n",
      "Epoch 52/200\n",
      "48000/48000 [==============================] - 2s - loss: 0.1047 - acc: 0.9673 - val_loss: 0.0879 - val_acc: 0.9748\n",
      "Epoch 53/200\n",
      "48000/48000 [==============================] - 2s - loss: 0.1021 - acc: 0.9691 - val_loss: 0.0881 - val_acc: 0.9748\n",
      "Epoch 54/200\n",
      "48000/48000 [==============================] - 2s - loss: 0.0999 - acc: 0.9696 - val_loss: 0.0870 - val_acc: 0.9746\n",
      "Epoch 55/200\n",
      "48000/48000 [==============================] - 3s - loss: 0.1021 - acc: 0.9697 - val_loss: 0.0859 - val_acc: 0.9749\n",
      "Epoch 56/200\n",
      "48000/48000 [==============================] - 3s - loss: 0.1016 - acc: 0.9698 - val_loss: 0.0855 - val_acc: 0.9756\n",
      "Epoch 57/200\n",
      "48000/48000 [==============================] - 3s - loss: 0.0996 - acc: 0.9696 - val_loss: 0.0853 - val_acc: 0.9751\n",
      "Epoch 58/200\n",
      "48000/48000 [==============================] - 2s - loss: 0.0985 - acc: 0.9700 - val_loss: 0.0863 - val_acc: 0.9744\n",
      "Epoch 59/200\n",
      "48000/48000 [==============================] - 2s - loss: 0.0946 - acc: 0.9708 - val_loss: 0.0852 - val_acc: 0.9753\n",
      "Epoch 60/200\n",
      "48000/48000 [==============================] - 2s - loss: 0.0957 - acc: 0.9706 - val_loss: 0.0845 - val_acc: 0.9763\n",
      "Epoch 61/200\n",
      "48000/48000 [==============================] - 2s - loss: 0.0965 - acc: 0.9704 - val_loss: 0.0847 - val_acc: 0.9748\n",
      "Epoch 62/200\n",
      "48000/48000 [==============================] - 2s - loss: 0.0921 - acc: 0.9720 - val_loss: 0.0843 - val_acc: 0.9758\n",
      "Epoch 63/200\n",
      "48000/48000 [==============================] - 2s - loss: 0.0913 - acc: 0.9723 - val_loss: 0.0838 - val_acc: 0.9763\n",
      "Epoch 64/200\n",
      "48000/48000 [==============================] - 2s - loss: 0.0907 - acc: 0.9729 - val_loss: 0.0841 - val_acc: 0.9761\n",
      "Epoch 65/200\n",
      "48000/48000 [==============================] - 2s - loss: 0.0902 - acc: 0.9720 - val_loss: 0.0834 - val_acc: 0.9763\n",
      "Epoch 66/200\n",
      "48000/48000 [==============================] - 2s - loss: 0.0906 - acc: 0.9725 - val_loss: 0.0817 - val_acc: 0.9759\n",
      "Epoch 67/200\n",
      "48000/48000 [==============================] - 2s - loss: 0.0888 - acc: 0.9723 - val_loss: 0.0819 - val_acc: 0.9764\n",
      "Epoch 68/200\n",
      "48000/48000 [==============================] - 2s - loss: 0.0860 - acc: 0.9740 - val_loss: 0.0821 - val_acc: 0.9767\n",
      "Epoch 69/200\n",
      "48000/48000 [==============================] - 2s - loss: 0.0870 - acc: 0.9730 - val_loss: 0.0821 - val_acc: 0.9773\n",
      "Epoch 70/200\n",
      "48000/48000 [==============================] - 2s - loss: 0.0846 - acc: 0.9740 - val_loss: 0.0808 - val_acc: 0.9764\n",
      "Epoch 71/200\n",
      "48000/48000 [==============================] - 2s - loss: 0.0840 - acc: 0.9733 - val_loss: 0.0822 - val_acc: 0.9768\n",
      "Epoch 72/200\n",
      "48000/48000 [==============================] - 2s - loss: 0.0836 - acc: 0.9735 - val_loss: 0.0809 - val_acc: 0.9774\n",
      "Epoch 73/200\n",
      "48000/48000 [==============================] - 2s - loss: 0.0844 - acc: 0.9744 - val_loss: 0.0806 - val_acc: 0.9767\n",
      "Epoch 74/200\n",
      "48000/48000 [==============================] - 3s - loss: 0.0825 - acc: 0.9742 - val_loss: 0.0807 - val_acc: 0.9763\n",
      "Epoch 75/200\n",
      "48000/48000 [==============================] - 2s - loss: 0.0808 - acc: 0.9747 - val_loss: 0.0808 - val_acc: 0.9767\n",
      "Epoch 76/200\n",
      "48000/48000 [==============================] - 2s - loss: 0.0832 - acc: 0.9750 - val_loss: 0.0807 - val_acc: 0.9767\n",
      "Epoch 77/200\n",
      "48000/48000 [==============================] - 2s - loss: 0.0778 - acc: 0.9756 - val_loss: 0.0810 - val_acc: 0.9763\n",
      "Epoch 78/200\n",
      "48000/48000 [==============================] - 2s - loss: 0.0759 - acc: 0.9767 - val_loss: 0.0793 - val_acc: 0.9768\n",
      "Epoch 79/200\n",
      "48000/48000 [==============================] - 2s - loss: 0.0785 - acc: 0.9760 - val_loss: 0.0793 - val_acc: 0.9769\n",
      "Epoch 80/200\n",
      "48000/48000 [==============================] - 2s - loss: 0.0791 - acc: 0.9764 - val_loss: 0.0791 - val_acc: 0.9768\n",
      "Epoch 81/200\n",
      "48000/48000 [==============================] - 2s - loss: 0.0776 - acc: 0.9759 - val_loss: 0.0796 - val_acc: 0.9768\n",
      "Epoch 82/200\n",
      "48000/48000 [==============================] - 2s - loss: 0.0770 - acc: 0.9763 - val_loss: 0.0789 - val_acc: 0.9773\n",
      "Epoch 83/200\n",
      "48000/48000 [==============================] - 2s - loss: 0.0752 - acc: 0.9758 - val_loss: 0.0787 - val_acc: 0.9768\n",
      "Epoch 84/200\n",
      "48000/48000 [==============================] - 2s - loss: 0.0741 - acc: 0.9770 - val_loss: 0.0795 - val_acc: 0.9773\n",
      "Epoch 85/200\n",
      "48000/48000 [==============================] - 2s - loss: 0.0743 - acc: 0.9769 - val_loss: 0.0788 - val_acc: 0.9776\n",
      "Epoch 86/200\n",
      "48000/48000 [==============================] - 2s - loss: 0.0725 - acc: 0.9772 - val_loss: 0.0792 - val_acc: 0.9773\n",
      "Epoch 87/200\n",
      "48000/48000 [==============================] - 2s - loss: 0.0727 - acc: 0.9771 - val_loss: 0.0790 - val_acc: 0.9778\n",
      "Epoch 88/200\n",
      "48000/48000 [==============================] - 2s - loss: 0.0744 - acc: 0.9771 - val_loss: 0.0788 - val_acc: 0.9776\n",
      "Epoch 89/200\n",
      "48000/48000 [==============================] - 2s - loss: 0.0704 - acc: 0.9785 - val_loss: 0.0792 - val_acc: 0.9776\n",
      "Epoch 90/200\n",
      "48000/48000 [==============================] - 2s - loss: 0.0695 - acc: 0.9784 - val_loss: 0.0787 - val_acc: 0.9777\n",
      "Epoch 91/200\n",
      "48000/48000 [==============================] - 2s - loss: 0.0716 - acc: 0.9776 - val_loss: 0.0783 - val_acc: 0.9783\n",
      "Epoch 92/200\n",
      "48000/48000 [==============================] - 2s - loss: 0.0711 - acc: 0.9779 - val_loss: 0.0779 - val_acc: 0.9783\n",
      "Epoch 93/200\n",
      "48000/48000 [==============================] - 2s - loss: 0.0683 - acc: 0.9786 - val_loss: 0.0788 - val_acc: 0.9781\n",
      "Epoch 94/200\n",
      "48000/48000 [==============================] - 2s - loss: 0.0689 - acc: 0.9790 - val_loss: 0.0786 - val_acc: 0.9779\n",
      "Epoch 95/200\n",
      "48000/48000 [==============================] - 2s - loss: 0.0686 - acc: 0.9782 - val_loss: 0.0780 - val_acc: 0.9777\n",
      "Epoch 96/200\n",
      "48000/48000 [==============================] - 2s - loss: 0.0685 - acc: 0.9788 - val_loss: 0.0779 - val_acc: 0.9778\n",
      "Epoch 97/200\n",
      "48000/48000 [==============================] - 2s - loss: 0.0678 - acc: 0.9788 - val_loss: 0.0779 - val_acc: 0.9778\n",
      "Epoch 98/200\n",
      "48000/48000 [==============================] - 2s - loss: 0.0680 - acc: 0.9784 - val_loss: 0.0771 - val_acc: 0.9776\n",
      "Epoch 99/200\n",
      "48000/48000 [==============================] - 2s - loss: 0.0649 - acc: 0.9794 - val_loss: 0.0780 - val_acc: 0.9773\n",
      "Epoch 100/200\n",
      "48000/48000 [==============================] - 2s - loss: 0.0662 - acc: 0.9796 - val_loss: 0.0778 - val_acc: 0.9789\n",
      "Epoch 101/200\n",
      "48000/48000 [==============================] - 2s - loss: 0.0663 - acc: 0.9791 - val_loss: 0.0779 - val_acc: 0.9783\n",
      "Epoch 102/200\n",
      "48000/48000 [==============================] - 2s - loss: 0.0629 - acc: 0.9807 - val_loss: 0.0772 - val_acc: 0.9783\n",
      "Epoch 103/200\n",
      "48000/48000 [==============================] - 2s - loss: 0.0640 - acc: 0.9797 - val_loss: 0.0786 - val_acc: 0.9783\n",
      "Epoch 104/200\n",
      "48000/48000 [==============================] - 2s - loss: 0.0660 - acc: 0.9795 - val_loss: 0.0789 - val_acc: 0.9790\n",
      "Epoch 105/200\n",
      "48000/48000 [==============================] - 2s - loss: 0.0653 - acc: 0.9791 - val_loss: 0.0780 - val_acc: 0.9785\n",
      "Epoch 106/200\n",
      "48000/48000 [==============================] - 2s - loss: 0.0624 - acc: 0.9803 - val_loss: 0.0781 - val_acc: 0.9778\n",
      "Epoch 107/200\n",
      "48000/48000 [==============================] - 2s - loss: 0.0627 - acc: 0.9803 - val_loss: 0.0776 - val_acc: 0.9792\n",
      "Epoch 108/200\n",
      "48000/48000 [==============================] - 2s - loss: 0.0645 - acc: 0.9793 - val_loss: 0.0778 - val_acc: 0.9778\n",
      "Epoch 109/200\n",
      "48000/48000 [==============================] - 2s - loss: 0.0601 - acc: 0.9810 - val_loss: 0.0781 - val_acc: 0.9783\n",
      "Epoch 110/200\n",
      "48000/48000 [==============================] - 2s - loss: 0.0613 - acc: 0.9813 - val_loss: 0.0775 - val_acc: 0.9787\n",
      "Epoch 111/200\n",
      "48000/48000 [==============================] - 2s - loss: 0.0604 - acc: 0.9810 - val_loss: 0.0779 - val_acc: 0.9780\n",
      "Epoch 112/200\n",
      "48000/48000 [==============================] - 2s - loss: 0.0607 - acc: 0.9808 - val_loss: 0.0777 - val_acc: 0.9780\n",
      "Epoch 113/200\n",
      "48000/48000 [==============================] - 2s - loss: 0.0596 - acc: 0.9809 - val_loss: 0.0782 - val_acc: 0.9783\n",
      "Epoch 114/200\n",
      "48000/48000 [==============================] - 2s - loss: 0.0588 - acc: 0.9820 - val_loss: 0.0769 - val_acc: 0.9782\n",
      "Epoch 115/200\n",
      "48000/48000 [==============================] - 2s - loss: 0.0577 - acc: 0.9821 - val_loss: 0.0781 - val_acc: 0.9783\n",
      "Epoch 116/200\n",
      "48000/48000 [==============================] - 2s - loss: 0.0563 - acc: 0.9818 - val_loss: 0.0774 - val_acc: 0.9783\n",
      "Epoch 117/200\n",
      "48000/48000 [==============================] - 2s - loss: 0.0583 - acc: 0.9814 - val_loss: 0.0773 - val_acc: 0.9789\n",
      "Epoch 118/200\n",
      "48000/48000 [==============================] - 2s - loss: 0.0575 - acc: 0.9812 - val_loss: 0.0780 - val_acc: 0.9783\n",
      "Epoch 119/200\n",
      "48000/48000 [==============================] - 2s - loss: 0.0588 - acc: 0.9812 - val_loss: 0.0784 - val_acc: 0.9780\n",
      "Epoch 120/200\n",
      "48000/48000 [==============================] - 2s - loss: 0.0569 - acc: 0.9815 - val_loss: 0.0785 - val_acc: 0.9786\n",
      "Epoch 121/200\n",
      "48000/48000 [==============================] - 2s - loss: 0.0538 - acc: 0.9832 - val_loss: 0.0773 - val_acc: 0.9792\n",
      "Epoch 122/200\n",
      "48000/48000 [==============================] - 2s - loss: 0.0544 - acc: 0.9822 - val_loss: 0.0775 - val_acc: 0.9787\n",
      "Epoch 123/200\n",
      "48000/48000 [==============================] - 2s - loss: 0.0551 - acc: 0.9819 - val_loss: 0.0776 - val_acc: 0.9782\n",
      "Epoch 124/200\n",
      "48000/48000 [==============================] - 2s - loss: 0.0568 - acc: 0.9817 - val_loss: 0.0782 - val_acc: 0.9786\n",
      "Epoch 125/200\n",
      "48000/48000 [==============================] - 2s - loss: 0.0536 - acc: 0.9828 - val_loss: 0.0787 - val_acc: 0.9789\n",
      "Epoch 126/200\n",
      "48000/48000 [==============================] - 2s - loss: 0.0538 - acc: 0.9829 - val_loss: 0.0769 - val_acc: 0.9792\n",
      "Epoch 127/200\n",
      "48000/48000 [==============================] - 2s - loss: 0.0559 - acc: 0.9826 - val_loss: 0.0776 - val_acc: 0.9791\n",
      "Epoch 128/200\n",
      "48000/48000 [==============================] - 2s - loss: 0.0557 - acc: 0.9827 - val_loss: 0.0791 - val_acc: 0.9783\n",
      "Epoch 129/200\n",
      "48000/48000 [==============================] - 2s - loss: 0.0562 - acc: 0.9824 - val_loss: 0.0781 - val_acc: 0.9789\n",
      "Epoch 130/200\n",
      "48000/48000 [==============================] - 2s - loss: 0.0557 - acc: 0.9824 - val_loss: 0.0766 - val_acc: 0.9786\n",
      "Epoch 131/200\n",
      "48000/48000 [==============================] - 2s - loss: 0.0525 - acc: 0.9832 - val_loss: 0.0775 - val_acc: 0.9793\n",
      "Epoch 132/200\n",
      "48000/48000 [==============================] - 2s - loss: 0.0533 - acc: 0.9834 - val_loss: 0.0775 - val_acc: 0.9785\n",
      "Epoch 133/200\n",
      "48000/48000 [==============================] - 2s - loss: 0.0538 - acc: 0.9828 - val_loss: 0.0762 - val_acc: 0.9789\n",
      "Epoch 134/200\n",
      "48000/48000 [==============================] - 2s - loss: 0.0532 - acc: 0.9834 - val_loss: 0.0770 - val_acc: 0.9787\n",
      "Epoch 135/200\n",
      "48000/48000 [==============================] - 2s - loss: 0.0516 - acc: 0.9835 - val_loss: 0.0794 - val_acc: 0.9789\n",
      "Epoch 136/200\n",
      "48000/48000 [==============================] - 2s - loss: 0.0516 - acc: 0.9835 - val_loss: 0.0772 - val_acc: 0.9788\n",
      "Epoch 137/200\n",
      "48000/48000 [==============================] - 2s - loss: 0.0503 - acc: 0.9837 - val_loss: 0.0781 - val_acc: 0.9784\n",
      "Epoch 138/200\n",
      "48000/48000 [==============================] - 2s - loss: 0.0502 - acc: 0.9835 - val_loss: 0.0769 - val_acc: 0.9787\n",
      "Epoch 139/200\n",
      "48000/48000 [==============================] - 2s - loss: 0.0497 - acc: 0.9836 - val_loss: 0.0778 - val_acc: 0.9785\n",
      "Epoch 140/200\n",
      "48000/48000 [==============================] - 2s - loss: 0.0494 - acc: 0.9841 - val_loss: 0.0781 - val_acc: 0.9789\n",
      "Epoch 141/200\n",
      "48000/48000 [==============================] - 2s - loss: 0.0499 - acc: 0.9844 - val_loss: 0.0782 - val_acc: 0.9791\n",
      "Epoch 142/200\n",
      "48000/48000 [==============================] - 2s - loss: 0.0496 - acc: 0.9842 - val_loss: 0.0772 - val_acc: 0.9798\n",
      "Epoch 143/200\n",
      "48000/48000 [==============================] - 2s - loss: 0.0500 - acc: 0.9840 - val_loss: 0.0770 - val_acc: 0.9797\n",
      "Epoch 144/200\n",
      "48000/48000 [==============================] - 2s - loss: 0.0487 - acc: 0.9842 - val_loss: 0.0777 - val_acc: 0.9792\n",
      "Epoch 145/200\n",
      "48000/48000 [==============================] - 2s - loss: 0.0486 - acc: 0.9845 - val_loss: 0.0782 - val_acc: 0.9789\n",
      "Epoch 146/200\n",
      "48000/48000 [==============================] - 2s - loss: 0.0489 - acc: 0.9841 - val_loss: 0.0778 - val_acc: 0.9789\n",
      "Epoch 147/200\n",
      "48000/48000 [==============================] - 2s - loss: 0.0486 - acc: 0.9842 - val_loss: 0.0772 - val_acc: 0.9795\n",
      "Epoch 148/200\n",
      "48000/48000 [==============================] - 2s - loss: 0.0467 - acc: 0.9847 - val_loss: 0.0779 - val_acc: 0.9789\n",
      "Epoch 149/200\n",
      "48000/48000 [==============================] - 2s - loss: 0.0483 - acc: 0.9846 - val_loss: 0.0771 - val_acc: 0.9791\n",
      "Epoch 150/200\n",
      "48000/48000 [==============================] - 2s - loss: 0.0482 - acc: 0.9841 - val_loss: 0.0782 - val_acc: 0.9787\n",
      "Epoch 151/200\n",
      "48000/48000 [==============================] - 2s - loss: 0.0479 - acc: 0.9851 - val_loss: 0.0776 - val_acc: 0.9794\n",
      "Epoch 152/200\n",
      "48000/48000 [==============================] - 2s - loss: 0.0448 - acc: 0.9856 - val_loss: 0.0773 - val_acc: 0.9789\n",
      "Epoch 153/200\n",
      "48000/48000 [==============================] - 2s - loss: 0.0468 - acc: 0.9847 - val_loss: 0.0786 - val_acc: 0.9789\n",
      "Epoch 154/200\n",
      "48000/48000 [==============================] - 2s - loss: 0.0470 - acc: 0.9846 - val_loss: 0.0795 - val_acc: 0.9783\n",
      "Epoch 155/200\n",
      "48000/48000 [==============================] - 2s - loss: 0.0472 - acc: 0.9851 - val_loss: 0.0785 - val_acc: 0.9793\n",
      "Epoch 156/200\n",
      "48000/48000 [==============================] - 2s - loss: 0.0477 - acc: 0.9845 - val_loss: 0.0781 - val_acc: 0.9793\n",
      "Epoch 157/200\n",
      "48000/48000 [==============================] - 2s - loss: 0.0468 - acc: 0.9850 - val_loss: 0.0775 - val_acc: 0.9790\n",
      "Epoch 158/200\n",
      "48000/48000 [==============================] - 2s - loss: 0.0479 - acc: 0.9850 - val_loss: 0.0785 - val_acc: 0.9796\n",
      "Epoch 159/200\n",
      "48000/48000 [==============================] - 2s - loss: 0.0464 - acc: 0.9851 - val_loss: 0.0785 - val_acc: 0.9792\n",
      "Epoch 160/200\n",
      "48000/48000 [==============================] - 2s - loss: 0.0452 - acc: 0.9851 - val_loss: 0.0790 - val_acc: 0.9787\n",
      "Epoch 161/200\n",
      "48000/48000 [==============================] - 2s - loss: 0.0442 - acc: 0.9856 - val_loss: 0.0782 - val_acc: 0.9787\n",
      "Epoch 162/200\n",
      "48000/48000 [==============================] - 2s - loss: 0.0438 - acc: 0.9859 - val_loss: 0.0786 - val_acc: 0.9798\n",
      "Epoch 163/200\n",
      "48000/48000 [==============================] - 2s - loss: 0.0447 - acc: 0.9853 - val_loss: 0.0790 - val_acc: 0.9788\n",
      "Epoch 164/200\n",
      "48000/48000 [==============================] - 2s - loss: 0.0454 - acc: 0.9854 - val_loss: 0.0788 - val_acc: 0.9785\n",
      "Epoch 165/200\n",
      "48000/48000 [==============================] - 2s - loss: 0.0419 - acc: 0.9866 - val_loss: 0.0802 - val_acc: 0.9781\n",
      "Epoch 166/200\n",
      "48000/48000 [==============================] - 2s - loss: 0.0451 - acc: 0.9851 - val_loss: 0.0797 - val_acc: 0.9792\n",
      "Epoch 167/200\n",
      "48000/48000 [==============================] - 2s - loss: 0.0441 - acc: 0.9856 - val_loss: 0.0784 - val_acc: 0.9793\n",
      "Epoch 168/200\n",
      "48000/48000 [==============================] - 2s - loss: 0.0407 - acc: 0.9872 - val_loss: 0.0813 - val_acc: 0.9787\n",
      "Epoch 169/200\n",
      "48000/48000 [==============================] - 2s - loss: 0.0416 - acc: 0.9866 - val_loss: 0.0790 - val_acc: 0.9791\n",
      "Epoch 170/200\n",
      "48000/48000 [==============================] - 2s - loss: 0.0423 - acc: 0.9863 - val_loss: 0.0793 - val_acc: 0.9782\n",
      "Epoch 171/200\n",
      "48000/48000 [==============================] - 2s - loss: 0.0428 - acc: 0.9861 - val_loss: 0.0784 - val_acc: 0.9792\n",
      "Epoch 172/200\n",
      "48000/48000 [==============================] - 2s - loss: 0.0426 - acc: 0.9860 - val_loss: 0.0784 - val_acc: 0.9789\n",
      "Epoch 173/200\n",
      "48000/48000 [==============================] - 2s - loss: 0.0433 - acc: 0.9860 - val_loss: 0.0781 - val_acc: 0.9794\n",
      "Epoch 174/200\n",
      "48000/48000 [==============================] - 2s - loss: 0.0437 - acc: 0.9863 - val_loss: 0.0783 - val_acc: 0.9792\n",
      "Epoch 175/200\n",
      "48000/48000 [==============================] - 2s - loss: 0.0415 - acc: 0.9866 - val_loss: 0.0789 - val_acc: 0.9793\n",
      "Epoch 176/200\n",
      "48000/48000 [==============================] - 2s - loss: 0.0421 - acc: 0.9863 - val_loss: 0.0781 - val_acc: 0.9794\n",
      "Epoch 177/200\n",
      "48000/48000 [==============================] - 2s - loss: 0.0412 - acc: 0.9869 - val_loss: 0.0802 - val_acc: 0.9786\n",
      "Epoch 178/200\n",
      "48000/48000 [==============================] - 2s - loss: 0.0408 - acc: 0.9869 - val_loss: 0.0785 - val_acc: 0.9788\n",
      "Epoch 179/200\n",
      "48000/48000 [==============================] - 2s - loss: 0.0422 - acc: 0.9864 - val_loss: 0.0793 - val_acc: 0.9792\n",
      "Epoch 180/200\n",
      "48000/48000 [==============================] - 2s - loss: 0.0395 - acc: 0.9873 - val_loss: 0.0820 - val_acc: 0.9785\n",
      "Epoch 181/200\n",
      "48000/48000 [==============================] - 2s - loss: 0.0406 - acc: 0.9864 - val_loss: 0.0793 - val_acc: 0.9793\n",
      "Epoch 182/200\n",
      "48000/48000 [==============================] - 2s - loss: 0.0403 - acc: 0.9865 - val_loss: 0.0796 - val_acc: 0.9793\n",
      "Epoch 183/200\n",
      "48000/48000 [==============================] - 2s - loss: 0.0414 - acc: 0.9867 - val_loss: 0.0795 - val_acc: 0.9794\n",
      "Epoch 184/200\n",
      "48000/48000 [==============================] - 2s - loss: 0.0397 - acc: 0.9873 - val_loss: 0.0790 - val_acc: 0.9792\n",
      "Epoch 185/200\n",
      "48000/48000 [==============================] - 2s - loss: 0.0407 - acc: 0.9872 - val_loss: 0.0803 - val_acc: 0.9792\n",
      "Epoch 186/200\n",
      "48000/48000 [==============================] - 2s - loss: 0.0392 - acc: 0.9870 - val_loss: 0.0778 - val_acc: 0.9797\n",
      "Epoch 187/200\n",
      "48000/48000 [==============================] - 2s - loss: 0.0389 - acc: 0.9877 - val_loss: 0.0802 - val_acc: 0.9793\n",
      "Epoch 188/200\n",
      "48000/48000 [==============================] - 2s - loss: 0.0396 - acc: 0.9871 - val_loss: 0.0793 - val_acc: 0.9793\n",
      "Epoch 189/200\n",
      "48000/48000 [==============================] - 2s - loss: 0.0400 - acc: 0.9868 - val_loss: 0.0800 - val_acc: 0.9794\n",
      "Epoch 190/200\n",
      "48000/48000 [==============================] - 2s - loss: 0.0370 - acc: 0.9875 - val_loss: 0.0801 - val_acc: 0.9793\n",
      "Epoch 191/200\n",
      "48000/48000 [==============================] - 2s - loss: 0.0396 - acc: 0.9871 - val_loss: 0.0793 - val_acc: 0.9799\n",
      "Epoch 192/200\n",
      "48000/48000 [==============================] - 2s - loss: 0.0373 - acc: 0.9876 - val_loss: 0.0800 - val_acc: 0.9797\n",
      "Epoch 193/200\n",
      "48000/48000 [==============================] - 2s - loss: 0.0402 - acc: 0.9865 - val_loss: 0.0798 - val_acc: 0.9795\n",
      "Epoch 194/200\n",
      "48000/48000 [==============================] - 2s - loss: 0.0394 - acc: 0.9870 - val_loss: 0.0799 - val_acc: 0.9791\n",
      "Epoch 195/200\n",
      "48000/48000 [==============================] - 2s - loss: 0.0386 - acc: 0.9876 - val_loss: 0.0811 - val_acc: 0.9802\n",
      "Epoch 196/200\n",
      "48000/48000 [==============================] - 2s - loss: 0.0386 - acc: 0.9872 - val_loss: 0.0809 - val_acc: 0.9794\n",
      "Epoch 197/200\n",
      "48000/48000 [==============================] - 2s - loss: 0.0397 - acc: 0.9871 - val_loss: 0.0813 - val_acc: 0.9795\n",
      "Epoch 198/200\n",
      "48000/48000 [==============================] - 2s - loss: 0.0364 - acc: 0.9877 - val_loss: 0.0806 - val_acc: 0.9802\n",
      "Epoch 199/200\n",
      "48000/48000 [==============================] - 2s - loss: 0.0377 - acc: 0.9872 - val_loss: 0.0817 - val_acc: 0.9798\n",
      "Epoch 200/200\n",
      "48000/48000 [==============================] - 2s - loss: 0.0360 - acc: 0.9885 - val_loss: 0.0810 - val_acc: 0.9795\n"
     ]
    }
   ],
   "source": [
    "time_start = time.clock()\n",
    "history = model.fit(X_train, y_train,\n",
    "                    batch_size=128,\n",
    "                    epochs=200,\n",
    "                    verbose=1,\n",
    "                    validation_split=0.2)\n",
    "time_end = time.clock()"
   ]
  },
  {
   "cell_type": "code",
   "execution_count": 10,
   "metadata": {
    "collapsed": true
   },
   "outputs": [],
   "source": [
    "time_end = time.clock()"
   ]
  },
  {
   "cell_type": "code",
   "execution_count": 11,
   "metadata": {
    "collapsed": false
   },
   "outputs": [
    {
     "name": "stdout",
     "output_type": "stream",
     "text": [
      "Time to train\n",
      "Time elapsed in seconds : 469\n",
      "Time elapsed in minutes : 7.8\n",
      "Time elapsed in hours   : 0.1\n"
     ]
    }
   ],
   "source": [
    "duration = time_end - time_start\n",
    "print(\"Time to train\")\n",
    "print(\"Time elapsed in seconds : %.0f\" % duration)\n",
    "print(\"Time elapsed in minutes : %.1f\" % (duration/60))\n",
    "print(\"Time elapsed in hours   : %.1f\" % (duration/3600))"
   ]
  },
  {
   "cell_type": "code",
   "execution_count": 12,
   "metadata": {
    "collapsed": false
   },
   "outputs": [
    {
     "name": "stdout",
     "output_type": "stream",
     "text": [
      " 8960/10000 [=========================>....] - ETA: 0s\n",
      "Test score: 0.0771995679901\n",
      "Test accuracy: 0.9783\n"
     ]
    }
   ],
   "source": [
    "score = model.evaluate(X_test, y_test,\n",
    "                       verbose=1)\n",
    "print(\"\")\n",
    "print(\"Test score:\", score[0])\n",
    "print(\"Test accuracy:\", score[1])"
   ]
  },
  {
   "cell_type": "code",
   "execution_count": 13,
   "metadata": {
    "collapsed": false
   },
   "outputs": [
    {
     "name": "stdout",
     "output_type": "stream",
     "text": [
      "dict_keys(['val_acc', 'loss', 'val_loss', 'acc'])\n"
     ]
    }
   ],
   "source": [
    "# list all data in history\n",
    "print(history.history.keys())"
   ]
  },
  {
   "cell_type": "code",
   "execution_count": 14,
   "metadata": {
    "collapsed": false
   },
   "outputs": [
    {
     "data": {
      "image/png": "[encoded data removed]",
      "text/plain": [
       "<matplotlib.figure.Figure at 0x1cc51d7f4a8>"
      ]
     },
     "metadata": {},
     "output_type": "display_data"
    }
   ],
   "source": [
    "# Accuracy\n",
    "plt.plot(history.history[\"acc\"])\n",
    "plt.plot(history.history[\"val_acc\"])\n",
    "plt.title(\"model accuracy\")\n",
    "plt.ylabel(\"accuracy\")\n",
    "plt.xlabel(\"epoch\")\n",
    "plt.legend([\"train\", \"test\"], loc=\"lower left\")\n",
    "plt.show()"
   ]
  },
  {
   "cell_type": "code",
   "execution_count": 15,
   "metadata": {
    "collapsed": false
   },
   "outputs": [
    {
     "data": {
      "image/png": "[encoded data removed]",
      "text/plain": [
       "<matplotlib.figure.Figure at 0x1cc51e1cb38>"
      ]
     },
     "metadata": {},
     "output_type": "display_data"
    }
   ],
   "source": [
    "# Loss\n",
    "plt.plot(history.history[\"loss\"])\n",
    "plt.plot(history.history[\"val_loss\"])\n",
    "plt.title(\"model loss\")\n",
    "plt.ylabel(\"loss\")\n",
    "plt.xlabel(\"epoch\")\n",
    "plt.legend([\"train\", \"test\"], loc=\"upper left\")\n",
    "plt.show()"
   ]
  }
 ],
 "metadata": {
  "anaconda-cloud": {},
  "kernelspec": {
   "display_name": "Python [default]",
   "language": "python",
   "name": "python3"
  },
  "language_info": {
   "codemirror_mode": {
    "name": "ipython",
    "version": 3
   },
   "file_extension": ".py",
   "mimetype": "text/x-python",
   "name": "python",
   "nbconvert_exporter": "python",
   "pygments_lexer": "ipython3",
   "version": "3.5.2"
  }
 },
 "nbformat": 4,
 "nbformat_minor": 1
}
