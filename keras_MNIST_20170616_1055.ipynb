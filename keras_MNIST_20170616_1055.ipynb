{
 "cells": [
  {
   "cell_type": "code",
   "execution_count": 1,
   "metadata": {
    "collapsed": false
   },
   "outputs": [
    {
     "name": "stderr",
     "output_type": "stream",
     "text": [
      "Using TensorFlow backend.\n"
     ]
    }
   ],
   "source": [
    "import numpy as np\n",
    "import matplotlib.pyplot as plt\n",
    "import time\n",
    "from keras.datasets import mnist\n",
    "from keras.models import Sequential\n",
    "from keras.layers.core import Dense, Dropout, Activation\n",
    "from keras.optimizers import SGD, Adam, Adamax, RMSprop, Adagrad, Adadelta, Nadam\n",
    "from keras.utils import np_utils\n",
    "from tensorflow import set_random_seed"
   ]
  },
  {
   "cell_type": "code",
   "execution_count": 2,
   "metadata": {
    "collapsed": false
   },
   "outputs": [],
   "source": [
    "np.random.seed(2015)\n",
    "set_random_seed(2015)"
   ]
  },
  {
   "cell_type": "code",
   "execution_count": 3,
   "metadata": {
    "collapsed": false
   },
   "outputs": [],
   "source": [
    "# Load data\n",
    "(X_train, y_train), (X_test, y_test) = mnist.load_data()"
   ]
  },
  {
   "cell_type": "code",
   "execution_count": 4,
   "metadata": {
    "collapsed": false
   },
   "outputs": [
    {
     "name": "stdout",
     "output_type": "stream",
     "text": [
      "60000 training samples\n",
      "10000 testing samples\n"
     ]
    }
   ],
   "source": [
    "# Preprocessing\n",
    "X_train = X_train.reshape(60000, 784)\n",
    "X_test  = X_test.reshape(10000, 784)\n",
    "X_train = X_train.astype(\"float32\")\n",
    "X_test  = X_test.astype(\"float32\")\n",
    "X_train /= 255\n",
    "X_test  /= 255\n",
    "print(X_train.shape[0], \"training samples\")\n",
    "print(X_test.shape[0], \"testing samples\")"
   ]
  },
  {
   "cell_type": "code",
   "execution_count": 5,
   "metadata": {
    "collapsed": true
   },
   "outputs": [],
   "source": [
    "# Convert labels to one-hot encoding\n",
    "# e.g. 1 -> array([ 0.,  1.,  0.,  0.,  0.,  0.,  0.,  0.,  0.,  0.])\n",
    "y_train = np_utils.to_categorical(y_train, 10)\n",
    "y_test = np_utils.to_categorical(y_test, 10)"
   ]
  },
  {
   "cell_type": "markdown",
   "metadata": {},
   "source": [
    "The argument *input_dim* is equivalent to *input_shape* ([reference](https://keras.io/getting-started/sequential-model-guide/))."
   ]
  },
  {
   "cell_type": "code",
   "execution_count": 6,
   "metadata": {
    "collapsed": false
   },
   "outputs": [],
   "source": [
    "# Define the model\n",
    "model = Sequential([\n",
    "        Dense(128, input_dim=784), Activation(\"relu\"), Dropout(0.3),\n",
    "        Dense(128), Activation(\"relu\"), Dropout(0.3),\n",
    "        Dense(10), Activation(\"softmax\")\n",
    "    ])"
   ]
  },
  {
   "cell_type": "code",
   "execution_count": 7,
   "metadata": {
    "collapsed": false
   },
   "outputs": [
    {
     "name": "stdout",
     "output_type": "stream",
     "text": [
      "_________________________________________________________________\n",
      "Layer (type)                 Output Shape              Param #   \n",
      "=================================================================\n",
      "dense_1 (Dense)              (None, 128)               100480    \n",
      "_________________________________________________________________\n",
      "activation_1 (Activation)    (None, 128)               0         \n",
      "_________________________________________________________________\n",
      "dropout_1 (Dropout)          (None, 128)               0         \n",
      "_________________________________________________________________\n",
      "dense_2 (Dense)              (None, 128)               16512     \n",
      "_________________________________________________________________\n",
      "activation_2 (Activation)    (None, 128)               0         \n",
      "_________________________________________________________________\n",
      "dropout_2 (Dropout)          (None, 128)               0         \n",
      "_________________________________________________________________\n",
      "dense_3 (Dense)              (None, 10)                1290      \n",
      "_________________________________________________________________\n",
      "activation_3 (Activation)    (None, 10)                0         \n",
      "=================================================================\n",
      "Total params: 118,282\n",
      "Trainable params: 118,282\n",
      "Non-trainable params: 0\n",
      "_________________________________________________________________\n"
     ]
    }
   ],
   "source": [
    "model.summary()"
   ]
  },
  {
   "cell_type": "code",
   "execution_count": 8,
   "metadata": {
    "collapsed": false
   },
   "outputs": [],
   "source": [
    "model.compile(loss=\"categorical_crossentropy\",\n",
    "              optimizer=SGD(lr=0.0001),\n",
    "              metrics=[\"accuracy\"])"
   ]
  },
  {
   "cell_type": "code",
   "execution_count": 9,
   "metadata": {
    "collapsed": false
   },
   "outputs": [
    {
     "name": "stdout",
     "output_type": "stream",
     "text": [
      "Train on 48000 samples, validate on 12000 samples\n",
      "Epoch 1/200\n",
      "48000/48000 [==============================] - 2s - loss: 2.3764 - acc: 0.0928 - val_loss: 2.3231 - val_acc: 0.0944\n",
      "Epoch 2/200\n",
      "48000/48000 [==============================] - 2s - loss: 2.3540 - acc: 0.1005 - val_loss: 2.3048 - val_acc: 0.0999\n",
      "Epoch 3/200\n",
      "48000/48000 [==============================] - 2s - loss: 2.3342 - acc: 0.1071 - val_loss: 2.2878 - val_acc: 0.1092\n",
      "Epoch 4/200\n",
      "48000/48000 [==============================] - 2s - loss: 2.3193 - acc: 0.1123 - val_loss: 2.2718 - val_acc: 0.1202\n",
      "Epoch 5/200\n",
      "48000/48000 [==============================] - 2s - loss: 2.3047 - acc: 0.1171 - val_loss: 2.2565 - val_acc: 0.1371\n",
      "Epoch 6/200\n",
      "48000/48000 [==============================] - 2s - loss: 2.2914 - acc: 0.1249 - val_loss: 2.2420 - val_acc: 0.1570\n",
      "Epoch 7/200\n",
      "48000/48000 [==============================] - 2s - loss: 2.2754 - acc: 0.1383 - val_loss: 2.2279 - val_acc: 0.1772\n",
      "Epoch 8/200\n",
      "48000/48000 [==============================] - 2s - loss: 2.2603 - acc: 0.1460 - val_loss: 2.2142 - val_acc: 0.1988\n",
      "Epoch 9/200\n",
      "48000/48000 [==============================] - 2s - loss: 2.2490 - acc: 0.1514 - val_loss: 2.2008 - val_acc: 0.2228\n",
      "Epoch 10/200\n",
      "48000/48000 [==============================] - 2s - loss: 2.2371 - acc: 0.1640 - val_loss: 2.1876 - val_acc: 0.2503\n",
      "Epoch 11/200\n",
      "48000/48000 [==============================] - 2s - loss: 2.2228 - acc: 0.1746 - val_loss: 2.1745 - val_acc: 0.2772\n",
      "Epoch 12/200\n",
      "48000/48000 [==============================] - 2s - loss: 2.2092 - acc: 0.1878 - val_loss: 2.1616 - val_acc: 0.3018\n",
      "Epoch 13/200\n",
      "48000/48000 [==============================] - 2s - loss: 2.1994 - acc: 0.1939 - val_loss: 2.1487 - val_acc: 0.3345\n",
      "Epoch 14/200\n",
      "48000/48000 [==============================] - 2s - loss: 2.1846 - acc: 0.2079 - val_loss: 2.1357 - val_acc: 0.3615\n",
      "Epoch 15/200\n",
      "48000/48000 [==============================] - 2s - loss: 2.1749 - acc: 0.2193 - val_loss: 2.1228 - val_acc: 0.3865\n",
      "Epoch 16/200\n",
      "48000/48000 [==============================] - 2s - loss: 2.1613 - acc: 0.2313 - val_loss: 2.1097 - val_acc: 0.4104\n",
      "Epoch 17/200\n",
      "48000/48000 [==============================] - 2s - loss: 2.1503 - acc: 0.2423 - val_loss: 2.0966 - val_acc: 0.4298\n",
      "Epoch 18/200\n",
      "48000/48000 [==============================] - 2s - loss: 2.1360 - acc: 0.2558 - val_loss: 2.0833 - val_acc: 0.4487\n",
      "Epoch 19/200\n",
      "48000/48000 [==============================] - 2s - loss: 2.1242 - acc: 0.2659 - val_loss: 2.0698 - val_acc: 0.4659\n",
      "Epoch 20/200\n",
      "48000/48000 [==============================] - 2s - loss: 2.1163 - acc: 0.2739 - val_loss: 2.0563 - val_acc: 0.4808\n",
      "Epoch 21/200\n",
      "48000/48000 [==============================] - 2s - loss: 2.1021 - acc: 0.2876 - val_loss: 2.0426 - val_acc: 0.4950\n",
      "Epoch 22/200\n",
      "48000/48000 [==============================] - 2s - loss: 2.0883 - acc: 0.3002 - val_loss: 2.0287 - val_acc: 0.5081\n",
      "Epoch 23/200\n",
      "48000/48000 [==============================] - 2s - loss: 2.0797 - acc: 0.3062 - val_loss: 2.0146 - val_acc: 0.5198\n",
      "Epoch 24/200\n",
      "48000/48000 [==============================] - 2s - loss: 2.0646 - acc: 0.3183 - val_loss: 2.0004 - val_acc: 0.5307\n",
      "Epoch 25/200\n",
      "48000/48000 [==============================] - 2s - loss: 2.0500 - acc: 0.3279 - val_loss: 1.9859 - val_acc: 0.5411\n",
      "Epoch 26/200\n",
      "48000/48000 [==============================] - 2s - loss: 2.0393 - acc: 0.3409 - val_loss: 1.9713 - val_acc: 0.5513\n",
      "Epoch 27/200\n",
      "48000/48000 [==============================] - 2s - loss: 2.0273 - acc: 0.3469 - val_loss: 1.9565 - val_acc: 0.5627\n",
      "Epoch 28/200\n",
      "48000/48000 [==============================] - 2s - loss: 2.0136 - acc: 0.3559 - val_loss: 1.9416 - val_acc: 0.5693\n",
      "Epoch 29/200\n",
      "48000/48000 [==============================] - 2s - loss: 1.9982 - acc: 0.3666 - val_loss: 1.9265 - val_acc: 0.5760\n",
      "Epoch 30/200\n",
      "48000/48000 [==============================] - 2s - loss: 1.9857 - acc: 0.3744 - val_loss: 1.9112 - val_acc: 0.5849\n",
      "Epoch 31/200\n",
      "48000/48000 [==============================] - 2s - loss: 1.9739 - acc: 0.3822 - val_loss: 1.8957 - val_acc: 0.5932\n",
      "Epoch 32/200\n",
      "48000/48000 [==============================] - 2s - loss: 1.9596 - acc: 0.3895 - val_loss: 1.8802 - val_acc: 0.6004\n",
      "Epoch 33/200\n",
      "48000/48000 [==============================] - 2s - loss: 1.9465 - acc: 0.3979 - val_loss: 1.8645 - val_acc: 0.6078\n",
      "Epoch 34/200\n",
      "48000/48000 [==============================] - 2s - loss: 1.9316 - acc: 0.4033 - val_loss: 1.8487 - val_acc: 0.6139\n",
      "Epoch 35/200\n",
      "48000/48000 [==============================] - 2s - loss: 1.9212 - acc: 0.4094 - val_loss: 1.8327 - val_acc: 0.6202\n",
      "Epoch 36/200\n",
      "48000/48000 [==============================] - 2s - loss: 1.9051 - acc: 0.4165 - val_loss: 1.8167 - val_acc: 0.6269\n",
      "Epoch 37/200\n",
      "48000/48000 [==============================] - 2s - loss: 1.8904 - acc: 0.4253 - val_loss: 1.8006 - val_acc: 0.6333\n",
      "Epoch 38/200\n",
      "48000/48000 [==============================] - 2s - loss: 1.8787 - acc: 0.4290 - val_loss: 1.7844 - val_acc: 0.6403\n",
      "Epoch 39/200\n",
      "48000/48000 [==============================] - 2s - loss: 1.8646 - acc: 0.4369 - val_loss: 1.7681 - val_acc: 0.6458\n",
      "Epoch 40/200\n",
      "48000/48000 [==============================] - 2s - loss: 1.8500 - acc: 0.4449 - val_loss: 1.7518 - val_acc: 0.6522\n",
      "Epoch 41/200\n",
      "48000/48000 [==============================] - 2s - loss: 1.8386 - acc: 0.4476 - val_loss: 1.7355 - val_acc: 0.6575\n",
      "Epoch 42/200\n",
      "48000/48000 [==============================] - 2s - loss: 1.8219 - acc: 0.4551 - val_loss: 1.7190 - val_acc: 0.6648\n",
      "Epoch 43/200\n",
      "48000/48000 [==============================] - 2s - loss: 1.8092 - acc: 0.4573 - val_loss: 1.7026 - val_acc: 0.6693\n",
      "Epoch 44/200\n",
      "48000/48000 [==============================] - 2s - loss: 1.7956 - acc: 0.4648 - val_loss: 1.6862 - val_acc: 0.6728\n",
      "Epoch 45/200\n",
      "48000/48000 [==============================] - 2s - loss: 1.7822 - acc: 0.4659 - val_loss: 1.6697 - val_acc: 0.6788\n",
      "Epoch 46/200\n",
      "48000/48000 [==============================] - 2s - loss: 1.7699 - acc: 0.4706 - val_loss: 1.6533 - val_acc: 0.6836\n",
      "Epoch 47/200\n",
      "48000/48000 [==============================] - 2s - loss: 1.7571 - acc: 0.4786 - val_loss: 1.6369 - val_acc: 0.6887\n",
      "Epoch 48/200\n",
      "48000/48000 [==============================] - 2s - loss: 1.7404 - acc: 0.4817 - val_loss: 1.6205 - val_acc: 0.6929\n",
      "Epoch 49/200\n",
      "48000/48000 [==============================] - 2s - loss: 1.7273 - acc: 0.4865 - val_loss: 1.6041 - val_acc: 0.6962\n",
      "Epoch 50/200\n",
      "48000/48000 [==============================] - 2s - loss: 1.7111 - acc: 0.4927 - val_loss: 1.5877 - val_acc: 0.7013\n",
      "Epoch 51/200\n",
      "48000/48000 [==============================] - 2s - loss: 1.6980 - acc: 0.4991 - val_loss: 1.5714 - val_acc: 0.7050\n",
      "Epoch 52/200\n",
      "48000/48000 [==============================] - 2s - loss: 1.6866 - acc: 0.5006 - val_loss: 1.5551 - val_acc: 0.7102\n",
      "Epoch 53/200\n",
      "48000/48000 [==============================] - 2s - loss: 1.6736 - acc: 0.5024 - val_loss: 1.5389 - val_acc: 0.7135\n",
      "Epoch 54/200\n",
      "48000/48000 [==============================] - 2s - loss: 1.6562 - acc: 0.5149 - val_loss: 1.5227 - val_acc: 0.7181\n",
      "Epoch 55/200\n",
      "48000/48000 [==============================] - 2s - loss: 1.6462 - acc: 0.5097 - val_loss: 1.5066 - val_acc: 0.7211\n",
      "Epoch 56/200\n",
      "48000/48000 [==============================] - 2s - loss: 1.6328 - acc: 0.5134 - val_loss: 1.4907 - val_acc: 0.7262\n",
      "Epoch 57/200\n",
      "48000/48000 [==============================] - 2s - loss: 1.6216 - acc: 0.5203 - val_loss: 1.4748 - val_acc: 0.7297\n",
      "Epoch 58/200\n",
      "48000/48000 [==============================] - 2s - loss: 1.6067 - acc: 0.5244 - val_loss: 1.4590 - val_acc: 0.7347\n",
      "Epoch 59/200\n",
      "48000/48000 [==============================] - 2s - loss: 1.5942 - acc: 0.5285 - val_loss: 1.4433 - val_acc: 0.7386\n",
      "Epoch 60/200\n",
      "48000/48000 [==============================] - 2s - loss: 1.5820 - acc: 0.5318 - val_loss: 1.4277 - val_acc: 0.7419\n",
      "Epoch 61/200\n",
      "48000/48000 [==============================] - 3s - loss: 1.5679 - acc: 0.5364 - val_loss: 1.4122 - val_acc: 0.7456\n",
      "Epoch 62/200\n",
      "48000/48000 [==============================] - 2s - loss: 1.5547 - acc: 0.5431 - val_loss: 1.3968 - val_acc: 0.7482\n",
      "Epoch 63/200\n",
      "48000/48000 [==============================] - 2s - loss: 1.5425 - acc: 0.5431 - val_loss: 1.3816 - val_acc: 0.7503\n",
      "Epoch 64/200\n",
      "48000/48000 [==============================] - 2s - loss: 1.5294 - acc: 0.5471 - val_loss: 1.3665 - val_acc: 0.7537\n",
      "Epoch 65/200\n",
      "48000/48000 [==============================] - 2s - loss: 1.5199 - acc: 0.5478 - val_loss: 1.3516 - val_acc: 0.7559\n",
      "Epoch 66/200\n",
      "48000/48000 [==============================] - 2s - loss: 1.5058 - acc: 0.5552 - val_loss: 1.3368 - val_acc: 0.7583\n",
      "Epoch 67/200\n",
      "48000/48000 [==============================] - 2s - loss: 1.4939 - acc: 0.5565 - val_loss: 1.3222 - val_acc: 0.7612\n",
      "Epoch 68/200\n",
      "48000/48000 [==============================] - 2s - loss: 1.4843 - acc: 0.5587 - val_loss: 1.3077 - val_acc: 0.7635\n",
      "Epoch 69/200\n",
      "48000/48000 [==============================] - 2s - loss: 1.4679 - acc: 0.5645 - val_loss: 1.2934 - val_acc: 0.7656\n",
      "Epoch 70/200\n",
      "48000/48000 [==============================] - 2s - loss: 1.4580 - acc: 0.5664 - val_loss: 1.2792 - val_acc: 0.7673\n",
      "Epoch 71/200\n",
      "48000/48000 [==============================] - 2s - loss: 1.4453 - acc: 0.5732 - val_loss: 1.2652 - val_acc: 0.7695\n",
      "Epoch 72/200\n",
      "48000/48000 [==============================] - 2s - loss: 1.4347 - acc: 0.5779 - val_loss: 1.2513 - val_acc: 0.7722\n",
      "Epoch 73/200\n",
      "48000/48000 [==============================] - 2s - loss: 1.4253 - acc: 0.5739 - val_loss: 1.2376 - val_acc: 0.7748\n",
      "Epoch 74/200\n",
      "48000/48000 [==============================] - 2s - loss: 1.4142 - acc: 0.5787 - val_loss: 1.2241 - val_acc: 0.7773\n",
      "Epoch 75/200\n",
      "48000/48000 [==============================] - 2s - loss: 1.4058 - acc: 0.5805 - val_loss: 1.2108 - val_acc: 0.7805\n",
      "Epoch 76/200\n",
      "48000/48000 [==============================] - 2s - loss: 1.3939 - acc: 0.5821 - val_loss: 1.1978 - val_acc: 0.7826\n",
      "Epoch 77/200\n",
      "48000/48000 [==============================] - 2s - loss: 1.3810 - acc: 0.5915 - val_loss: 1.1848 - val_acc: 0.7847\n",
      "Epoch 78/200\n",
      "48000/48000 [==============================] - 2s - loss: 1.3726 - acc: 0.5900 - val_loss: 1.1721 - val_acc: 0.7867\n",
      "Epoch 79/200\n",
      "48000/48000 [==============================] - 2s - loss: 1.3613 - acc: 0.5923 - val_loss: 1.1595 - val_acc: 0.7891\n",
      "Epoch 80/200\n",
      "48000/48000 [==============================] - 2s - loss: 1.3498 - acc: 0.5964 - val_loss: 1.1471 - val_acc: 0.7907\n",
      "Epoch 81/200\n",
      "48000/48000 [==============================] - 2s - loss: 1.3383 - acc: 0.6012 - val_loss: 1.1349 - val_acc: 0.7928\n",
      "Epoch 82/200\n",
      "48000/48000 [==============================] - 2s - loss: 1.3311 - acc: 0.6013 - val_loss: 1.1229 - val_acc: 0.7943\n",
      "Epoch 83/200\n",
      "48000/48000 [==============================] - 2s - loss: 1.3217 - acc: 0.6049 - val_loss: 1.1111 - val_acc: 0.7964\n",
      "Epoch 84/200\n",
      "48000/48000 [==============================] - 2s - loss: 1.3102 - acc: 0.6074 - val_loss: 1.0995 - val_acc: 0.7989\n",
      "Epoch 85/200\n",
      "48000/48000 [==============================] - 2s - loss: 1.2997 - acc: 0.6095 - val_loss: 1.0881 - val_acc: 0.8001\n",
      "Epoch 86/200\n",
      "48000/48000 [==============================] - 2s - loss: 1.2894 - acc: 0.6134 - val_loss: 1.0768 - val_acc: 0.8014\n",
      "Epoch 87/200\n",
      "48000/48000 [==============================] - 2s - loss: 1.2799 - acc: 0.6150 - val_loss: 1.0658 - val_acc: 0.8022\n",
      "Epoch 88/200\n",
      "48000/48000 [==============================] - 2s - loss: 1.2733 - acc: 0.6181 - val_loss: 1.0549 - val_acc: 0.8039\n",
      "Epoch 89/200\n",
      "48000/48000 [==============================] - 2s - loss: 1.2649 - acc: 0.6205 - val_loss: 1.0443 - val_acc: 0.8057\n",
      "Epoch 90/200\n",
      "48000/48000 [==============================] - 2s - loss: 1.2544 - acc: 0.6215 - val_loss: 1.0338 - val_acc: 0.8077\n",
      "Epoch 91/200\n",
      "48000/48000 [==============================] - 2s - loss: 1.2484 - acc: 0.6231 - val_loss: 1.0236 - val_acc: 0.8100\n",
      "Epoch 92/200\n",
      "48000/48000 [==============================] - 2s - loss: 1.2360 - acc: 0.6294 - val_loss: 1.0134 - val_acc: 0.8118\n",
      "Epoch 93/200\n",
      "48000/48000 [==============================] - 2s - loss: 1.2300 - acc: 0.6284 - val_loss: 1.0036 - val_acc: 0.8128\n",
      "Epoch 94/200\n",
      "48000/48000 [==============================] - 2s - loss: 1.2236 - acc: 0.6314 - val_loss: 0.9939 - val_acc: 0.8145\n",
      "Epoch 95/200\n",
      "48000/48000 [==============================] - 2s - loss: 1.2149 - acc: 0.6315 - val_loss: 0.9844 - val_acc: 0.8157\n",
      "Epoch 96/200\n",
      "48000/48000 [==============================] - 2s - loss: 1.2053 - acc: 0.6352 - val_loss: 0.9750 - val_acc: 0.8165\n",
      "Epoch 97/200\n",
      "48000/48000 [==============================] - 2s - loss: 1.1954 - acc: 0.6378 - val_loss: 0.9658 - val_acc: 0.8183\n",
      "Epoch 98/200\n",
      "48000/48000 [==============================] - 2s - loss: 1.1900 - acc: 0.6380 - val_loss: 0.9569 - val_acc: 0.8194\n",
      "Epoch 99/200\n",
      "48000/48000 [==============================] - 2s - loss: 1.1800 - acc: 0.6445 - val_loss: 0.9479 - val_acc: 0.8201\n",
      "Epoch 100/200\n",
      "48000/48000 [==============================] - 2s - loss: 1.1776 - acc: 0.6406 - val_loss: 0.9393 - val_acc: 0.8212\n",
      "Epoch 101/200\n",
      "48000/48000 [==============================] - 2s - loss: 1.1648 - acc: 0.6478 - val_loss: 0.9308 - val_acc: 0.8219\n",
      "Epoch 102/200\n",
      "48000/48000 [==============================] - 2s - loss: 1.1571 - acc: 0.6472 - val_loss: 0.9224 - val_acc: 0.8233\n",
      "Epoch 103/200\n",
      "48000/48000 [==============================] - 2s - loss: 1.1520 - acc: 0.6505 - val_loss: 0.9142 - val_acc: 0.8243\n",
      "Epoch 104/200\n",
      "48000/48000 [==============================] - 2s - loss: 1.1461 - acc: 0.6512 - val_loss: 0.9062 - val_acc: 0.8253\n",
      "Epoch 105/200\n",
      "48000/48000 [==============================] - 2s - loss: 1.1408 - acc: 0.6539 - val_loss: 0.8983 - val_acc: 0.8263\n",
      "Epoch 106/200\n",
      "48000/48000 [==============================] - 2s - loss: 1.1316 - acc: 0.6554 - val_loss: 0.8905 - val_acc: 0.8268\n",
      "Epoch 107/200\n",
      "48000/48000 [==============================] - 2s - loss: 1.1221 - acc: 0.6591 - val_loss: 0.8828 - val_acc: 0.8282\n",
      "Epoch 108/200\n",
      "48000/48000 [==============================] - 2s - loss: 1.1159 - acc: 0.6591 - val_loss: 0.8754 - val_acc: 0.8292\n",
      "Epoch 109/200\n",
      "48000/48000 [==============================] - 2s - loss: 1.1073 - acc: 0.6640 - val_loss: 0.8681 - val_acc: 0.8300\n",
      "Epoch 110/200\n",
      "48000/48000 [==============================] - 2s - loss: 1.1099 - acc: 0.6603 - val_loss: 0.8610 - val_acc: 0.8307\n",
      "Epoch 111/200\n",
      "48000/48000 [==============================] - 2s - loss: 1.0971 - acc: 0.6637 - val_loss: 0.8539 - val_acc: 0.8312\n",
      "Epoch 112/200\n",
      "48000/48000 [==============================] - 2s - loss: 1.0921 - acc: 0.6659 - val_loss: 0.8470 - val_acc: 0.8320\n",
      "Epoch 113/200\n",
      "48000/48000 [==============================] - 2s - loss: 1.0872 - acc: 0.6702 - val_loss: 0.8403 - val_acc: 0.8328\n",
      "Epoch 114/200\n",
      "48000/48000 [==============================] - 2s - loss: 1.0824 - acc: 0.6692 - val_loss: 0.8337 - val_acc: 0.8343\n",
      "Epoch 115/200\n",
      "48000/48000 [==============================] - 2s - loss: 1.0724 - acc: 0.6718 - val_loss: 0.8272 - val_acc: 0.8358\n",
      "Epoch 116/200\n",
      "48000/48000 [==============================] - 2s - loss: 1.0672 - acc: 0.6718 - val_loss: 0.8208 - val_acc: 0.8369\n",
      "Epoch 117/200\n",
      "48000/48000 [==============================] - 2s - loss: 1.0651 - acc: 0.6730 - val_loss: 0.8146 - val_acc: 0.8373\n",
      "Epoch 118/200\n",
      "48000/48000 [==============================] - 2s - loss: 1.0548 - acc: 0.6771 - val_loss: 0.8084 - val_acc: 0.8374\n",
      "Epoch 119/200\n",
      "48000/48000 [==============================] - 2s - loss: 1.0523 - acc: 0.6759 - val_loss: 0.8023 - val_acc: 0.8379\n",
      "Epoch 120/200\n",
      "48000/48000 [==============================] - 2s - loss: 1.0458 - acc: 0.6801 - val_loss: 0.7965 - val_acc: 0.8383\n",
      "Epoch 121/200\n",
      "48000/48000 [==============================] - 2s - loss: 1.0422 - acc: 0.6778 - val_loss: 0.7908 - val_acc: 0.8388\n",
      "Epoch 122/200\n",
      "48000/48000 [==============================] - 2s - loss: 1.0348 - acc: 0.6819 - val_loss: 0.7851 - val_acc: 0.8396\n",
      "Epoch 123/200\n",
      "48000/48000 [==============================] - 2s - loss: 1.0320 - acc: 0.6825 - val_loss: 0.7795 - val_acc: 0.8397\n",
      "Epoch 124/200\n",
      "48000/48000 [==============================] - 2s - loss: 1.0263 - acc: 0.6849 - val_loss: 0.7740 - val_acc: 0.8401\n",
      "Epoch 125/200\n",
      "48000/48000 [==============================] - 2s - loss: 1.0237 - acc: 0.6841 - val_loss: 0.7686 - val_acc: 0.8404\n",
      "Epoch 126/200\n",
      "48000/48000 [==============================] - 2s - loss: 1.0134 - acc: 0.6879 - val_loss: 0.7634 - val_acc: 0.8413\n",
      "Epoch 127/200\n",
      "48000/48000 [==============================] - 2s - loss: 1.0116 - acc: 0.6873 - val_loss: 0.7582 - val_acc: 0.8417\n",
      "Epoch 128/200\n",
      "48000/48000 [==============================] - 2s - loss: 1.0047 - acc: 0.6916 - val_loss: 0.7532 - val_acc: 0.8427\n",
      "Epoch 129/200\n",
      "48000/48000 [==============================] - 2s - loss: 1.0075 - acc: 0.6872 - val_loss: 0.7482 - val_acc: 0.8430\n",
      "Epoch 130/200\n",
      "48000/48000 [==============================] - 2s - loss: 0.9936 - acc: 0.6946 - val_loss: 0.7433 - val_acc: 0.8433\n",
      "Epoch 131/200\n",
      "48000/48000 [==============================] - 2s - loss: 0.9911 - acc: 0.6941 - val_loss: 0.7385 - val_acc: 0.8435\n",
      "Epoch 132/200\n",
      "48000/48000 [==============================] - 2s - loss: 0.9839 - acc: 0.6971 - val_loss: 0.7337 - val_acc: 0.8442\n",
      "Epoch 133/200\n",
      "48000/48000 [==============================] - 2s - loss: 0.9834 - acc: 0.6967 - val_loss: 0.7291 - val_acc: 0.8447\n",
      "Epoch 134/200\n",
      "48000/48000 [==============================] - 2s - loss: 0.9781 - acc: 0.6974 - val_loss: 0.7246 - val_acc: 0.8451\n",
      "Epoch 135/200\n",
      "48000/48000 [==============================] - 2s - loss: 0.9735 - acc: 0.6986 - val_loss: 0.7201 - val_acc: 0.8455\n",
      "Epoch 136/200\n",
      "48000/48000 [==============================] - 2s - loss: 0.9690 - acc: 0.7018 - val_loss: 0.7157 - val_acc: 0.8461\n",
      "Epoch 137/200\n",
      "48000/48000 [==============================] - 2s - loss: 0.9636 - acc: 0.7022 - val_loss: 0.7113 - val_acc: 0.8468\n",
      "Epoch 138/200\n",
      "48000/48000 [==============================] - 2s - loss: 0.9581 - acc: 0.7036 - val_loss: 0.7070 - val_acc: 0.8469\n",
      "Epoch 139/200\n",
      "48000/48000 [==============================] - 2s - loss: 0.9554 - acc: 0.7045 - val_loss: 0.7029 - val_acc: 0.8473\n",
      "Epoch 140/200\n",
      "48000/48000 [==============================] - 2s - loss: 0.9526 - acc: 0.7046 - val_loss: 0.6988 - val_acc: 0.8478\n",
      "Epoch 141/200\n",
      "48000/48000 [==============================] - 2s - loss: 0.9494 - acc: 0.7036 - val_loss: 0.6947 - val_acc: 0.8480\n",
      "Epoch 142/200\n",
      "48000/48000 [==============================] - 2s - loss: 0.9424 - acc: 0.7073 - val_loss: 0.6907 - val_acc: 0.8483\n",
      "Epoch 143/200\n",
      "48000/48000 [==============================] - 2s - loss: 0.9386 - acc: 0.7129 - val_loss: 0.6868 - val_acc: 0.8485\n",
      "Epoch 144/200\n",
      "48000/48000 [==============================] - 2s - loss: 0.9337 - acc: 0.7113 - val_loss: 0.6830 - val_acc: 0.8493\n",
      "Epoch 145/200\n",
      "48000/48000 [==============================] - 2s - loss: 0.9318 - acc: 0.7117 - val_loss: 0.6792 - val_acc: 0.8494\n",
      "Epoch 146/200\n",
      "48000/48000 [==============================] - 2s - loss: 0.9230 - acc: 0.7160 - val_loss: 0.6754 - val_acc: 0.8501\n",
      "Epoch 147/200\n",
      "48000/48000 [==============================] - 2s - loss: 0.9254 - acc: 0.7146 - val_loss: 0.6718 - val_acc: 0.8504\n",
      "Epoch 148/200\n",
      "48000/48000 [==============================] - 2s - loss: 0.9226 - acc: 0.7145 - val_loss: 0.6682 - val_acc: 0.8509\n",
      "Epoch 149/200\n",
      "48000/48000 [==============================] - 2s - loss: 0.9143 - acc: 0.7187 - val_loss: 0.6646 - val_acc: 0.8516\n",
      "Epoch 150/200\n",
      "48000/48000 [==============================] - 2s - loss: 0.9119 - acc: 0.7181 - val_loss: 0.6612 - val_acc: 0.8518\n",
      "Epoch 151/200\n",
      "48000/48000 [==============================] - 2s - loss: 0.9082 - acc: 0.7174 - val_loss: 0.6577 - val_acc: 0.8520\n",
      "Epoch 152/200\n",
      "48000/48000 [==============================] - 2s - loss: 0.9042 - acc: 0.7215 - val_loss: 0.6543 - val_acc: 0.8522\n",
      "Epoch 153/200\n",
      "48000/48000 [==============================] - 2s - loss: 0.9011 - acc: 0.7201 - val_loss: 0.6509 - val_acc: 0.8526\n",
      "Epoch 154/200\n",
      "48000/48000 [==============================] - 2s - loss: 0.9017 - acc: 0.7211 - val_loss: 0.6477 - val_acc: 0.8528\n",
      "Epoch 155/200\n",
      "48000/48000 [==============================] - 2s - loss: 0.8985 - acc: 0.7212 - val_loss: 0.6445 - val_acc: 0.8531\n",
      "Epoch 156/200\n",
      "48000/48000 [==============================] - 2s - loss: 0.8947 - acc: 0.7231 - val_loss: 0.6413 - val_acc: 0.8537\n",
      "Epoch 157/200\n",
      "48000/48000 [==============================] - 2s - loss: 0.8863 - acc: 0.7247 - val_loss: 0.6381 - val_acc: 0.8538\n",
      "Epoch 158/200\n",
      "48000/48000 [==============================] - 2s - loss: 0.8894 - acc: 0.7247 - val_loss: 0.6351 - val_acc: 0.8544\n",
      "Epoch 159/200\n",
      "48000/48000 [==============================] - 2s - loss: 0.8825 - acc: 0.7267 - val_loss: 0.6321 - val_acc: 0.8550\n",
      "Epoch 160/200\n",
      "48000/48000 [==============================] - 2s - loss: 0.8752 - acc: 0.7290 - val_loss: 0.6290 - val_acc: 0.8552\n",
      "Epoch 161/200\n",
      "48000/48000 [==============================] - 2s - loss: 0.8782 - acc: 0.7264 - val_loss: 0.6261 - val_acc: 0.8559\n",
      "Epoch 162/200\n",
      "48000/48000 [==============================] - 2s - loss: 0.8734 - acc: 0.7291 - val_loss: 0.6232 - val_acc: 0.8562\n",
      "Epoch 163/200\n",
      "48000/48000 [==============================] - 2s - loss: 0.8693 - acc: 0.7282 - val_loss: 0.6204 - val_acc: 0.8564\n",
      "Epoch 164/200\n",
      "48000/48000 [==============================] - 2s - loss: 0.8692 - acc: 0.7303 - val_loss: 0.6176 - val_acc: 0.8567\n",
      "Epoch 165/200\n",
      "48000/48000 [==============================] - 2s - loss: 0.8657 - acc: 0.7288 - val_loss: 0.6148 - val_acc: 0.8569\n",
      "Epoch 166/200\n",
      "48000/48000 [==============================] - 2s - loss: 0.8585 - acc: 0.7364 - val_loss: 0.6120 - val_acc: 0.8576\n",
      "Epoch 167/200\n",
      "48000/48000 [==============================] - 2s - loss: 0.8560 - acc: 0.7350 - val_loss: 0.6093 - val_acc: 0.8585\n",
      "Epoch 168/200\n",
      "48000/48000 [==============================] - 2s - loss: 0.8573 - acc: 0.7328 - val_loss: 0.6066 - val_acc: 0.8587\n",
      "Epoch 169/200\n",
      "48000/48000 [==============================] - 2s - loss: 0.8563 - acc: 0.7334 - val_loss: 0.6040 - val_acc: 0.8592\n",
      "Epoch 170/200\n",
      "48000/48000 [==============================] - 2s - loss: 0.8473 - acc: 0.7367 - val_loss: 0.6014 - val_acc: 0.8597\n",
      "Epoch 171/200\n",
      "48000/48000 [==============================] - 2s - loss: 0.8481 - acc: 0.7347 - val_loss: 0.5989 - val_acc: 0.8597\n",
      "Epoch 172/200\n",
      "48000/48000 [==============================] - 2s - loss: 0.8456 - acc: 0.7381 - val_loss: 0.5964 - val_acc: 0.8604\n",
      "Epoch 173/200\n",
      "48000/48000 [==============================] - 2s - loss: 0.8431 - acc: 0.7385 - val_loss: 0.5939 - val_acc: 0.8606\n",
      "Epoch 174/200\n",
      "48000/48000 [==============================] - 2s - loss: 0.8425 - acc: 0.7366 - val_loss: 0.5915 - val_acc: 0.8607\n",
      "Epoch 175/200\n",
      "48000/48000 [==============================] - 2s - loss: 0.8357 - acc: 0.7404 - val_loss: 0.5891 - val_acc: 0.8612\n",
      "Epoch 176/200\n",
      "48000/48000 [==============================] - 2s - loss: 0.8333 - acc: 0.7411 - val_loss: 0.5867 - val_acc: 0.8617\n",
      "Epoch 177/200\n",
      "48000/48000 [==============================] - 2s - loss: 0.8301 - acc: 0.7452 - val_loss: 0.5843 - val_acc: 0.8624\n",
      "Epoch 178/200\n",
      "48000/48000 [==============================] - 2s - loss: 0.8316 - acc: 0.7419 - val_loss: 0.5820 - val_acc: 0.8625\n",
      "Epoch 179/200\n",
      "48000/48000 [==============================] - 2s - loss: 0.8238 - acc: 0.7448 - val_loss: 0.5797 - val_acc: 0.8627\n",
      "Epoch 180/200\n",
      "48000/48000 [==============================] - 2s - loss: 0.8226 - acc: 0.7452 - val_loss: 0.5774 - val_acc: 0.8637\n",
      "Epoch 181/200\n",
      "48000/48000 [==============================] - 2s - loss: 0.8197 - acc: 0.7446 - val_loss: 0.5752 - val_acc: 0.8640\n",
      "Epoch 182/200\n",
      "48000/48000 [==============================] - 2s - loss: 0.8155 - acc: 0.7475 - val_loss: 0.5730 - val_acc: 0.8642\n",
      "Epoch 183/200\n",
      "48000/48000 [==============================] - 2s - loss: 0.8136 - acc: 0.7489 - val_loss: 0.5708 - val_acc: 0.8644\n",
      "Epoch 184/200\n",
      "48000/48000 [==============================] - 2s - loss: 0.8137 - acc: 0.7488 - val_loss: 0.5686 - val_acc: 0.8649\n",
      "Epoch 185/200\n",
      "48000/48000 [==============================] - 2s - loss: 0.8140 - acc: 0.7500 - val_loss: 0.5664 - val_acc: 0.8654\n",
      "Epoch 186/200\n",
      "48000/48000 [==============================] - 2s - loss: 0.8114 - acc: 0.7498 - val_loss: 0.5644 - val_acc: 0.8657\n",
      "Epoch 187/200\n",
      "48000/48000 [==============================] - 2s - loss: 0.8070 - acc: 0.7506 - val_loss: 0.5623 - val_acc: 0.8661\n",
      "Epoch 188/200\n",
      "48000/48000 [==============================] - 2s - loss: 0.8054 - acc: 0.7507 - val_loss: 0.5603 - val_acc: 0.8662\n",
      "Epoch 189/200\n",
      "48000/48000 [==============================] - 2s - loss: 0.8044 - acc: 0.7516 - val_loss: 0.5583 - val_acc: 0.8666\n",
      "Epoch 190/200\n",
      "48000/48000 [==============================] - 2s - loss: 0.8001 - acc: 0.7528 - val_loss: 0.5563 - val_acc: 0.8672\n",
      "Epoch 191/200\n",
      "48000/48000 [==============================] - 2s - loss: 0.7931 - acc: 0.7547 - val_loss: 0.5543 - val_acc: 0.8673\n",
      "Epoch 192/200\n",
      "48000/48000 [==============================] - 2s - loss: 0.7997 - acc: 0.7497 - val_loss: 0.5524 - val_acc: 0.8677\n",
      "Epoch 193/200\n",
      "48000/48000 [==============================] - 2s - loss: 0.7930 - acc: 0.7555 - val_loss: 0.5505 - val_acc: 0.8677\n",
      "Epoch 194/200\n",
      "48000/48000 [==============================] - 2s - loss: 0.7856 - acc: 0.7573 - val_loss: 0.5486 - val_acc: 0.8680\n",
      "Epoch 195/200\n",
      "48000/48000 [==============================] - 2s - loss: 0.7869 - acc: 0.7567 - val_loss: 0.5467 - val_acc: 0.8687\n",
      "Epoch 196/200\n",
      "48000/48000 [==============================] - 2s - loss: 0.7864 - acc: 0.7564 - val_loss: 0.5448 - val_acc: 0.8687\n",
      "Epoch 197/200\n",
      "48000/48000 [==============================] - 2s - loss: 0.7808 - acc: 0.7584 - val_loss: 0.5430 - val_acc: 0.8692\n",
      "Epoch 198/200\n",
      "48000/48000 [==============================] - 2s - loss: 0.7850 - acc: 0.7563 - val_loss: 0.5412 - val_acc: 0.8697\n",
      "Epoch 199/200\n",
      "48000/48000 [==============================] - 2s - loss: 0.7781 - acc: 0.7595 - val_loss: 0.5394 - val_acc: 0.8699\n",
      "Epoch 200/200\n",
      "48000/48000 [==============================] - 2s - loss: 0.7772 - acc: 0.7596 - val_loss: 0.5377 - val_acc: 0.8704\n"
     ]
    }
   ],
   "source": [
    "time_start = time.clock()\n",
    "history = model.fit(X_train, y_train,\n",
    "                    batch_size=128,\n",
    "                    epochs=200,\n",
    "                    verbose=1,\n",
    "                    validation_split=0.2)\n",
    "time_end = time.clock()"
   ]
  },
  {
   "cell_type": "code",
   "execution_count": 10,
   "metadata": {
    "collapsed": true
   },
   "outputs": [],
   "source": [
    "time_end = time.clock()"
   ]
  },
  {
   "cell_type": "code",
   "execution_count": 11,
   "metadata": {
    "collapsed": false
   },
   "outputs": [
    {
     "name": "stdout",
     "output_type": "stream",
     "text": [
      "Time to train\n",
      "Time elapsed in seconds : 457\n",
      "Time elapsed in minutes : 7.6\n",
      "Time elapsed in hours   : 0.1\n"
     ]
    }
   ],
   "source": [
    "duration = time_end - time_start\n",
    "print(\"Time to train\")\n",
    "print(\"Time elapsed in seconds : %.0f\" % duration)\n",
    "print(\"Time elapsed in minutes : %.1f\" % (duration/60))\n",
    "print(\"Time elapsed in hours   : %.1f\" % (duration/3600))"
   ]
  },
  {
   "cell_type": "code",
   "execution_count": 12,
   "metadata": {
    "collapsed": false
   },
   "outputs": [
    {
     "name": "stdout",
     "output_type": "stream",
     "text": [
      " 9152/10000 [==========================>...] - ETA: 0s\n",
      "Test score: 0.538418123245\n",
      "Test accuracy: 0.8673\n"
     ]
    }
   ],
   "source": [
    "score = model.evaluate(X_test, y_test,\n",
    "                       verbose=1)\n",
    "print(\"\")\n",
    "print(\"Test score:\", score[0])\n",
    "print(\"Test accuracy:\", score[1])"
   ]
  },
  {
   "cell_type": "code",
   "execution_count": 13,
   "metadata": {
    "collapsed": false
   },
   "outputs": [
    {
     "name": "stdout",
     "output_type": "stream",
     "text": [
      "dict_keys(['val_loss', 'acc', 'loss', 'val_acc'])\n"
     ]
    }
   ],
   "source": [
    "# list all data in history\n",
    "print(history.history.keys())"
   ]
  },
  {
   "cell_type": "code",
   "execution_count": 14,
   "metadata": {
    "collapsed": false
   },
   "outputs": [
    {
     "data": {
      "image/png": "[encoded data removed]",
      "text/plain": [
       "<matplotlib.figure.Figure at 0x1639c00d4e0>"
      ]
     },
     "metadata": {},
     "output_type": "display_data"
    }
   ],
   "source": [
    "# Accuracy\n",
    "plt.plot(history.history[\"acc\"])\n",
    "plt.plot(history.history[\"val_acc\"])\n",
    "plt.title(\"model accuracy\")\n",
    "plt.ylabel(\"accuracy\")\n",
    "plt.xlabel(\"epoch\")\n",
    "plt.legend([\"train\", \"test\"], loc=\"lower left\")\n",
    "plt.show()"
   ]
  },
  {
   "cell_type": "code",
   "execution_count": 15,
   "metadata": {
    "collapsed": false
   },
   "outputs": [
    {
     "data": {
      "image/png": "[encoded data removed]",
      "text/plain": [
       "<matplotlib.figure.Figure at 0x1639c061240>"
      ]
     },
     "metadata": {},
     "output_type": "display_data"
    }
   ],
   "source": [
    "# Loss\n",
    "plt.plot(history.history[\"loss\"])\n",
    "plt.plot(history.history[\"val_loss\"])\n",
    "plt.title(\"model loss\")\n",
    "plt.ylabel(\"loss\")\n",
    "plt.xlabel(\"epoch\")\n",
    "plt.legend([\"train\", \"test\"], loc=\"upper left\")\n",
    "plt.show()"
   ]
  }
 ],
 "metadata": {
  "anaconda-cloud": {},
  "kernelspec": {
   "display_name": "Python [default]",
   "language": "python",
   "name": "python3"
  },
  "language_info": {
   "codemirror_mode": {
    "name": "ipython",
    "version": 3
   },
   "file_extension": ".py",
   "mimetype": "text/x-python",
   "name": "python",
   "nbconvert_exporter": "python",
   "pygments_lexer": "ipython3",
   "version": "3.5.2"
  }
 },
 "nbformat": 4,
 "nbformat_minor": 1
}
