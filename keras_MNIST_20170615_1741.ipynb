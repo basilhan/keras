{
 "cells": [
  {
   "cell_type": "code",
   "execution_count": 1,
   "metadata": {
    "collapsed": false
   },
   "outputs": [
    {
     "name": "stderr",
     "output_type": "stream",
     "text": [
      "Using TensorFlow backend.\n"
     ]
    }
   ],
   "source": [
    "import numpy as np\n",
    "import matplotlib.pyplot as plt\n",
    "import time\n",
    "from keras.datasets import mnist\n",
    "from keras.models import Sequential\n",
    "from keras.layers.core import Dense, Dropout, Activation\n",
    "from keras.optimizers import SGD, Adam, RMSprop\n",
    "from keras.utils import np_utils\n",
    "from tensorflow import set_random_seed"
   ]
  },
  {
   "cell_type": "code",
   "execution_count": 2,
   "metadata": {
    "collapsed": false
   },
   "outputs": [],
   "source": [
    "np.random.seed(2015)\n",
    "set_random_seed(2015)"
   ]
  },
  {
   "cell_type": "code",
   "execution_count": 3,
   "metadata": {
    "collapsed": false
   },
   "outputs": [],
   "source": [
    "# Load data\n",
    "(X_train, y_train), (X_test, y_test) = mnist.load_data()"
   ]
  },
  {
   "cell_type": "code",
   "execution_count": 4,
   "metadata": {
    "collapsed": false
   },
   "outputs": [
    {
     "name": "stdout",
     "output_type": "stream",
     "text": [
      "60000 training samples\n",
      "10000 testing samples\n"
     ]
    }
   ],
   "source": [
    "# Preprocessing\n",
    "X_train = X_train.reshape(60000, 784)\n",
    "X_test  = X_test.reshape(10000, 784)\n",
    "X_train = X_train.astype(\"float32\")\n",
    "X_test  = X_test.astype(\"float32\")\n",
    "X_train /= 255\n",
    "X_test  /= 255\n",
    "print(X_train.shape[0], \"training samples\")\n",
    "print(X_test.shape[0], \"testing samples\")"
   ]
  },
  {
   "cell_type": "code",
   "execution_count": 5,
   "metadata": {
    "collapsed": true
   },
   "outputs": [],
   "source": [
    "# Convert labels to one-hot coding\n",
    "# e.g. 1 -> array([ 0.,  1.,  0.,  0.,  0.,  0.,  0.,  0.,  0.,  0.])\n",
    "y_train = np_utils.to_categorical(y_train, 10)\n",
    "y_test = np_utils.to_categorical(y_test, 10)"
   ]
  },
  {
   "cell_type": "markdown",
   "metadata": {},
   "source": [
    "The argument *input_dim* is equivalent to *input_shape* ([reference](https://keras.io/getting-started/sequential-model-guide/))."
   ]
  },
  {
   "cell_type": "code",
   "execution_count": 6,
   "metadata": {
    "collapsed": false
   },
   "outputs": [],
   "source": [
    "# Define the model\n",
    "model = Sequential([\n",
    "        Dense(128, input_dim=784), Activation(\"relu\"), Dropout(0.3),\n",
    "        Dense(128), Activation(\"relu\"), Dropout(0.3),\n",
    "        Dense(10), Activation(\"softmax\")\n",
    "    ])"
   ]
  },
  {
   "cell_type": "code",
   "execution_count": 7,
   "metadata": {
    "collapsed": false
   },
   "outputs": [
    {
     "name": "stdout",
     "output_type": "stream",
     "text": [
      "_________________________________________________________________\n",
      "Layer (type)                 Output Shape              Param #   \n",
      "=================================================================\n",
      "dense_1 (Dense)              (None, 128)               100480    \n",
      "_________________________________________________________________\n",
      "activation_1 (Activation)    (None, 128)               0         \n",
      "_________________________________________________________________\n",
      "dropout_1 (Dropout)          (None, 128)               0         \n",
      "_________________________________________________________________\n",
      "dense_2 (Dense)              (None, 128)               16512     \n",
      "_________________________________________________________________\n",
      "activation_2 (Activation)    (None, 128)               0         \n",
      "_________________________________________________________________\n",
      "dropout_2 (Dropout)          (None, 128)               0         \n",
      "_________________________________________________________________\n",
      "dense_3 (Dense)              (None, 10)                1290      \n",
      "_________________________________________________________________\n",
      "activation_3 (Activation)    (None, 10)                0         \n",
      "=================================================================\n",
      "Total params: 118,282\n",
      "Trainable params: 118,282\n",
      "Non-trainable params: 0\n",
      "_________________________________________________________________\n"
     ]
    }
   ],
   "source": [
    "model.summary()"
   ]
  },
  {
   "cell_type": "code",
   "execution_count": 8,
   "metadata": {
    "collapsed": true
   },
   "outputs": [],
   "source": [
    "model.compile(loss=\"categorical_crossentropy\",\n",
    "              optimizer=SGD(momentum=0.2),\n",
    "              metrics=[\"accuracy\"])"
   ]
  },
  {
   "cell_type": "code",
   "execution_count": 9,
   "metadata": {
    "collapsed": false
   },
   "outputs": [
    {
     "name": "stdout",
     "output_type": "stream",
     "text": [
      "Train on 48000 samples, validate on 12000 samples\n",
      "Epoch 1/200\n",
      "48000/48000 [==============================] - 2s - loss: 1.6114 - acc: 0.4846 - val_loss: 0.7782 - val_acc: 0.8388\n",
      "Epoch 2/200\n",
      "48000/48000 [==============================] - 2s - loss: 0.8247 - acc: 0.7434 - val_loss: 0.4716 - val_acc: 0.8793\n",
      "Epoch 3/200\n",
      "48000/48000 [==============================] - 2s - loss: 0.6284 - acc: 0.8074 - val_loss: 0.3845 - val_acc: 0.8943\n",
      "Epoch 4/200\n",
      "48000/48000 [==============================] - 2s - loss: 0.5430 - acc: 0.8368 - val_loss: 0.3404 - val_acc: 0.9036\n",
      "Epoch 5/200\n",
      "48000/48000 [==============================] - 2s - loss: 0.4841 - acc: 0.8544 - val_loss: 0.3128 - val_acc: 0.9115\n",
      "Epoch 6/200\n",
      "48000/48000 [==============================] - 2s - loss: 0.4462 - acc: 0.8669 - val_loss: 0.2909 - val_acc: 0.9161\n",
      "Epoch 7/200\n",
      "48000/48000 [==============================] - 2s - loss: 0.4196 - acc: 0.8746 - val_loss: 0.2755 - val_acc: 0.9195\n",
      "Epoch 8/200\n",
      "48000/48000 [==============================] - 2s - loss: 0.3932 - acc: 0.8844 - val_loss: 0.2602 - val_acc: 0.9240\n",
      "Epoch 9/200\n",
      "48000/48000 [==============================] - 2s - loss: 0.3772 - acc: 0.8866 - val_loss: 0.2488 - val_acc: 0.9280\n",
      "Epoch 10/200\n",
      "48000/48000 [==============================] - 2s - loss: 0.3591 - acc: 0.8941 - val_loss: 0.2392 - val_acc: 0.9312\n",
      "Epoch 11/200\n",
      "48000/48000 [==============================] - 2s - loss: 0.3434 - acc: 0.9004 - val_loss: 0.2297 - val_acc: 0.9344\n",
      "Epoch 12/200\n",
      "48000/48000 [==============================] - 2s - loss: 0.3337 - acc: 0.9016 - val_loss: 0.2203 - val_acc: 0.9361\n",
      "Epoch 13/200\n",
      "48000/48000 [==============================] - 2s - loss: 0.3178 - acc: 0.9068 - val_loss: 0.2120 - val_acc: 0.9385\n",
      "Epoch 14/200\n",
      "48000/48000 [==============================] - 2s - loss: 0.3100 - acc: 0.9094 - val_loss: 0.2066 - val_acc: 0.9403\n",
      "Epoch 15/200\n",
      "48000/48000 [==============================] - 2s - loss: 0.2975 - acc: 0.9131 - val_loss: 0.1987 - val_acc: 0.9420\n",
      "Epoch 16/200\n",
      "48000/48000 [==============================] - 2s - loss: 0.2886 - acc: 0.9160 - val_loss: 0.1943 - val_acc: 0.9433\n",
      "Epoch 17/200\n",
      "48000/48000 [==============================] - 2s - loss: 0.2810 - acc: 0.9169 - val_loss: 0.1881 - val_acc: 0.9456\n",
      "Epoch 18/200\n",
      "48000/48000 [==============================] - 2s - loss: 0.2710 - acc: 0.9208 - val_loss: 0.1834 - val_acc: 0.9472\n",
      "Epoch 19/200\n",
      "48000/48000 [==============================] - 2s - loss: 0.2686 - acc: 0.9219 - val_loss: 0.1788 - val_acc: 0.9492\n",
      "Epoch 20/200\n",
      "48000/48000 [==============================] - 2s - loss: 0.2584 - acc: 0.9242 - val_loss: 0.1752 - val_acc: 0.9494\n",
      "Epoch 21/200\n",
      "48000/48000 [==============================] - 2s - loss: 0.2522 - acc: 0.9248 - val_loss: 0.1710 - val_acc: 0.9509\n",
      "Epoch 22/200\n",
      "48000/48000 [==============================] - 2s - loss: 0.2466 - acc: 0.9274 - val_loss: 0.1680 - val_acc: 0.9512\n",
      "Epoch 23/200\n",
      "48000/48000 [==============================] - 2s - loss: 0.2413 - acc: 0.9285 - val_loss: 0.1636 - val_acc: 0.9523\n",
      "Epoch 24/200\n",
      "48000/48000 [==============================] - 2s - loss: 0.2379 - acc: 0.9302 - val_loss: 0.1602 - val_acc: 0.9537\n",
      "Epoch 25/200\n",
      "48000/48000 [==============================] - 2s - loss: 0.2309 - acc: 0.9321 - val_loss: 0.1578 - val_acc: 0.9553\n",
      "Epoch 26/200\n",
      "48000/48000 [==============================] - 2s - loss: 0.2310 - acc: 0.9330 - val_loss: 0.1551 - val_acc: 0.9546\n",
      "Epoch 27/200\n",
      "48000/48000 [==============================] - 2s - loss: 0.2217 - acc: 0.9344 - val_loss: 0.1515 - val_acc: 0.9555\n",
      "Epoch 28/200\n",
      "48000/48000 [==============================] - 2s - loss: 0.2192 - acc: 0.9353 - val_loss: 0.1494 - val_acc: 0.9565\n",
      "Epoch 29/200\n",
      "48000/48000 [==============================] - 2s - loss: 0.2187 - acc: 0.9353 - val_loss: 0.1475 - val_acc: 0.9567\n",
      "Epoch 30/200\n",
      "48000/48000 [==============================] - 2s - loss: 0.2119 - acc: 0.9390 - val_loss: 0.1450 - val_acc: 0.9581\n",
      "Epoch 31/200\n",
      "48000/48000 [==============================] - 2s - loss: 0.2044 - acc: 0.9397 - val_loss: 0.1427 - val_acc: 0.9579\n",
      "Epoch 32/200\n",
      "48000/48000 [==============================] - 2s - loss: 0.2013 - acc: 0.9396 - val_loss: 0.1402 - val_acc: 0.9592\n",
      "Epoch 33/200\n",
      "48000/48000 [==============================] - 2s - loss: 0.2007 - acc: 0.9408 - val_loss: 0.1376 - val_acc: 0.9594\n",
      "Epoch 34/200\n",
      "48000/48000 [==============================] - 2s - loss: 0.1942 - acc: 0.9426 - val_loss: 0.1353 - val_acc: 0.9610\n",
      "Epoch 35/200\n",
      "48000/48000 [==============================] - 2s - loss: 0.1937 - acc: 0.9417 - val_loss: 0.1345 - val_acc: 0.9601\n",
      "Epoch 36/200\n",
      "48000/48000 [==============================] - 2s - loss: 0.1911 - acc: 0.9440 - val_loss: 0.1326 - val_acc: 0.9612\n",
      "Epoch 37/200\n",
      "48000/48000 [==============================] - 2s - loss: 0.1911 - acc: 0.9426 - val_loss: 0.1315 - val_acc: 0.9613\n",
      "Epoch 38/200\n",
      "48000/48000 [==============================] - 2s - loss: 0.1871 - acc: 0.9444 - val_loss: 0.1296 - val_acc: 0.9625\n",
      "Epoch 39/200\n",
      "48000/48000 [==============================] - 2s - loss: 0.1820 - acc: 0.9460 - val_loss: 0.1285 - val_acc: 0.9629\n",
      "Epoch 40/200\n",
      "48000/48000 [==============================] - 2s - loss: 0.1811 - acc: 0.9464 - val_loss: 0.1262 - val_acc: 0.9640\n",
      "Epoch 41/200\n",
      "48000/48000 [==============================] - 2s - loss: 0.1777 - acc: 0.9466 - val_loss: 0.1251 - val_acc: 0.9637\n",
      "Epoch 42/200\n",
      "48000/48000 [==============================] - 2s - loss: 0.1758 - acc: 0.9478 - val_loss: 0.1232 - val_acc: 0.9641\n",
      "Epoch 43/200\n",
      "48000/48000 [==============================] - 2s - loss: 0.1745 - acc: 0.9473 - val_loss: 0.1212 - val_acc: 0.9641\n",
      "Epoch 44/200\n",
      "48000/48000 [==============================] - 2s - loss: 0.1732 - acc: 0.9490 - val_loss: 0.1210 - val_acc: 0.9636\n",
      "Epoch 45/200\n",
      "48000/48000 [==============================] - 2s - loss: 0.1671 - acc: 0.9503 - val_loss: 0.1193 - val_acc: 0.9655\n",
      "Epoch 46/200\n",
      "48000/48000 [==============================] - 2s - loss: 0.1674 - acc: 0.9496 - val_loss: 0.1180 - val_acc: 0.9655\n",
      "Epoch 47/200\n",
      "48000/48000 [==============================] - 2s - loss: 0.1633 - acc: 0.9522 - val_loss: 0.1179 - val_acc: 0.9651\n",
      "Epoch 48/200\n",
      "48000/48000 [==============================] - 2s - loss: 0.1629 - acc: 0.9521 - val_loss: 0.1169 - val_acc: 0.9663\n",
      "Epoch 49/200\n",
      "48000/48000 [==============================] - 2s - loss: 0.1632 - acc: 0.9525 - val_loss: 0.1157 - val_acc: 0.9669\n",
      "Epoch 50/200\n",
      "48000/48000 [==============================] - 2s - loss: 0.1579 - acc: 0.9529 - val_loss: 0.1142 - val_acc: 0.9665\n",
      "Epoch 51/200\n",
      "48000/48000 [==============================] - 2s - loss: 0.1559 - acc: 0.9538 - val_loss: 0.1131 - val_acc: 0.9669\n",
      "Epoch 52/200\n",
      "48000/48000 [==============================] - 2s - loss: 0.1568 - acc: 0.9532 - val_loss: 0.1120 - val_acc: 0.9673\n",
      "Epoch 53/200\n",
      "48000/48000 [==============================] - 2s - loss: 0.1535 - acc: 0.9538 - val_loss: 0.1115 - val_acc: 0.9674\n",
      "Epoch 54/200\n",
      "48000/48000 [==============================] - 2s - loss: 0.1501 - acc: 0.9556 - val_loss: 0.1104 - val_acc: 0.9675\n",
      "Epoch 55/200\n",
      "48000/48000 [==============================] - 2s - loss: 0.1528 - acc: 0.9541 - val_loss: 0.1092 - val_acc: 0.9676\n",
      "Epoch 56/200\n",
      "48000/48000 [==============================] - 2s - loss: 0.1521 - acc: 0.9547 - val_loss: 0.1087 - val_acc: 0.9680\n",
      "Epoch 57/200\n",
      "48000/48000 [==============================] - 2s - loss: 0.1489 - acc: 0.9562 - val_loss: 0.1083 - val_acc: 0.9683\n",
      "Epoch 58/200\n",
      "48000/48000 [==============================] - 2s - loss: 0.1470 - acc: 0.9559 - val_loss: 0.1081 - val_acc: 0.9680\n",
      "Epoch 59/200\n",
      "48000/48000 [==============================] - 2s - loss: 0.1430 - acc: 0.9573 - val_loss: 0.1068 - val_acc: 0.9683\n",
      "Epoch 60/200\n",
      "48000/48000 [==============================] - 2s - loss: 0.1439 - acc: 0.9574 - val_loss: 0.1058 - val_acc: 0.9693\n",
      "Epoch 61/200\n",
      "48000/48000 [==============================] - 2s - loss: 0.1443 - acc: 0.9576 - val_loss: 0.1056 - val_acc: 0.9690\n",
      "Epoch 62/200\n",
      "48000/48000 [==============================] - 2s - loss: 0.1403 - acc: 0.9592 - val_loss: 0.1052 - val_acc: 0.9693\n",
      "Epoch 63/200\n",
      "48000/48000 [==============================] - 3s - loss: 0.1401 - acc: 0.9585 - val_loss: 0.1043 - val_acc: 0.9691\n",
      "Epoch 64/200\n",
      "48000/48000 [==============================] - 2s - loss: 0.1372 - acc: 0.9589 - val_loss: 0.1042 - val_acc: 0.9698\n",
      "Epoch 65/200\n",
      "48000/48000 [==============================] - 2s - loss: 0.1366 - acc: 0.9593 - val_loss: 0.1032 - val_acc: 0.9693\n",
      "Epoch 66/200\n",
      "48000/48000 [==============================] - 2s - loss: 0.1379 - acc: 0.9591 - val_loss: 0.1020 - val_acc: 0.9700\n",
      "Epoch 67/200\n",
      "48000/48000 [==============================] - 2s - loss: 0.1348 - acc: 0.9608 - val_loss: 0.1014 - val_acc: 0.9697\n",
      "Epoch 68/200\n",
      "48000/48000 [==============================] - 2s - loss: 0.1333 - acc: 0.9603 - val_loss: 0.1009 - val_acc: 0.9702\n",
      "Epoch 69/200\n",
      "48000/48000 [==============================] - 2s - loss: 0.1333 - acc: 0.9607 - val_loss: 0.1004 - val_acc: 0.9704\n",
      "Epoch 70/200\n",
      "48000/48000 [==============================] - 3s - loss: 0.1313 - acc: 0.9610 - val_loss: 0.0997 - val_acc: 0.9705\n",
      "Epoch 71/200\n",
      "48000/48000 [==============================] - 2s - loss: 0.1278 - acc: 0.9613 - val_loss: 0.0997 - val_acc: 0.9711\n",
      "Epoch 72/200\n",
      "48000/48000 [==============================] - 2s - loss: 0.1274 - acc: 0.9621 - val_loss: 0.0991 - val_acc: 0.9709\n",
      "Epoch 73/200\n",
      "48000/48000 [==============================] - 2s - loss: 0.1292 - acc: 0.9610 - val_loss: 0.0983 - val_acc: 0.9713\n",
      "Epoch 74/200\n",
      "48000/48000 [==============================] - 2s - loss: 0.1269 - acc: 0.9613 - val_loss: 0.0981 - val_acc: 0.9709\n",
      "Epoch 75/200\n",
      "48000/48000 [==============================] - 2s - loss: 0.1250 - acc: 0.9626 - val_loss: 0.0977 - val_acc: 0.9710\n",
      "Epoch 76/200\n",
      "48000/48000 [==============================] - 3s - loss: 0.1272 - acc: 0.9625 - val_loss: 0.0976 - val_acc: 0.9709\n",
      "Epoch 77/200\n",
      "48000/48000 [==============================] - 2s - loss: 0.1210 - acc: 0.9632 - val_loss: 0.0975 - val_acc: 0.9708\n",
      "Epoch 78/200\n",
      "48000/48000 [==============================] - 2s - loss: 0.1196 - acc: 0.9644 - val_loss: 0.0958 - val_acc: 0.9719\n",
      "Epoch 79/200\n",
      "48000/48000 [==============================] - 2s - loss: 0.1210 - acc: 0.9642 - val_loss: 0.0959 - val_acc: 0.9714\n",
      "Epoch 80/200\n",
      "48000/48000 [==============================] - 2s - loss: 0.1221 - acc: 0.9631 - val_loss: 0.0947 - val_acc: 0.9720\n",
      "Epoch 81/200\n",
      "48000/48000 [==============================] - 2s - loss: 0.1203 - acc: 0.9645 - val_loss: 0.0950 - val_acc: 0.9715\n",
      "Epoch 82/200\n",
      "48000/48000 [==============================] - 2s - loss: 0.1191 - acc: 0.9647 - val_loss: 0.0945 - val_acc: 0.9722\n",
      "Epoch 83/200\n",
      "48000/48000 [==============================] - 2s - loss: 0.1170 - acc: 0.9645 - val_loss: 0.0942 - val_acc: 0.9722\n",
      "Epoch 84/200\n",
      "48000/48000 [==============================] - 2s - loss: 0.1152 - acc: 0.9663 - val_loss: 0.0943 - val_acc: 0.9731\n",
      "Epoch 85/200\n",
      "48000/48000 [==============================] - 2s - loss: 0.1162 - acc: 0.9655 - val_loss: 0.0937 - val_acc: 0.9722\n",
      "Epoch 86/200\n",
      "48000/48000 [==============================] - 2s - loss: 0.1145 - acc: 0.9655 - val_loss: 0.0932 - val_acc: 0.9721\n",
      "Epoch 87/200\n",
      "48000/48000 [==============================] - 2s - loss: 0.1142 - acc: 0.9659 - val_loss: 0.0929 - val_acc: 0.9723\n",
      "Epoch 88/200\n",
      "48000/48000 [==============================] - 2s - loss: 0.1148 - acc: 0.9660 - val_loss: 0.0920 - val_acc: 0.9728\n",
      "Epoch 89/200\n",
      "48000/48000 [==============================] - 2s - loss: 0.1119 - acc: 0.9673 - val_loss: 0.0923 - val_acc: 0.9725\n",
      "Epoch 90/200\n",
      "48000/48000 [==============================] - 3s - loss: 0.1111 - acc: 0.9669 - val_loss: 0.0915 - val_acc: 0.9733\n",
      "Epoch 91/200\n",
      "48000/48000 [==============================] - 2s - loss: 0.1125 - acc: 0.9658 - val_loss: 0.0913 - val_acc: 0.9728\n",
      "Epoch 92/200\n",
      "48000/48000 [==============================] - 2s - loss: 0.1116 - acc: 0.9667 - val_loss: 0.0907 - val_acc: 0.9731\n",
      "Epoch 93/200\n",
      "48000/48000 [==============================] - 3s - loss: 0.1082 - acc: 0.9671 - val_loss: 0.0909 - val_acc: 0.9728\n",
      "Epoch 94/200\n",
      "48000/48000 [==============================] - 2s - loss: 0.1088 - acc: 0.9674 - val_loss: 0.0902 - val_acc: 0.9738\n",
      "Epoch 95/200\n",
      "48000/48000 [==============================] - 2s - loss: 0.1093 - acc: 0.9669 - val_loss: 0.0901 - val_acc: 0.9740\n",
      "Epoch 96/200\n",
      "48000/48000 [==============================] - 2s - loss: 0.1086 - acc: 0.9671 - val_loss: 0.0899 - val_acc: 0.9738\n",
      "Epoch 97/200\n",
      "48000/48000 [==============================] - 2s - loss: 0.1073 - acc: 0.9680 - val_loss: 0.0898 - val_acc: 0.9733\n",
      "Epoch 98/200\n",
      "48000/48000 [==============================] - 2s - loss: 0.1068 - acc: 0.9687 - val_loss: 0.0889 - val_acc: 0.9741\n",
      "Epoch 99/200\n",
      "48000/48000 [==============================] - 3s - loss: 0.1043 - acc: 0.9686 - val_loss: 0.0894 - val_acc: 0.9745\n",
      "Epoch 100/200\n",
      "48000/48000 [==============================] - 2s - loss: 0.1048 - acc: 0.9678 - val_loss: 0.0884 - val_acc: 0.9746\n",
      "Epoch 101/200\n",
      "48000/48000 [==============================] - 2s - loss: 0.1052 - acc: 0.9690 - val_loss: 0.0884 - val_acc: 0.9741\n",
      "Epoch 102/200\n",
      "48000/48000 [==============================] - 2s - loss: 0.1005 - acc: 0.9694 - val_loss: 0.0880 - val_acc: 0.9738\n",
      "Epoch 103/200\n",
      "48000/48000 [==============================] - 2s - loss: 0.1015 - acc: 0.9691 - val_loss: 0.0886 - val_acc: 0.9741\n",
      "Epoch 104/200\n",
      "48000/48000 [==============================] - 2s - loss: 0.1035 - acc: 0.9687 - val_loss: 0.0878 - val_acc: 0.9747\n",
      "Epoch 105/200\n",
      "48000/48000 [==============================] - 2s - loss: 0.1034 - acc: 0.9689 - val_loss: 0.0878 - val_acc: 0.9747\n",
      "Epoch 106/200\n",
      "48000/48000 [==============================] - 2s - loss: 0.0998 - acc: 0.9690 - val_loss: 0.0874 - val_acc: 0.9741\n",
      "Epoch 107/200\n",
      "48000/48000 [==============================] - 2s - loss: 0.0994 - acc: 0.9702 - val_loss: 0.0871 - val_acc: 0.9737\n",
      "Epoch 108/200\n",
      "48000/48000 [==============================] - 2s - loss: 0.1023 - acc: 0.9685 - val_loss: 0.0870 - val_acc: 0.9742\n",
      "Epoch 109/200\n",
      "48000/48000 [==============================] - 2s - loss: 0.0981 - acc: 0.9705 - val_loss: 0.0872 - val_acc: 0.9742\n",
      "Epoch 110/200\n",
      "48000/48000 [==============================] - 2s - loss: 0.0990 - acc: 0.9703 - val_loss: 0.0865 - val_acc: 0.9745\n",
      "Epoch 111/200\n",
      "48000/48000 [==============================] - 2s - loss: 0.0975 - acc: 0.9700 - val_loss: 0.0873 - val_acc: 0.9742\n",
      "Epoch 112/200\n",
      "48000/48000 [==============================] - 2s - loss: 0.0976 - acc: 0.9706 - val_loss: 0.0864 - val_acc: 0.9745\n",
      "Epoch 113/200\n",
      "48000/48000 [==============================] - 2s - loss: 0.0966 - acc: 0.9707 - val_loss: 0.0864 - val_acc: 0.9747\n",
      "Epoch 114/200\n",
      "48000/48000 [==============================] - 3s - loss: 0.0950 - acc: 0.9711 - val_loss: 0.0853 - val_acc: 0.9749\n",
      "Epoch 115/200\n",
      "48000/48000 [==============================] - 3s - loss: 0.0942 - acc: 0.9712 - val_loss: 0.0859 - val_acc: 0.9748\n",
      "Epoch 116/200\n",
      "48000/48000 [==============================] - 2s - loss: 0.0920 - acc: 0.9718 - val_loss: 0.0854 - val_acc: 0.9749\n",
      "Epoch 117/200\n",
      "48000/48000 [==============================] - 2s - loss: 0.0950 - acc: 0.9703 - val_loss: 0.0849 - val_acc: 0.9752\n",
      "Epoch 118/200\n",
      "48000/48000 [==============================] - 2s - loss: 0.0941 - acc: 0.9720 - val_loss: 0.0852 - val_acc: 0.9752\n",
      "Epoch 119/200\n",
      "48000/48000 [==============================] - 2s - loss: 0.0953 - acc: 0.9713 - val_loss: 0.0861 - val_acc: 0.9750\n",
      "Epoch 120/200\n",
      "48000/48000 [==============================] - 2s - loss: 0.0925 - acc: 0.9709 - val_loss: 0.0851 - val_acc: 0.9750\n",
      "Epoch 121/200\n",
      "48000/48000 [==============================] - 2s - loss: 0.0894 - acc: 0.9726 - val_loss: 0.0848 - val_acc: 0.9748\n",
      "Epoch 122/200\n",
      "48000/48000 [==============================] - 2s - loss: 0.0898 - acc: 0.9728 - val_loss: 0.0847 - val_acc: 0.9753\n",
      "Epoch 123/200\n",
      "48000/48000 [==============================] - 2s - loss: 0.0894 - acc: 0.9730 - val_loss: 0.0844 - val_acc: 0.9750\n",
      "Epoch 124/200\n",
      "48000/48000 [==============================] - 2s - loss: 0.0918 - acc: 0.9717 - val_loss: 0.0846 - val_acc: 0.9753\n",
      "Epoch 125/200\n",
      "48000/48000 [==============================] - 2s - loss: 0.0892 - acc: 0.9729 - val_loss: 0.0848 - val_acc: 0.9754\n",
      "Epoch 126/200\n",
      "48000/48000 [==============================] - 2s - loss: 0.0893 - acc: 0.9726 - val_loss: 0.0840 - val_acc: 0.9750\n",
      "Epoch 127/200\n",
      "48000/48000 [==============================] - 2s - loss: 0.0903 - acc: 0.9731 - val_loss: 0.0839 - val_acc: 0.9758\n",
      "Epoch 128/200\n",
      "48000/48000 [==============================] - 2s - loss: 0.0903 - acc: 0.9720 - val_loss: 0.0837 - val_acc: 0.9754\n",
      "Epoch 129/200\n",
      "48000/48000 [==============================] - 2s - loss: 0.0904 - acc: 0.9722 - val_loss: 0.0840 - val_acc: 0.9757\n",
      "Epoch 130/200\n",
      "48000/48000 [==============================] - 2s - loss: 0.0887 - acc: 0.9730 - val_loss: 0.0829 - val_acc: 0.9753\n",
      "Epoch 131/200\n",
      "48000/48000 [==============================] - 2s - loss: 0.0859 - acc: 0.9728 - val_loss: 0.0831 - val_acc: 0.9764\n",
      "Epoch 132/200\n",
      "48000/48000 [==============================] - 2s - loss: 0.0866 - acc: 0.9738 - val_loss: 0.0826 - val_acc: 0.9753\n",
      "Epoch 133/200\n",
      "48000/48000 [==============================] - 2s - loss: 0.0871 - acc: 0.9735 - val_loss: 0.0825 - val_acc: 0.9761\n",
      "Epoch 134/200\n",
      "48000/48000 [==============================] - 2s - loss: 0.0862 - acc: 0.9738 - val_loss: 0.0824 - val_acc: 0.9763\n",
      "Epoch 135/200\n",
      "48000/48000 [==============================] - 2s - loss: 0.0850 - acc: 0.9746 - val_loss: 0.0829 - val_acc: 0.9763\n",
      "Epoch 136/200\n",
      "48000/48000 [==============================] - 2s - loss: 0.0848 - acc: 0.9736 - val_loss: 0.0825 - val_acc: 0.9760\n",
      "Epoch 137/200\n",
      "48000/48000 [==============================] - 2s - loss: 0.0829 - acc: 0.9748 - val_loss: 0.0827 - val_acc: 0.9761\n",
      "Epoch 138/200\n",
      "48000/48000 [==============================] - 2s - loss: 0.0831 - acc: 0.9745 - val_loss: 0.0825 - val_acc: 0.9760\n",
      "Epoch 139/200\n",
      "48000/48000 [==============================] - 2s - loss: 0.0834 - acc: 0.9743 - val_loss: 0.0821 - val_acc: 0.9758\n",
      "Epoch 140/200\n",
      "48000/48000 [==============================] - 2s - loss: 0.0829 - acc: 0.9744 - val_loss: 0.0823 - val_acc: 0.9764\n",
      "Epoch 141/200\n",
      "48000/48000 [==============================] - 2s - loss: 0.0826 - acc: 0.9744 - val_loss: 0.0821 - val_acc: 0.9763\n",
      "Epoch 142/200\n",
      "48000/48000 [==============================] - 2s - loss: 0.0831 - acc: 0.9744 - val_loss: 0.0819 - val_acc: 0.9762\n",
      "Epoch 143/200\n",
      "48000/48000 [==============================] - 2s - loss: 0.0816 - acc: 0.9744 - val_loss: 0.0817 - val_acc: 0.9768\n",
      "Epoch 144/200\n",
      "48000/48000 [==============================] - 2s - loss: 0.0814 - acc: 0.9750 - val_loss: 0.0818 - val_acc: 0.9767\n",
      "Epoch 145/200\n",
      "48000/48000 [==============================] - 2s - loss: 0.0807 - acc: 0.9747 - val_loss: 0.0822 - val_acc: 0.9763\n",
      "Epoch 146/200\n",
      "48000/48000 [==============================] - 2s - loss: 0.0811 - acc: 0.9751 - val_loss: 0.0815 - val_acc: 0.9768\n",
      "Epoch 147/200\n",
      "48000/48000 [==============================] - 2s - loss: 0.0793 - acc: 0.9762 - val_loss: 0.0810 - val_acc: 0.9763\n",
      "Epoch 148/200\n",
      "48000/48000 [==============================] - 2s - loss: 0.0782 - acc: 0.9761 - val_loss: 0.0808 - val_acc: 0.9766\n",
      "Epoch 149/200\n",
      "48000/48000 [==============================] - 2s - loss: 0.0786 - acc: 0.9758 - val_loss: 0.0810 - val_acc: 0.9763\n",
      "Epoch 150/200\n",
      "48000/48000 [==============================] - 2s - loss: 0.0800 - acc: 0.9753 - val_loss: 0.0813 - val_acc: 0.9766\n",
      "Epoch 151/200\n",
      "48000/48000 [==============================] - 2s - loss: 0.0790 - acc: 0.9761 - val_loss: 0.0809 - val_acc: 0.9771\n",
      "Epoch 152/200\n",
      "48000/48000 [==============================] - 2s - loss: 0.0760 - acc: 0.9767 - val_loss: 0.0806 - val_acc: 0.9768\n",
      "Epoch 153/200\n",
      "48000/48000 [==============================] - 2s - loss: 0.0782 - acc: 0.9758 - val_loss: 0.0810 - val_acc: 0.9768\n",
      "Epoch 154/200\n",
      "48000/48000 [==============================] - 2s - loss: 0.0775 - acc: 0.9762 - val_loss: 0.0814 - val_acc: 0.9771\n",
      "Epoch 155/200\n",
      "48000/48000 [==============================] - 2s - loss: 0.0780 - acc: 0.9761 - val_loss: 0.0811 - val_acc: 0.9770\n",
      "Epoch 156/200\n",
      "48000/48000 [==============================] - 2s - loss: 0.0800 - acc: 0.9748 - val_loss: 0.0812 - val_acc: 0.9768\n",
      "Epoch 157/200\n",
      "48000/48000 [==============================] - 2s - loss: 0.0775 - acc: 0.9760 - val_loss: 0.0811 - val_acc: 0.9773\n",
      "Epoch 158/200\n",
      "48000/48000 [==============================] - 2s - loss: 0.0779 - acc: 0.9767 - val_loss: 0.0806 - val_acc: 0.9769\n",
      "Epoch 159/200\n",
      "48000/48000 [==============================] - 2s - loss: 0.0771 - acc: 0.9764 - val_loss: 0.0808 - val_acc: 0.9768\n",
      "Epoch 160/200\n",
      "48000/48000 [==============================] - 2s - loss: 0.0760 - acc: 0.9759 - val_loss: 0.0804 - val_acc: 0.9768\n",
      "Epoch 161/200\n",
      "48000/48000 [==============================] - 2s - loss: 0.0743 - acc: 0.9770 - val_loss: 0.0800 - val_acc: 0.9772\n",
      "Epoch 162/200\n",
      "48000/48000 [==============================] - 2s - loss: 0.0732 - acc: 0.9774 - val_loss: 0.0804 - val_acc: 0.9766\n",
      "Epoch 163/200\n",
      "48000/48000 [==============================] - 2s - loss: 0.0748 - acc: 0.9763 - val_loss: 0.0810 - val_acc: 0.9768\n",
      "Epoch 164/200\n",
      "48000/48000 [==============================] - 2s - loss: 0.0748 - acc: 0.9772 - val_loss: 0.0805 - val_acc: 0.9768\n",
      "Epoch 165/200\n",
      "48000/48000 [==============================] - 2s - loss: 0.0729 - acc: 0.9772 - val_loss: 0.0812 - val_acc: 0.9767\n",
      "Epoch 166/200\n",
      "48000/48000 [==============================] - 2s - loss: 0.0752 - acc: 0.9763 - val_loss: 0.0804 - val_acc: 0.9769\n",
      "Epoch 167/200\n",
      "48000/48000 [==============================] - 2s - loss: 0.0734 - acc: 0.9762 - val_loss: 0.0802 - val_acc: 0.9768\n",
      "Epoch 168/200\n",
      "48000/48000 [==============================] - 2s - loss: 0.0699 - acc: 0.9781 - val_loss: 0.0807 - val_acc: 0.9771\n",
      "Epoch 169/200\n",
      "48000/48000 [==============================] - 2s - loss: 0.0718 - acc: 0.9771 - val_loss: 0.0797 - val_acc: 0.9764\n",
      "Epoch 170/200\n",
      "48000/48000 [==============================] - 2s - loss: 0.0716 - acc: 0.9782 - val_loss: 0.0798 - val_acc: 0.9772\n",
      "Epoch 171/200\n",
      "48000/48000 [==============================] - 2s - loss: 0.0717 - acc: 0.9772 - val_loss: 0.0794 - val_acc: 0.9773\n",
      "Epoch 172/200\n",
      "48000/48000 [==============================] - 2s - loss: 0.0718 - acc: 0.9775 - val_loss: 0.0794 - val_acc: 0.9771\n",
      "Epoch 173/200\n",
      "48000/48000 [==============================] - 2s - loss: 0.0719 - acc: 0.9774 - val_loss: 0.0794 - val_acc: 0.9773\n",
      "Epoch 174/200\n",
      "48000/48000 [==============================] - 2s - loss: 0.0729 - acc: 0.9776 - val_loss: 0.0794 - val_acc: 0.9768\n",
      "Epoch 175/200\n",
      "48000/48000 [==============================] - 2s - loss: 0.0707 - acc: 0.9781 - val_loss: 0.0792 - val_acc: 0.9771\n",
      "Epoch 176/200\n",
      "48000/48000 [==============================] - 2s - loss: 0.0696 - acc: 0.9778 - val_loss: 0.0794 - val_acc: 0.9767\n",
      "Epoch 177/200\n",
      "48000/48000 [==============================] - 2s - loss: 0.0692 - acc: 0.9781 - val_loss: 0.0801 - val_acc: 0.9772\n",
      "Epoch 178/200\n",
      "48000/48000 [==============================] - 2s - loss: 0.0694 - acc: 0.9781 - val_loss: 0.0790 - val_acc: 0.9774\n",
      "Epoch 179/200\n",
      "48000/48000 [==============================] - 2s - loss: 0.0703 - acc: 0.9781 - val_loss: 0.0794 - val_acc: 0.9774\n",
      "Epoch 180/200\n",
      "48000/48000 [==============================] - 2s - loss: 0.0677 - acc: 0.9790 - val_loss: 0.0802 - val_acc: 0.9773\n",
      "Epoch 181/200\n",
      "48000/48000 [==============================] - 2s - loss: 0.0694 - acc: 0.9781 - val_loss: 0.0799 - val_acc: 0.9778\n",
      "Epoch 182/200\n",
      "48000/48000 [==============================] - 2s - loss: 0.0683 - acc: 0.9784 - val_loss: 0.0794 - val_acc: 0.9771\n",
      "Epoch 183/200\n",
      "48000/48000 [==============================] - 2s - loss: 0.0693 - acc: 0.9784 - val_loss: 0.0793 - val_acc: 0.9778\n",
      "Epoch 184/200\n",
      "48000/48000 [==============================] - 2s - loss: 0.0668 - acc: 0.9795 - val_loss: 0.0788 - val_acc: 0.9772\n",
      "Epoch 185/200\n",
      "48000/48000 [==============================] - 2s - loss: 0.0681 - acc: 0.9785 - val_loss: 0.0796 - val_acc: 0.9772\n",
      "Epoch 186/200\n",
      "48000/48000 [==============================] - 2s - loss: 0.0674 - acc: 0.9788 - val_loss: 0.0786 - val_acc: 0.9771\n",
      "Epoch 187/200\n",
      "48000/48000 [==============================] - 2s - loss: 0.0667 - acc: 0.9796 - val_loss: 0.0797 - val_acc: 0.9770\n",
      "Epoch 188/200\n",
      "48000/48000 [==============================] - 2s - loss: 0.0668 - acc: 0.9789 - val_loss: 0.0788 - val_acc: 0.9781\n",
      "Epoch 189/200\n",
      "48000/48000 [==============================] - 2s - loss: 0.0669 - acc: 0.9787 - val_loss: 0.0791 - val_acc: 0.9771\n",
      "Epoch 190/200\n",
      "48000/48000 [==============================] - 2s - loss: 0.0645 - acc: 0.9793 - val_loss: 0.0788 - val_acc: 0.9778\n",
      "Epoch 191/200\n",
      "48000/48000 [==============================] - 2s - loss: 0.0652 - acc: 0.9795 - val_loss: 0.0789 - val_acc: 0.9778\n",
      "Epoch 192/200\n",
      "48000/48000 [==============================] - 2s - loss: 0.0652 - acc: 0.9795 - val_loss: 0.0793 - val_acc: 0.9778\n",
      "Epoch 193/200\n",
      "48000/48000 [==============================] - 2s - loss: 0.0678 - acc: 0.9784 - val_loss: 0.0783 - val_acc: 0.9781\n",
      "Epoch 194/200\n",
      "48000/48000 [==============================] - 2s - loss: 0.0674 - acc: 0.9782 - val_loss: 0.0789 - val_acc: 0.9778\n",
      "Epoch 195/200\n",
      "48000/48000 [==============================] - 2s - loss: 0.0650 - acc: 0.9797 - val_loss: 0.0792 - val_acc: 0.9778\n",
      "Epoch 196/200\n",
      "48000/48000 [==============================] - 2s - loss: 0.0655 - acc: 0.9790 - val_loss: 0.0790 - val_acc: 0.9775\n",
      "Epoch 197/200\n",
      "48000/48000 [==============================] - 2s - loss: 0.0661 - acc: 0.9789 - val_loss: 0.0790 - val_acc: 0.9773\n",
      "Epoch 198/200\n",
      "48000/48000 [==============================] - 2s - loss: 0.0639 - acc: 0.9791 - val_loss: 0.0794 - val_acc: 0.9778\n",
      "Epoch 199/200\n",
      "48000/48000 [==============================] - 2s - loss: 0.0639 - acc: 0.9795 - val_loss: 0.0793 - val_acc: 0.9779\n",
      "Epoch 200/200\n",
      "48000/48000 [==============================] - 2s - loss: 0.0630 - acc: 0.9799 - val_loss: 0.0790 - val_acc: 0.9776\n"
     ]
    }
   ],
   "source": [
    "time_start = time.clock()\n",
    "history = model.fit(X_train, y_train,\n",
    "                    batch_size=128,\n",
    "                    epochs=200,\n",
    "                    verbose=1,\n",
    "                    validation_split=0.2)\n",
    "time_end = time.clock()"
   ]
  },
  {
   "cell_type": "code",
   "execution_count": 10,
   "metadata": {
    "collapsed": true
   },
   "outputs": [],
   "source": [
    "time_end = time.clock()"
   ]
  },
  {
   "cell_type": "code",
   "execution_count": 11,
   "metadata": {
    "collapsed": false
   },
   "outputs": [
    {
     "name": "stdout",
     "output_type": "stream",
     "text": [
      "Time to train\n",
      "Time elapsed in seconds : 488\n",
      "Time elapsed in minutes : 8.1\n",
      "Time elapsed in hours   : 0.1\n"
     ]
    }
   ],
   "source": [
    "duration = time_end - time_start\n",
    "print(\"Time to train\")\n",
    "print(\"Time elapsed in seconds : %.0f\" % duration)\n",
    "print(\"Time elapsed in minutes : %.1f\" % (duration/60))\n",
    "print(\"Time elapsed in hours   : %.1f\" % (duration/3600))"
   ]
  },
  {
   "cell_type": "code",
   "execution_count": 12,
   "metadata": {
    "collapsed": false
   },
   "outputs": [
    {
     "name": "stdout",
     "output_type": "stream",
     "text": [
      " 8384/10000 [========================>.....] - ETA: 0s\n",
      "Test score: 0.0765496317808\n",
      "Test accuracy: 0.9785\n"
     ]
    }
   ],
   "source": [
    "score = model.evaluate(X_test, y_test,\n",
    "                       verbose=1)\n",
    "print(\"\")\n",
    "print(\"Test score:\", score[0])\n",
    "print(\"Test accuracy:\", score[1])"
   ]
  },
  {
   "cell_type": "code",
   "execution_count": 13,
   "metadata": {
    "collapsed": false
   },
   "outputs": [
    {
     "name": "stdout",
     "output_type": "stream",
     "text": [
      "dict_keys(['val_acc', 'val_loss', 'loss', 'acc'])\n"
     ]
    }
   ],
   "source": [
    "# list all data in history\n",
    "print(history.history.keys())"
   ]
  },
  {
   "cell_type": "code",
   "execution_count": 14,
   "metadata": {
    "collapsed": false
   },
   "outputs": [
    {
     "data": {
      "image/png": "[encoded data removed]",
      "text/plain": [
       "<matplotlib.figure.Figure at 0x20587e8e4a8>"
      ]
     },
     "metadata": {},
     "output_type": "display_data"
    }
   ],
   "source": [
    "# Accuracy\n",
    "plt.plot(history.history[\"acc\"])\n",
    "plt.plot(history.history[\"val_acc\"])\n",
    "plt.title(\"model accuracy\")\n",
    "plt.ylabel(\"accuracy\")\n",
    "plt.xlabel(\"epoch\")\n",
    "plt.legend([\"train\", \"test\"], loc=\"lower left\")\n",
    "plt.show()"
   ]
  },
  {
   "cell_type": "code",
   "execution_count": 15,
   "metadata": {
    "collapsed": false
   },
   "outputs": [
    {
     "data": {
      "image/png": "[encoded data removed]",
      "text/plain": [
       "<matplotlib.figure.Figure at 0x20587fda908>"
      ]
     },
     "metadata": {},
     "output_type": "display_data"
    }
   ],
   "source": [
    "# Loss\n",
    "plt.plot(history.history[\"loss\"])\n",
    "plt.plot(history.history[\"val_loss\"])\n",
    "plt.title(\"model loss\")\n",
    "plt.ylabel(\"loss\")\n",
    "plt.xlabel(\"epoch\")\n",
    "plt.legend([\"train\", \"test\"], loc=\"upper left\")\n",
    "plt.show()"
   ]
  }
 ],
 "metadata": {
  "anaconda-cloud": {},
  "kernelspec": {
   "display_name": "Python [default]",
   "language": "python",
   "name": "python3"
  },
  "language_info": {
   "codemirror_mode": {
    "name": "ipython",
    "version": 3
   },
   "file_extension": ".py",
   "mimetype": "text/x-python",
   "name": "python",
   "nbconvert_exporter": "python",
   "pygments_lexer": "ipython3",
   "version": "3.5.2"
  }
 },
 "nbformat": 4,
 "nbformat_minor": 1
}
