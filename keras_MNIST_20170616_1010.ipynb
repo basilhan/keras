{
 "cells": [
  {
   "cell_type": "code",
   "execution_count": 1,
   "metadata": {
    "collapsed": false
   },
   "outputs": [
    {
     "name": "stderr",
     "output_type": "stream",
     "text": [
      "Using TensorFlow backend.\n"
     ]
    }
   ],
   "source": [
    "import numpy as np\n",
    "import matplotlib.pyplot as plt\n",
    "import time\n",
    "from keras.datasets import mnist\n",
    "from keras.models import Sequential\n",
    "from keras.layers.core import Dense, Dropout, Activation\n",
    "from keras.optimizers import SGD, Adam, Adamax, RMSprop, Adagrad, Adadelta, Nadam\n",
    "from keras.utils import np_utils\n",
    "from tensorflow import set_random_seed"
   ]
  },
  {
   "cell_type": "code",
   "execution_count": 2,
   "metadata": {
    "collapsed": false
   },
   "outputs": [],
   "source": [
    "np.random.seed(2015)\n",
    "set_random_seed(2015)"
   ]
  },
  {
   "cell_type": "code",
   "execution_count": 3,
   "metadata": {
    "collapsed": false
   },
   "outputs": [],
   "source": [
    "# Load data\n",
    "(X_train, y_train), (X_test, y_test) = mnist.load_data()"
   ]
  },
  {
   "cell_type": "code",
   "execution_count": 4,
   "metadata": {
    "collapsed": false
   },
   "outputs": [
    {
     "name": "stdout",
     "output_type": "stream",
     "text": [
      "60000 training samples\n",
      "10000 testing samples\n"
     ]
    }
   ],
   "source": [
    "# Preprocessing\n",
    "X_train = X_train.reshape(60000, 784)\n",
    "X_test  = X_test.reshape(10000, 784)\n",
    "X_train = X_train.astype(\"float32\")\n",
    "X_test  = X_test.astype(\"float32\")\n",
    "X_train /= 255\n",
    "X_test  /= 255\n",
    "print(X_train.shape[0], \"training samples\")\n",
    "print(X_test.shape[0], \"testing samples\")"
   ]
  },
  {
   "cell_type": "code",
   "execution_count": 5,
   "metadata": {
    "collapsed": true
   },
   "outputs": [],
   "source": [
    "# Convert labels to one-hot encoding\n",
    "# e.g. 1 -> array([ 0.,  1.,  0.,  0.,  0.,  0.,  0.,  0.,  0.,  0.])\n",
    "y_train = np_utils.to_categorical(y_train, 10)\n",
    "y_test = np_utils.to_categorical(y_test, 10)"
   ]
  },
  {
   "cell_type": "markdown",
   "metadata": {},
   "source": [
    "The argument *input_dim* is equivalent to *input_shape* ([reference](https://keras.io/getting-started/sequential-model-guide/))."
   ]
  },
  {
   "cell_type": "code",
   "execution_count": 6,
   "metadata": {
    "collapsed": false
   },
   "outputs": [],
   "source": [
    "# Define the model\n",
    "model = Sequential([\n",
    "        Dense(128, input_dim=784), Activation(\"relu\"), Dropout(0.3),\n",
    "        Dense(128), Activation(\"relu\"), Dropout(0.3),\n",
    "        Dense(10), Activation(\"softmax\")\n",
    "    ])"
   ]
  },
  {
   "cell_type": "code",
   "execution_count": 7,
   "metadata": {
    "collapsed": false
   },
   "outputs": [
    {
     "name": "stdout",
     "output_type": "stream",
     "text": [
      "_________________________________________________________________\n",
      "Layer (type)                 Output Shape              Param #   \n",
      "=================================================================\n",
      "dense_1 (Dense)              (None, 128)               100480    \n",
      "_________________________________________________________________\n",
      "activation_1 (Activation)    (None, 128)               0         \n",
      "_________________________________________________________________\n",
      "dropout_1 (Dropout)          (None, 128)               0         \n",
      "_________________________________________________________________\n",
      "dense_2 (Dense)              (None, 128)               16512     \n",
      "_________________________________________________________________\n",
      "activation_2 (Activation)    (None, 128)               0         \n",
      "_________________________________________________________________\n",
      "dropout_2 (Dropout)          (None, 128)               0         \n",
      "_________________________________________________________________\n",
      "dense_3 (Dense)              (None, 10)                1290      \n",
      "_________________________________________________________________\n",
      "activation_3 (Activation)    (None, 10)                0         \n",
      "=================================================================\n",
      "Total params: 118,282\n",
      "Trainable params: 118,282\n",
      "Non-trainable params: 0\n",
      "_________________________________________________________________\n"
     ]
    }
   ],
   "source": [
    "model.summary()"
   ]
  },
  {
   "cell_type": "code",
   "execution_count": 8,
   "metadata": {
    "collapsed": false
   },
   "outputs": [],
   "source": [
    "model.compile(loss=\"categorical_crossentropy\",\n",
    "              optimizer=Nadam(),\n",
    "              metrics=[\"accuracy\"])"
   ]
  },
  {
   "cell_type": "code",
   "execution_count": 9,
   "metadata": {
    "collapsed": false
   },
   "outputs": [
    {
     "name": "stdout",
     "output_type": "stream",
     "text": [
      "Train on 48000 samples, validate on 12000 samples\n",
      "Epoch 1/200\n",
      "48000/48000 [==============================] - 2s - loss: 0.4077 - acc: 0.8756 - val_loss: 0.1481 - val_acc: 0.9572\n",
      "Epoch 2/200\n",
      "48000/48000 [==============================] - 2s - loss: 0.1926 - acc: 0.9425 - val_loss: 0.1225 - val_acc: 0.9635\n",
      "Epoch 3/200\n",
      "48000/48000 [==============================] - 2s - loss: 0.1539 - acc: 0.9548 - val_loss: 0.1096 - val_acc: 0.9678\n",
      "Epoch 4/200\n",
      "48000/48000 [==============================] - 2s - loss: 0.1313 - acc: 0.9594 - val_loss: 0.0994 - val_acc: 0.9707\n",
      "Epoch 5/200\n",
      "48000/48000 [==============================] - 2s - loss: 0.1153 - acc: 0.9648 - val_loss: 0.0996 - val_acc: 0.9705\n",
      "Epoch 6/200\n",
      "48000/48000 [==============================] - 2s - loss: 0.1070 - acc: 0.9677 - val_loss: 0.0904 - val_acc: 0.9732\n",
      "Epoch 7/200\n",
      "48000/48000 [==============================] - 2s - loss: 0.1010 - acc: 0.9678 - val_loss: 0.0936 - val_acc: 0.9732\n",
      "Epoch 8/200\n",
      "48000/48000 [==============================] - 2s - loss: 0.0910 - acc: 0.9717 - val_loss: 0.0848 - val_acc: 0.9749\n",
      "Epoch 9/200\n",
      "48000/48000 [==============================] - 2s - loss: 0.0862 - acc: 0.9721 - val_loss: 0.0873 - val_acc: 0.9761\n",
      "Epoch 10/200\n",
      "48000/48000 [==============================] - 2s - loss: 0.0819 - acc: 0.9740 - val_loss: 0.0845 - val_acc: 0.9749\n",
      "Epoch 11/200\n",
      "48000/48000 [==============================] - 2s - loss: 0.0795 - acc: 0.9741 - val_loss: 0.0814 - val_acc: 0.9763\n",
      "Epoch 12/200\n",
      "48000/48000 [==============================] - 2s - loss: 0.0766 - acc: 0.9753 - val_loss: 0.0864 - val_acc: 0.9763\n",
      "Epoch 13/200\n",
      "48000/48000 [==============================] - 2s - loss: 0.0739 - acc: 0.9765 - val_loss: 0.0860 - val_acc: 0.9764\n",
      "Epoch 14/200\n",
      "48000/48000 [==============================] - 2s - loss: 0.0673 - acc: 0.9782 - val_loss: 0.0832 - val_acc: 0.9772\n",
      "Epoch 15/200\n",
      "48000/48000 [==============================] - 2s - loss: 0.0651 - acc: 0.9789 - val_loss: 0.0844 - val_acc: 0.9762\n",
      "Epoch 16/200\n",
      "48000/48000 [==============================] - 2s - loss: 0.0650 - acc: 0.9790 - val_loss: 0.0821 - val_acc: 0.9773\n",
      "Epoch 17/200\n",
      "48000/48000 [==============================] - 2s - loss: 0.0625 - acc: 0.9800 - val_loss: 0.0862 - val_acc: 0.9771\n",
      "Epoch 18/200\n",
      "48000/48000 [==============================] - 2s - loss: 0.0610 - acc: 0.9796 - val_loss: 0.0778 - val_acc: 0.9786\n",
      "Epoch 19/200\n",
      "48000/48000 [==============================] - 2s - loss: 0.0609 - acc: 0.9803 - val_loss: 0.0808 - val_acc: 0.9776\n",
      "Epoch 20/200\n",
      "48000/48000 [==============================] - 2s - loss: 0.0600 - acc: 0.9807 - val_loss: 0.0899 - val_acc: 0.9764\n",
      "Epoch 21/200\n",
      "48000/48000 [==============================] - 2s - loss: 0.0588 - acc: 0.9811 - val_loss: 0.0848 - val_acc: 0.9772\n",
      "Epoch 22/200\n",
      "48000/48000 [==============================] - 2s - loss: 0.0540 - acc: 0.9829 - val_loss: 0.0855 - val_acc: 0.9779\n",
      "Epoch 23/200\n",
      "48000/48000 [==============================] - 2s - loss: 0.0566 - acc: 0.9824 - val_loss: 0.0855 - val_acc: 0.9777\n",
      "Epoch 24/200\n",
      "48000/48000 [==============================] - 2s - loss: 0.0532 - acc: 0.9828 - val_loss: 0.0877 - val_acc: 0.9779\n",
      "Epoch 25/200\n",
      "48000/48000 [==============================] - 2s - loss: 0.0528 - acc: 0.9836 - val_loss: 0.0814 - val_acc: 0.9782\n",
      "Epoch 26/200\n",
      "48000/48000 [==============================] - 2s - loss: 0.0541 - acc: 0.9825 - val_loss: 0.0789 - val_acc: 0.9805\n",
      "Epoch 27/200\n",
      "48000/48000 [==============================] - 2s - loss: 0.0519 - acc: 0.9835 - val_loss: 0.0874 - val_acc: 0.9772\n",
      "Epoch 28/200\n",
      "48000/48000 [==============================] - 2s - loss: 0.0533 - acc: 0.9838 - val_loss: 0.0825 - val_acc: 0.9788\n",
      "Epoch 29/200\n",
      "48000/48000 [==============================] - 3s - loss: 0.0498 - acc: 0.9843 - val_loss: 0.0965 - val_acc: 0.9756\n",
      "Epoch 30/200\n",
      "48000/48000 [==============================] - 2s - loss: 0.0495 - acc: 0.9840 - val_loss: 0.0808 - val_acc: 0.9797\n",
      "Epoch 31/200\n",
      "48000/48000 [==============================] - 2s - loss: 0.0483 - acc: 0.9848 - val_loss: 0.0834 - val_acc: 0.9782\n",
      "Epoch 32/200\n",
      "48000/48000 [==============================] - 2s - loss: 0.0494 - acc: 0.9842 - val_loss: 0.0846 - val_acc: 0.9780\n",
      "Epoch 33/200\n",
      "48000/48000 [==============================] - 2s - loss: 0.0471 - acc: 0.9851 - val_loss: 0.0847 - val_acc: 0.9809\n",
      "Epoch 34/200\n",
      "48000/48000 [==============================] - 2s - loss: 0.0452 - acc: 0.9848 - val_loss: 0.0943 - val_acc: 0.9777\n",
      "Epoch 35/200\n",
      "48000/48000 [==============================] - 2s - loss: 0.0476 - acc: 0.9850 - val_loss: 0.0813 - val_acc: 0.9800\n",
      "Epoch 36/200\n",
      "48000/48000 [==============================] - 2s - loss: 0.0487 - acc: 0.9843 - val_loss: 0.0861 - val_acc: 0.9788\n",
      "Epoch 37/200\n",
      "48000/48000 [==============================] - 2s - loss: 0.0461 - acc: 0.9857 - val_loss: 0.0887 - val_acc: 0.9790\n",
      "Epoch 38/200\n",
      "48000/48000 [==============================] - 2s - loss: 0.0449 - acc: 0.9857 - val_loss: 0.0899 - val_acc: 0.9774\n",
      "Epoch 39/200\n",
      "48000/48000 [==============================] - 2s - loss: 0.0434 - acc: 0.9862 - val_loss: 0.0927 - val_acc: 0.9792\n",
      "Epoch 40/200\n",
      "48000/48000 [==============================] - 2s - loss: 0.0440 - acc: 0.9854 - val_loss: 0.0961 - val_acc: 0.9790\n",
      "Epoch 41/200\n",
      "48000/48000 [==============================] - 2s - loss: 0.0450 - acc: 0.9855 - val_loss: 0.0836 - val_acc: 0.9817\n",
      "Epoch 42/200\n",
      "48000/48000 [==============================] - 2s - loss: 0.0435 - acc: 0.9861 - val_loss: 0.0899 - val_acc: 0.9799\n",
      "Epoch 43/200\n",
      "48000/48000 [==============================] - 2s - loss: 0.0399 - acc: 0.9870 - val_loss: 0.0918 - val_acc: 0.9795\n",
      "Epoch 44/200\n",
      "48000/48000 [==============================] - 2s - loss: 0.0438 - acc: 0.9858 - val_loss: 0.0908 - val_acc: 0.9790\n",
      "Epoch 45/200\n",
      "48000/48000 [==============================] - 2s - loss: 0.0422 - acc: 0.9869 - val_loss: 0.0976 - val_acc: 0.9775\n",
      "Epoch 46/200\n",
      "48000/48000 [==============================] - 2s - loss: 0.0401 - acc: 0.9875 - val_loss: 0.0959 - val_acc: 0.9795\n",
      "Epoch 47/200\n",
      "48000/48000 [==============================] - 2s - loss: 0.0386 - acc: 0.9873 - val_loss: 0.0931 - val_acc: 0.9789\n",
      "Epoch 48/200\n",
      "48000/48000 [==============================] - 2s - loss: 0.0426 - acc: 0.9866 - val_loss: 0.0882 - val_acc: 0.9788\n",
      "Epoch 49/200\n",
      "48000/48000 [==============================] - 2s - loss: 0.0414 - acc: 0.9865 - val_loss: 0.0946 - val_acc: 0.9801\n",
      "Epoch 50/200\n",
      "48000/48000 [==============================] - 2s - loss: 0.0409 - acc: 0.9872 - val_loss: 0.0957 - val_acc: 0.9782\n",
      "Epoch 51/200\n",
      "48000/48000 [==============================] - 2s - loss: 0.0378 - acc: 0.9884 - val_loss: 0.1041 - val_acc: 0.9782\n",
      "Epoch 52/200\n",
      "48000/48000 [==============================] - 2s - loss: 0.0427 - acc: 0.9863 - val_loss: 0.0935 - val_acc: 0.9788\n",
      "Epoch 53/200\n",
      "48000/48000 [==============================] - 2s - loss: 0.0378 - acc: 0.9879 - val_loss: 0.0937 - val_acc: 0.9783\n",
      "Epoch 54/200\n",
      "48000/48000 [==============================] - 2s - loss: 0.0400 - acc: 0.9879 - val_loss: 0.0871 - val_acc: 0.9792\n",
      "Epoch 55/200\n",
      "48000/48000 [==============================] - 2s - loss: 0.0367 - acc: 0.9882 - val_loss: 0.0983 - val_acc: 0.9788\n",
      "Epoch 56/200\n",
      "48000/48000 [==============================] - 2s - loss: 0.0418 - acc: 0.9867 - val_loss: 0.0970 - val_acc: 0.9798\n",
      "Epoch 57/200\n",
      "48000/48000 [==============================] - 2s - loss: 0.0377 - acc: 0.9880 - val_loss: 0.0958 - val_acc: 0.9802\n",
      "Epoch 58/200\n",
      "48000/48000 [==============================] - 2s - loss: 0.0358 - acc: 0.9886 - val_loss: 0.0994 - val_acc: 0.9781\n",
      "Epoch 59/200\n",
      "48000/48000 [==============================] - 2s - loss: 0.0381 - acc: 0.9884 - val_loss: 0.0960 - val_acc: 0.9801\n",
      "Epoch 60/200\n",
      "48000/48000 [==============================] - 2s - loss: 0.0366 - acc: 0.9882 - val_loss: 0.0937 - val_acc: 0.9796\n",
      "Epoch 61/200\n",
      "48000/48000 [==============================] - 2s - loss: 0.0364 - acc: 0.9887 - val_loss: 0.1048 - val_acc: 0.9777\n",
      "Epoch 62/200\n",
      "48000/48000 [==============================] - 2s - loss: 0.0382 - acc: 0.9878 - val_loss: 0.0989 - val_acc: 0.9793\n",
      "Epoch 63/200\n",
      "48000/48000 [==============================] - 2s - loss: 0.0369 - acc: 0.9886 - val_loss: 0.0918 - val_acc: 0.9794\n",
      "Epoch 64/200\n",
      "48000/48000 [==============================] - 2s - loss: 0.0365 - acc: 0.9886 - val_loss: 0.1018 - val_acc: 0.9778\n",
      "Epoch 65/200\n",
      "48000/48000 [==============================] - 2s - loss: 0.0357 - acc: 0.9889 - val_loss: 0.1028 - val_acc: 0.9773\n",
      "Epoch 66/200\n",
      "48000/48000 [==============================] - 2s - loss: 0.0356 - acc: 0.9884 - val_loss: 0.0996 - val_acc: 0.9797\n",
      "Epoch 67/200\n",
      "48000/48000 [==============================] - 2s - loss: 0.0360 - acc: 0.9891 - val_loss: 0.0995 - val_acc: 0.9784\n",
      "Epoch 68/200\n",
      "48000/48000 [==============================] - 2s - loss: 0.0363 - acc: 0.9888 - val_loss: 0.0989 - val_acc: 0.9787\n",
      "Epoch 69/200\n",
      "48000/48000 [==============================] - 2s - loss: 0.0394 - acc: 0.9877 - val_loss: 0.0983 - val_acc: 0.9780\n",
      "Epoch 70/200\n",
      "48000/48000 [==============================] - 2s - loss: 0.0333 - acc: 0.9892 - val_loss: 0.0959 - val_acc: 0.9791\n",
      "Epoch 71/200\n",
      "48000/48000 [==============================] - 2s - loss: 0.0338 - acc: 0.9891 - val_loss: 0.0998 - val_acc: 0.9783\n",
      "Epoch 72/200\n",
      "48000/48000 [==============================] - 2s - loss: 0.0353 - acc: 0.9890 - val_loss: 0.0942 - val_acc: 0.9801\n",
      "Epoch 73/200\n",
      "48000/48000 [==============================] - 2s - loss: 0.0347 - acc: 0.9889 - val_loss: 0.0981 - val_acc: 0.9784\n",
      "Epoch 74/200\n",
      "48000/48000 [==============================] - 2s - loss: 0.0374 - acc: 0.9884 - val_loss: 0.0961 - val_acc: 0.9790\n",
      "Epoch 75/200\n",
      "48000/48000 [==============================] - 2s - loss: 0.0337 - acc: 0.9898 - val_loss: 0.0901 - val_acc: 0.9803\n",
      "Epoch 76/200\n",
      "48000/48000 [==============================] - 2s - loss: 0.0342 - acc: 0.9894 - val_loss: 0.0896 - val_acc: 0.9816\n",
      "Epoch 77/200\n",
      "48000/48000 [==============================] - 2s - loss: 0.0360 - acc: 0.9892 - val_loss: 0.0905 - val_acc: 0.9804\n",
      "Epoch 78/200\n",
      "48000/48000 [==============================] - 2s - loss: 0.0391 - acc: 0.9881 - val_loss: 0.0990 - val_acc: 0.9795\n",
      "Epoch 79/200\n",
      "48000/48000 [==============================] - 2s - loss: 0.0317 - acc: 0.9900 - val_loss: 0.0922 - val_acc: 0.9805\n",
      "Epoch 80/200\n",
      "48000/48000 [==============================] - 2s - loss: 0.0337 - acc: 0.9896 - val_loss: 0.1000 - val_acc: 0.9794\n",
      "Epoch 81/200\n",
      "48000/48000 [==============================] - 2s - loss: 0.0362 - acc: 0.9889 - val_loss: 0.0951 - val_acc: 0.9800\n",
      "Epoch 82/200\n",
      "48000/48000 [==============================] - 2s - loss: 0.0331 - acc: 0.9898 - val_loss: 0.0953 - val_acc: 0.9803\n",
      "Epoch 83/200\n",
      "48000/48000 [==============================] - 2s - loss: 0.0305 - acc: 0.9905 - val_loss: 0.1067 - val_acc: 0.9788\n",
      "Epoch 84/200\n",
      "48000/48000 [==============================] - 2s - loss: 0.0317 - acc: 0.9906 - val_loss: 0.0986 - val_acc: 0.9797\n",
      "Epoch 85/200\n",
      "48000/48000 [==============================] - 2s - loss: 0.0335 - acc: 0.9897 - val_loss: 0.0953 - val_acc: 0.9807\n",
      "Epoch 86/200\n",
      "48000/48000 [==============================] - 2s - loss: 0.0340 - acc: 0.9896 - val_loss: 0.0936 - val_acc: 0.9795\n",
      "Epoch 87/200\n",
      "48000/48000 [==============================] - 2s - loss: 0.0325 - acc: 0.9901 - val_loss: 0.1053 - val_acc: 0.9782\n",
      "Epoch 88/200\n",
      "48000/48000 [==============================] - 2s - loss: 0.0297 - acc: 0.9905 - val_loss: 0.1011 - val_acc: 0.9789\n",
      "Epoch 89/200\n",
      "48000/48000 [==============================] - 2s - loss: 0.0336 - acc: 0.9898 - val_loss: 0.0976 - val_acc: 0.9798\n",
      "Epoch 90/200\n",
      "48000/48000 [==============================] - 2s - loss: 0.0316 - acc: 0.9902 - val_loss: 0.0965 - val_acc: 0.9784\n",
      "Epoch 91/200\n",
      "48000/48000 [==============================] - 2s - loss: 0.0346 - acc: 0.9901 - val_loss: 0.1076 - val_acc: 0.9796\n",
      "Epoch 92/200\n",
      "48000/48000 [==============================] - 2s - loss: 0.0352 - acc: 0.9895 - val_loss: 0.0977 - val_acc: 0.9796\n",
      "Epoch 93/200\n",
      "48000/48000 [==============================] - 2s - loss: 0.0309 - acc: 0.9906 - val_loss: 0.0965 - val_acc: 0.9793\n",
      "Epoch 94/200\n",
      "48000/48000 [==============================] - 2s - loss: 0.0304 - acc: 0.9906 - val_loss: 0.0940 - val_acc: 0.9801\n",
      "Epoch 95/200\n",
      "48000/48000 [==============================] - 2s - loss: 0.0321 - acc: 0.9904 - val_loss: 0.1009 - val_acc: 0.9787\n",
      "Epoch 96/200\n",
      "48000/48000 [==============================] - 2s - loss: 0.0307 - acc: 0.9909 - val_loss: 0.0972 - val_acc: 0.9803\n",
      "Epoch 97/200\n",
      "48000/48000 [==============================] - 2s - loss: 0.0303 - acc: 0.9910 - val_loss: 0.0903 - val_acc: 0.9806\n",
      "Epoch 98/200\n",
      "48000/48000 [==============================] - 2s - loss: 0.0346 - acc: 0.9899 - val_loss: 0.0985 - val_acc: 0.9795\n",
      "Epoch 99/200\n",
      "48000/48000 [==============================] - 3s - loss: 0.0311 - acc: 0.9907 - val_loss: 0.0993 - val_acc: 0.9794\n",
      "Epoch 100/200\n",
      "48000/48000 [==============================] - 3s - loss: 0.0325 - acc: 0.9903 - val_loss: 0.0895 - val_acc: 0.9815\n",
      "Epoch 101/200\n",
      "48000/48000 [==============================] - 2s - loss: 0.0296 - acc: 0.9911 - val_loss: 0.0997 - val_acc: 0.9792\n",
      "Epoch 102/200\n",
      "48000/48000 [==============================] - 2s - loss: 0.0298 - acc: 0.9911 - val_loss: 0.0937 - val_acc: 0.9806\n",
      "Epoch 103/200\n",
      "48000/48000 [==============================] - 2s - loss: 0.0294 - acc: 0.9907 - val_loss: 0.1003 - val_acc: 0.9806\n",
      "Epoch 104/200\n",
      "48000/48000 [==============================] - 3s - loss: 0.0303 - acc: 0.9904 - val_loss: 0.1043 - val_acc: 0.9791\n",
      "Epoch 105/200\n",
      "48000/48000 [==============================] - 3s - loss: 0.0321 - acc: 0.9904 - val_loss: 0.1008 - val_acc: 0.9798\n",
      "Epoch 106/200\n",
      "48000/48000 [==============================] - 3s - loss: 0.0297 - acc: 0.9912 - val_loss: 0.1004 - val_acc: 0.9787\n",
      "Epoch 107/200\n",
      "48000/48000 [==============================] - 3s - loss: 0.0310 - acc: 0.9909 - val_loss: 0.1032 - val_acc: 0.9806\n",
      "Epoch 108/200\n",
      "48000/48000 [==============================] - 3s - loss: 0.0291 - acc: 0.9910 - val_loss: 0.1016 - val_acc: 0.9797\n",
      "Epoch 109/200\n",
      "48000/48000 [==============================] - 2s - loss: 0.0316 - acc: 0.9907 - val_loss: 0.0946 - val_acc: 0.9807\n",
      "Epoch 110/200\n",
      "48000/48000 [==============================] - 2s - loss: 0.0332 - acc: 0.9903 - val_loss: 0.0944 - val_acc: 0.9815\n",
      "Epoch 111/200\n",
      "48000/48000 [==============================] - 2s - loss: 0.0282 - acc: 0.9916 - val_loss: 0.1007 - val_acc: 0.9809\n",
      "Epoch 112/200\n",
      "48000/48000 [==============================] - 3s - loss: 0.0300 - acc: 0.9912 - val_loss: 0.1028 - val_acc: 0.9801\n",
      "Epoch 113/200\n",
      "48000/48000 [==============================] - 3s - loss: 0.0304 - acc: 0.9910 - val_loss: 0.1012 - val_acc: 0.9788\n",
      "Epoch 114/200\n",
      "48000/48000 [==============================] - 2s - loss: 0.0292 - acc: 0.9908 - val_loss: 0.0932 - val_acc: 0.9813\n",
      "Epoch 115/200\n",
      "48000/48000 [==============================] - 3s - loss: 0.0327 - acc: 0.9906 - val_loss: 0.1026 - val_acc: 0.9788\n",
      "Epoch 116/200\n",
      "48000/48000 [==============================] - 3s - loss: 0.0321 - acc: 0.9909 - val_loss: 0.0979 - val_acc: 0.9809\n",
      "Epoch 117/200\n",
      "48000/48000 [==============================] - 2s - loss: 0.0284 - acc: 0.9914 - val_loss: 0.1006 - val_acc: 0.9797\n",
      "Epoch 118/200\n",
      "48000/48000 [==============================] - 2s - loss: 0.0290 - acc: 0.9913 - val_loss: 0.1101 - val_acc: 0.9793\n",
      "Epoch 119/200\n",
      "48000/48000 [==============================] - 2s - loss: 0.0344 - acc: 0.9903 - val_loss: 0.1016 - val_acc: 0.9802\n",
      "Epoch 120/200\n",
      "48000/48000 [==============================] - 2s - loss: 0.0317 - acc: 0.9899 - val_loss: 0.1087 - val_acc: 0.9793\n",
      "Epoch 121/200\n",
      "48000/48000 [==============================] - 3s - loss: 0.0295 - acc: 0.9911 - val_loss: 0.1014 - val_acc: 0.9799\n",
      "Epoch 122/200\n",
      "48000/48000 [==============================] - 2s - loss: 0.0288 - acc: 0.9916 - val_loss: 0.1127 - val_acc: 0.9785\n",
      "Epoch 123/200\n",
      "48000/48000 [==============================] - 2s - loss: 0.0291 - acc: 0.9920 - val_loss: 0.1068 - val_acc: 0.9788\n",
      "Epoch 124/200\n",
      "48000/48000 [==============================] - 2s - loss: 0.0286 - acc: 0.9913 - val_loss: 0.1080 - val_acc: 0.9799\n",
      "Epoch 125/200\n",
      "48000/48000 [==============================] - 3s - loss: 0.0328 - acc: 0.9909 - val_loss: 0.1130 - val_acc: 0.9809\n",
      "Epoch 126/200\n",
      "48000/48000 [==============================] - 3s - loss: 0.0318 - acc: 0.9911 - val_loss: 0.1025 - val_acc: 0.9796\n",
      "Epoch 127/200\n",
      "48000/48000 [==============================] - 3s - loss: 0.0257 - acc: 0.9919 - val_loss: 0.0986 - val_acc: 0.9809\n",
      "Epoch 128/200\n",
      "48000/48000 [==============================] - 2s - loss: 0.0295 - acc: 0.9914 - val_loss: 0.1150 - val_acc: 0.9785\n",
      "Epoch 129/200\n",
      "48000/48000 [==============================] - 2s - loss: 0.0316 - acc: 0.9909 - val_loss: 0.1032 - val_acc: 0.9781\n",
      "Epoch 130/200\n",
      "48000/48000 [==============================] - 2s - loss: 0.0282 - acc: 0.9920 - val_loss: 0.1047 - val_acc: 0.9794\n",
      "Epoch 131/200\n",
      "48000/48000 [==============================] - 2s - loss: 0.0294 - acc: 0.9914 - val_loss: 0.1090 - val_acc: 0.9797\n",
      "Epoch 132/200\n",
      "48000/48000 [==============================] - 2s - loss: 0.0284 - acc: 0.9908 - val_loss: 0.1105 - val_acc: 0.9802\n",
      "Epoch 133/200\n",
      "48000/48000 [==============================] - 2s - loss: 0.0287 - acc: 0.9914 - val_loss: 0.1098 - val_acc: 0.9778\n",
      "Epoch 134/200\n",
      "48000/48000 [==============================] - 2s - loss: 0.0264 - acc: 0.9922 - val_loss: 0.1088 - val_acc: 0.9792\n",
      "Epoch 135/200\n",
      "48000/48000 [==============================] - 2s - loss: 0.0285 - acc: 0.9917 - val_loss: 0.1093 - val_acc: 0.9796\n",
      "Epoch 136/200\n",
      "48000/48000 [==============================] - 2s - loss: 0.0294 - acc: 0.9910 - val_loss: 0.1113 - val_acc: 0.9787\n",
      "Epoch 137/200\n",
      "48000/48000 [==============================] - 2s - loss: 0.0275 - acc: 0.9921 - val_loss: 0.1061 - val_acc: 0.9807\n",
      "Epoch 138/200\n",
      "48000/48000 [==============================] - 2s - loss: 0.0272 - acc: 0.9919 - val_loss: 0.1078 - val_acc: 0.9795\n",
      "Epoch 139/200\n",
      "48000/48000 [==============================] - 2s - loss: 0.0278 - acc: 0.9922 - val_loss: 0.1130 - val_acc: 0.9778\n",
      "Epoch 140/200\n",
      "48000/48000 [==============================] - 2s - loss: 0.0291 - acc: 0.9915 - val_loss: 0.1166 - val_acc: 0.9776\n",
      "Epoch 141/200\n",
      "48000/48000 [==============================] - 2s - loss: 0.0286 - acc: 0.9919 - val_loss: 0.1086 - val_acc: 0.9792\n",
      "Epoch 142/200\n",
      "48000/48000 [==============================] - 2s - loss: 0.0261 - acc: 0.9922 - val_loss: 0.1124 - val_acc: 0.9788\n",
      "Epoch 143/200\n",
      "48000/48000 [==============================] - 2s - loss: 0.0290 - acc: 0.9920 - val_loss: 0.1105 - val_acc: 0.9778\n",
      "Epoch 144/200\n",
      "48000/48000 [==============================] - 2s - loss: 0.0289 - acc: 0.9912 - val_loss: 0.1144 - val_acc: 0.9783\n",
      "Epoch 145/200\n",
      "48000/48000 [==============================] - 2s - loss: 0.0318 - acc: 0.9910 - val_loss: 0.1123 - val_acc: 0.9793\n",
      "Epoch 146/200\n",
      "48000/48000 [==============================] - 2s - loss: 0.0322 - acc: 0.9906 - val_loss: 0.1068 - val_acc: 0.9797\n",
      "Epoch 147/200\n",
      "48000/48000 [==============================] - 2s - loss: 0.0274 - acc: 0.9921 - val_loss: 0.1059 - val_acc: 0.9801\n",
      "Epoch 148/200\n",
      "48000/48000 [==============================] - 2s - loss: 0.0271 - acc: 0.9921 - val_loss: 0.1082 - val_acc: 0.9800\n",
      "Epoch 149/200\n",
      "48000/48000 [==============================] - 2s - loss: 0.0266 - acc: 0.9922 - val_loss: 0.1071 - val_acc: 0.9800\n",
      "Epoch 150/200\n",
      "48000/48000 [==============================] - 3s - loss: 0.0256 - acc: 0.9923 - val_loss: 0.1043 - val_acc: 0.9798\n",
      "Epoch 151/200\n",
      "48000/48000 [==============================] - 2s - loss: 0.0296 - acc: 0.9915 - val_loss: 0.1053 - val_acc: 0.9793\n",
      "Epoch 152/200\n",
      "48000/48000 [==============================] - 3s - loss: 0.0267 - acc: 0.9923 - val_loss: 0.1167 - val_acc: 0.9785\n",
      "Epoch 153/200\n",
      "48000/48000 [==============================] - 2s - loss: 0.0290 - acc: 0.9920 - val_loss: 0.1070 - val_acc: 0.9783\n",
      "Epoch 154/200\n",
      "48000/48000 [==============================] - 2s - loss: 0.0263 - acc: 0.9921 - val_loss: 0.1128 - val_acc: 0.9798\n",
      "Epoch 155/200\n",
      "48000/48000 [==============================] - 2s - loss: 0.0279 - acc: 0.9920 - val_loss: 0.1100 - val_acc: 0.9800\n",
      "Epoch 156/200\n",
      "48000/48000 [==============================] - 2s - loss: 0.0317 - acc: 0.9912 - val_loss: 0.1061 - val_acc: 0.9803\n",
      "Epoch 157/200\n",
      "48000/48000 [==============================] - 2s - loss: 0.0237 - acc: 0.9924 - val_loss: 0.1061 - val_acc: 0.9798\n",
      "Epoch 158/200\n",
      "48000/48000 [==============================] - 2s - loss: 0.0263 - acc: 0.9924 - val_loss: 0.1076 - val_acc: 0.9785\n",
      "Epoch 159/200\n",
      "48000/48000 [==============================] - 2s - loss: 0.0271 - acc: 0.9921 - val_loss: 0.1059 - val_acc: 0.9791\n",
      "Epoch 160/200\n",
      "48000/48000 [==============================] - 2s - loss: 0.0294 - acc: 0.9922 - val_loss: 0.1135 - val_acc: 0.9797\n",
      "Epoch 161/200\n",
      "48000/48000 [==============================] - 2s - loss: 0.0328 - acc: 0.9911 - val_loss: 0.1032 - val_acc: 0.9790\n",
      "Epoch 162/200\n",
      "48000/48000 [==============================] - 2s - loss: 0.0297 - acc: 0.9913 - val_loss: 0.1017 - val_acc: 0.9797\n",
      "Epoch 163/200\n",
      "48000/48000 [==============================] - 2s - loss: 0.0253 - acc: 0.9925 - val_loss: 0.1065 - val_acc: 0.9800\n",
      "Epoch 164/200\n",
      "48000/48000 [==============================] - 2s - loss: 0.0242 - acc: 0.9929 - val_loss: 0.1034 - val_acc: 0.9811\n",
      "Epoch 165/200\n",
      "48000/48000 [==============================] - 2s - loss: 0.0251 - acc: 0.9926 - val_loss: 0.1074 - val_acc: 0.9796\n",
      "Epoch 166/200\n",
      "48000/48000 [==============================] - 2s - loss: 0.0279 - acc: 0.9928 - val_loss: 0.1057 - val_acc: 0.9796\n",
      "Epoch 167/200\n",
      "48000/48000 [==============================] - 2s - loss: 0.0269 - acc: 0.9925 - val_loss: 0.1074 - val_acc: 0.9788\n",
      "Epoch 168/200\n",
      "48000/48000 [==============================] - 2s - loss: 0.0257 - acc: 0.9923 - val_loss: 0.1136 - val_acc: 0.9790\n",
      "Epoch 169/200\n",
      "48000/48000 [==============================] - 2s - loss: 0.0260 - acc: 0.9925 - val_loss: 0.1126 - val_acc: 0.9796\n",
      "Epoch 170/200\n",
      "48000/48000 [==============================] - 2s - loss: 0.0268 - acc: 0.9928 - val_loss: 0.1169 - val_acc: 0.9792\n",
      "Epoch 171/200\n",
      "48000/48000 [==============================] - 2s - loss: 0.0248 - acc: 0.9929 - val_loss: 0.1176 - val_acc: 0.9791\n",
      "Epoch 172/200\n",
      "48000/48000 [==============================] - 2s - loss: 0.0277 - acc: 0.9921 - val_loss: 0.1200 - val_acc: 0.9789\n",
      "Epoch 173/200\n",
      "48000/48000 [==============================] - 2s - loss: 0.0320 - acc: 0.9917 - val_loss: 0.1089 - val_acc: 0.9787\n",
      "Epoch 174/200\n",
      "48000/48000 [==============================] - 2s - loss: 0.0263 - acc: 0.9930 - val_loss: 0.1097 - val_acc: 0.9793\n",
      "Epoch 175/200\n",
      "48000/48000 [==============================] - 2s - loss: 0.0254 - acc: 0.9929 - val_loss: 0.1222 - val_acc: 0.9795\n",
      "Epoch 176/200\n",
      "48000/48000 [==============================] - 2s - loss: 0.0255 - acc: 0.9926 - val_loss: 0.1141 - val_acc: 0.9794\n",
      "Epoch 177/200\n",
      "48000/48000 [==============================] - 2s - loss: 0.0276 - acc: 0.9922 - val_loss: 0.1125 - val_acc: 0.9814\n",
      "Epoch 178/200\n",
      "48000/48000 [==============================] - 2s - loss: 0.0256 - acc: 0.9923 - val_loss: 0.1198 - val_acc: 0.9787\n",
      "Epoch 179/200\n",
      "48000/48000 [==============================] - 2s - loss: 0.0286 - acc: 0.9922 - val_loss: 0.1162 - val_acc: 0.9788\n",
      "Epoch 180/200\n",
      "48000/48000 [==============================] - 2s - loss: 0.0274 - acc: 0.9923 - val_loss: 0.1106 - val_acc: 0.9807\n",
      "Epoch 181/200\n",
      "48000/48000 [==============================] - 2s - loss: 0.0261 - acc: 0.9925 - val_loss: 0.1134 - val_acc: 0.9787\n",
      "Epoch 182/200\n",
      "48000/48000 [==============================] - 2s - loss: 0.0305 - acc: 0.9918 - val_loss: 0.1061 - val_acc: 0.9802\n",
      "Epoch 183/200\n",
      "48000/48000 [==============================] - 2s - loss: 0.0268 - acc: 0.9924 - val_loss: 0.1101 - val_acc: 0.9798\n",
      "Epoch 184/200\n",
      "48000/48000 [==============================] - 2s - loss: 0.0233 - acc: 0.9932 - val_loss: 0.1066 - val_acc: 0.9796\n",
      "Epoch 185/200\n",
      "48000/48000 [==============================] - 2s - loss: 0.0265 - acc: 0.9926 - val_loss: 0.1086 - val_acc: 0.9801\n",
      "Epoch 186/200\n",
      "48000/48000 [==============================] - 2s - loss: 0.0269 - acc: 0.9924 - val_loss: 0.1092 - val_acc: 0.9792\n",
      "Epoch 187/200\n",
      "48000/48000 [==============================] - 2s - loss: 0.0259 - acc: 0.9923 - val_loss: 0.1137 - val_acc: 0.9787\n",
      "Epoch 188/200\n",
      "48000/48000 [==============================] - 2s - loss: 0.0256 - acc: 0.9929 - val_loss: 0.1089 - val_acc: 0.9790\n",
      "Epoch 189/200\n",
      "48000/48000 [==============================] - 2s - loss: 0.0265 - acc: 0.9930 - val_loss: 0.1176 - val_acc: 0.9786\n",
      "Epoch 190/200\n",
      "48000/48000 [==============================] - 2s - loss: 0.0245 - acc: 0.9935 - val_loss: 0.1060 - val_acc: 0.9817\n",
      "Epoch 191/200\n",
      "48000/48000 [==============================] - 2s - loss: 0.0266 - acc: 0.9928 - val_loss: 0.1112 - val_acc: 0.9805\n",
      "Epoch 192/200\n",
      "48000/48000 [==============================] - 2s - loss: 0.0218 - acc: 0.9937 - val_loss: 0.1147 - val_acc: 0.9813\n",
      "Epoch 193/200\n",
      "48000/48000 [==============================] - 2s - loss: 0.0287 - acc: 0.9924 - val_loss: 0.1091 - val_acc: 0.9798\n",
      "Epoch 194/200\n",
      "48000/48000 [==============================] - 2s - loss: 0.0250 - acc: 0.9929 - val_loss: 0.1100 - val_acc: 0.9790\n",
      "Epoch 195/200\n",
      "48000/48000 [==============================] - 2s - loss: 0.0256 - acc: 0.9929 - val_loss: 0.1102 - val_acc: 0.9794\n",
      "Epoch 196/200\n",
      "48000/48000 [==============================] - 2s - loss: 0.0243 - acc: 0.9934 - val_loss: 0.1127 - val_acc: 0.9796\n",
      "Epoch 197/200\n",
      "48000/48000 [==============================] - 2s - loss: 0.0261 - acc: 0.9928 - val_loss: 0.1143 - val_acc: 0.9792\n",
      "Epoch 198/200\n",
      "48000/48000 [==============================] - 2s - loss: 0.0254 - acc: 0.9924 - val_loss: 0.1109 - val_acc: 0.9794\n",
      "Epoch 199/200\n",
      "48000/48000 [==============================] - 2s - loss: 0.0263 - acc: 0.9928 - val_loss: 0.1099 - val_acc: 0.9793\n",
      "Epoch 200/200\n",
      "48000/48000 [==============================] - 2s - loss: 0.0263 - acc: 0.9928 - val_loss: 0.1042 - val_acc: 0.9807\n"
     ]
    }
   ],
   "source": [
    "time_start = time.clock()\n",
    "history = model.fit(X_train, y_train,\n",
    "                    batch_size=128,\n",
    "                    epochs=200,\n",
    "                    verbose=1,\n",
    "                    validation_split=0.2)\n",
    "time_end = time.clock()"
   ]
  },
  {
   "cell_type": "code",
   "execution_count": 10,
   "metadata": {
    "collapsed": true
   },
   "outputs": [],
   "source": [
    "time_end = time.clock()"
   ]
  },
  {
   "cell_type": "code",
   "execution_count": 11,
   "metadata": {
    "collapsed": false
   },
   "outputs": [
    {
     "name": "stdout",
     "output_type": "stream",
     "text": [
      "Time to train\n",
      "Time elapsed in seconds : 508\n",
      "Time elapsed in minutes : 8.5\n",
      "Time elapsed in hours   : 0.1\n"
     ]
    }
   ],
   "source": [
    "duration = time_end - time_start\n",
    "print(\"Time to train\")\n",
    "print(\"Time elapsed in seconds : %.0f\" % duration)\n",
    "print(\"Time elapsed in minutes : %.1f\" % (duration/60))\n",
    "print(\"Time elapsed in hours   : %.1f\" % (duration/3600))"
   ]
  },
  {
   "cell_type": "code",
   "execution_count": 12,
   "metadata": {
    "collapsed": false
   },
   "outputs": [
    {
     "name": "stdout",
     "output_type": "stream",
     "text": [
      " 9152/10000 [==========================>...] - ETA: 0s\n",
      "Test score: 0.119928683023\n",
      "Test accuracy: 0.9795\n"
     ]
    }
   ],
   "source": [
    "score = model.evaluate(X_test, y_test,\n",
    "                       verbose=1)\n",
    "print(\"\")\n",
    "print(\"Test score:\", score[0])\n",
    "print(\"Test accuracy:\", score[1])"
   ]
  },
  {
   "cell_type": "code",
   "execution_count": 13,
   "metadata": {
    "collapsed": false
   },
   "outputs": [
    {
     "name": "stdout",
     "output_type": "stream",
     "text": [
      "dict_keys(['val_acc', 'loss', 'val_loss', 'acc'])\n"
     ]
    }
   ],
   "source": [
    "# list all data in history\n",
    "print(history.history.keys())"
   ]
  },
  {
   "cell_type": "code",
   "execution_count": 14,
   "metadata": {
    "collapsed": false
   },
   "outputs": [
    {
     "data": {
      "image/png": "[encoded data removed]",
      "text/plain": [
       "<matplotlib.figure.Figure at 0x26667b5c940>"
      ]
     },
     "metadata": {},
     "output_type": "display_data"
    }
   ],
   "source": [
    "# Accuracy\n",
    "plt.plot(history.history[\"acc\"])\n",
    "plt.plot(history.history[\"val_acc\"])\n",
    "plt.title(\"model accuracy\")\n",
    "plt.ylabel(\"accuracy\")\n",
    "plt.xlabel(\"epoch\")\n",
    "plt.legend([\"train\", \"test\"], loc=\"lower left\")\n",
    "plt.show()"
   ]
  },
  {
   "cell_type": "code",
   "execution_count": 15,
   "metadata": {
    "collapsed": false
   },
   "outputs": [
    {
     "data": {
      "image/png": "[encoded data removed]",
      "text/plain": [
       "<matplotlib.figure.Figure at 0x26667ccf860>"
      ]
     },
     "metadata": {},
     "output_type": "display_data"
    }
   ],
   "source": [
    "# Loss\n",
    "plt.plot(history.history[\"loss\"])\n",
    "plt.plot(history.history[\"val_loss\"])\n",
    "plt.title(\"model loss\")\n",
    "plt.ylabel(\"loss\")\n",
    "plt.xlabel(\"epoch\")\n",
    "plt.legend([\"train\", \"test\"], loc=\"upper left\")\n",
    "plt.show()"
   ]
  }
 ],
 "metadata": {
  "anaconda-cloud": {},
  "kernelspec": {
   "display_name": "Python [default]",
   "language": "python",
   "name": "python3"
  },
  "language_info": {
   "codemirror_mode": {
    "name": "ipython",
    "version": 3
   },
   "file_extension": ".py",
   "mimetype": "text/x-python",
   "name": "python",
   "nbconvert_exporter": "python",
   "pygments_lexer": "ipython3",
   "version": "3.5.2"
  }
 },
 "nbformat": 4,
 "nbformat_minor": 1
}
