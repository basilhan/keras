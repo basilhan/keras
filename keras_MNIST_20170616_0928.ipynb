{
 "cells": [
  {
   "cell_type": "code",
   "execution_count": 1,
   "metadata": {
    "collapsed": false
   },
   "outputs": [
    {
     "name": "stderr",
     "output_type": "stream",
     "text": [
      "Using TensorFlow backend.\n"
     ]
    }
   ],
   "source": [
    "import numpy as np\n",
    "import matplotlib.pyplot as plt\n",
    "import time\n",
    "from keras.datasets import mnist\n",
    "from keras.models import Sequential\n",
    "from keras.layers.core import Dense, Dropout, Activation\n",
    "from keras.optimizers import SGD, Adam, RMSprop, Adagrad, Adadelta\n",
    "from keras.utils import np_utils\n",
    "from tensorflow import set_random_seed"
   ]
  },
  {
   "cell_type": "code",
   "execution_count": 2,
   "metadata": {
    "collapsed": false
   },
   "outputs": [],
   "source": [
    "np.random.seed(2015)\n",
    "set_random_seed(2015)"
   ]
  },
  {
   "cell_type": "code",
   "execution_count": 3,
   "metadata": {
    "collapsed": false
   },
   "outputs": [],
   "source": [
    "# Load data\n",
    "(X_train, y_train), (X_test, y_test) = mnist.load_data()"
   ]
  },
  {
   "cell_type": "code",
   "execution_count": 4,
   "metadata": {
    "collapsed": false
   },
   "outputs": [
    {
     "name": "stdout",
     "output_type": "stream",
     "text": [
      "60000 training samples\n",
      "10000 testing samples\n"
     ]
    }
   ],
   "source": [
    "# Preprocessing\n",
    "X_train = X_train.reshape(60000, 784)\n",
    "X_test  = X_test.reshape(10000, 784)\n",
    "X_train = X_train.astype(\"float32\")\n",
    "X_test  = X_test.astype(\"float32\")\n",
    "X_train /= 255\n",
    "X_test  /= 255\n",
    "print(X_train.shape[0], \"training samples\")\n",
    "print(X_test.shape[0], \"testing samples\")"
   ]
  },
  {
   "cell_type": "code",
   "execution_count": 5,
   "metadata": {
    "collapsed": true
   },
   "outputs": [],
   "source": [
    "# Convert labels to one-hot encoding\n",
    "# e.g. 1 -> array([ 0.,  1.,  0.,  0.,  0.,  0.,  0.,  0.,  0.,  0.])\n",
    "y_train = np_utils.to_categorical(y_train, 10)\n",
    "y_test = np_utils.to_categorical(y_test, 10)"
   ]
  },
  {
   "cell_type": "markdown",
   "metadata": {},
   "source": [
    "The argument *input_dim* is equivalent to *input_shape* ([reference](https://keras.io/getting-started/sequential-model-guide/))."
   ]
  },
  {
   "cell_type": "code",
   "execution_count": 6,
   "metadata": {
    "collapsed": false
   },
   "outputs": [],
   "source": [
    "# Define the model\n",
    "model = Sequential([\n",
    "        Dense(128, input_dim=784), Activation(\"relu\"), Dropout(0.3),\n",
    "        Dense(128), Activation(\"relu\"), Dropout(0.3),\n",
    "        Dense(10), Activation(\"softmax\")\n",
    "    ])"
   ]
  },
  {
   "cell_type": "code",
   "execution_count": 7,
   "metadata": {
    "collapsed": false
   },
   "outputs": [
    {
     "name": "stdout",
     "output_type": "stream",
     "text": [
      "_________________________________________________________________\n",
      "Layer (type)                 Output Shape              Param #   \n",
      "=================================================================\n",
      "dense_1 (Dense)              (None, 128)               100480    \n",
      "_________________________________________________________________\n",
      "activation_1 (Activation)    (None, 128)               0         \n",
      "_________________________________________________________________\n",
      "dropout_1 (Dropout)          (None, 128)               0         \n",
      "_________________________________________________________________\n",
      "dense_2 (Dense)              (None, 128)               16512     \n",
      "_________________________________________________________________\n",
      "activation_2 (Activation)    (None, 128)               0         \n",
      "_________________________________________________________________\n",
      "dropout_2 (Dropout)          (None, 128)               0         \n",
      "_________________________________________________________________\n",
      "dense_3 (Dense)              (None, 10)                1290      \n",
      "_________________________________________________________________\n",
      "activation_3 (Activation)    (None, 10)                0         \n",
      "=================================================================\n",
      "Total params: 118,282\n",
      "Trainable params: 118,282\n",
      "Non-trainable params: 0\n",
      "_________________________________________________________________\n"
     ]
    }
   ],
   "source": [
    "model.summary()"
   ]
  },
  {
   "cell_type": "code",
   "execution_count": 8,
   "metadata": {
    "collapsed": false
   },
   "outputs": [],
   "source": [
    "model.compile(loss=\"categorical_crossentropy\",\n",
    "              optimizer=Adadelta(),\n",
    "              metrics=[\"accuracy\"])"
   ]
  },
  {
   "cell_type": "code",
   "execution_count": 9,
   "metadata": {
    "collapsed": false
   },
   "outputs": [
    {
     "name": "stdout",
     "output_type": "stream",
     "text": [
      "Train on 48000 samples, validate on 12000 samples\n",
      "Epoch 1/200\n",
      "48000/48000 [==============================] - 2s - loss: 0.7092 - acc: 0.7792 - val_loss: 0.2606 - val_acc: 0.9238\n",
      "Epoch 2/200\n",
      "48000/48000 [==============================] - 2s - loss: 0.3364 - acc: 0.9000 - val_loss: 0.2050 - val_acc: 0.9407\n",
      "Epoch 3/200\n",
      "48000/48000 [==============================] - 2s - loss: 0.2749 - acc: 0.9189 - val_loss: 0.1779 - val_acc: 0.9475\n",
      "Epoch 4/200\n",
      "48000/48000 [==============================] - 2s - loss: 0.2400 - acc: 0.9303 - val_loss: 0.1572 - val_acc: 0.9535\n",
      "Epoch 5/200\n",
      "48000/48000 [==============================] - 2s - loss: 0.2078 - acc: 0.9380 - val_loss: 0.1448 - val_acc: 0.9577\n",
      "Epoch 6/200\n",
      "48000/48000 [==============================] - 2s - loss: 0.1909 - acc: 0.9441 - val_loss: 0.1341 - val_acc: 0.9609\n",
      "Epoch 7/200\n",
      "48000/48000 [==============================] - 2s - loss: 0.1777 - acc: 0.9477 - val_loss: 0.1273 - val_acc: 0.9621\n",
      "Epoch 8/200\n",
      "48000/48000 [==============================] - 2s - loss: 0.1654 - acc: 0.9514 - val_loss: 0.1193 - val_acc: 0.9652\n",
      "Epoch 9/200\n",
      "48000/48000 [==============================] - 2s - loss: 0.1543 - acc: 0.9544 - val_loss: 0.1151 - val_acc: 0.9657\n",
      "Epoch 10/200\n",
      "48000/48000 [==============================] - 2s - loss: 0.1444 - acc: 0.9568 - val_loss: 0.1099 - val_acc: 0.9682\n",
      "Epoch 11/200\n",
      "48000/48000 [==============================] - 2s - loss: 0.1402 - acc: 0.9580 - val_loss: 0.1062 - val_acc: 0.9696\n",
      "Epoch 12/200\n",
      "48000/48000 [==============================] - 2s - loss: 0.1328 - acc: 0.9600 - val_loss: 0.1012 - val_acc: 0.9702\n",
      "Epoch 13/200\n",
      "48000/48000 [==============================] - 2s - loss: 0.1248 - acc: 0.9632 - val_loss: 0.0987 - val_acc: 0.9715\n",
      "Epoch 14/200\n",
      "48000/48000 [==============================] - 2s - loss: 0.1205 - acc: 0.9640 - val_loss: 0.0999 - val_acc: 0.9694\n",
      "Epoch 15/200\n",
      "48000/48000 [==============================] - 2s - loss: 0.1149 - acc: 0.9659 - val_loss: 0.0948 - val_acc: 0.9719\n",
      "Epoch 16/200\n",
      "48000/48000 [==============================] - 2s - loss: 0.1093 - acc: 0.9672 - val_loss: 0.0941 - val_acc: 0.9718\n",
      "Epoch 17/200\n",
      "48000/48000 [==============================] - 2s - loss: 0.1055 - acc: 0.9678 - val_loss: 0.0915 - val_acc: 0.9736\n",
      "Epoch 18/200\n",
      "48000/48000 [==============================] - 2s - loss: 0.1008 - acc: 0.9692 - val_loss: 0.0893 - val_acc: 0.9736\n",
      "Epoch 19/200\n",
      "48000/48000 [==============================] - 2s - loss: 0.1010 - acc: 0.9696 - val_loss: 0.0899 - val_acc: 0.9730\n",
      "Epoch 20/200\n",
      "48000/48000 [==============================] - 2s - loss: 0.0975 - acc: 0.9700 - val_loss: 0.0889 - val_acc: 0.9741\n",
      "Epoch 21/200\n",
      "48000/48000 [==============================] - 2s - loss: 0.0929 - acc: 0.9712 - val_loss: 0.0894 - val_acc: 0.9742\n",
      "Epoch 22/200\n",
      "48000/48000 [==============================] - 2s - loss: 0.0900 - acc: 0.9719 - val_loss: 0.0902 - val_acc: 0.9742\n",
      "Epoch 23/200\n",
      "48000/48000 [==============================] - 2s - loss: 0.0890 - acc: 0.9726 - val_loss: 0.0876 - val_acc: 0.9746\n",
      "Epoch 24/200\n",
      "48000/48000 [==============================] - 2s - loss: 0.0858 - acc: 0.9742 - val_loss: 0.0859 - val_acc: 0.9755\n",
      "Epoch 25/200\n",
      "48000/48000 [==============================] - 2s - loss: 0.0839 - acc: 0.9747 - val_loss: 0.0851 - val_acc: 0.9753\n",
      "Epoch 26/200\n",
      "48000/48000 [==============================] - 2s - loss: 0.0860 - acc: 0.9731 - val_loss: 0.0865 - val_acc: 0.9762\n",
      "Epoch 27/200\n",
      "48000/48000 [==============================] - 2s - loss: 0.0830 - acc: 0.9745 - val_loss: 0.0860 - val_acc: 0.9762\n",
      "Epoch 28/200\n",
      "48000/48000 [==============================] - 2s - loss: 0.0797 - acc: 0.9759 - val_loss: 0.0864 - val_acc: 0.9757\n",
      "Epoch 29/200\n",
      "48000/48000 [==============================] - 2s - loss: 0.0763 - acc: 0.9762 - val_loss: 0.0850 - val_acc: 0.9768\n",
      "Epoch 30/200\n",
      "48000/48000 [==============================] - 2s - loss: 0.0769 - acc: 0.9758 - val_loss: 0.0848 - val_acc: 0.9761\n",
      "Epoch 31/200\n",
      "48000/48000 [==============================] - 2s - loss: 0.0720 - acc: 0.9781 - val_loss: 0.0850 - val_acc: 0.9772\n",
      "Epoch 32/200\n",
      "48000/48000 [==============================] - 2s - loss: 0.0693 - acc: 0.9780 - val_loss: 0.0852 - val_acc: 0.9761\n",
      "Epoch 33/200\n",
      "48000/48000 [==============================] - 2s - loss: 0.0696 - acc: 0.9779 - val_loss: 0.0833 - val_acc: 0.9771\n",
      "Epoch 34/200\n",
      "48000/48000 [==============================] - 2s - loss: 0.0686 - acc: 0.9788 - val_loss: 0.0836 - val_acc: 0.9766\n",
      "Epoch 35/200\n",
      "48000/48000 [==============================] - 2s - loss: 0.0685 - acc: 0.9788 - val_loss: 0.0840 - val_acc: 0.9770\n",
      "Epoch 36/200\n",
      "48000/48000 [==============================] - 2s - loss: 0.0672 - acc: 0.9795 - val_loss: 0.0843 - val_acc: 0.9767\n",
      "Epoch 37/200\n",
      "48000/48000 [==============================] - 2s - loss: 0.0655 - acc: 0.9793 - val_loss: 0.0858 - val_acc: 0.9768\n",
      "Epoch 38/200\n",
      "48000/48000 [==============================] - 2s - loss: 0.0649 - acc: 0.9801 - val_loss: 0.0839 - val_acc: 0.9767\n",
      "Epoch 39/200\n",
      "48000/48000 [==============================] - 2s - loss: 0.0637 - acc: 0.9805 - val_loss: 0.0848 - val_acc: 0.9772\n",
      "Epoch 40/200\n",
      "48000/48000 [==============================] - 2s - loss: 0.0616 - acc: 0.9808 - val_loss: 0.0853 - val_acc: 0.9773\n",
      "Epoch 41/200\n",
      "48000/48000 [==============================] - 2s - loss: 0.0600 - acc: 0.9809 - val_loss: 0.0847 - val_acc: 0.9773\n",
      "Epoch 42/200\n",
      "48000/48000 [==============================] - 2s - loss: 0.0587 - acc: 0.9816 - val_loss: 0.0840 - val_acc: 0.9774\n",
      "Epoch 43/200\n",
      "48000/48000 [==============================] - 2s - loss: 0.0597 - acc: 0.9818 - val_loss: 0.0837 - val_acc: 0.9774\n",
      "Epoch 44/200\n",
      "48000/48000 [==============================] - 2s - loss: 0.0596 - acc: 0.9814 - val_loss: 0.0836 - val_acc: 0.9777\n",
      "Epoch 45/200\n",
      "48000/48000 [==============================] - 2s - loss: 0.0561 - acc: 0.9823 - val_loss: 0.0859 - val_acc: 0.9773\n",
      "Epoch 46/200\n",
      "48000/48000 [==============================] - 2s - loss: 0.0551 - acc: 0.9831 - val_loss: 0.0837 - val_acc: 0.9782\n",
      "Epoch 47/200\n",
      "48000/48000 [==============================] - 2s - loss: 0.0543 - acc: 0.9832 - val_loss: 0.0849 - val_acc: 0.9777\n",
      "Epoch 48/200\n",
      "48000/48000 [==============================] - 2s - loss: 0.0555 - acc: 0.9824 - val_loss: 0.0866 - val_acc: 0.9775\n",
      "Epoch 49/200\n",
      "48000/48000 [==============================] - 2s - loss: 0.0540 - acc: 0.9823 - val_loss: 0.0863 - val_acc: 0.9790\n",
      "Epoch 50/200\n",
      "48000/48000 [==============================] - 2s - loss: 0.0501 - acc: 0.9846 - val_loss: 0.0853 - val_acc: 0.9786\n",
      "Epoch 51/200\n",
      "48000/48000 [==============================] - 2s - loss: 0.0519 - acc: 0.9838 - val_loss: 0.0872 - val_acc: 0.9784\n",
      "Epoch 52/200\n",
      "48000/48000 [==============================] - 2s - loss: 0.0505 - acc: 0.9841 - val_loss: 0.0858 - val_acc: 0.9783\n",
      "Epoch 53/200\n",
      "48000/48000 [==============================] - 2s - loss: 0.0506 - acc: 0.9838 - val_loss: 0.0847 - val_acc: 0.9789\n",
      "Epoch 54/200\n",
      "48000/48000 [==============================] - 2s - loss: 0.0484 - acc: 0.9844 - val_loss: 0.0854 - val_acc: 0.9783\n",
      "Epoch 55/200\n",
      "48000/48000 [==============================] - 2s - loss: 0.0479 - acc: 0.9850 - val_loss: 0.0850 - val_acc: 0.9787\n",
      "Epoch 56/200\n",
      "48000/48000 [==============================] - 2s - loss: 0.0489 - acc: 0.9845 - val_loss: 0.0860 - val_acc: 0.9787\n",
      "Epoch 57/200\n",
      "48000/48000 [==============================] - 2s - loss: 0.0486 - acc: 0.9847 - val_loss: 0.0849 - val_acc: 0.9794\n",
      "Epoch 58/200\n",
      "48000/48000 [==============================] - 2s - loss: 0.0474 - acc: 0.9849 - val_loss: 0.0865 - val_acc: 0.9789\n",
      "Epoch 59/200\n",
      "48000/48000 [==============================] - 2s - loss: 0.0461 - acc: 0.9845 - val_loss: 0.0880 - val_acc: 0.9787\n",
      "Epoch 60/200\n",
      "48000/48000 [==============================] - 2s - loss: 0.0488 - acc: 0.9849 - val_loss: 0.0860 - val_acc: 0.9785\n",
      "Epoch 61/200\n",
      "48000/48000 [==============================] - 2s - loss: 0.0468 - acc: 0.9846 - val_loss: 0.0858 - val_acc: 0.9782\n",
      "Epoch 62/200\n",
      "48000/48000 [==============================] - 2s - loss: 0.0455 - acc: 0.9849 - val_loss: 0.0872 - val_acc: 0.9782\n",
      "Epoch 63/200\n",
      "48000/48000 [==============================] - 2s - loss: 0.0427 - acc: 0.9867 - val_loss: 0.0890 - val_acc: 0.9783\n",
      "Epoch 64/200\n",
      "48000/48000 [==============================] - 2s - loss: 0.0456 - acc: 0.9856 - val_loss: 0.0893 - val_acc: 0.9786\n",
      "Epoch 65/200\n",
      "48000/48000 [==============================] - 2s - loss: 0.0414 - acc: 0.9868 - val_loss: 0.0883 - val_acc: 0.9793\n",
      "Epoch 66/200\n",
      "48000/48000 [==============================] - 2s - loss: 0.0437 - acc: 0.9861 - val_loss: 0.0871 - val_acc: 0.9799\n",
      "Epoch 67/200\n",
      "48000/48000 [==============================] - 2s - loss: 0.0443 - acc: 0.9862 - val_loss: 0.0876 - val_acc: 0.9793\n",
      "Epoch 68/200\n",
      "48000/48000 [==============================] - 2s - loss: 0.0404 - acc: 0.9869 - val_loss: 0.0892 - val_acc: 0.9783\n",
      "Epoch 69/200\n",
      "48000/48000 [==============================] - 2s - loss: 0.0414 - acc: 0.9864 - val_loss: 0.0883 - val_acc: 0.9793\n",
      "Epoch 70/200\n",
      "48000/48000 [==============================] - 2s - loss: 0.0420 - acc: 0.9866 - val_loss: 0.0868 - val_acc: 0.9794\n",
      "Epoch 71/200\n",
      "48000/48000 [==============================] - 2s - loss: 0.0400 - acc: 0.9866 - val_loss: 0.0902 - val_acc: 0.9798\n",
      "Epoch 72/200\n",
      "48000/48000 [==============================] - 2s - loss: 0.0400 - acc: 0.9870 - val_loss: 0.0885 - val_acc: 0.9788\n",
      "Epoch 73/200\n",
      "48000/48000 [==============================] - 2s - loss: 0.0410 - acc: 0.9867 - val_loss: 0.0885 - val_acc: 0.9798\n",
      "Epoch 74/200\n",
      "48000/48000 [==============================] - 2s - loss: 0.0391 - acc: 0.9872 - val_loss: 0.0893 - val_acc: 0.9797\n",
      "Epoch 75/200\n",
      "48000/48000 [==============================] - 2s - loss: 0.0386 - acc: 0.9877 - val_loss: 0.0906 - val_acc: 0.9798\n",
      "Epoch 76/200\n",
      "48000/48000 [==============================] - 2s - loss: 0.0401 - acc: 0.9874 - val_loss: 0.0893 - val_acc: 0.9800\n",
      "Epoch 77/200\n",
      "48000/48000 [==============================] - 2s - loss: 0.0380 - acc: 0.9876 - val_loss: 0.0905 - val_acc: 0.9793\n",
      "Epoch 78/200\n",
      "48000/48000 [==============================] - 2s - loss: 0.0381 - acc: 0.9878 - val_loss: 0.0899 - val_acc: 0.9795\n",
      "Epoch 79/200\n",
      "48000/48000 [==============================] - 2s - loss: 0.0376 - acc: 0.9875 - val_loss: 0.0894 - val_acc: 0.9797\n",
      "Epoch 80/200\n",
      "48000/48000 [==============================] - 2s - loss: 0.0367 - acc: 0.9884 - val_loss: 0.0903 - val_acc: 0.9798\n",
      "Epoch 81/200\n",
      "48000/48000 [==============================] - 2s - loss: 0.0369 - acc: 0.9882 - val_loss: 0.0893 - val_acc: 0.9802\n",
      "Epoch 82/200\n",
      "48000/48000 [==============================] - 2s - loss: 0.0380 - acc: 0.9876 - val_loss: 0.0900 - val_acc: 0.9800\n",
      "Epoch 83/200\n",
      "48000/48000 [==============================] - 3s - loss: 0.0338 - acc: 0.9889 - val_loss: 0.0899 - val_acc: 0.9805\n",
      "Epoch 84/200\n",
      "48000/48000 [==============================] - 2s - loss: 0.0345 - acc: 0.9887 - val_loss: 0.0918 - val_acc: 0.9793\n",
      "Epoch 85/200\n",
      "48000/48000 [==============================] - 2s - loss: 0.0367 - acc: 0.9881 - val_loss: 0.0914 - val_acc: 0.9792\n",
      "Epoch 86/200\n",
      "48000/48000 [==============================] - 2s - loss: 0.0353 - acc: 0.9884 - val_loss: 0.0915 - val_acc: 0.9788\n",
      "Epoch 87/200\n",
      "48000/48000 [==============================] - 2s - loss: 0.0356 - acc: 0.9885 - val_loss: 0.0952 - val_acc: 0.9783\n",
      "Epoch 88/200\n",
      "48000/48000 [==============================] - 2s - loss: 0.0361 - acc: 0.9882 - val_loss: 0.0945 - val_acc: 0.9786\n",
      "Epoch 89/200\n",
      "48000/48000 [==============================] - 2s - loss: 0.0337 - acc: 0.9888 - val_loss: 0.0945 - val_acc: 0.9794\n",
      "Epoch 90/200\n",
      "48000/48000 [==============================] - 2s - loss: 0.0330 - acc: 0.9887 - val_loss: 0.0937 - val_acc: 0.9788\n",
      "Epoch 91/200\n",
      "48000/48000 [==============================] - 2s - loss: 0.0341 - acc: 0.9889 - val_loss: 0.0941 - val_acc: 0.9797\n",
      "Epoch 92/200\n",
      "48000/48000 [==============================] - 2s - loss: 0.0354 - acc: 0.9887 - val_loss: 0.0926 - val_acc: 0.9791\n",
      "Epoch 93/200\n",
      "48000/48000 [==============================] - 2s - loss: 0.0328 - acc: 0.9893 - val_loss: 0.0930 - val_acc: 0.9796\n",
      "Epoch 94/200\n",
      "48000/48000 [==============================] - 2s - loss: 0.0345 - acc: 0.9893 - val_loss: 0.0916 - val_acc: 0.9792\n",
      "Epoch 95/200\n",
      "48000/48000 [==============================] - 2s - loss: 0.0329 - acc: 0.9899 - val_loss: 0.0941 - val_acc: 0.9793\n",
      "Epoch 96/200\n",
      "48000/48000 [==============================] - 2s - loss: 0.0333 - acc: 0.9895 - val_loss: 0.0934 - val_acc: 0.9795\n",
      "Epoch 97/200\n",
      "48000/48000 [==============================] - 2s - loss: 0.0336 - acc: 0.9895 - val_loss: 0.0967 - val_acc: 0.9790\n",
      "Epoch 98/200\n",
      "48000/48000 [==============================] - 2s - loss: 0.0334 - acc: 0.9894 - val_loss: 0.0941 - val_acc: 0.9791\n",
      "Epoch 99/200\n",
      "48000/48000 [==============================] - 2s - loss: 0.0310 - acc: 0.9902 - val_loss: 0.0953 - val_acc: 0.9792\n",
      "Epoch 100/200\n",
      "48000/48000 [==============================] - 2s - loss: 0.0322 - acc: 0.9896 - val_loss: 0.0946 - val_acc: 0.9788\n",
      "Epoch 101/200\n",
      "48000/48000 [==============================] - 2s - loss: 0.0308 - acc: 0.9900 - val_loss: 0.0946 - val_acc: 0.9798\n",
      "Epoch 102/200\n",
      "48000/48000 [==============================] - 2s - loss: 0.0306 - acc: 0.9900 - val_loss: 0.0945 - val_acc: 0.9790\n",
      "Epoch 103/200\n",
      "48000/48000 [==============================] - 2s - loss: 0.0302 - acc: 0.9897 - val_loss: 0.0958 - val_acc: 0.9799\n",
      "Epoch 104/200\n",
      "48000/48000 [==============================] - 2s - loss: 0.0322 - acc: 0.9895 - val_loss: 0.0960 - val_acc: 0.9795\n",
      "Epoch 105/200\n",
      "48000/48000 [==============================] - 2s - loss: 0.0312 - acc: 0.9897 - val_loss: 0.0961 - val_acc: 0.9794\n",
      "Epoch 106/200\n",
      "48000/48000 [==============================] - 2s - loss: 0.0318 - acc: 0.9901 - val_loss: 0.0952 - val_acc: 0.9799\n",
      "Epoch 107/200\n",
      "48000/48000 [==============================] - 2s - loss: 0.0299 - acc: 0.9901 - val_loss: 0.0966 - val_acc: 0.9797\n",
      "Epoch 108/200\n",
      "48000/48000 [==============================] - 2s - loss: 0.0307 - acc: 0.9900 - val_loss: 0.0980 - val_acc: 0.9791\n",
      "Epoch 109/200\n",
      "48000/48000 [==============================] - 2s - loss: 0.0280 - acc: 0.9907 - val_loss: 0.0984 - val_acc: 0.9790\n",
      "Epoch 110/200\n",
      "48000/48000 [==============================] - 2s - loss: 0.0297 - acc: 0.9903 - val_loss: 0.0955 - val_acc: 0.9799\n",
      "Epoch 111/200\n",
      "48000/48000 [==============================] - 2s - loss: 0.0294 - acc: 0.9903 - val_loss: 0.0953 - val_acc: 0.9798\n",
      "Epoch 112/200\n",
      "48000/48000 [==============================] - 2s - loss: 0.0278 - acc: 0.9913 - val_loss: 0.0962 - val_acc: 0.9802\n",
      "Epoch 113/200\n",
      "48000/48000 [==============================] - 2s - loss: 0.0289 - acc: 0.9909 - val_loss: 0.0988 - val_acc: 0.9800\n",
      "Epoch 114/200\n",
      "48000/48000 [==============================] - 2s - loss: 0.0268 - acc: 0.9915 - val_loss: 0.0966 - val_acc: 0.9787\n",
      "Epoch 115/200\n",
      "48000/48000 [==============================] - 2s - loss: 0.0278 - acc: 0.9910 - val_loss: 0.0961 - val_acc: 0.9803\n",
      "Epoch 116/200\n",
      "48000/48000 [==============================] - 2s - loss: 0.0279 - acc: 0.9909 - val_loss: 0.0963 - val_acc: 0.9792\n",
      "Epoch 117/200\n",
      "48000/48000 [==============================] - 2s - loss: 0.0289 - acc: 0.9905 - val_loss: 0.0993 - val_acc: 0.9799\n",
      "Epoch 118/200\n",
      "48000/48000 [==============================] - 2s - loss: 0.0266 - acc: 0.9911 - val_loss: 0.0989 - val_acc: 0.9801\n",
      "Epoch 119/200\n",
      "48000/48000 [==============================] - 2s - loss: 0.0295 - acc: 0.9903 - val_loss: 0.0957 - val_acc: 0.9801\n",
      "Epoch 120/200\n",
      "48000/48000 [==============================] - 2s - loss: 0.0284 - acc: 0.9909 - val_loss: 0.0975 - val_acc: 0.9794\n",
      "Epoch 121/200\n",
      "48000/48000 [==============================] - 2s - loss: 0.0264 - acc: 0.9916 - val_loss: 0.0999 - val_acc: 0.9791\n",
      "Epoch 122/200\n",
      "48000/48000 [==============================] - 2s - loss: 0.0273 - acc: 0.9910 - val_loss: 0.1001 - val_acc: 0.9792\n",
      "Epoch 123/200\n",
      "48000/48000 [==============================] - 2s - loss: 0.0250 - acc: 0.9917 - val_loss: 0.1021 - val_acc: 0.9788\n",
      "Epoch 124/200\n",
      "48000/48000 [==============================] - 2s - loss: 0.0278 - acc: 0.9904 - val_loss: 0.1010 - val_acc: 0.9793\n",
      "Epoch 125/200\n",
      "48000/48000 [==============================] - 2s - loss: 0.0266 - acc: 0.9913 - val_loss: 0.1012 - val_acc: 0.9793\n",
      "Epoch 126/200\n",
      "48000/48000 [==============================] - 2s - loss: 0.0269 - acc: 0.9914 - val_loss: 0.1005 - val_acc: 0.9791\n",
      "Epoch 127/200\n",
      "48000/48000 [==============================] - 2s - loss: 0.0266 - acc: 0.9912 - val_loss: 0.0995 - val_acc: 0.9798\n",
      "Epoch 128/200\n",
      "48000/48000 [==============================] - 2s - loss: 0.0258 - acc: 0.9912 - val_loss: 0.1017 - val_acc: 0.9799\n",
      "Epoch 129/200\n",
      "48000/48000 [==============================] - 2s - loss: 0.0275 - acc: 0.9909 - val_loss: 0.0982 - val_acc: 0.9798\n",
      "Epoch 130/200\n",
      "48000/48000 [==============================] - 2s - loss: 0.0270 - acc: 0.9912 - val_loss: 0.1011 - val_acc: 0.9793\n",
      "Epoch 131/200\n",
      "48000/48000 [==============================] - 2s - loss: 0.0259 - acc: 0.9915 - val_loss: 0.1013 - val_acc: 0.9797\n",
      "Epoch 132/200\n",
      "48000/48000 [==============================] - 2s - loss: 0.0273 - acc: 0.9915 - val_loss: 0.1032 - val_acc: 0.9793\n",
      "Epoch 133/200\n",
      "48000/48000 [==============================] - 2s - loss: 0.0278 - acc: 0.9912 - val_loss: 0.0985 - val_acc: 0.9808\n",
      "Epoch 134/200\n",
      "48000/48000 [==============================] - 2s - loss: 0.0242 - acc: 0.9922 - val_loss: 0.1016 - val_acc: 0.9800\n",
      "Epoch 135/200\n",
      "48000/48000 [==============================] - 2s - loss: 0.0251 - acc: 0.9915 - val_loss: 0.1035 - val_acc: 0.9794\n",
      "Epoch 136/200\n",
      "48000/48000 [==============================] - 2s - loss: 0.0263 - acc: 0.9914 - val_loss: 0.1038 - val_acc: 0.9792\n",
      "Epoch 137/200\n",
      "48000/48000 [==============================] - 2s - loss: 0.0254 - acc: 0.9919 - val_loss: 0.1032 - val_acc: 0.9790\n",
      "Epoch 138/200\n",
      "48000/48000 [==============================] - 2s - loss: 0.0254 - acc: 0.9918 - val_loss: 0.1023 - val_acc: 0.9803\n",
      "Epoch 139/200\n",
      "48000/48000 [==============================] - 2s - loss: 0.0248 - acc: 0.9916 - val_loss: 0.1027 - val_acc: 0.9798\n",
      "Epoch 140/200\n",
      "48000/48000 [==============================] - 2s - loss: 0.0253 - acc: 0.9918 - val_loss: 0.1033 - val_acc: 0.9798\n",
      "Epoch 141/200\n",
      "48000/48000 [==============================] - 2s - loss: 0.0264 - acc: 0.9914 - val_loss: 0.1035 - val_acc: 0.9796\n",
      "Epoch 142/200\n",
      "48000/48000 [==============================] - 2s - loss: 0.0256 - acc: 0.9915 - val_loss: 0.1024 - val_acc: 0.9800\n",
      "Epoch 143/200\n",
      "48000/48000 [==============================] - 2s - loss: 0.0249 - acc: 0.9924 - val_loss: 0.1027 - val_acc: 0.9793\n",
      "Epoch 144/200\n",
      "48000/48000 [==============================] - 2s - loss: 0.0242 - acc: 0.9924 - val_loss: 0.1039 - val_acc: 0.9808\n",
      "Epoch 145/200\n",
      "48000/48000 [==============================] - 2s - loss: 0.0249 - acc: 0.9921 - val_loss: 0.1019 - val_acc: 0.9803\n",
      "Epoch 146/200\n",
      "48000/48000 [==============================] - 2s - loss: 0.0252 - acc: 0.9916 - val_loss: 0.1047 - val_acc: 0.9795\n",
      "Epoch 147/200\n",
      "48000/48000 [==============================] - 2s - loss: 0.0241 - acc: 0.9926 - val_loss: 0.1037 - val_acc: 0.9795\n",
      "Epoch 148/200\n",
      "48000/48000 [==============================] - 2s - loss: 0.0244 - acc: 0.9922 - val_loss: 0.1038 - val_acc: 0.9795\n",
      "Epoch 149/200\n",
      "48000/48000 [==============================] - 2s - loss: 0.0244 - acc: 0.9921 - val_loss: 0.1050 - val_acc: 0.9799\n",
      "Epoch 150/200\n",
      "48000/48000 [==============================] - 2s - loss: 0.0224 - acc: 0.9931 - val_loss: 0.1056 - val_acc: 0.9798\n",
      "Epoch 151/200\n",
      "48000/48000 [==============================] - 2s - loss: 0.0247 - acc: 0.9922 - val_loss: 0.1023 - val_acc: 0.9797\n",
      "Epoch 152/200\n",
      "48000/48000 [==============================] - 2s - loss: 0.0221 - acc: 0.9927 - val_loss: 0.1053 - val_acc: 0.9798\n",
      "Epoch 153/200\n",
      "48000/48000 [==============================] - 2s - loss: 0.0244 - acc: 0.9921 - val_loss: 0.1053 - val_acc: 0.9798\n",
      "Epoch 154/200\n",
      "48000/48000 [==============================] - 2s - loss: 0.0219 - acc: 0.9930 - val_loss: 0.1066 - val_acc: 0.9793\n",
      "Epoch 155/200\n",
      "48000/48000 [==============================] - 2s - loss: 0.0230 - acc: 0.9920 - val_loss: 0.1053 - val_acc: 0.9803\n",
      "Epoch 156/200\n",
      "48000/48000 [==============================] - 2s - loss: 0.0249 - acc: 0.9920 - val_loss: 0.1060 - val_acc: 0.9788\n",
      "Epoch 157/200\n",
      "48000/48000 [==============================] - 2s - loss: 0.0238 - acc: 0.9926 - val_loss: 0.1078 - val_acc: 0.9792\n",
      "Epoch 158/200\n",
      "48000/48000 [==============================] - 2s - loss: 0.0246 - acc: 0.9924 - val_loss: 0.1069 - val_acc: 0.9791\n",
      "Epoch 159/200\n",
      "48000/48000 [==============================] - 2s - loss: 0.0232 - acc: 0.9928 - val_loss: 0.1091 - val_acc: 0.9788\n",
      "Epoch 160/200\n",
      "48000/48000 [==============================] - 2s - loss: 0.0228 - acc: 0.9926 - val_loss: 0.1085 - val_acc: 0.9799\n",
      "Epoch 161/200\n",
      "48000/48000 [==============================] - 2s - loss: 0.0226 - acc: 0.9925 - val_loss: 0.1083 - val_acc: 0.9793\n",
      "Epoch 162/200\n",
      "48000/48000 [==============================] - 2s - loss: 0.0230 - acc: 0.9924 - val_loss: 0.1054 - val_acc: 0.9803\n",
      "Epoch 163/200\n",
      "48000/48000 [==============================] - 2s - loss: 0.0234 - acc: 0.9926 - val_loss: 0.1072 - val_acc: 0.9790\n",
      "Epoch 164/200\n",
      "48000/48000 [==============================] - 2s - loss: 0.0244 - acc: 0.9921 - val_loss: 0.1087 - val_acc: 0.9798\n",
      "Epoch 165/200\n",
      "48000/48000 [==============================] - 2s - loss: 0.0235 - acc: 0.9928 - val_loss: 0.1090 - val_acc: 0.9793\n",
      "Epoch 166/200\n",
      "48000/48000 [==============================] - 2s - loss: 0.0231 - acc: 0.9925 - val_loss: 0.1085 - val_acc: 0.9792\n",
      "Epoch 167/200\n",
      "48000/48000 [==============================] - 2s - loss: 0.0233 - acc: 0.9920 - val_loss: 0.1094 - val_acc: 0.9796\n",
      "Epoch 168/200\n",
      "48000/48000 [==============================] - 2s - loss: 0.0223 - acc: 0.9929 - val_loss: 0.1095 - val_acc: 0.9793\n",
      "Epoch 169/200\n",
      "48000/48000 [==============================] - 2s - loss: 0.0216 - acc: 0.9933 - val_loss: 0.1100 - val_acc: 0.9800\n",
      "Epoch 170/200\n",
      "48000/48000 [==============================] - 2s - loss: 0.0212 - acc: 0.9934 - val_loss: 0.1086 - val_acc: 0.9793\n",
      "Epoch 171/200\n",
      "48000/48000 [==============================] - 2s - loss: 0.0212 - acc: 0.9933 - val_loss: 0.1075 - val_acc: 0.9801\n",
      "Epoch 172/200\n",
      "48000/48000 [==============================] - 2s - loss: 0.0208 - acc: 0.9932 - val_loss: 0.1101 - val_acc: 0.9798\n",
      "Epoch 173/200\n",
      "48000/48000 [==============================] - 2s - loss: 0.0226 - acc: 0.9927 - val_loss: 0.1109 - val_acc: 0.9793\n",
      "Epoch 174/200\n",
      "48000/48000 [==============================] - 2s - loss: 0.0225 - acc: 0.9929 - val_loss: 0.1123 - val_acc: 0.9794\n",
      "Epoch 175/200\n",
      "48000/48000 [==============================] - 2s - loss: 0.0227 - acc: 0.9925 - val_loss: 0.1124 - val_acc: 0.9792\n",
      "Epoch 176/200\n",
      "48000/48000 [==============================] - 2s - loss: 0.0216 - acc: 0.9931 - val_loss: 0.1119 - val_acc: 0.9798\n",
      "Epoch 177/200\n",
      "48000/48000 [==============================] - 2s - loss: 0.0228 - acc: 0.9926 - val_loss: 0.1091 - val_acc: 0.9797\n",
      "Epoch 178/200\n",
      "48000/48000 [==============================] - 2s - loss: 0.0210 - acc: 0.9932 - val_loss: 0.1116 - val_acc: 0.9793\n",
      "Epoch 179/200\n",
      "48000/48000 [==============================] - 2s - loss: 0.0214 - acc: 0.9932 - val_loss: 0.1099 - val_acc: 0.9793\n",
      "Epoch 180/200\n",
      "48000/48000 [==============================] - 2s - loss: 0.0206 - acc: 0.9934 - val_loss: 0.1117 - val_acc: 0.9792\n",
      "Epoch 181/200\n",
      "48000/48000 [==============================] - 2s - loss: 0.0233 - acc: 0.9926 - val_loss: 0.1121 - val_acc: 0.9794\n",
      "Epoch 182/200\n",
      "48000/48000 [==============================] - 2s - loss: 0.0213 - acc: 0.9933 - val_loss: 0.1142 - val_acc: 0.9794\n",
      "Epoch 183/200\n",
      "48000/48000 [==============================] - 2s - loss: 0.0210 - acc: 0.9934 - val_loss: 0.1120 - val_acc: 0.9798\n",
      "Epoch 184/200\n",
      "48000/48000 [==============================] - 2s - loss: 0.0206 - acc: 0.9934 - val_loss: 0.1096 - val_acc: 0.9797\n",
      "Epoch 185/200\n",
      "48000/48000 [==============================] - 2s - loss: 0.0218 - acc: 0.9932 - val_loss: 0.1117 - val_acc: 0.9797\n",
      "Epoch 186/200\n",
      "48000/48000 [==============================] - 2s - loss: 0.0229 - acc: 0.9924 - val_loss: 0.1078 - val_acc: 0.9801\n",
      "Epoch 187/200\n",
      "48000/48000 [==============================] - 2s - loss: 0.0199 - acc: 0.9935 - val_loss: 0.1117 - val_acc: 0.9801\n",
      "Epoch 188/200\n",
      "48000/48000 [==============================] - 2s - loss: 0.0206 - acc: 0.9931 - val_loss: 0.1124 - val_acc: 0.9796\n",
      "Epoch 189/200\n",
      "48000/48000 [==============================] - 2s - loss: 0.0215 - acc: 0.9933 - val_loss: 0.1124 - val_acc: 0.9794\n",
      "Epoch 190/200\n",
      "48000/48000 [==============================] - 2s - loss: 0.0189 - acc: 0.9938 - val_loss: 0.1142 - val_acc: 0.9800\n",
      "Epoch 191/200\n",
      "48000/48000 [==============================] - 2s - loss: 0.0216 - acc: 0.9931 - val_loss: 0.1100 - val_acc: 0.9798\n",
      "Epoch 192/200\n",
      "48000/48000 [==============================] - 2s - loss: 0.0186 - acc: 0.9937 - val_loss: 0.1119 - val_acc: 0.9800\n",
      "Epoch 193/200\n",
      "48000/48000 [==============================] - 2s - loss: 0.0224 - acc: 0.9930 - val_loss: 0.1095 - val_acc: 0.9804\n",
      "Epoch 194/200\n",
      "48000/48000 [==============================] - 2s - loss: 0.0199 - acc: 0.9933 - val_loss: 0.1127 - val_acc: 0.9796\n",
      "Epoch 195/200\n",
      "48000/48000 [==============================] - 2s - loss: 0.0202 - acc: 0.9935 - val_loss: 0.1121 - val_acc: 0.9792\n",
      "Epoch 196/200\n",
      "48000/48000 [==============================] - 2s - loss: 0.0206 - acc: 0.9932 - val_loss: 0.1131 - val_acc: 0.9797\n",
      "Epoch 197/200\n",
      "48000/48000 [==============================] - 2s - loss: 0.0214 - acc: 0.9930 - val_loss: 0.1108 - val_acc: 0.9793\n",
      "Epoch 198/200\n",
      "48000/48000 [==============================] - 2s - loss: 0.0206 - acc: 0.9938 - val_loss: 0.1118 - val_acc: 0.9795\n",
      "Epoch 199/200\n",
      "48000/48000 [==============================] - 2s - loss: 0.0196 - acc: 0.9936 - val_loss: 0.1112 - val_acc: 0.9805\n",
      "Epoch 200/200\n",
      "48000/48000 [==============================] - 2s - loss: 0.0193 - acc: 0.9937 - val_loss: 0.1126 - val_acc: 0.9797\n"
     ]
    }
   ],
   "source": [
    "time_start = time.clock()\n",
    "history = model.fit(X_train, y_train,\n",
    "                    batch_size=128,\n",
    "                    epochs=200,\n",
    "                    verbose=1,\n",
    "                    validation_split=0.2)\n",
    "time_end = time.clock()"
   ]
  },
  {
   "cell_type": "code",
   "execution_count": 10,
   "metadata": {
    "collapsed": true
   },
   "outputs": [],
   "source": [
    "time_end = time.clock()"
   ]
  },
  {
   "cell_type": "code",
   "execution_count": 11,
   "metadata": {
    "collapsed": false
   },
   "outputs": [
    {
     "name": "stdout",
     "output_type": "stream",
     "text": [
      "Time to train\n",
      "Time elapsed in seconds : 488\n",
      "Time elapsed in minutes : 8.1\n",
      "Time elapsed in hours   : 0.1\n"
     ]
    }
   ],
   "source": [
    "duration = time_end - time_start\n",
    "print(\"Time to train\")\n",
    "print(\"Time elapsed in seconds : %.0f\" % duration)\n",
    "print(\"Time elapsed in minutes : %.1f\" % (duration/60))\n",
    "print(\"Time elapsed in hours   : %.1f\" % (duration/3600))"
   ]
  },
  {
   "cell_type": "code",
   "execution_count": 12,
   "metadata": {
    "collapsed": false
   },
   "outputs": [
    {
     "name": "stdout",
     "output_type": "stream",
     "text": [
      " 8960/10000 [=========================>....] - ETA: 0s\n",
      "Test score: 0.105706634958\n",
      "Test accuracy: 0.9795\n"
     ]
    }
   ],
   "source": [
    "score = model.evaluate(X_test, y_test,\n",
    "                       verbose=1)\n",
    "print(\"\")\n",
    "print(\"Test score:\", score[0])\n",
    "print(\"Test accuracy:\", score[1])"
   ]
  },
  {
   "cell_type": "code",
   "execution_count": 13,
   "metadata": {
    "collapsed": false
   },
   "outputs": [
    {
     "name": "stdout",
     "output_type": "stream",
     "text": [
      "dict_keys(['acc', 'val_loss', 'val_acc', 'loss'])\n"
     ]
    }
   ],
   "source": [
    "# list all data in history\n",
    "print(history.history.keys())"
   ]
  },
  {
   "cell_type": "code",
   "execution_count": 14,
   "metadata": {
    "collapsed": false
   },
   "outputs": [
    {
     "data": {
      "image/png": "[encoded data removed]",
      "text/plain": [
       "<matplotlib.figure.Figure at 0x17f8ab96f98>"
      ]
     },
     "metadata": {},
     "output_type": "display_data"
    }
   ],
   "source": [
    "# Accuracy\n",
    "plt.plot(history.history[\"acc\"])\n",
    "plt.plot(history.history[\"val_acc\"])\n",
    "plt.title(\"model accuracy\")\n",
    "plt.ylabel(\"accuracy\")\n",
    "plt.xlabel(\"epoch\")\n",
    "plt.legend([\"train\", \"test\"], loc=\"lower left\")\n",
    "plt.show()"
   ]
  },
  {
   "cell_type": "code",
   "execution_count": 15,
   "metadata": {
    "collapsed": false
   },
   "outputs": [
    {
     "data": {
      "image/png": "[encoded data removed]",
      "text/plain": [
       "<matplotlib.figure.Figure at 0x17f8ad61780>"
      ]
     },
     "metadata": {},
     "output_type": "display_data"
    }
   ],
   "source": [
    "# Loss\n",
    "plt.plot(history.history[\"loss\"])\n",
    "plt.plot(history.history[\"val_loss\"])\n",
    "plt.title(\"model loss\")\n",
    "plt.ylabel(\"loss\")\n",
    "plt.xlabel(\"epoch\")\n",
    "plt.legend([\"train\", \"test\"], loc=\"upper left\")\n",
    "plt.show()"
   ]
  }
 ],
 "metadata": {
  "anaconda-cloud": {},
  "kernelspec": {
   "display_name": "Python [default]",
   "language": "python",
   "name": "python3"
  },
  "language_info": {
   "codemirror_mode": {
    "name": "ipython",
    "version": 3
   },
   "file_extension": ".py",
   "mimetype": "text/x-python",
   "name": "python",
   "nbconvert_exporter": "python",
   "pygments_lexer": "ipython3",
   "version": "3.5.2"
  }
 },
 "nbformat": 4,
 "nbformat_minor": 1
}
