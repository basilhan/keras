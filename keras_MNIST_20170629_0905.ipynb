{
 "cells": [
  {
   "cell_type": "code",
   "execution_count": 1,
   "metadata": {
    "collapsed": false
   },
   "outputs": [
    {
     "name": "stderr",
     "output_type": "stream",
     "text": [
      "Using TensorFlow backend.\n"
     ]
    }
   ],
   "source": [
    "import numpy as np\n",
    "import matplotlib.pyplot as plt\n",
    "import time\n",
    "from keras.datasets import mnist\n",
    "from keras.models import Sequential\n",
    "from keras.layers.core import Dense, Dropout, Activation\n",
    "from keras.layers.normalization import BatchNormalization\n",
    "from keras.optimizers import SGD, Adam, Adamax, RMSprop, Adagrad, Adadelta, Nadam\n",
    "from keras.utils import np_utils\n",
    "from tensorflow import set_random_seed"
   ]
  },
  {
   "cell_type": "code",
   "execution_count": 2,
   "metadata": {
    "collapsed": false
   },
   "outputs": [],
   "source": [
    "np.random.seed(2015)\n",
    "set_random_seed(2015)"
   ]
  },
  {
   "cell_type": "code",
   "execution_count": 3,
   "metadata": {
    "collapsed": false
   },
   "outputs": [],
   "source": [
    "# Load data\n",
    "(X_train, y_train), (X_test, y_test) = mnist.load_data()"
   ]
  },
  {
   "cell_type": "code",
   "execution_count": 4,
   "metadata": {
    "collapsed": false
   },
   "outputs": [
    {
     "name": "stdout",
     "output_type": "stream",
     "text": [
      "60000 training samples\n",
      "10000 testing samples\n"
     ]
    }
   ],
   "source": [
    "# Preprocessing\n",
    "X_train = X_train.reshape(60000, 784)\n",
    "X_test  = X_test.reshape(10000, 784)\n",
    "X_train = X_train.astype(\"float32\")\n",
    "X_test  = X_test.astype(\"float32\")\n",
    "X_train /= 255\n",
    "X_test  /= 255\n",
    "print(X_train.shape[0], \"training samples\")\n",
    "print(X_test.shape[0], \"testing samples\")"
   ]
  },
  {
   "cell_type": "code",
   "execution_count": 5,
   "metadata": {
    "collapsed": true
   },
   "outputs": [],
   "source": [
    "# Convert labels to one-hot encoding\n",
    "# e.g. 1 -> array([ 0.,  1.,  0.,  0.,  0.,  0.,  0.,  0.,  0.,  0.])\n",
    "y_train = np_utils.to_categorical(y_train, 10)\n",
    "y_test = np_utils.to_categorical(y_test, 10)"
   ]
  },
  {
   "cell_type": "markdown",
   "metadata": {},
   "source": [
    "The argument *input_dim* is equivalent to *input_shape* ([reference](https://keras.io/getting-started/sequential-model-guide/))."
   ]
  },
  {
   "cell_type": "code",
   "execution_count": 6,
   "metadata": {
    "collapsed": false
   },
   "outputs": [],
   "source": [
    "# Define the model\n",
    "model = Sequential([\n",
    "        Dense(128, input_dim=784), Activation(\"relu\"), Dropout(0.30),\n",
    "        Dense(128), Activation(\"relu\"), Dropout(0.30),\n",
    "        Dense(10), Activation(\"softmax\")\n",
    "    ])"
   ]
  },
  {
   "cell_type": "code",
   "execution_count": 7,
   "metadata": {
    "collapsed": false
   },
   "outputs": [
    {
     "name": "stdout",
     "output_type": "stream",
     "text": [
      "_________________________________________________________________\n",
      "Layer (type)                 Output Shape              Param #   \n",
      "=================================================================\n",
      "dense_1 (Dense)              (None, 128)               100480    \n",
      "_________________________________________________________________\n",
      "activation_1 (Activation)    (None, 128)               0         \n",
      "_________________________________________________________________\n",
      "dropout_1 (Dropout)          (None, 128)               0         \n",
      "_________________________________________________________________\n",
      "dense_2 (Dense)              (None, 128)               16512     \n",
      "_________________________________________________________________\n",
      "activation_2 (Activation)    (None, 128)               0         \n",
      "_________________________________________________________________\n",
      "dropout_2 (Dropout)          (None, 128)               0         \n",
      "_________________________________________________________________\n",
      "dense_3 (Dense)              (None, 10)                1290      \n",
      "_________________________________________________________________\n",
      "activation_3 (Activation)    (None, 10)                0         \n",
      "=================================================================\n",
      "Total params: 118,282\n",
      "Trainable params: 118,282\n",
      "Non-trainable params: 0\n",
      "_________________________________________________________________\n"
     ]
    }
   ],
   "source": [
    "model.summary()"
   ]
  },
  {
   "cell_type": "code",
   "execution_count": 8,
   "metadata": {
    "collapsed": false
   },
   "outputs": [],
   "source": [
    "model.compile(loss=\"categorical_crossentropy\",\n",
    "              optimizer=SGD(),\n",
    "              metrics=[\"accuracy\"])"
   ]
  },
  {
   "cell_type": "code",
   "execution_count": 9,
   "metadata": {
    "collapsed": false
   },
   "outputs": [
    {
     "name": "stdout",
     "output_type": "stream",
     "text": [
      "Train on 48000 samples, validate on 12000 samples\n",
      "Epoch 1/200\n",
      "48000/48000 [==============================] - 2s - loss: 1.7362 - acc: 0.4412 - val_loss: 0.9497 - val_acc: 0.8172\n",
      "Epoch 2/200\n",
      "48000/48000 [==============================] - 2s - loss: 0.9365 - acc: 0.7098 - val_loss: 0.5411 - val_acc: 0.8687\n",
      "Epoch 3/200\n",
      "48000/48000 [==============================] - 2s - loss: 0.6992 - acc: 0.7845 - val_loss: 0.4281 - val_acc: 0.8871\n",
      "Epoch 4/200\n",
      "48000/48000 [==============================] - 2s - loss: 0.5976 - acc: 0.8181 - val_loss: 0.3733 - val_acc: 0.8969\n",
      "Epoch 5/200\n",
      "48000/48000 [==============================] - 2s - loss: 0.5313 - acc: 0.8395 - val_loss: 0.3406 - val_acc: 0.9060\n",
      "Epoch 6/200\n",
      "48000/48000 [==============================] - 2s - loss: 0.4880 - acc: 0.8543 - val_loss: 0.3161 - val_acc: 0.9114\n",
      "Epoch 7/200\n",
      "48000/48000 [==============================] - 2s - loss: 0.4582 - acc: 0.8626 - val_loss: 0.2991 - val_acc: 0.9141\n",
      "Epoch 8/200\n",
      "48000/48000 [==============================] - 2s - loss: 0.4290 - acc: 0.8736 - val_loss: 0.2830 - val_acc: 0.9176\n",
      "Epoch 9/200\n",
      "48000/48000 [==============================] - 2s - loss: 0.4124 - acc: 0.8756 - val_loss: 0.2711 - val_acc: 0.9217\n",
      "Epoch 10/200\n",
      "48000/48000 [==============================] - 2s - loss: 0.3933 - acc: 0.8838 - val_loss: 0.2612 - val_acc: 0.9243\n",
      "Epoch 11/200\n",
      "48000/48000 [==============================] - 2s - loss: 0.3760 - acc: 0.8907 - val_loss: 0.2511 - val_acc: 0.9271\n",
      "Epoch 12/200\n",
      "48000/48000 [==============================] - 2s - loss: 0.3658 - acc: 0.8921 - val_loss: 0.2417 - val_acc: 0.9295\n",
      "Epoch 13/200\n",
      "48000/48000 [==============================] - 2s - loss: 0.3496 - acc: 0.8967 - val_loss: 0.2331 - val_acc: 0.9332\n",
      "Epoch 14/200\n",
      "48000/48000 [==============================] - 2s - loss: 0.3412 - acc: 0.9001 - val_loss: 0.2275 - val_acc: 0.9342\n",
      "Epoch 15/200\n",
      "48000/48000 [==============================] - 2s - loss: 0.3279 - acc: 0.9032 - val_loss: 0.2193 - val_acc: 0.9362\n",
      "Epoch 16/200\n",
      "48000/48000 [==============================] - 2s - loss: 0.3183 - acc: 0.9078 - val_loss: 0.2143 - val_acc: 0.9370\n",
      "Epoch 17/200\n",
      "48000/48000 [==============================] - 2s - loss: 0.3106 - acc: 0.9083 - val_loss: 0.2080 - val_acc: 0.9406\n",
      "Epoch 18/200\n",
      "48000/48000 [==============================] - 2s - loss: 0.2998 - acc: 0.9124 - val_loss: 0.2031 - val_acc: 0.9403\n",
      "Epoch 19/200\n",
      "48000/48000 [==============================] - 2s - loss: 0.2973 - acc: 0.9140 - val_loss: 0.1980 - val_acc: 0.9427\n",
      "Epoch 20/200\n",
      "48000/48000 [==============================] - 2s - loss: 0.2866 - acc: 0.9158 - val_loss: 0.1940 - val_acc: 0.9437\n",
      "Epoch 21/200\n",
      "48000/48000 [==============================] - 2s - loss: 0.2801 - acc: 0.9172 - val_loss: 0.1894 - val_acc: 0.9451\n",
      "Epoch 22/200\n",
      "48000/48000 [==============================] - 2s - loss: 0.2739 - acc: 0.9194 - val_loss: 0.1860 - val_acc: 0.9458\n",
      "Epoch 23/200\n",
      "48000/48000 [==============================] - 2s - loss: 0.2686 - acc: 0.9209 - val_loss: 0.1816 - val_acc: 0.9474\n",
      "Epoch 24/200\n",
      "48000/48000 [==============================] - 2s - loss: 0.2649 - acc: 0.9226 - val_loss: 0.1779 - val_acc: 0.9489\n",
      "Epoch 25/200\n",
      "48000/48000 [==============================] - 2s - loss: 0.2572 - acc: 0.9240 - val_loss: 0.1751 - val_acc: 0.9496\n",
      "Epoch 26/200\n",
      "48000/48000 [==============================] - 2s - loss: 0.2567 - acc: 0.9256 - val_loss: 0.1721 - val_acc: 0.9502\n",
      "Epoch 27/200\n",
      "48000/48000 [==============================] - 2s - loss: 0.2473 - acc: 0.9261 - val_loss: 0.1683 - val_acc: 0.9516\n",
      "Epoch 28/200\n",
      "48000/48000 [==============================] - 2s - loss: 0.2445 - acc: 0.9278 - val_loss: 0.1658 - val_acc: 0.9516\n",
      "Epoch 29/200\n",
      "48000/48000 [==============================] - 2s - loss: 0.2436 - acc: 0.9287 - val_loss: 0.1636 - val_acc: 0.9523\n",
      "Epoch 30/200\n",
      "48000/48000 [==============================] - 2s - loss: 0.2365 - acc: 0.9315 - val_loss: 0.1608 - val_acc: 0.9534\n",
      "Epoch 31/200\n",
      "48000/48000 [==============================] - 2s - loss: 0.2291 - acc: 0.9322 - val_loss: 0.1583 - val_acc: 0.9539\n",
      "Epoch 32/200\n",
      "48000/48000 [==============================] - 2s - loss: 0.2260 - acc: 0.9328 - val_loss: 0.1557 - val_acc: 0.9547\n",
      "Epoch 33/200\n",
      "48000/48000 [==============================] - 2s - loss: 0.2252 - acc: 0.9332 - val_loss: 0.1531 - val_acc: 0.9558\n",
      "Epoch 34/200\n",
      "48000/48000 [==============================] - 2s - loss: 0.2176 - acc: 0.9362 - val_loss: 0.1502 - val_acc: 0.9563\n",
      "Epoch 35/200\n",
      "48000/48000 [==============================] - 2s - loss: 0.2176 - acc: 0.9343 - val_loss: 0.1495 - val_acc: 0.9564\n",
      "Epoch 36/200\n",
      "48000/48000 [==============================] - 2s - loss: 0.2140 - acc: 0.9374 - val_loss: 0.1472 - val_acc: 0.9568\n",
      "Epoch 37/200\n",
      "48000/48000 [==============================] - 2s - loss: 0.2146 - acc: 0.9357 - val_loss: 0.1459 - val_acc: 0.9570\n",
      "Epoch 38/200\n",
      "48000/48000 [==============================] - 2s - loss: 0.2097 - acc: 0.9379 - val_loss: 0.1438 - val_acc: 0.9581\n",
      "Epoch 39/200\n",
      "48000/48000 [==============================] - 2s - loss: 0.2044 - acc: 0.9394 - val_loss: 0.1424 - val_acc: 0.9586\n",
      "Epoch 40/200\n",
      "48000/48000 [==============================] - 2s - loss: 0.2035 - acc: 0.9399 - val_loss: 0.1401 - val_acc: 0.9598\n",
      "Epoch 41/200\n",
      "48000/48000 [==============================] - 2s - loss: 0.2002 - acc: 0.9398 - val_loss: 0.1388 - val_acc: 0.9601\n",
      "Epoch 42/200\n",
      "48000/48000 [==============================] - 2s - loss: 0.1981 - acc: 0.9413 - val_loss: 0.1367 - val_acc: 0.9602\n",
      "Epoch 43/200\n",
      "48000/48000 [==============================] - 2s - loss: 0.1967 - acc: 0.9401 - val_loss: 0.1346 - val_acc: 0.9609\n",
      "Epoch 44/200\n",
      "48000/48000 [==============================] - 2s - loss: 0.1951 - acc: 0.9434 - val_loss: 0.1340 - val_acc: 0.9611\n",
      "Epoch 45/200\n",
      "48000/48000 [==============================] - 2s - loss: 0.1889 - acc: 0.9445 - val_loss: 0.1321 - val_acc: 0.9617\n",
      "Epoch 46/200\n",
      "48000/48000 [==============================] - 2s - loss: 0.1888 - acc: 0.9437 - val_loss: 0.1306 - val_acc: 0.9623\n",
      "Epoch 47/200\n",
      "48000/48000 [==============================] - 2s - loss: 0.1844 - acc: 0.9458 - val_loss: 0.1301 - val_acc: 0.9617\n",
      "Epoch 48/200\n",
      "48000/48000 [==============================] - 2s - loss: 0.1836 - acc: 0.9460 - val_loss: 0.1290 - val_acc: 0.9625\n",
      "Epoch 49/200\n",
      "48000/48000 [==============================] - 2s - loss: 0.1844 - acc: 0.9459 - val_loss: 0.1277 - val_acc: 0.9633\n",
      "Epoch 50/200\n",
      "48000/48000 [==============================] - 2s - loss: 0.1785 - acc: 0.9471 - val_loss: 0.1258 - val_acc: 0.9633\n",
      "Epoch 51/200\n",
      "48000/48000 [==============================] - 2s - loss: 0.1765 - acc: 0.9477 - val_loss: 0.1249 - val_acc: 0.9637\n",
      "Epoch 52/200\n",
      "48000/48000 [==============================] - 2s - loss: 0.1774 - acc: 0.9475 - val_loss: 0.1233 - val_acc: 0.9643\n",
      "Epoch 53/200\n",
      "48000/48000 [==============================] - 2s - loss: 0.1736 - acc: 0.9481 - val_loss: 0.1227 - val_acc: 0.9648\n",
      "Epoch 54/200\n",
      "48000/48000 [==============================] - 2s - loss: 0.1698 - acc: 0.9499 - val_loss: 0.1216 - val_acc: 0.9640\n",
      "Epoch 55/200\n",
      "48000/48000 [==============================] - 2s - loss: 0.1726 - acc: 0.9484 - val_loss: 0.1202 - val_acc: 0.9647\n",
      "Epoch 56/200\n",
      "48000/48000 [==============================] - 2s - loss: 0.1718 - acc: 0.9488 - val_loss: 0.1195 - val_acc: 0.9647\n",
      "Epoch 57/200\n",
      "48000/48000 [==============================] - 2s - loss: 0.1684 - acc: 0.9506 - val_loss: 0.1188 - val_acc: 0.9649\n",
      "Epoch 58/200\n",
      "48000/48000 [==============================] - 2s - loss: 0.1665 - acc: 0.9503 - val_loss: 0.1183 - val_acc: 0.9652\n",
      "Epoch 59/200\n",
      "48000/48000 [==============================] - 2s - loss: 0.1620 - acc: 0.9518 - val_loss: 0.1169 - val_acc: 0.9654\n",
      "Epoch 60/200\n",
      "48000/48000 [==============================] - 2s - loss: 0.1628 - acc: 0.9524 - val_loss: 0.1158 - val_acc: 0.9665\n",
      "Epoch 61/200\n",
      "48000/48000 [==============================] - 2s - loss: 0.1632 - acc: 0.9521 - val_loss: 0.1155 - val_acc: 0.9664\n",
      "Epoch 62/200\n",
      "48000/48000 [==============================] - 2s - loss: 0.1595 - acc: 0.9537 - val_loss: 0.1147 - val_acc: 0.9664\n",
      "Epoch 63/200\n",
      "48000/48000 [==============================] - 2s - loss: 0.1590 - acc: 0.9534 - val_loss: 0.1138 - val_acc: 0.9665\n",
      "Epoch 64/200\n",
      "48000/48000 [==============================] - 2s - loss: 0.1555 - acc: 0.9538 - val_loss: 0.1135 - val_acc: 0.9663\n",
      "Epoch 65/200\n",
      "48000/48000 [==============================] - 2s - loss: 0.1547 - acc: 0.9540 - val_loss: 0.1125 - val_acc: 0.9668\n",
      "Epoch 66/200\n",
      "48000/48000 [==============================] - 2s - loss: 0.1566 - acc: 0.9530 - val_loss: 0.1115 - val_acc: 0.9674\n",
      "Epoch 67/200\n",
      "48000/48000 [==============================] - 2s - loss: 0.1528 - acc: 0.9557 - val_loss: 0.1107 - val_acc: 0.9677\n",
      "Epoch 68/200\n",
      "48000/48000 [==============================] - 2s - loss: 0.1522 - acc: 0.9549 - val_loss: 0.1100 - val_acc: 0.9677\n",
      "Epoch 69/200\n",
      "48000/48000 [==============================] - 2s - loss: 0.1521 - acc: 0.9553 - val_loss: 0.1093 - val_acc: 0.9688\n",
      "Epoch 70/200\n",
      "48000/48000 [==============================] - 2s - loss: 0.1498 - acc: 0.9559 - val_loss: 0.1087 - val_acc: 0.9683\n",
      "Epoch 71/200\n",
      "48000/48000 [==============================] - 2s - loss: 0.1454 - acc: 0.9560 - val_loss: 0.1083 - val_acc: 0.9683\n",
      "Epoch 72/200\n",
      "48000/48000 [==============================] - 2s - loss: 0.1449 - acc: 0.9576 - val_loss: 0.1076 - val_acc: 0.9688\n",
      "Epoch 73/200\n",
      "48000/48000 [==============================] - 2s - loss: 0.1472 - acc: 0.9559 - val_loss: 0.1067 - val_acc: 0.9689\n",
      "Epoch 74/200\n",
      "48000/48000 [==============================] - 2s - loss: 0.1447 - acc: 0.9562 - val_loss: 0.1065 - val_acc: 0.9688\n",
      "Epoch 75/200\n",
      "48000/48000 [==============================] - 2s - loss: 0.1424 - acc: 0.9580 - val_loss: 0.1059 - val_acc: 0.9688\n",
      "Epoch 76/200\n",
      "48000/48000 [==============================] - 2s - loss: 0.1444 - acc: 0.9581 - val_loss: 0.1057 - val_acc: 0.9691\n",
      "Epoch 77/200\n",
      "48000/48000 [==============================] - 2s - loss: 0.1384 - acc: 0.9586 - val_loss: 0.1056 - val_acc: 0.9693\n",
      "Epoch 78/200\n",
      "48000/48000 [==============================] - 2s - loss: 0.1372 - acc: 0.9595 - val_loss: 0.1039 - val_acc: 0.9698\n",
      "Epoch 79/200\n",
      "48000/48000 [==============================] - 2s - loss: 0.1381 - acc: 0.9591 - val_loss: 0.1038 - val_acc: 0.9699\n",
      "Epoch 80/200\n",
      "48000/48000 [==============================] - 2s - loss: 0.1391 - acc: 0.9583 - val_loss: 0.1026 - val_acc: 0.9700\n",
      "Epoch 81/200\n",
      "48000/48000 [==============================] - 2s - loss: 0.1371 - acc: 0.9590 - val_loss: 0.1027 - val_acc: 0.9698\n",
      "Epoch 82/200\n",
      "48000/48000 [==============================] - 2s - loss: 0.1357 - acc: 0.9595 - val_loss: 0.1019 - val_acc: 0.9700\n",
      "Epoch 83/200\n",
      "48000/48000 [==============================] - 2s - loss: 0.1337 - acc: 0.9598 - val_loss: 0.1016 - val_acc: 0.9703\n",
      "Epoch 84/200\n",
      "48000/48000 [==============================] - 2s - loss: 0.1314 - acc: 0.9615 - val_loss: 0.1015 - val_acc: 0.9708\n",
      "Epoch 85/200\n",
      "48000/48000 [==============================] - 2s - loss: 0.1329 - acc: 0.9606 - val_loss: 0.1010 - val_acc: 0.9706\n",
      "Epoch 86/200\n",
      "48000/48000 [==============================] - 2s - loss: 0.1309 - acc: 0.9604 - val_loss: 0.1005 - val_acc: 0.9701\n",
      "Epoch 87/200\n",
      "48000/48000 [==============================] - 2s - loss: 0.1306 - acc: 0.9615 - val_loss: 0.1002 - val_acc: 0.9708\n",
      "Epoch 88/200\n",
      "48000/48000 [==============================] - 2s - loss: 0.1311 - acc: 0.9610 - val_loss: 0.0993 - val_acc: 0.9709\n",
      "Epoch 89/200\n",
      "48000/48000 [==============================] - 2s - loss: 0.1281 - acc: 0.9628 - val_loss: 0.0992 - val_acc: 0.9706\n",
      "Epoch 90/200\n",
      "48000/48000 [==============================] - 2s - loss: 0.1274 - acc: 0.9618 - val_loss: 0.0985 - val_acc: 0.9709\n",
      "Epoch 91/200\n",
      "48000/48000 [==============================] - 2s - loss: 0.1289 - acc: 0.9616 - val_loss: 0.0983 - val_acc: 0.9712\n",
      "Epoch 92/200\n",
      "48000/48000 [==============================] - 2s - loss: 0.1276 - acc: 0.9625 - val_loss: 0.0976 - val_acc: 0.9713\n",
      "Epoch 93/200\n",
      "48000/48000 [==============================] - 2s - loss: 0.1239 - acc: 0.9631 - val_loss: 0.0976 - val_acc: 0.9714\n",
      "Epoch 94/200\n",
      "48000/48000 [==============================] - 2s - loss: 0.1244 - acc: 0.9634 - val_loss: 0.0968 - val_acc: 0.9715\n",
      "Epoch 95/200\n",
      "48000/48000 [==============================] - 2s - loss: 0.1253 - acc: 0.9626 - val_loss: 0.0967 - val_acc: 0.9714\n",
      "Epoch 96/200\n",
      "48000/48000 [==============================] - 2s - loss: 0.1242 - acc: 0.9626 - val_loss: 0.0964 - val_acc: 0.9708\n",
      "Epoch 97/200\n",
      "48000/48000 [==============================] - 2s - loss: 0.1229 - acc: 0.9642 - val_loss: 0.0961 - val_acc: 0.9716\n",
      "Epoch 98/200\n",
      "48000/48000 [==============================] - 2s - loss: 0.1222 - acc: 0.9639 - val_loss: 0.0952 - val_acc: 0.9715\n",
      "Epoch 99/200\n",
      "48000/48000 [==============================] - 2s - loss: 0.1201 - acc: 0.9641 - val_loss: 0.0958 - val_acc: 0.9713\n",
      "Epoch 100/200\n",
      "48000/48000 [==============================] - 2s - loss: 0.1201 - acc: 0.9637 - val_loss: 0.0947 - val_acc: 0.9720\n",
      "Epoch 101/200\n",
      "48000/48000 [==============================] - 2s - loss: 0.1207 - acc: 0.9650 - val_loss: 0.0944 - val_acc: 0.9723\n",
      "Epoch 102/200\n",
      "48000/48000 [==============================] - 2s - loss: 0.1156 - acc: 0.9651 - val_loss: 0.0941 - val_acc: 0.9719\n",
      "Epoch 103/200\n",
      "48000/48000 [==============================] - 2s - loss: 0.1165 - acc: 0.9652 - val_loss: 0.0946 - val_acc: 0.9718\n",
      "Epoch 104/200\n",
      "48000/48000 [==============================] - 2s - loss: 0.1186 - acc: 0.9644 - val_loss: 0.0936 - val_acc: 0.9723\n",
      "Epoch 105/200\n",
      "48000/48000 [==============================] - 2s - loss: 0.1180 - acc: 0.9646 - val_loss: 0.0936 - val_acc: 0.9723\n",
      "Epoch 106/200\n",
      "48000/48000 [==============================] - 2s - loss: 0.1146 - acc: 0.9654 - val_loss: 0.0930 - val_acc: 0.9724\n",
      "Epoch 107/200\n",
      "48000/48000 [==============================] - 2s - loss: 0.1140 - acc: 0.9657 - val_loss: 0.0928 - val_acc: 0.9726\n",
      "Epoch 108/200\n",
      "48000/48000 [==============================] - 2s - loss: 0.1173 - acc: 0.9647 - val_loss: 0.0925 - val_acc: 0.9726\n",
      "Epoch 109/200\n",
      "48000/48000 [==============================] - 2s - loss: 0.1132 - acc: 0.9658 - val_loss: 0.0924 - val_acc: 0.9725\n",
      "Epoch 110/200\n",
      "48000/48000 [==============================] - 2s - loss: 0.1136 - acc: 0.9659 - val_loss: 0.0917 - val_acc: 0.9731\n",
      "Epoch 111/200\n",
      "48000/48000 [==============================] - 2s - loss: 0.1121 - acc: 0.9657 - val_loss: 0.0925 - val_acc: 0.9725\n",
      "Epoch 112/200\n",
      "48000/48000 [==============================] - 2s - loss: 0.1123 - acc: 0.9668 - val_loss: 0.0918 - val_acc: 0.9735\n",
      "Epoch 113/200\n",
      "48000/48000 [==============================] - 2s - loss: 0.1113 - acc: 0.9663 - val_loss: 0.0918 - val_acc: 0.9731\n",
      "Epoch 114/200\n",
      "48000/48000 [==============================] - 2s - loss: 0.1095 - acc: 0.9667 - val_loss: 0.0909 - val_acc: 0.9736\n",
      "Epoch 115/200\n",
      "48000/48000 [==============================] - 2s - loss: 0.1083 - acc: 0.9668 - val_loss: 0.0908 - val_acc: 0.9732\n",
      "Epoch 116/200\n",
      "48000/48000 [==============================] - 2s - loss: 0.1063 - acc: 0.9683 - val_loss: 0.0905 - val_acc: 0.9734\n",
      "Epoch 117/200\n",
      "48000/48000 [==============================] - 2s - loss: 0.1096 - acc: 0.9665 - val_loss: 0.0899 - val_acc: 0.9742\n",
      "Epoch 118/200\n",
      "48000/48000 [==============================] - 2s - loss: 0.1083 - acc: 0.9680 - val_loss: 0.0902 - val_acc: 0.9740\n",
      "Epoch 119/200\n",
      "48000/48000 [==============================] - 2s - loss: 0.1097 - acc: 0.9672 - val_loss: 0.0909 - val_acc: 0.9738\n",
      "Epoch 120/200\n",
      "48000/48000 [==============================] - 2s - loss: 0.1069 - acc: 0.9677 - val_loss: 0.0900 - val_acc: 0.9736\n",
      "Epoch 121/200\n",
      "48000/48000 [==============================] - 2s - loss: 0.1039 - acc: 0.9690 - val_loss: 0.0895 - val_acc: 0.9737\n",
      "Epoch 122/200\n",
      "48000/48000 [==============================] - 2s - loss: 0.1039 - acc: 0.9686 - val_loss: 0.0894 - val_acc: 0.9743\n",
      "Epoch 123/200\n",
      "48000/48000 [==============================] - 2s - loss: 0.1036 - acc: 0.9694 - val_loss: 0.0891 - val_acc: 0.9738\n",
      "Epoch 124/200\n",
      "48000/48000 [==============================] - 2s - loss: 0.1056 - acc: 0.9677 - val_loss: 0.0893 - val_acc: 0.9738\n",
      "Epoch 125/200\n",
      "48000/48000 [==============================] - 2s - loss: 0.1033 - acc: 0.9693 - val_loss: 0.0895 - val_acc: 0.9738\n",
      "Epoch 126/200\n",
      "48000/48000 [==============================] - 2s - loss: 0.1038 - acc: 0.9687 - val_loss: 0.0886 - val_acc: 0.9740\n",
      "Epoch 127/200\n",
      "48000/48000 [==============================] - 2s - loss: 0.1039 - acc: 0.9692 - val_loss: 0.0885 - val_acc: 0.9745\n",
      "Epoch 128/200\n",
      "48000/48000 [==============================] - 2s - loss: 0.1041 - acc: 0.9680 - val_loss: 0.0881 - val_acc: 0.9742\n",
      "Epoch 129/200\n",
      "48000/48000 [==============================] - 2s - loss: 0.1041 - acc: 0.9686 - val_loss: 0.0886 - val_acc: 0.9746\n",
      "Epoch 130/200\n",
      "48000/48000 [==============================] - 2s - loss: 0.1024 - acc: 0.9686 - val_loss: 0.0874 - val_acc: 0.9744\n",
      "Epoch 131/200\n",
      "48000/48000 [==============================] - 2s - loss: 0.1000 - acc: 0.9684 - val_loss: 0.0875 - val_acc: 0.9749\n",
      "Epoch 132/200\n",
      "48000/48000 [==============================] - 2s - loss: 0.1003 - acc: 0.9698 - val_loss: 0.0872 - val_acc: 0.9744\n",
      "Epoch 133/200\n",
      "48000/48000 [==============================] - 2s - loss: 0.1009 - acc: 0.9691 - val_loss: 0.0871 - val_acc: 0.9749\n",
      "Epoch 134/200\n",
      "48000/48000 [==============================] - 2s - loss: 0.0999 - acc: 0.9703 - val_loss: 0.0867 - val_acc: 0.9749\n",
      "Epoch 135/200\n",
      "48000/48000 [==============================] - 2s - loss: 0.0982 - acc: 0.9707 - val_loss: 0.0870 - val_acc: 0.9746\n",
      "Epoch 136/200\n",
      "48000/48000 [==============================] - 2s - loss: 0.0984 - acc: 0.9700 - val_loss: 0.0866 - val_acc: 0.9743\n",
      "Epoch 137/200\n",
      "48000/48000 [==============================] - 2s - loss: 0.0960 - acc: 0.9714 - val_loss: 0.0867 - val_acc: 0.9746\n",
      "Epoch 138/200\n",
      "48000/48000 [==============================] - 2s - loss: 0.0963 - acc: 0.9709 - val_loss: 0.0867 - val_acc: 0.9746\n",
      "Epoch 139/200\n",
      "48000/48000 [==============================] - 2s - loss: 0.0969 - acc: 0.9705 - val_loss: 0.0864 - val_acc: 0.9752\n",
      "Epoch 140/200\n",
      "48000/48000 [==============================] - 2s - loss: 0.0966 - acc: 0.9705 - val_loss: 0.0863 - val_acc: 0.9752\n",
      "Epoch 141/200\n",
      "48000/48000 [==============================] - 2s - loss: 0.0962 - acc: 0.9711 - val_loss: 0.0859 - val_acc: 0.9754\n",
      "Epoch 142/200\n",
      "48000/48000 [==============================] - 2s - loss: 0.0964 - acc: 0.9709 - val_loss: 0.0854 - val_acc: 0.9753\n",
      "Epoch 143/200\n",
      "48000/48000 [==============================] - 2s - loss: 0.0950 - acc: 0.9710 - val_loss: 0.0856 - val_acc: 0.9752\n",
      "Epoch 144/200\n",
      "48000/48000 [==============================] - 2s - loss: 0.0945 - acc: 0.9713 - val_loss: 0.0855 - val_acc: 0.9752\n",
      "Epoch 145/200\n",
      "48000/48000 [==============================] - 2s - loss: 0.0939 - acc: 0.9713 - val_loss: 0.0858 - val_acc: 0.9751\n",
      "Epoch 146/200\n",
      "48000/48000 [==============================] - 2s - loss: 0.0943 - acc: 0.9711 - val_loss: 0.0850 - val_acc: 0.9753\n",
      "Epoch 147/200\n",
      "48000/48000 [==============================] - 2s - loss: 0.0919 - acc: 0.9729 - val_loss: 0.0846 - val_acc: 0.9752\n",
      "Epoch 148/200\n",
      "48000/48000 [==============================] - 2s - loss: 0.0910 - acc: 0.9723 - val_loss: 0.0844 - val_acc: 0.9751\n",
      "Epoch 149/200\n",
      "48000/48000 [==============================] - 2s - loss: 0.0915 - acc: 0.9717 - val_loss: 0.0848 - val_acc: 0.9755\n",
      "Epoch 150/200\n",
      "48000/48000 [==============================] - 2s - loss: 0.0930 - acc: 0.9714 - val_loss: 0.0846 - val_acc: 0.9753\n",
      "Epoch 151/200\n",
      "48000/48000 [==============================] - 2s - loss: 0.0918 - acc: 0.9727 - val_loss: 0.0845 - val_acc: 0.9757\n",
      "Epoch 152/200\n",
      "48000/48000 [==============================] - 2s - loss: 0.0891 - acc: 0.9731 - val_loss: 0.0842 - val_acc: 0.9758\n",
      "Epoch 153/200\n",
      "48000/48000 [==============================] - 2s - loss: 0.0906 - acc: 0.9724 - val_loss: 0.0843 - val_acc: 0.9755\n",
      "Epoch 154/200\n",
      "48000/48000 [==============================] - 2s - loss: 0.0901 - acc: 0.9730 - val_loss: 0.0847 - val_acc: 0.9756\n",
      "Epoch 155/200\n",
      "48000/48000 [==============================] - 2s - loss: 0.0909 - acc: 0.9723 - val_loss: 0.0842 - val_acc: 0.9754\n",
      "Epoch 156/200\n",
      "48000/48000 [==============================] - 2s - loss: 0.0930 - acc: 0.9715 - val_loss: 0.0844 - val_acc: 0.9758\n",
      "Epoch 157/200\n",
      "48000/48000 [==============================] - 2s - loss: 0.0901 - acc: 0.9724 - val_loss: 0.0843 - val_acc: 0.9758\n",
      "Epoch 158/200\n",
      "48000/48000 [==============================] - 2s - loss: 0.0902 - acc: 0.9732 - val_loss: 0.0837 - val_acc: 0.9761\n",
      "Epoch 159/200\n",
      "48000/48000 [==============================] - 2s - loss: 0.0901 - acc: 0.9727 - val_loss: 0.0837 - val_acc: 0.9759\n",
      "Epoch 160/200\n",
      "48000/48000 [==============================] - 2s - loss: 0.0886 - acc: 0.9723 - val_loss: 0.0834 - val_acc: 0.9767\n",
      "Epoch 161/200\n",
      "48000/48000 [==============================] - 2s - loss: 0.0871 - acc: 0.9733 - val_loss: 0.0830 - val_acc: 0.9766\n",
      "Epoch 162/200\n",
      "48000/48000 [==============================] - 2s - loss: 0.0855 - acc: 0.9740 - val_loss: 0.0834 - val_acc: 0.9758\n",
      "Epoch 163/200\n",
      "48000/48000 [==============================] - 2s - loss: 0.0872 - acc: 0.9730 - val_loss: 0.0836 - val_acc: 0.9763\n",
      "Epoch 164/200\n",
      "48000/48000 [==============================] - 2s - loss: 0.0875 - acc: 0.9737 - val_loss: 0.0833 - val_acc: 0.9760\n",
      "Epoch 165/200\n",
      "48000/48000 [==============================] - 2s - loss: 0.0856 - acc: 0.9736 - val_loss: 0.0840 - val_acc: 0.9761\n",
      "Epoch 166/200\n",
      "48000/48000 [==============================] - 2s - loss: 0.0877 - acc: 0.9730 - val_loss: 0.0829 - val_acc: 0.9760\n",
      "Epoch 167/200\n",
      "48000/48000 [==============================] - 2s - loss: 0.0858 - acc: 0.9732 - val_loss: 0.0827 - val_acc: 0.9767\n",
      "Epoch 168/200\n",
      "48000/48000 [==============================] - 2s - loss: 0.0819 - acc: 0.9746 - val_loss: 0.0833 - val_acc: 0.9763\n",
      "Epoch 169/200\n",
      "48000/48000 [==============================] - 2s - loss: 0.0840 - acc: 0.9739 - val_loss: 0.0825 - val_acc: 0.9763\n",
      "Epoch 170/200\n",
      "48000/48000 [==============================] - 2s - loss: 0.0839 - acc: 0.9743 - val_loss: 0.0826 - val_acc: 0.9758\n",
      "Epoch 171/200\n",
      "48000/48000 [==============================] - 2s - loss: 0.0842 - acc: 0.9736 - val_loss: 0.0821 - val_acc: 0.9760\n",
      "Epoch 172/200\n",
      "48000/48000 [==============================] - 2s - loss: 0.0841 - acc: 0.9740 - val_loss: 0.0822 - val_acc: 0.9765\n",
      "Epoch 173/200\n",
      "48000/48000 [==============================] - 2s - loss: 0.0842 - acc: 0.9740 - val_loss: 0.0821 - val_acc: 0.9768\n",
      "Epoch 174/200\n",
      "48000/48000 [==============================] - 2s - loss: 0.0852 - acc: 0.9743 - val_loss: 0.0819 - val_acc: 0.9766\n",
      "Epoch 175/200\n",
      "48000/48000 [==============================] - 2s - loss: 0.0831 - acc: 0.9748 - val_loss: 0.0820 - val_acc: 0.9763\n",
      "Epoch 176/200\n",
      "48000/48000 [==============================] - 2s - loss: 0.0817 - acc: 0.9743 - val_loss: 0.0821 - val_acc: 0.9768\n",
      "Epoch 177/200\n",
      "48000/48000 [==============================] - 2s - loss: 0.0813 - acc: 0.9748 - val_loss: 0.0822 - val_acc: 0.9763\n",
      "Epoch 178/200\n",
      "48000/48000 [==============================] - 2s - loss: 0.0816 - acc: 0.9750 - val_loss: 0.0816 - val_acc: 0.9764\n",
      "Epoch 179/200\n",
      "48000/48000 [==============================] - 2s - loss: 0.0824 - acc: 0.9742 - val_loss: 0.0818 - val_acc: 0.9766\n",
      "Epoch 180/200\n",
      "48000/48000 [==============================] - 2s - loss: 0.0797 - acc: 0.9755 - val_loss: 0.0824 - val_acc: 0.9764\n",
      "Epoch 181/200\n",
      "48000/48000 [==============================] - 2s - loss: 0.0816 - acc: 0.9747 - val_loss: 0.0818 - val_acc: 0.9769\n",
      "Epoch 182/200\n",
      "48000/48000 [==============================] - 2s - loss: 0.0800 - acc: 0.9751 - val_loss: 0.0815 - val_acc: 0.9768\n",
      "Epoch 183/200\n",
      "48000/48000 [==============================] - 2s - loss: 0.0813 - acc: 0.9748 - val_loss: 0.0813 - val_acc: 0.9767\n",
      "Epoch 184/200\n",
      "48000/48000 [==============================] - 2s - loss: 0.0787 - acc: 0.9756 - val_loss: 0.0810 - val_acc: 0.9768\n",
      "Epoch 185/200\n",
      "48000/48000 [==============================] - 2s - loss: 0.0798 - acc: 0.9749 - val_loss: 0.0816 - val_acc: 0.9770\n",
      "Epoch 186/200\n",
      "48000/48000 [==============================] - 3s - loss: 0.0798 - acc: 0.9753 - val_loss: 0.0809 - val_acc: 0.9774\n",
      "Epoch 187/200\n",
      "48000/48000 [==============================] - 2s - loss: 0.0784 - acc: 0.9753 - val_loss: 0.0817 - val_acc: 0.9766\n",
      "Epoch 188/200\n",
      "48000/48000 [==============================] - 3s - loss: 0.0787 - acc: 0.9757 - val_loss: 0.0809 - val_acc: 0.9771\n",
      "Epoch 189/200\n",
      "48000/48000 [==============================] - 2s - loss: 0.0788 - acc: 0.9755 - val_loss: 0.0809 - val_acc: 0.9768\n",
      "Epoch 190/200\n",
      "48000/48000 [==============================] - 2s - loss: 0.0766 - acc: 0.9762 - val_loss: 0.0804 - val_acc: 0.9778\n",
      "Epoch 191/200\n",
      "48000/48000 [==============================] - 2s - loss: 0.0767 - acc: 0.9764 - val_loss: 0.0805 - val_acc: 0.9774\n",
      "Epoch 192/200\n",
      "48000/48000 [==============================] - 2s - loss: 0.0767 - acc: 0.9757 - val_loss: 0.0809 - val_acc: 0.9773\n",
      "Epoch 193/200\n",
      "48000/48000 [==============================] - 2s - loss: 0.0792 - acc: 0.9751 - val_loss: 0.0799 - val_acc: 0.9778\n",
      "Epoch 194/200\n",
      "48000/48000 [==============================] - 2s - loss: 0.0792 - acc: 0.9747 - val_loss: 0.0807 - val_acc: 0.9773\n",
      "Epoch 195/200\n",
      "48000/48000 [==============================] - 2s - loss: 0.0764 - acc: 0.9765 - val_loss: 0.0808 - val_acc: 0.9770\n",
      "Epoch 196/200\n",
      "48000/48000 [==============================] - 2s - loss: 0.0772 - acc: 0.9758 - val_loss: 0.0806 - val_acc: 0.9773\n",
      "Epoch 197/200\n",
      "48000/48000 [==============================] - 2s - loss: 0.0777 - acc: 0.9756 - val_loss: 0.0805 - val_acc: 0.9775\n",
      "Epoch 198/200\n",
      "48000/48000 [==============================] - 2s - loss: 0.0755 - acc: 0.9764 - val_loss: 0.0806 - val_acc: 0.9779\n",
      "Epoch 199/200\n",
      "48000/48000 [==============================] - 2s - loss: 0.0751 - acc: 0.9766 - val_loss: 0.0804 - val_acc: 0.9773\n",
      "Epoch 200/200\n",
      "48000/48000 [==============================] - 3s - loss: 0.0747 - acc: 0.9768 - val_loss: 0.0803 - val_acc: 0.9777\n"
     ]
    }
   ],
   "source": [
    "time_start = time.clock()\n",
    "history = model.fit(X_train, y_train,\n",
    "                    batch_size=128,\n",
    "                    epochs=200,\n",
    "                    verbose=1,\n",
    "                    validation_split=0.2)\n",
    "time_end = time.clock()"
   ]
  },
  {
   "cell_type": "code",
   "execution_count": 10,
   "metadata": {
    "collapsed": false
   },
   "outputs": [
    {
     "name": "stdout",
     "output_type": "stream",
     "text": [
      "Time to train\n",
      "Time elapsed in seconds : 465\n",
      "Time elapsed in minutes : 7.8\n",
      "Time elapsed in hours   : 0.1\n"
     ]
    }
   ],
   "source": [
    "duration = time_end - time_start\n",
    "print(\"Time to train\")\n",
    "print(\"Time elapsed in seconds : %.0f\" % duration)\n",
    "print(\"Time elapsed in minutes : %.1f\" % (duration/60))\n",
    "print(\"Time elapsed in hours   : %.1f\" % (duration/3600))"
   ]
  },
  {
   "cell_type": "code",
   "execution_count": 11,
   "metadata": {
    "collapsed": false
   },
   "outputs": [
    {
     "name": "stdout",
     "output_type": "stream",
     "text": [
      " 9312/10000 [==========================>...] - ETA: 0s\n",
      "Test score: 0.0778098386523\n",
      "Test accuracy: 0.9776\n"
     ]
    }
   ],
   "source": [
    "score = model.evaluate(X_test, y_test,\n",
    "                       verbose=1)\n",
    "print(\"\")\n",
    "print(\"Test score:\", score[0])\n",
    "print(\"Test accuracy:\", score[1])"
   ]
  },
  {
   "cell_type": "code",
   "execution_count": 12,
   "metadata": {
    "collapsed": false
   },
   "outputs": [
    {
     "name": "stdout",
     "output_type": "stream",
     "text": [
      "dict_keys(['val_loss', 'acc', 'val_acc', 'loss'])\n"
     ]
    }
   ],
   "source": [
    "# list all data in history\n",
    "print(history.history.keys())"
   ]
  },
  {
   "cell_type": "code",
   "execution_count": 13,
   "metadata": {
    "collapsed": false
   },
   "outputs": [
    {
     "data": {
      "image/png": "[encoded data removed]",
      "text/plain": [
       "<matplotlib.figure.Figure at 0x2a7df11e748>"
      ]
     },
     "metadata": {},
     "output_type": "display_data"
    }
   ],
   "source": [
    "# Accuracy\n",
    "plt.plot(history.history[\"acc\"])\n",
    "plt.plot(history.history[\"val_acc\"])\n",
    "plt.title(\"model accuracy\")\n",
    "plt.ylabel(\"accuracy\")\n",
    "plt.xlabel(\"epoch\")\n",
    "plt.legend([\"train\", \"test\"], loc=\"lower left\")\n",
    "plt.show()"
   ]
  },
  {
   "cell_type": "code",
   "execution_count": 14,
   "metadata": {
    "collapsed": false
   },
   "outputs": [
    {
     "data": {
      "image/png": "[encoded data removed]",
      "text/plain": [
       "<matplotlib.figure.Figure at 0x2a7df2639b0>"
      ]
     },
     "metadata": {},
     "output_type": "display_data"
    }
   ],
   "source": [
    "# Loss\n",
    "plt.plot(history.history[\"loss\"])\n",
    "plt.plot(history.history[\"val_loss\"])\n",
    "plt.title(\"model loss\")\n",
    "plt.ylabel(\"loss\")\n",
    "plt.xlabel(\"epoch\")\n",
    "plt.legend([\"train\", \"test\"], loc=\"upper left\")\n",
    "plt.show()"
   ]
  }
 ],
 "metadata": {
  "anaconda-cloud": {},
  "kernelspec": {
   "display_name": "Python [default]",
   "language": "python",
   "name": "python3"
  },
  "language_info": {
   "codemirror_mode": {
    "name": "ipython",
    "version": 3
   },
   "file_extension": ".py",
   "mimetype": "text/x-python",
   "name": "python",
   "nbconvert_exporter": "python",
   "pygments_lexer": "ipython3",
   "version": "3.5.2"
  }
 },
 "nbformat": 4,
 "nbformat_minor": 1
}
